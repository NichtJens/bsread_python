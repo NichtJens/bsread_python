{
 "cells": [
  {
   "cell_type": "code",
   "execution_count": 6,
   "metadata": {
    "collapsed": true
   },
   "outputs": [],
   "source": [
    "# [1] Start Sources\n",
    "# [2] Start Node Manager\n",
    "# [3] Start Cluster Manager\n",
    "\n",
    "# This API is described at https://git.psi.ch/sf_daq/ch.psi.daq.dispatcherrest\n",
    "\n",
    "import requests\n",
    "import json"
   ]
  },
  {
   "cell_type": "code",
   "execution_count": 9,
   "metadata": {
    "collapsed": true
   },
   "outputs": [],
   "source": [
    "# base_url = 'http://localhost:8080'\n",
    "base_url = 'http://dispatcher-api.psi.ch/sf'"
   ]
  },
  {
   "cell_type": "code",
   "execution_count": 4,
   "metadata": {
    "collapsed": false
   },
   "outputs": [
    {
     "name": "stdout",
     "output_type": "stream",
     "text": [
      "<Response [200]>\n",
      "\n"
     ]
    }
   ],
   "source": [
    "# Configure a source\n",
    "config = {\"sources\": [{\"stream\": \"tcp://localhost:9999\"}]}\n",
    "headers = {'content-type': 'application/json'}\n",
    "response = requests.post(base_url+'/sources', data=json.dumps(config), headers=headers)\n",
    "print(response)\n",
    "print(response.text)"
   ]
  },
  {
   "cell_type": "code",
   "execution_count": 7,
   "metadata": {
    "collapsed": false
   },
   "outputs": [
    {
     "data": {
      "text/plain": [
       "True"
      ]
     },
     "execution_count": 7,
     "metadata": {},
     "output_type": "execute_result"
    }
   ],
   "source": [
    "response.ok"
   ]
  },
  {
   "cell_type": "code",
   "execution_count": 13,
   "metadata": {
    "collapsed": false
   },
   "outputs": [
    {
     "name": "stdout",
     "output_type": "stream",
     "text": [
      "<Response [200]>\n",
      "[{\"stream\":\"tcp://SINDI01-CVME-LLRF1:20000\"},{\"stream\":\"tcp://SINEG01-CVME-LLRF2:20000\"},{\"stream\":\"tcp://SINEG01-CVME-LLRF1:20000\"},{\"stream\":\"tcp://S10CB01-CVME-LLRF2:20000\"},{\"stream\":\"tcp://SINSB01-CVME-LLRF2:20000\"},{\"stream\":\"tcp://SINSB02-CVME-LLRF2:20000\"},{\"stream\":\"tcp://SINDI01-CVME-LLRF2:20000\"},{\"stream\":\"tcp://SINSB01-CVME-LLRF1:20000\"},{\"stream\":\"tcp://SINSB02-CVME-LLRF1:20000\"},{\"stream\":\"tcp://S10CB01-CVME-LLRF1:20000\"},{\"stream\":\"tcp://SIN-CVME-LAS0071:9999\"},{\"stream\":\"tcp://SIN-CVME-LAS0041:9999\"},{\"stream\":\"tcp://SIN-CVME-LAS0042:9999\"},{\"stream\":\"tcp://SINLH02-CVME-DBLM018:9999\"}]\n"
     ]
    }
   ],
   "source": [
    "# Get currently configured sources\n",
    "response = requests.get(base_url+'/sources')\n",
    "print(response)\n",
    "print(response.text)"
   ]
  },
  {
   "cell_type": "code",
   "execution_count": 30,
   "metadata": {
    "collapsed": false
   },
   "outputs": [
    {
     "name": "stdout",
     "output_type": "stream",
     "text": [
      "<Response [200]>\n",
      "\n"
     ]
    }
   ],
   "source": [
    "# Delete source\n",
    "config = {\"sources\": [{\"stream\": \"tcp://localhost:9999\"}]}\n",
    "headers = {'content-type': 'application/json'}\n",
    "response = requests.delete(base_url+'/sources', data=json.dumps(config), headers=headers)\n",
    "print(response)\n",
    "print(response.text)"
   ]
  },
  {
   "cell_type": "code",
   "execution_count": 99,
   "metadata": {
    "collapsed": false
   },
   "outputs": [
    {
     "name": "stdout",
     "output_type": "stream",
     "text": [
      "<Response [200]>\n",
      "{\"stream\":\"tcp://pineapple.psi.ch:50967\",\"configuration\":{\"streamType\":\"push_pull\",\"channels\":[{\"name\":\"Int16Waveform\",\"backend\":\"sf-databuffer\"},{\"name\":\"UInt16Waveform\",\"backend\":\"sf-databuffer\"}]}}\n"
     ]
    }
   ],
   "source": [
    "# Request stream\n",
    "config = {\"channels\":[{\"name\":\"Int16Waveform\"},{\"name\":\"UInt16Waveform\"}], \"streamType\":\"push_pull\"}\n",
    "headers = {'content-type': 'application/json'}\n",
    "response = requests.post(base_url+'/stream', data=json.dumps(config), headers=headers)\n",
    "print(response)\n",
    "print(response.text)"
   ]
  },
  {
   "cell_type": "code",
   "execution_count": 98,
   "metadata": {
    "collapsed": false
   },
   "outputs": [
    {
     "name": "stdout",
     "output_type": "stream",
     "text": [
      "<Response [200]>\n",
      "[]\n"
     ]
    }
   ],
   "source": [
    "# Get streams currently requested\n",
    "response = requests.get(base_url+'/streams')\n",
    "print(response)\n",
    "print(response.text)"
   ]
  },
  {
   "cell_type": "code",
   "execution_count": 57,
   "metadata": {
    "collapsed": false
   },
   "outputs": [
    {
     "name": "stdout",
     "output_type": "stream",
     "text": [
      "<Response [200]>\n",
      "\n"
     ]
    }
   ],
   "source": [
    "# Delete stream\n",
    "\n",
    "config = \"tcp://pineapple.psi.ch:50805\"\n",
    "headers = {'content-type': 'application/json'}\n",
    "response = requests.delete(base_url+'/stream', data=json.dumps(config), headers=headers)\n",
    "\n",
    "# config = \"tcp://pineapple.psi.ch:50727\"\n",
    "# headers = {'content-type': 'text/plain'}\n",
    "# response = requests.delete(base_url+'/stream', data=config, headers=headers)\n",
    "print(response)\n",
    "print(response.text)"
   ]
  },
  {
   "cell_type": "code",
   "execution_count": 103,
   "metadata": {
    "collapsed": false
   },
   "outputs": [
    {
     "ename": "ImportError",
     "evalue": "No module named 'bsread'",
     "output_type": "error",
     "traceback": [
      "\u001b[0;31m---------------------------------------------------------------------------\u001b[0m",
      "\u001b[0;31mImportError\u001b[0m                               Traceback (most recent call last)",
      "\u001b[0;32m<ipython-input-103-7c1f0b531425>\u001b[0m in \u001b[0;36m<module>\u001b[0;34m()\u001b[0m\n\u001b[1;32m      1\u001b[0m \u001b[0;31m# Receiver Stream\u001b[0m\u001b[0;34m\u001b[0m\u001b[0;34m\u001b[0m\u001b[0m\n\u001b[0;32m----> 2\u001b[0;31m \u001b[0;32mimport\u001b[0m \u001b[0mbsread\u001b[0m\u001b[0;34m\u001b[0m\u001b[0m\n\u001b[0m\u001b[1;32m      3\u001b[0m \u001b[0;32mimport\u001b[0m \u001b[0mzmq\u001b[0m\u001b[0;34m\u001b[0m\u001b[0m\n\u001b[1;32m      4\u001b[0m \u001b[0;32mimport\u001b[0m \u001b[0msys\u001b[0m\u001b[0;34m\u001b[0m\u001b[0m\n\u001b[1;32m      5\u001b[0m \u001b[0;34m\u001b[0m\u001b[0m\n",
      "\u001b[0;31mImportError\u001b[0m: No module named 'bsread'"
     ]
    }
   ],
   "source": [
    "# Receiver Stream\n",
    "import bsread\n",
    "import zmq\n",
    "import sys\n",
    "\n",
    "def receive(source):\n",
    "    receiver = bsread.Bsread(mode=zmq.PULL)\n",
    "    receiver.connect(address=source, conn_type=\"connect\", )\n",
    "\n",
    "    for i in range(10):\n",
    "        message_data = receiver.receive()\n",
    "        if message_data['header']['pulse_id'] % 10 == 0:\n",
    "            sys.stderr.write(\"\\x1b[2J\\x1b[H\")\n",
    "        if \"data_header\" in message_data:\n",
    "            print(\"Data Header: \", message_data['data_header'])\n",
    "        print(message_data['data'],  message_data['timestamp'], message_data['header'])"
   ]
  },
  {
   "cell_type": "code",
   "execution_count": 96,
   "metadata": {
    "collapsed": false
   },
   "outputs": [
    {
     "ename": "NameError",
     "evalue": "name 'receive' is not defined",
     "output_type": "error",
     "traceback": [
      "\u001b[0;31m---------------------------------------------------------------------------\u001b[0m",
      "\u001b[0;31mNameError\u001b[0m                                 Traceback (most recent call last)",
      "\u001b[0;32m<ipython-input-96-5e600b6a5654>\u001b[0m in \u001b[0;36m<module>\u001b[0;34m()\u001b[0m\n\u001b[1;32m      1\u001b[0m \u001b[0msource_\u001b[0m \u001b[0;34m=\u001b[0m \u001b[0mresponse\u001b[0m\u001b[0;34m.\u001b[0m\u001b[0mjson\u001b[0m\u001b[0;34m(\u001b[0m\u001b[0;34m)\u001b[0m\u001b[0;34m[\u001b[0m\u001b[0;34m'stream'\u001b[0m\u001b[0;34m]\u001b[0m  \u001b[0;31m# 'tcp://gfa-lc6-64:9999'\u001b[0m\u001b[0;34m\u001b[0m\u001b[0m\n\u001b[0;32m----> 2\u001b[0;31m \u001b[0mreceive\u001b[0m\u001b[0;34m(\u001b[0m\u001b[0msource_\u001b[0m\u001b[0;34m)\u001b[0m\u001b[0;34m\u001b[0m\u001b[0m\n\u001b[0m",
      "\u001b[0;31mNameError\u001b[0m: name 'receive' is not defined"
     ]
    }
   ],
   "source": [
    "source_ = response.json()['stream']  # 'tcp://gfa-lc6-64:9999'\n",
    "receive(source_)"
   ]
  }
 ],
 "metadata": {
  "kernelspec": {
   "display_name": "Python 3",
   "language": "python",
   "name": "python3"
  },
  "language_info": {
   "codemirror_mode": {
    "name": "ipython",
    "version": 3
   },
   "file_extension": ".py",
   "mimetype": "text/x-python",
   "name": "python",
   "nbconvert_exporter": "python",
   "pygments_lexer": "ipython3",
   "version": "3.5.2"
  }
 },
 "nbformat": 4,
 "nbformat_minor": 0
}

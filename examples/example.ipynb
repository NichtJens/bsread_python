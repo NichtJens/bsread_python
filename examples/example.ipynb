{
 "cells": [
  {
   "cell_type": "code",
   "execution_count": 1,
   "metadata": {
    "collapsed": true
   },
   "outputs": [],
   "source": [
    "from bsread import source"
   ]
  },
  {
   "cell_type": "code",
   "execution_count": 2,
   "metadata": {
    "collapsed": false
   },
   "outputs": [
    {
     "name": "stdout",
     "output_type": "stream",
     "text": [
      "<mflow.mflow.Message object at 0x1090deac8>\n",
      "<mflow.mflow.Message object at 0x1090e9940>\n",
      "<mflow.mflow.Message object at 0x1090deac8>\n",
      "<mflow.mflow.Message object at 0x1090e9940>\n",
      "<mflow.mflow.Message object at 0x1090deac8>\n",
      "<mflow.mflow.Message object at 0x1090f1da0>\n",
      "<mflow.mflow.Message object at 0x1090deac8>\n",
      "<mflow.mflow.Message object at 0x10445fda0>\n",
      "<mflow.mflow.Message object at 0x1090deac8>\n",
      "<mflow.mflow.Message object at 0x1090f1cf8>\n"
     ]
    }
   ],
   "source": [
    "with source('sf-lc', 7777) as stream:\n",
    "    for i in range(10):\n",
    "        message = stream.receive()\n",
    "        print(message)"
   ]
  },
  {
   "cell_type": "code",
   "execution_count": 2,
   "metadata": {
    "collapsed": true
   },
   "outputs": [],
   "source": [
    "from bsread import source\n",
    "import bsread"
   ]
  },
  {
   "cell_type": "code",
   "execution_count": null,
   "metadata": {
    "collapsed": false
   },
   "outputs": [
    {
     "name": "stderr",
     "output_type": "stream",
     "text": [
      "[mflow.mflow][WARNING] Unable to decode message - skipping\n"
     ]
    },
    {
     "name": "stdout",
     "output_type": "stream",
     "text": [
      "<mflow.mflow.Message object at 0x1094b5be0>\n"
     ]
    }
   ],
   "source": [
    "with source(channels=['UInt16Waveform'], dispatcher_url='http://localhost:8080') as stream:\n",
    "    for i in range(10):\n",
    "        message = stream.receive()\n",
    "        print(message)"
   ]
  },
  {
   "cell_type": "code",
   "execution_count": null,
   "metadata": {
    "collapsed": true
   },
   "outputs": [],
   "source": [
    ""
   ]
  }
 ],
 "metadata": {
  "kernelspec": {
   "display_name": "Python 3",
   "language": "python",
   "name": "python3"
  },
  "language_info": {
   "codemirror_mode": {
    "name": "ipython",
    "version": 3.0
   },
   "file_extension": ".py",
   "mimetype": "text/x-python",
   "name": "python",
   "nbconvert_exporter": "python",
   "pygments_lexer": "ipython3",
   "version": "3.5.2"
  }
 },
 "nbformat": 4,
 "nbformat_minor": 0
}
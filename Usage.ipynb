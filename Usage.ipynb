{
 "cells": [
  {
   "cell_type": "code",
   "execution_count": 2,
   "metadata": {
    "collapsed": true
   },
   "outputs": [],
   "source": [
    "from bsread import source\n",
    "from bsread import SUB\n",
    "from bsread import PULL"
   ]
  },
  {
   "cell_type": "code",
   "execution_count": 3,
   "metadata": {
    "collapsed": false
   },
   "outputs": [
    {
     "name": "stdout",
     "output_type": "stream",
     "text": [
      "tcp://localhost:55076\n",
      "61776\n",
      "{'global_timestamp': 1474373184, 'data': OrderedDict([('UInt16Waveform', <bsread.handlers.compact.Value object at 0x109422eb8>)]), 'format_changed': True, 'pulse_id': 147437318480, 'global_timestamp_offset': 803318484}\n",
      "61777\n",
      "{'global_timestamp': 1474373184, 'data': OrderedDict([('UInt16Waveform', <bsread.handlers.compact.Value object at 0x109422a90>)]), 'format_changed': False, 'pulse_id': 147437318481, 'global_timestamp_offset': 813318485}\n",
      "61778\n",
      "{'global_timestamp': 1474373184, 'data': OrderedDict([('UInt16Waveform', <bsread.handlers.compact.Value object at 0x1094144a8>)]), 'format_changed': False, 'pulse_id': 147437318482, 'global_timestamp_offset': 823318486}\n",
      "61779\n",
      "{'global_timestamp': 1474373184, 'data': OrderedDict([('UInt16Waveform', <bsread.handlers.compact.Value object at 0x10943c240>)]), 'format_changed': False, 'pulse_id': 147437318483, 'global_timestamp_offset': 833318487}\n",
      "61780\n",
      "{'global_timestamp': 1474373184, 'data': OrderedDict([('UInt16Waveform', <bsread.handlers.compact.Value object at 0x10943c588>)]), 'format_changed': False, 'pulse_id': 147437318484, 'global_timestamp_offset': 843318488}\n",
      "61781\n",
      "{'global_timestamp': 1474373184, 'data': OrderedDict([('UInt16Waveform', <bsread.handlers.compact.Value object at 0x10943ccf8>)]), 'format_changed': False, 'pulse_id': 147437318485, 'global_timestamp_offset': 853318489}\n",
      "61782\n",
      "{'global_timestamp': 1474373184, 'data': OrderedDict([('UInt16Waveform', <bsread.handlers.compact.Value object at 0x10943c898>)]), 'format_changed': False, 'pulse_id': 147437318486, 'global_timestamp_offset': 863318490}\n",
      "61783\n",
      "{'global_timestamp': 1474373184, 'data': OrderedDict([('UInt16Waveform', <bsread.handlers.compact.Value object at 0x10943c470>)]), 'format_changed': False, 'pulse_id': 147437318487, 'global_timestamp_offset': 873318491}\n",
      "61784\n",
      "{'global_timestamp': 1474373184, 'data': OrderedDict([('UInt16Waveform', <bsread.handlers.compact.Value object at 0x10943c240>)]), 'format_changed': False, 'pulse_id': 147437318488, 'global_timestamp_offset': 883318492}\n",
      "61785\n",
      "{'global_timestamp': 1474373184, 'data': OrderedDict([('UInt16Waveform', <bsread.handlers.compact.Value object at 0x10943c588>)]), 'format_changed': False, 'pulse_id': 147437318489, 'global_timestamp_offset': 893318493}\n",
      "tcp://psivpn128.psi.ch:55076\n",
      "done\n"
     ]
    }
   ],
   "source": [
    "with source(channels=['UInt16Waveform'], dispatcher_url='http://localhost:8080', mode=PULL) as stream:\n",
    "    for i in range(10):\n",
    "        message = stream.receive()\n",
    "        print(message.data.data['UInt16Waveform'].value[0])\n",
    "        print(message.data.__dict__)\n",
    "print('done')"
   ]
  },
  {
   "cell_type": "code",
   "execution_count": 9,
   "metadata": {
    "collapsed": false
   },
   "outputs": [
    {
     "data": {
      "text/plain": [
       "dtype('float64')"
      ]
     },
     "execution_count": 9,
     "metadata": {},
     "output_type": "execute_result"
    }
   ],
   "source": [
    "import numpy\n",
    "\n",
    "xar = numpy.arange(50)\n",
    "yar = numpy.random.rand(50)\n",
    "yar.dtype"
   ]
  },
  {
   "cell_type": "code",
   "execution_count": 49,
   "metadata": {
    "collapsed": false
   },
   "outputs": [
    {
     "name": "stdout",
     "output_type": "stream",
     "text": [
      "Using matplotlib backend: MacOSX\n"
     ]
    }
   ],
   "source": [
    "%matplotlib\n",
    "import matplotlib.pyplot as plt\n",
    "import time\n",
    "import random\n",
    "\n",
    "fig = plt.figure()\n",
    "ax1 = fig.add_subplot(1,1,1)\n",
    "\n",
    "# line1 = ax1.plot(xar, yar)\n",
    "# plt.show()\n",
    "\n",
    "# plt.axis([0, 10, 0, 1])\n",
    "# plt.ion()"
   ]
  },
  {
   "cell_type": "code",
   "execution_count": 20,
   "metadata": {
    "collapsed": false
   },
   "outputs": [
    {
     "name": "stdout",
     "output_type": "stream",
     "text": [
      "tcp://localhost:57246\n",
      "'type' channel field not found. Parse as 64-bit floating-point number (default).\n",
      "tcp://psivpn128.psi.ch:57246\n",
      "done\n"
     ]
    }
   ],
   "source": [
    "count = 0\n",
    "with source(channels=['Float64Waveform'], dispatcher_url='http://localhost:8080', mode=PULL) as stream:\n",
    "    for i in range(1000):\n",
    "        message = stream.receive()\n",
    "        value = message.data.data['Float64Waveform'].value[0]\n",
    "#         line1.append(value)\n",
    "#         print(value)\n",
    "        yar[(count%50)] = value\n",
    "#         if (count % 200) == 0:\n",
    "#             print('plot')\n",
    "#             ax1.clear()\n",
    "#             ax1.plot(xar, yar)\n",
    "        count += 1\n",
    "#         plt.scatter(count, value)\n",
    "        ax1.scatter(count,value)\n",
    "        if count % 100 == 0:\n",
    "            plt.pause(0.001)\n",
    "#         if count % 200 == 0:\n",
    "#             ax1.clear()\n",
    "#         line1.set_data(message.data.data['UInt16Waveform'].value)\n",
    "print('done')"
   ]
  },
  {
   "cell_type": "code",
   "execution_count": null,
   "metadata": {
    "collapsed": false
   },
   "outputs": [
    {
     "name": "stdout",
     "output_type": "stream",
     "text": [
      "tcp://sf-daqbuf-23.psi.ch:52928\n"
     ]
    }
   ],
   "source": [
    "from bsread import source\n",
    "with source(channels=['SINEG01-RGUN-PUP10:SIG-AMPLT-AVG', 'SINEG01-RGUN-PUP20:SIG-AMPLT-AVG']) as stream:\n",
    "    for i in range(10):\n",
    "        message = stream.receive()\n",
    "        print(message)\n",
    "print('done')"
   ]
  },
  {
   "cell_type": "code",
   "execution_count": 5,
   "metadata": {
    "collapsed": false
   },
   "outputs": [
    {
     "data": {
      "text/plain": [
       "[<matplotlib.lines.Line2D at 0x10f35b198>]"
      ]
     },
     "execution_count": 5,
     "metadata": {},
     "output_type": "execute_result"
    }
   ],
   "source": [
    "line1.append"
   ]
  },
  {
   "cell_type": "code",
   "execution_count": 29,
   "metadata": {
    "collapsed": false
   },
   "outputs": [
    {
     "data": {
      "text/plain": [
       "<matplotlib.axes._subplots.AxesSubplot at 0x113220be0>"
      ]
     },
     "execution_count": 29,
     "metadata": {},
     "output_type": "execute_result"
    }
   ],
   "source": [
    "plt.gca()"
   ]
  },
  {
   "cell_type": "code",
   "execution_count": 53,
   "metadata": {
    "collapsed": false
   },
   "outputs": [],
   "source": [
    "axis = ax1.plot(yar+30)"
   ]
  },
  {
   "cell_type": "code",
   "execution_count": 54,
   "metadata": {
    "collapsed": false
   },
   "outputs": [],
   "source": [
    "ax1.clear()"
   ]
  },
  {
   "cell_type": "code",
   "execution_count": 47,
   "metadata": {
    "collapsed": true
   },
   "outputs": [],
   "source": [
    "plt.pause(0.01)"
   ]
  },
  {
   "cell_type": "code",
   "execution_count": null,
   "metadata": {
    "collapsed": true
   },
   "outputs": [],
   "source": []
  }
 ],
 "metadata": {
  "kernelspec": {
   "display_name": "Python 3",
   "language": "python",
   "name": "python3"
  },
  "language_info": {
   "codemirror_mode": {
    "name": "ipython",
    "version": 3
   },
   "file_extension": ".py",
   "mimetype": "text/x-python",
   "name": "python",
   "nbconvert_exporter": "python",
   "pygments_lexer": "ipython3",
   "version": "3.5.2"
  }
 },
 "nbformat": 4,
 "nbformat_minor": 0
}

{
 "metadata": {
  "name": "",
  "signature": "sha256:238b61f0c14f2ddf3c486e9a85f0d6b5b7c2bcbecab9c02136b46718691c8130"
 },
 "nbformat": 3,
 "nbformat_minor": 0,
 "worksheets": [
  {
   "cells": [
    {
     "cell_type": "code",
     "collapsed": false,
     "input": [
      "# [1] Start Sources\n",
      "# [2] Start Node Manager\n",
      "# [3] Start Cluster Manager"
     ],
     "language": "python",
     "metadata": {},
     "outputs": [],
     "prompt_number": 5
    },
    {
     "cell_type": "code",
     "collapsed": false,
     "input": [
      "base_url = 'http://localhost:8080'"
     ],
     "language": "python",
     "metadata": {},
     "outputs": [],
     "prompt_number": 44
    },
    {
     "cell_type": "code",
     "collapsed": false,
     "input": [
      "import requests\n",
      "import json"
     ],
     "language": "python",
     "metadata": {},
     "outputs": [],
     "prompt_number": 14
    },
    {
     "cell_type": "code",
     "collapsed": false,
     "input": [
      "# Configure receivers\n",
      "config = [{\"name\": \"group_1\", \"sources\": [{\"stream\": \"tcp://localhost:9001\"}, {\"stream\": \"tcp://localhost:9002\"}]}]\n",
      "headers = {'content-type': 'application/json'}\n",
      "response = requests.post(base_url+'/config', data=json.dumps(config), headers=headers)"
     ],
     "language": "python",
     "metadata": {},
     "outputs": [
      {
       "output_type": "stream",
       "stream": "stdout",
       "text": [
        "<Response [200]>\n"
       ]
      }
     ],
     "prompt_number": 27
    },
    {
     "cell_type": "code",
     "collapsed": false,
     "input": [
      "# Check response\n",
      "print response"
     ],
     "language": "python",
     "metadata": {},
     "outputs": [
      {
       "metadata": {},
       "output_type": "pyout",
       "prompt_number": 30,
       "text": [
        "<Response [200]>"
       ]
      }
     ],
     "prompt_number": 30
    },
    {
     "cell_type": "code",
     "collapsed": false,
     "input": [
      "# Get currently configured receivers\n",
      "response = requests.get(base_url+'/configuration')\n",
      "print response.text"
     ],
     "language": "python",
     "metadata": {},
     "outputs": [
      {
       "output_type": "stream",
       "stream": "stdout",
       "text": [
        "{\"5dfcd7bf-8464-4f7b-99e3-4ffcc6a40fa1\":[\"tcp://localhost:9001\",\"tcp://localhost:9002\"]}\n"
       ]
      }
     ],
     "prompt_number": 45
    },
    {
     "cell_type": "code",
     "collapsed": false,
     "input": [
      "# Request stream\n",
      "config = {\"channels\": [{\"name\": \"TESTSOURCE_1_COS\"}, {\"name\": \"TESTSOURCE_2_SIN\"}]}\n",
      "headers = {'content-type': 'application/json'}\n",
      "response = requests.put(base_url+'/streams/test', data=json.dumps(config), headers=headers)\n"
     ],
     "language": "python",
     "metadata": {},
     "outputs": [],
     "prompt_number": 33
    },
    {
     "cell_type": "code",
     "collapsed": false,
     "input": [
      "# Check response\n",
      "print response"
     ],
     "language": "python",
     "metadata": {},
     "outputs": [
      {
       "ename": "NameError",
       "evalue": "name 'response' is not defined",
       "output_type": "pyerr",
       "traceback": [
        "\u001b[0;31m---------------------------------------------------------------------------\u001b[0m\n\u001b[0;31mNameError\u001b[0m                                 Traceback (most recent call last)",
        "\u001b[0;32m<ipython-input-4-c203d6c3cb91>\u001b[0m in \u001b[0;36m<module>\u001b[0;34m()\u001b[0m\n\u001b[1;32m      1\u001b[0m \u001b[0;31m# Check response\u001b[0m\u001b[0;34m\u001b[0m\u001b[0;34m\u001b[0m\u001b[0m\n\u001b[0;32m----> 2\u001b[0;31m \u001b[0;32mprint\u001b[0m \u001b[0mresponse\u001b[0m\u001b[0;34m\u001b[0m\u001b[0m\n\u001b[0m",
        "\u001b[0;31mNameError\u001b[0m: name 'response' is not defined"
       ]
      }
     ],
     "prompt_number": 4
    },
    {
     "cell_type": "code",
     "collapsed": false,
     "input": [
      "# Get streams currently requested\n",
      "response = requests.get(base_url+'/streams')\n",
      "print response.text"
     ],
     "language": "python",
     "metadata": {},
     "outputs": [
      {
       "output_type": "stream",
       "stream": "stdout",
       "text": [
        "{\"test\":{\"url\":\"tcp://pineapple.psi.ch:51227\",\"configuration\":{\"channels\":[{\"name\":\"TESTSOURCE_1_COS\",\"offset\":0,\"frequency\":100},{\"name\":\"TESTSOURCE_2_SIN\",\"offset\":0,\"frequency\":100}]}}}\n"
       ]
      }
     ],
     "prompt_number": 46
    },
    {
     "cell_type": "code",
     "collapsed": false,
     "input": [
      "# Receiver Stream\n",
      "import bsread\n",
      "import zmq\n",
      "import sys\n",
      "\n",
      "def receive(source):\n",
      "    receiver = bsread.Bsread(mode=zmq.PULL)\n",
      "    receiver.connect(address=source, conn_type=\"connect\", )\n",
      "\n",
      "    while True:\n",
      "        message_data = receiver.receive()\n",
      "        if message_data['header']['pulse_id'] % 10 == 0:\n",
      "            sys.stderr.write(\"\\x1b[2J\\x1b[H\")\n",
      "        if \"data_header\" in message_data:\n",
      "            print \"Data Header: \", message_data['data_header']\n",
      "        print message_data['data'],  message_data['timestamp'], message_data['header']"
     ],
     "language": "python",
     "metadata": {},
     "outputs": [],
     "prompt_number": 11
    },
    {
     "cell_type": "code",
     "collapsed": false,
     "input": [
      "source_ = 'tcp://pineapple.psi.ch:51227'  # 'tcp://gfa-lc6-64:9999'\n",
      "receive(source_)"
     ],
     "language": "python",
     "metadata": {},
     "outputs": []
    },
    {
     "cell_type": "code",
     "collapsed": false,
     "input": [],
     "language": "python",
     "metadata": {},
     "outputs": []
    }
   ],
   "metadata": {}
  }
 ]
}
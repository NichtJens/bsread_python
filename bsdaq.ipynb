{
 "metadata": {
  "name": "",
  "signature": "sha256:092a63bfc782f7347c77655de2c70c7933db8c97e3e9fa3ac5fe0a516e36c14c"
 },
 "nbformat": 3,
 "nbformat_minor": 0,
 "worksheets": [
  {
   "cells": [
    {
     "cell_type": "code",
     "collapsed": false,
     "input": [
      "# [1] Start Sources\n",
      "# [2] Start Node Manager\n",
      "# [3] Start Cluster Manager"
     ],
     "language": "python",
     "metadata": {},
     "outputs": [],
     "prompt_number": 5
    },
    {
     "cell_type": "code",
     "collapsed": false,
     "input": [
      "base_url = 'http://localhost:8080'"
     ],
     "language": "python",
     "metadata": {},
     "outputs": [],
     "prompt_number": 44
    },
    {
     "cell_type": "code",
     "collapsed": false,
     "input": [
      "import requests\n",
      "import json"
     ],
     "language": "python",
     "metadata": {},
     "outputs": [],
     "prompt_number": 14
    },
    {
     "cell_type": "code",
     "collapsed": false,
     "input": [
      "# Configure receivers\n",
      "config = [{\"name\": \"group_1\", \"sources\": [{\"stream\": \"tcp://localhost:9001\"}, {\"stream\": \"tcp://localhost:9002\"}]}]\n",
      "headers = {'content-type': 'application/json'}\n",
      "response = requests.post(base_url+'/config', data=json.dumps(config), headers=headers)"
     ],
     "language": "python",
     "metadata": {},
     "outputs": [
      {
       "output_type": "stream",
       "stream": "stdout",
       "text": [
        "<Response [200]>\n"
       ]
      }
     ],
     "prompt_number": 27
    },
    {
     "cell_type": "code",
     "collapsed": false,
     "input": [
      "# Check response\n",
      "print response"
     ],
     "language": "python",
     "metadata": {},
     "outputs": [
      {
       "metadata": {},
       "output_type": "pyout",
       "prompt_number": 30,
       "text": [
        "<Response [200]>"
       ]
      }
     ],
     "prompt_number": 30
    },
    {
     "cell_type": "code",
     "collapsed": false,
     "input": [
      "# Get currently configured receivers\n",
      "response = requests.get(base_url+'/configuration')\n",
      "print response.text"
     ],
     "language": "python",
     "metadata": {},
     "outputs": [
      {
       "output_type": "stream",
       "stream": "stdout",
       "text": [
        "{\"5dfcd7bf-8464-4f7b-99e3-4ffcc6a40fa1\":[\"tcp://localhost:9001\",\"tcp://localhost:9002\"]}\n"
       ]
      }
     ],
     "prompt_number": 45
    },
    {
     "cell_type": "code",
     "collapsed": false,
     "input": [
      "# Request stream\n",
      "config = {\"channels\": [{\"name\": \"TESTSOURCE_1_COS\"}, {\"name\": \"TESTSOURCE_2_SIN\"}]}\n",
      "headers = {'content-type': 'application/json'}\n",
      "response = requests.put(base_url+'/streams/test', data=json.dumps(config), headers=headers)\n"
     ],
     "language": "python",
     "metadata": {},
     "outputs": [],
     "prompt_number": 33
    },
    {
     "cell_type": "code",
     "collapsed": false,
     "input": [
      "# Check response\n",
      "print response"
     ],
     "language": "python",
     "metadata": {},
     "outputs": [
      {
       "ename": "NameError",
       "evalue": "name 'response' is not defined",
       "output_type": "pyerr",
       "traceback": [
        "\u001b[0;31m---------------------------------------------------------------------------\u001b[0m\n\u001b[0;31mNameError\u001b[0m                                 Traceback (most recent call last)",
        "\u001b[0;32m<ipython-input-4-c203d6c3cb91>\u001b[0m in \u001b[0;36m<module>\u001b[0;34m()\u001b[0m\n\u001b[1;32m      1\u001b[0m \u001b[0;31m# Check response\u001b[0m\u001b[0;34m\u001b[0m\u001b[0;34m\u001b[0m\u001b[0m\n\u001b[0;32m----> 2\u001b[0;31m \u001b[0;32mprint\u001b[0m \u001b[0mresponse\u001b[0m\u001b[0;34m\u001b[0m\u001b[0m\n\u001b[0m",
        "\u001b[0;31mNameError\u001b[0m: name 'response' is not defined"
       ]
      }
     ],
     "prompt_number": 4
    },
    {
     "cell_type": "code",
     "collapsed": false,
     "input": [
      "# Get streams currently requested\n",
      "response = requests.get(base_url+'/streams')\n",
      "print response.text"
     ],
     "language": "python",
     "metadata": {},
     "outputs": [
      {
       "output_type": "stream",
       "stream": "stdout",
       "text": [
        "{\"test\":{\"url\":\"tcp://pineapple.psi.ch:51227\",\"configuration\":{\"channels\":[{\"name\":\"TESTSOURCE_1_COS\",\"offset\":0,\"frequency\":100},{\"name\":\"TESTSOURCE_2_SIN\",\"offset\":0,\"frequency\":100}]}}}\n"
       ]
      }
     ],
     "prompt_number": 46
    },
    {
     "cell_type": "code",
     "collapsed": false,
     "input": [
      "# Receiver Stream\n",
      "import bsread\n",
      "import zmq\n",
      "import sys\n",
      "\n",
      "def receive(source):\n",
      "    receiver = bsread.Bsread(mode=zmq.PULL)\n",
      "    receiver.connect(address=source, conn_type=\"connect\", )\n",
      "\n",
      "    while True:\n",
      "        message_data = receiver.receive()\n",
      "        sys.stderr.write(\"\\x1b[2J\\x1b[H\")\n",
      "        if \"data_header\" in message_data:\n",
      "            print \"Data Header: \", message_data['data_header']\n",
      "        print message_data['data'],  message_data['timestamp'], message_data['header']"
     ],
     "language": "python",
     "metadata": {},
     "outputs": [],
     "prompt_number": 7
    },
    {
     "cell_type": "code",
     "collapsed": false,
     "input": [
      "source_ = 'tcp://pineapple.psi.ch:51227'  # 'tcp://gfa-lc6-64:9999'\n",
      "receive(source_)"
     ],
     "language": "python",
     "metadata": {},
     "outputs": [
      {
       "output_type": "stream",
       "stream": "stderr",
       "text": [
        "\u001b[2J\u001b[H\u001b[2J\u001b[H\u001b[2J\u001b[H\u001b[2J\u001b[H\u001b[2J\u001b[H\u001b[2J\u001b[H\u001b[2J\u001b[H"
       ]
      },
      {
       "output_type": "stream",
       "stream": "stdout",
       "text": [
        "Using endianness: >\n",
        "Data Header:  {u'channels': [{u'shape': [1], u'frequency': 100.0, u'type': u'double', u'name': u'TESTSOURCE_1_COS', u'offset': 0}, {u'shape': [1], u'frequency': 100.0, u'type': u'double', u'name': u'TESTSOURCE_2_SIN', u'offset': 0}], u'htype': u'bsr_d-1.0', u'encoding': u'big'}\n",
        "[0.65582623597676493, 1.0312984995775594] [1429623854075, 1429623854080] {u'global_timestamp': None, u'hash': u'5e1a48ce6835204474aaaad1c9181958', u'htype': u'bsr_m-1.0', u'pulse_id': 719388}\n",
        "[-0.29919937014860076, 1.1168641463559148] [1429623854085, 1429623854090] {u'global_timestamp': None, u'hash': u'5e1a48ce6835204474aaaad1c9181958', u'htype': u'bsr_m-1.0', u'pulse_id': 719389}\n",
        "[-0.88720291636156101, 0.35946912531028918] [1429623854095, 1429623854100] {u'global_timestamp': None, u'hash': u'5e1a48ce6835204474aaaad1c9181958', u'htype': u'bsr_m-1.0', u'pulse_id': 719390}\n",
        "[-0.5675766539912066, -0.54454107411606567] [1429623854104, 1429623854110] {u'global_timestamp': None, u'hash': u'5e1a48ce6835204474aaaad1c9181958', u'htype': u'bsr_m-1.0', u'pulse_id': 719391}\n",
        "[0.3658165053711887, -0.76402364362719277] [1429623854116, 1429623854120] {u'global_timestamp': None, u'hash': u'5e1a48ce6835204474aaaad1c9181958', u'htype': u'bsr_m-1.0', u'pulse_id': 719392}\n",
        "[1.0548191955709345, -0.097187321010290373] [1429623854125, 1429623854129] {u'global_timestamp': None, u'hash': u'5e1a48ce6835204474aaaad1c9181958', u'htype': u'bsr_m-1.0', u'pulse_id': 719393}\n",
        "[0.86596552073708777, 0.84288165399392301]"
       ]
      },
      {
       "output_type": "stream",
       "stream": "stdout",
       "text": [
        " [1429623854135, 1429623854140] {u'global_timestamp': None, u'hash': u'5e1a48ce6835204474aaaad1c9181958', u'htype': u'bsr_m-1.0', u'pulse_id': 719394}\n",
        "[-0.027113321431456755, 1.1918882011167706] [1429623854145, 1429623854151] {u'global_timestamp': None, u'hash': u'5e1a48ce6835204474aaaad1c9181958', u'htype': u'bsr_m-1.0', u'pulse_id': 719395}\n",
        "[-0.80332476208903603, 0.62895731045966163] [1429623854156, 1429623854161] {u'global_timestamp': None, u'hash': u'5e1a48ce6835204474aaaad1c9181958', u'htype': u'bsr_m-1.0', u'pulse_id': 719396}\n",
        "[-0.74902358237753297, -0.32835495319606928] [1429623854165, 1429623854170] {u'global_timestamp': None, u'hash': u'5e1a48ce6835204474aaaad1c9181958', u'htype': u'bsr_m-1.0', u'pulse_id': 719397}\n",
        "[0.085865963499016942, -0.79990010951704016] [1429623854176, 1429623854180] {u'global_timestamp': None, u'hash': u'5e1a48ce6835204474aaaad1c9181958', u'htype': u'bsr_m-1.0', u'pulse_id': 719398}\n",
        "[0.93375027735212168, -0.35214171642365516]"
       ]
      },
      {
       "output_type": "stream",
       "stream": "stderr",
       "text": [
        "\u001b[2J\u001b[H\u001b[2J\u001b[H\u001b[2J\u001b[H\u001b[2J\u001b[H\u001b[2J\u001b[H\u001b[2J\u001b[H"
       ]
      },
      {
       "output_type": "stream",
       "stream": "stdout",
       "text": [
        " [1429623854186, 1429623854190] {u'global_timestamp': None, u'hash': u'5e1a48ce6835204474aaaad1c9181958', u'htype': u'bsr_m-1.0', u'pulse_id': 719399}\n",
        "[1.015088431244088, 0.60325322441765339] [1429623854194, 1429623854201] {u'global_timestamp': None, u'hash': u'5e1a48ce6835204474aaaad1c9181958', u'htype': u'bsr_m-1.0', u'pulse_id': 719400}\n",
        "[0.25509850159675684, 1.1878990104268963] [1429623854205, 1429623854210] {u'global_timestamp': None, u'hash': u'5e1a48ce6835204474aaaad1c9181958', u'htype': u'bsr_m-1.0', u'pulse_id': 719401}\n",
        "[-0.64748827514524576, 0.86427500217935749] [1429623854215, 1429623854220] {u'global_timestamp': None, u'hash': u'5e1a48ce6835204474aaaad1c9181958', u'htype': u'bsr_m-1.0', u'pulse_id': 719402}\n",
        "[-0.86283777893750635, -0.070080379610755361] [1429623854226, 1429623854230] {u'global_timestamp': None, u'hash': u'5e1a48ce6835204474aaaad1c9181958', u'htype': u'bsr_m-1.0', u'pulse_id': 719403}\n",
        "[-0.19295866912853996, -0.75612510592622484]"
       ]
      },
      {
       "output_type": "stream",
       "stream": "stderr",
       "text": [
        "\u001b[2J\u001b[H\u001b[2J\u001b[H\u001b[2J\u001b[H\u001b[2J\u001b[H\u001b[2J\u001b[H\u001b[2J\u001b[H"
       ]
      },
      {
       "output_type": "stream",
       "stream": "stdout",
       "text": [
        " [1429623854235, 1429623854241] {u'global_timestamp': None, u'hash': u'5e1a48ce6835204474aaaad1c9181958', u'htype': u'bsr_m-1.0', u'pulse_id': 719404}\n",
        "[0.74626529002908326, -0.56311281924996193] [1429623854245, 1429623854251] {u'global_timestamp': None, u'hash': u'5e1a48ce6835204474aaaad1c9181958', u'htype': u'bsr_m-1.0', u'pulse_id': 719405}\n",
        "[1.0913159219390516, 0.33150187416964227] [1429623854255, 1429623854261] {u'global_timestamp': None, u'hash': u'5e1a48ce6835204474aaaad1c9181958', u'htype': u'bsr_m-1.0', u'pulse_id': 719406}\n",
        "[0.52495526690585737, 1.1052143509296413] [1429623854265, 1429623854270] {u'global_timestamp': None, u'hash': u'5e1a48ce6835204474aaaad1c9181958', u'htype': u'bsr_m-1.0', u'pulse_id': 719407}\n",
        "[-0.43210730073896053, 1.046676928054791] [1429623854277, 1429623854280] {u'global_timestamp': None, u'hash': u'5e1a48ce6835204474aaaad1c9181958', u'htype': u'bsr_m-1.0', u'pulse_id': 719408}\n",
        "[-0.89995287002292146, 0.20970864217707191] [1429623854286, 1429623854290] {u'global_timestamp': None, u'hash': u'5e1a48ce6835204474aaaad1c9181958', u'htype': u'bsr_m-1.0', u'pulse_id': 719409}\n",
        "[-0.44844638212673682, -0.63618572454454947]"
       ]
      },
      {
       "output_type": "stream",
       "stream": "stderr",
       "text": [
        "\u001b[2J\u001b[H\u001b[2J\u001b[H\u001b[2J\u001b[H\u001b[2J\u001b[H\u001b[2J\u001b[H\u001b[2J\u001b[H"
       ]
      },
      {
       "output_type": "stream",
       "stream": "stdout",
       "text": [
        " [1429623854295, 1429623854300] {u'global_timestamp': None, u'hash': u'5e1a48ce6835204474aaaad1c9181958', u'htype': u'bsr_m-1.0', u'pulse_id': 719410}\n",
        "[0.50729918020669185, -0.71329479238795446] [1429623854304, 1429623854310] {u'global_timestamp': None, u'hash': u'5e1a48ce6835204474aaaad1c9181958', u'htype': u'bsr_m-1.0', u'pulse_id': 719411}\n",
        "[1.0885757546144941, 0.049275160015398167] [1429623854315, 1429623854320] {u'global_timestamp': None, u'hash': u'5e1a48ce6835204474aaaad1c9181958', u'htype': u'bsr_m-1.0', u'pulse_id': 719412}\n",
        "[0.76096033928040285, 0.95042083519738085] [1429623854326, 1429623854331] {u'global_timestamp': None, u'hash': u'5e1a48ce6835204474aaaad1c9181958', u'htype': u'bsr_m-1.0', u'pulse_id': 719413}\n",
        "[-0.17433896381331468, 1.1616330552418821] [1429623854335, 1429623854341] {u'global_timestamp': None, u'hash': u'5e1a48ce6835204474aaaad1c9181958', u'htype': u'bsr_m-1.0', u'pulse_id': 719414}\n",
        "[-0.85741228875602304, 0.48872427909504534] [1429623854345, 1429623854350] {u'global_timestamp': None, u'hash': u'5e1a48ce6835204474aaaad1c9181958', u'htype': u'bsr_m-1.0', u'pulse_id': 719415}\n",
        "[-0.66024517074943023, -0.44963626773154347]"
       ]
      },
      {
       "output_type": "stream",
       "stream": "stderr",
       "text": [
        "\u001b[2J\u001b[H\u001b[2J\u001b[H\u001b[2J\u001b[H\u001b[2J\u001b[H\u001b[2J\u001b[H\u001b[2J\u001b[H\u001b[2J\u001b[H"
       ]
      },
      {
       "output_type": "stream",
       "stream": "stdout",
       "text": [
        " [1429623854355, 1429623854360] {u'global_timestamp': None, u'hash': u'5e1a48ce6835204474aaaad1c9181958', u'htype': u'bsr_m-1.0', u'pulse_id': 719416}\n",
        "[0.23588785119395353, -0.79072422595689562] [1429623854365, 1429623854370] {u'global_timestamp': None, u'hash': u'5e1a48ce6835204474aaaad1c9181958', u'htype': u'bsr_m-1.0', u'pulse_id': 719417}\n",
        "[1.0070862094285498, -0.22094489979633364] [1429623854375, 1429623854380] {u'global_timestamp': None, u'hash': u'5e1a48ce6835204474aaaad1c9181958', u'htype': u'bsr_m-1.0', u'pulse_id': 719418}\n",
        "[0.94431368995691778, 0.73584922595011149] [1429623854386, 1429623854390] {u'global_timestamp': None, u'hash': u'5e1a48ce6835204474aaaad1c9181958', u'htype': u'bsr_m-1.0', u'pulse_id': 719419}\n",
        "[0.10528305769097097, 1.1999860445533397] [1429623854395, 1429623854400] {u'global_timestamp': None, u'hash': u'5e1a48ce6835204474aaaad1c9181958', u'htype': u'bsr_m-1.0', u'pulse_id': 719420}\n",
        "[-0.73860479345198582, 0.74474030546614811]"
       ]
      },
      {
       "output_type": "stream",
       "stream": "stderr",
       "text": [
        "\u001b[2J\u001b[H\u001b[2J\u001b[H\u001b[2J\u001b[H\u001b[2J\u001b[H\u001b[2J\u001b[H\u001b[2J\u001b[H\u001b[2J\u001b[H"
       ]
      },
      {
       "output_type": "stream",
       "stream": "stdout",
       "text": [
        " [1429623854405, 1429623854410] {u'global_timestamp': None, u'hash': u'5e1a48ce6835204474aaaad1c9181958', u'htype': u'bsr_m-1.0', u'pulse_id': 719421}\n",
        "[-0.81148326491933687, -0.21133715826799054] [1429623854415, 1429623854420] {u'global_timestamp': None, u'hash': u'5e1a48ce6835204474aaaad1c9181958', u'htype': u'bsr_m-1.0', u'pulse_id': 719422}\n",
        "[-0.046348226140290577, -0.78923313566903452] [1429623854425, 1429623854430] {u'global_timestamp': None, u'hash': u'5e1a48ce6835204474aaaad1c9181958', u'htype': u'bsr_m-1.0', u'pulse_id': 719423}\n",
        "[0.85333869683271502, -0.45763273021830869] [1429623854435, 1429623854440] {u'global_timestamp': None, u'hash': u'5e1a48ce6835204474aaaad1c9181958', u'htype': u'bsr_m-1.0', u'pulse_id': 719424}\n",
        "[1.0604094961371213, 0.47859217456640962] [1429623854445, 1429623854451] {u'global_timestamp': None, u'hash': u'5e1a48ce6835204474aaaad1c9181958', u'htype': u'bsr_m-1.0', u'pulse_id': 719425}\n",
        "[0.38448423384837471, 1.1586807188484096] [1429623854456, 1429623854461] {u'global_timestamp': None, u'hash': u'5e1a48ce6835204474aaaad1c9181958', u'htype': u'bsr_m-1.0', u'pulse_id': 719426}\n",
        "[-0.55299452107430536, 0.95736263140383326]"
       ]
      },
      {
       "output_type": "stream",
       "stream": "stderr",
       "text": [
        "\u001b[2J\u001b[H\u001b[2J\u001b[H\u001b[2J\u001b[H\u001b[2J\u001b[H\u001b[2J\u001b[H\u001b[2J\u001b[H"
       ]
      },
      {
       "output_type": "stream",
       "stream": "stdout",
       "text": [
        " [1429623854466, 1429623854470] {u'global_timestamp': None, u'hash': u'5e1a48ce6835204474aaaad1c9181958', u'htype': u'bsr_m-1.0', u'pulse_id': 719427}\n",
        "[-0.89011312475979221, 0.059728833403296572] [1429623854476, 1429623854480] {u'global_timestamp': None, u'hash': u'5e1a48ce6835204474aaaad1c9181958', u'htype': u'bsr_m-1.0', u'pulse_id': 719428}\n",
        "[-0.31692628768174425, -0.70894030092185889] [1429623854485, 1429623854491] {u'global_timestamp': None, u'hash': u'5e1a48ce6835204474aaaad1c9181958', u'htype': u'bsr_m-1.0', u'pulse_id': 719429}\n",
        "[0.63958065553681254, -0.64193391437241898] [1429623854494, 1429623854500] {u'global_timestamp': None, u'hash': u'5e1a48ce6835204474aaaad1c9181958', u'htype': u'bsr_m-1.0', u'pulse_id': 719430}\n",
        "[1.0999996324585088, 0.19914263027384527] [1429623854506, 1429623854510] {u'global_timestamp': None, u'hash': u'5e1a48ce6835204474aaaad1c9181958', u'htype': u'bsr_m-1.0', u'pulse_id': 719431}\n",
        "[0.64102355903243646, 1.0410074366923729]"
       ]
      },
      {
       "output_type": "stream",
       "stream": "stdout",
       "text": [
        " [1429623854515, 1429623854521] {u'global_timestamp': None, u'hash': u'5e1a48ce6835204474aaaad1c9181958', u'htype': u'bsr_m-1.0', u'pulse_id': 719432}\n",
        "[-0.3153670795100828, 1.10965388432044] [1429623854526, 1429623854531] {u'global_timestamp': None, u'hash': u'5e1a48ce6835204474aaaad1c9181958', u'htype': u'bsr_m-1.0', u'pulse_id': 719433}\n",
        "[-0.88987114071446172, 0.34196874578811465] [1429623854535, 1429623854540] {u'global_timestamp': None, u'hash': u'5e1a48ce6835204474aaaad1c9181958', u'htype': u'bsr_m-1.0', u'pulse_id': 719434}\n",
        "[-0.55429224017061618, -0.55624180289938785] [1429623854545, 1429623854550] {u'global_timestamp': None, u'hash': u'5e1a48ce6835204474aaaad1c9181958', u'htype': u'bsr_m-1.0', u'pulse_id': 719435}\n",
        "[0.38283992856283255, -0.75916712558895161] [1429623854555, 1429623854560] {u'global_timestamp': None, u'hash': u'5e1a48ce6835204474aaaad1c9181958', u'htype': u'bsr_m-1.0', u'pulse_id': 719436}\n",
        "[1.0599303713587729, -0.080238616437864341] [1429623854566, 1429623854570] {u'global_timestamp': None, u'hash': u'5e1a48ce6835204474aaaad1c9181958', u'htype': u'bsr_m-1.0', u'pulse_id': 719437}\n",
        "[0.85446525767317671, 0.85633998427960112]"
       ]
      },
      {
       "output_type": "stream",
       "stream": "stderr",
       "text": [
        "\u001b[2J\u001b[H\u001b[2J\u001b[H\u001b[2J\u001b[H\u001b[2J\u001b[H\u001b[2J\u001b[H\u001b[2J\u001b[H\u001b[2J\u001b[H"
       ]
      },
      {
       "output_type": "stream",
       "stream": "stdout",
       "text": [
        " [1429623854576, 1429623854581] {u'global_timestamp': None, u'hash': u'5e1a48ce6835204474aaaad1c9181958', u'htype': u'bsr_m-1.0', u'pulse_id': 719438}\n",
        "[-0.044651734522337672, 1.1894826303173185] [1429623854585, 1429623854591] {u'global_timestamp': None, u'hash': u'5e1a48ce6835204474aaaad1c9181958', u'htype': u'bsr_m-1.0', u'pulse_id': 719439}\n",
        "[-0.81077658909366679, 0.61289950927423731] [1429623854595, 1429623854600] {u'global_timestamp': None, u'hash': u'5e1a48ce6835204474aaaad1c9181958', u'htype': u'bsr_m-1.0', u'pulse_id': 719440}\n",
        "[-0.73953764791371712, -0.34330151641193091] [1429623854604, 1429623854610] {u'global_timestamp': None, u'hash': u'5e1a48ce6835204474aaaad1c9181958', u'htype': u'bsr_m-1.0', u'pulse_id': 719441}\n",
        "[0.10356833503187533, -0.79999363347228369] [1429623854615, 1429623854620] {u'global_timestamp': None, u'hash': u'5e1a48ce6835204474aaaad1c9181958', u'htype': u'bsr_m-1.0', u'pulse_id': 719442}\n",
        "[0.94339360720538168, -0.33729621562513762] [1429623854625, 1429623854630] {u'global_timestamp': None, u'hash': u'5e1a48ce6835204474aaaad1c9181958', u'htype': u'bsr_m-1.0', u'pulse_id': 719443}\n",
        "[1.0078066864231563, 0.61938886499930967]"
       ]
      },
      {
       "output_type": "stream",
       "stream": "stderr",
       "text": [
        "\u001b[2J\u001b[H\u001b[2J\u001b[H\u001b[2J\u001b[H\u001b[2J\u001b[H\u001b[2J\u001b[H\u001b[2J\u001b[H"
       ]
      },
      {
       "output_type": "stream",
       "stream": "stdout",
       "text": [
        " [1429623854635, 1429623854641] {u'global_timestamp': None, u'hash': u'5e1a48ce6835204474aaaad1c9181958', u'htype': u'bsr_m-1.0', u'pulse_id': 719444}\n",
        "[0.23758648470851151, 1.1904897572542357] [1429623854645, 1429623854651] {u'global_timestamp': None, u'hash': u'5e1a48ce6835204474aaaad1c9181958', u'htype': u'bsr_m-1.0', u'pulse_id': 719445}\n",
        "[-0.65913009653455568, 0.85093893456716518] [1429623854655, 1429623854660] {u'global_timestamp': None, u'hash': u'5e1a48ce6835204474aaaad1c9181958', u'htype': u'bsr_m-1.0', u'pulse_id': 719446}\n",
        "[-0.85790596793155938, -0.087082142602256607] [1429623854664, 1429623854670] {u'global_timestamp': None, u'hash': u'5e1a48ce6835204474aaaad1c9181958', u'htype': u'bsr_m-1.0', u'pulse_id': 719447}\n",
        "[-0.17598751002199195, -0.76116122181029588] [1429623854675, 1429623854680] {u'global_timestamp': None, u'hash': u'5e1a48ce6835204474aaaad1c9181958', u'htype': u'bsr_m-1.0', u'pulse_id': 719448}\n",
        "[0.75967259182018221, -0.55155310630802612] [1429623854685, 1429623854690] {u'global_timestamp': None, u'hash': u'5e1a48ce6835204474aaaad1c9181958', u'htype': u'bsr_m-1.0', u'pulse_id': 719449}\n",
        "[1.0888327549789052, 0.34902946916911659]"
       ]
      },
      {
       "output_type": "stream",
       "stream": "stderr",
       "text": [
        "\u001b[2J\u001b[H\u001b[2J\u001b[H\u001b[2J\u001b[H\u001b[2J\u001b[H\u001b[2J\u001b[H\u001b[2J\u001b[H\u001b[2J\u001b[H"
       ]
      },
      {
       "output_type": "stream",
       "stream": "stdout",
       "text": [
        " [1429623854695, 1429623854700] {u'global_timestamp': None, u'hash': u'5e1a48ce6835204474aaaad1c9181958', u'htype': u'bsr_m-1.0', u'pulse_id': 719450}\n",
        "[0.50886464344591309, 1.1125950379767833] [1429623854705, 1429623854711] {u'global_timestamp': None, u'hash': u'5e1a48ce6835204474aaaad1c9181958', u'htype': u'bsr_m-1.0', u'pulse_id': 719451}\n",
        "[-0.44701173569534192, 1.0371249375162404] [1429623854715, 1429623854720] {u'global_timestamp': None, u'hash': u'5e1a48ce6835204474aaaad1c9181958', u'htype': u'bsr_m-1.0', u'pulse_id': 719452}\n",
        "[-0.89996804771216632, 0.192006030102711] [1429623854726, 1429623854731] {u'global_timestamp': None, u'hash': u'5e1a48ce6835204474aaaad1c9181958', u'htype': u'bsr_m-1.0', u'pulse_id': 719453}\n",
        "[-0.43355834825134898, -0.64576325825333192] [1429623854736, 1429623854741] {u'global_timestamp': None, u'hash': u'5e1a48ce6835204474aaaad1c9181958', u'htype': u'bsr_m-1.0', u'pulse_id': 719454}\n",
        "[0.52340243596136682, -0.70594170740836337]"
       ]
      },
      {
       "output_type": "stream",
       "stream": "stderr",
       "text": [
        "\u001b[2J\u001b[H\u001b[2J\u001b[H\u001b[2J\u001b[H\u001b[2J\u001b[H\u001b[2J\u001b[H\u001b[2J\u001b[H"
       ]
      },
      {
       "output_type": "stream",
       "stream": "stdout",
       "text": [
        " [1429623854745, 1429623854751] {u'global_timestamp': None, u'hash': u'5e1a48ce6835204474aaaad1c9181958', u'htype': u'bsr_m-1.0', u'pulse_id': 719455}\n",
        "[1.0910889731715767, 0.066798471263615378] [1429623854755, 1429623854760] {u'global_timestamp': None, u'hash': u'5e1a48ce6835204474aaaad1c9181958', u'htype': u'bsr_m-1.0', u'pulse_id': 719456}\n",
        "[0.74757287908881265, 0.96200352116550358] [1429623854766, 1429623854770] {u'global_timestamp': None, u'hash': u'5e1a48ce6835204474aaaad1c9181958', u'htype': u'bsr_m-1.0', u'pulse_id': 719457}\n",
        "[-0.19131873359286564, 1.1566260478671115] [1429623854776, 1429623854781] {u'global_timestamp': None, u'hash': u'5e1a48ce6835204474aaaad1c9181958', u'htype': u'bsr_m-1.0', u'pulse_id': 719458}\n",
        "[-0.86237324609443577, 0.47173099786674783] [1429623854785, 1429623854791] {u'global_timestamp': None, u'hash': u'5e1a48ce6835204474aaaad1c9181958', u'htype': u'bsr_m-1.0', u'pulse_id': 719459}\n",
        "[-0.64862623434839506, -0.46299227842060259]"
       ]
      },
      {
       "output_type": "stream",
       "stream": "stderr",
       "text": [
        "\u001b[2J\u001b[H\u001b[2J\u001b[H\u001b[2J\u001b[H\u001b[2J\u001b[H\u001b[2J\u001b[H\u001b[2J\u001b[H\u001b[2J\u001b[H"
       ]
      },
      {
       "output_type": "stream",
       "stream": "stdout",
       "text": [
        " [1429623854795, 1429623854801] {u'global_timestamp': None, u'hash': u'5e1a48ce6835204474aaaad1c9181958', u'htype': u'bsr_m-1.0', u'pulse_id': 719460}\n",
        "[0.25340428479079541, -0.78816351147359431] [1429623854805, 1429623854810] {u'global_timestamp': None, u'hash': u'5e1a48ce6835204474aaaad1c9181958', u'htype': u'bsr_m-1.0', u'pulse_id': 719461}\n",
        "[1.0143956119534343, -0.20482176922727935] [1429623854815, 1429623854820] {u'global_timestamp': None, u'hash': u'5e1a48ce6835204474aaaad1c9181958', u'htype': u'bsr_m-1.0', u'pulse_id': 719462}\n",
        "[0.93469583043750293, 0.75071124071535644] [1429623854826, 1429623854830] {u'global_timestamp': None, u'hash': u'5e1a48ce6835204474aaaad1c9181958', u'htype': u'bsr_m-1.0', u'pulse_id': 719463}\n",
        "[0.08758055181437506, 1.1999228756793019] [1429623854835, 1429623854841] {u'global_timestamp': None, u'hash': u'5e1a48ce6835204474aaaad1c9181958', u'htype': u'bsr_m-1.0', u'pulse_id': 719464}\n",
        "[-0.74811634342210909, 0.72981003012429957] [1429623854845, 1429623854851] {u'global_timestamp': None, u'hash': u'5e1a48ce6835204474aaaad1c9181958', u'htype': u'bsr_m-1.0', u'pulse_id': 719465}\n",
        "[-0.80405898380521623, -0.22740771378284663]"
       ]
      },
      {
       "output_type": "stream",
       "stream": "stderr",
       "text": [
        "\u001b[2J\u001b[H\u001b[2J\u001b[H\u001b[2J\u001b[H\u001b[2J\u001b[H\u001b[2J\u001b[H\u001b[2J\u001b[H\u001b[2J\u001b[H"
       ]
      },
      {
       "output_type": "stream",
       "stream": "stdout",
       "text": [
        " [1429623854855, 1429623854860] {u'global_timestamp': None, u'hash': u'5e1a48ce6835204474aaaad1c9181958', u'htype': u'bsr_m-1.0', u'pulse_id': 719466}\n",
        "[-0.028813963759421968, -0.79166877672970348] [1429623854865, 1429623854870] {u'global_timestamp': None, u'hash': u'5e1a48ce6835204474aaaad1c9181958', u'htype': u'bsr_m-1.0', u'pulse_id': 719467}\n",
        "[0.86486202051075489, -0.44419413966614568] [1429623854874, 1429623854880] {u'global_timestamp': None, u'hash': u'5e1a48ce6835204474aaaad1c9181958', u'htype': u'bsr_m-1.0', u'pulse_id': 719468}\n",
        "[1.0553273904652725, 0.49554961855298152] [1429623854886, 1429623854891] {u'global_timestamp': None, u'hash': u'5e1a48ce6835204474aaaad1c9181958', u'htype': u'bsr_m-1.0', u'pulse_id': 719469}\n",
        "[0.36746916334400392, 1.1635664204713958] [1429623854895, 1429623854901] {u'global_timestamp': None, u'hash': u'5e1a48ce6835204474aaaad1c9181958', u'htype': u'bsr_m-1.0', u'pulse_id': 719470}\n",
        "[-0.56629897905849769, 0.94568469912262754] [1429623854905, 1429623854910] {u'global_timestamp': None, u'hash': u'5e1a48ce6835204474aaaad1c9181958', u'htype': u'bsr_m-1.0', u'pulse_id': 719471}\n",
        "[-0.88747491290979108, 0.042223904301695703]"
       ]
      },
      {
       "output_type": "stream",
       "stream": "stderr",
       "text": [
        "\u001b[2J\u001b[H\u001b[2J\u001b[H\u001b[2J\u001b[H\u001b[2J\u001b[H\u001b[2J\u001b[H\u001b[2J\u001b[H"
       ]
      },
      {
       "output_type": "stream",
       "stream": "stdout",
       "text": [
        " [1429623854915, 1429623854921] {u'global_timestamp': None, u'hash': u'5e1a48ce6835204474aaaad1c9181958', u'htype': u'bsr_m-1.0', u'pulse_id': 719472}\n",
        "[-0.30077096580570351, -0.71617827575595983] [1429623854925, 1429623854931] {u'global_timestamp': None, u'hash': u'5e1a48ce6835204474aaaad1c9181958', u'htype': u'bsr_m-1.0', u'pulse_id': 719473}\n",
        "[0.65439995901014514, -0.63225037425617869] [1429623854935, 1429623854941] {u'global_timestamp': None, u'hash': u'5e1a48ce6835204474aaaad1c9181958', u'htype': u'bsr_m-1.0', u'pulse_id': 719474}\n",
        "[1.0998581182584706, 0.21684468321548869] [1429623854945, 1429623854951] {u'global_timestamp': None, u'hash': u'5e1a48ce6835204474aaaad1c9181958', u'htype': u'bsr_m-1.0', u'pulse_id': 719475}\n",
        "[0.62605133466191643, 1.0504528166220723] [1429623854955, 1429623854960] {u'global_timestamp': None, u'hash': u'5e1a48ce6835204474aaaad1c9181958', u'htype': u'bsr_m-1.0', u'pulse_id': 719476}\n",
        "[-0.33140462001277871, 1.1021585524904312] [1429623854966, 1429623854971] {u'global_timestamp': None, u'hash': u'5e1a48ce6835204474aaaad1c9181958', u'htype': u'bsr_m-1.0', u'pulse_id': 719477}\n",
        "[-0.89222915657206248, 0.32442387571641379]"
       ]
      },
      {
       "output_type": "stream",
       "stream": "stdout",
       "text": [
        " [1429623854976, 1429623854981] {u'global_timestamp': None, u'hash': u'5e1a48ce6835204474aaaad1c9181958', u'htype': u'bsr_m-1.0', u'pulse_id': 719478}\n",
        "[-0.5408027824781908, -0.56770553858117268] [1429623854985, 1429623854990] {u'global_timestamp': None, u'hash': u'5e1a48ce6835204474aaaad1c9181958', u'htype': u'bsr_m-1.0', u'pulse_id': 719479}\n",
        "[0.39977471461268954, -0.75401002116271321] [1429623854996, 1429623855001] {u'global_timestamp': None, u'hash': u'5e1a48ce6835204474aaaad1c9181958', u'htype': u'bsr_m-1.0', u'pulse_id': 719480}\n",
        "[1.0647407215705902, -0.063202089929880689] [1429623855005, 1429623855011] {u'global_timestamp': None, u'hash': u'5e1a48ce6835204474aaaad1c9181958', u'htype': u'bsr_m-1.0', u'pulse_id': 719481}\n",
        "[0.84272855824627613, 0.8695926289658571] [1429623855015, 1429623855021] {u'global_timestamp': None, u'hash': u'5e1a48ce6835204474aaaad1c9181958', u'htype': u'bsr_m-1.0', u'pulse_id': 719482}\n",
        "[-0.062144816261426372, 1.1867669727750054] [1429623855025, 1429623855031] {u'global_timestamp': None, u'hash': u'5e1a48ce6835204474aaaad1c9181958', u'htype': u'bsr_m-1.0', u'pulse_id': 719483}\n",
        "[-0.81794299446750518, 0.59671231252386137]"
       ]
      },
      {
       "output_type": "stream",
       "stream": "stderr",
       "text": [
        "\u001b[2J\u001b[H\u001b[2J\u001b[H\u001b[2J\u001b[H\u001b[2J\u001b[H\u001b[2J\u001b[H\u001b[2J\u001b[H\u001b[2J\u001b[H"
       ]
      },
      {
       "output_type": "stream",
       "stream": "stdout",
       "text": [
        " [1429623855035, 1429623855041] {u'global_timestamp': None, u'hash': u'5e1a48ce6835204474aaaad1c9181958', u'htype': u'bsr_m-1.0', u'pulse_id': 719484}\n",
        "[-0.72978861687116969, -0.35807781832915658] [1429623855045, 1429623855050] {u'global_timestamp': None, u'hash': u'5e1a48ce6835204474aaaad1c9181958', u'htype': u'bsr_m-1.0', u'pulse_id': 719485}\n",
        "[0.12126958831025046, -0.79977377671806948] [1429623855055, 1429623855060] {u'global_timestamp': None, u'hash': u'5e1a48ce6835204474aaaad1c9181958', u'htype': u'bsr_m-1.0', u'pulse_id': 719486}\n",
        "[0.95277263208895835, -0.32228233548538671] [1429623855065, 1429623855070] {u'global_timestamp': None, u'hash': u'5e1a48ce6835204474aaaad1c9181958', u'htype': u'bsr_m-1.0', u'pulse_id': 719487}\n",
        "[1.0002404506875635, 0.63539307636416609] [1429623855075, 1429623855081] {u'global_timestamp': None, u'hash': u'5e1a48ce6835204474aaaad1c9181958', u'htype': u'bsr_m-1.0', u'pulse_id': 719488}\n",
        "[0.22003135059556939, 1.1927701017225507]"
       ]
      },
      {
       "output_type": "stream",
       "stream": "stderr",
       "text": [
        "\u001b[2J\u001b[H\u001b[2J\u001b[H\u001b[2J\u001b[H\u001b[2J\u001b[H\u001b[2J\u001b[H\u001b[2J\u001b[H\u001b[2J\u001b[H"
       ]
      },
      {
       "output_type": "stream",
       "stream": "stdout",
       "text": [
        " [1429623855085, 1429623855091] {u'global_timestamp': None, u'hash': u'5e1a48ce6835204474aaaad1c9181958', u'htype': u'bsr_m-1.0', u'pulse_id': 719489}\n",
        "[-0.67053401968105708, 0.83739887395111734] [1429623855095, 1429623855101] {u'global_timestamp': None, u'hash': u'5e1a48ce6835204474aaaad1c9181958', u'htype': u'bsr_m-1.0', u'pulse_id': 719490}\n",
        "[-0.85267396576261267, -0.10399393901546172] [1429623855105, 1429623855110] {u'global_timestamp': None, u'hash': u'5e1a48ce6835204474aaaad1c9181958', u'htype': u'bsr_m-1.0', u'pulse_id': 719491}\n",
        "[-0.15892986120311262, -0.76589612639110261] [1429623855115, 1429623855120] {u'global_timestamp': None, u'hash': u'5e1a48ce6835204474aaaad1c9181958', u'htype': u'bsr_m-1.0', u'pulse_id': 719492}\n",
        "[0.77287316363029446, -0.53975786962097194] [1429623855125, 1429623855131] {u'global_timestamp': None, u'hash': u'5e1a48ce6835204474aaaad1c9181958', u'htype': u'bsr_m-1.0', u'pulse_id': 719493}\n",
        "[1.086039704935589, 0.36651036091047495] [1429623855136, 1429623855141] {u'global_timestamp': None, u'hash': u'5e1a48ce6835204474aaaad1c9181958', u'htype': u'bsr_m-1.0', u'pulse_id': 719494}\n",
        "[0.49264588887818328, 1.1196897335227036]"
       ]
      },
      {
       "output_type": "stream",
       "stream": "stderr",
       "text": [
        "\u001b[2J\u001b[H\u001b[2J\u001b[H\u001b[2J\u001b[H\u001b[2J\u001b[H\u001b[2J\u001b[H\u001b[2J\u001b[H\u001b[2J\u001b[H"
       ]
      },
      {
       "output_type": "stream",
       "stream": "stdout",
       "text": [
        " [1429623855145, 1429623855151] {u'global_timestamp': None, u'hash': u'5e1a48ce6835204474aaaad1c9181958', u'htype': u'bsr_m-1.0', u'pulse_id': 719495}\n",
        "[-0.46174474663453347, 1.0273106065006685] [1429623855155, 1429623855161] {u'global_timestamp': None, u'hash': u'5e1a48ce6835204474aaaad1c9181958', u'htype': u'bsr_m-1.0', u'pulse_id': 719496}\n",
        "[-0.89966985271008793, 0.17430592320025712] [1429623855165, 1429623855170] {u'global_timestamp': None, u'hash': u'5e1a48ce6835204474aaaad1c9181958', u'htype': u'bsr_m-1.0', u'pulse_id': 719497}\n",
        "[-0.41850310641771482, -0.65507574438477678] [1429623855175, 1429623855180] {u'global_timestamp': None, u'hash': u'5e1a48ce6835204474aaaad1c9181958', u'htype': u'bsr_m-1.0', u'pulse_id': 719498}\n",
        "[0.53937300471551852, -0.69830471596627874] [1429623855185, 1429623855191] {u'global_timestamp': None, u'hash': u'5e1a48ce6835204474aaaad1c9181958', u'htype': u'bsr_m-1.0', u'pulse_id': 719499}\n",
        "[1.0932916015857301, 0.084363525567167155] [1429623855195, 1429623855201] {u'global_timestamp': None, u'hash': u'5e1a48ce6835204474aaaad1c9181958', u'htype': u'bsr_m-1.0', u'pulse_id': 719500}\n",
        "[0.73398248075693651, 0.97334740840923528]"
       ]
      },
      {
       "output_type": "stream",
       "stream": "stderr",
       "text": [
        "\u001b[2J\u001b[H\u001b[2J\u001b[H\u001b[2J\u001b[H\u001b[2J\u001b[H\u001b[2J\u001b[H\u001b[2J\u001b[H\u001b[2J\u001b[H"
       ]
      },
      {
       "output_type": "stream",
       "stream": "stdout",
       "text": [
        " [1429623855205, 1429623855210] {u'global_timestamp': None, u'hash': u'5e1a48ce6835204474aaaad1c9181958', u'htype': u'bsr_m-1.0', u'pulse_id': 719501}\n",
        "[-0.20820720911977744, 1.1513192504341525] [1429623855215, 1429623855220] {u'global_timestamp': None, u'hash': u'5e1a48ce6835204474aaaad1c9181958', u'htype': u'bsr_m-1.0', u'pulse_id': 719502}\n",
        "[-0.86703261230213591, 0.45465256084341044] [1429623855225, 1429623855231] {u'global_timestamp': None, u'hash': u'5e1a48ce6835204474aaaad1c9181958', u'htype': u'bsr_m-1.0', u'pulse_id': 719503}\n",
        "[-0.63677269143329218, -0.47614051879630964] [1429623855235, 1429623855241] {u'global_timestamp': None, u'hash': u'5e1a48ce6835204474aaaad1c9181958', u'htype': u'bsr_m-1.0', u'pulse_id': 719504}\n",
        "[0.27087264413796963, -0.78529312363646331] [1429623855245, 1429623855251] {u'global_timestamp': None, u'hash': u'5e1a48ce6835204474aaaad1c9181958', u'htype': u'bsr_m-1.0', u'pulse_id': 719505}\n",
        "[1.0214184587083543, -0.18857177451729662] [1429623855255, 1429623855260] {u'global_timestamp': None, u'hash': u'5e1a48ce6835204474aaaad1c9181958', u'htype': u'bsr_m-1.0', u'pulse_id': 719506}\n",
        "[0.92481639168121255, 0.76540067210252283]"
       ]
      },
      {
       "output_type": "stream",
       "stream": "stderr",
       "text": [
        "\u001b[2J\u001b[H\u001b[2J\u001b[H\u001b[2J\u001b[H\u001b[2J\u001b[H\u001b[2J\u001b[H\u001b[2J\u001b[H\u001b[2J\u001b[H"
       ]
      },
      {
       "output_type": "stream",
       "stream": "stdout",
       "text": [
        " [1429623855265, 1429623855270] {u'global_timestamp': None, u'hash': u'5e1a48ce6835204474aaaad1c9181958', u'htype': u'bsr_m-1.0', u'pulse_id': 719507}\n",
        "[0.069881937978041431, 1.1995463482700748] [1429623855275, 1429623855281] {u'global_timestamp': None, u'hash': u'5e1a48ce6835204474aaaad1c9181958', u'htype': u'bsr_m-1.0', u'pulse_id': 719508}\n",
        "[-0.75736210839870033, 0.71471372148227719] [1429623855285, 1429623855291] {u'global_timestamp': None, u'hash': u'5e1a48ce6835204474aaaad1c9181958', u'htype': u'bsr_m-1.0', u'pulse_id': 719509}\n",
        "[-0.79635138624161694, -0.24334432711238307] [1429623855295, 1429623855300] {u'global_timestamp': None, u'hash': u'5e1a48ce6835204474aaaad1c9181958', u'htype': u'bsr_m-1.0', u'pulse_id': 719510}\n",
        "[-0.011239333310197941, -0.79379364594703605] [1429623855305, 1429623855310] {u'global_timestamp': None, u'hash': u'5e1a48ce6835204474aaaad1c9181958', u'htype': u'bsr_m-1.0', u'pulse_id': 719511}\n",
        "[0.87614564966014785, -0.43055366981219528] [1429623855315, 1429623855320] {u'global_timestamp': None, u'hash': u'5e1a48ce6835204474aaaad1c9181958', u'htype': u'bsr_m-1.0', u'pulse_id': 719512}\n",
        "[1.0499459017120045, 0.51241444240074252]"
       ]
      },
      {
       "output_type": "stream",
       "stream": "stdout",
       "text": [
        " [1429623855325, 1429623855330] {u'global_timestamp': None, u'hash': u'5e1a48ce6835204474aaaad1c9181958', u'htype': u'bsr_m-1.0', u'pulse_id': 719513}\n",
        "[0.35037027262982257, 1.1681501570434558] [1429623855335, 1429623855341] {u'global_timestamp': None, u'hash': u'5e1a48ce6835204474aaaad1c9181958', u'htype': u'bsr_m-1.0', u'pulse_id': 719514}\n",
        "[-0.5793946304665486, 0.93377308215361898] [1429623855345, 1429623855351] {u'global_timestamp': None, u'hash': u'5e1a48ce6835204474aaaad1c9181958', u'htype': u'bsr_m-1.0', u'pulse_id': 719515}\n",
        "[-0.88452724350084033, 0.024768419499688749] [1429623855355, 1429623855360] {u'global_timestamp': None, u'hash': u'5e1a48ce6835204474aaaad1c9181958', u'htype': u'bsr_m-1.0', u'pulse_id': 719516}\n",
        "[-0.28449004924046639, -0.72312913616409258] [1429623855365, 1429623855370] {u'global_timestamp': None, u'hash': u'5e1a48ce6835204474aaaad1c9181958', u'htype': u'bsr_m-1.0', u'pulse_id': 719517}\n",
        "[0.66904552312488319, -0.62230602126673507]"
       ]
      },
      {
       "output_type": "stream",
       "stream": "stderr",
       "text": [
        "\u001b[2J\u001b[H\u001b[2J\u001b[H\u001b[2J\u001b[H\u001b[2J\u001b[H\u001b[2J\u001b[H\u001b[2J\u001b[H\u001b[2J\u001b[H"
       ]
      },
      {
       "output_type": "stream",
       "stream": "stdout",
       "text": [
        " [1429623855375, 1429623855380] {u'global_timestamp': None, u'hash': u'5e1a48ce6835204474aaaad1c9181958', u'htype': u'bsr_m-1.0', u'pulse_id': 719518}\n",
        "[1.0994032658170989, 0.23454145732474765] [1429623855386, 1429623855390] {u'global_timestamp': None, u'hash': u'5e1a48ce6835204474aaaad1c9181958', u'htype': u'bsr_m-1.0', u'pulse_id': 719519}\n",
        "[0.61091425490137252, 1.0596316793479492] [1429623855396, 1429623855400] {u'global_timestamp': None, u'hash': u'5e1a48ce6835204474aaaad1c9181958', u'htype': u'bsr_m-1.0', u'pulse_id': 719520}\n",
        "[-0.34730696576887066, 1.0943804997732489] [1429623855405, 1429623855410] {u'global_timestamp': None, u'hash': u'5e1a48ce6835204474aaaad1c9181958', u'htype': u'bsr_m-1.0', u'pulse_id': 719521}\n",
        "[-0.89427622497297621, 0.30684001335402195] [1429623855415, 1429623855420] {u'global_timestamp': None, u'hash': u'5e1a48ce6835204474aaaad1c9181958', u'htype': u'bsr_m-1.0', u'pulse_id': 719522}\n",
        "[-0.527112508276666, -0.57892868862492697]"
       ]
      },
      {
       "output_type": "stream",
       "stream": "stderr",
       "text": [
        "\u001b[2J\u001b[H\u001b[2J\u001b[H\u001b[2J\u001b[H\u001b[2J\u001b[H\u001b[2J\u001b[H\u001b[2J\u001b[H\u001b[2J\u001b[H"
       ]
      },
      {
       "output_type": "stream",
       "stream": "stdout",
       "text": [
        " [1429623855426, 1429623855431] {u'global_timestamp': None, u'hash': u'5e1a48ce6835204474aaaad1c9181958', u'htype': u'bsr_m-1.0', u'pulse_id': 719523}\n",
        "[0.41661555645170534, -0.74855394649581064] [1429623855435, 1429623855441] {u'global_timestamp': None, u'hash': u'5e1a48ce6835204474aaaad1c9181958', u'htype': u'bsr_m-1.0', u'pulse_id': 719524}\n",
        "[1.0692487387258269, -0.046083080439093871] [1429623855445, 1429623855450] {u'global_timestamp': None, u'hash': u'5e1a48ce6835204474aaaad1c9181958', u'htype': u'bsr_m-1.0', u'pulse_id': 719525}\n",
        "[0.83075910053499558, 0.88263543490305585] [1429623855456, 1429623855460] {u'global_timestamp': None, u'hash': u'5e1a48ce6835204474aaaad1c9181958', u'htype': u'bsr_m-1.0', u'pulse_id': 719526}\n",
        "[-0.079587084619455323, 1.1837420795299369] [1429623855466, 1429623855470] {u'global_timestamp': None, u'hash': u'5e1a48ce6835204474aaaad1c9181958', u'htype': u'bsr_m-1.0', u'pulse_id': 719527}\n",
        "[-0.82482173238305245, 0.58040079299603164] [1429623855475, 1429623855480] {u'global_timestamp': None, u'hash': u'5e1a48ce6835204474aaaad1c9181958', u'htype': u'bsr_m-1.0', u'pulse_id': 719528}\n",
        "[-0.71977954442760639, -0.37267922831028727]"
       ]
      },
      {
       "output_type": "stream",
       "stream": "stderr",
       "text": [
        "\u001b[2J\u001b[H\u001b[2J\u001b[H\u001b[2J\u001b[H\u001b[2J\u001b[H\u001b[2J\u001b[H\u001b[2J\u001b[H\u001b[2J\u001b[H"
       ]
      },
      {
       "output_type": "stream",
       "stream": "stdout",
       "text": [
        " [1429623855485, 1429623855491] {u'global_timestamp': None, u'hash': u'5e1a48ce6835204474aaaad1c9181958', u'htype': u'bsr_m-1.0', u'pulse_id': 719529}\n",
        "[0.13896417606751482, -0.79924060815370179] [1429623855495, 1429623855500] {u'global_timestamp': None, u'hash': u'5e1a48ce6835204474aaaad1c9181958', u'htype': u'bsr_m-1.0', u'pulse_id': 719530}\n",
        "[0.96188441277866721, -0.3071047810947673] [1429623855506, 1429623855510] {u'global_timestamp': None, u'hash': u'5e1a48ce6835204474aaaad1c9181958', u'htype': u'bsr_m-1.0', u'pulse_id': 719531}\n",
        "[0.99239209516472804, 0.65126084306917975] [1429623855515, 1429623855520] {u'global_timestamp': None, u'hash': u'5e1a48ce6835204474aaaad1c9181958', u'htype': u'bsr_m-1.0', u'pulse_id': 719532}\n",
        "[0.20243860073333869, 1.1947393292113244] [1429623855525, 1429623855531] {u'global_timestamp': None, u'hash': u'5e1a48ce6835204474aaaad1c9181958', u'htype': u'bsr_m-1.0', u'pulse_id': 719533}\n",
        "[-0.68169647079247098, 0.82365906355203045] [1429623855535, 1429623855540] {u'global_timestamp': None, u'hash': u'5e1a48ce6835204474aaaad1c9181958', u'htype': u'bsr_m-1.0', u'pulse_id': 719534}\n",
        "[-0.8471434120496566, -0.12081046898587078]"
       ]
      },
      {
       "output_type": "stream",
       "stream": "stderr",
       "text": [
        "\u001b[2J\u001b[H\u001b[2J\u001b[H\u001b[2J\u001b[H\u001b[2J\u001b[H\u001b[2J\u001b[H\u001b[2J\u001b[H\u001b[2J\u001b[H"
       ]
      },
      {
       "output_type": "stream",
       "stream": "stdout",
       "text": [
        " [1429623855546, 1429623855550] {u'global_timestamp': None, u'hash': u'5e1a48ce6835204474aaaad1c9181958', u'htype': u'bsr_m-1.0', u'pulse_id': 719535}\n",
        "[-0.14179106824402321, -0.77032833583144122] [1429623855555, 1429623855560] {u'global_timestamp': None, u'hash': u'5e1a48ce6835204474aaaad1c9181958', u'htype': u'bsr_m-1.0', u'pulse_id': 719536}\n",
        "[0.78586286862852361, -0.52773080561197383] [1429623855565, 1429623855570] {u'global_timestamp': None, u'hash': u'5e1a48ce6835204474aaaad1c9181958', u'htype': u'bsr_m-1.0', u'pulse_id': 719537}\n",
        "[1.0829376471026799, 0.38393907118458437] [1429623855575, 1429623855580] {u'global_timestamp': None, u'hash': u'5e1a48ce6835204474aaaad1c9181958', u'htype': u'bsr_m-1.0', u'pulse_id': 719538}\n",
        "[0.47630408587983974, 1.1264962142125234] [1429623855586, 1429623855590] {u'global_timestamp': None, u'hash': u'5e1a48ce6835204474aaaad1c9181958', u'htype': u'bsr_m-1.0', u'pulse_id': 719539}\n",
        "[-0.47630171648572006, 1.0172370106496724] [1429623855596, 1429623855601] {u'global_timestamp': None, u'hash': u'5e1a48ce6835204474aaaad1c9181958', u'htype': u'bsr_m-1.0', u'pulse_id': 719540}\n",
        "[-0.89905837846584269, 0.15661386837708341]"
       ]
      },
      {
       "output_type": "stream",
       "stream": "stdout",
       "text": [
        " [1429623855605, 1429623855610] {u'global_timestamp': None, u'hash': u'5e1a48ce6835204474aaaad1c9181958', u'htype': u'bsr_m-1.0', u'pulse_id': 719541}\n",
        "[-0.40328537467823877, -0.66412026456679318] [1429623855615, 1429623855620] {u'global_timestamp': None, u'hash': u'5e1a48ce6835204474aaaad1c9181958', u'htype': u'bsr_m-1.0', u'pulse_id': 719542}\n",
        "[0.55520588156911654, -0.69038621136273415] [1429623855625, 1429623855630] {u'global_timestamp': None, u'hash': u'5e1a48ce6835204474aaaad1c9181958', u'htype': u'bsr_m-1.0', u'pulse_id': 719543}\n",
        "[1.0951829495913048, 0.10196481834182916] [1429623855636, 1429623855641] {u'global_timestamp': None, u'hash': u'5e1a48ce6835204474aaaad1c9181958', u'htype': u'bsr_m-1.0', u'pulse_id': 719544}\n",
        "[0.7201934032805607, 0.98444894195051069] [1429623855645, 1429623855651] {u'global_timestamp': None, u'hash': u'5e1a48ce6835204474aaaad1c9181958', u'htype': u'bsr_m-1.0', u'pulse_id': 719545}\n",
        "[-0.22499909783791269, 1.1457143260015377]"
       ]
      },
      {
       "output_type": "stream",
       "stream": "stderr",
       "text": [
        "\u001b[2J\u001b[H\u001b[2J\u001b[H\u001b[2J\u001b[H\u001b[2J\u001b[H\u001b[2J\u001b[H\u001b[2J\u001b[H"
       ]
      },
      {
       "output_type": "stream",
       "stream": "stdout",
       "text": [
        " [1429623855655, 1429623855660] {u'global_timestamp': None, u'hash': u'5e1a48ce6835204474aaaad1c9181958', u'htype': u'bsr_m-1.0', u'pulse_id': 719546}\n",
        "[-0.87138892721433947, 0.4374943201118181] [1429623855666, 1429623855670] {u'global_timestamp': None, u'hash': u'5e1a48ce6835204474aaaad1c9181958', u'htype': u'bsr_m-1.0', u'pulse_id': 719547}\n",
        "[-0.6246882566994596, -0.48907686842753489] [1429623855675, 1429623855681] {u'global_timestamp': None, u'hash': u'5e1a48ce6835204474aaaad1c9181958', u'htype': u'bsr_m-1.0', u'pulse_id': 719548}\n",
        "[0.28828745495377872, -0.78211396197540584] [1429623855685, 1429623855691] {u'global_timestamp': None, u'hash': u'5e1a48ce6835204474aaaad1c9181958', u'htype': u'bsr_m-1.0', u'pulse_id': 719549}\n",
        "[1.0281525488545999, -0.17220000813367753] [1429623855695, 1429623855701] {u'global_timestamp': None, u'hash': u'5e1a48ce6835204474aaaad1c9181958', u'htype': u'bsr_m-1.0', u'pulse_id': 719550}\n",
        "[0.91467846973328426, 0.7799129166978731] [1429623855705, 1429623855711] {u'global_timestamp': None, u'hash': u'5e1a48ce6835204474aaaad1c9181958', u'htype': u'bsr_m-1.0', u'pulse_id': 719551}\n",
        "[0.052192762621442061, 1.1988565803228362]"
       ]
      },
      {
       "output_type": "stream",
       "stream": "stderr",
       "text": [
        "\u001b[2J\u001b[H\u001b[2J\u001b[H\u001b[2J\u001b[H\u001b[2J\u001b[H\u001b[2J\u001b[H\u001b[2J\u001b[H\u001b[2J\u001b[H"
       ]
      },
      {
       "output_type": "stream",
       "stream": "stdout",
       "text": [
        " [1429623855715, 1429623855721] {u'global_timestamp': None, u'hash': u'5e1a48ce6835204474aaaad1c9181958', u'htype': u'bsr_m-1.0', u'pulse_id': 719552}\n",
        "[-0.766339190918925, 0.69945611046211309] [1429623855725, 1429623855731] {u'global_timestamp': None, u'hash': u'5e1a48ce6835204474aaaad1c9181958', u'htype': u'bsr_m-1.0', u'pulse_id': 719553}\n",
        "[-0.78836288765630946, -0.25914200399761211] [1429623855735, 1429623855741] {u'global_timestamp': None, u'hash': u'5e1a48ce6835204474aaaad1c9181958', u'htype': u'bsr_m-1.0', u'pulse_id': 719554}\n",
        "[0.006370157622158687, -0.79560707742377001] [1429623855745, 1429623855751] {u'global_timestamp': None, u'hash': u'5e1a48ce6835204474aaaad1c9181958', u'htype': u'bsr_m-1.0', u'pulse_id': 719555}\n",
        "[0.88718604818667324, -0.4167155953437926] [1429623855755, 1429623855761] {u'global_timestamp': None, u'hash': u'5e1a48ce6835204474aaaad1c9181958', u'htype': u'bsr_m-1.0', u'pulse_id': 719556}\n",
        "[1.0442667163428174, 0.52918136096558244] [1429623855766, 1429623855770] {u'global_timestamp': None, u'hash': u'5e1a48ce6835204474aaaad1c9181958', u'htype': u'bsr_m-1.0', u'pulse_id': 719557}\n",
        "[0.33319292020244862, 1.1724304921008259]"
       ]
      },
      {
       "output_type": "stream",
       "stream": "stderr",
       "text": [
        "\u001b[2J\u001b[H\u001b[2J\u001b[H\u001b[2J\u001b[H\u001b[2J\u001b[H\u001b[2J\u001b[H\u001b[2J\u001b[H\u001b[2J\u001b[H\u001b[2J\u001b[H"
       ]
      },
      {
       "output_type": "stream",
       "stream": "stdout",
       "text": [
        " [1429623855775, 1429623855781] {u'global_timestamp': None, u'hash': u'5e1a48ce6835204474aaaad1c9181958', u'htype': u'bsr_m-1.0', u'pulse_id': 719558}\n",
        "[-0.59227737134780134, 0.92163151339154981] [1429623855786, 1429623855790] {u'global_timestamp': None, u'hash': u'5e1a48ce6835204474aaaad1c9181958', u'htype': u'bsr_m-1.0', u'pulse_id': 719559}\n",
        "[-0.88127104028155157, 0.0073678492443133847] [1429623855795, 1429623855801] {u'global_timestamp': None, u'hash': u'5e1a48ce6835204474aaaad1c9181958', u'htype': u'bsr_m-1.0', u'pulse_id': 719560}\n",
        "[-0.26808864014369971, -0.72979070386682299] [1429623855805, 1429623855810] {u'global_timestamp': None, u'hash': u'5e1a48ce6835204474aaaad1c9181958', u'htype': u'bsr_m-1.0', u'pulse_id': 719561}\n",
        "[0.68351275821453383, -0.61210397179232356] [1429623855815, 1429623855821] {u'global_timestamp': None, u'hash': u'5e1a48ce6835204474aaaad1c9181958', u'htype': u'bsr_m-1.0', u'pulse_id': 719562}\n",
        "[1.0986352176772816, 0.25222740673868876] [1429623855825, 1429623855830] {u'global_timestamp': None, u'hash': u'5e1a48ce6835204474aaaad1c9181958', u'htype': u'bsr_m-1.0', u'pulse_id': 719563}\n",
        "[0.59561706344979992, 1.068541148373177]"
       ]
      },
      {
       "output_type": "stream",
       "stream": "stderr",
       "text": [
        "\u001b[2J\u001b[H\u001b[2J\u001b[H\u001b[2J\u001b[H\u001b[2J\u001b[H\u001b[2J\u001b[H\u001b[2J\u001b[H"
       ]
      },
      {
       "output_type": "stream",
       "stream": "stdout",
       "text": [
        " [1429623855835, 1429623855840] {u'global_timestamp': None, u'hash': u'5e1a48ce6835204474aaaad1c9181958', u'htype': u'bsr_m-1.0', u'pulse_id': 719564}\n",
        "[-0.36306913325823553, 1.0863221636760905] [1429623855845, 1429623855850] {u'global_timestamp': None, u'hash': u'5e1a48ce6835204474aaaad1c9181958', u'htype': u'bsr_m-1.0', u'pulse_id': 719565}\n",
        "[-0.89601170440137101, 0.28922266917928385] [1429623855855, 1429623855861] {u'global_timestamp': None, u'hash': u'5e1a48ce6835204474aaaad1c9181958', u'htype': u'bsr_m-1.0', u'pulse_id': 719566}\n",
        "[-0.51322570786119792, -0.58990773588953593] [1429623855865, 1429623855870] {u'global_timestamp': None, u'hash': u'5e1a48ce6835204474aaaad1c9181958', u'htype': u'bsr_m-1.0', u'pulse_id': 719567}\n",
        "[0.43335717645131622, -0.74280061142767928] [1429623855874, 1429623855881] {u'global_timestamp': None, u'hash': u'5e1a48ce6835204474aaaad1c9181958', u'htype': u'bsr_m-1.0', u'pulse_id': 719568}\n",
        "[1.0734530100898747, -0.028886952766998403]"
       ]
      },
      {
       "output_type": "stream",
       "stream": "stderr",
       "text": [
        "\u001b[2J\u001b[H\u001b[2J\u001b[H\u001b[2J\u001b[H\u001b[2J\u001b[H\u001b[2J\u001b[H\u001b[2J\u001b[H\u001b[2J\u001b[H"
       ]
      },
      {
       "output_type": "stream",
       "stream": "stdout",
       "text": [
        " [1429623855885, 1429623855891] {u'global_timestamp': None, u'hash': u'5e1a48ce6835204474aaaad1c9181958', u'htype': u'bsr_m-1.0', u'pulse_id': 719569}\n",
        "[0.8185606355603654, 0.89546431470139698] [1429623855894, 1429623855900] {u'global_timestamp': None, u'hash': u'5e1a48ce6835204474aaaad1c9181958', u'htype': u'bsr_m-1.0', u'pulse_id': 719570}\n",
        "[-0.096973073491191858, 1.180408898531339] [1429623855906, 1429623855910] {u'global_timestamp': None, u'hash': u'5e1a48ce6835204474aaaad1c9181958', u'htype': u'bsr_m-1.0', u'pulse_id': 719571}\n",
        "[-0.83141064716281654, 0.56397006243885417] [1429623855915, 1429623855920] {u'global_timestamp': None, u'hash': u'5e1a48ce6835204474aaaad1c9181958', u'htype': u'bsr_m-1.0', u'pulse_id': 719572}\n",
        "[-0.70951356725322023, -0.38710117052597176] [1429623855925, 1429623855931] {u'global_timestamp': None, u'hash': u'5e1a48ce6835204474aaaad1c9181958', u'htype': u'bsr_m-1.0', u'pulse_id': 719573}\n",
        "[0.15664655312589995, -0.79839429486498692] [1429623855935, 1429623855940] {u'global_timestamp': None, u'hash': u'5e1a48ce6835204474aaaad1c9181958', u'htype': u'bsr_m-1.0', u'pulse_id': 719574}\n",
        "[0.97072609380003183, -0.29176830883632399]"
       ]
      },
      {
       "output_type": "stream",
       "stream": "stdout",
       "text": [
        " [1429623855946, 1429623855951] {u'global_timestamp': None, u'hash': u'5e1a48ce6835204474aaaad1c9181958', u'htype': u'bsr_m-1.0', u'pulse_id': 719575}\n",
        "[0.98426407939353067, 0.66698719243070426] [1429623855956, 1429623855960] {u'global_timestamp': None, u'hash': u'5e1a48ce6835204474aaaad1c9181958', u'htype': u'bsr_m-1.0', u'pulse_id': 719576}\n",
        "[0.18481374838535297, 1.1963968225987205] [1429623855965, 1429623855970] {u'global_timestamp': None, u'hash': u'5e1a48ce6835204474aaaad1c9181958', u'htype': u'bsr_m-1.0', u'pulse_id': 719577}\n",
        "[-0.69261395174967788, 0.80972380918884856] [1429623855975, 1429623855981] {u'global_timestamp': None, u'hash': u'5e1a48ce6835204474aaaad1c9181958', u'htype': u'bsr_m-1.0', u'pulse_id': 719578}\n",
        "[-0.84131603997257176, -0.13752646250383949] [1429623855986, 1429623855991] {u'global_timestamp': None, u'hash': u'5e1a48ce6835204474aaaad1c9181958', u'htype': u'bsr_m-1.0', u'pulse_id': 719579}\n",
        "[-0.12457650214601509, -0.77445646115352984] [1429623855995, 1429623856001] {u'global_timestamp': None, u'hash': u'5e1a48ce6835204474aaaad1c9181958', u'htype': u'bsr_m-1.0', u'pulse_id': 719580}\n",
        "[0.79863763606598537, -0.51547568335487948]"
       ]
      },
      {
       "output_type": "stream",
       "stream": "stderr",
       "text": [
        "\u001b[2J\u001b[H\u001b[2J\u001b[H\u001b[2J\u001b[H\u001b[2J\u001b[H\u001b[2J\u001b[H\u001b[2J\u001b[H\u001b[2J\u001b[H"
       ]
      },
      {
       "output_type": "stream",
       "stream": "stdout",
       "text": [
        " [1429623856005, 1429623856010] {u'global_timestamp': None, u'hash': u'5e1a48ce6835204474aaaad1c9181958', u'htype': u'bsr_m-1.0', u'pulse_id': 719581}\n",
        "[1.0795275536114513, 0.4013101381350811] [1429623856014, 1429623856020] {u'global_timestamp': None, u'hash': u'5e1a48ce6835204474aaaad1c9181958', u'htype': u'bsr_m-1.0', u'pulse_id': 719582}\n",
        "[0.4598443556893046, 1.1330123470129156] [1429623856026, 1429623856030] {u'global_timestamp': None, u'hash': u'5e1a48ce6835204474aaaad1c9181958', u'htype': u'bsr_m-1.0', u'pulse_id': 719583}\n",
        "[-0.49067808334631868, 1.0069073068539653] [1429623856035, 1429623856040] {u'global_timestamp': None, u'hash': u'5e1a48ce6835204474aaaad1c9181958', u'htype': u'bsr_m-1.0', u'pulse_id': 719584}\n",
        "[-0.89813381660488301, 0.13893541001718057] [1429623856045, 1429623856051] {u'global_timestamp': None, u'hash': u'5e1a48ce6835204474aaaad1c9181958', u'htype': u'bsr_m-1.0', u'pulse_id': 719585}\n",
        "[-0.3879099220068517, -0.67289398440318515]"
       ]
      },
      {
       "output_type": "stream",
       "stream": "stderr",
       "text": [
        "\u001b[2J\u001b[H\u001b[2J\u001b[H\u001b[2J\u001b[H\u001b[2J\u001b[H\u001b[2J\u001b[H\u001b[2J\u001b[H\u001b[2J\u001b[H"
       ]
      },
      {
       "output_type": "stream",
       "stream": "stdout",
       "text": [
        " [1429623856055, 1429623856061] {u'global_timestamp': None, u'hash': u'5e1a48ce6835204474aaaad1c9181958', u'htype': u'bsr_m-1.0', u'pulse_id': 719586}\n",
        "[0.57089610477239061, -0.68218867512011827] [1429623856065, 1429623856071] {u'global_timestamp': None, u'hash': u'5e1a48ce6835204474aaaad1c9181958', u'htype': u'bsr_m-1.0', u'pulse_id': 719587}\n",
        "[1.0967624244725473, 0.11959683364686687] [1429623856075, 1429623856080] {u'global_timestamp': None, u'hash': u'5e1a48ce6835204474aaaad1c9181958', u'htype': u'bsr_m-1.0', u'pulse_id': 719588}\n",
        "[0.70620996791807877, 0.9953046427607235] [1429623856085, 1429623856091] {u'global_timestamp': None, u'hash': u'5e1a48ce6835204474aaaad1c9181958', u'htype': u'bsr_m-1.0', u'pulse_id': 719589}\n",
        "[-0.24168913745976925, 1.1398130310556451] [1429623856095, 1429623856100] {u'global_timestamp': None, u'hash': u'5e1a48ce6835204474aaaad1c9181958', u'htype': u'bsr_m-1.0', u'pulse_id': 719590}\n",
        "[-0.87544082563729697, 0.42026165276785787] [1429623856105, 1429623856110] {u'global_timestamp': None, u'hash': u'5e1a48ce6835204474aaaad1c9181958', u'htype': u'bsr_m-1.0', u'pulse_id': 719591}\n",
        "[-0.61237671719973785, -0.50179727328604273]"
       ]
      },
      {
       "output_type": "stream",
       "stream": "stderr",
       "text": [
        "\u001b[2J\u001b[H\u001b[2J\u001b[H\u001b[2J\u001b[H\u001b[2J\u001b[H\u001b[2J\u001b[H\u001b[2J\u001b[H"
       ]
      },
      {
       "output_type": "stream",
       "stream": "stdout",
       "text": [
        " [1429623856116, 1429623856120] {u'global_timestamp': None, u'hash': u'5e1a48ce6835204474aaaad1c9181958', u'htype': u'bsr_m-1.0', u'pulse_id': 719592}\n",
        "[0.30564325973770889, -0.77862702278470186] [1429623856125, 1429623856130] {u'global_timestamp': None, u'hash': u'5e1a48ce6835204474aaaad1c9181958', u'htype': u'bsr_m-1.0', u'pulse_id': 719593}\n",
        "[1.0345957720447876, -0.15571160070485091] [1429623856135, 1429623856141] {u'global_timestamp': None, u'hash': u'5e1a48ce6835204474aaaad1c9181958', u'htype': u'bsr_m-1.0', u'pulse_id': 719594}\n",
        "[0.90428524164311719, 0.79424342661494585] [1429623856145, 1429623856150] {u'global_timestamp': None, u'hash': u'5e1a48ce6835204474aaaad1c9181958', u'htype': u'bsr_m-1.0', u'pulse_id': 719595}\n",
        "[0.034518569226192689, 1.1978537879989308] [1429623856155, 1429623856161] {u'global_timestamp': None, u'hash': u'5e1a48ce6835204474aaaad1c9181958', u'htype': u'bsr_m-1.0', u'pulse_id': 719596}\n",
        "[-0.77504477772038338, 0.68404197853521442] [1429623856165, 1429623856171] {u'global_timestamp': None, u'hash': u'5e1a48ce6835204474aaaad1c9181958', u'htype': u'bsr_m-1.0', u'pulse_id': 719597}\n",
        "[-0.78009599150658648, -0.27479579371982493]"
       ]
      },
      {
       "output_type": "stream",
       "stream": "stderr",
       "text": [
        "\u001b[2J\u001b[H\u001b[2J\u001b[H\u001b[2J\u001b[H\u001b[2J\u001b[H\u001b[2J\u001b[H\u001b[2J\u001b[H\u001b[2J\u001b[H"
       ]
      },
      {
       "output_type": "stream",
       "stream": "stdout",
       "text": [
        " [1429623856175, 1429623856180] {u'global_timestamp': None, u'hash': u'5e1a48ce6835204474aaaad1c9181958', u'htype': u'bsr_m-1.0', u'pulse_id': 719598}\n",
        "[0.024008990527752599, -0.79710850286184431] [1429623856185, 1429623856190] {u'global_timestamp': None, u'hash': u'5e1a48ce6835204474aaaad1c9181958', u'htype': u'bsr_m-1.0', u'pulse_id': 719599}\n",
        "[0.89797975622038062, -0.40268425287414139] [1429623856195, 1429623856201] {u'global_timestamp': None, u'hash': u'5e1a48ce6835204474aaaad1c9181958', u'htype': u'bsr_m-1.0', u'pulse_id': 719600}\n",
        "[1.0382916141161826, 0.54584511978521322] [1429623856205, 1429623856211] {u'global_timestamp': None, u'hash': u'5e1a48ce6835204474aaaad1c9181958', u'htype': u'bsr_m-1.0', u'pulse_id': 719601}\n",
        "[0.31594248914704393, 1.1764060842605288] [1429623856215, 1429623856220] {u'global_timestamp': None, u'hash': u'5e1a48ce6835204474aaaad1c9181958', u'htype': u'bsr_m-1.0', u'pulse_id': 719602}\n",
        "[-0.60494316447407559, 0.90926379779407629]"
       ]
      },
      {
       "output_type": "stream",
       "stream": "stderr",
       "text": [
        "\u001b[2J\u001b[H\u001b[2J\u001b[H\u001b[2J\u001b[H\u001b[2J\u001b[H\u001b[2J\u001b[H\u001b[2J\u001b[H\u001b[2J\u001b[H"
       ]
      },
      {
       "output_type": "stream",
       "stream": "stdout",
       "text": [
        " [1429623856225, 1429623856231] {u'global_timestamp': None, u'hash': u'5e1a48ce6835204474aaaad1c9181958', u'htype': u'bsr_m-1.0', u'pulse_id': 719603}\n",
        "[-0.87770732368969651, -0.0099723534266618619] [1429623856236, 1429623856241] {u'global_timestamp': None, u'hash': u'5e1a48ce6835204474aaaad1c9181958', u'htype': u'bsr_m-1.0', u'pulse_id': 719604}\n",
        "[-0.25157187843334583, -0.73616089124404716] [1429623856245, 1429623856250] {u'global_timestamp': None, u'hash': u'5e1a48ce6835204474aaaad1c9181958', u'htype': u'bsr_m-1.0', u'pulse_id': 719605}\n",
        "[0.69779713049783643, -0.60164742297880114] [1429623856255, 1429623856261] {u'global_timestamp': None, u'hash': u'5e1a48ce6835204474aaaad1c9181958', u'htype': u'bsr_m-1.0', u'pulse_id': 719606}\n",
        "[1.0975542145320223, 0.26989698898665093] [1429623856265, 1429623856270] {u'global_timestamp': None, u'hash': u'5e1a48ce6835204474aaaad1c9181958', u'htype': u'bsr_m-1.0', u'pulse_id': 719607}\n",
        "[0.58016455418242874, 1.0771784316242559] [1429623856275, 1429623856280] {u'global_timestamp': None, u'hash': u'5e1a48ce6835204474aaaad1c9181958', u'htype': u'bsr_m-1.0', u'pulse_id': 719608}\n",
        "[-0.37868618289019518, 1.0779860695421166]"
       ]
      },
      {
       "output_type": "stream",
       "stream": "stdout",
       "text": [
        " [1429623856285, 1429623856291] {u'global_timestamp': None, u'hash': u'5e1a48ce6835204474aaaad1c9181958', u'htype': u'bsr_m-1.0', u'pulse_id': 719609}\n",
        "[-0.8974350509880098, 0.27157736416316514] [1429623856295, 1429623856300] {u'global_timestamp': None, u'hash': u'5e1a48ce6835204474aaaad1c9181958', u'htype': u'bsr_m-1.0', u'pulse_id': 719610}\n",
        "[-0.49914673311485924, -0.60063923973147326] [1429623856306, 1429623856310] {u'global_timestamp': None, u'hash': u'5e1a48ce6835204474aaaad1c9181958', u'htype': u'bsr_m-1.0', u'pulse_id': 719611}\n",
        "[0.44999432807736706, -0.73675181895402386] [1429623856315, 1429623856320] {u'global_timestamp': None, u'hash': u'5e1a48ce6835204474aaaad1c9181958', u'htype': u'bsr_m-1.0', u'pulse_id': 719612}\n",
        "[1.0773522181168025, -0.011619095882593133] [1429623856325, 1429623856330] {u'global_timestamp': None, u'hash': u'5e1a48ce6835204474aaaad1c9181958', u'htype': u'bsr_m-1.0', u'pulse_id': 719613}\n",
        "[0.80613698611033169, 0.90807524801183193] [1429623856335, 1429623856341] {u'global_timestamp': None, u'hash': u'5e1a48ce6835204474aaaad1c9181958', u'htype': u'bsr_m-1.0', u'pulse_id': 719614}\n",
        "[-0.11429733440842091, 1.1767684743404885]"
       ]
      },
      {
       "output_type": "stream",
       "stream": "stderr",
       "text": [
        "\u001b[2J\u001b[H\u001b[2J\u001b[H\u001b[2J\u001b[H\u001b[2J\u001b[H\u001b[2J\u001b[H\u001b[2J\u001b[H\u001b[2J\u001b[H"
       ]
      },
      {
       "output_type": "stream",
       "stream": "stdout",
       "text": [
        " [1429623856345, 1429623856350] {u'global_timestamp': None, u'hash': u'5e1a48ce6835204474aaaad1c9181958', u'htype': u'bsr_m-1.0', u'pulse_id': 719615}\n",
        "[-0.83770767395486312, 0.54742526995910978] [1429623856355, 1429623856360] {u'global_timestamp': None, u'hash': u'5e1a48ce6835204474aaaad1c9181958', u'htype': u'bsr_m-1.0', u'pulse_id': 719616}\n",
        "[-0.69899390252770355, -0.40133912538895261] [1429623856366, 1429623856370] {u'global_timestamp': None, u'hash': u'5e1a48ce6835204474aaaad1c9181958', u'htype': u'bsr_m-1.0', u'pulse_id': 719617}\n",
        "[0.17431117813425923, -0.79723510207187265] [1429623856376, 1429623856380] {u'global_timestamp': None, u'hash': u'5e1a48ce6835204474aaaad1c9181958', u'htype': u'bsr_m-1.0', u'pulse_id': 719618}\n",
        "[0.97929490432314026, -0.27627772489521235] [1429623856385, 1429623856390] {u'global_timestamp': None, u'hash': u'5e1a48ce6835204474aaaad1c9181958', u'htype': u'bsr_m-1.0', u'pulse_id': 719619}\n",
        "[0.97585895055353666, 0.68256719608284322]"
       ]
      },
      {
       "output_type": "stream",
       "stream": "stderr",
       "text": [
        "\u001b[2J\u001b[H\u001b[2J\u001b[H\u001b[2J\u001b[H\u001b[2J\u001b[H\u001b[2J\u001b[H\u001b[2J\u001b[H\u001b[2J\u001b[H"
       ]
      },
      {
       "output_type": "stream",
       "stream": "stdout",
       "text": [
        " [1429623856395, 1429623856400] {u'global_timestamp': None, u'hash': u'5e1a48ce6835204474aaaad1c9181958', u'htype': u'bsr_m-1.0', u'pulse_id': 719620}\n",
        "[0.16716231687550948, 1.1977420624549782] [1429623856406, 1429623856411] {u'global_timestamp': None, u'hash': u'5e1a48ce6835204474aaaad1c9181958', u'htype': u'bsr_m-1.0', u'pulse_id': 719621}\n",
        "[-0.70328304120296792, 0.79559747792927316] [1429623856415, 1429623856420] {u'global_timestamp': None, u'hash': u'5e1a48ce6835204474aaaad1c9181958', u'htype': u'bsr_m-1.0', u'pulse_id': 719622}\n",
        "[-0.83519367572898029, -0.15413668106610873] [1429623856426, 1429623856431] {u'global_timestamp': None, u'hash': u'5e1a48ce6835204474aaaad1c9181958', u'htype': u'bsr_m-1.0', u'pulse_id': 719623}\n",
        "[-0.10729155765637091, -0.77827920867429023] [1429623856436, 1429623856441] {u'global_timestamp': None, u'hash': u'5e1a48ce6835204474aaaad1c9181958', u'htype': u'bsr_m-1.0', u'pulse_id': 719624}\n",
        "[0.81119346255150904, -0.50299634339304733] [1429623856446, 1429623856450] {u'global_timestamp': None, u'hash': u'5e1a48ce6835204474aaaad1c9181958', u'htype': u'bsr_m-1.0', u'pulse_id': 719625}\n",
        "[1.0758104931262245, 0.41861811797002213]"
       ]
      },
      {
       "output_type": "stream",
       "stream": "stderr",
       "text": [
        "\u001b[2J\u001b[H\u001b[2J\u001b[H\u001b[2J\u001b[H\u001b[2J\u001b[H\u001b[2J\u001b[H\u001b[2J\u001b[H"
       ]
      },
      {
       "output_type": "stream",
       "stream": "stdout",
       "text": [
        " [1429623856455, 1429623856460] {u'global_timestamp': None, u'hash': u'5e1a48ce6835204474aaaad1c9181958', u'htype': u'bsr_m-1.0', u'pulse_id': 719626}\n",
        "[0.44327185650134215, 1.1392360898805591] [1429623856465, 1429623856470] {u'global_timestamp': None, u'hash': u'5e1a48ce6835204474aaaad1c9181958', u'htype': u'bsr_m-1.0', u'pulse_id': 719627}\n",
        "[-0.50486934191159982, 0.99632473226406093] [1429623856475, 1429623856481] {u'global_timestamp': None, u'hash': u'5e1a48ce6835204474aaaad1c9181958', u'htype': u'bsr_m-1.0', u'pulse_id': 719628}\n",
        "[-0.8968964568689054, 0.1212760882436429] [1429623856485, 1429623856490] {u'global_timestamp': None, u'hash': u'5e1a48ce6835204474aaaad1c9181958', u'htype': u'bsr_m-1.0', u'pulse_id': 719629}\n",
        "[-0.3723815668044963, -0.68139415436190021] [1429623856496, 1429623856500] {u'global_timestamp': None, u'hash': u'5e1a48ce6835204474aaaad1c9181958', u'htype': u'bsr_m-1.0', u'pulse_id': 719630}\n",
        "[0.58643875728075734, -0.67371467620451053]"
       ]
      },
      {
       "output_type": "stream",
       "stream": "stderr",
       "text": [
        "\u001b[2J\u001b[H\u001b[2J\u001b[H\u001b[2J\u001b[H\u001b[2J\u001b[H\u001b[2J\u001b[H\u001b[2J\u001b[H\u001b[2J\u001b[H"
       ]
      },
      {
       "output_type": "stream",
       "stream": "stdout",
       "text": [
        " [1429623856506, 1429623856510] {u'global_timestamp': None, u'hash': u'5e1a48ce6835204474aaaad1c9181958', u'htype': u'bsr_m-1.0', u'pulse_id': 719631}\n",
        "[1.0980295312493473, 0.13725404591363613] [1429623856516, 1429623856521] {u'global_timestamp': None, u'hash': u'5e1a48ce6835204474aaaad1c9181958', u'htype': u'bsr_m-1.0', u'pulse_id': 719632}\n",
        "[0.69203655683628462, 1.0059111088509927] [1429623856525, 1429623856531] {u'global_timestamp': None, u'hash': u'5e1a48ce6835204474aaaad1c9181958', u'htype': u'bsr_m-1.0', u'pulse_id': 719633}\n",
        "[-0.25827209761559022, 1.1336172149602455] [1429623856535, 1429623856540] {u'global_timestamp': None, u'hash': u'5e1a48ce6835204474aaaad1c9181958', u'htype': u'bsr_m-1.0', u'pulse_id': 719634}\n",
        "[-0.87918703777612195, 0.40295995923142969] [1429623856545, 1429623856550] {u'global_timestamp': None, u'hash': u'5e1a48ce6835204474aaaad1c9181958', u'htype': u'bsr_m-1.0', u'pulse_id': 719635}\n",
        "[-0.59984193115767359, -0.51429774701695519] [1429623856555, 1429623856562] {u'global_timestamp': None, u'hash': u'5e1a48ce6835204474aaaad1c9181958', u'htype': u'bsr_m-1.0', u'pulse_id': 719636}\n",
        "[0.32293461948071606, -0.77483339881078561]"
       ]
      },
      {
       "output_type": "stream",
       "stream": "stderr",
       "text": [
        "\u001b[2J\u001b[H\u001b[2J\u001b[H\u001b[2J\u001b[H\u001b[2J\u001b[H\u001b[2J\u001b[H\u001b[2J\u001b[H\u001b[2J\u001b[H"
       ]
      },
      {
       "output_type": "stream",
       "stream": "stdout",
       "text": [
        " [1429623856565, 1429623856570] {u'global_timestamp': None, u'hash': u'5e1a48ce6835204474aaaad1c9181958', u'htype': u'bsr_m-1.0', u'pulse_id': 719637}\n",
        "[1.0407461090842081, -0.13911171941253153] [1429623856575, 1429623856580] {u'global_timestamp': None, u'hash': u'5e1a48ce6835204474aaaad1c9181958', u'htype': u'bsr_m-1.0', u'pulse_id': 719638}\n",
        "[0.89363996446864002, 0.80838771091978501] [1429623856585, 1429623856590] {u'global_timestamp': None, u'hash': u'5e1a48ce6835204474aaaad1c9181958', u'htype': u'bsr_m-1.0', u'pulse_id': 719639}\n",
        "[0.016864896578821439, 1.1965382855561295] [1429623856595, 1429623856600] {u'global_timestamp': None, u'hash': u'5e1a48ce6835204474aaaad1c9181958', u'htype': u'bsr_m-1.0', u'pulse_id': 719640}\n",
        "[-0.78347614062273818, 0.66847615622393408] [1429623856606, 1429623856610] {u'global_timestamp': None, u'hash': u'5e1a48ce6835204474aaaad1c9181958', u'htype': u'bsr_m-1.0', u'pulse_id': 719641}\n",
        "[-0.77155328849472204, -0.29030079065206071] [1429623856615, 1429623856621] {u'global_timestamp': None, u'hash': u'5e1a48ce6835204474aaaad1c9181958', u'htype': u'bsr_m-1.0', u'pulse_id': 719642}\n",
        "[0.041671637701421543, -0.79829745174049482]"
       ]
      },
      {
       "output_type": "stream",
       "stream": "stdout",
       "text": [
        " [1429623856625, 1429623856630] {u'global_timestamp': None, u'hash': u'5e1a48ce6835204474aaaad1c9181958', u'htype': u'bsr_m-1.0', u'pulse_id': 719643}\n",
        "[0.90852339119985359, -0.38846403958329395] [1429623856635, 1429623856641] {u'global_timestamp': None, u'hash': u'5e1a48ce6835204474aaaad1c9181958', u'htype': u'bsr_m-1.0', u'pulse_id': 719644}\n",
        "[1.0320224675257963, 0.56240049672582704] [1429623856645, 1429623856650] {u'global_timestamp': None, u'hash': u'5e1a48ce6835204474aaaad1c9181958', u'htype': u'bsr_m-1.0', u'pulse_id': 719645}\n",
        "[0.29862438545034853, 1.180075687640741] [1429623856655, 1429623856660] {u'global_timestamp': None, u'hash': u'5e1a48ce6835204474aaaad1c9181958', u'htype': u'bsr_m-1.0', u'pulse_id': 719646}\n",
        "[-0.6173880406048653, 0.89667381118936307] [1429623856666, 1429623856670] {u'global_timestamp': None, u'hash': u'5e1a48ce6835204474aaaad1c9181958', u'htype': u'bsr_m-1.0', u'pulse_id': 719647}\n",
        "[-0.87383721053241925, -0.027246754393625339]"
       ]
      },
      {
       "output_type": "stream",
       "stream": "stderr",
       "text": [
        "\u001b[2J\u001b[H\u001b[2J\u001b[H\u001b[2J\u001b[H\u001b[2J\u001b[H\u001b[2J\u001b[H\u001b[2J\u001b[H"
       ]
      },
      {
       "output_type": "stream",
       "stream": "stdout",
       "text": [
        " [1429623856675, 1429623856680] {u'global_timestamp': None, u'hash': u'5e1a48ce6835204474aaaad1c9181958', u'htype': u'bsr_m-1.0', u'pulse_id': 719648}\n",
        "[-0.23494494017686104, -0.74223770198921613] [1429623856685, 1429623856690] {u'global_timestamp': None, u'hash': u'5e1a48ce6835204474aaaad1c9181958', u'htype': u'bsr_m-1.0', u'pulse_id': 719649}\n",
        "[0.71189416349957091, -0.5909396517277159] [1429623856696, 1429623856700] {u'global_timestamp': None, u'hash': u'5e1a48ce6835204474aaaad1c9181958', u'htype': u'bsr_m-1.0', u'pulse_id': 719650}\n",
        "[1.0961605951490103, 0.28754466672715978] [1429623856705, 1429623856710] {u'global_timestamp': None, u'hash': u'5e1a48ce6835204474aaaad1c9181958', u'htype': u'bsr_m-1.0', u'pulse_id': 719651}\n",
        "[0.56456156964840642, 1.0855408223260004] [1429623856715, 1429623856720] {u'global_timestamp': None, u'hash': u'5e1a48ce6835204474aaaad1c9181958', u'htype': u'bsr_m-1.0', u'pulse_id': 719652}\n",
        "[-0.3941532205514976, 1.0693748297590533]"
       ]
      },
      {
       "output_type": "stream",
       "stream": "stderr",
       "text": [
        "\u001b[2J\u001b[H\u001b[2J\u001b[H\u001b[2J\u001b[H\u001b[2J\u001b[H\u001b[2J\u001b[H\u001b[2J\u001b[H\u001b[2J\u001b[H"
       ]
      },
      {
       "output_type": "stream",
       "stream": "stdout",
       "text": [
        " [1429623856725, 1429623856731] {u'global_timestamp': None, u'hash': u'5e1a48ce6835204474aaaad1c9181958', u'htype': u'bsr_m-1.0', u'pulse_id': 719653}\n",
        "[-0.89854581868068961, 0.25390962803907563] [1429623856735, 1429623856740] {u'global_timestamp': None, u'hash': u'5e1a48ce6835204474aaaad1c9181958', u'htype': u'bsr_m-1.0', u'pulse_id': 719654}\n",
        "[-0.48487999614483424, -0.61111983708304085] [1429623856746, 1429623856750] {u'global_timestamp': None, u'hash': u'5e1a48ce6835204474aaaad1c9181958', u'htype': u'bsr_m-1.0', u'pulse_id': 719655}\n",
        "[0.46652179753428435, -0.73040946466178913] [1429623856755, 1429623856760] {u'global_timestamp': None, u'hash': u'5e1a48ce6835204474aaaad1c9181958', u'htype': u'bsr_m-1.0', u'pulse_id': 719656}\n",
        "[1.0809451408622528, 0.0057150787664285441] [1429623856765, 1429623856770] {u'global_timestamp': None, u'hash': u'5e1a48ce6835204474aaaad1c9181958', u'htype': u'bsr_m-1.0', u'pulse_id': 719657}\n",
        "[0.79349204554176023, 0.92046428278597214] [1429623856775, 1429623856780] {u'global_timestamp': None, u'hash': u'5e1a48ce6835204474aaaad1c9181958', u'htype': u'bsr_m-1.0', u'pulse_id': 719658}\n",
        "[-0.13155443824740068, 1.1728219478033639]"
       ]
      },
      {
       "output_type": "stream",
       "stream": "stderr",
       "text": [
        "\u001b[2J\u001b[H\u001b[2J\u001b[H\u001b[2J\u001b[H\u001b[2J\u001b[H\u001b[2J\u001b[H\u001b[2J\u001b[H"
       ]
      },
      {
       "output_type": "stream",
       "stream": "stdout",
       "text": [
        " [1429623856785, 1429623856790] {u'global_timestamp': None, u'hash': u'5e1a48ce6835204474aaaad1c9181958', u'htype': u'bsr_m-1.0', u'pulse_id': 719659}\n",
        "[-0.84371083937990499, 0.53077160040861293] [1429623856796, 1429623856800] {u'global_timestamp': None, u'hash': u'5e1a48ce6835204474aaaad1c9181958', u'htype': u'bsr_m-1.0', u'pulse_id': 719660}\n",
        "[-0.68822384693203997, -0.41538863097042672] [1429623856805, 1429623856810] {u'global_timestamp': None, u'hash': u'5e1a48ce6835204474aaaad1c9181958', u'htype': u'bsr_m-1.0', u'pulse_id': 719661}\n",
        "[0.19195251530463148, -0.79576339304533161] [1429623856815, 1429623856820] {u'global_timestamp': None, u'hash': u'5e1a48ce6835204474aaaad1c9181958', u'htype': u'bsr_m-1.0', u'pulse_id': 719662}\n",
        "[0.98758815903097541, -0.26063788375252395] [1429623856825, 1429623856831] {u'global_timestamp': None, u'hash': u'5e1a48ce6835204474aaaad1c9181958', u'htype': u'bsr_m-1.0', u'pulse_id': 719663}\n",
        "[0.96717934266675487, 0.69799597152191395] [1429623856835, 1429623856840] {u'global_timestamp': None, u'hash': u'5e1a48ce6835204474aaaad1c9181958', u'htype': u'bsr_m-1.0', u'pulse_id': 719664}\n",
        "[0.14948983785715517, 1.1987746272051931]"
       ]
      },
      {
       "output_type": "stream",
       "stream": "stderr",
       "text": [
        "\u001b[2J\u001b[H\u001b[2J\u001b[H\u001b[2J\u001b[H\u001b[2J\u001b[H\u001b[2J\u001b[H\u001b[2J\u001b[H\u001b[2J\u001b[H"
       ]
      },
      {
       "output_type": "stream",
       "stream": "stdout",
       "text": [
        " [1429623856846, 1429623856851] {u'global_timestamp': None, u'hash': u'5e1a48ce6835204474aaaad1c9181958', u'htype': u'bsr_m-1.0', u'pulse_id': 719665}\n",
        "[-0.71370039564423227, 0.78128449672120093] [1429623856856, 1429623856860] {u'global_timestamp': None, u'hash': u'5e1a48ce6835204474aaaad1c9181958', u'htype': u'bsr_m-1.0', u'pulse_id': 719666}\n",
        "[-0.82877823796194772, -0.17063591931746119] [1429623856865, 1429623856870] {u'global_timestamp': None, u'hash': u'5e1a48ce6835204474aaaad1c9181958', u'htype': u'bsr_m-1.0', u'pulse_id': 719667}\n",
        "[-0.089941651577744003, -0.78179538041076513] [1429623856875, 1429623856880] {u'global_timestamp': None, u'hash': u'5e1a48ce6835204474aaaad1c9181958', u'htype': u'bsr_m-1.0', u'pulse_id': 719668}\n",
        "[0.823526413306232, -0.49029669653578639] [1429623856886, 1429623856890] {u'global_timestamp': None, u'hash': u'5e1a48ce6835204474aaaad1c9181958', u'htype': u'bsr_m-1.0', u'pulse_id': 719669}\n",
        "[1.0717876305094678, 0.43585758666787533]"
       ]
      },
      {
       "output_type": "stream",
       "stream": "stderr",
       "text": [
        "\u001b[2J\u001b[H\u001b[2J\u001b[H\u001b[2J\u001b[H\u001b[2J\u001b[H\u001b[2J\u001b[H\u001b[2J\u001b[H\u001b[2J\u001b[H"
       ]
      },
      {
       "output_type": "stream",
       "stream": "stdout",
       "text": [
        " [1429623856896, 1429623856900] {u'global_timestamp': None, u'hash': u'5e1a48ce6835204474aaaad1c9181958', u'htype': u'bsr_m-1.0', u'pulse_id': 719670}\n",
        "[0.42659178185057034, 1.1451654924020818] [1429623856905, 1429623856910] {u'global_timestamp': None, u'hash': u'5e1a48ce6835204474aaaad1c9181958', u'htype': u'bsr_m-1.0', u'pulse_id': 719671}\n",
        "[-0.51887104488657254, 0.98549260327580557] [1429623856915, 1429623856920] {u'global_timestamp': None, u'hash': u'5e1a48ce6835204474aaaad1c9181958', u'htype': u'bsr_m-1.0', u'pulse_id': 719672}\n",
        "[-0.8953466870250506, 0.10364143718248953] [1429623856925, 1429623856930] {u'global_timestamp': None, u'hash': u'5e1a48ce6835204474aaaad1c9181958', u'htype': u'bsr_m-1.0', u'pulse_id': 719673}\n",
        "[-0.35670517538912427, -0.68961811063668721] [1429623856935, 1429623856941] {u'global_timestamp': None, u'hash': u'5e1a48ce6835204474aaaad1c9181958', u'htype': u'bsr_m-1.0', u'pulse_id': 719674}\n",
        "[0.60182896829573651, -0.66496687022060952] [1429623856945, 1429623856951] {u'global_timestamp': None, u'hash': u'5e1a48ce6835204474aaaad1c9181958', u'htype': u'bsr_m-1.0', u'pulse_id': 719675}\n",
        "[1.0989838728323562, 0.15493092167720079]"
       ]
      },
      {
       "output_type": "stream",
       "stream": "stdout",
       "text": [
        " [1429623856956, 1429623856960] {u'global_timestamp': None, u'hash': u'5e1a48ce6835204474aaaad1c9181958', u'htype': u'bsr_m-1.0', u'pulse_id': 719676}\n",
        "[0.67767761173707664, 1.0162650163382891] [1429623856965, 1429623856971] {u'global_timestamp': None, u'hash': u'5e1a48ce6835204474aaaad1c9181958', u'htype': u'bsr_m-1.0', u'pulse_id': 719677}\n",
        "[-0.27474278149247144, 1.127128819376944] [1429623856975, 1429623856980] {u'global_timestamp': None, u'hash': u'5e1a48ce6835204474aaaad1c9181958', u'htype': u'bsr_m-1.0', u'pulse_id': 719678}\n",
        "[-0.88262638963272211, 0.38559466155404853] [1429623856985, 1429623856991] {u'global_timestamp': None, u'hash': u'5e1a48ce6835204474aaaad1c9181958', u'htype': u'bsr_m-1.0', u'pulse_id': 719679}\n",
        "[-0.58708782675841831, -0.52657437218800518] [1429623856995, 1429623857000] {u'global_timestamp': None, u'hash': u'5e1a48ce6835204474aaaad1c9181958', u'htype': u'bsr_m-1.0', u'pulse_id': 719680}\n",
        "[0.34015611536971746, -0.77073427890979884]"
       ]
      },
      {
       "output_type": "stream",
       "stream": "stderr",
       "text": [
        "\u001b[2J\u001b[H\u001b[2J\u001b[H\u001b[2J\u001b[H\u001b[2J\u001b[H\u001b[2J\u001b[H\u001b[2J\u001b[H\u001b[2J\u001b[H"
       ]
      },
      {
       "output_type": "stream",
       "stream": "stdout",
       "text": [
        " [1429623857005, 1429623857011] {u'global_timestamp': None, u'hash': u'5e1a48ce6835204474aaaad1c9181958', u'htype': u'bsr_m-1.0', u'pulse_id': 719681}\n",
        "[1.0466016325636049, -0.12240556637241512] [1429623857015, 1429623857020] {u'global_timestamp': None, u'hash': u'5e1a48ce6835204474aaaad1c9181958', u'htype': u'bsr_m-1.0', u'pulse_id': 719682}\n",
        "[0.88274597425560508, 0.82234133703831991] [1429623857025, 1429623857031] {u'global_timestamp': None, u'hash': u'5e1a48ce6835204474aaaad1c9181958', u'htype': u'bsr_m-1.0', u'pulse_id': 719683}\n",
        "[-0.00076272296499101111, 1.1949104852501458] [1429623857035, 1429623857040] {u'global_timestamp': None, u'hash': u'5e1a48ce6835204474aaaad1c9181958', u'htype': u'bsr_m-1.0', u'pulse_id': 719684}\n",
        "[-0.79163063738267958, 0.6527635215877674] [1429623857046, 1429623857050] {u'global_timestamp': None, u'hash': u'5e1a48ce6835204474aaaad1c9181958', u'htype': u'bsr_m-1.0', u'pulse_id': 719685}\n",
        "[-0.76273745575609075, -0.30565213579644585] [1429623857055, 1429623857060] {u'global_timestamp': None, u'hash': u'5e1a48ce6835204474aaaad1c9181958', u'htype': u'bsr_m-1.0', u'pulse_id': 719686}\n",
        "[0.059352563975023531, -0.79917355146370617]"
       ]
      },
      {
       "output_type": "stream",
       "stream": "stderr",
       "text": [
        "\u001b[2J\u001b[H\u001b[2J\u001b[H\u001b[2J\u001b[H\u001b[2J\u001b[H\u001b[2J\u001b[H\u001b[2J\u001b[H\u001b[2J\u001b[H"
       ]
      },
      {
       "output_type": "stream",
       "stream": "stdout",
       "text": [
        " [1429623857065, 1429623857070] {u'global_timestamp': None, u'hash': u'5e1a48ce6835204474aaaad1c9181958', u'htype': u'bsr_m-1.0', u'pulse_id': 719687}\n",
        "[0.91881364893224582, -0.37405941184015173] [1429623857075, 1429623857080] {u'global_timestamp': None, u'hash': u'5e1a48ce6835204474aaaad1c9181958', u'htype': u'bsr_m-1.0', u'pulse_id': 719688}\n",
        "[1.0254612412137722, 0.5788423036186221] [1429623857086, 1429623857090] {u'global_timestamp': None, u'hash': u'5e1a48ce6835204474aaaad1c9181958', u'htype': u'bsr_m-1.0', u'pulse_id': 719689}\n",
        "[0.28124403630653771, 1.1834381522512305] [1429623857095, 1429623857101] {u'global_timestamp': None, u'hash': u'5e1a48ce6835204474aaaad1c9181958', u'htype': u'bsr_m-1.0', u'pulse_id': 719690}\n",
        "[-0.62960809973122989, 0.88386549906146294] [1429623857105, 1429623857110] {u'global_timestamp': None, u'hash': u'5e1a48ce6835204474aaaad1c9181958', u'htype': u'bsr_m-1.0', u'pulse_id': 719691}\n",
        "[-0.86966191363624801, -0.044449940158081375] [1429623857117, 1429623857120] {u'global_timestamp': None, u'hash': u'5e1a48ce6835204474aaaad1c9181958', u'htype': u'bsr_m-1.0', u'pulse_id': 719692}\n",
        "[-0.21821303596912564, -0.74801923173494322]"
       ]
      },
      {
       "output_type": "stream",
       "stream": "stderr",
       "text": [
        "\u001b[2J\u001b[H\u001b[2J\u001b[H\u001b[2J\u001b[H\u001b[2J\u001b[H\u001b[2J\u001b[H\u001b[2J\u001b[H"
       ]
      },
      {
       "output_type": "stream",
       "stream": "stdout",
       "text": [
        " [1429623857125, 1429623857130] {u'global_timestamp': None, u'hash': u'5e1a48ce6835204474aaaad1c9181958', u'htype': u'bsr_m-1.0', u'pulse_id': 719693}\n",
        "[0.72579943945340819, -0.57998401366938279] [1429623857135, 1429623857140] {u'global_timestamp': None, u'hash': u'5e1a48ce6835204474aaaad1c9181958', u'htype': u'bsr_m-1.0', u'pulse_id': 719694}\n",
        "[1.0944547962644573, 0.30516490948323488] [1429623857145, 1429623857150] {u'global_timestamp': None, u'hash': u'5e1a48ce6835204474aaaad1c9181958', u'htype': u'bsr_m-1.0', u'pulse_id': 719695}\n",
        "[0.54881299955322638, 1.0936256998497949] [1429623857156, 1429623857160] {u'global_timestamp': None, u'hash': u'5e1a48ce6835204474aaaad1c9181958', u'htype': u'bsr_m-1.0', u'pulse_id': 719696}\n",
        "[-0.40946539914004809, 1.0604911429405137] [1429623857165, 1429623857170] {u'global_timestamp': None, u'hash': u'5e1a48ce6835204474aaaad1c9181958', u'htype': u'bsr_m-1.0', u'pulse_id': 719697}\n",
        "[-0.89934365938402661, 0.23622499756994625]"
       ]
      },
      {
       "output_type": "stream",
       "stream": "stderr",
       "text": [
        "\u001b[2J\u001b[H\u001b[2J\u001b[H\u001b[2J\u001b[H\u001b[2J\u001b[H\u001b[2J\u001b[H\u001b[2J\u001b[H"
       ]
      },
      {
       "output_type": "stream",
       "stream": "stdout",
       "text": [
        " [1429623857175, 1429623857181] {u'global_timestamp': None, u'hash': u'5e1a48ce6835204474aaaad1c9181958', u'htype': u'bsr_m-1.0', u'pulse_id': 719698}\n",
        "[-0.47042996789974068, -0.62134624350629419] [1429623857185, 1429623857190] {u'global_timestamp': None, u'hash': u'5e1a48ce6835204474aaaad1c9181958', u'htype': u'bsr_m-1.0', u'pulse_id': 719699}\n",
        "[0.48293440539898902, -0.72377553613511703] [1429623857196, 1429623857200] {u'global_timestamp': None, u'hash': u'5e1a48ce6835204474aaaad1c9181958', u'htype': u'bsr_m-1.0', u'pulse_id': 719700}\n",
        "[1.0842306523663783, 0.023110138949532816] [1429623857206, 1429623857211] {u'global_timestamp': None, u'hash': u'5e1a48ce6835204474aaaad1c9181958', u'htype': u'bsr_m-1.0', u'pulse_id': 719701}\n",
        "[0.78062977656032617, 0.9326275365145924] [1429623857215, 1429623857221] {u'global_timestamp': None, u'hash': u'5e1a48ce6835204474aaaad1c9181958', u'htype': u'bsr_m-1.0', u'pulse_id': 719702}\n",
        "[-0.14873897693025631, 1.1685705556931252] [1429623857225, 1429623857230] {u'global_timestamp': None, u'hash': u'5e1a48ce6835204474aaaad1c9181958', u'htype': u'bsr_m-1.0', u'pulse_id': 719703}\n",
        "[-0.84941826214972516, 0.51401427275936951]"
       ]
      },
      {
       "output_type": "stream",
       "stream": "stderr",
       "text": [
        "\u001b[2J\u001b[H\u001b[2J\u001b[H\u001b[2J\u001b[H\u001b[2J\u001b[H\u001b[2J\u001b[H\u001b[2J\u001b[H"
       ]
      },
      {
       "output_type": "stream",
       "stream": "stdout",
       "text": [
        " [1429623857235, 1429623857240] {u'global_timestamp': None, u'hash': u'5e1a48ce6835204474aaaad1c9181958', u'htype': u'bsr_m-1.0', u'pulse_id': 719704}\n",
        "[-0.67720677561538067, -0.42924528439833648] [1429623857245, 1429623857251] {u'global_timestamp': None, u'hash': u'5e1a48ce6835204474aaaad1c9181958', u'htype': u'bsr_m-1.0', u'pulse_id': 719705}\n",
        "[0.20956503614706115, -0.79397962899351882] [1429623857256, 1429623857261] {u'global_timestamp': None, u'hash': u'5e1a48ce6835204474aaaad1c9181958', u'htype': u'bsr_m-1.0', u'pulse_id': 719706}\n",
        "[0.99560325896094704, -0.24485368666397589] [1429623857265, 1429623857270] {u'global_timestamp': None, u'hash': u'5e1a48ce6835204474aaaad1c9181958', u'htype': u'bsr_m-1.0', u'pulse_id': 719707}\n",
        "[0.95822797577217955, 0.7132686836365405] [1429623857275, 1429623857280] {u'global_timestamp': None, u'hash': u'5e1a48ce6835204474aaaad1c9181958', u'htype': u'bsr_m-1.0', u'pulse_id': 719708}\n",
        "[0.13180184957956209, 1.1994941932614311]"
       ]
      },
      {
       "output_type": "stream",
       "stream": "stderr",
       "text": [
        "\u001b[2J\u001b[H\u001b[2J\u001b[H\u001b[2J\u001b[H\u001b[2J\u001b[H\u001b[2J\u001b[H\u001b[2J\u001b[H\u001b[2J\u001b[H"
       ]
      },
      {
       "output_type": "stream",
       "stream": "stdout",
       "text": [
        " [1429623857285, 1429623857291] {u'global_timestamp': None, u'hash': u'5e1a48ce6835204474aaaad1c9181958', u'htype': u'bsr_m-1.0', u'pulse_id': 719709}\n",
        "[-0.72386275045476134, 0.76678935100539403] [1429623857296, 1429623857300] {u'global_timestamp': None, u'hash': u'5e1a48ce6835204474aaaad1c9181958', u'htype': u'bsr_m-1.0', u'pulse_id': 719710}\n",
        "[-0.82207173715871273, -0.18701900668198951] [1429623857305, 1429623857310] {u'global_timestamp': None, u'hash': u'5e1a48ce6835204474aaaad1c9181958', u'htype': u'bsr_m-1.0', u'pulse_id': 719711}\n",
        "[-0.072532221070626124, -0.78500387445554587] [1429623857315, 1429623857320] {u'global_timestamp': None, u'hash': u'5e1a48ce6835204474aaaad1c9181958', u'htype': u'bsr_m-1.0', u'pulse_id': 719712}\n",
        "[0.83563262339669075, -0.47738072263277648] [1429623857325, 1429623857330] {u'global_timestamp': None, u'hash': u'5e1a48ce6835204474aaaad1c9181958', u'htype': u'bsr_m-1.0', u'pulse_id': 719713}\n",
        "[1.0674602264567479, 0.453023141677314] [1429623857336, 1429623857340] {u'global_timestamp': None, u'hash': u'5e1a48ce6835204474aaaad1c9181958', u'htype': u'bsr_m-1.0', u'pulse_id': 719714}\n",
        "[0.40980935898389625, 1.1507986964052839]"
       ]
      },
      {
       "output_type": "stream",
       "stream": "stdout",
       "text": [
        " [1429623857346, 1429623857350] {u'global_timestamp': None, u'hash': u'5e1a48ce6835204474aaaad1c9181958', u'htype': u'bsr_m-1.0', u'pulse_id': 719715}\n",
        "[-0.53267880437968917, 0.97441431449107863] [1429623857355, 1429623857361] {u'global_timestamp': None, u'hash': u'5e1a48ce6835204474aaaad1c9181958', u'htype': u'bsr_m-1.0', u'pulse_id': 719716}\n",
        "[-0.89348499274438364, 0.086036983228364963] [1429623857365, 1429623857370] {u'global_timestamp': None, u'hash': u'5e1a48ce6835204474aaaad1c9181958', u'htype': u'bsr_m-1.0', u'pulse_id': 719717}\n",
        "[-0.34088566047067592, -0.69756327598188639] [1429623857375, 1429623857380] {u'global_timestamp': None, u'hash': u'5e1a48ce6835204474aaaad1c9181958', u'htype': u'bsr_m-1.0', u'pulse_id': 719718}\n",
        "[0.61706191479137573, -0.65594799857951425] [1429623857385, 1429623857390] {u'global_timestamp': None, u'hash': u'5e1a48ce6835204474aaaad1c9181958', u'htype': u'bsr_m-1.0', u'pulse_id': 719719}\n",
        "[1.0996251501474277, 0.17262192131042489]"
       ]
      },
      {
       "output_type": "stream",
       "stream": "stderr",
       "text": [
        "\u001b[2J\u001b[H\u001b[2J\u001b[H\u001b[2J\u001b[H\u001b[2J\u001b[H\u001b[2J\u001b[H\u001b[2J\u001b[H"
       ]
      },
      {
       "output_type": "stream",
       "stream": "stdout",
       "text": [
        " [1429623857395, 1429623857400] {u'global_timestamp': None, u'hash': u'5e1a48ce6835204474aaaad1c9181958', u'htype': u'bsr_m-1.0', u'pulse_id': 719720}\n",
        "[0.66313763246550539, 1.0263631204870807] [1429623857406, 1429623857411] {u'global_timestamp': None, u'hash': u'5e1a48ce6835204474aaaad1c9181958', u'htype': u'bsr_m-1.0', u'pulse_id': 719721}\n",
        "[-0.2910960274629526, 1.1203498776566971] [1429623857415, 1429623857420] {u'global_timestamp': None, u'hash': u'5e1a48ce6835204474aaaad1c9181958', u'htype': u'bsr_m-1.0', u'pulse_id': 719722}\n",
        "[-0.88575780337371057, 0.36817120171966694] [1429623857426, 1429623857430] {u'global_timestamp': None, u'hash': u'5e1a48ce6835204474aaaad1c9181958', u'htype': u'bsr_m-1.0', u'pulse_id': 719723}\n",
        "[-0.57411840091770372, -0.53862330151719306] [1429623857435, 1429623857440] {u'global_timestamp': None, u'hash': u'5e1a48ce6835204474aaaad1c9181958', u'htype': u'bsr_m-1.0', u'pulse_id': 719724}\n",
        "[0.35730235048575387, -0.76633094767502197] [1429623857445, 1429623857450] {u'global_timestamp': None, u'hash': u'5e1a48ce6835204474aaaad1c9181958', u'htype': u'bsr_m-1.0', u'pulse_id': 719725}\n",
        "[1.0521605074631939, -0.10559837700392521]"
       ]
      },
      {
       "output_type": "stream",
       "stream": "stderr",
       "text": [
        "\u001b[2J\u001b[H\u001b[2J\u001b[H\u001b[2J\u001b[H\u001b[2J\u001b[H\u001b[2J\u001b[H\u001b[2J\u001b[H\u001b[2J\u001b[H"
       ]
      },
      {
       "output_type": "stream",
       "stream": "stdout",
       "text": [
        " [1429623857455, 1429623857461] {u'global_timestamp': None, u'hash': u'5e1a48ce6835204474aaaad1c9181958', u'htype': u'bsr_m-1.0', u'pulse_id': 719726}\n",
        "[0.87160668499212945, 0.8360999321454583] [1429623857465, 1429623857470] {u'global_timestamp': None, u'hash': u'5e1a48ce6835204474aaaad1c9181958', u'htype': u'bsr_m-1.0', u'pulse_id': 719727}\n",
        "[-0.018358765214156081, 1.192970897205442] [1429623857475, 1429623857481] {u'global_timestamp': None, u'hash': u'5e1a48ce6835204474aaaad1c9181958', u'htype': u'bsr_m-1.0', u'pulse_id': 719728}\n",
        "[-0.79950571252195812, 0.63690899869465323] [1429623857486, 1429623857491] {u'global_timestamp': None, u'hash': u'5e1a48ce6835204474aaaad1c9181958', u'htype': u'bsr_m-1.0', u'pulse_id': 719729}\n",
        "[-0.75365125602019978, -0.32084501830691953] [1429623857495, 1429623857500] {u'global_timestamp': None, u'hash': u'5e1a48ce6835204474aaaad1c9181958', u'htype': u'bsr_m-1.0', u'pulse_id': 719730}\n",
        "[0.077046228452062798, -0.79973652747697743]"
       ]
      },
      {
       "output_type": "stream",
       "stream": "stderr",
       "text": [
        "\u001b[2J\u001b[H\u001b[2J\u001b[H\u001b[2J\u001b[H\u001b[2J\u001b[H\u001b[2J\u001b[H\u001b[2J\u001b[H\u001b[2J\u001b[H"
       ]
      },
      {
       "output_type": "stream",
       "stream": "stdout",
       "text": [
        " [1429623857505, 1429623857510] {u'global_timestamp': None, u'hash': u'5e1a48ce6835204474aaaad1c9181958', u'htype': u'bsr_m-1.0', u'pulse_id': 719731}\n",
        "[0.92884730462875786, -0.35947488380591591] [1429623857515, 1429623857520] {u'global_timestamp': None, u'hash': u'5e1a48ce6835204474aaaad1c9181958', u'htype': u'bsr_m-1.0', u'pulse_id': 719732}\n",
        "[1.0186099913549578, 0.59516538788568552] [1429623857525, 1429623857531] {u'global_timestamp': None, u'hash': u'5e1a48ce6835204474aaaad1c9181958', u'htype': u'bsr_m-1.0', u'pulse_id': 719733}\n",
        "[0.26380688841643335, 1.1864924243537434] [1429623857536, 1429623857540] {u'global_timestamp': None, u'hash': u'5e1a48ce6835204474aaaad1c9181958', u'htype': u'bsr_m-1.0', u'pulse_id': 719734}\n",
        "[-0.64159951229798984, 0.87084287531387239] [1429623857545, 1429623857551] {u'global_timestamp': None, u'hash': u'5e1a48ce6835204474aaaad1c9181958', u'htype': u'bsr_m-1.0', u'pulse_id': 719735}\n",
        "[-0.86518274146701679, -0.061576519539147057] [1429623857555, 1429623857561] {u'global_timestamp': None, u'hash': u'5e1a48ce6835204474aaaad1c9181958', u'htype': u'bsr_m-1.0', u'pulse_id': 719736}\n",
        "[-0.20138140929953366, -0.75350366864979956]"
       ]
      },
      {
       "output_type": "stream",
       "stream": "stderr",
       "text": [
        "\u001b[2J\u001b[H\u001b[2J\u001b[H\u001b[2J\u001b[H\u001b[2J\u001b[H\u001b[2J\u001b[H\u001b[2J\u001b[H"
       ]
      },
      {
       "output_type": "stream",
       "stream": "stdout",
       "text": [
        " [1429623857565, 1429623857570] {u'global_timestamp': None, u'hash': u'5e1a48ce6835204474aaaad1c9181958', u'htype': u'bsr_m-1.0', u'pulse_id': 719737}\n",
        "[0.73950860068636148, -0.56878394211128769] [1429623857575, 1429623857581] {u'global_timestamp': None, u'hash': u'5e1a48ce6835204474aaaad1c9181958', u'htype': u'bsr_m-1.0', u'pulse_id': 719738}\n",
        "[1.0924373524462307, 0.32275219537554528] [1429623857585, 1429623857590] {u'global_timestamp': None, u'hash': u'5e1a48ce6835204474aaaad1c9181958', u'htype': u'bsr_m-1.0', u'pulse_id': 719739}\n",
        "[0.53292377922637879, 1.1014305305348548] [1429623857596, 1429623857601] {u'global_timestamp': None, u'hash': u'5e1a48ce6835204474aaaad1c9181958', u'htype': u'bsr_m-1.0', u'pulse_id': 719740}\n",
        "[-0.42461792008390697, 1.0513377930802998] [1429623857605, 1429623857610] {u'global_timestamp': None, u'hash': u'5e1a48ce6835204474aaaad1c9181958', u'htype': u'bsr_m-1.0', u'pulse_id': 719741}\n",
        "[-0.89982832306854355, 0.21852901481310366]"
       ]
      },
      {
       "output_type": "stream",
       "stream": "stderr",
       "text": [
        "\u001b[2J\u001b[H\u001b[2J\u001b[H\u001b[2J\u001b[H\u001b[2J\u001b[H\u001b[2J\u001b[H\u001b[2J\u001b[H\u001b[2J\u001b[H"
       ]
      },
      {
       "output_type": "stream",
       "stream": "stdout",
       "text": [
        " [1429623857615, 1429623857621] {u'global_timestamp': None, u'hash': u'5e1a48ce6835204474aaaad1c9181958', u'htype': u'bsr_m-1.0', u'pulse_id': 719742}\n",
        "[-0.45580117676851184, -0.63131525422233015] [1429623857626, 1429623857630] {u'global_timestamp': None, u'hash': u'5e1a48ce6835204474aaaad1c9181958', u'htype': u'bsr_m-1.0', u'pulse_id': 719743}\n",
        "[0.49922700824403854, -0.71685211233247115] [1429623857636, 1429623857641] {u'global_timestamp': None, u'hash': u'5e1a48ce6835204474aaaad1c9181958', u'htype': u'bsr_m-1.0', u'pulse_id': 719744}\n",
        "[1.0872077230066977, 0.0405606333557125] [1429623857645, 1429623857651] {u'global_timestamp': None, u'hash': u'5e1a48ce6835204474aaaad1c9181958', u'htype': u'bsr_m-1.0', u'pulse_id': 719745}\n",
        "[0.7675542099786703, 0.94456119744434264] [1429623857656, 1429623857661] {u'global_timestamp': None, u'hash': u'5e1a48ce6835204474aaaad1c9181958', u'htype': u'bsr_m-1.0', u'pulse_id': 719746}\n",
        "[-0.16584556511977774, 1.1640156303225306] [1429623857665, 1429623857671] {u'global_timestamp': None, u'hash': u'5e1a48ce6835204474aaaad1c9181958', u'htype': u'bsr_m-1.0', u'pulse_id': 719747}\n",
        "[-0.85482815365673959, 0.49715853846804031]"
       ]
      },
      {
       "output_type": "stream",
       "stream": "stdout",
       "text": [
        " [1429623857676, 1429623857680] {u'global_timestamp': None, u'hash': u'5e1a48ce6835204474aaaad1c9181958', u'htype': u'bsr_m-1.0', u'pulse_id': 719748}\n",
        "[-0.66594614113733186, -0.44290474323715362] [1429623857685, 1429623857690] {u'global_timestamp': None, u'hash': u'5e1a48ce6835204474aaaad1c9181958', u'htype': u'bsr_m-1.0', u'pulse_id': 719749}\n",
        "[0.22714322120213154, -0.79188436891723724] [1429623857695, 1429623857700] {u'global_timestamp': None, u'hash': u'5e1a48ce6835204474aaaad1c9181958', u'htype': u'bsr_m-1.0', u'pulse_id': 719750}\n",
        "[1.0033376923193611, -0.22893008012394195] [1429623857705, 1429623857710] {u'global_timestamp': None, u'hash': u'5e1a48ce6835204474aaaad1c9181958', u'htype': u'bsr_m-1.0', u'pulse_id': 719751}\n",
        "[0.94900765507337825, 0.72838054622289361] [1429623857715, 1429623857720] {u'global_timestamp': None, u'hash': u'5e1a48ce6835204474aaaad1c9181958', u'htype': u'bsr_m-1.0', u'pulse_id': 719752}\n",
        "[0.11410389515233593, 1.1999005351241352]"
       ]
      },
      {
       "output_type": "stream",
       "stream": "stderr",
       "text": [
        "\u001b[2J\u001b[H\u001b[2J\u001b[H\u001b[2J\u001b[H\u001b[2J\u001b[H\u001b[2J\u001b[H\u001b[2J\u001b[H"
       ]
      },
      {
       "output_type": "stream",
       "stream": "stdout",
       "text": [
        " [1429623857725, 1429623857730] {u'global_timestamp': None, u'hash': u'5e1a48ce6835204474aaaad1c9181958', u'htype': u'bsr_m-1.0', u'pulse_id': 719753}\n",
        "[-0.73376692092831919, 0.75211658330982045] [1429623857735, 1429623857740] {u'global_timestamp': None, u'hash': u'5e1a48ce6835204474aaaad1c9181958', u'htype': u'bsr_m-1.0', u'pulse_id': 719754}\n",
        "[-0.81507627502063551, -0.2032808089834654] [1429623857745, 1429623857750] {u'global_timestamp': None, u'hash': u'5e1a48ce6835204474aaaad1c9181958', u'htype': u'bsr_m-1.0', u'pulse_id': 719755}\n",
        "[-0.055068721949435462, -0.78790368532209087] [1429623857756, 1429623857760] {u'global_timestamp': None, u'hash': u'5e1a48ce6835204474aaaad1c9181958', u'htype': u'bsr_m-1.0', u'pulse_id': 719756}\n",
        "[0.84750829894602464, -0.4642524693268521] [1429623857765, 1429623857770] {u'global_timestamp': None, u'hash': u'5e1a48ce6835204474aaaad1c9181958', u'htype': u'bsr_m-1.0', u'pulse_id': 719757}\n",
        "[1.0628296371016512, 0.47010940361028297] [1429623857775, 1429623857780] {u'global_timestamp': None, u'hash': u'5e1a48ce6835204474aaaad1c9181958', u'htype': u'bsr_m-1.0', u'pulse_id': 719758}\n",
        "[0.39292984722238788, 1.15613393654146]"
       ]
      },
      {
       "output_type": "stream",
       "stream": "stderr",
       "text": [
        "\u001b[2J\u001b[H\u001b[2J\u001b[H\u001b[2J\u001b[H\u001b[2J\u001b[H\u001b[2J\u001b[H\u001b[2J\u001b[H\u001b[2J\u001b[H"
       ]
      },
      {
       "output_type": "stream",
       "stream": "stdout",
       "text": [
        " [1429623857785, 1429623857790] {u'global_timestamp': None, u'hash': u'5e1a48ce6835204474aaaad1c9181958', u'htype': u'bsr_m-1.0', u'pulse_id': 719759}\n",
        "[-0.54628829327793504, 0.96309333765398186] [1429623857796, 1429623857800] {u'global_timestamp': None, u'hash': u'5e1a48ce6835204474aaaad1c9181958', u'htype': u'bsr_m-1.0', u'pulse_id': 719760}\n",
        "[-0.8913119574496936, 0.068468243312662658] [1429623857805, 1429623857810] {u'global_timestamp': None, u'hash': u'5e1a48ce6835204474aaaad1c9181958', u'htype': u'bsr_m-1.0', u'pulse_id': 719761}\n",
        "[-0.32492797961152231, -0.70522716052009282] [1429623857815, 1429623857820] {u'global_timestamp': None, u'hash': u'5e1a48ce6835204474aaaad1c9181958', u'htype': u'bsr_m-1.0', u'pulse_id': 719762}\n",
        "[0.63213282302570284, -0.64666088763961205] [1429623857825, 1429623857830] {u'global_timestamp': None, u'hash': u'5e1a48ce6835204474aaaad1c9181958', u'htype': u'bsr_m-1.0', u'pulse_id': 719763}\n",
        "[1.0999531622293424, 0.19032150075999593]"
       ]
      },
      {
       "output_type": "stream",
       "stream": "stderr",
       "text": [
        "\u001b[2J\u001b[H\u001b[2J\u001b[H\u001b[2J\u001b[H\u001b[2J\u001b[H\u001b[2J\u001b[H\u001b[2J\u001b[H"
       ]
      },
      {
       "output_type": "stream",
       "stream": "stdout",
       "text": [
        " [1429623857835, 1429623857840] {u'global_timestamp': None, u'hash': u'5e1a48ce6835204474aaaad1c9181958', u'htype': u'bsr_m-1.0', u'pulse_id': 719764}\n",
        "[0.64842117559960033, 1.0362022567261777] [1429623857845, 1429623857850] {u'global_timestamp': None, u'hash': u'5e1a48ce6835204474aaaad1c9181958', u'htype': u'bsr_m-1.0', u'pulse_id': 719765}\n",
        "[-0.30732671070258222, 1.1132825142025959] [1429623857855, 1429623857861] {u'global_timestamp': None, u'hash': u'5e1a48ce6835204474aaaad1c9181958', u'htype': u'bsr_m-1.0', u'pulse_id': 719766}\n",
        "[-0.88858029766818003, 0.35069503993925166] [1429623857865, 1429623857871] {u'global_timestamp': None, u'hash': u'5e1a48ce6835204474aaaad1c9181958', u'htype': u'bsr_m-1.0', u'pulse_id': 719767}\n",
        "[-0.56093771802927694, -0.55044075907845791] [1429623857875, 1429623857881] {u'global_timestamp': None, u'hash': u'5e1a48ce6835204474aaaad1c9181958', u'htype': u'bsr_m-1.0', u'pulse_id': 719768}\n",
        "[0.37436795149529067, -0.76162478503430742] [1429623857885, 1429623857891] {u'global_timestamp': None, u'hash': u'5e1a48ce6835204474aaaad1c9181958', u'htype': u'bsr_m-1.0', u'pulse_id': 719769}\n",
        "[1.057420991727724, -0.088695418389523051]"
       ]
      },
      {
       "output_type": "stream",
       "stream": "stderr",
       "text": [
        "\u001b[2J\u001b[H\u001b[2J\u001b[H\u001b[2J\u001b[H\u001b[2J\u001b[H\u001b[2J\u001b[H\u001b[2J\u001b[H\u001b[2J\u001b[H"
       ]
      },
      {
       "output_type": "stream",
       "stream": "stdout",
       "text": [
        " [1429623857895, 1429623857900] {u'global_timestamp': None, u'hash': u'5e1a48ce6835204474aaaad1c9181958', u'htype': u'bsr_m-1.0', u'pulse_id': 719770}\n",
        "[0.86022558753880995, 0.84965918453545397] [1429623857905, 1429623857911] {u'global_timestamp': None, u'hash': u'5e1a48ce6835204474aaaad1c9181958', u'htype': u'bsr_m-1.0', u'pulse_id': 719771}\n",
        "[-0.035917715873363121, 1.1907201292553653] [1429623857915, 1429623857920] {u'global_timestamp': None, u'hash': u'5e1a48ce6835204474aaaad1c9181958', u'htype': u'bsr_m-1.0', u'pulse_id': 719772}\n",
        "[-0.80709889812822755, 0.62091755607785659] [1429623857925, 1429623857930] {u'global_timestamp': None, u'hash': u'5e1a48ce6835204474aaaad1c9181958', u'htype': u'bsr_m-1.0', u'pulse_id': 719773}\n",
        "[-0.74429753674489707, -0.33587467699686951] [1429623857936, 1429623857940] {u'global_timestamp': None, u'hash': u'5e1a48ce6835204474aaaad1c9181958', u'htype': u'bsr_m-1.0', u'pulse_id': 719774}\n",
        "[0.09474708624411092, -0.7999862033533629]"
       ]
      },
      {
       "output_type": "stream",
       "stream": "stderr",
       "text": [
        "\u001b[2J\u001b[H\u001b[2J\u001b[H\u001b[2J\u001b[H\u001b[2J\u001b[H\u001b[2J\u001b[H\u001b[2J\u001b[H\u001b[2J\u001b[H"
       ]
      },
      {
       "output_type": "stream",
       "stream": "stdout",
       "text": [
        " [1429623857945, 1429623857950] {u'global_timestamp': None, u'hash': u'5e1a48ce6835204474aaaad1c9181958', u'htype': u'bsr_m-1.0', u'pulse_id': 719775}\n",
        "[0.93862121391523035, -0.34471502601942733] [1429623857956, 1429623857961] {u'global_timestamp': None, u'hash': u'5e1a48ce6835204474aaaad1c9181958', u'htype': u'bsr_m-1.0', u'pulse_id': 719776}\n",
        "[1.0114708650125639, 0.61136463415472231] [1429623857965, 1429623857970] {u'global_timestamp': None, u'hash': u'5e1a48ce6835204474aaaad1c9181958', u'htype': u'bsr_m-1.0', u'pulse_id': 719777}\n",
        "[0.24631840628060206, 1.1892375467922276] [1429623857976, 1429623857981] {u'global_timestamp': None, u'hash': u'5e1a48ce6835204474aaaad1c9181958', u'htype': u'bsr_m-1.0', u'pulse_id': 719778}\n",
        "[-0.65335852040384279, 0.85761002101164241] [1429623857985, 1429623857990] {u'global_timestamp': None, u'hash': u'5e1a48ce6835204474aaaad1c9181958', u'htype': u'bsr_m-1.0', u'pulse_id': 719779}\n",
        "[-0.86040109771981454, -0.078621125363055155] [1429623857995, 1429623858001] {u'global_timestamp': None, u'hash': u'5e1a48ce6835204474aaaad1c9181958', u'htype': u'bsr_m-1.0', u'pulse_id': 719780}\n",
        "[-0.18445533490877394, -0.75868929400611185]"
       ]
      },
      {
       "output_type": "stream",
       "stream": "stdout",
       "text": [
        " [1429623858005, 1429623858010] {u'global_timestamp': None, u'hash': u'5e1a48ce6835204474aaaad1c9181958', u'htype': u'bsr_m-1.0', u'pulse_id': 719781}\n",
        "[0.75301735098440548, -0.55734294696214715] [1429623858015, 1429623858020] {u'global_timestamp': None, u'hash': u'5e1a48ce6835204474aaaad1c9181958', u'htype': u'bsr_m-1.0', u'pulse_id': 719782}\n",
        "[1.0901088959263312, 0.34030101285287112] [1429623858025, 1429623858031] {u'global_timestamp': None, u'hash': u'5e1a48ce6835204474aaaad1c9181958', u'htype': u'bsr_m-1.0', u'pulse_id': 719783}\n",
        "[0.51689888807470386, 1.1089528684822307] [1429623858035, 1429623858041] {u'global_timestamp': None, u'hash': u'5e1a48ce6835204474aaaad1c9181958', u'htype': u'bsr_m-1.0', u'pulse_id': 719784}\n",
        "[-0.43960603484507921, 1.0419176486799473] [1429623858045, 1429623858050] {u'global_timestamp': None, u'hash': u'5e1a48ce6835204474aaaad1c9181958', u'htype': u'bsr_m-1.0', u'pulse_id': 719785}\n",
        "[-0.89999965784902392, 0.20082722538348505]"
       ]
      },
      {
       "output_type": "stream",
       "stream": "stderr",
       "text": [
        "\u001b[2J\u001b[H\u001b[2J\u001b[H\u001b[2J\u001b[H\u001b[2J\u001b[H\u001b[2J\u001b[H\u001b[2J\u001b[H"
       ]
      },
      {
       "output_type": "stream",
       "stream": "stdout",
       "text": [
        " [1429623858055, 1429623858060] {u'global_timestamp': None, u'hash': u'5e1a48ce6835204474aaaad1c9181958', u'htype': u'bsr_m-1.0', u'pulse_id': 719786}\n",
        "[-0.44099820716127769, -0.641023745115608] [1429623858065, 1429623858070] {u'global_timestamp': None, u'hash': u'5e1a48ce6835204474aaaad1c9181958', u'htype': u'bsr_m-1.0', u'pulse_id': 719787}\n",
        "[0.5153945002494883, -0.70964136293512836] [1429623858076, 1429623858080] {u'global_timestamp': None, u'hash': u'5e1a48ce6835204474aaaad1c9181958', u'htype': u'bsr_m-1.0', u'pulse_id': 719788}\n",
        "[1.0898754198207616, 0.058061093301833677] [1429623858085, 1429623858090] {u'global_timestamp': None, u'hash': u'5e1a48ce6835204474aaaad1c9181958', u'htype': u'bsr_m-1.0', u'pulse_id': 719789}\n",
        "[0.75426944345321256, 0.9562615257722844] [1429623858095, 1429623858101] {u'global_timestamp': None, u'hash': u'5e1a48ce6835204474aaaad1c9181958', u'htype': u'bsr_m-1.0', u'pulse_id': 719790}\n",
        "[-0.18286884190709132, 1.1591585991264119] [1429623858105, 1429623858111] {u'global_timestamp': None, u'hash': u'5e1a48ce6835204474aaaad1c9181958', u'htype': u'bsr_m-1.0', u'pulse_id': 719791}\n",
        "[-0.85993881853451604, 0.48020967983022572]"
       ]
      },
      {
       "output_type": "stream",
       "stream": "stderr",
       "text": [
        "\u001b[2J\u001b[H\u001b[2J\u001b[H\u001b[2J\u001b[H\u001b[2J\u001b[H\u001b[2J\u001b[H\u001b[2J\u001b[H\u001b[2J\u001b[H"
       ]
      },
      {
       "output_type": "stream",
       "stream": "stdout",
       "text": [
        " [1429623858115, 1429623858121] {u'global_timestamp': None, u'hash': u'5e1a48ce6835204474aaaad1c9181958', u'htype': u'bsr_m-1.0', u'pulse_id': 719792}\n",
        "[-0.65444547238598216, -0.45636272684872364] [1429623858125, 1429623858130] {u'global_timestamp': None, u'hash': u'5e1a48ce6835204474aaaad1c9181958', u'htype': u'bsr_m-1.0', u'pulse_id': 719793}\n",
        "[0.24468156177066783, -0.78947826943475641] [1429623858135, 1429623858140] {u'global_timestamp': None, u'hash': u'5e1a48ce6835204474aaaad1c9181958', u'htype': u'bsr_m-1.0', u'pulse_id': 719794}\n",
        "[1.0107890352685731, -0.21287205431530692] [1429623858145, 1429623858150] {u'global_timestamp': None, u'hash': u'5e1a48ce6835204474aaaad1c9181958', u'htype': u'bsr_m-1.0', u'pulse_id': 719795}\n",
        "[0.93952127005938924, 0.74332682348460399] [1429623858155, 1429623858160] {u'global_timestamp': None, u'hash': u'5e1a48ce6835204474aaaad1c9181958', u'htype': u'bsr_m-1.0', u'pulse_id': 719796}\n",
        "[0.096401520808301291, 1.1999935254527936]"
       ]
      },
      {
       "output_type": "stream",
       "stream": "stderr",
       "text": [
        "\u001b[2J\u001b[H\u001b[2J\u001b[H\u001b[2J\u001b[H\u001b[2J\u001b[H\u001b[2J\u001b[H\u001b[2J\u001b[H"
       ]
      },
      {
       "output_type": "stream",
       "stream": "stdout",
       "text": [
        " [1429623858165, 1429623858170] {u'global_timestamp': None, u'hash': u'5e1a48ce6835204474aaaad1c9181958', u'htype': u'bsr_m-1.0', u'pulse_id': 719797}\n",
        "[-0.74340980326917594, 0.73727079182610522] [1429623858175, 1429623858180] {u'global_timestamp': None, u'hash': u'5e1a48ce6835204474aaaad1c9181958', u'htype': u'bsr_m-1.0', u'pulse_id': 719798}\n",
        "[-0.80779404380456088, -0.21941623005430178] [1429623858185, 1429623858191] {u'global_timestamp': None, u'hash': u'5e1a48ce6835204474aaaad1c9181958', u'htype': u'bsr_m-1.0', u'pulse_id': 719799}\n",
        "[-0.037556626972758689, -0.79049390425982802] [1429623858195, 1429623858201] {u'global_timestamp': None, u'hash': u'5e1a48ce6835204474aaaad1c9181958', u'htype': u'bsr_m-1.0', u'pulse_id': 719800}\n",
        "[0.85914971832291076, -0.45091605078554114] [1429623858205, 1429623858210] {u'global_timestamp': None, u'hash': u'5e1a48ce6835204474aaaad1c9181958', u'htype': u'bsr_m-1.0', u'pulse_id': 719801}\n",
        "[1.0578973135907936, 0.48711101792780592]"
       ]
      },
      {
       "output_type": "stream",
       "stream": "stderr",
       "text": [
        "\u001b[2J\u001b[H\u001b[2J\u001b[H\u001b[2J\u001b[H\u001b[2J\u001b[H\u001b[2J\u001b[H\u001b[2J\u001b[H\u001b[2J\u001b[H"
       ]
      },
      {
       "output_type": "stream",
       "stream": "stdout",
       "text": [
        " [1429623858215, 1429623858220] {u'global_timestamp': None, u'hash': u'5e1a48ce6835204474aaaad1c9181958', u'htype': u'bsr_m-1.0', u'pulse_id': 719802}\n",
        "[0.37595853631309384, 1.1611695408386258] [1429623858225, 1429623858231] {u'global_timestamp': None, u'hash': u'5e1a48ce6835204474aaaad1c9181958', u'htype': u'bsr_m-1.0', u'pulse_id': 719803}\n",
        "[-0.55969524660287084, 0.95153322056285528] [1429623858235, 1429623858241] {u'global_timestamp': None, u'hash': u'5e1a48ce6835204474aaaad1c9181958', u'htype': u'bsr_m-1.0', u'pulse_id': 719804}\n",
        "[-0.8888282621326582, 0.05094072317461415] [1429623858245, 1429623858250] {u'global_timestamp': None, u'hash': u'5e1a48ce6835204474aaaad1c9181958', u'htype': u'bsr_m-1.0', u'pulse_id': 719805}\n",
        "[-0.30883713367285026, -0.71260736252244206] [1429623858255, 1429623858260] {u'global_timestamp': None, u'hash': u'5e1a48ce6835204474aaaad1c9181958', u'htype': u'bsr_m-1.0', u'pulse_id': 719806}\n",
        "[0.64703697003673444, -0.63710844782084775] [1429623858266, 1429623858270] {u'global_timestamp': None, u'hash': u'5e1a48ce6835204474aaaad1c9181958', u'htype': u'bsr_m-1.0', u'pulse_id': 719807}\n",
        "[1.0999678062847864, 0.20802411328383547]"
       ]
      },
      {
       "output_type": "stream",
       "stream": "stderr",
       "text": [
        "\u001b[2J\u001b[H\u001b[2J\u001b[H\u001b[2J\u001b[H\u001b[2J\u001b[H\u001b[2J\u001b[H\u001b[2J\u001b[H"
       ]
      },
      {
       "output_type": "stream",
       "stream": "stdout",
       "text": [
        " [1429623858275, 1429623858281] {u'global_timestamp': None, u'hash': u'5e1a48ce6835204474aaaad1c9181958', u'htype': u'bsr_m-1.0', u'pulse_id': 719808}\n",
        "[0.63353285302241624, 1.0457793416404546] [1429623858286, 1429623858290] {u'global_timestamp': None, u'hash': u'5e1a48ce6835204474aaaad1c9181958', u'htype': u'bsr_m-1.0', u'pulse_id': 719809}\n",
        "[-0.32342974479594888, 1.105928943804114] [1429623858296, 1429623858300] {u'global_timestamp': None, u'hash': u'5e1a48ce6835204474aaaad1c9181958', u'htype': u'bsr_m-1.0', u'pulse_id': 719810}\n",
        "[-0.89109298799523451, 0.33317165293964779] [1429623858305, 1429623858310] {u'global_timestamp': None, u'hash': u'5e1a48ce6835204474aaaad1c9181958', u'htype': u'bsr_m-1.0', u'pulse_id': 719811}\n",
        "[-0.54754990869119047, -0.56202304148498738] [1429623858316, 1429623858320] {u'global_timestamp': None, u'hash': u'5e1a48ce6835204474aaaad1c9181958', u'htype': u'bsr_m-1.0', u'pulse_id': 719812}\n",
        "[0.39134757033412737, -0.75661726581763133]"
       ]
      },
      {
       "output_type": "stream",
       "stream": "stdout",
       "text": [
        " [1429623858325, 1429623858331] {u'global_timestamp': None, u'hash': u'5e1a48ce6835204474aaaad1c9181958', u'htype': u'bsr_m-1.0', u'pulse_id': 719813}\n",
        "[1.0623814368124087, -0.071701987624095298] [1429623858335, 1429623858340] {u'global_timestamp': None, u'hash': u'5e1a48ce6835204474aaaad1c9181958', u'htype': u'bsr_m-1.0', u'pulse_id': 719814}\n",
        "[0.84860624853474809, 0.86301484497312053] [1429623858346, 1429623858350] {u'global_timestamp': None, u'hash': u'5e1a48ce6835204474aaaad1c9181958', u'htype': u'bsr_m-1.0', u'pulse_id': 719815}\n",
        "[-0.05343407227116434, 1.1881588867516637] [1429623858355, 1429623858361] {u'global_timestamp': None, u'hash': u'5e1a48ce6835204474aaaad1c9181958', u'htype': u'bsr_m-1.0', u'pulse_id': 719816}\n",
        "[-0.81440781462844591, 0.60479420517891513] [1429623858365, 1429623858370] {u'global_timestamp': None, u'hash': u'5e1a48ce6835204474aaaad1c9181958', u'htype': u'bsr_m-1.0', u'pulse_id': 719817}\n",
        "[-0.73467922922402729, -0.35073640183120619] [1429623858375, 1429623858380] {u'global_timestamp': None, u'hash': u'5e1a48ce6835204474aaaad1c9181958', u'htype': u'bsr_m-1.0', u'pulse_id': 719818}\n",
        "[0.112449590208479, -0.79992250084876115]"
       ]
      },
      {
       "output_type": "stream",
       "stream": "stderr",
       "text": [
        "\u001b[2J\u001b[H\u001b[2J\u001b[H\u001b[2J\u001b[H\u001b[2J\u001b[H\u001b[2J\u001b[H\u001b[2J\u001b[H\u001b[2J\u001b[H"
       ]
      },
      {
       "output_type": "stream",
       "stream": "stdout",
       "text": [
        " [1429623858386, 1429623858391] {u'global_timestamp': None, u'hash': u'5e1a48ce6835204474aaaad1c9181958', u'htype': u'bsr_m-1.0', u'pulse_id': 719819}\n",
        "[0.94813231381753649, -0.32978446396483901] [1429623858396, 1429623858401] {u'global_timestamp': None, u'hash': u'5e1a48ce6835204474aaaad1c9181958', u'htype': u'bsr_m-1.0', u'pulse_id': 719820}\n",
        "[1.0040460994653124, 0.62743496586212344] [1429623858405, 1429623858410] {u'global_timestamp': None, u'hash': u'5e1a48ce6835204474aaaad1c9181958', u'htype': u'bsr_m-1.0', u'pulse_id': 719821}\n",
        "[0.22878407048687521, 1.1916726592927889] [1429623858415, 1429623858420] {u'global_timestamp': None, u'hash': u'5e1a48ce6835204474aaaad1c9181958', u'htype': u'bsr_m-1.0', u'pulse_id': 719822}\n",
        "[-0.66488143897902496, 0.84417108310244426] [1429623858425, 1429623858431] {u'global_timestamp': None, u'hash': u'5e1a48ce6835204474aaaad1c9181958', u'htype': u'bsr_m-1.0', u'pulse_id': 719823}\n",
        "[-0.85531848087909113, -0.095578416145133349]"
       ]
      },
      {
       "output_type": "stream",
       "stream": "stderr",
       "text": [
        "\u001b[2J\u001b[H\u001b[2J\u001b[H\u001b[2J\u001b[H\u001b[2J\u001b[H\u001b[2J\u001b[H\u001b[2J\u001b[H"
       ]
      },
      {
       "output_type": "stream",
       "stream": "stdout",
       "text": [
        " [1429623858435, 1429623858440] {u'global_timestamp': None, u'hash': u'5e1a48ce6835204474aaaad1c9181958', u'htype': u'bsr_m-1.0', u'pulse_id': 719824}\n",
        "[-0.16744011713581761, -0.76357448271858064] [1429623858445, 1429623858450] {u'global_timestamp': None, u'hash': u'5e1a48ce6835204474aaaad1c9181958', u'htype': u'bsr_m-1.0', u'pulse_id': 719825}\n",
        "[0.7663214569388358, -0.54566461363196472] [1429623858455, 1429623858460] {u'global_timestamp': None, u'hash': u'5e1a48ce6835204474aaaad1c9181958', u'htype': u'bsr_m-1.0', u'pulse_id': 719826}\n",
        "[1.0874701564027605, 0.35780586241932855] [1429623858465, 1429623858471] {u'global_timestamp': None, u'hash': u'5e1a48ce6835204474aaaad1c9181958', u'htype': u'bsr_m-1.0', u'pulse_id': 719827}\n",
        "[0.50074334802193221, 1.116190356321312] [1429623858475, 1429623858481] {u'global_timestamp': None, u'hash': u'5e1a48ce6835204474aaaad1c9181958', u'htype': u'bsr_m-1.0', u'pulse_id': 719828}\n",
        "[-0.4544250464076236, 1.0322336618497863] [1429623858485, 1429623858490] {u'global_timestamp': None, u'hash': u'5e1a48ce6835204474aaaad1c9181958', u'htype': u'bsr_m-1.0', u'pulse_id': 719829}\n",
        "[-0.89985761003211107, 0.18312517671573841]"
       ]
      },
      {
       "output_type": "stream",
       "stream": "stderr",
       "text": [
        "\u001b[2J\u001b[H\u001b[2J\u001b[H\u001b[2J\u001b[H\u001b[2J\u001b[H\u001b[2J\u001b[H\u001b[2J\u001b[H\u001b[2J\u001b[H"
       ]
      },
      {
       "output_type": "stream",
       "stream": "stdout",
       "text": [
        " [1429623858496, 1429623858501] {u'global_timestamp': None, u'hash': u'5e1a48ce6835204474aaaad1c9181958', u'htype': u'bsr_m-1.0', u'pulse_id': 719830}\n",
        "[-0.42602569807268997, -0.65046867371299411] [1429623858505, 1429623858510] {u'global_timestamp': None, u'hash': u'5e1a48ce6835204474aaaad1c9181958', u'htype': u'bsr_m-1.0', u'pulse_id': 719831}\n",
        "[0.53143181480296653, -0.70214554766723691] [1429623858515, 1429623858521] {u'global_timestamp': None, u'hash': u'5e1a48ce6835204474aaaad1c9181958', u'htype': u'bsr_m-1.0', u'pulse_id': 719832}\n",
        "[1.0922329067985281, 0.075606034446426398] [1429623858525, 1429623858530] {u'global_timestamp': None, u'hash': u'5e1a48ce6835204474aaaad1c9181958', u'htype': u'bsr_m-1.0', u'pulse_id': 719833}\n",
        "[0.74077964020001674, 0.9677248548178814] [1429623858535, 1429623858540] {u'global_timestamp': None, u'hash': u'5e1a48ce6835204474aaaad1c9181958', u'htype': u'bsr_m-1.0', u'pulse_id': 719834}\n",
        "[-0.19980347249167599, 1.1540009842143417]"
       ]
      },
      {
       "output_type": "stream",
       "stream": "stderr",
       "text": [
        "\u001b[2J\u001b[H\u001b[2J\u001b[H\u001b[2J\u001b[H\u001b[2J\u001b[H\u001b[2J\u001b[H\u001b[2J\u001b[H\u001b[2J\u001b[H"
       ]
      },
      {
       "output_type": "stream",
       "stream": "stdout",
       "text": [
        " [1429623858545, 1429623858550] {u'global_timestamp': None, u'hash': u'5e1a48ce6835204474aaaad1c9181958', u'htype': u'bsr_m-1.0', u'pulse_id': 719835}\n",
        "[-0.86474865518907273, 0.4631730083250859] [1429623858555, 1429623858560] {u'global_timestamp': None, u'hash': u'5e1a48ce6835204474aaaad1c9181958', u'htype': u'bsr_m-1.0', u'pulse_id': 719836}\n",
        "[-0.6427083734720096, -0.46961501773374376] [1429623858565, 1429623858571] {u'global_timestamp': None, u'hash': u'5e1a48ce6835204474aaaad1c9181958', u'htype': u'bsr_m-1.0', u'pulse_id': 719837}\n",
        "[0.26217456164006814, -0.78676208457603991] [1429623858575, 1429623858580] {u'global_timestamp': None, u'hash': u'5e1a48ce6835204474aaaad1c9181958', u'htype': u'bsr_m-1.0', u'pulse_id': 719838}\n",
        "[1.0179549526865768, -0.19668464154562959] [1429623858585, 1429623858591] {u'global_timestamp': None, u'hash': u'5e1a48ce6835204474aaaad1c9181958', u'htype': u'bsr_m-1.0', u'pulse_id': 719839}\n",
        "[0.92977179359920481, 0.75810283151687963] [1429623858596, 1429623858600] {u'global_timestamp': None, u'hash': u'5e1a48ce6835204474aaaad1c9181958', u'htype': u'bsr_m-1.0', u'pulse_id': 719840}\n",
        "[0.078700274165408257, 1.1997731351058456]"
       ]
      },
      {
       "output_type": "stream",
       "stream": "stderr",
       "text": [
        "\u001b[2J\u001b[H\u001b[2J\u001b[H\u001b[2J\u001b[H\u001b[2J\u001b[H\u001b[2J\u001b[H\u001b[2J\u001b[H"
       ]
      },
      {
       "output_type": "stream",
       "stream": "stdout",
       "text": [
        " [1429623858605, 1429623858610] {u'global_timestamp': None, u'hash': u'5e1a48ce6835204474aaaad1c9181958', u'htype': u'bsr_m-1.0', u'pulse_id': 719841}\n",
        "[-0.75278837556478317, 0.72225662896853549] [1429623858615, 1429623858620] {u'global_timestamp': None, u'hash': u'5e1a48ce6835204474aaaad1c9181958', u'htype': u'bsr_m-1.0', u'pulse_id': 719842}\n",
        "[-0.80022732563580312, -0.23542021333260316] [1429623858625, 1429623858630] {u'global_timestamp': None, u'hash': u'5e1a48ce6835204474aaaad1c9181958', u'htype': u'bsr_m-1.0', u'pulse_id': 719843}\n",
        "[-0.020001424128283138, -0.79277371953894105] [1429623858635, 1429623858640] {u'global_timestamp': None, u'hash': u'5e1a48ce6835204474aaaad1c9181958', u'htype': u'bsr_m-1.0', u'pulse_id': 719844}\n",
        "[0.87055323330785916, -0.43737564641175614] [1429623858645, 1429623858650] {u'global_timestamp': None, u'hash': u'5e1a48ce6835204474aaaad1c9181958', u'htype': u'bsr_m-1.0', u'pulse_id': 719845}\n",
        "[1.052664801629057, 0.50402265661800516]"
       ]
      },
      {
       "output_type": "stream",
       "stream": "stderr",
       "text": [
        "\u001b[2J\u001b[H\u001b[2J\u001b[H\u001b[2J\u001b[H\u001b[2J\u001b[H\u001b[2J\u001b[H\u001b[2J\u001b[H"
       ]
      },
      {
       "output_type": "stream",
       "stream": "stdout",
       "text": [
        " [1429623858655, 1429623858660] {u'global_timestamp': None, u'hash': u'5e1a48ce6835204474aaaad1c9181958', u'htype': u'bsr_m-1.0', u'pulse_id': 719846}\n",
        "[0.35890074477132772, 1.1659039312254877] [1429623858665, 1429623858670] {u'global_timestamp': None, u'hash': u'5e1a48ce6835204474aaaad1c9181958', u'htype': u'bsr_m-1.0', u'pulse_id': 719847}\n",
        "[-0.57289546284720294, 0.93973758595845913] [1429623858675, 1429623858680] {u'global_timestamp': None, u'hash': u'5e1a48ce6835204474aaaad1c9181958', u'htype': u'bsr_m-1.0', u'pulse_id': 719848}\n",
        "[-0.88603468514043338, 0.033459915635885518] [1429623858685, 1429623858690] {u'global_timestamp': None, u'hash': u'5e1a48ce6835204474aaaad1c9181958', u'htype': u'bsr_m-1.0', u'pulse_id': 719849}\n",
        "[-0.29261816524747963, -0.71970156916127026] [1429623858695, 1429623858700] {u'global_timestamp': None, u'hash': u'5e1a48ce6835204474aaaad1c9181958', u'htype': u'bsr_m-1.0', u'pulse_id': 719850}\n",
        "[0.66176968512257017, -0.6272936726926468] [1429623858706, 1429623858710] {u'global_timestamp': None, u'hash': u'5e1a48ce6835204474aaaad1c9181958', u'htype': u'bsr_m-1.0', u'pulse_id': 719851}\n",
        "[1.0996690777245666, 0.22572421118935193]"
       ]
      },
      {
       "output_type": "stream",
       "stream": "stdout",
       "text": [
        " [1429623858715, 1429623858720] {u'global_timestamp': None, u'hash': u'5e1a48ce6835204474aaaad1c9181958', u'htype': u'bsr_m-1.0', u'pulse_id': 719852}\n",
        "[0.61847733047674958, 1.0550913739371386] [1429623858726, 1429623858730] {u'global_timestamp': None, u'hash': u'5e1a48ce6835204474aaaad1c9181958', u'htype': u'bsr_m-1.0', u'pulse_id': 719853}\n",
        "[-0.33940008333067595, 1.0982914709430314] [1429623858735, 1429623858741] {u'global_timestamp': None, u'hash': u'5e1a48ce6835204474aaaad1c9181958', u'htype': u'bsr_m-1.0', u'pulse_id': 719854}\n",
        "[-0.89329508692118353, 0.31560653224726726] [1429623858745, 1429623858751] {u'global_timestamp': None, u'hash': u'5e1a48ce6835204474aaaad1c9181958', u'htype': u'bsr_m-1.0', u'pulse_id': 719855}\n",
        "[-0.53395916841134361, -0.57336651904979541] [1429623858755, 1429623858761] {u'global_timestamp': None, u'hash': u'5e1a48ce6835204474aaaad1c9181958', u'htype': u'bsr_m-1.0', u'pulse_id': 719856}\n",
        "[0.4082358858833891, -0.75130995929490951]"
       ]
      },
      {
       "output_type": "stream",
       "stream": "stderr",
       "text": [
        "\u001b[2J\u001b[H\u001b[2J\u001b[H\u001b[2J\u001b[H\u001b[2J\u001b[H\u001b[2J\u001b[H\u001b[2J\u001b[H"
       ]
      },
      {
       "output_type": "stream",
       "stream": "stdout",
       "text": [
        " [1429623858765, 1429623858770] {u'global_timestamp': None, u'hash': u'5e1a48ce6835204474aaaad1c9181958', u'htype': u'bsr_m-1.0', u'pulse_id': 719857}\n",
        "[1.0670402881995513, -0.054623410154935936] [1429623858775, 1429623858780] {u'global_timestamp': None, u'hash': u'5e1a48ce6835204474aaaad1c9181958', u'htype': u'bsr_m-1.0', u'pulse_id': 719858}\n",
        "[0.8367523092798268, 0.87616272802546757] [1429623858785, 1429623858790] {u'global_timestamp': None, u'hash': u'5e1a48ce6835204474aaaad1c9181958', u'htype': u'bsr_m-1.0', u'pulse_id': 719859}\n",
        "[-0.070902345084416757, 1.1852879723434397] [1429623858795, 1429623858801] {u'global_timestamp': None, u'hash': u'5e1a48ce6835204474aaaad1c9181958', u'htype': u'bsr_m-1.0', u'pulse_id': 719860}\n",
        "[-0.82143017153459275, 0.58854399877714125] [1429623858805, 1429623858810] {u'global_timestamp': None, u'hash': u'5e1a48ce6835204474aaaad1c9181958', u'htype': u'bsr_m-1.0', u'pulse_id': 719861}\n",
        "[-0.72479934766881515, -0.36542553540240558] [1429623858816, 1429623858820] {u'global_timestamp': None, u'hash': u'5e1a48ce6835204474aaaad1c9181958', u'htype': u'bsr_m-1.0', u'pulse_id': 719862}\n",
        "[0.13014819268659616, -0.79954543992643567]"
       ]
      },
      {
       "output_type": "stream",
       "stream": "stderr",
       "text": [
        "\u001b[2J\u001b[H\u001b[2J\u001b[H\u001b[2J\u001b[H\u001b[2J\u001b[H\u001b[2J\u001b[H\u001b[2J\u001b[H\u001b[2J\u001b[H"
       ]
      },
      {
       "output_type": "stream",
       "stream": "stdout",
       "text": [
        " [1429623858825, 1429623858831] {u'global_timestamp': None, u'hash': u'5e1a48ce6835204474aaaad1c9181958', u'htype': u'bsr_m-1.0', u'pulse_id': 719863}\n",
        "[0.95737762372146484, -0.31468787662206904] [1429623858836, 1429623858840] {u'global_timestamp': None, u'hash': u'5e1a48ce6835204474aaaad1c9181958', u'htype': u'bsr_m-1.0', u'pulse_id': 719864}\n",
        "[0.99633802150631123, 0.64337134684387465] [1429623858846, 1429623858851] {u'global_timestamp': None, u'hash': u'5e1a48ce6835204474aaaad1c9181958', u'htype': u'bsr_m-1.0', u'pulse_id': 719865}\n",
        "[0.21120937599282752, 1.1937969987332855] [1429623858855, 1429623858861] {u'global_timestamp': None, u'hash': u'5e1a48ce6835204474aaaad1c9181958', u'htype': u'bsr_m-1.0', u'pulse_id': 719866}\n",
        "[-0.67616465694014805, 0.83053027311698702] [1429623858865, 1429623858870] {u'global_timestamp': None, u'hash': u'5e1a48ce6835204474aaaad1c9181958', u'htype': u'bsr_m-1.0', u'pulse_id': 719867}\n",
        "[-0.84993648374905872, -0.11244307776373341]"
       ]
      },
      {
       "output_type": "stream",
       "stream": "stderr",
       "text": [
        "\u001b[2J\u001b[H\u001b[2J\u001b[H\u001b[2J\u001b[H\u001b[2J\u001b[H\u001b[2J\u001b[H\u001b[2J\u001b[H"
       ]
      },
      {
       "output_type": "stream",
       "stream": "stdout",
       "text": [
        " [1429623858875, 1429623858880] {u'global_timestamp': None, u'hash': u'5e1a48ce6835204474aaaad1c9181958', u'htype': u'bsr_m-1.0', u'pulse_id': 719868}\n",
        "[-0.15034108825563006, -0.76815770385355453] [1429623858886, 1429623858890] {u'global_timestamp': None, u'hash': u'5e1a48ce6835204474aaaad1c9181958', u'htype': u'bsr_m-1.0', u'pulse_id': 719869}\n",
        "[0.77941674927294591, -0.53375260190842466] [1429623858895, 1429623858900] {u'global_timestamp': None, u'hash': u'5e1a48ce6835204474aaaad1c9181958', u'htype': u'bsr_m-1.0', u'pulse_id': 719870}\n",
        "[1.084521960810847, 0.37526125835781654] [1429623858906, 1429623858910] {u'global_timestamp': None, u'hash': u'5e1a48ce6835204474aaaad1c9181958', u'htype': u'bsr_m-1.0', u'pulse_id': 719871}\n",
        "[0.48446222193489985, 1.1231407259485846] [1429623858915, 1429623858920] {u'global_timestamp': None, u'hash': u'5e1a48ce6835204474aaaad1c9181958', u'htype': u'bsr_m-1.0', u'pulse_id': 719872}\n",
        "[-0.46907031074961714, 1.0222888673838009]"
       ]
      },
      {
       "output_type": "stream",
       "stream": "stderr",
       "text": [
        "\u001b[2J\u001b[H\u001b[2J\u001b[H\u001b[2J\u001b[H\u001b[2J\u001b[H\u001b[2J\u001b[H\u001b[2J\u001b[H"
       ]
      },
      {
       "output_type": "stream",
       "stream": "stdout",
       "text": [
        " [1429623858925, 1429623858931] {u'global_timestamp': None, u'hash': u'5e1a48ce6835204474aaaad1c9181958', u'htype': u'bsr_m-1.0', u'pulse_id': 719873}\n",
        "[-0.89940222413313375, 0.16542841632575256] [1429623858935, 1429623858941] {u'global_timestamp': None, u'hash': u'5e1a48ce6835204474aaaad1c9181958', u'htype': u'bsr_m-1.0', u'pulse_id': 719874}\n",
        "[-0.41088834162814203, -0.6596470801372194] [1429623858945, 1429623858950] {u'global_timestamp': None, u'hash': u'5e1a48ce6835204474aaaad1c9181958', u'htype': u'bsr_m-1.0', u'pulse_id': 719875}\n",
        "[0.54733392608746378, -0.6943670155876589] [1429623858956, 1429623858960] {u'global_timestamp': None, u'hash': u'5e1a48ce6835204474aaaad1c9181958', u'htype': u'bsr_m-1.0', u'pulse_id': 719876}\n",
        "[1.0942794451443512, 0.093189958508382395] [1429623858965, 1429623858971] {u'global_timestamp': None, u'hash': u'5e1a48ce6835204474aaaad1c9181958', u'htype': u'bsr_m-1.0', u'pulse_id': 719877}\n",
        "[0.7270890276901113, 0.97894759217207339] [1429623858975, 1429623858980] {u'global_timestamp': None, u'hash': u'5e1a48ce6835204474aaaad1c9181958', u'htype': u'bsr_m-1.0', u'pulse_id': 719878}\n",
        "[-0.21664414985319755, 1.1485444018936308]"
       ]
      },
      {
       "output_type": "stream",
       "stream": "stderr",
       "text": [
        "\u001b[2J\u001b[H\u001b[2J\u001b[H\u001b[2J\u001b[H\u001b[2J\u001b[H\u001b[2J\u001b[H\u001b[2J\u001b[H\u001b[2J\u001b[H"
       ]
      },
      {
       "output_type": "stream",
       "stream": "stdout",
       "text": [
        " [1429623858985, 1429623858990] {u'global_timestamp': None, u'hash': u'5e1a48ce6835204474aaaad1c9181958', u'htype': u'bsr_m-1.0', u'pulse_id': 719879}\n",
        "[-0.86925615630079012, 0.44605386295081484] [1429623858995, 1429623859000] {u'global_timestamp': None, u'hash': u'5e1a48ce6835204474aaaad1c9181958', u'htype': u'bsr_m-1.0', u'pulse_id': 719880}\n",
        "[-0.63073852259921626, -0.48265746285345384] [1429623859005, 1429623859011] {u'global_timestamp': None, u'hash': u'5e1a48ce6835204474aaaad1c9181958', u'htype': u'bsr_m-1.0', u'pulse_id': 719881}\n",
        "[0.27961673880672155, -0.78373666554644483] [1429623859015, 1429623859020] {u'global_timestamp': None, u'hash': u'5e1a48ce6835204474aaaad1c9181958', u'htype': u'bsr_m-1.0', u'pulse_id': 719882}\n",
        "[1.0248331988987904, -0.18037291467010447] [1429623859025, 1429623859031] {u'global_timestamp': None, u'hash': u'5e1a48ce6835204474aaaad1c9181958', u'htype': u'bsr_m-1.0', u'pulse_id': 719883}\n",
        "[0.91976228101012703, 0.7727039397743598] [1429623859035, 1429623859040] {u'global_timestamp': None, u'hash': u'5e1a48ce6835204474aaaad1c9181958', u'htype': u'bsr_m-1.0', u'pulse_id': 719884}\n",
        "[0.061005702488204874, 1.199239433149814]"
       ]
      },
      {
       "output_type": "stream",
       "stream": "stderr",
       "text": [
        "\u001b[2J\u001b[H\u001b[2J\u001b[H\u001b[2J\u001b[H\u001b[2J\u001b[H\u001b[2J\u001b[H\u001b[2J\u001b[H"
       ]
      },
      {
       "output_type": "stream",
       "stream": "stdout",
       "text": [
        " [1429623859046, 1429623859050] {u'global_timestamp': None, u'hash': u'5e1a48ce6835204474aaaad1c9181958', u'htype': u'bsr_m-1.0', u'pulse_id': 719885}\n",
        "[-0.7618996987327894, 0.70707879991607503] [1429623859055, 1429623859060] {u'global_timestamp': None, u'hash': u'5e1a48ce6835204474aaaad1c9181958', u'htype': u'bsr_m-1.0', u'pulse_id': 719886}\n",
        "[-0.79237849179296704, -0.25128774344680527] [1429623859065, 1429623859070] {u'global_timestamp': None, u'hash': u'5e1a48ce6835204474aaaad1c9181958', u'htype': u'bsr_m-1.0', u'pulse_id': 719887}\n",
        "[-0.0024086149129562973, -0.79474241670475165] [1429623859075, 1429623859080] {u'global_timestamp': None, u'hash': u'5e1a48ce6835204474aaaad1c9181958', u'htype': u'bsr_m-1.0', u'pulse_id': 719888}\n",
        "[0.88171527023650165, -0.42363549953404117] [1429623859086, 1429623859091] {u'global_timestamp': None, u'hash': u'5e1a48ce6835204474aaaad1c9181958', u'htype': u'bsr_m-1.0', u'pulse_id': 719889}\n",
        "[1.047133740995192, 0.52083901986580838]"
       ]
      },
      {
       "output_type": "stream",
       "stream": "stdout",
       "text": [
        " [1429623859096, 1429623859101] {u'global_timestamp': None, u'hash': u'5e1a48ce6835204474aaaad1c9181958', u'htype': u'bsr_m-1.0', u'pulse_id': 719890}\n",
        "[0.34176181821393758, 1.1703356240259815] [1429623859106, 1429623859111] {u'global_timestamp': None, u'hash': u'5e1a48ce6835204474aaaad1c9181958', u'htype': u'bsr_m-1.0', u'pulse_id': 719891}\n",
        "[-0.58588480529146303, 0.9277101303886679] [1429623859115, 1429623859120] {u'global_timestamp': None, u'hash': u'5e1a48ce6835204474aaaad1c9181958', u'htype': u'bsr_m-1.0', u'pulse_id': 719892}\n",
        "[-0.88293210193173255, 0.016031298879222139] [1429623859125, 1429623859131] {u'global_timestamp': None, u'hash': u'5e1a48ce6835204474aaaad1c9181958', u'htype': u'bsr_m-1.0', u'pulse_id': 719893}\n",
        "[-0.27627615707960196, -0.72650755723491356] [1429623859136, 1429623859140] {u'global_timestamp': None, u'hash': u'5e1a48ce6835204474aaaad1c9181958', u'htype': u'bsr_m-1.0', u'pulse_id': 719894}\n",
        "[0.67632635130510999, -0.61721963803578461] [1429623859146, 1429623859151] {u'global_timestamp': None, u'hash': u'5e1a48ce6835204474aaaad1c9181958', u'htype': u'bsr_m-1.0', u'pulse_id': 719895}\n",
        "[1.0990570701650471, 0.24341624757199176]"
       ]
      },
      {
       "output_type": "stream",
       "stream": "stderr",
       "text": [
        "\u001b[2J\u001b[H\u001b[2J\u001b[H\u001b[2J\u001b[H\u001b[2J\u001b[H\u001b[2J\u001b[H\u001b[2J\u001b[H\u001b[2J\u001b[H"
       ]
      },
      {
       "output_type": "stream",
       "stream": "stdout",
       "text": [
        " [1429623859155, 1429623859161] {u'global_timestamp': None, u'hash': u'5e1a48ce6835204474aaaad1c9181958', u'htype': u'bsr_m-1.0', u'pulse_id': 719896}\n",
        "[0.60325932610297539, 1.064135435386363] [1429623859165, 1429623859171] {u'global_timestamp': None, u'hash': u'5e1a48ce6835204474aaaad1c9181958', u'htype': u'bsr_m-1.0', u'pulse_id': 719897}\n",
        "[-0.35523272147887963, 1.0903724890712498] [1429623859175, 1429623859180] {u'global_timestamp': None, u'hash': u'5e1a48ce6835204474aaaad1c9181958', u'htype': u'bsr_m-1.0', u'pulse_id': 719898}\n",
        "[-0.89518590434630996, 0.29800518246713964] [1429623859185, 1429623859191] {u'global_timestamp': None, u'hash': u'5e1a48ce6835204474aaaad1c9181958', u'htype': u'bsr_m-1.0', u'pulse_id': 719899}\n",
        "[-0.52016975629268281, -0.58446763692320314] [1429623859195, 1429623859200] {u'global_timestamp': None, u'hash': u'5e1a48ce6835204474aaaad1c9181958', u'htype': u'bsr_m-1.0', u'pulse_id': 719900}\n",
        "[0.42502760563707243, -0.74570452868421411]"
       ]
      },
      {
       "output_type": "stream",
       "stream": "stderr",
       "text": [
        "\u001b[2J\u001b[H\u001b[2J\u001b[H\u001b[2J\u001b[H\u001b[2J\u001b[H\u001b[2J\u001b[H\u001b[2J\u001b[H\u001b[2J\u001b[H"
       ]
      },
      {
       "output_type": "stream",
       "stream": "stdout",
       "text": [
        " [1429623859205, 1429623859211] {u'global_timestamp': None, u'hash': u'5e1a48ce6835204474aaaad1c9181958', u'htype': u'bsr_m-1.0', u'pulse_id': 719901}\n",
        "[1.0713960858857039, -0.037465038112843269] [1429623859216, 1429623859221] {u'global_timestamp': None, u'hash': u'5e1a48ce6835204474aaaad1c9181958', u'htype': u'bsr_m-1.0', u'pulse_id': 719902}\n",
        "[0.82466748459359018, 0.88909871337334434] [1429623859225, 1429623859230] {u'global_timestamp': None, u'hash': u'5e1a48ce6835204474aaaad1c9181958', u'htype': u'bsr_m-1.0', u'pulse_id': 719903}\n",
        "[-0.088317060058541091, 1.1821082857256158] [1429623859235, 1429623859240] {u'global_timestamp': None, u'hash': u'5e1a48ce6835204474aaaad1c9181958', u'htype': u'bsr_m-1.0', u'pulse_id': 719904}\n",
        "[-0.82816376816146764, 0.57217202940616763] [1429623859246, 1429623859251] {u'global_timestamp': None, u'hash': u'5e1a48ce6835204474aaaad1c9181958', u'htype': u'bsr_m-1.0', u'pulse_id': 719905}\n",
        "[-0.71466098826326374, -0.37993747439006081] [1429623859255, 1429623859260] {u'global_timestamp': None, u'hash': u'5e1a48ce6835204474aaaad1c9181958', u'htype': u'bsr_m-1.0', u'pulse_id': 719906}\n",
        "[0.14783734724254988, -0.79885513875075786]"
       ]
      },
      {
       "output_type": "stream",
       "stream": "stderr",
       "text": [
        "\u001b[2J\u001b[H\u001b[2J\u001b[H\u001b[2J\u001b[H\u001b[2J\u001b[H\u001b[2J\u001b[H\u001b[2J\u001b[H"
       ]
      },
      {
       "output_type": "stream",
       "stream": "stdout",
       "text": [
        " [1429623859265, 1429623859271] {u'global_timestamp': None, u'hash': u'5e1a48ce6835204474aaaad1c9181958', u'htype': u'bsr_m-1.0', u'pulse_id': 719907}\n",
        "[0.9663542463067929, -0.29942999500048934] [1429623859276, 1429623859280] {u'global_timestamp': None, u'hash': u'5e1a48ce6835204474aaaad1c9181958', u'htype': u'bsr_m-1.0', u'pulse_id': 719908}\n",
        "[0.98834904671387902, 0.65916878291380199] [1429623859285, 1429623859291] {u'global_timestamp': None, u'hash': u'5e1a48ce6835204474aaaad1c9181958', u'htype': u'bsr_m-1.0', u'pulse_id': 719909}\n",
        "[0.19359983040375239, 1.1956098993824784] [1429623859295, 1429623859301] {u'global_timestamp': None, u'hash': u'5e1a48ce6835204474aaaad1c9181958', u'htype': u'bsr_m-1.0', u'pulse_id': 719910}\n",
        "[-0.68720463832185064, 0.81669186584919728] [1429623859306, 1429623859310] {u'global_timestamp': None, u'hash': u'5e1a48ce6835204474aaaad1c9181958', u'htype': u'bsr_m-1.0', u'pulse_id': 719911}\n",
        "[-0.84425679295453404, -0.12920982512558488] [1429623859315, 1429623859320] {u'global_timestamp': None, u'hash': u'5e1a48ce6835204474aaaad1c9181958', u'htype': u'bsr_m-1.0', u'pulse_id': 719912}\n",
        "[-0.13316360680812803, -0.77243752110879838]"
       ]
      },
      {
       "output_type": "stream",
       "stream": "stderr",
       "text": [
        "\u001b[2J\u001b[H\u001b[2J\u001b[H\u001b[2J\u001b[H\u001b[2J\u001b[H\u001b[2J\u001b[H\u001b[2J\u001b[H"
       ]
      },
      {
       "output_type": "stream",
       "stream": "stdout",
       "text": [
        " [1429623859326, 1429623859330] {u'global_timestamp': None, u'hash': u'5e1a48ce6835204474aaaad1c9181958', u'htype': u'bsr_m-1.0', u'pulse_id': 719913}\n",
        "[0.79229912414860626, -0.52161064480997821] [1429623859335, 1429623859341] {u'global_timestamp': None, u'hash': u'5e1a48ce6835204474aaaad1c9181958', u'htype': u'bsr_m-1.0', u'pulse_id': 719914}\n",
        "[1.0812652330640991, 0.39266173044914565] [1429623859345, 1429623859351] {u'global_timestamp': None, u'hash': u'5e1a48ce6835204474aaaad1c9181958', u'htype': u'bsr_m-1.0', u'pulse_id': 719915}\n",
        "[0.46806061203693428, 1.1298017992384168] [1429623859356, 1429623859360] {u'global_timestamp': None, u'hash': u'5e1a48ce6835204474aaaad1c9181958', u'htype': u'bsr_m-1.0', u'pulse_id': 719916}\n",
        "[-0.48353723829851047, 1.0120863818085779] [1429623859366, 1429623859370] {u'global_timestamp': None, u'hash': u'5e1a48ce6835204474aaaad1c9181958', u'htype': u'bsr_m-1.0', u'pulse_id': 719917}\n",
        "[-0.89863364286215686, 0.14774249007216145]"
       ]
      },
      {
       "output_type": "stream",
       "stream": "stderr",
       "text": [
        "\u001b[2J\u001b[H\u001b[2J\u001b[H\u001b[2J\u001b[H\u001b[2J\u001b[H\u001b[2J\u001b[H\u001b[2J\u001b[H\u001b[2J\u001b[H"
       ]
      },
      {
       "output_type": "stream",
       "stream": "stdout",
       "text": [
        " [1429623859376, 1429623859381] {u'global_timestamp': None, u'hash': u'5e1a48ce6835204474aaaad1c9181958', u'htype': u'bsr_m-1.0', u'pulse_id': 719918}\n",
        "[-0.39559088161333689, -0.66855608803445477] [1429623859386, 1429623859390] {u'global_timestamp': None, u'hash': u'5e1a48ce6835204474aaaad1c9181958', u'htype': u'bsr_m-1.0', u'pulse_id': 719919}\n",
        "[0.56309585065633649, -0.68630820435381512] [1429623859395, 1429623859401] {u'global_timestamp': None, u'hash': u'5e1a48ce6835204474aaaad1c9181958', u'htype': u'bsr_m-1.0', u'pulse_id': 719920}\n",
        "[1.0960143935085096, 0.11080735499002134] [1429623859405, 1429623859410] {u'global_timestamp': None, u'hash': u'5e1a48ce6835204474aaaad1c9181958', u'htype': u'bsr_m-1.0', u'pulse_id': 719921}\n",
        "[0.71320189632467224, 0.98992622082307524] [1429623859416, 1429623859420] {u'global_timestamp': None, u'hash': u'5e1a48ce6835204474aaaad1c9181958', u'htype': u'bsr_m-1.0', u'pulse_id': 719922}\n",
        "[-0.23338559641463677, 1.1427905621628045] [1429623859425, 1429623859430] {u'global_timestamp': None, u'hash': u'5e1a48ce6835204474aaaad1c9181958', u'htype': u'bsr_m-1.0', u'pulse_id': 719923}\n",
        "[-0.87345990929677875, 0.42885760855149069]"
       ]
      },
      {
       "output_type": "stream",
       "stream": "stderr",
       "text": [
        "\u001b[2J\u001b[H\u001b[2J\u001b[H\u001b[2J\u001b[H\u001b[2J\u001b[H\u001b[2J\u001b[H\u001b[2J\u001b[H\u001b[2J\u001b[H"
       ]
      },
      {
       "output_type": "stream",
       "stream": "stdout",
       "text": [
        " [1429623859435, 1429623859441] {u'global_timestamp': None, u'hash': u'5e1a48ce6835204474aaaad1c9181958', u'htype': u'bsr_m-1.0', u'pulse_id': 719924}\n",
        "[-0.61853967091184259, -0.4954859749311275] [1429623859445, 1429623859451] {u'global_timestamp': None, u'hash': u'5e1a48ce6835204474aaaad1c9181958', u'htype': u'bsr_m-1.0', u'pulse_id': 719925}\n",
        "[0.29700262719397308, -0.78040296045996937] [1429623859455, 1429623859460] {u'global_timestamp': None, u'hash': u'5e1a48ce6835204474aaaad1c9181958', u'htype': u'bsr_m-1.0', u'pulse_id': 719926}\n",
        "[1.0314216183818128, -0.16394198550181671] [1429623859465, 1429623859470] {u'global_timestamp': None, u'hash': u'5e1a48ce6835204474aaaad1c9181958', u'htype': u'bsr_m-1.0', u'pulse_id': 719927}\n",
        "[0.90949586910028291, 0.78712557252224813] [1429623859476, 1429623859480] {u'global_timestamp': None, u'hash': u'5e1a48ce6835204474aaaad1c9181958', u'htype': u'bsr_m-1.0', u'pulse_id': 719928}\n",
        "[0.0433233509494204, 1.1983925868376615] [1429623859485, 1429623859491] {u'global_timestamp': None, u'hash': u'5e1a48ce6835204474aaaad1c9181958', u'htype': u'bsr_m-1.0', u'pulse_id': 719929}\n",
        "[-0.77074091744209783, 0.69174206113784265]"
       ]
      },
      {
       "output_type": "stream",
       "stream": "stdout",
       "text": [
        " [1429623859495, 1429623859501] {u'global_timestamp': None, u'hash': u'5e1a48ce6835204474aaaad1c9181958', u'htype': u'bsr_m-1.0', u'pulse_id': 719930}\n",
        "[-0.7842500019648303, -0.26701384778740522] [1429623859506, 1429623859510] {u'global_timestamp': None, u'hash': u'5e1a48ce6835204474aaaad1c9181958', u'htype': u'bsr_m-1.0', u'pulse_id': 719931}\n",
        "[0.015216287391088101, -0.79639937880161749] [1429623859515, 1429623859520] {u'global_timestamp': None, u'hash': u'5e1a48ce6835204474aaaad1c9181958', u'htype': u'bsr_m-1.0', u'pulse_id': 719932}\n",
        "[0.89263233111951668, -0.40969991607678674] [1429623859525, 1429623859531] {u'global_timestamp': None, u'hash': u'5e1a48ce6835204474aaaad1c9181958', u'htype': u'bsr_m-1.0', u'pulse_id': 719933}\n",
        "[1.0413058650279394, 0.53755483771381929] [1429623859536, 1429623859540] {u'global_timestamp': None, u'hash': u'5e1a48ce6835204474aaaad1c9181958', u'htype': u'bsr_m-1.0', u'pulse_id': 719934}\n",
        "[0.32454712768408234, 1.1744632304242313]"
       ]
      },
      {
       "output_type": "stream",
       "stream": "stderr",
       "text": [
        "\u001b[2J\u001b[H\u001b[2J\u001b[H\u001b[2J\u001b[H\u001b[2J\u001b[H\u001b[2J\u001b[H\u001b[2J\u001b[H\u001b[2J\u001b[H"
       ]
      },
      {
       "output_type": "stream",
       "stream": "stdout",
       "text": [
        " [1429623859545, 1429623859551] {u'global_timestamp': None, u'hash': u'5e1a48ce6835204474aaaad1c9181958', u'htype': u'bsr_m-1.0', u'pulse_id': 719935}\n",
        "[-0.5986592033003848, 0.91545462305003777] [1429623859555, 1429623859560] {u'global_timestamp': None, u'hash': u'5e1a48ce6835204474aaaad1c9181958', u'htype': u'bsr_m-1.0', u'pulse_id': 719936}\n",
        "[-0.87952148480247294, -0.0013396652683190513] [1429623859566, 1429623859570] {u'global_timestamp': None, u'hash': u'5e1a48ce6835204474aaaad1c9181958', u'htype': u'bsr_m-1.0', u'pulse_id': 719937}\n",
        "[-0.25981623047193547, -0.73302319386442205] [1429623859575, 1429623859580] {u'global_timestamp': None, u'hash': u'5e1a48ce6835204474aaaad1c9181958', u'htype': u'bsr_m-1.0', u'pulse_id': 719938}\n",
        "[0.69070240677693551, -0.60688950087848825] [1429623859585, 1429623859591] {u'global_timestamp': None, u'hash': u'5e1a48ce6835204474aaaad1c9181958', u'htype': u'bsr_m-1.0', u'pulse_id': 719939}\n",
        "[1.0981319753988117, 0.26109467805354308] [1429623859595, 1429623859601] {u'global_timestamp': None, u'hash': u'5e1a48ce6835204474aaaad1c9181958', u'htype': u'bsr_m-1.0', u'pulse_id': 719940}\n",
        "[0.58788360896046299, 1.07290869173569]"
       ]
      },
      {
       "output_type": "stream",
       "stream": "stderr",
       "text": [
        "\u001b[2J\u001b[H\u001b[2J\u001b[H\u001b[2J\u001b[H\u001b[2J\u001b[H\u001b[2J\u001b[H\u001b[2J\u001b[H\u001b[2J\u001b[H"
       ]
      },
      {
       "output_type": "stream",
       "stream": "stdout",
       "text": [
        " [1429623859606, 1429623859610] {u'global_timestamp': None, u'hash': u'5e1a48ce6835204474aaaad1c9181958', u'htype': u'bsr_m-1.0', u'pulse_id': 719941}\n",
        "[-0.37092269756559582, 1.082174479860726] [1429623859615, 1429623859621] {u'global_timestamp': None, u'hash': u'5e1a48ce6835204474aaaad1c9181958', u'htype': u'bsr_m-1.0', u'pulse_id': 719942}\n",
        "[-0.89676484772113496, 0.28037311955786393] [1429623859625, 1429623859630] {u'global_timestamp': None, u'hash': u'5e1a48ce6835204474aaaad1c9181958', u'htype': u'bsr_m-1.0', u'pulse_id': 719943}\n",
        "[-0.50618599369847295, -0.59532291620686695] [1429623859635, 1429623859641] {u'global_timestamp': None, u'hash': u'5e1a48ce6835204474aaaad1c9181958', u'htype': u'bsr_m-1.0', u'pulse_id': 719944}\n",
        "[0.44171746736062589, -0.7398027306305508] [1429623859645, 1429623859651] {u'global_timestamp': None, u'hash': u'5e1a48ce6835204474aaaad1c9181958', u'htype': u'bsr_m-1.0', u'pulse_id': 719945}\n",
        "[1.0754474648392067, -0.020232248634854677] [1429623859655, 1429623859660] {u'global_timestamp': None, u'hash': u'5e1a48ce6835204474aaaad1c9181958', u'htype': u'bsr_m-1.0', u'pulse_id': 719946}\n",
        "[0.81235556165108325, 0.90181874710267595]"
       ]
      },
      {
       "output_type": "stream",
       "stream": "stderr",
       "text": [
        "\u001b[2J\u001b[H\u001b[2J\u001b[H\u001b[2J\u001b[H\u001b[2J\u001b[H\u001b[2J\u001b[H\u001b[2J\u001b[H"
       ]
      },
      {
       "output_type": "stream",
       "stream": "stdout",
       "text": [
        " [1429623859666, 1429623859670] {u'global_timestamp': None, u'hash': u'5e1a48ce6835204474aaaad1c9181958', u'htype': u'bsr_m-1.0', u'pulse_id': 719947}\n",
        "[-0.10567275972305867, 1.1786208233569839] [1429623859676, 1429623859681] {u'global_timestamp': None, u'hash': u'5e1a48ce6835204474aaaad1c9181958', u'htype': u'bsr_m-1.0', u'pulse_id': 719948}\n",
        "[-0.83460649431634815, 0.55568342775803581] [1429623859685, 1429623859691] {u'global_timestamp': None, u'hash': u'5e1a48ce6835204474aaaad1c9181958', u'htype': u'bsr_m-1.0', u'pulse_id': 719949}\n",
        "[-0.70426732819386406, -0.39426767100348264] [1429623859695, 1429623859701] {u'global_timestamp': None, u'hash': u'5e1a48ce6835204474aaaad1c9181958', u'htype': u'bsr_m-1.0', u'pulse_id': 719950}\n",
        "[0.16551151040124296, -0.7978518136501771] [1429623859706, 1429623859710] {u'global_timestamp': None, u'hash': u'5e1a48ce6835204474aaaad1c9181958', u'htype': u'bsr_m-1.0', u'pulse_id': 719951}\n",
        "[0.97505936845525631, -0.28401560065630926]"
       ]
      },
      {
       "output_type": "stream",
       "stream": "stderr",
       "text": [
        "\u001b[2J\u001b[H\u001b[2J\u001b[H\u001b[2J\u001b[H\u001b[2J\u001b[H\u001b[2J\u001b[H\u001b[2J\u001b[H\u001b[2J\u001b[H"
       ]
      },
      {
       "output_type": "stream",
       "stream": "stdout",
       "text": [
        " [1429623859715, 1429623859721] {u'global_timestamp': None, u'hash': u'5e1a48ce6835204474aaaad1c9181958', u'htype': u'bsr_m-1.0', u'pulse_id': 719952}\n",
        "[0.98008167869454321, 0.67482232342866388] [1429623859725, 1429623859730] {u'global_timestamp': None, u'hash': u'5e1a48ce6835204474aaaad1c9181958', u'htype': u'bsr_m-1.0', u'pulse_id': 719953}\n",
        "[0.17596095224667357, 1.1971107931086589] [1429623859735, 1429623859741] {u'global_timestamp': None, u'hash': u'5e1a48ce6835204474aaaad1c9181958', u'htype': u'bsr_m-1.0', u'pulse_id': 719954}\n",
        "[-0.69799792338490851, 0.80266019801657196] [1429623859746, 1429623859751] {u'global_timestamp': None, u'hash': u'5e1a48ce6835204474aaaad1c9181958', u'htype': u'bsr_m-1.0', u'pulse_id': 719955}\n",
        "[-0.83828118841237986, -0.14587340382205177] [1429623859755, 1429623859760] {u'global_timestamp': None, u'hash': u'5e1a48ce6835204474aaaad1c9181958', u'htype': u'bsr_m-1.0', u'pulse_id': 719956}\n",
        "[-0.1159130559189061, -0.77641259326360568] [1429623859765, 1429623859770] {u'global_timestamp': None, u'hash': u'5e1a48ce6835204474aaaad1c9181958', u'htype': u'bsr_m-1.0', u'pulse_id': 719957}\n",
        "[0.80496454445233667, -0.50924254741598052]"
       ]
      },
      {
       "output_type": "stream",
       "stream": "stderr",
       "text": [
        "\u001b[2J\u001b[H\u001b[2J\u001b[H\u001b[2J\u001b[H\u001b[2J\u001b[H\u001b[2J\u001b[H\u001b[2J\u001b[H\u001b[2J\u001b[H"
       ]
      },
      {
       "output_type": "stream",
       "stream": "stdout",
       "text": [
        " [1429623859776, 1429623859780] {u'global_timestamp': None, u'hash': u'5e1a48ce6835204474aaaad1c9181958', u'htype': u'bsr_m-1.0', u'pulse_id': 719958}\n",
        "[1.0777009937646667, 0.41000182568631027] [1429623859785, 1429623859790] {u'global_timestamp': None, u'hash': u'5e1a48ce6835204474aaaad1c9181958', u'htype': u'bsr_m-1.0', u'pulse_id': 719959}\n",
        "[0.4515436583089053, 1.1361714887256456] [1429623859795, 1429623859801] {u'global_timestamp': None, u'hash': u'5e1a48ce6835204474aaaad1c9181958', u'htype': u'bsr_m-1.0', u'pulse_id': 719960}\n",
        "[-0.49782129536942066, 1.0016294024066408] [1429623859805, 1429623859810] {u'global_timestamp': None, u'hash': u'5e1a48ce6835204474aaaad1c9181958', u'htype': u'bsr_m-1.0', u'pulse_id': 719961}\n",
        "[-0.89755210707925781, 0.13007294041836809] [1429623859815, 1429623859820] {u'global_timestamp': None, u'hash': u'5e1a48ce6835204474aaaad1c9181958', u'htype': u'bsr_m-1.0', u'pulse_id': 719962}\n",
        "[-0.38013811198766811, -0.67719290547570976] [1429623859825, 1429623859830] {u'global_timestamp': None, u'hash': u'5e1a48ce6835204474aaaad1c9181958', u'htype': u'bsr_m-1.0', u'pulse_id': 719963}\n",
        "[0.57871264899503339, -0.67797163945776617]"
       ]
      },
      {
       "output_type": "stream",
       "stream": "stdout",
       "text": [
        " [1429623859835, 1429623859841] {u'global_timestamp': None, u'hash': u'5e1a48ce6835204474aaaad1c9181958', u'htype': u'bsr_m-1.0', u'pulse_id': 719964}\n",
        "[1.097437208188192, 0.12845270290398553] [1429623859845, 1429623859850] {u'global_timestamp': None, u'hash': u'5e1a48ce6835204474aaaad1c9181958', u'htype': u'bsr_m-1.0', u'pulse_id': 719965}\n",
        "[0.69912259809048627, 1.0006573002585473] [1429623859855, 1429623859860] {u'global_timestamp': None, u'hash': u'5e1a48ce6835204474aaaad1c9181958', u'htype': u'bsr_m-1.0', u'pulse_id': 719966}\n",
        "[-0.25002256569619097, 1.1367412681757196] [1429623859866, 1429623859870] {u'global_timestamp': None, u'hash': u'5e1a48ce6835204474aaaad1c9181958', u'htype': u'bsr_m-1.0', u'pulse_id': 719967}\n",
        "[-0.87735859679355521, 0.41158963413582628] [1429623859876, 1429623859880] {u'global_timestamp': None, u'hash': u'5e1a48ce6835204474aaaad1c9181958', u'htype': u'bsr_m-1.0', u'pulse_id': 719968}\n",
        "[-0.60611564131902362, -0.50809653373295371]"
       ]
      },
      {
       "output_type": "stream",
       "stream": "stderr",
       "text": [
        "\u001b[2J\u001b[H\u001b[2J\u001b[H\u001b[2J\u001b[H\u001b[2J\u001b[H\u001b[2J\u001b[H\u001b[2J\u001b[H"
       ]
      },
      {
       "output_type": "stream",
       "stream": "stdout",
       "text": [
        " [1429623859885, 1429623859891] {u'global_timestamp': None, u'hash': u'5e1a48ce6835204474aaaad1c9181958', u'htype': u'bsr_m-1.0', u'pulse_id': 719969}\n",
        "[0.31432677836509776, -0.77676201404213008] [1429623859895, 1429623859900] {u'global_timestamp': None, u'hash': u'5e1a48ce6835204474aaaad1c9181958', u'htype': u'bsr_m-1.0', u'pulse_id': 719970}\n",
        "[1.0377181464389278, -0.14739700320978855] [1429623859905, 1429623859910] {u'global_timestamp': None, u'hash': u'5e1a48ce6835204474aaaad1c9181958', u'htype': u'bsr_m-1.0', u'pulse_id': 719971}\n",
        "[0.89897577518560323, 0.80136321027026947] [1429623859915, 1429623859921] {u'global_timestamp': None, u'hash': u'5e1a48ce6835204474aaaad1c9181958', u'htype': u'bsr_m-1.0', u'pulse_id': 719972}\n",
        "[0.025658760892204063, 1.1972328615563756] [1429623859926, 1429623859930] {u'global_timestamp': None, u'hash': u'5e1a48ce6835204474aaaad1c9181958', u'htype': u'bsr_m-1.0', u'pulse_id': 719973}\n",
        "[-0.77930926100767706, 0.67625121890251672] [1429623859936, 1429623859941] {u'global_timestamp': None, u'hash': u'5e1a48ce6835204474aaaad1c9181958', u'htype': u'bsr_m-1.0', u'pulse_id': 719974}\n",
        "[-0.77584440347951966, -0.28259359806529172]"
       ]
      },
      {
       "output_type": "stream",
       "stream": "stderr",
       "text": [
        "\u001b[2J\u001b[H\u001b[2J\u001b[H\u001b[2J\u001b[H\u001b[2J\u001b[H\u001b[2J\u001b[H\u001b[2J\u001b[H\u001b[2J\u001b[H"
       ]
      },
      {
       "output_type": "stream",
       "stream": "stdout",
       "text": [
        " [1429623859945, 1429623859951] {u'global_timestamp': None, u'hash': u'5e1a48ce6835204474aaaad1c9181958', u'htype': u'bsr_m-1.0', u'pulse_id': 719975}\n",
        "[0.032867759444297401, -0.79774408656627549] [1429623859955, 1429623859961] {u'global_timestamp': None, u'hash': u'5e1a48ce6835204474aaaad1c9181958', u'htype': u'bsr_m-1.0', u'pulse_id': 719976}\n",
        "[0.90330099473883807, -0.39557326321082703] [1429623859965, 1429623859970] {u'global_timestamp': None, u'hash': u'5e1a48ce6835204474aaaad1c9181958', u'htype': u'bsr_m-1.0', u'pulse_id': 719977}\n",
        "[1.0351830000828319, 0.55416487171383066] [1429623859976, 1429623859980] {u'global_timestamp': None, u'hash': u'5e1a48ce6835204474aaaad1c9181958', u'htype': u'bsr_m-1.0', u'pulse_id': 719978}\n",
        "[0.30726206796803934, 1.1782854568997803] [1429623859985, 1429623859991] {u'global_timestamp': None, u'hash': u'5e1a48ce6835204474aaaad1c9181958', u'htype': u'bsr_m-1.0', u'pulse_id': 719979}\n",
        "[-0.61121465359857041, 0.90297490460660512]"
       ]
      },
      {
       "output_type": "stream",
       "stream": "stderr",
       "text": [
        "\u001b[2J\u001b[H\u001b[2J\u001b[H\u001b[2J\u001b[H\u001b[2J\u001b[H\u001b[2J\u001b[H\u001b[2J\u001b[H\u001b[2J\u001b[H"
       ]
      },
      {
       "output_type": "stream",
       "stream": "stdout",
       "text": [
        " [1429623859995, 1429623860001] {u'global_timestamp': None, u'hash': u'5e1a48ce6835204474aaaad1c9181958', u'htype': u'bsr_m-1.0', u'pulse_id': 719980}\n",
        "[-0.87580390258107499, -0.018647533047011638] [1429623860005, 1429623860010] {u'global_timestamp': None, u'hash': u'5e1a48ce6835204474aaaad1c9181958', u'htype': u'bsr_m-1.0', u'pulse_id': 719981}\n",
        "[-0.24324354368079834, -0.73924643716196647] [1429623860015, 1429623860020] {u'global_timestamp': None, u'hash': u'5e1a48ce6835204474aaaad1c9181958', u'htype': u'bsr_m-1.0', u'pulse_id': 719982}\n",
        "[0.70489334633090106, -0.59630649850707895] [1429623860025, 1429623860030] {u'global_timestamp': None, u'hash': u'5e1a48ce6835204474aaaad1c9181958', u'htype': u'bsr_m-1.0', u'pulse_id': 719983}\n",
        "[1.0968940833345606, 0.27875396251964829] [1429623860035, 1429623860041] {u'global_timestamp': None, u'hash': u'5e1a48ce6835204474aaaad1c9181958', u'htype': u'bsr_m-1.0', u'pulse_id': 719984}\n",
        "[0.57235499753303587, 1.081408393598317] [1429623860045, 1429623860050] {u'global_timestamp': None, u'hash': u'5e1a48ce6835204474aaaad1c9181958', u'htype': u'bsr_m-1.0', u'pulse_id': 719985}\n",
        "[-0.38646509462368306, 1.0737000124257587]"
       ]
      },
      {
       "output_type": "stream",
       "stream": "stderr",
       "text": [
        "\u001b[2J\u001b[H\u001b[2J\u001b[H\u001b[2J\u001b[H\u001b[2J\u001b[H\u001b[2J\u001b[H\u001b[2J\u001b[H"
       ]
      },
      {
       "output_type": "stream",
       "stream": "stdout",
       "text": [
        " [1429623860055, 1429623860060] {u'global_timestamp': None, u'hash': u'5e1a48ce6835204474aaaad1c9181958', u'htype': u'bsr_m-1.0', u'pulse_id': 719986}\n",
        "[-0.89803142223211341, 0.26271586910300265] [1429623860066, 1429623860070] {u'global_timestamp': None, u'hash': u'5e1a48ce6835204474aaaad1c9181958', u'htype': u'bsr_m-1.0', u'pulse_id': 719987}\n",
        "[-0.49201226289805666, -0.60592895504400524] [1429623860075, 1429623860081] {u'global_timestamp': None, u'hash': u'5e1a48ce6835204474aaaad1c9181958', u'htype': u'bsr_m-1.0', u'pulse_id': 719988}\n",
        "[0.45830024074004283, -0.73360641465535537] [1429623860086, 1429623860091] {u'global_timestamp': None, u'hash': u'5e1a48ce6835204474aaaad1c9181958', u'htype': u'bsr_m-1.0', u'pulse_id': 719989}\n",
        "[1.0791931554279659, -0.0029304421791448987] [1429623860095, 1429623860100] {u'global_timestamp': None, u'hash': u'5e1a48ce6835204474aaaad1c9181958', u'htype': u'bsr_m-1.0', u'pulse_id': 719990}\n",
        "[0.79982039879601674, 0.91431884297488897] [1429623860105, 1429623860110] {u'global_timestamp': None, u'hash': u'5e1a48ce6835204474aaaad1c9181958', u'htype': u'bsr_m-1.0', u'pulse_id': 719991}\n",
        "[-0.12296400510186808, 1.1748266781479333]"
       ]
      },
      {
       "output_type": "stream",
       "stream": "stderr",
       "text": [
        "\u001b[2J\u001b[H\u001b[2J\u001b[H\u001b[2J\u001b[H\u001b[2J\u001b[H\u001b[2J\u001b[H\u001b[2J\u001b[H"
       ]
      },
      {
       "output_type": "stream",
       "stream": "stdout",
       "text": [
        " [1429623860115, 1429623860120] {u'global_timestamp': None, u'hash': u'5e1a48ce6835204474aaaad1c9181958', u'htype': u'bsr_m-1.0', u'pulse_id': 719992}\n",
        "[-0.84075633096028668, 0.5390833610753254] [1429623860125, 1429623860131] {u'global_timestamp': None, u'hash': u'5e1a48ce6835204474aaaad1c9181958', u'htype': u'bsr_m-1.0', u'pulse_id': 719993}\n",
        "[-0.6936216246539193, -0.40841163440689859] [1429623860136, 1429623860141] {u'global_timestamp': None, u'hash': u'5e1a48ce6835204474aaaad1c9181958', u'htype': u'bsr_m-1.0', u'pulse_id': 719994}\n",
        "[0.18316514338562295, -0.79653577904942718] [1429623860145, 1429623860151] {u'global_timestamp': None, u'hash': u'5e1a48ce6835204474aaaad1c9181958', u'htype': u'bsr_m-1.0', u'pulse_id': 719995}\n",
        "[0.98349026213213242, -0.26844952419411844] [1429623860155, 1429623860160] {u'global_timestamp': None, u'hash': u'5e1a48ce6835204474aaaad1c9181958', u'htype': u'bsr_m-1.0', u'pulse_id': 719996}\n",
        "[0.97153850829845367, 0.69032706283959699] [1429623860166, 1429623860170] {u'global_timestamp': None, u'hash': u'5e1a48ce6835204474aaaad1c9181958', u'htype': u'bsr_m-1.0', u'pulse_id': 719997}\n",
        "[0.15829826924093435, 1.1982992095576914]"
       ]
      },
      {
       "output_type": "stream",
       "stream": "stderr",
       "text": [
        "\u001b[2J\u001b[H\u001b[2J\u001b[H\u001b[2J\u001b[H\u001b[2J\u001b[H\u001b[2J\u001b[H\u001b[2J\u001b[H\u001b[2J\u001b[H"
       ]
      },
      {
       "output_type": "stream",
       "stream": "stdout",
       "text": [
        " [1429623860176, 1429623860181] {u'global_timestamp': None, u'hash': u'5e1a48ce6835204474aaaad1c9181958', u'htype': u'bsr_m-1.0', u'pulse_id': 719998}\n",
        "[-0.7085411297004568, 0.78843966690112688] [1429623860185, 1429623860191] {u'global_timestamp': None, u'hash': u'5e1a48ce6835204474aaaad1c9181958', u'htype': u'bsr_m-1.0', u'pulse_id': 719999}\n",
        "[-0.83201154277370926, -0.16242859177577368] [1429623860195, 1429623860200] {u'global_timestamp': None, u'hash': u'5e1a48ce6835204474aaaad1c9181958', u'htype': u'bsr_m-1.0', u'pulse_id': 720000}\n",
        "[-0.098594841612258038, -0.78008167459911326] [1429623860205, 1429623860210] {u'global_timestamp': None, u'hash': u'5e1a48ce6835204474aaaad1c9181958', u'htype': u'bsr_m-1.0', u'pulse_id': 720001}\n",
        "[0.81740904106046719, -0.49665218567424368] [1429623860215, 1429623860220] {u'global_timestamp': None, u'hash': u'5e1a48ce6835204474aaaad1c9181958', u'htype': u'bsr_m-1.0', u'pulse_id': 720002}\n",
        "[1.0738303598835008, 0.42727610998336674] [1429623860225, 1429623860230] {u'global_timestamp': None, u'hash': u'5e1a48ce6835204474aaaad1c9181958', u'htype': u'bsr_m-1.0', u'pulse_id': 720003}\n",
        "[0.43491653687844445, 1.1422477982597516]"
       ]
      },
      {
       "output_type": "stream",
       "stream": "stderr",
       "text": [
        "\u001b[2J\u001b[H\u001b[2J\u001b[H\u001b[2J\u001b[H\u001b[2J\u001b[H\u001b[2J\u001b[H\u001b[2J\u001b[H\u001b[2J\u001b[H"
       ]
      },
      {
       "output_type": "stream",
       "stream": "stdout",
       "text": [
        " [1429623860236, 1429623860241] {u'global_timestamp': None, u'hash': u'5e1a48ce6835204474aaaad1c9181958', u'htype': u'bsr_m-1.0', u'pulse_id': 720004}\n",
        "[-0.51191800558591005, 0.99092120621447632] [1429623860245, 1429623860250] {u'global_timestamp': None, u'hash': u'5e1a48ce6835204474aaaad1c9181958', u'htype': u'bsr_m-1.0', u'pulse_id': 720005}\n",
        "[-0.89615795571904522, 0.11242530469563239] [1429623860256, 1429623860261] {u'global_timestamp': None, u'hash': u'5e1a48ce6835204474aaaad1c9181958', u'htype': u'bsr_m-1.0', u'pulse_id': 720006}\n",
        "[-0.36453487538187468, -0.68555482583177541] [1429623860265, 1429623860270] {u'global_timestamp': None, u'hash': u'5e1a48ce6835204474aaaad1c9181958', u'htype': u'bsr_m-1.0', u'pulse_id': 720007}\n",
        "[0.59417942706905358, -0.66935993343476663] [1429623860276, 1429623860280] {u'global_timestamp': None, u'hash': u'5e1a48ce6835204474aaaad1c9181958', u'htype': u'bsr_m-1.0', u'pulse_id': 720008}\n",
        "[1.0985474432978863, 0.14612047250342169] [1429623860285, 1429623860291] {u'global_timestamp': None, u'hash': u'5e1a48ce6835204474aaaad1c9181958', u'htype': u'bsr_m-1.0', u'pulse_id': 720009}\n",
        "[0.68485554519611336, 1.0111374675437925]"
       ]
      },
      {
       "output_type": "stream",
       "stream": "stdout",
       "text": [
        " [1429623860295, 1429623860300] {u'global_timestamp': None, u'hash': u'5e1a48ce6835204474aaaad1c9181958', u'htype': u'bsr_m-1.0', u'pulse_id': 720010}\n",
        "[-0.26654984395943015, 1.1303984156764872] [1429623860306, 1429623860310] {u'global_timestamp': None, u'hash': u'5e1a48ce6835204474aaaad1c9181958', u'htype': u'bsr_m-1.0', u'pulse_id': 720011}\n",
        "[-0.88095099700988722, 0.39425535118834742] [1429623860315, 1429623860321] {u'global_timestamp': None, u'hash': u'5e1a48ce6835204474aaaad1c9181958', u'htype': u'bsr_m-1.0', u'pulse_id': 720012}\n",
        "[-0.5934703272967552, -0.52048518732790838] [1429623860325, 1429623860330] {u'global_timestamp': None, u'hash': u'5e1a48ce6835204474aaaad1c9181958', u'htype': u'bsr_m-1.0', u'pulse_id': 720013}\n",
        "[0.33158376323074645, -0.77281496730256238] [1429623860336, 1429623860341] {u'global_timestamp': None, u'hash': u'5e1a48ce6835204474aaaad1c9181958', u'htype': u'bsr_m-1.0', u'pulse_id': 720014}\n",
        "[1.0437208098471424, -0.13074315270531844] [1429623860346, 1429623860350] {u'global_timestamp': None, u'hash': u'5e1a48ce6835204474aaaad1c9181958', u'htype': u'bsr_m-1.0', u'pulse_id': 720015}\n",
        "[0.88820529608157206, 0.81541239118899878]"
       ]
      },
      {
       "output_type": "stream",
       "stream": "stderr",
       "text": [
        "\u001b[2J\u001b[H\u001b[2J\u001b[H\u001b[2J\u001b[H\u001b[2J\u001b[H\u001b[2J\u001b[H\u001b[2J\u001b[H\u001b[2J\u001b[H"
       ]
      },
      {
       "output_type": "stream",
       "stream": "stdout",
       "text": [
        " [1429623860356, 1429623860360] {u'global_timestamp': None, u'hash': u'5e1a48ce6835204474aaaad1c9181958', u'htype': u'bsr_m-1.0', u'pulse_id': 720016}\n",
        "[0.0080174680935639481, 1.1957606207438018] [1429623860365, 1429623860370] {u'global_timestamp': None, u'hash': u'5e1a48ce6835204474aaaad1c9181958', u'htype': u'bsr_m-1.0', u'pulse_id': 720017}\n",
        "[-0.78760204425884639, 0.66061112777213382] [1429623860375, 1429623860380] {u'global_timestamp': None, u'hash': u'5e1a48ce6835204474aaaad1c9181958', u'htype': u'bsr_m-1.0', u'pulse_id': 720018}\n",
        "[-0.76716433050622257, -0.29802211185618538] [1429623860385, 1429623860391] {u'global_timestamp': None, u'hash': u'5e1a48ce6835204474aaaad1c9181958', u'htype': u'bsr_m-1.0', u'pulse_id': 720019}\n",
        "[0.050540269580619079, -0.79877611859056885] [1429623860395, 1429623860401] {u'global_timestamp': None, u'hash': u'5e1a48ce6835204474aaaad1c9181958', u'htype': u'bsr_m-1.0', u'pulse_id': 720020}\n",
        "[0.91371791771980637, -0.38125996798484446]"
       ]
      },
      {
       "output_type": "stream",
       "stream": "stderr",
       "text": [
        "\u001b[2J\u001b[H\u001b[2J\u001b[H\u001b[2J\u001b[H\u001b[2J\u001b[H\u001b[2J\u001b[H\u001b[2J\u001b[H"
       ]
      },
      {
       "output_type": "stream",
       "stream": "stdout",
       "text": [
        " [1429623860405, 1429623860411] {u'global_timestamp': None, u'hash': u'5e1a48ce6835204474aaaad1c9181958', u'htype': u'bsr_m-1.0', u'pulse_id': 720021}\n",
        "[1.0287670649598462, 0.57066391656846382] [1429623860416, 1429623860420] {u'global_timestamp': None, u'hash': u'5e1a48ce6835204474aaaad1c9181958', u'htype': u'bsr_m-1.0', u'pulse_id': 720022}\n",
        "[0.28991205590457192, 1.181801105632958] [1429623860426, 1429623860430] {u'global_timestamp': None, u'hash': u'5e1a48ce6835204474aaaad1c9181958', u'htype': u'bsr_m-1.0', u'pulse_id': 720023}\n",
        "[-0.6235472215250476, 0.89027488598628857] [1429623860435, 1429623860441] {u'global_timestamp': None, u'hash': u'5e1a48ce6835204474aaaad1c9181958', u'htype': u'bsr_m-1.0', u'pulse_id': 720024}\n",
        "[-0.87178052029350972, -0.035886880470440002] [1429623860445, 1429623860451] {u'global_timestamp': None, u'hash': u'5e1a48ce6835204474aaaad1c9181958', u'htype': u'bsr_m-1.0', u'pulse_id': 720025}\n",
        "[-0.22656329029960007, -0.74517533687073056] [1429623860455, 1429623860460] {u'global_timestamp': None, u'hash': u'5e1a48ce6835204474aaaad1c9181958', u'htype': u'bsr_m-1.0', u'pulse_id': 720026}\n",
        "[0.7188947227719884, -0.58547394745146297]"
       ]
      },
      {
       "output_type": "stream",
       "stream": "stderr",
       "text": [
        "\u001b[2J\u001b[H\u001b[2J\u001b[H\u001b[2J\u001b[H\u001b[2J\u001b[H\u001b[2J\u001b[H\u001b[2J\u001b[H"
       ]
      },
      {
       "output_type": "stream",
       "stream": "stdout",
       "text": [
        " [1429623860466, 1429623860470] {u'global_timestamp': None, u'hash': u'5e1a48ce6835204474aaaad1c9181958', u'htype': u'bsr_m-1.0', u'pulse_id': 720027}\n",
        "[1.095343781906257, 0.2963885668559797] [1429623860476, 1429623860481] {u'global_timestamp': None, u'hash': u'5e1a48ce6835204474aaaad1c9181958', u'htype': u'bsr_m-1.0', u'pulse_id': 720028}\n",
        "[0.5566783582189424, 1.0896318773146854] [1429623860485, 1429623860491] {u'global_timestamp': None, u'hash': u'5e1a48ce6835204474aaaad1c9181958', u'htype': u'bsr_m-1.0', u'pulse_id': 720029}\n",
        "[-0.40185504193471522, 1.0649517425178732] [1429623860495, 1429623860501] {u'global_timestamp': None, u'hash': u'5e1a48ce6835204474aaaad1c9181958', u'htype': u'bsr_m-1.0', u'pulse_id': 720030}\n",
        "[-0.89898523095669947, 0.2450389645794594] [1429623860506, 1429623860510] {u'global_timestamp': None, u'hash': u'5e1a48ce6835204474aaaad1c9181958', u'htype': u'bsr_m-1.0', u'pulse_id': 720031}\n",
        "[-0.47765300569352653, -0.61628242968548252] [1429623860515, 1429623860521] {u'global_timestamp': None, u'hash': u'5e1a48ce6835204474aaaad1c9181958', u'htype': u'bsr_m-1.0', u'pulse_id': 720032}\n",
        "[0.47477072902095141, -0.72711752257688689]"
       ]
      },
      {
       "output_type": "stream",
       "stream": "stderr",
       "text": [
        "\u001b[2J\u001b[H\u001b[2J\u001b[H\u001b[2J\u001b[H\u001b[2J\u001b[H\u001b[2J\u001b[H\u001b[2J\u001b[H\u001b[2J\u001b[H"
       ]
      },
      {
       "output_type": "stream",
       "stream": "stdout",
       "text": [
        " [1429623860526, 1429623860531] {u'global_timestamp': None, u'hash': u'5e1a48ce6835204474aaaad1c9181958', u'htype': u'bsr_m-1.0', u'pulse_id': 720033}\n",
        "[1.0826319838173342, 0.014434959167384215] [1429623860536, 1429623860541] {u'global_timestamp': None, u'hash': u'5e1a48ce6835204474aaaad1c9181958', u'htype': u'bsr_m-1.0', u'pulse_id': 720034}\n",
        "[0.78706592433162892, 0.92659508367613141] [1429623860545, 1429623860551] {u'global_timestamp': None, u'hash': u'5e1a48ce6835204474aaaad1c9181958', u'htype': u'bsr_m-1.0', u'pulse_id': 720035}\n",
        "[-0.14018537741772633, 1.1707270391179512] [1429623860556, 1429623860560] {u'global_timestamp': None, u'hash': u'5e1a48ce6835204474aaaad1c9181958', u'htype': u'bsr_m-1.0', u'pulse_id': 720036}\n",
        "[-0.84661135084084282, 0.52237703153183035] [1429623860566, 1429623860570] {u'global_timestamp': None, u'hash': u'5e1a48ce6835204474aaaad1c9181958', u'htype': u'bsr_m-1.0', u'pulse_id': 720037}\n",
        "[-0.68272721382279766, -0.42236493212680332]"
       ]
      },
      {
       "output_type": "stream",
       "stream": "stderr",
       "text": [
        "\u001b[2J\u001b[H\u001b[2J\u001b[H\u001b[2J\u001b[H\u001b[2J\u001b[H\u001b[2J\u001b[H\u001b[2J\u001b[H\u001b[2J\u001b[H"
       ]
      },
      {
       "output_type": "stream",
       "stream": "stdout",
       "text": [
        " [1429623860576, 1429623860580] {u'global_timestamp': None, u'hash': u'5e1a48ce6835204474aaaad1c9181958', u'htype': u'bsr_m-1.0', u'pulse_id': 720038}\n",
        "[0.20079271385243883, -0.79490744737099051] [1429623860585, 1429623860591] {u'global_timestamp': None, u'hash': u'5e1a48ce6835204474aaaad1c9181958', u'htype': u'bsr_m-1.0', u'pulse_id': 720039}\n",
        "[0.99164428524115822, -0.25273664375305888] [1429623860595, 1429623860600] {u'global_timestamp': None, u'hash': u'5e1a48ce6835204474aaaad1c9181958', u'htype': u'bsr_m-1.0', u'pulse_id': 720040}\n",
        "[0.96272221280745529, 0.70567814222943026] [1429623860605, 1429623860610] {u'global_timestamp': None, u'hash': u'5e1a48ce6835204474aaaad1c9181958', u'htype': u'bsr_m-1.0', u'pulse_id': 720041}\n",
        "[0.1406173165659059, 1.1991747763004152] [1429623860616, 1429623860621] {u'global_timestamp': None, u'hash': u'5e1a48ce6835204474aaaad1c9181958', u'htype': u'bsr_m-1.0', u'pulse_id': 720042}\n",
        "[-0.71883095320998502, 0.77403472897136405] [1429623860625, 1429623860631] {u'global_timestamp': None, u'hash': u'5e1a48ce6835204474aaaad1c9181958', u'htype': u'bsr_m-1.0', u'pulse_id': 720043}\n",
        "[-0.82544982083702934, -0.17887020087717409]"
       ]
      },
      {
       "output_type": "stream",
       "stream": "stderr",
       "text": [
        "\u001b[2J\u001b[H\u001b[2J\u001b[H\u001b[2J\u001b[H\u001b[2J\u001b[H\u001b[2J\u001b[H\u001b[2J\u001b[H"
       ]
      },
      {
       "output_type": "stream",
       "stream": "stdout",
       "text": [
        " [1429623860635, 1429623860641] {u'global_timestamp': None, u'hash': u'5e1a48ce6835204474aaaad1c9181958', u'htype': u'bsr_m-1.0', u'pulse_id': 720044}\n",
        "[-0.081214391117022444, -0.783443615288689] [1429623860645, 1429623860651] {u'global_timestamp': None, u'hash': u'5e1a48ce6835204474aaaad1c9181958', u'htype': u'bsr_m-1.0', u'pulse_id': 720045}\n",
        "[0.82962871408299299, -0.48384350518638258] [1429623860655, 1429623860660] {u'global_timestamp': None, u'hash': u'5e1a48ce6835204474aaaad1c9181958', u'htype': u'bsr_m-1.0', u'pulse_id': 720046}\n",
        "[1.069654544410316, 0.44447916987838165] [1429623860665, 1429623860670] {u'global_timestamp': None, u'hash': u'5e1a48ce6835204474aaaad1c9181958', u'htype': u'bsr_m-1.0', u'pulse_id': 720047}\n",
        "[0.41818445839783536, 1.148028823630419] [1429623860676, 1429623860681] {u'global_timestamp': None, u'hash': u'5e1a48ce6835204474aaaad1c9181958', u'htype': u'bsr_m-1.0', u'pulse_id': 720048}\n",
        "[-0.52582295128280476, 0.97996514899556897]"
       ]
      },
      {
       "output_type": "stream",
       "stream": "stdout",
       "text": [
        " [1429623860686, 1429623860691] {u'global_timestamp': None, u'hash': u'5e1a48ce6835204474aaaad1c9181958', u'htype': u'bsr_m-1.0', u'pulse_id': 720049}\n",
        "[-0.89445162568444314, 0.09480511336776723] [1429623860695, 1429623860701] {u'global_timestamp': None, u'hash': u'5e1a48ce6835204474aaaad1c9181958', u'htype': u'bsr_m-1.0', u'pulse_id': 720050}\n",
        "[-0.34878606158044478, -0.69363922862143479] [1429623860705, 1429623860711] {u'global_timestamp': None, u'hash': u'5e1a48ce6835204474aaaad1c9181958', u'htype': u'bsr_m-1.0', u'pulse_id': 720051}\n",
        "[0.60949133785765253, -0.66047578504454107] [1429623860715, 1429623860720] {u'global_timestamp': None, u'hash': u'5e1a48ce6835204474aaaad1c9181958', u'htype': u'bsr_m-1.0', u'pulse_id': 720052}\n",
        "[1.099344750909111, 0.16380512701490829] [1429623860725, 1429623860730] {u'global_timestamp': None, u'hash': u'5e1a48ce6835204474aaaad1c9181958', u'htype': u'bsr_m-1.0', u'pulse_id': 720053}\n",
        "[0.67040520868917619, 1.0213634383756423] [1429623860735, 1429623860740] {u'global_timestamp': None, u'hash': u'5e1a48ce6835204474aaaad1c9181958', u'htype': u'bsr_m-1.0', u'pulse_id': 720054}\n",
        "[-0.28296225184119228, 1.1237639924053779]"
       ]
      },
      {
       "output_type": "stream",
       "stream": "stderr",
       "text": [
        "\u001b[2J\u001b[H\u001b[2J\u001b[H\u001b[2J\u001b[H\u001b[2J\u001b[H\u001b[2J\u001b[H\u001b[2J\u001b[H\u001b[2J\u001b[H"
       ]
      },
      {
       "output_type": "stream",
       "stream": "stdout",
       "text": [
        " [1429623860746, 1429623860751] {u'global_timestamp': None, u'hash': u'5e1a48ce6835204474aaaad1c9181958', u'htype': u'bsr_m-1.0', u'pulse_id': 720055}\n",
        "[-0.88423598414967908, 0.37686019197352671] [1429623860755, 1429623860760] {u'global_timestamp': None, u'hash': u'5e1a48ce6835204474aaaad1c9181958', u'htype': u'bsr_m-1.0', u'pulse_id': 720056}\n",
        "[-0.58060769166774662, -0.53264805332622123] [1429623860766, 1429623860770] {u'global_timestamp': None, u'hash': u'5e1a48ce6835204474aaaad1c9181958', u'htype': u'bsr_m-1.0', u'pulse_id': 720057}\n",
        "[0.34876817375032843, -0.7685630571774491] [1429623860775, 1429623860781] {u'global_timestamp': None, u'hash': u'5e1a48ce6835204474aaaad1c9181958', u'htype': u'bsr_m-1.0', u'pulse_id': 720058}\n",
        "[1.0494277274755635, -0.11398565301711983] [1429623860785, 1429623860791] {u'global_timestamp': None, u'hash': u'5e1a48ce6835204474aaaad1c9181958', u'htype': u'bsr_m-1.0', u'pulse_id': 720059}\n",
        "[0.87718780707006094, 0.82926871250812217]"
       ]
      },
      {
       "output_type": "stream",
       "stream": "stderr",
       "text": [
        "\u001b[2J\u001b[H\u001b[2J\u001b[H\u001b[2J\u001b[H\u001b[2J\u001b[H\u001b[2J\u001b[H\u001b[2J\u001b[H\u001b[2J\u001b[H"
       ]
      },
      {
       "output_type": "stream",
       "stream": "stdout",
       "text": [
        " [1429623860795, 1429623860800] {u'global_timestamp': None, u'hash': u'5e1a48ce6835204474aaaad1c9181958', u'htype': u'bsr_m-1.0', u'pulse_id': 720060}\n",
        "[-0.0095949989704497696, 1.1939763257747475] [1429623860805, 1429623860811] {u'global_timestamp': None, u'hash': u'5e1a48ce6835204474aaaad1c9181958', u'htype': u'bsr_m-1.0', u'pulse_id': 720061}\n",
        "[-0.79561666838076184, 0.64482668908075258] [1429623860815, 1429623860820] {u'global_timestamp': None, u'hash': u'5e1a48ce6835204474aaaad1c9181958', u'htype': u'bsr_m-1.0', u'pulse_id': 720062}\n",
        "[-0.75821250322968348, -0.31329455413070623] [1429623860825, 1429623860830] {u'global_timestamp': None, u'hash': u'5e1a48ce6835204474aaaad1c9181958', u'htype': u'bsr_m-1.0', u'pulse_id': 720063}\n",
        "[0.068228279541029238, -0.79949515145351113] [1429623860836, 1429623860841] {u'global_timestamp': None, u'hash': u'5e1a48ce6835204474aaaad1c9181958', u'htype': u'bsr_m-1.0', u'pulse_id': 720064}\n",
        "[0.92387983557892372, -0.36676451593800891] [1429623860845, 1429623860850] {u'global_timestamp': None, u'hash': u'5e1a48ce6835204474aaaad1c9181958', u'htype': u'bsr_m-1.0', u'pulse_id': 720065}\n",
        "[1.0220600703020835, 0.58704680176241864]"
       ]
      },
      {
       "output_type": "stream",
       "stream": "stderr",
       "text": [
        "\u001b[2J\u001b[H\u001b[2J\u001b[H\u001b[2J\u001b[H\u001b[2J\u001b[H\u001b[2J\u001b[H\u001b[2J\u001b[H\u001b[2J\u001b[H"
       ]
      },
      {
       "output_type": "stream",
       "stream": "stdout",
       "text": [
        " [1429623860856, 1429623860860] {u'global_timestamp': None, u'hash': u'5e1a48ce6835204474aaaad1c9181958', u'htype': u'bsr_m-1.0', u'pulse_id': 720066}\n",
        "[0.27250252868738561, 1.185009074880256] [1429623860865, 1429623860870] {u'global_timestamp': None, u'hash': u'5e1a48ce6835204474aaaad1c9181958', u'htype': u'bsr_m-1.0', u'pulse_id': 720067}\n",
        "[-0.63565304226632469, 0.87735854715527228] [1429623860875, 1429623860881] {u'global_timestamp': None, u'hash': u'5e1a48ce6835204474aaaad1c9181958', u'htype': u'bsr_m-1.0', u'pulse_id': 720068}\n",
        "[-0.86745259879820014, -0.053052305025282742] [1429623860885, 1429623860891] {u'global_timestamp': None, u'hash': u'5e1a48ce6835204474aaaad1c9181958', u'htype': u'bsr_m-1.0', u'pulse_id': 720069}\n",
        "[-0.20978069763125892, -0.75080803497608839] [1429623860895, 1429623860900] {u'global_timestamp': None, u'hash': u'5e1a48ce6835204474aaaad1c9181958', u'htype': u'bsr_m-1.0', u'pulse_id': 720070}\n",
        "[0.7327021483109798, -0.5743952424457881] [1429623860905, 1429623860910] {u'global_timestamp': None, u'hash': u'5e1a48ce6835204474aaaad1c9181958', u'htype': u'bsr_m-1.0', u'pulse_id': 720071}\n",
        "[1.0934815569515552, 0.31399296468253562]"
       ]
      },
      {
       "output_type": "stream",
       "stream": "stderr",
       "text": [
        "\u001b[2J\u001b[H\u001b[2J\u001b[H\u001b[2J\u001b[H\u001b[2J\u001b[H\u001b[2J\u001b[H\u001b[2J\u001b[H"
       ]
      },
      {
       "output_type": "stream",
       "stream": "stdout",
       "text": [
        " [1429623860915, 1429623860920] {u'global_timestamp': None, u'hash': u'5e1a48ce6835204474aaaad1c9181958', u'htype': u'bsr_m-1.0', u'pulse_id': 720072}\n",
        "[0.54085860380580986, 1.097576565787227] [1429623860925, 1429623860931] {u'global_timestamp': None, u'hash': u'5e1a48ce6835204474aaaad1c9181958', u'htype': u'bsr_m-1.0', u'pulse_id': 720073}\n",
        "[-0.41708771655537979, 1.0559324116935538] [1429623860935, 1429623860940] {u'global_timestamp': None, u'hash': u'5e1a48ce6835204474aaaad1c9181958', u'htype': u'bsr_m-1.0', u'pulse_id': 720074}\n",
        "[-0.89962597498773533, 0.22734794562338309] [1429623860946, 1429623860950] {u'global_timestamp': None, u'hash': u'5e1a48ce6835204474aaaad1c9181958', u'htype': u'bsr_m-1.0', u'pulse_id': 720075}\n",
        "[-0.46311272202774179, -0.62638009553141294] [1429623860955, 1429623860960] {u'global_timestamp': None, u'hash': u'5e1a48ce6835204474aaaad1c9181958', u'htype': u'bsr_m-1.0', u'pulse_id': 720076}\n",
        "[0.49112377063718804, -0.72033808790169518] [1429623860965, 1429623860970] {u'global_timestamp': None, u'hash': u'5e1a48ce6835204474aaaad1c9181958', u'htype': u'bsr_m-1.0', u'pulse_id': 720077}\n",
        "[1.08576287233797, 0.031858513388291931]"
       ]
      },
      {
       "output_type": "stream",
       "stream": "stderr",
       "text": [
        "\u001b[2J\u001b[H\u001b[2J\u001b[H\u001b[2J\u001b[H\u001b[2J\u001b[H\u001b[2J\u001b[H\u001b[2J\u001b[H"
       ]
      },
      {
       "output_type": "stream",
       "stream": "stdout",
       "text": [
        " [1429623860975, 1429623860980] {u'global_timestamp': None, u'hash': u'5e1a48ce6835204474aaaad1c9181958', u'htype': u'bsr_m-1.0', u'pulse_id': 720078}\n",
        "[0.77409613528962351, 0.93864362204488949] [1429623860985, 1429623860990] {u'global_timestamp': None, u'hash': u'5e1a48ce6835204474aaaad1c9181958', u'htype': u'bsr_m-1.0', u'pulse_id': 720079}\n",
        "[-0.15733147979039977, 1.166323191023005] [1429623860995, 1429623861000] {u'global_timestamp': None, u'hash': u'5e1a48ce6835204474aaaad1c9181958', u'htype': u'bsr_m-1.0', u'pulse_id': 720080}\n",
        "[-0.85216971909605077, 0.50556967460228752] [1429623861005, 1429623861010] {u'global_timestamp': None, u'hash': u'5e1a48ce6835204474aaaad1c9181958', u'htype': u'bsr_m-1.0', u'pulse_id': 720081}\n",
        "[-0.67158750982043036, -0.43612319144101902] [1429623861015, 1429623861020] {u'global_timestamp': None, u'hash': u'5e1a48ce6835204474aaaad1c9181958', u'htype': u'bsr_m-1.0', u'pulse_id': 720082}\n",
        "[0.2183886976259819, -0.79296732890585275]"
       ]
      },
      {
       "output_type": "stream",
       "stream": "stderr",
       "text": [
        "\u001b[2J\u001b[H\u001b[2J\u001b[H\u001b[2J\u001b[H\u001b[2J\u001b[H\u001b[2J\u001b[H\u001b[2J\u001b[H"
       ]
      },
      {
       "output_type": "stream",
       "stream": "stdout",
       "text": [
        " [1429623861025, 1429623861031] {u'global_timestamp': None, u'hash': u'5e1a48ce6835204474aaaad1c9181958', u'htype': u'bsr_m-1.0', u'pulse_id': 720083}\n",
        "[0.9995188824525183, -0.23688188347810046] [1429623861035, 1429623861041] {u'global_timestamp': None, u'hash': u'5e1a48ce6835204474aaaad1c9181958', u'htype': u'bsr_m-1.0', u'pulse_id': 720084}\n",
        "[0.95363555509607356, 0.72087075083538554] [1429623861045, 1429623861050] {u'global_timestamp': None, u'hash': u'5e1a48ce6835204474aaaad1c9181958', u'htype': u'bsr_m-1.0', u'pulse_id': 720085}\n",
        "[0.12292363512635772, 1.1997372189493565] [1429623861055, 1429623861060] {u'global_timestamp': None, u'hash': u'5e1a48ce6835204474aaaad1c9181958', u'htype': u'bsr_m-1.0', u'pulse_id': 720086}\n",
        "[-0.72886416926077169, 0.75944989848569167] [1429623861065, 1429623861070] {u'global_timestamp': None, u'hash': u'5e1a48ce6835204474aaaad1c9181958', u'htype': u'bsr_m-1.0', u'pulse_id': 720087}\n",
        "[-0.8185980789325078, -0.1951930786103247]"
       ]
      },
      {
       "output_type": "stream",
       "stream": "stdout",
       "text": [
        " [1429623861075, 1429623861080] {u'global_timestamp': None, u'hash': u'5e1a48ce6835204474aaaad1c9181958', u'htype': u'bsr_m-1.0', u'pulse_id': 720088}\n",
        "[-0.063777151165782975, -0.78649736175826646] [1429623861085, 1429623861091] {u'global_timestamp': None, u'hash': u'5e1a48ce6835204474aaaad1c9181958', u'htype': u'bsr_m-1.0', u'pulse_id': 720089}\n",
        "[0.84161973408573287, -0.47082051997133095] [1429623861096, 1429623861100] {u'global_timestamp': None, u'hash': u'5e1a48ce6835204474aaaad1c9181958', u'htype': u'bsr_m-1.0', u'pulse_id': 720090}\n",
        "[1.0651748559734593, 0.46160561422991742] [1429623861105, 1429623861110] {u'global_timestamp': None, u'hash': u'5e1a48ce6835204474aaaad1c9181958', u'htype': u'bsr_m-1.0', u'pulse_id': 720091}\n",
        "[0.40135266641108636, 1.1535127531642817] [1429623861115, 1429623861120] {u'global_timestamp': None, u'hash': u'5e1a48ce6835204474aaaad1c9181958', u'htype': u'bsr_m-1.0', u'pulse_id': 720092}\n",
        "[-0.53953177489061466, 0.96876466418876217] [1429623861125, 1429623861130] {u'global_timestamp': None, u'hash': u'5e1a48ce6835204474aaaad1c9181958', u'htype': u'bsr_m-1.0', u'pulse_id': 720093}\n",
        "[-0.89243365170977274, 0.077217888297986814]"
       ]
      },
      {
       "output_type": "stream",
       "stream": "stderr",
       "text": [
        "\u001b[2J\u001b[H\u001b[2J\u001b[H\u001b[2J\u001b[H\u001b[2J\u001b[H\u001b[2J\u001b[H\u001b[2J\u001b[H\u001b[2J\u001b[H"
       ]
      },
      {
       "output_type": "stream",
       "stream": "stdout",
       "text": [
        " [1429623861136, 1429623861141] {u'global_timestamp': None, u'hash': u'5e1a48ce6835204474aaaad1c9181958', u'htype': u'bsr_m-1.0', u'pulse_id': 720094}\n",
        "[-0.3328966059892422, -0.70144358033267662] [1429623861146, 1429623861150] {u'global_timestamp': None, u'hash': u'5e1a48ce6835204474aaaad1c9181958', u'htype': u'bsr_m-1.0', u'pulse_id': 720095}\n",
        "[0.62464358287281441, -0.6513219784255404] [1429623861156, 1429623861160] {u'global_timestamp': None, u'hash': u'5e1a48ce6835204474aaaad1c9181958', u'htype': u'bsr_m-1.0', u'pulse_id': 720096}\n",
        "[1.0998288811594505, 0.18150112437358426] [1429623861166, 1429623861170] {u'global_timestamp': None, u'hash': u'5e1a48ce6835204474aaaad1c9181958', u'htype': u'bsr_m-1.0', u'pulse_id': 720097}\n",
        "[0.6557761170552121, 1.0313320081116997] [1429623861176, 1429623861180] {u'global_timestamp': None, u'hash': u'5e1a48ce6835204474aaaad1c9181958', u'htype': u'bsr_m-1.0', u'pulse_id': 720098}\n",
        "[-0.29925464597670592, 1.1168400774759004]"
       ]
      },
      {
       "output_type": "stream",
       "stream": "stderr",
       "text": [
        "\u001b[2J\u001b[H\u001b[2J\u001b[H\u001b[2J\u001b[H\u001b[2J\u001b[H\u001b[2J\u001b[H\u001b[2J\u001b[H\u001b[2J\u001b[H"
       ]
      },
      {
       "output_type": "stream",
       "stream": "stdout",
       "text": [
        " [1429623861185, 1429623861190] {u'global_timestamp': None, u'hash': u'5e1a48ce6835204474aaaad1c9181958', u'htype': u'bsr_m-1.0', u'pulse_id': 720099}\n",
        "[-0.88721252875477619, 0.35940960783340614] [1429623861195, 1429623861201] {u'global_timestamp': None, u'hash': u'5e1a48ce6835204474aaaad1c9181958', u'htype': u'bsr_m-1.0', u'pulse_id': 720100}\n",
        "[-0.56753176535953953, -0.54458132009605009] [1429623861205, 1429623861211] {u'global_timestamp': None, u'hash': u'5e1a48ce6835204474aaaad1c9181958', u'htype': u'bsr_m-1.0', u'pulse_id': 720101}\n",
        "[0.36587462462679765, -0.76400761614188473] [1429623861215, 1429623861220] {u'global_timestamp': None, u'hash': u'5e1a48ce6835204474aaaad1c9181958', u'htype': u'bsr_m-1.0', u'pulse_id': 720102}\n",
        "[1.0548371108749093, -0.097129755655767536] [1429623861225, 1429623861230] {u'global_timestamp': None, u'hash': u'5e1a48ce6835204474aaaad1c9181958', u'htype': u'bsr_m-1.0', u'pulse_id': 720103}\n",
        "[0.86592676084157449, 0.84292783189618836] [1429623861236, 1429623861241] {u'global_timestamp': None, u'hash': u'5e1a48ce6835204474aaaad1c9181958', u'htype': u'bsr_m-1.0', u'pulse_id': 720104}\n",
        "[-0.027173120857273553, 1.1918805358163962]"
       ]
      },
      {
       "output_type": "stream",
       "stream": "stderr",
       "text": [
        "\u001b[2J\u001b[H\u001b[2J\u001b[H\u001b[2J\u001b[H\u001b[2J\u001b[H\u001b[2J\u001b[H\u001b[2J\u001b[H"
       ]
      },
      {
       "output_type": "stream",
       "stream": "stdout",
       "text": [
        " [1429623861246, 1429623861250] {u'global_timestamp': None, u'hash': u'5e1a48ce6835204474aaaad1c9181958', u'htype': u'bsr_m-1.0', u'pulse_id': 720105}\n",
        "[-0.80335062172883953, 0.62890284939846119] [1429623861256, 1429623861261] {u'global_timestamp': None, u'hash': u'5e1a48ce6835204474aaaad1c9181958', u'htype': u'bsr_m-1.0', u'pulse_id': 720106}\n",
        "[-0.74899172699774574, -0.32840613876958807] [1429623861265, 1429623861271] {u'global_timestamp': None, u'hash': u'5e1a48ce6835204474aaaad1c9181958', u'htype': u'bsr_m-1.0', u'pulse_id': 720107}\n",
        "[0.085926246209127186, -0.79990095982263854] [1429623861276, 1429623861280] {u'global_timestamp': None, u'hash': u'5e1a48ce6835204474aaaad1c9181958', u'htype': u'bsr_m-1.0', u'pulse_id': 720108}\n",
        "[0.93378356374688753, -0.35209144969428735] [1429623861285, 1429623861290] {u'global_timestamp': None, u'hash': u'5e1a48ce6835204474aaaad1c9181958', u'htype': u'bsr_m-1.0', u'pulse_id': 720109}\n",
        "[1.0150641179656696, 0.60330839318282359] [1429623861295, 1429623861301] {u'global_timestamp': None, u'hash': u'5e1a48ce6835204474aaaad1c9181958', u'htype': u'bsr_m-1.0', u'pulse_id': 720110}\n",
        "[0.25503894216120593, 1.1879083593195952]"
       ]
      },
      {
       "output_type": "stream",
       "stream": "stderr",
       "text": [
        "\u001b[2J\u001b[H\u001b[2J\u001b[H\u001b[2J\u001b[H\u001b[2J\u001b[H\u001b[2J\u001b[H\u001b[2J\u001b[H"
       ]
      },
      {
       "output_type": "stream",
       "stream": "stdout",
       "text": [
        " [1429623861305, 1429623861310] {u'global_timestamp': None, u'hash': u'5e1a48ce6835204474aaaad1c9181958', u'htype': u'bsr_m-1.0', u'pulse_id': 720111}\n",
        "[-0.64752832206755628, 0.86422993587075236] [1429623861315, 1429623861320] {u'global_timestamp': None, u'hash': u'5e1a48ce6835204474aaaad1c9181958', u'htype': u'bsr_m-1.0', u'pulse_id': 720112}\n",
        "[-0.86282149439089006, -0.070138427364366929] [1429623861325, 1429623861330] {u'global_timestamp': None, u'hash': u'5e1a48ce6835204474aaaad1c9181958', u'htype': u'bsr_m-1.0', u'pulse_id': 720113}\n",
        "[-0.19290102505005577, -0.75614276628787325] [1429623861335, 1429623861340] {u'global_timestamp': None, u'hash': u'5e1a48ce6835204474aaaad1c9181958', u'htype': u'bsr_m-1.0', u'pulse_id': 720114}\n",
        "[0.74631129593951628, -0.56307385536459242] [1429623861345, 1429623861350] {u'global_timestamp': None, u'hash': u'5e1a48ce6835204474aaaad1c9181958', u'htype': u'bsr_m-1.0', u'pulse_id': 720115}\n",
        "[1.0913079920595483, 0.33156163908551195]"
       ]
      },
      {
       "output_type": "stream",
       "stream": "stderr",
       "text": [
        "\u001b[2J\u001b[H\u001b[2J\u001b[H\u001b[2J\u001b[H\u001b[2J\u001b[H\u001b[2J\u001b[H\u001b[2J\u001b[H\u001b[2J\u001b[H"
       ]
      },
      {
       "output_type": "stream",
       "stream": "stdout",
       "text": [
        " [1429623861356, 1429623861360] {u'global_timestamp': None, u'hash': u'5e1a48ce6835204474aaaad1c9181958', u'htype': u'bsr_m-1.0', u'pulse_id': 720116}\n",
        "[0.5249006919310627, 1.1052399692879806] [1429623861365, 1429623861370] {u'global_timestamp': None, u'hash': u'5e1a48ce6835204474aaaad1c9181958', u'htype': u'bsr_m-1.0', u'pulse_id': 720117}\n",
        "[-0.4321583448289058, 1.0466448464550879] [1429623861375, 1429623861381] {u'global_timestamp': None, u'hash': u'5e1a48ce6835204474aaaad1c9181958', u'htype': u'bsr_m-1.0', u'pulse_id': 720118}\n",
        "[-0.89995345352712364, 0.20964835629414158] [1429623861385, 1429623861391] {u'global_timestamp': None, u'hash': u'5e1a48ce6835204474aaaad1c9181958', u'htype': u'bsr_m-1.0', u'pulse_id': 720119}\n",
        "[-0.44839596857412334, -0.63621878814796373] [1429623861396, 1429623861401] {u'global_timestamp': None, u'hash': u'5e1a48ce6835204474aaaad1c9181958', u'htype': u'bsr_m-1.0', u'pulse_id': 720120}\n",
        "[0.50735424082834213, -0.71327023518735411] [1429623861405, 1429623861410] {u'global_timestamp': None, u'hash': u'5e1a48ce6835204474aaaad1c9181958', u'htype': u'bsr_m-1.0', u'pulse_id': 720121}\n",
        "[1.0885848398235609, 0.049334760243032433]"
       ]
      },
      {
       "output_type": "stream",
       "stream": "stderr",
       "text": [
        "\u001b[2J\u001b[H\u001b[2J\u001b[H\u001b[2J\u001b[H\u001b[2J\u001b[H\u001b[2J\u001b[H\u001b[2J\u001b[H"
       ]
      },
      {
       "output_type": "stream",
       "stream": "stdout",
       "text": [
        " [1429623861415, 1429623861420] {u'global_timestamp': None, u'hash': u'5e1a48ce6835204474aaaad1c9181958', u'htype': u'bsr_m-1.0', u'pulse_id': 720122}\n",
        "[0.76091509617756881, 0.9504606822776227] [1429623861425, 1429623861431] {u'global_timestamp': None, u'hash': u'5e1a48ce6835204474aaaad1c9181958', u'htype': u'bsr_m-1.0', u'pulse_id': 720123}\n",
        "[-0.1743969389279533, 1.1616165139529213] [1429623861436, 1429623861440] {u'global_timestamp': None, u'hash': u'5e1a48ce6835204474aaaad1c9181958', u'htype': u'bsr_m-1.0', u'pulse_id': 720124}\n",
        "[-0.85742969382943346, 0.48866655742166848] [1429623861446, 1429623861450] {u'global_timestamp': None, u'hash': u'5e1a48ce6835204474aaaad1c9181958', u'htype': u'bsr_m-1.0', u'pulse_id': 720125}\n",
        "[-0.66020600363738646, -0.44968210074903087] [1429623861456, 1429623861460] {u'global_timestamp': None, u'hash': u'5e1a48ce6835204474aaaad1c9181958', u'htype': u'bsr_m-1.0', u'pulse_id': 720126}\n",
        "[0.23594758042926678, -0.7907160316535855]"
       ]
      },
      {
       "output_type": "stream",
       "stream": "stdout",
       "text": [
        " [1429623861465, 1429623861470] {u'global_timestamp': None, u'hash': u'5e1a48ce6835204474aaaad1c9181958', u'htype': u'bsr_m-1.0', u'pulse_id': 720127}\n",
        "[1.007111586003641, -0.22089021197689923] [1429623861475, 1429623861480] {u'global_timestamp': None, u'hash': u'5e1a48ce6835204474aaaad1c9181958', u'htype': u'bsr_m-1.0', u'pulse_id': 720128}\n",
        "[0.94428138276567819, 0.73590012755668788] [1429623861485, 1429623861490] {u'global_timestamp': None, u'hash': u'5e1a48ce6835204474aaaad1c9181958', u'htype': u'bsr_m-1.0', u'pulse_id': 720129}\n",
        "[0.10522276981603397, 1.1999863612447166] [1429623861495, 1429623861501] {u'global_timestamp': None, u'hash': u'5e1a48ce6835204474aaaad1c9181958', u'htype': u'bsr_m-1.0', u'pulse_id': 720130}\n",
        "[-0.73863763361643497, 0.74468974607773397] [1429623861505, 1429623861510] {u'global_timestamp': None, u'hash': u'5e1a48ce6835204474aaaad1c9181958', u'htype': u'bsr_m-1.0', u'pulse_id': 720131}\n",
        "[-0.81145846427755375, -0.2113921096676542] [1429623861515, 1429623861520] {u'global_timestamp': None, u'hash': u'5e1a48ce6835204474aaaad1c9181958', u'htype': u'bsr_m-1.0', u'pulse_id': 720132}\n",
        "[-0.046288586287956596, -0.78924195701651834]"
       ]
      },
      {
       "output_type": "stream",
       "stream": "stderr",
       "text": [
        "\u001b[2J\u001b[H\u001b[2J\u001b[H\u001b[2J\u001b[H\u001b[2J\u001b[H\u001b[2J\u001b[H\u001b[2J\u001b[H\u001b[2J\u001b[H"
       ]
      },
      {
       "output_type": "stream",
       "stream": "stdout",
       "text": [
        " [1429623861526, 1429623861531] {u'global_timestamp': None, u'hash': u'5e1a48ce6835204474aaaad1c9181958', u'htype': u'bsr_m-1.0', u'pulse_id': 720133}\n",
        "[0.85337834329040718, -0.45758731120741775] [1429623861535, 1429623861541] {u'global_timestamp': None, u'hash': u'5e1a48ce6835204474aaaad1c9181958', u'htype': u'bsr_m-1.0', u'pulse_id': 720134}\n",
        "[1.0603926984298087, 0.47865007590652264] [1429623861546, 1429623861550] {u'global_timestamp': None, u'hash': u'5e1a48ce6835204474aaaad1c9181958', u'htype': u'bsr_m-1.0', u'pulse_id': 720135}\n",
        "[0.38442643571069379, 1.1586978682926705] [1429623861555, 1429623861561] {u'global_timestamp': None, u'hash': u'5e1a48ce6835204474aaaad1c9181958', u'htype': u'bsr_m-1.0', u'pulse_id': 720136}\n",
        "[-0.55304018030112045, 0.95732326183227734] [1429623861565, 1429623861570] {u'global_timestamp': None, u'hash': u'5e1a48ce6835204474aaaad1c9181958', u'htype': u'bsr_m-1.0', u'pulse_id': 720137}\n",
        "[-0.89010466619317596, 0.059669141018450222]"
       ]
      },
      {
       "output_type": "stream",
       "stream": "stderr",
       "text": [
        "\u001b[2J\u001b[H\u001b[2J\u001b[H\u001b[2J\u001b[H\u001b[2J\u001b[H\u001b[2J\u001b[H\u001b[2J\u001b[H\u001b[2J\u001b[H"
       ]
      },
      {
       "output_type": "stream",
       "stream": "stdout",
       "text": [
        " [1429623861575, 1429623861582] {u'global_timestamp': None, u'hash': u'5e1a48ce6835204474aaaad1c9181958', u'htype': u'bsr_m-1.0', u'pulse_id': 720138}\n",
        "[-0.31687148808883503, -0.70896543521665345] [1429623861585, 1429623861591] {u'global_timestamp': None, u'hash': u'5e1a48ce6835204474aaaad1c9181958', u'htype': u'bsr_m-1.0', u'pulse_id': 720139}\n",
        "[0.63963141366301535, -0.64190138222244042] [1429623861595, 1429623861601] {u'global_timestamp': None, u'hash': u'5e1a48ce6835204474aaaad1c9181958', u'htype': u'bsr_m-1.0', u'pulse_id': 720140}\n",
        "[1.0999996823308573, 0.19920291895993639] [1429623861606, 1429623861610] {u'global_timestamp': None, u'hash': u'5e1a48ce6835204474aaaad1c9181958', u'htype': u'bsr_m-1.0', u'pulse_id': 720141}\n",
        "[0.64097285479852339, 1.04104005277462] [1429623861616, 1429623861620] {u'global_timestamp': None, u'hash': u'5e1a48ce6835204474aaaad1c9181958', u'htype': u'bsr_m-1.0', u'pulse_id': 720142}\n",
        "[-0.31542192061143215, 1.109628840723242] [1429623861625, 1429623861632] {u'global_timestamp': None, u'hash': u'5e1a48ce6835204474aaaad1c9181958', u'htype': u'bsr_m-1.0', u'pulse_id': 720143}\n",
        "[-0.88987969802757971, 0.34190906747924071]"
       ]
      },
      {
       "output_type": "stream",
       "stream": "stderr",
       "text": [
        "\u001b[2J\u001b[H\u001b[2J\u001b[H\u001b[2J\u001b[H\u001b[2J\u001b[H\u001b[2J\u001b[H\u001b[2J\u001b[H"
       ]
      },
      {
       "output_type": "stream",
       "stream": "stdout",
       "text": [
        " [1429623861635, 1429623861640] {u'global_timestamp': None, u'hash': u'5e1a48ce6835204474aaaad1c9181958', u'htype': u'bsr_m-1.0', u'pulse_id': 720144}\n",
        "[-0.55424664614128605, -0.55628124795797951] [1429623861648, 1429623861651] {u'global_timestamp': None, u'hash': u'5e1a48ce6835204474aaaad1c9181958', u'htype': u'bsr_m-1.0', u'pulse_id': 720145}\n",
        "[0.38289775499431222, -0.75915007179230209] [1429623861655, 1429623861660] {u'global_timestamp': None, u'hash': u'5e1a48ce6835204474aaaad1c9181958', u'htype': u'bsr_m-1.0', u'pulse_id': 720146}\n",
        "[1.05994726483798, -0.080180742967965568] [1429623861666, 1429623861670] {u'global_timestamp': None, u'hash': u'5e1a48ce6835204474aaaad1c9181958', u'htype': u'bsr_m-1.0', u'pulse_id': 720147}\n",
        "[0.85442568641323646, 0.85638546882142119] [1429623861675, 1429623861680] {u'global_timestamp': None, u'hash': u'5e1a48ce6835204474aaaad1c9181958', u'htype': u'bsr_m-1.0', u'pulse_id': 720148}\n",
        "[-0.04471138888752843, 1.1894739076530731] [1429623861685, 1429623861691] {u'global_timestamp': None, u'hash': u'5e1a48ce6835204474aaaad1c9181958', u'htype': u'bsr_m-1.0', u'pulse_id': 720149}\n",
        "[-0.81080148061586188, 0.61284459898120724]"
       ]
      },
      {
       "output_type": "stream",
       "stream": "stderr",
       "text": [
        "\u001b[2J\u001b[H\u001b[2J\u001b[H\u001b[2J\u001b[H\u001b[2J\u001b[H\u001b[2J\u001b[H\u001b[2J\u001b[H\u001b[2J\u001b[H"
       ]
      },
      {
       "output_type": "stream",
       "stream": "stdout",
       "text": [
        " [1429623861695, 1429623861700] {u'global_timestamp': None, u'hash': u'5e1a48ce6835204474aaaad1c9181958', u'htype': u'bsr_m-1.0', u'pulse_id': 720150}\n",
        "[-0.73950489144220344, -0.34335213006356585] [1429623861705, 1429623861710] {u'global_timestamp': None, u'hash': u'5e1a48ce6835204474aaaad1c9181958', u'htype': u'bsr_m-1.0', u'pulse_id': 720151}\n",
        "[0.10362862334825224, -0.79999341652462719] [1429623861715, 1429623861720] {u'global_timestamp': None, u'hash': u'5e1a48ce6835204474aaaad1c9181958', u'htype': u'bsr_m-1.0', u'pulse_id': 720152}\n",
        "[0.94342599856657872, -0.33724536753886442] [1429623861725, 1429623861730] {u'global_timestamp': None, u'hash': u'5e1a48ce6835204474aaaad1c9181958', u'htype': u'bsr_m-1.0', u'pulse_id': 720153}\n",
        "[1.0077814003610694, 0.61944359472817778] [1429623861735, 1429623861741] {u'global_timestamp': None, u'hash': u'5e1a48ce6835204474aaaad1c9181958', u'htype': u'bsr_m-1.0', u'pulse_id': 720154}\n",
        "[0.23752676911201065, 1.1904980503653764]"
       ]
      },
      {
       "output_type": "stream",
       "stream": "stderr",
       "text": [
        "\u001b[2J\u001b[H\u001b[2J\u001b[H\u001b[2J\u001b[H\u001b[2J\u001b[H\u001b[2J\u001b[H\u001b[2J\u001b[H\u001b[2J\u001b[H"
       ]
      },
      {
       "output_type": "stream",
       "stream": "stdout",
       "text": [
        " [1429623861745, 1429623861751] {u'global_timestamp': None, u'hash': u'5e1a48ce6835204474aaaad1c9181958', u'htype': u'bsr_m-1.0', u'pulse_id': 720155}\n",
        "[-0.65916933942144018, 0.8508931664124415] [1429623861756, 1429623861760] {u'global_timestamp': None, u'hash': u'5e1a48ce6835204474aaaad1c9181958', u'htype': u'bsr_m-1.0', u'pulse_id': 720156}\n",
        "[-0.85788865837960371, -0.087139892992462553] [1429623861765, 1429623861770] {u'global_timestamp': None, u'hash': u'5e1a48ce6835204474aaaad1c9181958', u'htype': u'bsr_m-1.0', u'pulse_id': 720157}\n",
        "[-0.17592956235343712, -0.76117785899355828] [1429623861775, 1429623861780] {u'global_timestamp': None, u'hash': u'5e1a48ce6835204474aaaad1c9181958', u'htype': u'bsr_m-1.0', u'pulse_id': 720158}\n",
        "[0.75971790078610624, -0.55151333413477976] [1429623861785, 1429623861790] {u'global_timestamp': None, u'hash': u'5e1a48ce6835204474aaaad1c9181958', u'htype': u'bsr_m-1.0', u'pulse_id': 720159}\n",
        "[1.0888237683878808, 0.34908908434620767] [1429623861796, 1429623861800] {u'global_timestamp': None, u'hash': u'5e1a48ce6835204474aaaad1c9181958', u'htype': u'bsr_m-1.0', u'pulse_id': 720160}\n",
        "[0.5088096235282844, 1.1126196862388311]"
       ]
      },
      {
       "output_type": "stream",
       "stream": "stdout",
       "text": [
        " [1429623861805, 1429623861810] {u'global_timestamp': None, u'hash': u'5e1a48ce6835204474aaaad1c9181958', u'htype': u'bsr_m-1.0', u'pulse_id': 720161}\n",
        "[-0.44706220388104456, 1.0370919573647894] [1429623861815, 1429623861821] {u'global_timestamp': None, u'hash': u'5e1a48ce6835204474aaaad1c9181958', u'htype': u'bsr_m-1.0', u'pulse_id': 720162}\n",
        "[-0.89996756394875388, 0.19194574333690947] [1429623861825, 1429623861830] {u'global_timestamp': None, u'hash': u'5e1a48ce6835204474aaaad1c9181958', u'htype': u'bsr_m-1.0', u'pulse_id': 720163}\n",
        "[-0.43350735730867185, -0.64579542425903269] [1429623861835, 1429623861840] {u'global_timestamp': None, u'hash': u'5e1a48ce6835204474aaaad1c9181958', u'htype': u'bsr_m-1.0', u'pulse_id': 720164}\n",
        "[0.52345705324576808, -0.70591617937666329] [1429623861845, 1429623861851] {u'global_timestamp': None, u'hash': u'5e1a48ce6835204474aaaad1c9181958', u'htype': u'bsr_m-1.0', u'pulse_id': 720165}\n",
        "[1.0910970019183039, 0.066858222978099846]"
       ]
      },
      {
       "output_type": "stream",
       "stream": "stderr",
       "text": [
        "\u001b[2J\u001b[H\u001b[2J\u001b[H\u001b[2J\u001b[H\u001b[2J\u001b[H\u001b[2J\u001b[H\u001b[2J\u001b[H"
       ]
      },
      {
       "output_type": "stream",
       "stream": "stdout",
       "text": [
        " [1429623861855, 1429623861860] {u'global_timestamp': None, u'hash': u'5e1a48ce6835204474aaaad1c9181958', u'htype': u'bsr_m-1.0', u'pulse_id': 720166}\n",
        "[0.74752693770515144, 0.96204256111203468] [1429623861865, 1429623861870] {u'global_timestamp': None, u'hash': u'5e1a48ce6835204474aaaad1c9181958', u'htype': u'bsr_m-1.0', u'pulse_id': 720167}\n",
        "[-0.1913764068106468, 1.1566084828988903] [1429623861875, 1429623861880] {u'global_timestamp': None, u'hash': u'5e1a48ce6835204474aaaad1c9181958', u'htype': u'bsr_m-1.0', u'pulse_id': 720168}\n",
        "[-0.8623896266558827, 0.47167297713455208] [1429623861886, 1429623861891] {u'global_timestamp': None, u'hash': u'5e1a48ce6835204474aaaad1c9181958', u'htype': u'bsr_m-1.0', u'pulse_id': 720169}\n",
        "[-0.64858626204085623, -0.46303741092316847] [1429623861895, 1429623861900] {u'global_timestamp': None, u'hash': u'5e1a48ce6835204474aaaad1c9181958', u'htype': u'bsr_m-1.0', u'pulse_id': 720170}\n",
        "[0.25346385961211054, -0.78815426113181064] [1429623861905, 1429623861910] {u'global_timestamp': None, u'hash': u'5e1a48ce6835204474aaaad1c9181958', u'htype': u'bsr_m-1.0', u'pulse_id': 720171}\n",
        "[1.0144200164725519, -0.20476664076272166]"
       ]
      },
      {
       "output_type": "stream",
       "stream": "stderr",
       "text": [
        "\u001b[2J\u001b[H\u001b[2J\u001b[H\u001b[2J\u001b[H\u001b[2J\u001b[H\u001b[2J\u001b[H\u001b[2J\u001b[H\u001b[2J\u001b[H"
       ]
      },
      {
       "output_type": "stream",
       "stream": "stdout",
       "text": [
        " [1429623861915, 1429623861920] {u'global_timestamp': None, u'hash': u'5e1a48ce6835204474aaaad1c9181958', u'htype': u'bsr_m-1.0', u'pulse_id': 720172}\n",
        "[0.93466262725209348, 0.75076156244661152] [1429623861926, 1429623861931] {u'global_timestamp': None, u'hash': u'5e1a48ce6835204474aaaad1c9181958', u'htype': u'bsr_m-1.0', u'pulse_id': 720173}\n",
        "[0.087520267779979677, 1.1999221251096091] [1429623861935, 1429623861941] {u'global_timestamp': None, u'hash': u'5e1a48ce6835204474aaaad1c9181958', u'htype': u'bsr_m-1.0', u'pulse_id': 720174}\n",
        "[-0.74814828344228135, 0.72975889732397281] [1429623861946, 1429623861950] {u'global_timestamp': None, u'hash': u'5e1a48ce6835204474aaaad1c9181958', u'htype': u'bsr_m-1.0', u'pulse_id': 720175}\n",
        "[-0.80403321430391794, -0.22746221755299773] [1429623861956, 1429623861961] {u'global_timestamp': None, u'hash': u'5e1a48ce6835204474aaaad1c9181958', u'htype': u'bsr_m-1.0', u'pulse_id': 720176}\n",
        "[-0.028754177097304656, -0.79167654095475903]"
       ]
      },
      {
       "output_type": "stream",
       "stream": "stderr",
       "text": [
        "\u001b[2J\u001b[H\u001b[2J\u001b[H\u001b[2J\u001b[H\u001b[2J\u001b[H\u001b[2J\u001b[H\u001b[2J\u001b[H"
       ]
      },
      {
       "output_type": "stream",
       "stream": "stdout",
       "text": [
        " [1429623861965, 1429623861971] {u'global_timestamp': None, u'hash': u'5e1a48ce6835204474aaaad1c9181958', u'htype': u'bsr_m-1.0', u'pulse_id': 720177}\n",
        "[0.86490085675226092, -0.44414802595339625] [1429623861975, 1429623861981] {u'global_timestamp': None, u'hash': u'5e1a48ce6835204474aaaad1c9181958', u'htype': u'bsr_m-1.0', u'pulse_id': 720178}\n",
        "[1.055309570424829, 0.49560721346869846] [1429623861986, 1429623861991] {u'global_timestamp': None, u'hash': u'5e1a48ce6835204474aaaad1c9181958', u'htype': u'bsr_m-1.0', u'pulse_id': 720179}\n",
        "[0.36741107068461343, 1.1635825440901826] [1429623861995, 1429623862001] {u'global_timestamp': None, u'hash': u'5e1a48ce6835204474aaaad1c9181958', u'htype': u'bsr_m-1.0', u'pulse_id': 720180}\n",
        "[-0.56634393421369966, 0.94564452746372973] [1429623862006, 1429623862011] {u'global_timestamp': None, u'hash': u'5e1a48ce6835204474aaaad1c9181958', u'htype': u'bsr_m-1.0', u'pulse_id': 720181}\n",
        "[-0.88746539899843324, 0.042164371003042572] [1429623862015, 1429623862020] {u'global_timestamp': None, u'hash': u'5e1a48ce6835204474aaaad1c9181958', u'htype': u'bsr_m-1.0', u'pulse_id': 720182}\n",
        "[-0.30071572987401252, -0.71620243605413836]"
       ]
      },
      {
       "output_type": "stream",
       "stream": "stderr",
       "text": [
        "\u001b[2J\u001b[H\u001b[2J\u001b[H\u001b[2J\u001b[H\u001b[2J\u001b[H\u001b[2J\u001b[H\u001b[2J\u001b[H"
       ]
      },
      {
       "output_type": "stream",
       "stream": "stdout",
       "text": [
        " [1429623862026, 1429623862030] {u'global_timestamp': None, u'hash': u'5e1a48ce6835204474aaaad1c9181958', u'htype': u'bsr_m-1.0', u'pulse_id': 720183}\n",
        "[0.65445013330130597, -0.63221694868715805] [1429623862035, 1429623862041] {u'global_timestamp': None, u'hash': u'5e1a48ce6835204474aaaad1c9181958', u'htype': u'bsr_m-1.0', u'pulse_id': 720184}\n",
        "[1.0998571008971987, 0.21690496333770065] [1429623862045, 1429623862051] {u'global_timestamp': None, u'hash': u'5e1a48ce6835204474aaaad1c9181958', u'htype': u'bsr_m-1.0', u'pulse_id': 720185}\n",
        "[0.62600006100547334, 1.0504845300311101] [1429623862055, 1429623862060] {u'global_timestamp': None, u'hash': u'5e1a48ce6835204474aaaad1c9181958', u'htype': u'bsr_m-1.0', u'pulse_id': 720186}\n",
        "[-0.33145900920111993, 1.1021325420242793] [1429623862065, 1429623862070] {u'global_timestamp': None, u'hash': u'5e1a48ce6835204474aaaad1c9181958', u'htype': u'bsr_m-1.0', u'pulse_id': 720187}\n",
        "[-0.89223665612336933, 0.3243640552776989]"
       ]
      },
      {
       "output_type": "stream",
       "stream": "stderr",
       "text": [
        "\u001b[2J\u001b[H\u001b[2J\u001b[H\u001b[2J\u001b[H\u001b[2J\u001b[H\u001b[2J\u001b[H\u001b[2J\u001b[H"
       ]
      },
      {
       "output_type": "stream",
       "stream": "stdout",
       "text": [
        " [1429623862075, 1429623862080] {u'global_timestamp': None, u'hash': u'5e1a48ce6835204474aaaad1c9181958', u'htype': u'bsr_m-1.0', u'pulse_id': 720188}\n",
        "[-0.54075649733957787, -0.56774417035697233] [1429623862085, 1429623862090] {u'global_timestamp': None, u'hash': u'5e1a48ce6835204474aaaad1c9181958', u'htype': u'bsr_m-1.0', u'pulse_id': 720189}\n",
        "[0.39983223009823643, -0.75399194639908673] [1429623862095, 1429623862100] {u'global_timestamp': None, u'hash': u'5e1a48ce6835204474aaaad1c9181958', u'htype': u'bsr_m-1.0', u'pulse_id': 720190}\n",
        "[1.0647565879309056, -0.06314392648115047] [1429623862105, 1429623862110] {u'global_timestamp': None, u'hash': u'5e1a48ce6835204474aaaad1c9181958', u'htype': u'bsr_m-1.0', u'pulse_id': 720191}\n",
        "[0.84268818802285728, 0.86963740589316307] [1429623862115, 1429623862121] {u'global_timestamp': None, u'hash': u'5e1a48ce6835204474aaaad1c9181958', u'htype': u'bsr_m-1.0', u'pulse_id': 720192}\n",
        "[-0.062204306871344789, 1.1867571954804215] [1429623862125, 1429623862130] {u'global_timestamp': None, u'hash': u'5e1a48ce6835204474aaaad1c9181958', u'htype': u'bsr_m-1.0', u'pulse_id': 720193}\n",
        "[-0.81796691007151923, 0.59665697020693764]"
       ]
      },
      {
       "output_type": "stream",
       "stream": "stderr",
       "text": [
        "\u001b[2J\u001b[H\u001b[2J\u001b[H\u001b[2J\u001b[H\u001b[2J\u001b[H\u001b[2J\u001b[H\u001b[2J\u001b[H"
       ]
      },
      {
       "output_type": "stream",
       "stream": "stdout",
       "text": [
        " [1429623862135, 1429623862141] {u'global_timestamp': None, u'hash': u'5e1a48ce6835204474aaaad1c9181958', u'htype': u'bsr_m-1.0', u'pulse_id': 720194}\n",
        "[-0.72975496957324137, -0.35812784419746463] [1429623862145, 1429623862150] {u'global_timestamp': None, u'hash': u'5e1a48ce6835204474aaaad1c9181958', u'htype': u'bsr_m-1.0', u'pulse_id': 720195}\n",
        "[0.12132986333957838, -0.79977249258514549] [1429623862155, 1429623862161] {u'global_timestamp': None, u'hash': u'5e1a48ce6835204474aaaad1c9181958', u'htype': u'bsr_m-1.0', u'pulse_id': 720196}\n",
        "[0.95280411826569433, -0.32223092197711883] [1429623862165, 1429623862170] {u'global_timestamp': None, u'hash': u'5e1a48ce6835204474aaaad1c9181958', u'htype': u'bsr_m-1.0', u'pulse_id': 720197}\n",
        "[1.0002141997660223, 0.63544734990538176] [1429623862175, 1429623862181] {u'global_timestamp': None, u'hash': u'5e1a48ce6835204474aaaad1c9181958', u'htype': u'bsr_m-1.0', u'pulse_id': 720198}\n",
        "[0.21997149755195378, 1.1927773364532157]"
       ]
      },
      {
       "output_type": "stream",
       "stream": "stderr",
       "text": [
        "\u001b[2J\u001b[H\u001b[2J\u001b[H\u001b[2J\u001b[H\u001b[2J\u001b[H\u001b[2J\u001b[H\u001b[2J\u001b[H\u001b[2J\u001b[H"
       ]
      },
      {
       "output_type": "stream",
       "stream": "stdout",
       "text": [
        " [1429623862185, 1429623862191] {u'global_timestamp': None, u'hash': u'5e1a48ce6835204474aaaad1c9181958', u'htype': u'bsr_m-1.0', u'pulse_id': 720199}\n",
        "[-0.67057244623447343, 0.83735241829322304] [1429623862195, 1429623862201] {u'global_timestamp': None, u'hash': u'5e1a48ce6835204474aaaad1c9181958', u'htype': u'bsr_m-1.0', u'pulse_id': 720200}\n",
        "[-0.8526556366298319, -0.10405137394428859] [1429623862206, 1429623862210] {u'global_timestamp': None, u'hash': u'5e1a48ce6835204474aaaad1c9181958', u'htype': u'bsr_m-1.0', u'pulse_id': 720201}\n",
        "[-0.15887162810428426, -0.76591173518217337] [1429623862215, 1429623862220] {u'global_timestamp': None, u'hash': u'5e1a48ce6835204474aaaad1c9181958', u'htype': u'bsr_m-1.0', u'pulse_id': 720202}\n",
        "[0.77291776145266322, -0.53971730162375975] [1429623862226, 1429623862230] {u'global_timestamp': None, u'hash': u'5e1a48ce6835204474aaaad1c9181958', u'htype': u'bsr_m-1.0', u'pulse_id': 720203}\n",
        "[1.0860296644492857, 0.36656980766642211] [1429623862235, 1429623862240] {u'global_timestamp': None, u'hash': u'5e1a48ce6835204474aaaad1c9181958', u'htype': u'bsr_m-1.0', u'pulse_id': 720204}\n",
        "[0.49259044126001106, 1.1197134039641208]"
       ]
      },
      {
       "output_type": "stream",
       "stream": "stdout",
       "text": [
        " [1429623862245, 1429623862250] {u'global_timestamp': None, u'hash': u'5e1a48ce6835204474aaaad1c9181958', u'htype': u'bsr_m-1.0', u'pulse_id': 720205}\n",
        "[-0.46179462310013697, 1.0272767381328785] [1429623862256, 1429623862261] {u'global_timestamp': None, u'hash': u'5e1a48ce6835204474aaaad1c9181958', u'htype': u'bsr_m-1.0', u'pulse_id': 720206}\n",
        "[-0.89966830183066404, 0.17424565444441417] [1429623862266, 1429623862271] {u'global_timestamp': None, u'hash': u'5e1a48ce6835204474aaaad1c9181958', u'htype': u'bsr_m-1.0', u'pulse_id': 720207}\n",
        "[-0.41845155406465351, -0.65510700271249434] [1429623862275, 1429623862281] {u'global_timestamp': None, u'hash': u'5e1a48ce6835204474aaaad1c9181958', u'htype': u'bsr_m-1.0', u'pulse_id': 720208}\n",
        "[0.53942716154655834, -0.69827822510352267] [1429623862286, 1429623862290] {u'global_timestamp': None, u'hash': u'5e1a48ce6835204474aaaad1c9181958', u'htype': u'bsr_m-1.0', u'pulse_id': 720209}\n",
        "[1.0932985713540475, 0.084423410043347955]"
       ]
      },
      {
       "output_type": "stream",
       "stream": "stderr",
       "text": [
        "\u001b[2J\u001b[H\u001b[2J\u001b[H\u001b[2J\u001b[H\u001b[2J\u001b[H\u001b[2J\u001b[H\u001b[2J\u001b[H"
       ]
      },
      {
       "output_type": "stream",
       "stream": "stdout",
       "text": [
        " [1429623862295, 1429623862300] {u'global_timestamp': None, u'hash': u'5e1a48ce6835204474aaaad1c9181958', u'htype': u'bsr_m-1.0', u'pulse_id': 720210}\n",
        "[0.73393585548968321, 0.9733856289876115] [1429623862305, 1429623862310] {u'global_timestamp': None, u'hash': u'5e1a48ce6835204474aaaad1c9181958', u'htype': u'bsr_m-1.0', u'pulse_id': 720211}\n",
        "[-0.20826456236691224, 1.1513006672912283] [1429623862316, 1429623862320] {u'global_timestamp': None, u'hash': u'5e1a48ce6835204474aaaad1c9181958', u'htype': u'bsr_m-1.0', u'pulse_id': 720212}\n",
        "[-0.86704796321823452, 0.45459425923508973] [1429623862325, 1429623862331] {u'global_timestamp': None, u'hash': u'5e1a48ce6835204474aaaad1c9181958', u'htype': u'bsr_m-1.0', u'pulse_id': 720213}\n",
        "[-0.63673192645688792, -0.47618493664020839] [1429623862335, 1429623862341] {u'global_timestamp': None, u'hash': u'5e1a48ce6835204474aaaad1c9181958', u'htype': u'bsr_m-1.0', u'pulse_id': 720214}\n",
        "[0.27093204587556796, -0.78528282015510276]"
       ]
      },
      {
       "output_type": "stream",
       "stream": "stderr",
       "text": [
        "\u001b[2J\u001b[H\u001b[2J\u001b[H\u001b[2J\u001b[H\u001b[2J\u001b[H\u001b[2J\u001b[H\u001b[2J\u001b[H"
       ]
      },
      {
       "output_type": "stream",
       "stream": "stdout",
       "text": [
        " [1429623862346, 1429623862351] {u'global_timestamp': None, u'hash': u'5e1a48ce6835204474aaaad1c9181958', u'htype': u'bsr_m-1.0', u'pulse_id': 720215}\n",
        "[1.0214418835235439, -0.18851622268392293] [1429623862355, 1429623862360] {u'global_timestamp': None, u'hash': u'5e1a48ce6835204474aaaad1c9181958', u'htype': u'bsr_m-1.0', u'pulse_id': 720216}\n",
        "[0.9247823029069373, 0.76545039818849636] [1429623862365, 1429623862370] {u'global_timestamp': None, u'hash': u'5e1a48ce6835204474aaaad1c9181958', u'htype': u'bsr_m-1.0', u'pulse_id': 720217}\n",
        "[0.069821676676161404, 1.1995445306745278] [1429623862375, 1429623862381] {u'global_timestamp': None, u'hash': u'5e1a48ce6835204474aaaad1c9181958', u'htype': u'bsr_m-1.0', u'pulse_id': 720218}\n",
        "[-0.75739313826514587, 0.71466203129417316] [1429623862385, 1429623862391] {u'global_timestamp': None, u'hash': u'5e1a48ce6835204474aaaad1c9181958', u'htype': u'bsr_m-1.0', u'pulse_id': 720219}\n",
        "[-0.79632465595651947, -0.24339836617248273]"
       ]
      },
      {
       "output_type": "stream",
       "stream": "stderr",
       "text": [
        "\u001b[2J\u001b[H\u001b[2J\u001b[H\u001b[2J\u001b[H\u001b[2J\u001b[H\u001b[2J\u001b[H\u001b[2J\u001b[H\u001b[2J\u001b[H"
       ]
      },
      {
       "output_type": "stream",
       "stream": "stdout",
       "text": [
        " [1429623862395, 1429623862401] {u'global_timestamp': None, u'hash': u'5e1a48ce6835204474aaaad1c9181958', u'htype': u'bsr_m-1.0', u'pulse_id': 720220}\n",
        "[-0.011179418574403119, -0.79380035061648968] [1429623862405, 1429623862411] {u'global_timestamp': None, u'hash': u'5e1a48ce6835204474aaaad1c9181958', u'htype': u'bsr_m-1.0', u'pulse_id': 720221}\n",
        "[0.87618366351486121, -0.43050687584882735] [1429623862415, 1429623862421] {u'global_timestamp': None, u'hash': u'5e1a48ce6835204474aaaad1c9181958', u'htype': u'bsr_m-1.0', u'pulse_id': 720222}\n",
        "[1.0499270649229229, 0.5124717128428129] [1429623862425, 1429623862430] {u'global_timestamp': None, u'hash': u'5e1a48ce6835204474aaaad1c9181958', u'htype': u'bsr_m-1.0', u'pulse_id': 720223}\n",
        "[0.35031190365395715, 1.1681652497839055] [1429623862435, 1429623862440] {u'global_timestamp': None, u'hash': u'5e1a48ce6835204474aaaad1c9181958', u'htype': u'bsr_m-1.0', u'pulse_id': 720224}\n",
        "[-0.57943886746196938, 0.93373212099648217] [1429623862446, 1429623862451] {u'global_timestamp': None, u'hash': u'5e1a48ce6835204474aaaad1c9181958', u'htype': u'bsr_m-1.0', u'pulse_id': 720225}\n",
        "[-0.88451667722623606, 0.024709063943935017]"
       ]
      },
      {
       "output_type": "stream",
       "stream": "stderr",
       "text": [
        "\u001b[2J\u001b[H\u001b[2J\u001b[H\u001b[2J\u001b[H\u001b[2J\u001b[H\u001b[2J\u001b[H\u001b[2J\u001b[H"
       ]
      },
      {
       "output_type": "stream",
       "stream": "stdout",
       "text": [
        " [1429623862455, 1429623862460] {u'global_timestamp': None, u'hash': u'5e1a48ce6835204474aaaad1c9181958', u'htype': u'bsr_m-1.0', u'pulse_id': 720226}\n",
        "[-0.2844343942799793, -0.72315231489423537] [1429623862466, 1429623862470] {u'global_timestamp': None, u'hash': u'5e1a48ce6835204474aaaad1c9181958', u'htype': u'bsr_m-1.0', u'pulse_id': 720227}\n",
        "[0.66909509785724719, -0.62227171275366766] [1429623862475, 1429623862481] {u'global_timestamp': None, u'hash': u'5e1a48ce6835204474aaaad1c9181958', u'htype': u'bsr_m-1.0', u'pulse_id': 720228}\n",
        "[1.0994011815410298, 0.23460170999233271] [1429623862485, 1429623862491] {u'global_timestamp': None, u'hash': u'5e1a48ce6835204474aaaad1c9181958', u'htype': u'bsr_m-1.0', u'pulse_id': 720229}\n",
        "[0.61086242789067624, 1.0596624801453438] [1429623862495, 1429623862500] {u'global_timestamp': None, u'hash': u'5e1a48ce6835204474aaaad1c9181958', u'htype': u'bsr_m-1.0', u'pulse_id': 720230}\n",
        "[-0.34736088599957249, 1.0943535305893735]"
       ]
      },
      {
       "output_type": "stream",
       "stream": "stderr",
       "text": [
        "\u001b[2J\u001b[H\u001b[2J\u001b[H\u001b[2J\u001b[H\u001b[2J\u001b[H\u001b[2J\u001b[H\u001b[2J\u001b[H\u001b[2J\u001b[H"
       ]
      },
      {
       "output_type": "stream",
       "stream": "stdout",
       "text": [
        " [1429623862505, 1429623862510] {u'global_timestamp': None, u'hash': u'5e1a48ce6835204474aaaad1c9181958', u'htype': u'bsr_m-1.0', u'pulse_id': 720231}\n",
        "[-0.89428266441224236, 0.30678006953215697] [1429623862515, 1429623862521] {u'global_timestamp': None, u'hash': u'5e1a48ce6835204474aaaad1c9181958', u'htype': u'bsr_m-1.0', u'pulse_id': 720232}\n",
        "[-0.52706554653373205, -0.57896649501140418] [1429623862525, 1429623862531] {u'global_timestamp': None, u'hash': u'5e1a48ce6835204474aaaad1c9181958', u'htype': u'bsr_m-1.0', u'pulse_id': 720233}\n",
        "[0.416672742966961, -0.74853485642952577] [1429623862535, 1429623862541] {u'global_timestamp': None, u'hash': u'5e1a48ce6835204474aaaad1c9181958', u'htype': u'bsr_m-1.0', u'pulse_id': 720234}\n",
        "[1.0692635729950075, -0.046024645238951084] [1429623862545, 1429623862550] {u'global_timestamp': None, u'hash': u'5e1a48ce6835204474aaaad1c9181958', u'htype': u'bsr_m-1.0', u'pulse_id': 720235}\n",
        "[0.830717943999428, 0.88267949018353309] [1429623862555, 1429623862560] {u'global_timestamp': None, u'hash': u'5e1a48ce6835204474aaaad1c9181958', u'htype': u'bsr_m-1.0', u'pulse_id': 720236}\n",
        "[-0.079646392830773155, 1.1837312506690492]"
       ]
      },
      {
       "output_type": "stream",
       "stream": "stdout",
       "text": [
        " [1429623862565, 1429623862570] {u'global_timestamp': None, u'hash': u'5e1a48ce6835204474aaaad1c9181958', u'htype': u'bsr_m-1.0', u'pulse_id': 720237}\n",
        "[-0.82484466457414884, 0.58034503599853926] [1429623862575, 1429623862581] {u'global_timestamp': None, u'hash': u'5e1a48ce6835204474aaaad1c9181958', u'htype': u'bsr_m-1.0', u'pulse_id': 720238}\n",
        "[-0.7197450168477445, -0.37272865071802636] [1429623862585, 1429623862591] {u'global_timestamp': None, u'hash': u'5e1a48ce6835204474aaaad1c9181958', u'htype': u'bsr_m-1.0', u'pulse_id': 720239}\n",
        "[0.13902441892064205, -0.79923825723793529] [1429623862595, 1429623862600] {u'global_timestamp': None, u'hash': u'5e1a48ce6835204474aaaad1c9181958', u'htype': u'bsr_m-1.0', u'pulse_id': 720240}\n",
        "[0.96191498390371877, -0.3070528182766093] [1429623862605, 1429623862610] {u'global_timestamp': None, u'hash': u'5e1a48ce6835204474aaaad1c9181958', u'htype': u'bsr_m-1.0', u'pulse_id': 720241}\n",
        "[0.9923648876103176, 0.65131464341435374] [1429623862615, 1429623862621] {u'global_timestamp': None, u'hash': u'5e1a48ce6835204474aaaad1c9181958', u'htype': u'bsr_m-1.0', u'pulse_id': 720242}\n",
        "[0.20237862899951706, 1.1947455032942744]"
       ]
      },
      {
       "output_type": "stream",
       "stream": "stderr",
       "text": [
        "\u001b[2J\u001b[H\u001b[2J\u001b[H\u001b[2J\u001b[H\u001b[2J\u001b[H\u001b[2J\u001b[H\u001b[2J\u001b[H\u001b[2J\u001b[H"
       ]
      },
      {
       "output_type": "stream",
       "stream": "stdout",
       "text": [
        " [1429623862625, 1429623862631] {u'global_timestamp': None, u'hash': u'5e1a48ce6835204474aaaad1c9181958', u'htype': u'bsr_m-1.0', u'pulse_id': 720243}\n",
        "[-0.68173406897020195, 0.82361193494936558] [1429623862635, 1429623862641] {u'global_timestamp': None, u'hash': u'5e1a48ce6835204474aaaad1c9181958', u'htype': u'bsr_m-1.0', u'pulse_id': 720244}\n",
        "[-0.84712406908008397, -0.12086757045420532] [1429623862645, 1429623862651] {u'global_timestamp': None, u'hash': u'5e1a48ce6835204474aaaad1c9181958', u'htype': u'bsr_m-1.0', u'pulse_id': 720245}\n",
        "[-0.14173256796416733, -0.7703429113387954] [1429623862655, 1429623862661] {u'global_timestamp': None, u'hash': u'5e1a48ce6835204474aaaad1c9181958', u'htype': u'bsr_m-1.0', u'pulse_id': 720246}\n",
        "[0.78590674133115113, -0.52768945450410465] [1429623862666, 1429623862670] {u'global_timestamp': None, u'hash': u'5e1a48ce6835204474aaaad1c9181958', u'htype': u'bsr_m-1.0', u'pulse_id': 720247}\n",
        "[1.0829265558676127, 0.3839983308898024]"
       ]
      },
      {
       "output_type": "stream",
       "stream": "stderr",
       "text": [
        "\u001b[2J\u001b[H\u001b[2J\u001b[H\u001b[2J\u001b[H\u001b[2J\u001b[H\u001b[2J\u001b[H\u001b[2J\u001b[H"
       ]
      },
      {
       "output_type": "stream",
       "stream": "stdout",
       "text": [
        " [1429623862676, 1429623862681] {u'global_timestamp': None, u'hash': u'5e1a48ce6835204474aaaad1c9181958', u'htype': u'bsr_m-1.0', u'pulse_id': 720248}\n",
        "[0.4762482279374487, 1.126518899415403] [1429623862685, 1429623862690] {u'global_timestamp': None, u'hash': u'5e1a48ce6835204474aaaad1c9181958', u'htype': u'bsr_m-1.0', u'pulse_id': 720249}\n",
        "[-0.47635098560080258, 1.0172022646793042] [1429623862696, 1429623862700] {u'global_timestamp': None, u'hash': u'5e1a48ce6835204474aaaad1c9181958', u'htype': u'bsr_m-1.0', u'pulse_id': 720250}\n",
        "[-0.89905576095642603, 0.15655363651838472] [1429623862705, 1429623862710] {u'global_timestamp': None, u'hash': u'5e1a48ce6835204474aaaad1c9181958', u'htype': u'bsr_m-1.0', u'pulse_id': 720251}\n",
        "[-0.40323327707040935, -0.66415060542070825] [1429623862715, 1429623862720] {u'global_timestamp': None, u'hash': u'5e1a48ce6835204474aaaad1c9181958', u'htype': u'bsr_m-1.0', u'pulse_id': 720252}\n",
        "[0.55525956097498086, -0.69035876597070001] [1429623862725, 1429623862730] {u'global_timestamp': None, u'hash': u'5e1a48ce6835204474aaaad1c9181958', u'htype': u'bsr_m-1.0', u'pulse_id': 720253}\n",
        "[1.0951888581970075, 0.10202481681294716]"
       ]
      },
      {
       "output_type": "stream",
       "stream": "stderr",
       "text": [
        "\u001b[2J\u001b[H\u001b[2J\u001b[H\u001b[2J\u001b[H\u001b[2J\u001b[H\u001b[2J\u001b[H\u001b[2J\u001b[H\u001b[2J\u001b[H"
       ]
      },
      {
       "output_type": "stream",
       "stream": "stdout",
       "text": [
        " [1429623862735, 1429623862741] {u'global_timestamp': None, u'hash': u'5e1a48ce6835204474aaaad1c9181958', u'htype': u'bsr_m-1.0', u'pulse_id': 720254}\n",
        "[0.72014610874126761, 0.98448633118306383] [1429623862745, 1429623862751] {u'global_timestamp': None, u'hash': u'5e1a48ce6835204474aaaad1c9181958', u'htype': u'bsr_m-1.0', u'pulse_id': 720255}\n",
        "[-0.22505611314088539, 1.145694730507546] [1429623862756, 1429623862760] {u'global_timestamp': None, u'hash': u'5e1a48ce6835204474aaaad1c9181958', u'htype': u'bsr_m-1.0', u'pulse_id': 720256}\n",
        "[-0.87140324367437827, 0.4374357558980882] [1429623862766, 1429623862770] {u'global_timestamp': None, u'hash': u'5e1a48ce6835204474aaaad1c9181958', u'htype': u'bsr_m-1.0', u'pulse_id': 720257}\n",
        "[-0.6246467118292286, -0.48912055769298229] [1429623862776, 1429623862781] {u'global_timestamp': None, u'hash': u'5e1a48ce6835204474aaaad1c9181958', u'htype': u'bsr_m-1.0', u'pulse_id': 720258}\n",
        "[0.28834666499218314, -0.78210260858340175]"
       ]
      },
      {
       "output_type": "stream",
       "stream": "stderr",
       "text": [
        "\u001b[2J\u001b[H\u001b[2J\u001b[H\u001b[2J\u001b[H\u001b[2J\u001b[H\u001b[2J\u001b[H\u001b[2J\u001b[H\u001b[2J\u001b[H"
       ]
      },
      {
       "output_type": "stream",
       "stream": "stdout",
       "text": [
        " [1429623862785, 1429623862790] {u'global_timestamp': None, u'hash': u'5e1a48ce6835204474aaaad1c9181958', u'htype': u'bsr_m-1.0', u'pulse_id': 720259}\n",
        "[1.0281749866249297, -0.1721440503404717] [1429623862795, 1429623862800] {u'global_timestamp': None, u'hash': u'5e1a48ce6835204474aaaad1c9181958', u'htype': u'bsr_m-1.0', u'pulse_id': 720260}\n",
        "[0.9146435060529754, 0.77996203155526977] [1429623862805, 1429623862811] {u'global_timestamp': None, u'hash': u'5e1a48ce6835204474aaaad1c9181958', u'htype': u'bsr_m-1.0', u'pulse_id': 720261}\n",
        "[0.052132542936927179, 1.1988536962710379] [1429623862815, 1429623862821] {u'global_timestamp': None, u'hash': u'5e1a48ce6835204474aaaad1c9181958', u'htype': u'bsr_m-1.0', u'pulse_id': 720262}\n",
        "[-0.76636930090742028, 0.69940387908504276] [1429623862825, 1429623862830] {u'global_timestamp': None, u'hash': u'5e1a48ce6835204474aaaad1c9181958', u'htype': u'bsr_m-1.0', u'pulse_id': 720263}\n",
        "[-0.78833520496422194, -0.25919556141275352] [1429623862835, 1429623862840] {u'global_timestamp': None, u'hash': u'5e1a48ce6835204474aaaad1c9181958', u'htype': u'bsr_m-1.0', u'pulse_id': 720264}\n",
        "[0.0064301816553890695, -0.795612720436494]"
       ]
      },
      {
       "output_type": "stream",
       "stream": "stderr",
       "text": [
        "\u001b[2J\u001b[H\u001b[2J\u001b[H\u001b[2J\u001b[H\u001b[2J\u001b[H\u001b[2J\u001b[H\u001b[2J\u001b[H\u001b[2J\u001b[H"
       ]
      },
      {
       "output_type": "stream",
       "stream": "stdout",
       "text": [
        " [1429623862845, 1429623862851] {u'global_timestamp': None, u'hash': u'5e1a48ce6835204474aaaad1c9181958', u'htype': u'bsr_m-1.0', u'pulse_id': 720265}\n",
        "[0.88722322774170936, -0.41666813579422507] [1429623862855, 1429623862860] {u'global_timestamp': None, u'hash': u'5e1a48ce6835204474aaaad1c9181958', u'htype': u'bsr_m-1.0', u'pulse_id': 720266}\n",
        "[1.0442468687082216, 0.52923828898644021] [1429623862865, 1429623862871] {u'global_timestamp': None, u'hash': u'5e1a48ce6835204474aaaad1c9181958', u'htype': u'bsr_m-1.0', u'pulse_id': 720267}\n",
        "[0.33313429320193594, 1.1724445492331343] [1429623862876, 1429623862880] {u'global_timestamp': None, u'hash': u'5e1a48ce6835204474aaaad1c9181958', u'htype': u'bsr_m-1.0', u'pulse_id': 720268}\n",
        "[-0.59232087632033159, 0.92158977557269206] [1429623862885, 1429623862891] {u'global_timestamp': None, u'hash': u'5e1a48ce6835204474aaaad1c9181958', u'htype': u'bsr_m-1.0', u'pulse_id': 720269}\n",
        "[-0.88125942495498855, 0.0073086900324636495] [1429623862895, 1429623862900] {u'global_timestamp': None, u'hash': u'5e1a48ce6835204474aaaad1c9181958', u'htype': u'bsr_m-1.0', u'pulse_id': 720270}\n",
        "[-0.26803258359571869, -0.72981289376511671]"
       ]
      },
      {
       "output_type": "stream",
       "stream": "stdout",
       "text": [
        " [1429623862905, 1429623862910] {u'global_timestamp': None, u'hash': u'5e1a48ce6835204474aaaad1c9181958', u'htype': u'bsr_m-1.0', u'pulse_id': 720271}\n",
        "[0.68356171785223718, -0.61206879108690404] [1429623862915, 1429623862921] {u'global_timestamp': None, u'hash': u'5e1a48ce6835204474aaaad1c9181958', u'htype': u'bsr_m-1.0', u'pulse_id': 720272}\n",
        "[1.0986320671395917, 0.25228761306950298] [1429623862926, 1429623862930] {u'global_timestamp': None, u'hash': u'5e1a48ce6835204474aaaad1c9181958', u'htype': u'bsr_m-1.0', u'pulse_id': 720273}\n",
        "[0.59556469932653944, 1.0685710269064912] [1429623862936, 1429623862940] {u'global_timestamp': None, u'hash': u'5e1a48ce6835204474aaaad1c9181958', u'htype': u'bsr_m-1.0', u'pulse_id': 720274}\n",
        "[-0.36312256763363049, 1.0862942442261674] [1429623862945, 1429623862951] {u'global_timestamp': None, u'hash': u'5e1a48ce6835204474aaaad1c9181958', u'htype': u'bsr_m-1.0', u'pulse_id': 720275}\n",
        "[-0.89601708171058758, 0.28916262075962573]"
       ]
      },
      {
       "output_type": "stream",
       "stream": "stderr",
       "text": [
        "\u001b[2J\u001b[H\u001b[2J\u001b[H\u001b[2J\u001b[H\u001b[2J\u001b[H\u001b[2J\u001b[H\u001b[2J\u001b[H"
       ]
      },
      {
       "output_type": "stream",
       "stream": "stdout",
       "text": [
        " [1429623862955, 1429623862960] {u'global_timestamp': None, u'hash': u'5e1a48ce6835204474aaaad1c9181958', u'htype': u'bsr_m-1.0', u'pulse_id': 720276}\n",
        "[-0.51317808423094102, -0.5899447050388229] [1429623862965, 1429623862971] {u'global_timestamp': None, u'hash': u'5e1a48ce6835204474aaaad1c9181958', u'htype': u'bsr_m-1.0', u'pulse_id': 720277}\n",
        "[0.43341401607501584, -0.74278051204123274] [1429623862976, 1429623862980] {u'global_timestamp': None, u'hash': u'5e1a48ce6835204474aaaad1c9181958', u'htype': u'bsr_m-1.0', u'pulse_id': 720278}\n",
        "[1.0734668076191172, -0.028828264128024111] [1429623862985, 1429623862991] {u'global_timestamp': None, u'hash': u'5e1a48ce6835204474aaaad1c9181958', u'htype': u'bsr_m-1.0', u'pulse_id': 720279}\n",
        "[0.81851870561039564, 0.89550763452888238] [1429623862995, 1429623863001] {u'global_timestamp': None, u'hash': u'5e1a48ce6835204474aaaad1c9181958', u'htype': u'bsr_m-1.0', u'pulse_id': 720280}\n",
        "[-0.097032180717741445, 1.1803970214977253] [1429623863005, 1429623863011] {u'global_timestamp': None, u'hash': u'5e1a48ce6835204474aaaad1c9181958', u'htype': u'bsr_m-1.0', u'pulse_id': 720281}\n",
        "[-0.83143258875444315, 0.56391390823407184]"
       ]
      },
      {
       "output_type": "stream",
       "stream": "stderr",
       "text": [
        "\u001b[2J\u001b[H\u001b[2J\u001b[H\u001b[2J\u001b[H\u001b[2J\u001b[H\u001b[2J\u001b[H\u001b[2J\u001b[H\u001b[2J\u001b[H"
       ]
      },
      {
       "output_type": "stream",
       "stream": "stdout",
       "text": [
        " [1429623863016, 1429623863020] {u'global_timestamp': None, u'hash': u'5e1a48ce6835204474aaaad1c9181958', u'htype': u'bsr_m-1.0', u'pulse_id': 720282}\n",
        "[-0.70947817021177118, -0.38714997398501411] [1429623863026, 1429623863031] {u'global_timestamp': None, u'hash': u'5e1a48ce6835204474aaaad1c9181958', u'htype': u'bsr_m-1.0', u'pulse_id': 720283}\n",
        "[0.15670674492375822, -0.79839087790311458] [1429623863035, 1429623863040] {u'global_timestamp': None, u'hash': u'5e1a48ce6835204474aaaad1c9181958', u'htype': u'bsr_m-1.0', u'pulse_id': 720284}\n",
        "[0.9707557402929371, -0.29171581299252414] [1429623863045, 1429623863051] {u'global_timestamp': None, u'hash': u'5e1a48ce6835204474aaaad1c9181958', u'htype': u'bsr_m-1.0', u'pulse_id': 720285}\n",
        "[0.98423592373262769, 0.66704050271973903] [1429623863056, 1429623863060] {u'global_timestamp': None, u'hash': u'5e1a48ce6835204474aaaad1c9181958', u'htype': u'bsr_m-1.0', u'pulse_id': 720286}\n",
        "[0.18475367675542942, 1.1964019340991046]"
       ]
      },
      {
       "output_type": "stream",
       "stream": "stderr",
       "text": [
        "\u001b[2J\u001b[H\u001b[2J\u001b[H\u001b[2J\u001b[H\u001b[2J\u001b[H\u001b[2J\u001b[H\u001b[2J\u001b[H"
       ]
      },
      {
       "output_type": "stream",
       "stream": "stdout",
       "text": [
        " [1429623863066, 1429623863070] {u'global_timestamp': None, u'hash': u'5e1a48ce6835204474aaaad1c9181958', u'htype': u'bsr_m-1.0', u'pulse_id': 720287}\n",
        "[-0.69265070976910481, 0.80967602241070158] [1429623863075, 1429623863080] {u'global_timestamp': None, u'hash': u'5e1a48ce6835204474aaaad1c9181958', u'htype': u'bsr_m-1.0', u'pulse_id': 720288}\n",
        "[-0.84129568922795928, -0.13758321261706902] [1429623863085, 1429623863091] {u'global_timestamp': None, u'hash': u'5e1a48ce6835204474aaaad1c9181958', u'htype': u'bsr_m-1.0', u'pulse_id': 720289}\n",
        "[-0.12451775301810761, -0.77446999880945544] [1429623863095, 1429623863100] {u'global_timestamp': None, u'hash': u'5e1a48ce6835204474aaaad1c9181958', u'htype': u'bsr_m-1.0', u'pulse_id': 720290}\n",
        "[0.79868076989992509, -0.51543356209507518] [1429623863106, 1429623863110] {u'global_timestamp': None, u'hash': u'5e1a48ce6835204474aaaad1c9181958', u'htype': u'bsr_m-1.0', u'pulse_id': 720291}\n",
        "[1.079515415103421, 0.40136919221860329]"
       ]
      },
      {
       "output_type": "stream",
       "stream": "stderr",
       "text": [
        "\u001b[2J\u001b[H\u001b[2J\u001b[H\u001b[2J\u001b[H\u001b[2J\u001b[H\u001b[2J\u001b[H\u001b[2J\u001b[H\u001b[2J\u001b[H"
       ]
      },
      {
       "output_type": "stream",
       "stream": "stdout",
       "text": [
        " [1429623863115, 1429623863120] {u'global_timestamp': None, u'hash': u'5e1a48ce6835204474aaaad1c9181958', u'htype': u'bsr_m-1.0', u'pulse_id': 720292}\n",
        "[0.45978810492760769, 1.1330340398681074] [1429623863125, 1429623863130] {u'global_timestamp': None, u'hash': u'5e1a48ce6835204474aaaad1c9181958', u'htype': u'bsr_m-1.0', u'pulse_id': 720293}\n",
        "[-0.49072672967079178, 1.006871694169805] [1429623863135, 1429623863141] {u'global_timestamp': None, u'hash': u'5e1a48ce6835204474aaaad1c9181958', u'htype': u'bsr_m-1.0', u'pulse_id': 720294}\n",
        "[-0.89813013328575575, 0.13887523393124893] [1429623863146, 1429623863150] {u'global_timestamp': None, u'hash': u'5e1a48ce6835204474aaaad1c9181958', u'htype': u'bsr_m-1.0', u'pulse_id': 720295}\n",
        "[-0.38785729547074321, -0.6729233982749987] [1429623863155, 1429623863160] {u'global_timestamp': None, u'hash': u'5e1a48ce6835204474aaaad1c9181958', u'htype': u'bsr_m-1.0', u'pulse_id': 720296}\n",
        "[0.5709492899308819, -0.68216028379971738] [1429623863165, 1429623863170] {u'global_timestamp': None, u'hash': u'5e1a48ce6835204474aaaad1c9181958', u'htype': u'bsr_m-1.0', u'pulse_id': 720297}\n",
        "[1.0967672700639803, 0.11965692731043891]"
       ]
      },
      {
       "output_type": "stream",
       "stream": "stderr",
       "text": [
        "\u001b[2J\u001b[H\u001b[2J\u001b[H\u001b[2J\u001b[H\u001b[2J\u001b[H\u001b[2J\u001b[H\u001b[2J\u001b[H"
       ]
      },
      {
       "output_type": "stream",
       "stream": "stdout",
       "text": [
        " [1429623863175, 1429623863181] {u'global_timestamp': None, u'hash': u'5e1a48ce6835204474aaaad1c9181958', u'htype': u'bsr_m-1.0', u'pulse_id': 720298}\n",
        "[0.70616201892803665, 0.99534118893031476] [1429623863185, 1429623863190] {u'global_timestamp': None, u'hash': u'5e1a48ce6835204474aaaad1c9181958', u'htype': u'bsr_m-1.0', u'pulse_id': 720299}\n",
        "[-0.24174579695096995, 1.1397924293514747] [1429623863196, 1429623863201] {u'global_timestamp': None, u'hash': u'5e1a48ce6835204474aaaad1c9181958', u'htype': u'bsr_m-1.0', u'pulse_id': 720300}\n",
        "[-0.87545410315474503, 0.42020284430173038] [1429623863205, 1429623863210] {u'global_timestamp': None, u'hash': u'5e1a48ce6835204474aaaad1c9181958', u'htype': u'bsr_m-1.0', u'pulse_id': 720301}\n",
        "[-0.61233440545512396, -0.50184022028157882] [1429623863216, 1429623863221] {u'global_timestamp': None, u'hash': u'5e1a48ce6835204474aaaad1c9181958', u'htype': u'bsr_m-1.0', u'pulse_id': 720302}\n",
        "[0.30570225952151736, -0.77861462304001083]"
       ]
      },
      {
       "output_type": "stream",
       "stream": "stdout",
       "text": [
        " [1429623863225, 1429623863230] {u'global_timestamp': None, u'hash': u'5e1a48ce6835204474aaaad1c9181958', u'htype': u'bsr_m-1.0', u'pulse_id': 720303}\n",
        "[1.0346172157386486, -0.15565525448801742] [1429623863235, 1429623863241] {u'global_timestamp': None, u'hash': u'5e1a48ce6835204474aaaad1c9181958', u'htype': u'bsr_m-1.0', u'pulse_id': 720304}\n",
        "[0.90424941401378744, 0.79429191485201911] [1429623863245, 1429623863251] {u'global_timestamp': None, u'hash': u'5e1a48ce6835204474aaaad1c9181958', u'htype': u'bsr_m-1.0', u'pulse_id': 720305}\n",
        "[0.034458410030850539, 1.1978498383946934] [1429623863255, 1429623863261] {u'global_timestamp': None, u'hash': u'5e1a48ce6835204474aaaad1c9181958', u'htype': u'bsr_m-1.0', u'pulse_id': 720306}\n",
        "[-0.77507395839497872, 0.68398922233758785] [1429623863265, 1429623863270] {u'global_timestamp': None, u'hash': u'5e1a48ce6835204474aaaad1c9181958', u'htype': u'bsr_m-1.0', u'pulse_id': 720307}\n",
        "[-0.78006736508278562, -0.27484885270604048] [1429623863275, 1429623863281] {u'global_timestamp': None, u'hash': u'5e1a48ce6835204474aaaad1c9181958', u'htype': u'bsr_m-1.0', u'pulse_id': 720308}\n",
        "[0.024069105047924658, -0.79711308244941659]"
       ]
      },
      {
       "output_type": "stream",
       "stream": "stderr",
       "text": [
        "\u001b[2J\u001b[H\u001b[2J\u001b[H\u001b[2J\u001b[H\u001b[2J\u001b[H\u001b[2J\u001b[H\u001b[2J\u001b[H\u001b[2J\u001b[H"
       ]
      },
      {
       "output_type": "stream",
       "stream": "stdout",
       "text": [
        " [1429623863285, 1429623863291] {u'global_timestamp': None, u'hash': u'5e1a48ce6835204474aaaad1c9181958', u'htype': u'bsr_m-1.0', u'pulse_id': 720309}\n",
        "[0.89801608982431003, -0.40263614261137598] [1429623863295, 1429623863301] {u'global_timestamp': None, u'hash': u'5e1a48ce6835204474aaaad1c9181958', u'htype': u'bsr_m-1.0', u'pulse_id': 720310}\n",
        "[1.0382707618559779, 0.54590168754460144] [1429623863305, 1429623863311] {u'global_timestamp': None, u'hash': u'5e1a48ce6835204474aaaad1c9181958', u'htype': u'bsr_m-1.0', u'pulse_id': 720311}\n",
        "[0.31588362249457191, 1.1764191013794338] [1429623863316, 1429623863320] {u'global_timestamp': None, u'hash': u'5e1a48ce6835204474aaaad1c9181958', u'htype': u'bsr_m-1.0', u'pulse_id': 720312}\n",
        "[-0.60498592379000937, 0.90922129639340854] [1429623863326, 1429623863331] {u'global_timestamp': None, u'hash': u'5e1a48ce6835204474aaaad1c9181958', u'htype': u'bsr_m-1.0', u'pulse_id': 720313}\n",
        "[-0.87769466295121734, -0.010031297755133783]"
       ]
      },
      {
       "output_type": "stream",
       "stream": "stderr",
       "text": [
        "\u001b[2J\u001b[H\u001b[2J\u001b[H\u001b[2J\u001b[H\u001b[2J\u001b[H\u001b[2J\u001b[H\u001b[2J\u001b[H\u001b[2J\u001b[H"
       ]
      },
      {
       "output_type": "stream",
       "stream": "stdout",
       "text": [
        " [1429623863335, 1429623863340] {u'global_timestamp': None, u'hash': u'5e1a48ce6835204474aaaad1c9181958', u'htype': u'bsr_m-1.0', u'pulse_id': 720314}\n",
        "[-0.25151543786502339, -0.73618208535656193] [1429623863345, 1429623863351] {u'global_timestamp': None, u'hash': u'5e1a48ce6835204474aaaad1c9181958', u'htype': u'bsr_m-1.0', u'pulse_id': 720315}\n",
        "[0.69784545969777534, -0.60161138110605417] [1429623863355, 1429623863361] {u'global_timestamp': None, u'hash': u'5e1a48ce6835204474aaaad1c9181958', u'htype': u'bsr_m-1.0', u'pulse_id': 720316}\n",
        "[1.0975499987200354, 0.26995713011307149] [1429623863365, 1429623863370] {u'global_timestamp': None, u'hash': u'5e1a48ce6835204474aaaad1c9181958', u'htype': u'bsr_m-1.0', u'pulse_id': 720317}\n",
        "[0.58011166935661462, 1.0772073785300742] [1429623863375, 1429623863381] {u'global_timestamp': None, u'hash': u'5e1a48ce6835204474aaaad1c9181958', u'htype': u'bsr_m-1.0', u'pulse_id': 720318}\n",
        "[-0.37873911466487398, 1.0779572085756188] [1429623863385, 1429623863390] {u'global_timestamp': None, u'hash': u'5e1a48ce6835204474aaaad1c9181958', u'htype': u'bsr_m-1.0', u'pulse_id': 720319}\n",
        "[-0.897439364482021, 0.27151722996385008]"
       ]
      },
      {
       "output_type": "stream",
       "stream": "stderr",
       "text": [
        "\u001b[2J\u001b[H\u001b[2J\u001b[H\u001b[2J\u001b[H\u001b[2J\u001b[H\u001b[2J\u001b[H\u001b[2J\u001b[H"
       ]
      },
      {
       "output_type": "stream",
       "stream": "stdout",
       "text": [
        " [1429623863395, 1429623863400] {u'global_timestamp': None, u'hash': u'5e1a48ce6835204474aaaad1c9181958', u'htype': u'bsr_m-1.0', u'pulse_id': 720320}\n",
        "[-0.49909846252170154, -0.60067536005807831] [1429623863405, 1429623863411] {u'global_timestamp': None, u'hash': u'5e1a48ce6835204474aaaad1c9181958', u'htype': u'bsr_m-1.0', u'pulse_id': 720321}\n",
        "[0.45005080299695566, -0.73673071654621558] [1429623863416, 1429623863421] {u'global_timestamp': None, u'hash': u'5e1a48ce6835204474aaaad1c9181958', u'htype': u'bsr_m-1.0', u'pulse_id': 720322}\n",
        "[1.0773649745821996, -0.011560172196791757] [1429623863425, 1429623863431] {u'global_timestamp': None, u'hash': u'5e1a48ce6835204474aaaad1c9181958', u'htype': u'bsr_m-1.0', u'pulse_id': 720323}\n",
        "[0.80609429588608073, 0.90811781881064091] [1429623863435, 1429623863440] {u'global_timestamp': None, u'hash': u'5e1a48ce6835204474aaaad1c9181958', u'htype': u'bsr_m-1.0', u'pulse_id': 720324}\n",
        "[-0.11435622212701974, 1.1767555528562055]"
       ]
      },
      {
       "output_type": "stream",
       "stream": "stderr",
       "text": [
        "\u001b[2J\u001b[H\u001b[2J\u001b[H\u001b[2J\u001b[H\u001b[2J\u001b[H\u001b[2J\u001b[H\u001b[2J\u001b[H\u001b[2J\u001b[H"
       ]
      },
      {
       "output_type": "stream",
       "stream": "stdout",
       "text": [
        " [1429623863445, 1429623863450] {u'global_timestamp': None, u'hash': u'5e1a48ce6835204474aaaad1c9181958', u'htype': u'bsr_m-1.0', u'pulse_id': 720325}\n",
        "[-0.8377286180709046, 0.54736873614479398] [1429623863455, 1429623863460] {u'global_timestamp': None, u'hash': u'5e1a48ce6835204474aaaad1c9181958', u'htype': u'bsr_m-1.0', u'pulse_id': 720326}\n",
        "[-0.69895764711748798, -0.40138729460513839] [1429623863465, 1429623863470] {u'global_timestamp': None, u'hash': u'5e1a48ce6835204474aaaad1c9181958', u'htype': u'bsr_m-1.0', u'pulse_id': 720327}\n",
        "[0.17437130001378012, -0.79723062013471102] [1429623863475, 1429623863481] {u'global_timestamp': None, u'hash': u'5e1a48ce6835204474aaaad1c9181958', u'htype': u'bsr_m-1.0', u'pulse_id': 720328}\n",
        "[0.97932361689320124, -0.27622471247706021] [1429623863485, 1429623863490] {u'global_timestamp': None, u'hash': u'5e1a48ce6835204474aaaad1c9181958', u'htype': u'bsr_m-1.0', u'pulse_id': 720329}\n",
        "[0.97582985560963853, 0.68261999960921615] [1429623863495, 1429623863500] {u'global_timestamp': None, u'hash': u'5e1a48ce6835204474aaaad1c9181958', u'htype': u'bsr_m-1.0', u'pulse_id': 720330}\n",
        "[0.16710216417489387, 1.1977461097709405]"
       ]
      },
      {
       "output_type": "stream",
       "stream": "stderr",
       "text": [
        "\u001b[2J\u001b[H\u001b[2J\u001b[H\u001b[2J\u001b[H\u001b[2J\u001b[H\u001b[2J\u001b[H\u001b[2J\u001b[H"
       ]
      },
      {
       "output_type": "stream",
       "stream": "stdout",
       "text": [
        " [1429623863505, 1429623863510] {u'global_timestamp': None, u'hash': u'5e1a48ce6835204474aaaad1c9181958', u'htype': u'bsr_m-1.0', u'pulse_id': 720331}\n",
        "[-0.70331894754476332, 0.79554904795119441] [1429623863516, 1429623863520] {u'global_timestamp': None, u'hash': u'5e1a48ce6835204474aaaad1c9181958', u'htype': u'bsr_m-1.0', u'pulse_id': 720332}\n",
        "[-0.83517232358689941, -0.15419306203972927] [1429623863526, 1429623863531] {u'global_timestamp': None, u'hash': u'5e1a48ce6835204474aaaad1c9181958', u'htype': u'bsr_m-1.0', u'pulse_id': 720333}\n",
        "[-0.10723257809137246, -0.77829170423631999] [1429623863536, 1429623863540] {u'global_timestamp': None, u'hash': u'5e1a48ce6835204474aaaad1c9181958', u'htype': u'bsr_m-1.0', u'pulse_id': 720334}\n",
        "[0.81123584399936366, -0.50295346518138229] [1429623863545, 1429623863550] {u'global_timestamp': None, u'hash': u'5e1a48ce6835204474aaaad1c9181958', u'htype': u'bsr_m-1.0', u'pulse_id': 720335}\n",
        "[1.0757973111492298, 0.41867694792532006]"
       ]
      },
      {
       "output_type": "stream",
       "stream": "stdout",
       "text": [
        " [1429623863556, 1429623863560] {u'global_timestamp': None, u'hash': u'5e1a48ce6835204474aaaad1c9181958', u'htype': u'bsr_m-1.0', u'pulse_id': 720336}\n",
        "[0.44321523054835532, 1.1392567835898975] [1429623863565, 1429623863570] {u'global_timestamp': None, u'hash': u'5e1a48ce6835204474aaaad1c9181958', u'htype': u'bsr_m-1.0', u'pulse_id': 720337}\n",
        "[-0.50491735020054673, 0.99628826402650761] [1429623863575, 1429623863580] {u'global_timestamp': None, u'hash': u'5e1a48ce6835204474aaaad1c9181958', u'htype': u'bsr_m-1.0', u'pulse_id': 720338}\n",
        "[-0.8968917088943561, 0.12121598678862287] [1429623863585, 1429623863591] {u'global_timestamp': None, u'hash': u'5e1a48ce6835204474aaaad1c9181958', u'htype': u'bsr_m-1.0', u'pulse_id': 720339}\n",
        "[-0.37232842783235498, -0.6814226320338137] [1429623863595, 1429623863601] {u'global_timestamp': None, u'hash': u'5e1a48ce6835204474aaaad1c9181958', u'htype': u'bsr_m-1.0', u'pulse_id': 720340}\n",
        "[0.58649143152456684, -0.67368534785309153] [1429623863606, 1429623863610] {u'global_timestamp': None, u'hash': u'5e1a48ce6835204474aaaad1c9181958', u'htype': u'bsr_m-1.0', u'pulse_id': 720341}\n",
        "[1.0980333123079864, 0.13731421593734741]"
       ]
      },
      {
       "output_type": "stream",
       "stream": "stderr",
       "text": [
        "\u001b[2J\u001b[H\u001b[2J\u001b[H\u001b[2J\u001b[H\u001b[2J\u001b[H\u001b[2J\u001b[H\u001b[2J\u001b[H\u001b[2J\u001b[H"
       ]
      },
      {
       "output_type": "stream",
       "stream": "stdout",
       "text": [
        " [1429623863615, 1429623863621] {u'global_timestamp': None, u'hash': u'5e1a48ce6835204474aaaad1c9181958', u'htype': u'bsr_m-1.0', u'pulse_id': 720342}\n",
        "[0.6919879684218776, 1.0059468005046848] [1429623863625, 1429623863631] {u'global_timestamp': None, u'hash': u'5e1a48ce6835204474aaaad1c9181958', u'htype': u'bsr_m-1.0', u'pulse_id': 720343}\n",
        "[-0.2583283835389143, 1.1335956135021141] [1429623863635, 1429623863640] {u'global_timestamp': None, u'hash': u'5e1a48ce6835204474aaaad1c9181958', u'htype': u'bsr_m-1.0', u'pulse_id': 720344}\n",
        "[-0.8791992721900348, 0.40290092494246088] [1429623863645, 1429623863651] {u'global_timestamp': None, u'hash': u'5e1a48ce6835204474aaaad1c9181958', u'htype': u'bsr_m-1.0', u'pulse_id': 720345}\n",
        "[-0.59979886579844566, -0.51433993828373414] [1429623863655, 1429623863660] {u'global_timestamp': None, u'hash': u'5e1a48ce6835204474aaaad1c9181958', u'htype': u'bsr_m-1.0', u'pulse_id': 720346}\n",
        "[0.32299339052041676, -0.77481995659927327]"
       ]
      },
      {
       "output_type": "stream",
       "stream": "stderr",
       "text": [
        "\u001b[2J\u001b[H\u001b[2J\u001b[H\u001b[2J\u001b[H\u001b[2J\u001b[H\u001b[2J\u001b[H\u001b[2J\u001b[H"
       ]
      },
      {
       "output_type": "stream",
       "stream": "stdout",
       "text": [
        " [1429623863665, 1429623863671] {u'global_timestamp': None, u'hash': u'5e1a48ce6835204474aaaad1c9181958', u'htype': u'bsr_m-1.0', u'pulse_id': 720347}\n",
        "[1.0407665519815172, -0.13905500243000024] [1429623863675, 1429623863681] {u'global_timestamp': None, u'hash': u'5e1a48ce6835204474aaaad1c9181958', u'htype': u'bsr_m-1.0', u'pulse_id': 720348}\n",
        "[0.8936032841180489, 0.80843555734115946] [1429623863685, 1429623863691] {u'global_timestamp': None, u'hash': u'5e1a48ce6835204474aaaad1c9181958', u'htype': u'bsr_m-1.0', u'pulse_id': 720349}\n",
        "[0.016804816725503366, 1.1965332716371908] [1429623863695, 1429623863700] {u'global_timestamp': None, u'hash': u'5e1a48ce6835204474aaaad1c9181958', u'htype': u'bsr_m-1.0', u'pulse_id': 720350}\n",
        "[-0.78350438283871493, 0.66842289173863123] [1429623863706, 1429623863710] {u'global_timestamp': None, u'hash': u'5e1a48ce6835204474aaaad1c9181958', u'htype': u'bsr_m-1.0', u'pulse_id': 720351}\n",
        "[-0.77152372731023411, -0.2903533345815818] [1429623863715, 1429623863720] {u'global_timestamp': None, u'hash': u'5e1a48ce6835204474aaaad1c9181958', u'htype': u'bsr_m-1.0', u'pulse_id': 720352}\n",
        "[0.041731823869684354, -0.79830096646775139]"
       ]
      },
      {
       "output_type": "stream",
       "stream": "stderr",
       "text": [
        "\u001b[2J\u001b[H\u001b[2J\u001b[H\u001b[2J\u001b[H\u001b[2J\u001b[H\u001b[2J\u001b[H\u001b[2J\u001b[H\u001b[2J\u001b[H"
       ]
      },
      {
       "output_type": "stream",
       "stream": "stdout",
       "text": [
        " [1429623863726, 1429623863731] {u'global_timestamp': None, u'hash': u'5e1a48ce6835204474aaaad1c9181958', u'htype': u'bsr_m-1.0', u'pulse_id': 720353}\n",
        "[0.90855886746635317, -0.38841529368425515] [1429623863735, 1429623863741] {u'global_timestamp': None, u'hash': u'5e1a48ce6835204474aaaad1c9181958', u'htype': u'bsr_m-1.0', u'pulse_id': 720354}\n",
        "[1.03200061717472, 0.56245668649638803] [1429623863745, 1429623863751] {u'global_timestamp': None, u'hash': u'5e1a48ce6835204474aaaad1c9181958', u'htype': u'bsr_m-1.0', u'pulse_id': 720355}\n",
        "[0.29856529759370798, 1.1800876606669028] [1429623863755, 1429623863760] {u'global_timestamp': None, u'hash': u'5e1a48ce6835204474aaaad1c9181958', u'htype': u'bsr_m-1.0', u'pulse_id': 720356}\n",
        "[-0.61743004086417252, 0.89663055952608905] [1429623863765, 1429623863771] {u'global_timestamp': None, u'hash': u'5e1a48ce6835204474aaaad1c9181958', u'htype': u'bsr_m-1.0', u'pulse_id': 720357}\n",
        "[-0.87382350834968014, -0.027305465366586373]"
       ]
      },
      {
       "output_type": "stream",
       "stream": "stderr",
       "text": [
        "\u001b[2J\u001b[H\u001b[2J\u001b[H\u001b[2J\u001b[H\u001b[2J\u001b[H\u001b[2J\u001b[H\u001b[2J\u001b[H"
       ]
      },
      {
       "output_type": "stream",
       "stream": "stdout",
       "text": [
        " [1429623863775, 1429623863781] {u'global_timestamp': None, u'hash': u'5e1a48ce6835204474aaaad1c9181958', u'htype': u'bsr_m-1.0', u'pulse_id': 720358}\n",
        "[-0.23488813327569516, -0.74225789367408335] [1429623863785, 1429623863790] {u'global_timestamp': None, u'hash': u'5e1a48ce6835204474aaaad1c9181958', u'htype': u'bsr_m-1.0', u'pulse_id': 720359}\n",
        "[0.71194184711621022, -0.59090275998254094] [1429623863795, 1429623863800] {u'global_timestamp': None, u'hash': u'5e1a48ce6835204474aaaad1c9181958', u'htype': u'bsr_m-1.0', u'pulse_id': 720360}\n",
        "[1.0961553153838892, 0.28760472380199792] [1429623863806, 1429623863810] {u'global_timestamp': None, u'hash': u'5e1a48ce6835204474aaaad1c9181958', u'htype': u'bsr_m-1.0', u'pulse_id': 720361}\n",
        "[0.56450818069322828, 1.0855688285328629] [1429623863816, 1429623863820] {u'global_timestamp': None, u'hash': u'5e1a48ce6835204474aaaad1c9181958', u'htype': u'bsr_m-1.0', u'pulse_id': 720362}\n",
        "[-0.39420563313755763, 1.0693450363205084]"
       ]
      },
      {
       "output_type": "stream",
       "stream": "stderr",
       "text": [
        "\u001b[2J\u001b[H\u001b[2J\u001b[H\u001b[2J\u001b[H\u001b[2J\u001b[H\u001b[2J\u001b[H\u001b[2J\u001b[H\u001b[2J\u001b[H"
       ]
      },
      {
       "output_type": "stream",
       "stream": "stdout",
       "text": [
        " [1429623863825, 1429623863830] {u'global_timestamp': None, u'hash': u'5e1a48ce6835204474aaaad1c9181958', u'htype': u'bsr_m-1.0', u'pulse_id': 720363}\n",
        "[-0.89854906700772097, 0.25384942690512163] [1429623863835, 1429623863840] {u'global_timestamp': None, u'hash': u'5e1a48ce6835204474aaaad1c9181958', u'htype': u'bsr_m-1.0', u'pulse_id': 720364}\n",
        "[-0.48483109371594468, -0.61115509726747819] [1429623863845, 1429623863850] {u'global_timestamp': None, u'hash': u'5e1a48ce6835204474aaaad1c9181958', u'htype': u'bsr_m-1.0', u'pulse_id': 720365}\n",
        "[0.46657789005149886, -0.7303873658457487] [1429623863856, 1429623863860] {u'global_timestamp': None, u'hash': u'5e1a48ce6835204474aaaad1c9181958', u'htype': u'bsr_m-1.0', u'pulse_id': 720366}\n",
        "[1.0809568522661492, 0.0057742190333929799] [1429623863865, 1429623863870] {u'global_timestamp': None, u'hash': u'5e1a48ce6835204474aaaad1c9181958', u'htype': u'bsr_m-1.0', u'pulse_id': 720367}\n",
        "[0.79344860842160603, 0.92050609121515281] [1429623863876, 1429623863880] {u'global_timestamp': None, u'hash': u'5e1a48ce6835204474aaaad1c9181958', u'htype': u'bsr_m-1.0', u'pulse_id': 720368}\n",
        "[-0.13161308800365623, 1.1728079859177816]"
       ]
      },
      {
       "output_type": "stream",
       "stream": "stdout",
       "text": [
        " [1429623863885, 1429623863890] {u'global_timestamp': None, u'hash': u'5e1a48ce6835204474aaaad1c9181958', u'htype': u'bsr_m-1.0', u'pulse_id': 720369}\n",
        "[-0.84373077945683783, 0.53071470470148352] [1429623863895, 1429623863901] {u'global_timestamp': None, u'hash': u'5e1a48ce6835204474aaaad1c9181958', u'htype': u'bsr_m-1.0', u'pulse_id': 720370}\n",
        "[-0.68818674451487627, -0.41543615084835656] [1429623863905, 1429623863910] {u'global_timestamp': None, u'hash': u'5e1a48ce6835204474aaaad1c9181958', u'htype': u'bsr_m-1.0', u'pulse_id': 720371}\n",
        "[0.19201254842465781, -0.79575784753744228] [1429623863915, 1429623863920] {u'global_timestamp': None, u'hash': u'5e1a48ce6835204474aaaad1c9181958', u'htype': u'bsr_m-1.0', u'pulse_id': 720372}\n",
        "[0.98761592868016923, -0.26058437137319446] [1429623863925, 1429623863931] {u'global_timestamp': None, u'hash': u'5e1a48ce6835204474aaaad1c9181958', u'htype': u'bsr_m-1.0', u'pulse_id': 720373}\n",
        "[0.96714931755771361, 0.69804825173791307]"
       ]
      },
      {
       "output_type": "stream",
       "stream": "stderr",
       "text": [
        "\u001b[2J\u001b[H\u001b[2J\u001b[H\u001b[2J\u001b[H\u001b[2J\u001b[H\u001b[2J\u001b[H\u001b[2J\u001b[H"
       ]
      },
      {
       "output_type": "stream",
       "stream": "stdout",
       "text": [
        " [1429623863935, 1429623863941] {u'global_timestamp': None, u'hash': u'5e1a48ce6835204474aaaad1c9181958', u'htype': u'bsr_m-1.0', u'pulse_id': 720374}\n",
        "[0.14942962293666354, 1.1987776090683748] [1429623863945, 1429623863951] {u'global_timestamp': None, u'hash': u'5e1a48ce6835204474aaaad1c9181958', u'htype': u'bsr_m-1.0', u'pulse_id': 720375}\n",
        "[-0.71373543905596959, 0.78123543872030754] [1429623863955, 1429623863960] {u'global_timestamp': None, u'hash': u'5e1a48ce6835204474aaaad1c9181958', u'htype': u'bsr_m-1.0', u'pulse_id': 720376}\n",
        "[-0.82875589111379044, -0.17069191348265078] [1429623863966, 1429623863970] {u'global_timestamp': None, u'hash': u'5e1a48ce6835204474aaaad1c9181958', u'htype': u'bsr_m-1.0', u'pulse_id': 720377}\n",
        "[-0.089882460058830133, -0.78180682996300588] [1429623863975, 1429623863980] {u'global_timestamp': None, u'hash': u'5e1a48ce6835204474aaaad1c9181958', u'htype': u'bsr_m-1.0', u'pulse_id': 720378}\n",
        "[0.82356802908638871, -0.49025307480955055] [1429623863985, 1429623863991] {u'global_timestamp': None, u'hash': u'5e1a48ce6835204474aaaad1c9181958', u'htype': u'bsr_m-1.0', u'pulse_id': 720379}\n",
        "[1.0717734091945121, 0.43591617405865851]"
       ]
      },
      {
       "output_type": "stream",
       "stream": "stderr",
       "text": [
        "\u001b[2J\u001b[H\u001b[2J\u001b[H\u001b[2J\u001b[H\u001b[2J\u001b[H\u001b[2J\u001b[H\u001b[2J\u001b[H\u001b[2J\u001b[H"
       ]
      },
      {
       "output_type": "stream",
       "stream": "stdout",
       "text": [
        " [1429623863995, 1429623864000] {u'global_timestamp': None, u'hash': u'5e1a48ce6835204474aaaad1c9181958', u'htype': u'bsr_m-1.0', u'pulse_id': 720380}\n",
        "[0.42653479845188769, 1.1451851804805158] [1429623864005, 1429623864011] {u'global_timestamp': None, u'hash': u'5e1a48ce6835204474aaaad1c9181958', u'htype': u'bsr_m-1.0', u'pulse_id': 720381}\n",
        "[-0.51891840009502577, 0.98545529091337447] [1429623864015, 1429623864021] {u'global_timestamp': None, u'hash': u'5e1a48ce6835204474aaaad1c9181958', u'htype': u'bsr_m-1.0', u'pulse_id': 720382}\n",
        "[-0.89534087588301225, 0.10358142919313762] [1429623864026, 1429623864030] {u'global_timestamp': None, u'hash': u'5e1a48ce6835204474aaaad1c9181958', u'htype': u'bsr_m-1.0', u'pulse_id': 720383}\n",
        "[-0.35665154063378501, -0.68964564318429078] [1429623864035, 1429623864040] {u'global_timestamp': None, u'hash': u'5e1a48ce6835204474aaaad1c9181958', u'htype': u'bsr_m-1.0', u'pulse_id': 720384}\n",
        "[0.60188111511766718, -0.66493661402917081] [1429623864045, 1429623864050] {u'global_timestamp': None, u'hash': u'5e1a48ce6835204474aaaad1c9181958', u'htype': u'bsr_m-1.0', u'pulse_id': 720385}\n",
        "[1.0989865881732828, 0.15499114920480653]"
       ]
      },
      {
       "output_type": "stream",
       "stream": "stderr",
       "text": [
        "\u001b[2J\u001b[H\u001b[2J\u001b[H\u001b[2J\u001b[H\u001b[2J\u001b[H\u001b[2J\u001b[H\u001b[2J\u001b[H\u001b[2J\u001b[H"
       ]
      },
      {
       "output_type": "stream",
       "stream": "stdout",
       "text": [
        " [1429623864056, 1429623864060] {u'global_timestamp': None, u'hash': u'5e1a48ce6835204474aaaad1c9181958', u'htype': u'bsr_m-1.0', u'pulse_id': 720386}\n",
        "[0.67762839912507344, 1.0162998422909346] [1429623864066, 1429623864070] {u'global_timestamp': None, u'hash': u'5e1a48ce6835204474aaaad1c9181958', u'htype': u'bsr_m-1.0', u'pulse_id': 720387}\n",
        "[-0.2747986762088841, 1.1271062249343751] [1429623864075, 1429623864080] {u'global_timestamp': None, u'hash': u'5e1a48ce6835204474aaaad1c9181958', u'htype': u'bsr_m-1.0', u'pulse_id': 720388}\n",
        "[-0.88263757710904622, 0.38553541994256346] [1429623864085, 1429623864090] {u'global_timestamp': None, u'hash': u'5e1a48ce6835204474aaaad1c9181958', u'htype': u'bsr_m-1.0', u'pulse_id': 720389}\n",
        "[-0.58704402128051514, -0.52661579450401375] [1429623864096, 1429623864100] {u'global_timestamp': None, u'hash': u'5e1a48ce6835204474aaaad1c9181958', u'htype': u'bsr_m-1.0', u'pulse_id': 720390}\n",
        "[0.34021463924748307, -0.7707197984440215]"
       ]
      },
      {
       "output_type": "stream",
       "stream": "stderr",
       "text": [
        "\u001b[2J\u001b[H\u001b[2J\u001b[H\u001b[2J\u001b[H\u001b[2J\u001b[H\u001b[2J\u001b[H\u001b[2J\u001b[H\u001b[2J\u001b[H"
       ]
      },
      {
       "output_type": "stream",
       "stream": "stdout",
       "text": [
        " [1429623864105, 1429623864110] {u'global_timestamp': None, u'hash': u'5e1a48ce6835204474aaaad1c9181958', u'htype': u'bsr_m-1.0', u'pulse_id': 720391}\n",
        "[1.046621068257912, -0.12234849639830747] [1429623864115, 1429623864120] {u'global_timestamp': None, u'hash': u'5e1a48ce6835204474aaaad1c9181958', u'htype': u'bsr_m-1.0', u'pulse_id': 720392}\n",
        "[0.88270845267873999, 0.82238852664975504] [1429623864125, 1429623864130] {u'global_timestamp': None, u'hash': u'5e1a48ce6835204474aaaad1c9181958', u'htype': u'bsr_m-1.0', u'pulse_id': 720393}\n",
        "[-0.00082270464829808931, 1.1949044085877809] [1429623864135, 1429623864140] {u'global_timestamp': None, u'hash': u'5e1a48ce6835204474aaaad1c9181958', u'htype': u'bsr_m-1.0', u'pulse_id': 720394}\n",
        "[-0.79165793228941572, 0.6527097655069567] [1429623864145, 1429623864150] {u'global_timestamp': None, u'hash': u'5e1a48ce6835204474aaaad1c9181958', u'htype': u'bsr_m-1.0', u'pulse_id': 720395}\n",
        "[-0.76270696907487967, -0.30570414820291375] [1429623864156, 1429623864160] {u'global_timestamp': None, u'hash': u'5e1a48ce6835204474aaaad1c9181958', u'htype': u'bsr_m-1.0', u'pulse_id': 720396}\n",
        "[0.059412802930072908, -0.79917600022919233]"
       ]
      },
      {
       "output_type": "stream",
       "stream": "stderr",
       "text": [
        "\u001b[2J\u001b[H\u001b[2J\u001b[H\u001b[2J\u001b[H\u001b[2J\u001b[H\u001b[2J\u001b[H\u001b[2J\u001b[H"
       ]
      },
      {
       "output_type": "stream",
       "stream": "stdout",
       "text": [
        " [1429623864166, 1429623864171] {u'global_timestamp': None, u'hash': u'5e1a48ce6835204474aaaad1c9181958', u'htype': u'bsr_m-1.0', u'pulse_id': 720397}\n",
        "[0.91884825674366721, -0.37401004558096124] [1429623864175, 1429623864180] {u'global_timestamp': None, u'hash': u'5e1a48ce6835204474aaaad1c9181958', u'htype': u'bsr_m-1.0', u'pulse_id': 720398}\n",
        "[1.025438399619347, 0.57889809779145363] [1429623864185, 1429623864190] {u'global_timestamp': None, u'hash': u'5e1a48ce6835204474aaaad1c9181958', u'htype': u'bsr_m-1.0', u'pulse_id': 720399}\n",
        "[0.28118474576284092, 1.1834490774325099] [1429623864195, 1429623864200] {u'global_timestamp': None, u'hash': u'5e1a48ce6835204474aaaad1c9181958', u'htype': u'bsr_m-1.0', u'pulse_id': 720400}\n",
        "[-0.62964932777175575, 0.88382151068990589] [1429623864205, 1429623864210] {u'global_timestamp': None, u'hash': u'5e1a48ce6835204474aaaad1c9181958', u'htype': u'bsr_m-1.0', u'pulse_id': 720401}\n",
        "[-0.86964717430327632, -0.044508399376528035]"
       ]
      },
      {
       "output_type": "stream",
       "stream": "stderr",
       "text": [
        "\u001b[2J\u001b[H\u001b[2J\u001b[H\u001b[2J\u001b[H\u001b[2J\u001b[H\u001b[2J\u001b[H\u001b[2J\u001b[H"
       ]
      },
      {
       "output_type": "stream",
       "stream": "stdout",
       "text": [
        " [1429623864215, 1429623864221] {u'global_timestamp': None, u'hash': u'5e1a48ce6835204474aaaad1c9181958', u'htype': u'bsr_m-1.0', u'pulse_id': 720402}\n",
        "[-0.21815588053741661, -0.7480384146644381] [1429623864225, 1429623864230] {u'global_timestamp': None, u'hash': u'5e1a48ce6835204474aaaad1c9181958', u'htype': u'bsr_m-1.0', u'pulse_id': 720403}\n",
        "[0.72584646254352703, -0.57994628361301492] [1429623864235, 1429623864241] {u'global_timestamp': None, u'hash': u'5e1a48ce6835204474aaaad1c9181958', u'htype': u'bsr_m-1.0', u'pulse_id': 720404}\n",
        "[1.0944484542007886, 0.305224863685642] [1429623864245, 1429623864251] {u'global_timestamp': None, u'hash': u'5e1a48ce6835204474aaaad1c9181958', u'htype': u'bsr_m-1.0', u'pulse_id': 720405}\n",
        "[0.54875912319985942, 1.093652756581041] [1429623864256, 1429623864261] {u'global_timestamp': None, u'hash': u'5e1a48ce6835204474aaaad1c9181958', u'htype': u'bsr_m-1.0', u'pulse_id': 720406}\n",
        "[-0.40951727611229138, 1.0604604263666697] [1429623864265, 1429623864271] {u'global_timestamp': None, u'hash': u'5e1a48ce6835204474aaaad1c9181958', u'htype': u'bsr_m-1.0', u'pulse_id': 720407}\n",
        "[-0.89934584152610875, 0.23616474836734755]"
       ]
      },
      {
       "output_type": "stream",
       "stream": "stdout",
       "text": [
        " [1429623864275, 1429623864281] {u'global_timestamp': None, u'hash': u'5e1a48ce6835204474aaaad1c9181958', u'htype': u'bsr_m-1.0', u'pulse_id': 720408}\n",
        "[-0.47038044896029485, -0.62138063249863196] [1429623864285, 1429623864290] {u'global_timestamp': None, u'hash': u'5e1a48ce6835204474aaaad1c9181958', u'htype': u'bsr_m-1.0', u'pulse_id': 720409}\n",
        "[0.48299009793540459, -0.72375244783623116] [1429623864295, 1429623864301] {u'global_timestamp': None, u'hash': u'5e1a48ce6835204474aaaad1c9181958', u'htype': u'bsr_m-1.0', u'pulse_id': 720410}\n",
        "[1.0842413150386223, 0.023169477264123495] [1429623864306, 1429623864310] {u'global_timestamp': None, u'hash': u'5e1a48ce6835204474aaaad1c9181958', u'htype': u'bsr_m-1.0', u'pulse_id': 720411}\n",
        "[0.78058560615671091, 0.93266856947210597] [1429623864316, 1429623864320] {u'global_timestamp': None, u'hash': u'5e1a48ce6835204474aaaad1c9181958', u'htype': u'bsr_m-1.0', u'pulse_id': 720412}\n",
        "[-0.14879737034434931, 1.1685555577816571] [1429623864326, 1429623864330] {u'global_timestamp': None, u'hash': u'5e1a48ce6835204474aaaad1c9181958', u'htype': u'bsr_m-1.0', u'pulse_id': 720413}\n",
        "[-0.84943719193867395, 0.51395703298955697]"
       ]
      },
      {
       "output_type": "stream",
       "stream": "stderr",
       "text": [
        "\u001b[2J\u001b[H\u001b[2J\u001b[H\u001b[2J\u001b[H\u001b[2J\u001b[H\u001b[2J\u001b[H\u001b[2J\u001b[H\u001b[2J\u001b[H"
       ]
      },
      {
       "output_type": "stream",
       "stream": "stdout",
       "text": [
        " [1429623864335, 1429623864341] {u'global_timestamp': None, u'hash': u'5e1a48ce6835204474aaaad1c9181958', u'htype': u'bsr_m-1.0', u'pulse_id': 720414}\n",
        "[-0.67716883781852477, -0.42929214004610255] [1429623864345, 1429623864351] {u'global_timestamp': None, u'hash': u'5e1a48ce6835204474aaaad1c9181958', u'htype': u'bsr_m-1.0', u'pulse_id': 720415}\n",
        "[0.20962496169425138, -0.79397302165276784] [1429623864355, 1429623864361] {u'global_timestamp': None, u'hash': u'5e1a48ce6835204474aaaad1c9181958', u'htype': u'bsr_m-1.0', u'pulse_id': 720416}\n",
        "[0.99563007698674577, -0.24479969109332322] [1429623864366, 1429623864371] {u'global_timestamp': None, u'hash': u'5e1a48ce6835204474aaaad1c9181958', u'htype': u'bsr_m-1.0', u'pulse_id': 720417}\n",
        "[0.95819702990734512, 0.71332042415845032] [1429623864376, 1429623864382] {u'global_timestamp': None, u'hash': u'5e1a48ce6835204474aaaad1c9181958', u'htype': u'bsr_m-1.0', u'pulse_id': 720418}\n",
        "[0.13174159130950908, 1.1994961087373677]"
       ]
      },
      {
       "output_type": "stream",
       "stream": "stderr",
       "text": [
        "\u001b[2J\u001b[H\u001b[2J\u001b[H\u001b[2J\u001b[H\u001b[2J\u001b[H\u001b[2J\u001b[H\u001b[2J\u001b[H"
       ]
      },
      {
       "output_type": "stream",
       "stream": "stdout",
       "text": [
        " [1429623864385, 1429623864391] {u'global_timestamp': None, u'hash': u'5e1a48ce6835204474aaaad1c9181958', u'htype': u'bsr_m-1.0', u'pulse_id': 720419}\n",
        "[-0.72389691995444139, 0.76673968035561502] [1429623864396, 1429623864400] {u'global_timestamp': None, u'hash': u'5e1a48ce6835204474aaaad1c9181958', u'htype': u'bsr_m-1.0', u'pulse_id': 720420}\n",
        "[-0.82204840260759471, -0.18707459649114522] [1429623864405, 1429623864411] {u'global_timestamp': None, u'hash': u'5e1a48ce6835204474aaaad1c9181958', u'htype': u'bsr_m-1.0', u'pulse_id': 720421}\n",
        "[-0.072472836147395137, -0.78501427440990601] [1429623864416, 1429623864421] {u'global_timestamp': None, u'hash': u'5e1a48ce6835204474aaaad1c9181958', u'htype': u'bsr_m-1.0', u'pulse_id': 720422}\n",
        "[0.83567346046748392, -0.4773363710622644] [1429623864426, 1429623864431] {u'global_timestamp': None, u'hash': u'5e1a48ce6835204474aaaad1c9181958', u'htype': u'bsr_m-1.0', u'pulse_id': 720423}\n",
        "[1.0674449702605457, 0.45308146814330746]"
       ]
      },
      {
       "output_type": "stream",
       "stream": "stderr",
       "text": [
        "\u001b[2J\u001b[H\u001b[2J\u001b[H\u001b[2J\u001b[H\u001b[2J\u001b[H\u001b[2J\u001b[H\u001b[2J\u001b[H\u001b[2J\u001b[H"
       ]
      },
      {
       "output_type": "stream",
       "stream": "stdout",
       "text": [
        " [1429623864435, 1429623864440] {u'global_timestamp': None, u'hash': u'5e1a48ce6835204474aaaad1c9181958', u'htype': u'bsr_m-1.0', u'pulse_id': 720424}\n",
        "[0.4097520359971295, 1.1508173726829107] [1429623864445, 1429623864450] {u'global_timestamp': None, u'hash': u'5e1a48ce6835204474aaaad1c9181958', u'htype': u'bsr_m-1.0', u'pulse_id': 720425}\n",
        "[-0.53272549166734551, 0.97437616969681851] [1429623864455, 1429623864461] {u'global_timestamp': None, u'hash': u'5e1a48ce6835204474aaaad1c9181958', u'htype': u'bsr_m-1.0', u'pulse_id': 720426}\n",
        "[-0.89347812025596784, 0.085977087510147196] [1429623864465, 1429623864471] {u'global_timestamp': None, u'hash': u'5e1a48ce6835204474aaaad1c9181958', u'htype': u'bsr_m-1.0', u'pulse_id': 720427}\n",
        "[-0.34083154674034344, -0.69758985477695568] [1429623864475, 1429623864480] {u'global_timestamp': None, u'hash': u'5e1a48ce6835204474aaaad1c9181958', u'htype': u'bsr_m-1.0', u'pulse_id': 720428}\n",
        "[0.61711351784951551, -0.65591682402982276] [1429623864487, 1429623864491] {u'global_timestamp': None, u'hash': u'5e1a48ce6835204474aaaad1c9181958', u'htype': u'bsr_m-1.0', u'pulse_id': 720429}\n",
        "[1.0996267989197008, 0.17268218746765959]"
       ]
      },
      {
       "output_type": "stream",
       "stream": "stderr",
       "text": [
        "\u001b[2J\u001b[H\u001b[2J\u001b[H\u001b[2J\u001b[H\u001b[2J\u001b[H\u001b[2J\u001b[H\u001b[2J\u001b[H\u001b[2J\u001b[H"
       ]
      },
      {
       "output_type": "stream",
       "stream": "stdout",
       "text": [
        " [1429623864496, 1429623864503] {u'global_timestamp': None, u'hash': u'5e1a48ce6835204474aaaad1c9181958', u'htype': u'bsr_m-1.0', u'pulse_id': 720430}\n",
        "[0.66308781107828751, 1.0263970698248286] [1429623864505, 1429623864512] {u'global_timestamp': None, u'hash': u'5e1a48ce6835204474aaaad1c9181958', u'htype': u'bsr_m-1.0', u'pulse_id': 720431}\n",
        "[-0.29115151345601642, 1.1203262973103985] [1429623864515, 1429623864521] {u'global_timestamp': None, u'hash': u'5e1a48ce6835204474aaaad1c9181958', u'htype': u'bsr_m-1.0', u'pulse_id': 720432}\n",
        "[-0.88576794040648421, 0.36811177135096207] [1429623864525, 1429623864530] {u'global_timestamp': None, u'hash': u'5e1a48ce6835204474aaaad1c9181958', u'htype': u'bsr_m-1.0', u'pulse_id': 720433}\n",
        "[-0.57407386904900437, -0.53866394190139388] [1429623864536, 1429623864540] {u'global_timestamp': None, u'hash': u'5e1a48ce6835204474aaaad1c9181958', u'htype': u'bsr_m-1.0', u'pulse_id': 720434}\n",
        "[0.35736060886121324, -0.76631543349290743] [1429623864545, 1429623864550] {u'global_timestamp': None, u'hash': u'5e1a48ce6835204474aaaad1c9181958', u'htype': u'bsr_m-1.0', u'pulse_id': 720435}\n",
        "[1.0521789298636881, -0.10554097192298395]"
       ]
      },
      {
       "output_type": "stream",
       "stream": "stderr",
       "text": [
        "\u001b[2J\u001b[H\u001b[2J\u001b[H\u001b[2J\u001b[H\u001b[2J\u001b[H\u001b[2J\u001b[H\u001b[2J\u001b[H"
       ]
      },
      {
       "output_type": "stream",
       "stream": "stdout",
       "text": [
        " [1429623864556, 1429623864561] {u'global_timestamp': None, u'hash': u'5e1a48ce6835204474aaaad1c9181958', u'htype': u'bsr_m-1.0', u'pulse_id': 720436}\n",
        "[0.87156833394760347, 0.83614645015854583] [1429623864566, 1429623864571] {u'global_timestamp': None, u'hash': u'5e1a48ce6835204474aaaad1c9181958', u'htype': u'bsr_m-1.0', u'pulse_id': 720437}\n",
        "[-0.01841862993023001, 1.1929637597039719] [1429623864576, 1429623864581] {u'global_timestamp': None, u'hash': u'5e1a48ce6835204474aaaad1c9181958', u'htype': u'bsr_m-1.0', u'pulse_id': 720438}\n",
        "[-0.79953205156570195, 0.63685476786456086] [1429623864586, 1429623864591] {u'global_timestamp': None, u'hash': u'5e1a48ce6835204474aaaad1c9181958', u'htype': u'bsr_m-1.0', u'pulse_id': 720439}\n",
        "[-0.75361985339626425, -0.32089648289054556] [1429623864595, 1429623864600] {u'global_timestamp': None, u'hash': u'5e1a48ce6835204474aaaad1c9181958', u'htype': u'bsr_m-1.0', u'pulse_id': 720440}\n",
        "[0.077106501316052081, -0.79973790951329238]"
       ]
      },
      {
       "output_type": "stream",
       "stream": "stdout",
       "text": [
        " [1429623864605, 1429623864611] {u'global_timestamp': None, u'hash': u'5e1a48ce6835204474aaaad1c9181958', u'htype': u'bsr_m-1.0', u'pulse_id': 720441}\n",
        "[0.92888103313961157, -0.35942491265710547] [1429623864615, 1429623864620] {u'global_timestamp': None, u'hash': u'5e1a48ce6835204474aaaad1c9181958', u'htype': u'bsr_m-1.0', u'pulse_id': 720442}\n",
        "[1.0185861656753441, 0.59522076897585896] [1429623864626, 1429623864630] {u'global_timestamp': None, u'hash': u'5e1a48ce6835204474aaaad1c9181958', u'htype': u'bsr_m-1.0', u'pulse_id': 720443}\n",
        "[0.26374741376631128, 1.1865022982663773] [1429623864635, 1429623864641] {u'global_timestamp': None, u'hash': u'5e1a48ce6835204474aaaad1c9181958', u'htype': u'bsr_m-1.0', u'pulse_id': 720444}\n",
        "[-0.6416399551995795, 0.87079816401922705] [1429623864645, 1429623864650] {u'global_timestamp': None, u'hash': u'5e1a48ce6835204474aaaad1c9181958', u'htype': u'bsr_m-1.0', u'pulse_id': 720445}\n",
        "[-0.86516696960286443, -0.061634708682971384] [1429623864655, 1429623864661] {u'global_timestamp': None, u'hash': u'5e1a48ce6835204474aaaad1c9181958', u'htype': u'bsr_m-1.0', u'pulse_id': 720446}\n",
        "[-0.20132392324880535, -0.75352183681232399]"
       ]
      },
      {
       "output_type": "stream",
       "stream": "stderr",
       "text": [
        "\u001b[2J\u001b[H\u001b[2J\u001b[H\u001b[2J\u001b[H\u001b[2J\u001b[H\u001b[2J\u001b[H\u001b[2J\u001b[H\u001b[2J\u001b[H"
       ]
      },
      {
       "output_type": "stream",
       "stream": "stdout",
       "text": [
        " [1429623864665, 1429623864671] {u'global_timestamp': None, u'hash': u'5e1a48ce6835204474aaaad1c9181958', u'htype': u'bsr_m-1.0', u'pulse_id': 720447}\n",
        "[0.73955494851373671, -0.56874538556767384] [1429623864675, 1429623864681] {u'global_timestamp': None, u'hash': u'5e1a48ce6835204474aaaad1c9181958', u'htype': u'bsr_m-1.0', u'pulse_id': 720448}\n",
        "[1.092429950071508, 0.32281202791691127] [1429623864685, 1429623864690] {u'global_timestamp': None, u'hash': u'5e1a48ce6835204474aaaad1c9181958', u'htype': u'bsr_m-1.0', u'pulse_id': 720449}\n",
        "[0.5328694323587404, 1.1014566293113728] [1429623864696, 1429623864700] {u'global_timestamp': None, u'hash': u'5e1a48ce6835204474aaaad1c9181958', u'htype': u'bsr_m-1.0', u'pulse_id': 720450}\n",
        "[-0.42466924518498772, 1.0513061629972] [1429623864705, 1429623864710] {u'global_timestamp': None, u'hash': u'5e1a48ce6835204474aaaad1c9181958', u'htype': u'bsr_m-1.0', u'pulse_id': 720451}\n",
        "[-0.89982943834183082, 0.21846873642291828]"
       ]
      },
      {
       "output_type": "stream",
       "stream": "stderr",
       "text": [
        "\u001b[2J\u001b[H\u001b[2J\u001b[H\u001b[2J\u001b[H\u001b[2J\u001b[H\u001b[2J\u001b[H\u001b[2J\u001b[H\u001b[2J\u001b[H"
       ]
      },
      {
       "output_type": "stream",
       "stream": "stdout",
       "text": [
        " [1429623864715, 1429623864720] {u'global_timestamp': None, u'hash': u'5e1a48ce6835204474aaaad1c9181958', u'htype': u'bsr_m-1.0', u'pulse_id': 720452}\n",
        "[-0.45575105683688866, -0.63134876124565276] [1429623864726, 1429623864731] {u'global_timestamp': None, u'hash': u'5e1a48ce6835204474aaaad1c9181958', u'htype': u'bsr_m-1.0', u'pulse_id': 720453}\n",
        "[0.49928228334657776, -0.71682804178621362] [1429623864735, 1429623864740] {u'global_timestamp': None, u'hash': u'5e1a48ce6835204474aaaad1c9181958', u'htype': u'bsr_m-1.0', u'pulse_id': 720454}\n",
        "[1.0872173336057924, 0.040620151122327891] [1429623864745, 1429623864750] {u'global_timestamp': None, u'hash': u'5e1a48ce6835204474aaaad1c9181958', u'htype': u'bsr_m-1.0', u'pulse_id': 720455}\n",
        "[0.76750932013383466, 0.94460144207116992] [1429623864756, 1429623864761] {u'global_timestamp': None, u'hash': u'5e1a48ce6835204474aaaad1c9181958', u'htype': u'bsr_m-1.0', u'pulse_id': 720456}\n",
        "[-0.16590368389222218, 1.1639996010852625] [1429623864766, 1429623864770] {u'global_timestamp': None, u'hash': u'5e1a48ce6835204474aaaad1c9181958', u'htype': u'bsr_m-1.0', u'pulse_id': 720457}\n",
        "[-0.85484606722543577, 0.49710097257349839]"
       ]
      },
      {
       "output_type": "stream",
       "stream": "stderr",
       "text": [
        "\u001b[2J\u001b[H\u001b[2J\u001b[H\u001b[2J\u001b[H\u001b[2J\u001b[H\u001b[2J\u001b[H\u001b[2J\u001b[H"
       ]
      },
      {
       "output_type": "stream",
       "stream": "stdout",
       "text": [
        " [1429623864775, 1429623864780] {u'global_timestamp': None, u'hash': u'5e1a48ce6835204474aaaad1c9181958', u'htype': u'bsr_m-1.0', u'pulse_id': 720458}\n",
        "[-0.66590737984983328, -0.44295091997100627] [1429623864785, 1429623864791] {u'global_timestamp': None, u'hash': u'5e1a48ce6835204474aaaad1c9181958', u'htype': u'bsr_m-1.0', u'pulse_id': 720459}\n",
        "[0.22720302039685564, -0.79187670181425118] [1429623864796, 1429623864800] {u'global_timestamp': None, u'hash': u'5e1a48ce6835204474aaaad1c9181958', u'htype': u'bsr_m-1.0', u'pulse_id': 720460}\n",
        "[1.0033635503174594, -0.22887561828324415] [1429623864806, 1429623864811] {u'global_timestamp': None, u'hash': u'5e1a48ce6835204474aaaad1c9181958', u'htype': u'bsr_m-1.0', u'pulse_id': 720461}\n",
        "[0.94897579815064947, 0.72843173083612944] [1429623864815, 1429623864821] {u'global_timestamp': None, u'hash': u'5e1a48ce6835204474aaaad1c9181958', u'htype': u'bsr_m-1.0', u'pulse_id': 720462}\n",
        "[0.11404361241662116, 1.1999013836125498] [1429623864826, 1429623864831] {u'global_timestamp': None, u'hash': u'5e1a48ce6835204474aaaad1c9181958', u'htype': u'bsr_m-1.0', u'pulse_id': 720463}\n",
        "[-0.73380020580781191, 0.75206631557707859]"
       ]
      },
      {
       "output_type": "stream",
       "stream": "stderr",
       "text": [
        "\u001b[2J\u001b[H\u001b[2J\u001b[H\u001b[2J\u001b[H\u001b[2J\u001b[H\u001b[2J\u001b[H\u001b[2J\u001b[H\u001b[2J\u001b[H"
       ]
      },
      {
       "output_type": "stream",
       "stream": "stdout",
       "text": [
        " [1429623864836, 1429623864842] {u'global_timestamp': None, u'hash': u'5e1a48ce6835204474aaaad1c9181958', u'htype': u'bsr_m-1.0', u'pulse_id': 720464}\n",
        "[-0.81505196007920155, -0.2033359770157025] [1429623864845, 1429623864850] {u'global_timestamp': None, u'hash': u'5e1a48ce6835204474aaaad1c9181958', u'htype': u'bsr_m-1.0', u'pulse_id': 720465}\n",
        "[-0.055009162232095205, -0.7879130324194048] [1429623864855, 1429623864860] {u'global_timestamp': None, u'hash': u'5e1a48ce6835204474aaaad1c9181958', u'htype': u'bsr_m-1.0', u'pulse_id': 720466}\n",
        "[0.8475483445098223, -0.46420740181107883] [1429623864865, 1429623864870] {u'global_timestamp': None, u'hash': u'5e1a48ce6835204474aaaad1c9181958', u'htype': u'bsr_m-1.0', u'pulse_id': 720467}\n",
        "[1.0628133508052302, 0.47016745087298101] [1429623864875, 1429623864881] {u'global_timestamp': None, u'hash': u'5e1a48ce6835204474aaaad1c9181958', u'htype': u'bsr_m-1.0', u'pulse_id': 720468}\n",
        "[0.39287220261156974, 1.1561515951654568] [1429623864885, 1429623864890] {u'global_timestamp': None, u'hash': u'5e1a48ce6835204474aaaad1c9181958', u'htype': u'bsr_m-1.0', u'pulse_id': 720469}\n",
        "[-0.54633429801380606, 0.96305437238181169]"
       ]
      },
      {
       "output_type": "stream",
       "stream": "stderr",
       "text": [
        "\u001b[2J\u001b[H\u001b[2J\u001b[H\u001b[2J\u001b[H\u001b[2J\u001b[H\u001b[2J\u001b[H\u001b[2J\u001b[H\u001b[2J\u001b[H"
       ]
      },
      {
       "output_type": "stream",
       "stream": "stdout",
       "text": [
        " [1429623864896, 1429623864900] {u'global_timestamp': None, u'hash': u'5e1a48ce6835204474aaaad1c9181958', u'htype': u'bsr_m-1.0', u'pulse_id': 720470}\n",
        "[-0.89130402576861933, 0.06840847863586122] [1429623864905, 1429623864910] {u'global_timestamp': None, u'hash': u'5e1a48ce6835204474aaaad1c9181958', u'htype': u'bsr_m-1.0', u'pulse_id': 720471}\n",
        "[-0.32487340386450358, -0.70525277723329327] [1429623864916, 1429623864921] {u'global_timestamp': None, u'hash': u'5e1a48ce6835204474aaaad1c9181958', u'htype': u'bsr_m-1.0', u'pulse_id': 720472}\n",
        "[0.63218386614854594, -0.64662880450123272] [1429623864925, 1429623864930] {u'global_timestamp': None, u'hash': u'5e1a48ce6835204474aaaad1c9181958', u'htype': u'bsr_m-1.0', u'pulse_id': 720473}\n",
        "[1.0999537439162652, 0.19038178666048827] [1429623864935, 1429623864940] {u'global_timestamp': None, u'hash': u'5e1a48ce6835204474aaaad1c9181958', u'htype': u'bsr_m-1.0', u'pulse_id': 720474}\n",
        "[0.64837076105032876, 1.0362353188098929] [1429623864945, 1429623864951] {u'global_timestamp': None, u'hash': u'5e1a48ce6835204474aaaad1c9181958', u'htype': u'bsr_m-1.0', u'pulse_id': 720475}\n",
        "[-0.30738177058394656, 1.1132579553422399]"
       ]
      },
      {
       "output_type": "stream",
       "stream": "stderr",
       "text": [
        "\u001b[2J\u001b[H\u001b[2J\u001b[H\u001b[2J\u001b[H\u001b[2J\u001b[H\u001b[2J\u001b[H\u001b[2J\u001b[H"
       ]
      },
      {
       "output_type": "stream",
       "stream": "stdout",
       "text": [
        " [1429623864955, 1429623864961] {u'global_timestamp': None, u'hash': u'5e1a48ce6835204474aaaad1c9181958', u'htype': u'bsr_m-1.0', u'pulse_id': 720476}\n",
        "[-0.88858938108063246, 0.3506354394377767] [1429623864965, 1429623864970] {u'global_timestamp': None, u'hash': u'5e1a48ce6835204474aaaad1c9181958', u'htype': u'bsr_m-1.0', u'pulse_id': 720477}\n",
        "[-0.56089247372529905, -0.55048060479485739] [1429623864975, 1429623864981] {u'global_timestamp': None, u'hash': u'5e1a48ce6835204474aaaad1c9181958', u'htype': u'bsr_m-1.0', u'pulse_id': 720478}\n",
        "[0.37442592611127645, -0.76160824199773169] [1429623864985, 1429623864990] {u'global_timestamp': None, u'hash': u'5e1a48ce6835204474aaaad1c9181958', u'htype': u'bsr_m-1.0', u'pulse_id': 720479}\n",
        "[1.0574383950611439, -0.088637696191507742] [1429623864996, 1429623865001] {u'global_timestamp': None, u'hash': u'5e1a48ce6835204474aaaad1c9181958', u'htype': u'bsr_m-1.0', u'pulse_id': 720480}\n",
        "[0.86018641904517734, 0.84970501637225326]"
       ]
      },
      {
       "output_type": "stream",
       "stream": "stdout",
       "text": [
        " [1429623865005, 1429623865010] {u'global_timestamp': None, u'hash': u'5e1a48ce6835204474aaaad1c9181958', u'htype': u'bsr_m-1.0', u'pulse_id': 720481}\n",
        "[-0.035977444861637287, 1.1907119331515597] [1429623865016, 1429623865020] {u'global_timestamp': None, u'hash': u'5e1a48ce6835204474aaaad1c9181958', u'htype': u'bsr_m-1.0', u'pulse_id': 720482}\n",
        "[-0.8071242730547783, 0.62086286749348663] [1429623865026, 1429623865031] {u'global_timestamp': None, u'hash': u'5e1a48ce6835204474aaaad1c9181958', u'htype': u'bsr_m-1.0', u'pulse_id': 720483}\n",
        "[-0.74426522801927619, -0.33592557762954328] [1429623865036, 1429623865040] {u'global_timestamp': None, u'hash': u'5e1a48ce6835204474aaaad1c9181958', u'htype': u'bsr_m-1.0', u'pulse_id': 720484}\n",
        "[0.09480737412856699, -0.79998651822740063] [1429623865046, 1429623865050] {u'global_timestamp': None, u'hash': u'5e1a48ce6835204474aaaad1c9181958', u'htype': u'bsr_m-1.0', u'pulse_id': 720485}\n",
        "[0.93865405255558443, -0.34466446564109071] [1429623865056, 1429623865061] {u'global_timestamp': None, u'hash': u'5e1a48ce6835204474aaaad1c9181958', u'htype': u'bsr_m-1.0', u'pulse_id': 720486}\n",
        "[1.0114460627143178, 0.61141958480676162]"
       ]
      },
      {
       "output_type": "stream",
       "stream": "stderr",
       "text": [
        "\u001b[2J\u001b[H\u001b[2J\u001b[H\u001b[2J\u001b[H\u001b[2J\u001b[H\u001b[2J\u001b[H\u001b[2J\u001b[H\u001b[2J\u001b[H"
       ]
      },
      {
       "output_type": "stream",
       "stream": "stdout",
       "text": [
        " [1429623865065, 1429623865070] {u'global_timestamp': None, u'hash': u'5e1a48ce6835204474aaaad1c9181958', u'htype': u'bsr_m-1.0', u'pulse_id': 720487}\n",
        "[0.24625876616238138, 1.1892463663419026] [1429623865075, 1429623865080] {u'global_timestamp': None, u'hash': u'5e1a48ce6835204474aaaad1c9181958', u'htype': u'bsr_m-1.0', u'pulse_id': 720488}\n",
        "[-0.65339816549239027, 0.85756460080565544] [1429623865085, 1429623865090] {u'global_timestamp': None, u'hash': u'5e1a48ce6835204474aaaad1c9181958', u'htype': u'bsr_m-1.0', u'pulse_id': 720489}\n",
        "[-0.86038429826711094, -0.078679026196785795] [1429623865095, 1429623865100] {u'global_timestamp': None, u'hash': u'5e1a48ce6835204474aaaad1c9181958', u'htype': u'bsr_m-1.0', u'pulse_id': 720490}\n",
        "[-0.18439753625416036, -0.75870644170807755] [1429623865106, 1429623865110] {u'global_timestamp': None, u'hash': u'5e1a48ce6835204474aaaad1c9181958', u'htype': u'bsr_m-1.0', u'pulse_id': 720491}\n",
        "[0.75306300902442957, -0.5573035760142413]"
       ]
      },
      {
       "output_type": "stream",
       "stream": "stderr",
       "text": [
        "\u001b[2J\u001b[H\u001b[2J\u001b[H\u001b[2J\u001b[H\u001b[2J\u001b[H\u001b[2J\u001b[H\u001b[2J\u001b[H"
       ]
      },
      {
       "output_type": "stream",
       "stream": "stdout",
       "text": [
        " [1429623865115, 1429623865120] {u'global_timestamp': None, u'hash': u'5e1a48ce6835204474aaaad1c9181958', u'htype': u'bsr_m-1.0', u'pulse_id': 720492}\n",
        "[1.0901004355603305, 0.34036070498271231] [1429623865125, 1429623865130] {u'global_timestamp': None, u'hash': u'5e1a48ce6835204474aaaad1c9181958', u'htype': u'bsr_m-1.0', u'pulse_id': 720493}\n",
        "[0.51684408772416246, 1.1089780011251156] [1429623865136, 1429623865141] {u'global_timestamp': None, u'hash': u'5e1a48ce6835204474aaaad1c9181958', u'htype': u'bsr_m-1.0', u'pulse_id': 720494}\n",
        "[-0.43965679199059826, 1.0418851149999127] [1429623865145, 1429623865150] {u'global_timestamp': None, u'hash': u'5e1a48ce6835204474aaaad1c9181958', u'htype': u'bsr_m-1.0', u'pulse_id': 720495}\n",
        "[-0.89999970590400902, 0.20076693669591794] [1429623865155, 1429623865161] {u'global_timestamp': None, u'hash': u'5e1a48ce6835204474aaaad1c9181958', u'htype': u'bsr_m-1.0', u'pulse_id': 720496}\n",
        "[-0.44094750194419696, -0.64105635966939389] [1429623865165, 1429623865170] {u'global_timestamp': None, u'hash': u'5e1a48ce6835204474aaaad1c9181958', u'htype': u'bsr_m-1.0', u'pulse_id': 720497}\n",
        "[0.51544934059588976, -0.70961631768479205]"
       ]
      },
      {
       "output_type": "stream",
       "stream": "stderr",
       "text": [
        "\u001b[2J\u001b[H\u001b[2J\u001b[H\u001b[2J\u001b[H\u001b[2J\u001b[H\u001b[2J\u001b[H\u001b[2J\u001b[H\u001b[2J\u001b[H"
       ]
      },
      {
       "output_type": "stream",
       "stream": "stdout",
       "text": [
        " [1429623865175, 1429623865180] {u'global_timestamp': None, u'hash': u'5e1a48ce6835204474aaaad1c9181958', u'htype': u'bsr_m-1.0', u'pulse_id': 720498}\n",
        "[1.0898839753349117, 0.058120771868635124] [1429623865185, 1429623865190] {u'global_timestamp': None, u'hash': u'5e1a48ce6835204474aaaad1c9181958', u'htype': u'bsr_m-1.0', u'pulse_id': 720499}\n",
        "[0.75422384823485733, 0.95630096945645549] [1429623865195, 1429623865200] {u'global_timestamp': None, u'hash': u'5e1a48ce6835204474aaaad1c9181958', u'htype': u'bsr_m-1.0', u'pulse_id': 720500}\n",
        "[-0.18292666782446906, 1.1591415435866297] [1429623865206, 1429623865211] {u'global_timestamp': None, u'hash': u'5e1a48ce6835204474aaaad1c9181958', u'htype': u'bsr_m-1.0', u'pulse_id': 720501}\n",
        "[-0.85995571026915707, 0.48015180585111022] [1429623865216, 1429623865221] {u'global_timestamp': None, u'hash': u'5e1a48ce6835204474aaaad1c9181958', u'htype': u'bsr_m-1.0', u'pulse_id': 720502}\n",
        "[-0.65440589975495778, -0.45640821019767314]"
       ]
      },
      {
       "output_type": "stream",
       "stream": "stderr",
       "text": [
        "\u001b[2J\u001b[H\u001b[2J\u001b[H\u001b[2J\u001b[H\u001b[2J\u001b[H\u001b[2J\u001b[H\u001b[2J\u001b[H\u001b[2J\u001b[H"
       ]
      },
      {
       "output_type": "stream",
       "stream": "stdout",
       "text": [
        " [1429623865225, 1429623865230] {u'global_timestamp': None, u'hash': u'5e1a48ce6835204474aaaad1c9181958', u'htype': u'bsr_m-1.0', u'pulse_id': 720503}\n",
        "[0.24474121587289241, -0.78946954497227284] [1429623865235, 1429623865241] {u'global_timestamp': None, u'hash': u'5e1a48ce6835204474aaaad1c9181958', u'htype': u'bsr_m-1.0', u'pulse_id': 720504}\n",
        "[1.0108139251355217, -0.21281714327196288] [1429623865245, 1429623865251] {u'global_timestamp': None, u'hash': u'5e1a48ce6835204474aaaad1c9181958', u'htype': u'bsr_m-1.0', u'pulse_id': 720505}\n",
        "[0.93948851206217465, 0.74337743614879348] [1429623865256, 1429623865260] {u'global_timestamp': None, u'hash': u'5e1a48ce6835204474aaaad1c9181958', u'htype': u'bsr_m-1.0', u'pulse_id': 720506}\n",
        "[0.096341232498491525, 1.1999933066877848] [1429623865265, 1429623865270] {u'global_timestamp': None, u'hash': u'5e1a48ce6835204474aaaad1c9181958', u'htype': u'bsr_m-1.0', u'pulse_id': 720507}\n",
        "[-0.74344219309757553, 0.7372199427634385] [1429623865275, 1429623865281] {u'global_timestamp': None, u'hash': u'5e1a48ce6835204474aaaad1c9181958', u'htype': u'bsr_m-1.0', u'pulse_id': 720508}\n",
        "[-0.80776875609269316, -0.21947095902091307]"
       ]
      },
      {
       "output_type": "stream",
       "stream": "stderr",
       "text": [
        "\u001b[2J\u001b[H\u001b[2J\u001b[H\u001b[2J\u001b[H\u001b[2J\u001b[H\u001b[2J\u001b[H\u001b[2J\u001b[H"
       ]
      },
      {
       "output_type": "stream",
       "stream": "stdout",
       "text": [
        " [1429623865285, 1429623865290] {u'global_timestamp': None, u'hash': u'5e1a48ce6835204474aaaad1c9181958', u'htype': u'bsr_m-1.0', u'pulse_id': 720509}\n",
        "[-0.037496911126294497, -0.79050219557087709] [1429623865295, 1429623865300] {u'global_timestamp': None, u'hash': u'5e1a48ce6835204474aaaad1c9181958', u'htype': u'bsr_m-1.0', u'pulse_id': 720510}\n",
        "[0.859188959830126, -0.45087028144788682] [1429623865305, 1429623865310] {u'global_timestamp': None, u'hash': u'5e1a48ce6835204474aaaad1c9181958', u'htype': u'bsr_m-1.0', u'pulse_id': 720511}\n",
        "[1.0578800022979977, 0.48716876779620039] [1429623865315, 1429623865320] {u'global_timestamp': None, u'hash': u'5e1a48ce6835204474aaaad1c9181958', u'htype': u'bsr_m-1.0', u'pulse_id': 720512}\n",
        "[0.37590058814304816, 1.1611861762750857] [1429623865325, 1429623865330] {u'global_timestamp': None, u'hash': u'5e1a48ce6835204474aaaad1c9181958', u'htype': u'bsr_m-1.0', u'pulse_id': 720513}\n",
        "[-0.55974055436986792, 0.95149344702381766]"
       ]
      },
      {
       "output_type": "stream",
       "stream": "stderr",
       "text": [
        "\u001b[2J\u001b[H\u001b[2J\u001b[H\u001b[2J\u001b[H\u001b[2J\u001b[H\u001b[2J\u001b[H\u001b[2J\u001b[H"
       ]
      },
      {
       "output_type": "stream",
       "stream": "stdout",
       "text": [
        " [1429623865335, 1429623865340] {u'global_timestamp': None, u'hash': u'5e1a48ce6835204474aaaad1c9181958', u'htype': u'bsr_m-1.0', u'pulse_id': 720514}\n",
        "[-0.88881927374457703, 0.050881108268445052] [1429623865346, 1429623865351] {u'global_timestamp': None, u'hash': u'5e1a48ce6835204474aaaad1c9181958', u'htype': u'bsr_m-1.0', u'pulse_id': 720515}\n",
        "[-0.30878211301224057, -0.71263200912593883] [1429623865356, 1429623865360] {u'global_timestamp': None, u'hash': u'5e1a48ce6835204474aaaad1c9181958', u'htype': u'bsr_m-1.0', u'pulse_id': 720516}\n",
        "[0.64708743722824891, -0.63707546614808086] [1429623865365, 1429623865371] {u'global_timestamp': None, u'hash': u'5e1a48ce6835204474aaaad1c9181958', u'htype': u'bsr_m-1.0', u'pulse_id': 720517}\n",
        "[1.0999673207040688, 0.20808440003502685] [1429623865375, 1429623865380] {u'global_timestamp': None, u'hash': u'5e1a48ce6835204474aaaad1c9181958', u'htype': u'bsr_m-1.0', u'pulse_id': 720518}\n",
        "[0.63348186111013882, 1.0458115061090518] [1429623865385, 1429623865390] {u'global_timestamp': None, u'hash': u'5e1a48ce6835204474aaaad1c9181958', u'htype': u'bsr_m-1.0', u'pulse_id': 720519}\n",
        "[-0.32348436131079927, 1.1059034141260229]"
       ]
      },
      {
       "output_type": "stream",
       "stream": "stdout",
       "text": [
        " [1429623865396, 1429623865401] {u'global_timestamp': None, u'hash': u'5e1a48ce6835204474aaaad1c9181958', u'htype': u'bsr_m-1.0', u'pulse_id': 720520}\n",
        "[-0.89110101494078142, 0.33311190098316906] [1429623865405, 1429623865411] {u'global_timestamp': None, u'hash': u'5e1a48ce6835204474aaaad1c9181958', u'htype': u'bsr_m-1.0', u'pulse_id': 720521}\n",
        "[-0.54750396613071628, -0.56206208004662739] [1429623865415, 1429623865421] {u'global_timestamp': None, u'hash': u'5e1a48ce6835204474aaaad1c9181958', u'htype': u'bsr_m-1.0', u'pulse_id': 720522}\n",
        "[0.39140524302239776, -0.75659969911089631] [1429623865426, 1429623865430] {u'global_timestamp': None, u'hash': u'5e1a48ce6835204474aaaad1c9181958', u'htype': u'bsr_m-1.0', u'pulse_id': 720523}\n",
        "[1.0623978156248506, -0.071643966398144465] [1429623865435, 1429623865441] {u'global_timestamp': None, u'hash': u'5e1a48ce6835204474aaaad1c9181958', u'htype': u'bsr_m-1.0', u'pulse_id': 720524}\n",
        "[0.84856627486673719, 0.8630599762707265]"
       ]
      },
      {
       "output_type": "stream",
       "stream": "stderr",
       "text": [
        "\u001b[2J\u001b[H\u001b[2J\u001b[H\u001b[2J\u001b[H\u001b[2J\u001b[H\u001b[2J\u001b[H\u001b[2J\u001b[H\u001b[2J\u001b[H"
       ]
      },
      {
       "output_type": "stream",
       "stream": "stdout",
       "text": [
        " [1429623865446, 1429623865451] {u'global_timestamp': None, u'hash': u'5e1a48ce6835204474aaaad1c9181958', u'htype': u'bsr_m-1.0', u'pulse_id': 720525}\n",
        "[-0.053493646813606827, 1.1881496346140394] [1429623865455, 1429623865460] {u'global_timestamp': None, u'hash': u'5e1a48ce6835204474aaaad1c9181958', u'htype': u'bsr_m-1.0', u'pulse_id': 720526}\n",
        "[-0.81443221748574057, 0.60473907597872412] [1429623865466, 1429623865470] {u'global_timestamp': None, u'hash': u'5e1a48ce6835204474aaaad1c9181958', u'htype': u'bsr_m-1.0', u'pulse_id': 720527}\n",
        "[-0.73464602452171679, -0.3507867225615498] [1429623865476, 1429623865481] {u'global_timestamp': None, u'hash': u'5e1a48ce6835204474aaaad1c9181958', u'htype': u'bsr_m-1.0', u'pulse_id': 720528}\n",
        "[0.11250987422022155, -0.79992174846184549] [1429623865485, 1429623865491] {u'global_timestamp': None, u'hash': u'5e1a48ce6835204474aaaad1c9181958', u'htype': u'bsr_m-1.0', u'pulse_id': 720529}\n",
        "[0.94816425229632895, -0.32973333020172441] [1429623865496, 1429623865500] {u'global_timestamp': None, u'hash': u'5e1a48ce6835204474aaaad1c9181958', u'htype': u'bsr_m-1.0', u'pulse_id': 720530}\n",
        "[1.0040203283210449, 0.62748946885544488]"
       ]
      },
      {
       "output_type": "stream",
       "stream": "stderr",
       "text": [
        "\u001b[2J\u001b[H\u001b[2J\u001b[H\u001b[2J\u001b[H\u001b[2J\u001b[H\u001b[2J\u001b[H\u001b[2J\u001b[H"
       ]
      },
      {
       "output_type": "stream",
       "stream": "stdout",
       "text": [
        " [1429623865506, 1429623865511] {u'global_timestamp': None, u'hash': u'5e1a48ce6835204474aaaad1c9181958', u'htype': u'bsr_m-1.0', u'pulse_id': 720531}\n",
        "[0.22872428359073749, 1.1916804217156107] [1429623865515, 1429623865521] {u'global_timestamp': None, u'hash': u'5e1a48ce6835204474aaaad1c9181958', u'htype': u'bsr_m-1.0', u'pulse_id': 720532}\n",
        "[-0.66492027383044527, 0.84412496821902239] [1429623865526, 1429623865530] {u'global_timestamp': None, u'hash': u'5e1a48ce6835204474aaaad1c9181958', u'htype': u'bsr_m-1.0', u'pulse_id': 720533}\n",
        "[-0.85530065910249431, -0.095636010523650505] [1429623865536, 1429623865541] {u'global_timestamp': None, u'hash': u'5e1a48ce6835204474aaaad1c9181958', u'htype': u'bsr_m-1.0', u'pulse_id': 720534}\n",
        "[-0.16738202399041743, -0.76359060458619443] [1429623865545, 1429623865551] {u'global_timestamp': None, u'hash': u'5e1a48ce6835204474aaaad1c9181958', u'htype': u'bsr_m-1.0', u'pulse_id': 720535}\n",
        "[0.76636641088306867, -0.54562444061794091] [1429623865555, 1429623865561] {u'global_timestamp': None, u'hash': u'5e1a48ce6835204474aaaad1c9181958', u'htype': u'bsr_m-1.0', u'pulse_id': 720536}\n",
        "[1.0874606406968139, 0.35786539543116391]"
       ]
      },
      {
       "output_type": "stream",
       "stream": "stderr",
       "text": [
        "\u001b[2J\u001b[H\u001b[2J\u001b[H\u001b[2J\u001b[H\u001b[2J\u001b[H\u001b[2J\u001b[H\u001b[2J\u001b[H\u001b[2J\u001b[H"
       ]
      },
      {
       "output_type": "stream",
       "stream": "stdout",
       "text": [
        " [1429623865565, 1429623865570] {u'global_timestamp': None, u'hash': u'5e1a48ce6835204474aaaad1c9181958', u'htype': u'bsr_m-1.0', u'pulse_id': 720537}\n",
        "[0.50068811136196967, 1.116214514954428] [1429623865576, 1429623865580] {u'global_timestamp': None, u'hash': u'5e1a48ce6835204474aaaad1c9181958', u'htype': u'bsr_m-1.0', u'pulse_id': 720538}\n",
        "[-0.45447521969116955, 1.0322002347683095] [1429623865586, 1429623865590] {u'global_timestamp': None, u'hash': u'5e1a48ce6835204474aaaad1c9181958', u'htype': u'bsr_m-1.0', u'pulse_id': 720539}\n",
        "[-0.89985659085373426, 0.18306489662422154] [1429623865596, 1429623865600] {u'global_timestamp': None, u'hash': u'5e1a48ce6835204474aaaad1c9181958', u'htype': u'bsr_m-1.0', u'pulse_id': 720540}\n",
        "[-0.42597442346028991, -0.65050038557640621] [1429623865605, 1429623865611] {u'global_timestamp': None, u'hash': u'5e1a48ce6835204474aaaad1c9181958', u'htype': u'bsr_m-1.0', u'pulse_id': 720541}\n",
        "[0.53148620320721429, -0.70211953556156992]"
       ]
      },
      {
       "output_type": "stream",
       "stream": "stderr",
       "text": [
        "\u001b[2J\u001b[H\u001b[2J\u001b[H\u001b[2J\u001b[H\u001b[2J\u001b[H\u001b[2J\u001b[H\u001b[2J\u001b[H"
       ]
      },
      {
       "output_type": "stream",
       "stream": "stdout",
       "text": [
        " [1429623865615, 1429623865621] {u'global_timestamp': None, u'hash': u'5e1a48ce6835204474aaaad1c9181958', u'htype': u'bsr_m-1.0', u'pulse_id': 720542}\n",
        "[1.092240404546583, 0.075665855111183233] [1429623865626, 1429623865630] {u'global_timestamp': None, u'hash': u'5e1a48ce6835204474aaaad1c9181958', u'htype': u'bsr_m-1.0', u'pulse_id': 720543}\n",
        "[0.74073335389689487, 0.96776348519842781] [1429623865635, 1429623865641] {u'global_timestamp': None, u'hash': u'5e1a48ce6835204474aaaad1c9181958', u'htype': u'bsr_m-1.0', u'pulse_id': 720544}\n",
        "[-0.19986098743234473, 1.1539829077169566] [1429623865646, 1429623865650] {u'global_timestamp': None, u'hash': u'5e1a48ce6835204474aaaad1c9181958', u'htype': u'bsr_m-1.0', u'pulse_id': 720545}\n",
        "[-0.86476451979608127, 0.46311484439810097] [1429623865656, 1429623865661] {u'global_timestamp': None, u'hash': u'5e1a48ce6835204474aaaad1c9181958', u'htype': u'bsr_m-1.0', u'pulse_id': 720546}\n",
        "[-0.64266800189883766, -0.46965979344409509]"
       ]
      },
      {
       "output_type": "stream",
       "stream": "stderr",
       "text": [
        "\u001b[2J\u001b[H\u001b[2J\u001b[H\u001b[2J\u001b[H\u001b[2J\u001b[H\u001b[2J\u001b[H\u001b[2J\u001b[H\u001b[2J\u001b[H"
       ]
      },
      {
       "output_type": "stream",
       "stream": "stdout",
       "text": [
        " [1429623865665, 1429623865671] {u'global_timestamp': None, u'hash': u'5e1a48ce6835204474aaaad1c9181958', u'htype': u'bsr_m-1.0', u'pulse_id': 720547}\n",
        "[0.26223405195522931, -0.78675230548815445] [1429623865675, 1429623865681] {u'global_timestamp': None, u'hash': u'5e1a48ce6835204474aaaad1c9181958', u'htype': u'bsr_m-1.0', u'pulse_id': 720548}\n",
        "[1.0179788666223215, -0.19662929850781058] [1429623865685, 1429623865691] {u'global_timestamp': None, u'hash': u'5e1a48ce6835204474aaaad1c9181958', u'htype': u'bsr_m-1.0', u'pulse_id': 720549}\n",
        "[0.92973814479329431, 0.75815285637088881] [1429623865695, 1429623865701] {u'global_timestamp': None, u'hash': u'5e1a48ce6835204474aaaad1c9181958', u'htype': u'bsr_m-1.0', u'pulse_id': 720550}\n",
        "[0.078639999174817093, 1.1997718491559703] [1429623865706, 1429623865710] {u'global_timestamp': None, u'hash': u'5e1a48ce6835204474aaaad1c9181958', u'htype': u'bsr_m-1.0', u'pulse_id': 720551}\n",
        "[-0.75281986019167779, 0.7222052145111606] [1429623865715, 1429623865720] {u'global_timestamp': None, u'hash': u'5e1a48ce6835204474aaaad1c9181958', u'htype': u'bsr_m-1.0', u'pulse_id': 720552}\n",
        "[-0.80020107307823318, -0.23547448608247712]"
       ]
      },
      {
       "output_type": "stream",
       "stream": "stdout",
       "text": [
        " [1429623865725, 1429623865731] {u'global_timestamp': None, u'hash': u'5e1a48ce6835204474aaaad1c9181958', u'htype': u'bsr_m-1.0', u'pulse_id': 720553}\n",
        "[-0.019941570866608457, -0.7927809524653715] [1429623865736, 1429623865741] {u'global_timestamp': None, u'hash': u'5e1a48ce6835204474aaaad1c9181958', u'htype': u'bsr_m-1.0', u'pulse_id': 720554}\n",
        "[0.87059165846088227, -0.4373291895955394] [1429623865745, 1429623865750] {u'global_timestamp': None, u'hash': u'5e1a48ce6835204474aaaad1c9181958', u'htype': u'bsr_m-1.0', u'pulse_id': 720555}\n",
        "[1.0526464707649459, 0.50408009099428608] [1429623865756, 1429623865760] {u'global_timestamp': None, u'hash': u'5e1a48ce6835204474aaaad1c9181958', u'htype': u'bsr_m-1.0', u'pulse_id': 720556}\n",
        "[0.35884251120200883, 1.1659195382611525] [1429623865765, 1429623865770] {u'global_timestamp': None, u'hash': u'5e1a48ce6835204474aaaad1c9181958', u'htype': u'bsr_m-1.0', u'pulse_id': 720557}\n",
        "[-0.57294005944665549, 0.93969701661689276]"
       ]
      },
      {
       "output_type": "stream",
       "stream": "stderr",
       "text": [
        "\u001b[2J\u001b[H\u001b[2J\u001b[H\u001b[2J\u001b[H\u001b[2J\u001b[H\u001b[2J\u001b[H\u001b[2J\u001b[H"
       ]
      },
      {
       "output_type": "stream",
       "stream": "stdout",
       "text": [
        " [1429623865775, 1429623865781] {u'global_timestamp': None, u'hash': u'5e1a48ce6835204474aaaad1c9181958', u'htype': u'bsr_m-1.0', u'pulse_id': 720558}\n",
        "[-0.88602464286215077, 0.033400469182629317] [1429623865785, 1429623865790] {u'global_timestamp': None, u'hash': u'5e1a48ce6835204474aaaad1c9181958', u'htype': u'bsr_m-1.0', u'pulse_id': 720559}\n",
        "[-0.2925627169158026, -0.71972523793124399] [1429623865795, 1429623865801] {u'global_timestamp': None, u'hash': u'5e1a48ce6835204474aaaad1c9181958', u'htype': u'bsr_m-1.0', u'pulse_id': 720560}\n",
        "[0.66181956056721092, -0.6272598028213785] [1429623865806, 1429623865811] {u'global_timestamp': None, u'hash': u'5e1a48ce6835204474aaaad1c9181958', u'htype': u'bsr_m-1.0', u'pulse_id': 720561}\n",
        "[1.0996675250283807, 0.22578447989841727] [1429623865816, 1429623865820] {u'global_timestamp': None, u'hash': u'5e1a48ce6835204474aaaad1c9181958', u'htype': u'bsr_m-1.0', u'pulse_id': 720562}\n",
        "[0.61842577718144975, 1.0551226307108295] [1429623865826, 1429623865830] {u'global_timestamp': None, u'hash': u'5e1a48ce6835204474aaaad1c9181958', u'htype': u'bsr_m-1.0', u'pulse_id': 720563}\n",
        "[-0.33945423936314123, 1.0982649784477645]"
       ]
      },
      {
       "output_type": "stream",
       "stream": "stderr",
       "text": [
        "\u001b[2J\u001b[H\u001b[2J\u001b[H\u001b[2J\u001b[H\u001b[2J\u001b[H\u001b[2J\u001b[H\u001b[2J\u001b[H\u001b[2J\u001b[H"
       ]
      },
      {
       "output_type": "stream",
       "stream": "stdout",
       "text": [
        " [1429623865835, 1429623865840] {u'global_timestamp': None, u'hash': u'5e1a48ce6835204474aaaad1c9181958', u'htype': u'bsr_m-1.0', u'pulse_id': 720564}\n",
        "[-0.89330205488431902, 0.31554664756101453] [1429623865845, 1429623865850] {u'global_timestamp': None, u'hash': u'5e1a48ce6835204474aaaad1c9181958', u'htype': u'bsr_m-1.0', u'pulse_id': 720565}\n",
        "[-0.53391254199197691, -0.57340473822266569] [1429623865855, 1429623865860] {u'global_timestamp': None, u'hash': u'5e1a48ce6835204474aaaad1c9181958', u'htype': u'bsr_m-1.0', u'pulse_id': 720566}\n",
        "[0.40829323857032096, -0.75129137442311711] [1429623865865, 1429623865870] {u'global_timestamp': None, u'hash': u'5e1a48ce6835204474aaaad1c9181958', u'htype': u'bsr_m-1.0', u'pulse_id': 720567}\n",
        "[1.0670556373581788, -0.054565108083898306] [1429623865875, 1429623865881] {u'global_timestamp': None, u'hash': u'5e1a48ce6835204474aaaad1c9181958', u'htype': u'bsr_m-1.0', u'pulse_id': 720568}\n",
        "[0.83671154296449401, 0.87620714464051219]"
       ]
      },
      {
       "output_type": "stream",
       "stream": "stderr",
       "text": [
        "\u001b[2J\u001b[H\u001b[2J\u001b[H\u001b[2J\u001b[H\u001b[2J\u001b[H\u001b[2J\u001b[H\u001b[2J\u001b[H\u001b[2J\u001b[H"
       ]
      },
      {
       "output_type": "stream",
       "stream": "stdout",
       "text": [
        " [1429623865885, 1429623865891] {u'global_timestamp': None, u'hash': u'5e1a48ce6835204474aaaad1c9181958', u'htype': u'bsr_m-1.0', u'pulse_id': 720569}\n",
        "[-0.070961746511396334, 1.1852776670714571] [1429623865895, 1429623865900] {u'global_timestamp': None, u'hash': u'5e1a48ce6835204474aaaad1c9181958', u'htype': u'bsr_m-1.0', u'pulse_id': 720570}\n",
        "[-0.82145359467519763, 0.58848844623766694] [1429623865905, 1429623865911] {u'global_timestamp': None, u'hash': u'5e1a48ce6835204474aaaad1c9181958', u'htype': u'bsr_m-1.0', u'pulse_id': 720571}\n",
        "[-0.72476525739559461, -0.36547526046077256] [1429623865915, 1429623865921] {u'global_timestamp': None, u'hash': u'5e1a48ce6835204474aaaad1c9181958', u'htype': u'bsr_m-1.0', u'pulse_id': 720572}\n",
        "[0.13020845393365854, -0.79954362051435157] [1429623865925, 1429623865930] {u'global_timestamp': None, u'hash': u'5e1a48ce6835204474aaaad1c9181958', u'htype': u'bsr_m-1.0', u'pulse_id': 720573}\n",
        "[0.95740865202972891, -0.31463618549861333] [1429623865935, 1429623865941] {u'global_timestamp': None, u'hash': u'5e1a48ce6835204474aaaad1c9181958', u'htype': u'bsr_m-1.0', u'pulse_id': 720574}\n",
        "[0.99631128959225346, 0.64342538509818259]"
       ]
      },
      {
       "output_type": "stream",
       "stream": "stderr",
       "text": [
        "\u001b[2J\u001b[H\u001b[2J\u001b[H\u001b[2J\u001b[H\u001b[2J\u001b[H\u001b[2J\u001b[H\u001b[2J\u001b[H\u001b[2J\u001b[H"
       ]
      },
      {
       "output_type": "stream",
       "stream": "stdout",
       "text": [
        " [1429623865946, 1429623865950] {u'global_timestamp': None, u'hash': u'5e1a48ce6835204474aaaad1c9181958', u'htype': u'bsr_m-1.0', u'pulse_id': 720575}\n",
        "[0.21114946105495197, 1.1938037015966452] [1429623865955, 1429623865960] {u'global_timestamp': None, u'hash': u'5e1a48ce6835204474aaaad1c9181958', u'htype': u'bsr_m-1.0', u'pulse_id': 720576}\n",
        "[-0.67620266938427032, 0.83048347800773747] [1429623865965, 1429623865970] {u'global_timestamp': None, u'hash': u'5e1a48ce6835204474aaaad1c9181958', u'htype': u'bsr_m-1.0', u'pulse_id': 720577}\n",
        "[-0.84991764523360513, -0.11250034763795497] [1429623865975, 1429623865981] {u'global_timestamp': None, u'hash': u'5e1a48ce6835204474aaaad1c9181958', u'htype': u'bsr_m-1.0', u'pulse_id': 720578}\n",
        "[-0.15028271882483032, -0.76817279483450207] [1429623865985, 1429623865991] {u'global_timestamp': None, u'hash': u'5e1a48ce6835204474aaaad1c9181958', u'htype': u'bsr_m-1.0', u'pulse_id': 720579}\n",
        "[0.77946098503359895, -0.53371163941781075] [1429623865996, 1429623866000] {u'global_timestamp': None, u'hash': u'5e1a48ce6835204474aaaad1c9181958', u'htype': u'bsr_m-1.0', u'pulse_id': 720580}\n",
        "[1.0845113927470125, 0.37532061359502977]"
       ]
      },
      {
       "output_type": "stream",
       "stream": "stderr",
       "text": [
        "\u001b[2J\u001b[H\u001b[2J\u001b[H\u001b[2J\u001b[H\u001b[2J\u001b[H\u001b[2J\u001b[H\u001b[2J\u001b[H"
       ]
      },
      {
       "output_type": "stream",
       "stream": "stdout",
       "text": [
        " [1429623866005, 1429623866010] {u'global_timestamp': None, u'hash': u'5e1a48ce6835204474aaaad1c9181958', u'htype': u'bsr_m-1.0', u'pulse_id': 720581}\n",
        "[0.4844065662757302, 1.1231639030010341] [1429623866016, 1429623866021] {u'global_timestamp': None, u'hash': u'5e1a48ce6835204474aaaad1c9181958', u'htype': u'bsr_m-1.0', u'pulse_id': 720582}\n",
        "[-0.46911988444775066, 1.0222545573763511] [1429623866026, 1429623866031] {u'global_timestamp': None, u'hash': u'5e1a48ce6835204474aaaad1c9181958', u'htype': u'bsr_m-1.0', u'pulse_id': 720583}\n",
        "[-0.89940013804078811, 0.16536816372102403] [1429623866035, 1429623866041] {u'global_timestamp': None, u'hash': u'5e1a48ce6835204474aaaad1c9181958', u'htype': u'bsr_m-1.0', u'pulse_id': 720584}\n",
        "[-0.41083651368899921, -0.65967787937230815] [1429623866045, 1429623866050] {u'global_timestamp': None, u'hash': u'5e1a48ce6835204474aaaad1c9181958', u'htype': u'bsr_m-1.0', u'pulse_id': 720585}\n",
        "[0.5473878455051725, -0.69434004477840516]"
       ]
      },
      {
       "output_type": "stream",
       "stream": "stdout",
       "text": [
        " [1429623866055, 1429623866061] {u'global_timestamp': None, u'hash': u'5e1a48ce6835204474aaaad1c9181958', u'htype': u'bsr_m-1.0', u'pulse_id': 720586}\n",
        "[1.0942858827766466, 0.093249902524332906] [1429623866065, 1429623866070] {u'global_timestamp': None, u'hash': u'5e1a48ce6835204474aaaad1c9181958', u'htype': u'bsr_m-1.0', u'pulse_id': 720587}\n",
        "[0.72704206480754963, 0.97898539714290211] [1429623866075, 1429623866080] {u'global_timestamp': None, u'hash': u'5e1a48ce6835204474aaaad1c9181958', u'htype': u'bsr_m-1.0', u'pulse_id': 720588}\n",
        "[-0.21670133579296955, 1.1485253101035042] [1429623866085, 1429623866091] {u'global_timestamp': None, u'hash': u'5e1a48ce6835204474aaaad1c9181958', u'htype': u'bsr_m-1.0', u'pulse_id': 720589}\n",
        "[-0.86927098880847253, 0.44599542730352915] [1429623866095, 1429623866101] {u'global_timestamp': None, u'hash': u'5e1a48ce6835204474aaaad1c9181958', u'htype': u'bsr_m-1.0', u'pulse_id': 720590}\n",
        "[-0.63069736473564963, -0.48270151689327384]"
       ]
      },
      {
       "output_type": "stream",
       "stream": "stderr",
       "text": [
        "\u001b[2J\u001b[H\u001b[2J\u001b[H\u001b[2J\u001b[H\u001b[2J\u001b[H\u001b[2J\u001b[H\u001b[2J\u001b[H"
       ]
      },
      {
       "output_type": "stream",
       "stream": "stdout",
       "text": [
        " [1429623866106, 1429623866111] {u'global_timestamp': None, u'hash': u'5e1a48ce6835204474aaaad1c9181958', u'htype': u'bsr_m-1.0', u'pulse_id': 720591}\n",
        "[0.27967604669158341, -0.78372583489775449] [1429623866116, 1429623866120] {u'global_timestamp': None, u'hash': u'5e1a48ce6835204474aaaad1c9181958', u'htype': u'bsr_m-1.0', u'pulse_id': 720592}\n",
        "[1.0248561294091176, -0.18031715698136136] [1429623866125, 1429623866131] {u'global_timestamp': None, u'hash': u'5e1a48ce6835204474aaaad1c9181958', u'htype': u'bsr_m-1.0', u'pulse_id': 720593}\n",
        "[0.9197277519404744, 0.77275336114126469] [1429623866135, 1429623866141] {u'global_timestamp': None, u'hash': u'5e1a48ce6835204474aaaad1c9181958', u'htype': u'bsr_m-1.0', u'pulse_id': 720594}\n",
        "[0.060945459705971872, 1.1992370804180668] [1429623866146, 1429623866150] {u'global_timestamp': None, u'hash': u'5e1a48ce6835204474aaaad1c9181958', u'htype': u'bsr_m-1.0', u'pulse_id': 720595}\n",
        "[-0.76193026829144161, 0.70702683617639384] [1429623866155, 1429623866161] {u'global_timestamp': None, u'hash': u'5e1a48ce6835204474aaaad1c9181958', u'htype': u'bsr_m-1.0', u'pulse_id': 720596}\n",
        "[-0.79235128261679222, -0.25134154297180072]"
       ]
      },
      {
       "output_type": "stream",
       "stream": "stderr",
       "text": [
        "\u001b[2J\u001b[H\u001b[2J\u001b[H\u001b[2J\u001b[H\u001b[2J\u001b[H\u001b[2J\u001b[H\u001b[2J\u001b[H\u001b[2J\u001b[H"
       ]
      },
      {
       "output_type": "stream",
       "stream": "stdout",
       "text": [
        " [1429623866165, 1429623866170] {u'global_timestamp': None, u'hash': u'5e1a48ce6835204474aaaad1c9181958', u'htype': u'bsr_m-1.0', u'pulse_id': 720597}\n",
        "[-0.0023486429930481695, -0.79474858897988976] [1429623866176, 1429623866180] {u'global_timestamp': None, u'hash': u'5e1a48ce6835204474aaaad1c9181958', u'htype': u'bsr_m-1.0', u'pulse_id': 720598}\n",
        "[0.88175286699355426, -0.42358836979802478] [1429623866185, 1429623866190] {u'global_timestamp': None, u'hash': u'5e1a48ce6835204474aaaad1c9181958', u'htype': u'bsr_m-1.0', u'pulse_id': 720599}\n",
        "[1.0471143963043412, 0.52089612075103564] [1429623866195, 1429623866200] {u'global_timestamp': None, u'hash': u'5e1a48ce6835204474aaaad1c9181958', u'htype': u'bsr_m-1.0', u'pulse_id': 720600}\n",
        "[0.34170331749473903, 1.170350197769876] [1429623866205, 1429623866211] {u'global_timestamp': None, u'hash': u'5e1a48ce6835204474aaaad1c9181958', u'htype': u'bsr_m-1.0', u'pulse_id': 720601}\n",
        "[-0.5859286767475681, 0.92766877795830305]"
       ]
      },
      {
       "output_type": "stream",
       "stream": "stderr",
       "text": [
        "\u001b[2J\u001b[H\u001b[2J\u001b[H\u001b[2J\u001b[H\u001b[2J\u001b[H\u001b[2J\u001b[H\u001b[2J\u001b[H"
       ]
      },
      {
       "output_type": "stream",
       "stream": "stdout",
       "text": [
        " [1429623866215, 1429623866220] {u'global_timestamp': None, u'hash': u'5e1a48ce6835204474aaaad1c9181958', u'htype': u'bsr_m-1.0', u'pulse_id': 720602}\n",
        "[-0.88292100891032477, 0.015972039508369118] [1429623866225, 1429623866230] {u'global_timestamp': None, u'hash': u'5e1a48ce6835204474aaaad1c9181958', u'htype': u'bsr_m-1.0', u'pulse_id': 720603}\n",
        "[-0.27622029845340546, -0.72653024075398132] [1429623866235, 1429623866241] {u'global_timestamp': None, u'hash': u'5e1a48ce6835204474aaaad1c9181958', u'htype': u'bsr_m-1.0', u'pulse_id': 720604}\n",
        "[0.67637561937277535, -0.61718489058024661] [1429623866246, 1429623866250] {u'global_timestamp': None, u'hash': u'5e1a48ce6835204474aaaad1c9181958', u'htype': u'bsr_m-1.0', u'pulse_id': 720605}\n",
        "[1.0990544508399811, 0.24347647935175995] [1429623866255, 1429623866260] {u'global_timestamp': None, u'hash': u'5e1a48ce6835204474aaaad1c9181958', u'htype': u'bsr_m-1.0', u'pulse_id': 720606}\n",
        "[0.60320722758056411, 1.0641657746698154] [1429623866266, 1429623866270] {u'global_timestamp': None, u'hash': u'5e1a48ce6835204474aaaad1c9181958', u'htype': u'bsr_m-1.0', u'pulse_id': 720607}\n",
        "[-0.35528640005739587, 1.0903450420610972]"
       ]
      },
      {
       "output_type": "stream",
       "stream": "stderr",
       "text": [
        "\u001b[2J\u001b[H\u001b[2J\u001b[H\u001b[2J\u001b[H\u001b[2J\u001b[H\u001b[2J\u001b[H\u001b[2J\u001b[H"
       ]
      },
      {
       "output_type": "stream",
       "stream": "stdout",
       "text": [
        " [1429623866275, 1429623866281] {u'global_timestamp': None, u'hash': u'5e1a48ce6835204474aaaad1c9181958', u'htype': u'bsr_m-1.0', u'pulse_id': 720608}\n",
        "[-0.89519181114339486, 0.29794518381793778] [1429623866285, 1429623866291] {u'global_timestamp': None, u'hash': u'5e1a48ce6835204474aaaad1c9181958', u'htype': u'bsr_m-1.0', u'pulse_id': 720609}\n",
        "[-0.52012246062633705, -0.58450502473007604] [1429623866295, 1429623866300] {u'global_timestamp': None, u'hash': u'5e1a48ce6835204474aaaad1c9181958', u'htype': u'bsr_m-1.0', u'pulse_id': 720610}\n",
        "[0.4250846203493257, -0.74568493147154191] [1429623866306, 1429623866310] {u'global_timestamp': None, u'hash': u'5e1a48ce6835204474aaaad1c9181958', u'htype': u'bsr_m-1.0', u'pulse_id': 720611}\n",
        "[1.071410400580356, -0.037406473467579499] [1429623866315, 1429623866320] {u'global_timestamp': None, u'hash': u'5e1a48ce6835204474aaaad1c9181958', u'htype': u'bsr_m-1.0', u'pulse_id': 720612}\n",
        "[0.82462593840639342, 0.88914240138642864]"
       ]
      },
      {
       "output_type": "stream",
       "stream": "stderr",
       "text": [
        "\u001b[2J\u001b[H\u001b[2J\u001b[H\u001b[2J\u001b[H\u001b[2J\u001b[H\u001b[2J\u001b[H\u001b[2J\u001b[H\u001b[2J\u001b[H"
       ]
      },
      {
       "output_type": "stream",
       "stream": "stdout",
       "text": [
        " [1429623866325, 1429623866332] {u'global_timestamp': None, u'hash': u'5e1a48ce6835204474aaaad1c9181958', u'htype': u'bsr_m-1.0', u'pulse_id': 720613}\n",
        "[-0.088376269754677939, 1.1820969305487685] [1429623866335, 1429623866340] {u'global_timestamp': None, u'hash': u'5e1a48ce6835204474aaaad1c9181958', u'htype': u'bsr_m-1.0', u'pulse_id': 720614}\n",
        "[-0.82818620424497591, 0.5721160709366151] [1429623866345, 1429623866350] {u'global_timestamp': None, u'hash': u'5e1a48ce6835204474aaaad1c9181958', u'htype': u'bsr_m-1.0', u'pulse_id': 720615}\n",
        "[-0.71462602310243517, -0.3799865881934778] [1429623866355, 1429623866360] {u'global_timestamp': None, u'hash': u'5e1a48ce6835204474aaaad1c9181958', u'htype': u'bsr_m-1.0', u'pulse_id': 720616}\n",
        "[0.14789756684009953, -0.79885225288367767] [1429623866366, 1429623866370] {u'global_timestamp': None, u'hash': u'5e1a48ce6835204474aaaad1c9181958', u'htype': u'bsr_m-1.0', u'pulse_id': 720617}\n",
        "[0.96638435472079331, -0.29937776271579664] [1429623866375, 1429623866381] {u'global_timestamp': None, u'hash': u'5e1a48ce6835204474aaaad1c9181958', u'htype': u'bsr_m-1.0', u'pulse_id': 720618}\n",
        "[0.98832136240735036, 0.65922233949444231]"
       ]
      },
      {
       "output_type": "stream",
       "stream": "stderr",
       "text": [
        "\u001b[2J\u001b[H\u001b[2J\u001b[H\u001b[2J\u001b[H\u001b[2J\u001b[H\u001b[2J\u001b[H\u001b[2J\u001b[H\u001b[2J\u001b[H"
       ]
      },
      {
       "output_type": "stream",
       "stream": "stdout",
       "text": [
        " [1429623866385, 1429623866390] {u'global_timestamp': None, u'hash': u'5e1a48ce6835204474aaaad1c9181958', u'htype': u'bsr_m-1.0', u'pulse_id': 720619}\n",
        "[0.19353980620044431, 1.1956155405858144] [1429623866395, 1429623866401] {u'global_timestamp': None, u'hash': u'5e1a48ce6835204474aaaad1c9181958', u'htype': u'bsr_m-1.0', u'pulse_id': 720620}\n",
        "[-0.6872418164462325, 0.81664440517889769] [1429623866405, 1429623866411] {u'global_timestamp': None, u'hash': u'5e1a48ce6835204474aaaad1c9181958', u'htype': u'bsr_m-1.0', u'pulse_id': 720621}\n",
        "[-0.84423694360388868, -0.12926675254812275] [1429623866416, 1429623866420] {u'global_timestamp': None, u'hash': u'5e1a48ce6835204474aaaad1c9181958', u'htype': u'bsr_m-1.0', u'pulse_id': 720622}\n",
        "[-0.13310497938389884, -0.77245157647382734] [1429623866425, 1429623866431] {u'global_timestamp': None, u'hash': u'5e1a48ce6835204474aaaad1c9181958', u'htype': u'bsr_m-1.0', u'pulse_id': 720623}\n",
        "[0.79234262786295717, -0.52156890567971037] [1429623866435, 1429623866440] {u'global_timestamp': None, u'hash': u'5e1a48ce6835204474aaaad1c9181958', u'htype': u'bsr_m-1.0', u'pulse_id': 720624}\n",
        "[1.0812536159542252, 0.39272088931083193]"
       ]
      },
      {
       "output_type": "stream",
       "stream": "stdout",
       "text": [
        " [1429623866445, 1429623866451] {u'global_timestamp': None, u'hash': u'5e1a48ce6835204474aaaad1c9181958', u'htype': u'bsr_m-1.0', u'pulse_id': 720625}\n",
        "[0.46800455482007852, 1.1298239874469123] [1429623866455, 1429623866461] {u'global_timestamp': None, u'hash': u'5e1a48ce6835204474aaaad1c9181958', u'htype': u'bsr_m-1.0', u'pulse_id': 720626}\n",
        "[-0.48358619687569193, 1.012051199627318] [1429623866465, 1429623866471] {u'global_timestamp': None, u'hash': u'5e1a48ce6835204474aaaad1c9181958', u'htype': u'bsr_m-1.0', u'pulse_id': 720627}\n",
        "[-0.89863049050958754, 0.14768228383634549] [1429623866476, 1429623866480] {u'global_timestamp': None, u'hash': u'5e1a48ce6835204474aaaad1c9181958', u'htype': u'bsr_m-1.0', u'pulse_id': 720628}\n",
        "[-0.39553851658943118, -0.6685859649892727] [1429623866486, 1429623866490] {u'global_timestamp': None, u'hash': u'5e1a48ce6835204474aaaad1c9181958', u'htype': u'bsr_m-1.0', u'pulse_id': 720629}\n",
        "[0.56314928419009336, -0.68628028329316004]"
       ]
      },
      {
       "output_type": "stream",
       "stream": "stderr",
       "text": [
        "\u001b[2J\u001b[H\u001b[2J\u001b[H\u001b[2J\u001b[H\u001b[2J\u001b[H\u001b[2J\u001b[H\u001b[2J\u001b[H\u001b[2J\u001b[H"
       ]
      },
      {
       "output_type": "stream",
       "stream": "stdout",
       "text": [
        " [1429623866495, 1429623866501] {u'global_timestamp': None, u'hash': u'5e1a48ce6835204474aaaad1c9181958', u'htype': u'bsr_m-1.0', u'pulse_id': 720630}\n",
        "[1.0960197690076028, 0.11086740357174768] [1429623866505, 1429623866511] {u'global_timestamp': None, u'hash': u'5e1a48ce6835204474aaaad1c9181958', u'htype': u'bsr_m-1.0', u'pulse_id': 720631}\n",
        "[0.71315427158002587, 0.98996318853676191] [1429623866515, 1429623866521] {u'global_timestamp': None, u'hash': u'5e1a48ce6835204474aaaad1c9181958', u'htype': u'bsr_m-1.0', u'pulse_id': 720632}\n",
        "[-0.23344243543242757, 1.1427704610629734] [1429623866525, 1429623866530] {u'global_timestamp': None, u'hash': u'5e1a48ce6835204474aaaad1c9181958', u'htype': u'bsr_m-1.0', u'pulse_id': 720633}\n",
        "[-0.87347370505688382, 0.42879891949662546] [1429623866535, 1429623866540] {u'global_timestamp': None, u'hash': u'5e1a48ce6835204474aaaad1c9181958', u'htype': u'bsr_m-1.0', u'pulse_id': 720634}\n",
        "[-0.61849773965604371, -0.4955292934946422] [1429623866546, 1429623866551] {u'global_timestamp': None, u'hash': u'5e1a48ce6835204474aaaad1c9181958', u'htype': u'bsr_m-1.0', u'pulse_id': 720635}\n",
        "[0.29706173406247027, -0.78039108164461202]"
       ]
      },
      {
       "output_type": "stream",
       "stream": "stderr",
       "text": [
        "\u001b[2J\u001b[H\u001b[2J\u001b[H\u001b[2J\u001b[H\u001b[2J\u001b[H\u001b[2J\u001b[H\u001b[2J\u001b[H"
       ]
      },
      {
       "output_type": "stream",
       "stream": "stdout",
       "text": [
        " [1429623866556, 1429623866560] {u'global_timestamp': None, u'hash': u'5e1a48ce6835204474aaaad1c9181958', u'htype': u'bsr_m-1.0', u'pulse_id': 720636}\n",
        "[1.0314435582806973, -0.16388583063564482] [1429623866566, 1429623866570] {u'global_timestamp': None, u'hash': u'5e1a48ce6835204474aaaad1c9181958', u'htype': u'bsr_m-1.0', u'pulse_id': 720637}\n",
        "[0.90946047058770119, 0.78717437491424747] [1429623866575, 1429623866581] {u'global_timestamp': None, u'hash': u'5e1a48ce6835204474aaaad1c9181958', u'htype': u'bsr_m-1.0', u'pulse_id': 720638}\n",
        "[0.0432631592545916, 1.1983891680613479] [1429623866585, 1429623866590] {u'global_timestamp': None, u'hash': u'5e1a48ce6835204474aaaad1c9181958', u'htype': u'bsr_m-1.0', u'pulse_id': 720639}\n",
        "[-0.77077056235253638, 0.69168956440039231] [1429623866595, 1429623866600] {u'global_timestamp': None, u'hash': u'5e1a48ce6835204474aaaad1c9181958', u'htype': u'bsr_m-1.0', u'pulse_id': 720640}\n",
        "[-0.7842218446969359, -0.26706715722768154] [1429623866605, 1429623866610] {u'global_timestamp': None, u'hash': u'5e1a48ce6835204474aaaad1c9181958', u'htype': u'bsr_m-1.0', u'pulse_id': 720641}\n",
        "[0.015276359175067228, -0.79640448849117895]"
       ]
      },
      {
       "output_type": "stream",
       "stream": "stderr",
       "text": [
        "\u001b[2J\u001b[H\u001b[2J\u001b[H\u001b[2J\u001b[H\u001b[2J\u001b[H\u001b[2J\u001b[H\u001b[2J\u001b[H\u001b[2J\u001b[H"
       ]
      },
      {
       "output_type": "stream",
       "stream": "stdout",
       "text": [
        " [1429623866615, 1429623866620] {u'global_timestamp': None, u'hash': u'5e1a48ce6835204474aaaad1c9181958', u'htype': u'bsr_m-1.0', u'pulse_id': 720642}\n",
        "[0.89266908769842535, -0.40965212819061486] [1429623866625, 1429623866631] {u'global_timestamp': None, u'hash': u'5e1a48ce6835204474aaaad1c9181958', u'htype': u'bsr_m-1.0', u'pulse_id': 720643}\n",
        "[1.0412855125726406, 0.53761158721356295] [1429623866635, 1429623866640] {u'global_timestamp': None, u'hash': u'5e1a48ce6835204474aaaad1c9181958', u'htype': u'bsr_m-1.0', u'pulse_id': 720644}\n",
        "[0.32448837814811771, 1.1744767663091962] [1429623866646, 1429623866651] {u'global_timestamp': None, u'hash': u'5e1a48ce6835204474aaaad1c9181958', u'htype': u'bsr_m-1.0', u'pulse_id': 720645}\n",
        "[-0.59870233586458688, 0.91541250049001111] [1429623866655, 1429623866661] {u'global_timestamp': None, u'hash': u'5e1a48ce6835204474aaaad1c9181958', u'htype': u'bsr_m-1.0', u'pulse_id': 720646}\n",
        "[-0.87950934451430107, -0.0013987189859069327]"
       ]
      },
      {
       "output_type": "stream",
       "stream": "stderr",
       "text": [
        "\u001b[2J\u001b[H\u001b[2J\u001b[H\u001b[2J\u001b[H\u001b[2J\u001b[H\u001b[2J\u001b[H\u001b[2J\u001b[H"
       ]
      },
      {
       "output_type": "stream",
       "stream": "stdout",
       "text": [
        " [1429623866665, 1429623866671] {u'global_timestamp': None, u'hash': u'5e1a48ce6835204474aaaad1c9181958', u'htype': u'bsr_m-1.0', u'pulse_id': 720647}\n",
        "[-0.25975997905634696, -0.73304488502396103] [1429623866676, 1429623866681] {u'global_timestamp': None, u'hash': u'5e1a48ce6835204474aaaad1c9181958', u'htype': u'bsr_m-1.0', u'pulse_id': 720648}\n",
        "[0.69075105202786513, -0.60685388672793206] [1429623866685, 1429623866690] {u'global_timestamp': None, u'hash': u'5e1a48ce6835204474aaaad1c9181958', u'htype': u'bsr_m-1.0', u'pulse_id': 720649}\n",
        "[1.0981282902657168, 0.26115485402841615] [1429623866696, 1429623866701] {u'global_timestamp': None, u'hash': u'5e1a48ce6835204474aaaad1c9181958', u'htype': u'bsr_m-1.0', u'pulse_id': 720650}\n",
        "[0.58783098153771618, 1.0729381040210975] [1429623866705, 1429623866710] {u'global_timestamp': None, u'hash': u'5e1a48ce6835204474aaaad1c9181958', u'htype': u'bsr_m-1.0', u'pulse_id': 720651}\n",
        "[-0.37097588186822494, 1.0821460869371058]"
       ]
      },
      {
       "output_type": "stream",
       "stream": "stderr",
       "text": [
        "\u001b[2J\u001b[H\u001b[2J\u001b[H\u001b[2J\u001b[H\u001b[2J\u001b[H\u001b[2J\u001b[H\u001b[2J\u001b[H\u001b[2J\u001b[H"
       ]
      },
      {
       "output_type": "stream",
       "stream": "stdout",
       "text": [
        " [1429623866716, 1429623866720] {u'global_timestamp': None, u'hash': u'5e1a48ce6835204474aaaad1c9181958', u'htype': u'bsr_m-1.0', u'pulse_id': 720652}\n",
        "[-0.89676969150108121, 0.28031302574825201] [1429623866726, 1429623866731] {u'global_timestamp': None, u'hash': u'5e1a48ce6835204474aaaad1c9181958', u'htype': u'bsr_m-1.0', u'pulse_id': 720653}\n",
        "[-0.50613804360679204, -0.59535946093105019] [1429623866736, 1429623866740] {u'global_timestamp': None, u'hash': u'5e1a48ce6835204474aaaad1c9181958', u'htype': u'bsr_m-1.0', u'pulse_id': 720654}\n",
        "[0.44177412623077572, -0.73978212721842596] [1429623866745, 1429623866751] {u'global_timestamp': None, u'hash': u'5e1a48ce6835204474aaaad1c9181958', u'htype': u'bsr_m-1.0', u'pulse_id': 720655}\n",
        "[1.0754607405839056, -0.020173439768511742] [1429623866756, 1429623866761] {u'global_timestamp': None, u'hash': u'5e1a48ce6835204474aaaad1c9181958', u'htype': u'bsr_m-1.0', u'pulse_id': 720656}\n",
        "[0.81231324861187904, 0.9018616928227321] [1429623866765, 1429623866770] {u'global_timestamp': None, u'hash': u'5e1a48ce6835204474aaaad1c9181958', u'htype': u'bsr_m-1.0', u'pulse_id': 720657}\n",
        "[-0.10573175913305805, 1.1786084218337882]"
       ]
      },
      {
       "output_type": "stream",
       "stream": "stdout",
       "text": [
        " [1429623866775, 1429623866780] {u'global_timestamp': None, u'hash': u'5e1a48ce6835204474aaaad1c9181958', u'htype': u'bsr_m-1.0', u'pulse_id': 720658}\n",
        "[-0.83462793631167909, 0.5556270808948216] [1429623866785, 1429623866790] {u'global_timestamp': None, u'hash': u'5e1a48ce6835204474aaaad1c9181958', u'htype': u'bsr_m-1.0', u'pulse_id': 720659}\n",
        "[-0.70423149910290406, -0.39431615816053295] [1429623866796, 1429623866800] {u'global_timestamp': None, u'hash': u'5e1a48ce6835204474aaaad1c9181958', u'htype': u'bsr_m-1.0', u'pulse_id': 720660}\n",
        "[0.16557166947749952, -0.79784786223248161] [1429623866805, 1429623866810] {u'global_timestamp': None, u'hash': u'5e1a48ce6835204474aaaad1c9181958', u'htype': u'bsr_m-1.0', u'pulse_id': 720661}\n",
        "[0.975088547539537, -0.2839628435790742] [1429623866816, 1429623866820] {u'global_timestamp': None, u'hash': u'5e1a48ce6835204474aaaad1c9181958', u'htype': u'bsr_m-1.0', u'pulse_id': 720662}\n",
        "[0.98005305067132653, 0.67487538155193039]"
       ]
      },
      {
       "output_type": "stream",
       "stream": "stderr",
       "text": [
        "\u001b[2J\u001b[H\u001b[2J\u001b[H\u001b[2J\u001b[H\u001b[2J\u001b[H\u001b[2J\u001b[H\u001b[2J\u001b[H"
       ]
      },
      {
       "output_type": "stream",
       "stream": "stdout",
       "text": [
        " [1429623866826, 1429623866830] {u'global_timestamp': None, u'hash': u'5e1a48ce6835204474aaaad1c9181958', u'htype': u'bsr_m-1.0', u'pulse_id': 720663}\n",
        "[0.17590083758848013, 1.1971153708841156] [1429623866835, 1429623866840] {u'global_timestamp': None, u'hash': u'5e1a48ce6835204474aaaad1c9181958', u'htype': u'bsr_m-1.0', u'pulse_id': 720664}\n",
        "[-0.69803425553856868, 0.80261208665857553] [1429623866845, 1429623866850] {u'global_timestamp': None, u'hash': u'5e1a48ce6835204474aaaad1c9181958', u'htype': u'bsr_m-1.0', u'pulse_id': 720665}\n",
        "[-0.83826033444698589, -0.14592997095283633] [1429623866856, 1429623866861] {u'global_timestamp': None, u'hash': u'5e1a48ce6835204474aaaad1c9181958', u'htype': u'bsr_m-1.0', u'pulse_id': 720666}\n",
        "[-0.11585418887406823, -0.77642560860800769] [1429623866865, 1429623866870] {u'global_timestamp': None, u'hash': u'5e1a48ce6835204474aaaad1c9181958', u'htype': u'bsr_m-1.0', u'pulse_id': 720667}\n",
        "[0.80500730248707386, -0.50920004472638003] [1429623866875, 1429623866880] {u'global_timestamp': None, u'hash': u'5e1a48ce6835204474aaaad1c9181958', u'htype': u'bsr_m-1.0', u'pulse_id': 720668}\n",
        "[1.0776883312493544, 0.41006076963310567]"
       ]
      },
      {
       "output_type": "stream",
       "stream": "stderr",
       "text": [
        "\u001b[2J\u001b[H\u001b[2J\u001b[H\u001b[2J\u001b[H\u001b[2J\u001b[H\u001b[2J\u001b[H\u001b[2J\u001b[H\u001b[2J\u001b[H"
       ]
      },
      {
       "output_type": "stream",
       "stream": "stdout",
       "text": [
        " [1429623866886, 1429623866890] {u'global_timestamp': None, u'hash': u'5e1a48ce6835204474aaaad1c9181958', u'htype': u'bsr_m-1.0', u'pulse_id': 720669}\n",
        "[0.45148721710172568, 1.1361926811367862] [1429623866896, 1429623866900] {u'global_timestamp': None, u'hash': u'5e1a48ce6835204474aaaad1c9181958', u'htype': u'bsr_m-1.0', u'pulse_id': 720670}\n",
        "[-0.49786962348287878, 1.0015933590770578] [1429623866906, 1429623866910] {u'global_timestamp': None, u'hash': u'5e1a48ce6835204474aaaad1c9181958', u'htype': u'bsr_m-1.0', u'pulse_id': 720671}\n",
        "[-0.89754788945435748, 0.13001279941905775] [1429623866915, 1429623866921] {u'global_timestamp': None, u'hash': u'5e1a48ce6835204474aaaad1c9181958', u'htype': u'bsr_m-1.0', u'pulse_id': 720672}\n",
        "[-0.3800852262892922, -0.67722185078733599] [1429623866925, 1429623866930] {u'global_timestamp': None, u'hash': u'5e1a48ce6835204474aaaad1c9181958', u'htype': u'bsr_m-1.0', u'pulse_id': 720673}\n",
        "[0.57876557989969302, -0.67794277689568738]"
       ]
      },
      {
       "output_type": "stream",
       "stream": "stderr",
       "text": [
        "\u001b[2J\u001b[H\u001b[2J\u001b[H\u001b[2J\u001b[H\u001b[2J\u001b[H\u001b[2J\u001b[H\u001b[2J\u001b[H"
       ]
      },
      {
       "output_type": "stream",
       "stream": "stdout",
       "text": [
        " [1429623866935, 1429623866940] {u'global_timestamp': None, u'hash': u'5e1a48ce6835204474aaaad1c9181958', u'htype': u'bsr_m-1.0', u'pulse_id': 720674}\n",
        "[1.0974415198694947, 0.12851283723330073] [1429623866945, 1429623866950] {u'global_timestamp': None, u'hash': u'5e1a48ce6835204474aaaad1c9181958', u'htype': u'bsr_m-1.0', u'pulse_id': 720675}\n",
        "[0.69907432640852663, 1.0006934191300501] [1429623866955, 1429623866960] {u'global_timestamp': None, u'hash': u'5e1a48ce6835204474aaaad1c9181958', u'htype': u'bsr_m-1.0', u'pulse_id': 720676}\n",
        "[-0.25007903997963554, 1.1367201640655211] [1429623866965, 1429623866970] {u'global_timestamp': None, u'hash': u'5e1a48ce6835204474aaaad1c9181958', u'htype': u'bsr_m-1.0', u'pulse_id': 720677}\n",
        "[-0.87737135148273016, 0.41153071006551634] [1429623866975, 1429623866981] {u'global_timestamp': None, u'hash': u'5e1a48ce6835204474aaaad1c9181958', u'htype': u'bsr_m-1.0', u'pulse_id': 720678}\n",
        "[-0.60607294981152282, -0.50813910324487432] [1429623866985, 1429623866990] {u'global_timestamp': None, u'hash': u'5e1a48ce6835204474aaaad1c9181958', u'htype': u'bsr_m-1.0', u'pulse_id': 720679}\n",
        "[0.31438566569416004, -0.77674909078272081]"
       ]
      },
      {
       "output_type": "stream",
       "stream": "stderr",
       "text": [
        "\u001b[2J\u001b[H\u001b[2J\u001b[H\u001b[2J\u001b[H\u001b[2J\u001b[H\u001b[2J\u001b[H\u001b[2J\u001b[H\u001b[2J\u001b[H"
       ]
      },
      {
       "output_type": "stream",
       "stream": "stdout",
       "text": [
        " [1429623866995, 1429623867001] {u'global_timestamp': None, u'hash': u'5e1a48ce6835204474aaaad1c9181958', u'htype': u'bsr_m-1.0', u'pulse_id': 720680}\n",
        "[1.0377390888507845, -0.14734046876415169] [1429623867006, 1429623867010] {u'global_timestamp': None, u'hash': u'5e1a48ce6835204474aaaad1c9181958', u'htype': u'bsr_m-1.0', u'pulse_id': 720681}\n",
        "[0.89893951832337426, 0.80141137839353749] [1429623867016, 1429623867020] {u'global_timestamp': None, u'hash': u'5e1a48ce6835204474aaaad1c9181958', u'htype': u'bsr_m-1.0', u'pulse_id': 720682}\n",
        "[0.025598639147815572, 1.1972283778068809] [1429623867025, 1429623867030] {u'global_timestamp': None, u'hash': u'5e1a48ce6835204474aaaad1c9181958', u'htype': u'bsr_m-1.0', u'pulse_id': 720683}\n",
        "[-0.7793379719796999, 0.6761982056188669] [1429623867035, 1429623867040] {u'global_timestamp': None, u'hash': u'5e1a48ce6835204474aaaad1c9181958', u'htype': u'bsr_m-1.0', u'pulse_id': 720684}\n",
        "[-0.77581530694390655, -0.28264640071459229]"
       ]
      },
      {
       "output_type": "stream",
       "stream": "stderr",
       "text": [
        "\u001b[2J\u001b[H\u001b[2J\u001b[H\u001b[2J\u001b[H\u001b[2J\u001b[H\u001b[2J\u001b[H\u001b[2J\u001b[H"
       ]
      },
      {
       "output_type": "stream",
       "stream": "stdout",
       "text": [
        " [1429623867045, 1429623867050] {u'global_timestamp': None, u'hash': u'5e1a48ce6835204474aaaad1c9181958', u'htype': u'bsr_m-1.0', u'pulse_id': 720685}\n",
        "[0.032927912266889375, -0.79774813206897144] [1429623867055, 1429623867060] {u'global_timestamp': None, u'hash': u'5e1a48ce6835204474aaaad1c9181958', u'htype': u'bsr_m-1.0', u'pulse_id': 720686}\n",
        "[0.90333689962072683, -0.39552483215039674] [1429623867065, 1429623867071] {u'global_timestamp': None, u'hash': u'5e1a48ce6835204474aaaad1c9181958', u'htype': u'bsr_m-1.0', u'pulse_id': 720687}\n",
        "[1.0351616462411928, 0.55422125204377903] [1429623867076, 1429623867080] {u'global_timestamp': None, u'hash': u'5e1a48ce6835204474aaaad1c9181958', u'htype': u'bsr_m-1.0', u'pulse_id': 720688}\n",
        "[0.30720308802639706, 1.1782979506839035] [1429623867085, 1429623867091] {u'global_timestamp': None, u'hash': u'5e1a48ce6835204474aaaad1c9181958', u'htype': u'bsr_m-1.0', u'pulse_id': 720689}\n",
        "[-0.61125703375386975, 0.90293202511739823]"
       ]
      },
      {
       "output_type": "stream",
       "stream": "stdout",
       "text": [
        " [1429623867096, 1429623867100] {u'global_timestamp': None, u'hash': u'5e1a48ce6835204474aaaad1c9181958', u'htype': u'bsr_m-1.0', u'pulse_id': 720690}\n",
        "[-0.87579071883069526, -0.018706362604920673] [1429623867106, 1429623867111] {u'global_timestamp': None, u'hash': u'5e1a48ce6835204474aaaad1c9181958', u'htype': u'bsr_m-1.0', u'pulse_id': 720691}\n",
        "[-0.2431869171040387, -0.73926712916434245] [1429623867117, 1429623867120] {u'global_timestamp': None, u'hash': u'5e1a48ce6835204474aaaad1c9181958', u'htype': u'bsr_m-1.0', u'pulse_id': 720692}\n",
        "[0.70494135352051479, -0.59627002882236346] [1429623867125, 1429623867134] {u'global_timestamp': None, u'hash': u'5e1a48ce6835204474aaaad1c9181958', u'htype': u'bsr_m-1.0', u'pulse_id': 720693}\n",
        "[1.0968893335482939, 0.27881406383151641] [1429623867135, 1429623867141] {u'global_timestamp': None, u'hash': u'5e1a48ce6835204474aaaad1c9181958', u'htype': u'bsr_m-1.0', u'pulse_id': 720694}\n",
        "[0.57230185770247777, 1.0814368696683776] [1429623867146, 1429623867151] {u'global_timestamp': None, u'hash': u'5e1a48ce6835204474aaaad1c9181958', u'htype': u'bsr_m-1.0', u'pulse_id': 720695}\n",
        "[-0.38651776798338444, 1.0736706824865223]"
       ]
      },
      {
       "output_type": "stream",
       "stream": "stderr",
       "text": [
        "\u001b[2J\u001b[H\u001b[2J\u001b[H\u001b[2J\u001b[H\u001b[2J\u001b[H\u001b[2J\u001b[H\u001b[2J\u001b[H\u001b[2J\u001b[H"
       ]
      },
      {
       "output_type": "stream",
       "stream": "stdout",
       "text": [
        " [1429623867155, 1429623867160] {u'global_timestamp': None, u'hash': u'5e1a48ce6835204474aaaad1c9181958', u'htype': u'bsr_m-1.0', u'pulse_id': 720696}\n",
        "[-0.89803520147696425, 0.26265569896534113] [1429623867165, 1429623867171] {u'global_timestamp': None, u'hash': u'5e1a48ce6835204474aaaad1c9181958', u'htype': u'bsr_m-1.0', u'pulse_id': 720697}\n",
        "[-0.49196367340776992, -0.60596464523301474] [1429623867175, 1429623867181] {u'global_timestamp': None, u'hash': u'5e1a48ce6835204474aaaad1c9181958', u'htype': u'bsr_m-1.0', u'pulse_id': 720698}\n",
        "[0.45835652601217935, -0.73358481150053123] [1429623867187, 1429623867190] {u'global_timestamp': None, u'hash': u'5e1a48ce6835204474aaaad1c9181958', u'htype': u'bsr_m-1.0', u'pulse_id': 720699}\n",
        "[1.0792053880623229, -0.0028714075214043844] [1429623867195, 1429623867201] {u'global_timestamp': None, u'hash': u'5e1a48ce6835204474aaaad1c9181958', u'htype': u'bsr_m-1.0', u'pulse_id': 720700}\n",
        "[0.79977733216497982, 0.91436103294347149] [1429623867205, 1429623867211] {u'global_timestamp': None, u'hash': u'5e1a48ce6835204474aaaad1c9181958', u'htype': u'bsr_m-1.0', u'pulse_id': 720701}\n",
        "[-0.12302277573633533, 1.1748132341648119]"
       ]
      },
      {
       "output_type": "stream",
       "stream": "stderr",
       "text": [
        "\u001b[2J\u001b[H\u001b[2J\u001b[H\u001b[2J\u001b[H\u001b[2J\u001b[H\u001b[2J\u001b[H\u001b[2J\u001b[H\u001b[2J\u001b[H"
       ]
      },
      {
       "output_type": "stream",
       "stream": "stdout",
       "text": [
        " [1429623867217, 1429623867220] {u'global_timestamp': None, u'hash': u'5e1a48ce6835204474aaaad1c9181958', u'htype': u'bsr_m-1.0', u'pulse_id': 720702}\n",
        "[-0.84077677214788982, 0.53902664347658202] [1429623867225, 1429623867231] {u'global_timestamp': None, u'hash': u'5e1a48ce6835204474aaaad1c9181958', u'htype': u'bsr_m-1.0', u'pulse_id': 720703}\n",
        "[-0.69358494286104544, -0.40845947972254598] [1429623867237, 1429623867240] {u'global_timestamp': None, u'hash': u'5e1a48ce6835204474aaaad1c9181958', u'htype': u'bsr_m-1.0', u'pulse_id': 720704}\n",
        "[0.18322522308777239, -0.7965307633194223] [1429623867246, 1429623867251] {u'global_timestamp': None, u'hash': u'5e1a48ce6835204474aaaad1c9181958', u'htype': u'bsr_m-1.0', u'pulse_id': 720705}\n",
        "[0.98351850274247288, -0.26839625885749657] [1429623867256, 1429623867260] {u'global_timestamp': None, u'hash': u'5e1a48ce6835204474aaaad1c9181958', u'htype': u'bsr_m-1.0', u'pulse_id': 720706}\n",
        "[0.9715089455300765, 0.69037960587799141]"
       ]
      },
      {
       "output_type": "stream",
       "stream": "stderr",
       "text": [
        "\u001b[2J\u001b[H\u001b[2J\u001b[H\u001b[2J\u001b[H\u001b[2J\u001b[H\u001b[2J\u001b[H\u001b[2J\u001b[H"
       ]
      },
      {
       "output_type": "stream",
       "stream": "stdout",
       "text": [
        " [1429623867267, 1429623867270] {u'global_timestamp': None, u'hash': u'5e1a48ce6835204474aaaad1c9181958', u'htype': u'bsr_m-1.0', u'pulse_id': 720707}\n",
        "[0.15823808296674971, 1.1983027224706733] [1429623867276, 1429623867280] {u'global_timestamp': None, u'hash': u'5e1a48ce6835204474aaaad1c9181958', u'htype': u'bsr_m-1.0', u'pulse_id': 720708}\n",
        "[-0.70857660449752669, 0.78839091993270105] [1429623867287, 1429623867290] {u'global_timestamp': None, u'hash': u'5e1a48ce6835204474aaaad1c9181958', u'htype': u'bsr_m-1.0', u'pulse_id': 720709}\n",
        "[-0.83198969072883877, -0.1624847808876444] [1429623867295, 1429623867301] {u'global_timestamp': None, u'hash': u'5e1a48ce6835204474aaaad1c9181958', u'htype': u'bsr_m-1.0', u'pulse_id': 720710}\n",
        "[-0.098535753394725201, -0.78009364584410434] [1429623867305, 1429623867310] {u'global_timestamp': None, u'hash': u'5e1a48ce6835204474aaaad1c9181958', u'htype': u'bsr_m-1.0', u'pulse_id': 720711}\n",
        "[0.81745104001596192, -0.49660893274491863] [1429623867316, 1429623867321] {u'global_timestamp': None, u'hash': u'5e1a48ce6835204474aaaad1c9181958', u'htype': u'bsr_m-1.0', u'pulse_id': 720712}\n",
        "[1.0738166559309636, 0.42733482054325767]"
       ]
      },
      {
       "output_type": "stream",
       "stream": "stderr",
       "text": [
        "\u001b[2J\u001b[H\u001b[2J\u001b[H\u001b[2J\u001b[H\u001b[2J\u001b[H\u001b[2J\u001b[H\u001b[2J\u001b[H"
       ]
      },
      {
       "output_type": "stream",
       "stream": "stdout",
       "text": [
        " [1429623867325, 1429623867330] {u'global_timestamp': None, u'hash': u'5e1a48ce6835204474aaaad1c9181958', u'htype': u'bsr_m-1.0', u'pulse_id': 720713}\n",
        "[0.43485972936863904, 1.1422679882322024] [1429623867337, 1429623867340] {u'global_timestamp': None, u'hash': u'5e1a48ce6835204474aaaad1c9181958', u'htype': u'bsr_m-1.0', u'pulse_id': 720714}\n",
        "[-0.51196568809044984, 0.99088431303192648] [1429623867347, 1429623867351] {u'global_timestamp': None, u'hash': u'5e1a48ce6835204474aaaad1c9181958', u'htype': u'bsr_m-1.0', u'pulse_id': 720715}\n",
        "[-0.89615267414354471, 0.11236524777997665] [1429623867356, 1429623867361] {u'global_timestamp': None, u'hash': u'5e1a48ce6835204474aaaad1c9181958', u'htype': u'bsr_m-1.0', u'pulse_id': 720716}\n",
        "[-0.36448148558249172, -0.68558283042924995] [1429623867365, 1429623867371] {u'global_timestamp': None, u'hash': u'5e1a48ce6835204474aaaad1c9181958', u'htype': u'bsr_m-1.0', u'pulse_id': 720717}\n",
        "[0.59423183875698593, -0.66933013841629152]"
       ]
      },
      {
       "output_type": "stream",
       "stream": "stderr",
       "text": [
        "\u001b[2J\u001b[H\u001b[2J\u001b[H\u001b[2J\u001b[H\u001b[2J\u001b[H\u001b[2J\u001b[H\u001b[2J\u001b[H\u001b[2J\u001b[H"
       ]
      },
      {
       "output_type": "stream",
       "stream": "stdout",
       "text": [
        " [1429623867377, 1429623867380] {u'global_timestamp': None, u'hash': u'5e1a48ce6835204474aaaad1c9181958', u'htype': u'bsr_m-1.0', u'pulse_id': 720718}\n",
        "[1.098550689810192, 0.14618067373526705] [1429623867385, 1429623867391] {u'global_timestamp': None, u'hash': u'5e1a48ce6835204474aaaad1c9181958', u'htype': u'bsr_m-1.0', u'pulse_id': 720719}\n",
        "[0.68480664170435057, 1.0111727262540817] [1429623867395, 1429623867400] {u'global_timestamp': None, u'hash': u'5e1a48ce6835204474aaaad1c9181958', u'htype': u'bsr_m-1.0', u'pulse_id': 720720}\n",
        "[-0.26660593581046477, 1.1303763151695843] [1429623867405, 1429623867411] {u'global_timestamp': None, u'hash': u'5e1a48ce6835204474aaaad1c9181958', u'htype': u'bsr_m-1.0', u'pulse_id': 720721}\n",
        "[-0.88096270663103327, 0.39419621056837717] [1429623867417, 1429623867420] {u'global_timestamp': None, u'hash': u'5e1a48ce6835204474aaaad1c9181958', u'htype': u'bsr_m-1.0', u'pulse_id': 720722}\n",
        "[-0.59342688891633266, -0.52052699444768624] [1429623867425, 1429623867430] {u'global_timestamp': None, u'hash': u'5e1a48ce6835204474aaaad1c9181958', u'htype': u'bsr_m-1.0', u'pulse_id': 720723}\n",
        "[0.33164241256610338, -0.77280100364902737]"
       ]
      },
      {
       "output_type": "stream",
       "stream": "stderr",
       "text": [
        "\u001b[2J\u001b[H\u001b[2J\u001b[H\u001b[2J\u001b[H\u001b[2J\u001b[H\u001b[2J\u001b[H\u001b[2J\u001b[H"
       ]
      },
      {
       "output_type": "stream",
       "stream": "stdout",
       "text": [
        " [1429623867436, 1429623867442] {u'global_timestamp': None, u'hash': u'5e1a48ce6835204474aaaad1c9181958', u'htype': u'bsr_m-1.0', u'pulse_id': 720724}\n",
        "[1.043740748208982, -0.1306862563971341] [1429623867445, 1429623867450] {u'global_timestamp': None, u'hash': u'5e1a48ce6835204474aaaad1c9181958', u'htype': u'bsr_m-1.0', u'pulse_id': 720725}\n",
        "[0.8881681922319693, 0.81545990994847872] [1429623867456, 1429623867461] {u'global_timestamp': None, u'hash': u'5e1a48ce6835204474aaaad1c9181958', u'htype': u'bsr_m-1.0', u'pulse_id': 720726}\n",
        "[0.0079574351407306343, 1.1957550734262554] [1429623867466, 1429623867470] {u'global_timestamp': None, u'hash': u'5e1a48ce6835204474aaaad1c9181958', u'htype': u'bsr_m-1.0', u'pulse_id': 720727}\n",
        "[-0.78762981229493145, 0.66055761455573048] [1429623867476, 1429623867481] {u'global_timestamp': None, u'hash': u'5e1a48ce6835204474aaaad1c9181958', u'htype': u'bsr_m-1.0', u'pulse_id': 720728}\n",
        "[-0.76713430382124159, -0.29807439116707318]"
       ]
      },
      {
       "output_type": "stream",
       "stream": "stderr",
       "text": [
        "\u001b[2J\u001b[H\u001b[2J\u001b[H\u001b[2J\u001b[H\u001b[2J\u001b[H\u001b[2J\u001b[H\u001b[2J\u001b[H"
       ]
      },
      {
       "output_type": "stream",
       "stream": "stdout",
       "text": [
        " [1429623867485, 1429623867491] {u'global_timestamp': None, u'hash': u'5e1a48ce6835204474aaaad1c9181958', u'htype': u'bsr_m-1.0', u'pulse_id': 720729}\n",
        "[0.050600484590969684, -0.79877909863860941] [1429623867495, 1429623867501] {u'global_timestamp': None, u'hash': u'5e1a48ce6835204474aaaad1c9181958', u'htype': u'bsr_m-1.0', u'pulse_id': 720730}\n",
        "[0.91375295965270598, -0.38121090892761239] [1429623867505, 1429623867511] {u'global_timestamp': None, u'hash': u'5e1a48ce6835204474aaaad1c9181958', u'htype': u'bsr_m-1.0', u'pulse_id': 720731}\n",
        "[1.0287447164237911, 0.57071991005999667] [1429623867516, 1429623867521] {u'global_timestamp': None, u'hash': u'5e1a48ce6835204474aaaad1c9181958', u'htype': u'bsr_m-1.0', u'pulse_id': 720732}\n",
        "[0.28985286404054555, 1.1818125534009036] [1429623867525, 1429623867530] {u'global_timestamp': None, u'hash': u'5e1a48ce6835204474aaaad1c9181958', u'htype': u'bsr_m-1.0', u'pulse_id': 720733}\n",
        "[-0.62358883599023662, 0.89023126300559174] [1429623867535, 1429623867540] {u'global_timestamp': None, u'hash': u'5e1a48ce6835204474aaaad1c9181958', u'htype': u'bsr_m-1.0', u'pulse_id': 720734}\n",
        "[-0.87176629721248156, -0.035945467432504208]"
       ]
      },
      {
       "output_type": "stream",
       "stream": "stdout",
       "text": [
        " [1429623867545, 1429623867550] {u'global_timestamp': None, u'hash': u'5e1a48ce6835204474aaaad1c9181958', u'htype': u'bsr_m-1.0', u'pulse_id': 720735}\n",
        "[-0.22650630630745897, -0.74519502323142794] [1429623867555, 1429623867561] {u'global_timestamp': None, u'hash': u'5e1a48ce6835204474aaaad1c9181958', u'htype': u'bsr_m-1.0', u'pulse_id': 720736}\n",
        "[0.71894207685566314, -0.58543663366155663] [1429623867566, 1429623867571] {u'global_timestamp': None, u'hash': u'5e1a48ce6835204474aaaad1c9181958', u'htype': u'bsr_m-1.0', u'pulse_id': 720737}\n",
        "[1.0953379689553193, 0.29644857467013125] [1429623867576, 1429623867580] {u'global_timestamp': None, u'hash': u'5e1a48ce6835204474aaaad1c9181958', u'htype': u'bsr_m-1.0', u'pulse_id': 720738}\n",
        "[0.55662472263367657, 1.0896594082454913] [1429623867585, 1429623867591] {u'global_timestamp': None, u'hash': u'5e1a48ce6835204474aaaad1c9181958', u'htype': u'bsr_m-1.0', u'pulse_id': 720739}\n",
        "[-0.40190718784456891, 1.0649214847545161] [1429623867595, 1429623867601] {u'global_timestamp': None, u'hash': u'5e1a48ce6835204474aaaad1c9181958', u'htype': u'bsr_m-1.0', u'pulse_id': 720740}\n",
        "[-0.89898794448210484, 0.24497873697002884]"
       ]
      },
      {
       "output_type": "stream",
       "stream": "stderr",
       "text": [
        "\u001b[2J\u001b[H\u001b[2J\u001b[H\u001b[2J\u001b[H\u001b[2J\u001b[H\u001b[2J\u001b[H\u001b[2J\u001b[H\u001b[2J\u001b[H"
       ]
      },
      {
       "output_type": "stream",
       "stream": "stdout",
       "text": [
        " [1429623867606, 1429623867610] {u'global_timestamp': None, u'hash': u'5e1a48ce6835204474aaaad1c9181958', u'htype': u'bsr_m-1.0', u'pulse_id': 720741}\n",
        "[-0.47760379203173986, -0.61631725415462979] [1429623867615, 1429623867620] {u'global_timestamp': None, u'hash': u'5e1a48ce6835204474aaaad1c9181958', u'htype': u'bsr_m-1.0', u'pulse_id': 720742}\n",
        "[0.4748266230562439, -0.72709492644941842] [1429623867625, 1429623867630] {u'global_timestamp': None, u'hash': u'5e1a48ce6835204474aaaad1c9181958', u'htype': u'bsr_m-1.0', u'pulse_id': 720743}\n",
        "[1.0826431695078531, 0.014494201116081601] [1429623867635, 1429623867641] {u'global_timestamp': None, u'hash': u'5e1a48ce6835204474aaaad1c9181958', u'htype': u'bsr_m-1.0', u'pulse_id': 720744}\n",
        "[0.78702211760509666, 0.92663650467163339] [1429623867645, 1429623867651] {u'global_timestamp': None, u'hash': u'5e1a48ce6835204474aaaad1c9181958', u'htype': u'bsr_m-1.0', u'pulse_id': 720745}\n",
        "[-0.14024390085896102, 1.1707125568880161]"
       ]
      },
      {
       "output_type": "stream",
       "stream": "stderr",
       "text": [
        "\u001b[2J\u001b[H\u001b[2J\u001b[H\u001b[2J\u001b[H\u001b[2J\u001b[H\u001b[2J\u001b[H\u001b[2J\u001b[H\u001b[2J\u001b[H"
       ]
      },
      {
       "output_type": "stream",
       "stream": "stdout",
       "text": [
        " [1429623867655, 1429623867660] {u'global_timestamp': None, u'hash': u'5e1a48ce6835204474aaaad1c9181958', u'htype': u'bsr_m-1.0', u'pulse_id': 720746}\n",
        "[-0.84663078481480347, 0.52231996097187228] [1429623867666, 1429623867670] {u'global_timestamp': None, u'hash': u'5e1a48ce6835204474aaaad1c9181958', u'htype': u'bsr_m-1.0', u'pulse_id': 720747}\n",
        "[-0.68268969082344921, -0.42241212060715333] [1429623867675, 1429623867680] {u'global_timestamp': None, u'hash': u'5e1a48ce6835204474aaaad1c9181958', u'htype': u'bsr_m-1.0', u'pulse_id': 720748}\n",
        "[0.20085269535254158, -0.79490136890051932] [1429623867685, 1429623867690] {u'global_timestamp': None, u'hash': u'5e1a48ce6835204474aaaad1c9181958', u'htype': u'bsr_m-1.0', u'pulse_id': 720749}\n",
        "[0.99167157852743959, -0.25268288684948542] [1429623867695, 1429623867701] {u'global_timestamp': None, u'hash': u'5e1a48ce6835204474aaaad1c9181958', u'htype': u'bsr_m-1.0', u'pulse_id': 720750}\n",
        "[0.9626917245583777, 0.7057301537168732] [1429623867705, 1429623867711] {u'global_timestamp': None, u'hash': u'5e1a48ce6835204474aaaad1c9181958', u'htype': u'bsr_m-1.0', u'pulse_id': 720751}\n",
        "[0.14055707753706745, 1.199177223250036]"
       ]
      },
      {
       "output_type": "stream",
       "stream": "stderr",
       "text": [
        "\u001b[2J\u001b[H\u001b[2J\u001b[H\u001b[2J\u001b[H\u001b[2J\u001b[H\u001b[2J\u001b[H\u001b[2J\u001b[H"
       ]
      },
      {
       "output_type": "stream",
       "stream": "stdout",
       "text": [
        " [1429623867715, 1429623867720] {u'global_timestamp': None, u'hash': u'5e1a48ce6835204474aaaad1c9181958', u'htype': u'bsr_m-1.0', u'pulse_id': 720752}\n",
        "[-0.7188655595332768, 0.77398536166896581] [1429623867725, 1429623867730] {u'global_timestamp': None, u'hash': u'5e1a48ce6835204474aaaad1c9181958', u'htype': u'bsr_m-1.0', u'pulse_id': 720753}\n",
        "[-0.82542697756073524, -0.17892599436143525] [1429623867735, 1429623867741] {u'global_timestamp': None, u'hash': u'5e1a48ce6835204474aaaad1c9181958', u'htype': u'bsr_m-1.0', u'pulse_id': 720754}\n",
        "[-0.081155100244020062, -0.78345453868268811] [1429623867745, 1429623867751] {u'global_timestamp': None, u'hash': u'5e1a48ce6835204474aaaad1c9181958', u'htype': u'bsr_m-1.0', u'pulse_id': 720755}\n",
        "[0.82966994079749912, -0.48379951557205286] [1429623867755, 1429623867760] {u'global_timestamp': None, u'hash': u'5e1a48ce6835204474aaaad1c9181958', u'htype': u'bsr_m-1.0', u'pulse_id': 720756}\n",
        "[1.0696398033151358, 0.44453762865249413] [1429623867765, 1429623867770] {u'global_timestamp': None, u'hash': u'5e1a48ce6835204474aaaad1c9181958', u'htype': u'bsr_m-1.0', u'pulse_id': 720757}\n",
        "[0.41812730238789542, 1.1480480048369917]"
       ]
      },
      {
       "output_type": "stream",
       "stream": "stderr",
       "text": [
        "\u001b[2J\u001b[H\u001b[2J\u001b[H\u001b[2J\u001b[H\u001b[2J\u001b[H\u001b[2J\u001b[H\u001b[2J\u001b[H\u001b[2J\u001b[H"
       ]
      },
      {
       "output_type": "stream",
       "stream": "stdout",
       "text": [
        " [1429623867775, 1429623867780] {u'global_timestamp': None, u'hash': u'5e1a48ce6835204474aaaad1c9181958', u'htype': u'bsr_m-1.0', u'pulse_id': 720758}\n",
        "[-0.52586997323555407, 0.97992741752173762] [1429623867785, 1429623867790] {u'global_timestamp': None, u'hash': u'5e1a48ce6835204474aaaad1c9181958', u'htype': u'bsr_m-1.0', u'pulse_id': 720759}\n",
        "[-0.89444528181349681, 0.094745159356564773] [1429623867795, 1429623867801] {u'global_timestamp': None, u'hash': u'5e1a48ce6835204474aaaad1c9181958', u'htype': u'bsr_m-1.0', u'pulse_id': 720760}\n",
        "[-0.34873218441149467, -0.69366628372860095] [1429623867805, 1429623867810] {u'global_timestamp': None, u'hash': u'5e1a48ce6835204474aaaad1c9181958', u'htype': u'bsr_m-1.0', u'pulse_id': 720761}\n",
        "[0.60954321390394106, -0.66044506690691329] [1429623867815, 1429623867820] {u'global_timestamp': None, u'hash': u'5e1a48ce6835204474aaaad1c9181958', u'htype': u'bsr_m-1.0', u'pulse_id': 720762}\n",
        "[1.0993469312350188, 0.1638653762832589]"
       ]
      },
      {
       "output_type": "stream",
       "stream": "stderr",
       "text": [
        "\u001b[2J\u001b[H\u001b[2J\u001b[H\u001b[2J\u001b[H\u001b[2J\u001b[H\u001b[2J\u001b[H\u001b[2J\u001b[H\u001b[2J\u001b[H"
       ]
      },
      {
       "output_type": "stream",
       "stream": "stdout",
       "text": [
        " [1429623867826, 1429623867830] {u'global_timestamp': None, u'hash': u'5e1a48ce6835204474aaaad1c9181958', u'htype': u'bsr_m-1.0', u'pulse_id': 720763}\n",
        "[0.6703556887131189, 1.0213978258752479] [1429623867835, 1429623867840] {u'global_timestamp': None, u'hash': u'5e1a48ce6835204474aaaad1c9181958', u'htype': u'bsr_m-1.0', u'pulse_id': 720764}\n",
        "[-0.28301794368160083, 1.1237409024276872] [1429623867845, 1429623867850] {u'global_timestamp': None, u'hash': u'5e1a48ce6835204474aaaad1c9181958', u'htype': u'bsr_m-1.0', u'pulse_id': 720765}\n",
        "[-0.88424664503320327, 0.37680085333754365] [1429623867856, 1429623867860] {u'global_timestamp': None, u'hash': u'5e1a48ce6835204474aaaad1c9181958', u'htype': u'bsr_m-1.0', u'pulse_id': 720766}\n",
        "[-0.58056352002723943, -0.53268908495222811] [1429623867865, 1429623867871] {u'global_timestamp': None, u'hash': u'5e1a48ce6835204474aaaad1c9181958', u'htype': u'bsr_m-1.0', u'pulse_id': 720767}\n",
        "[0.34882656671229251, -0.76854805750575594] [1429623867875, 1429623867881] {u'global_timestamp': None, u'hash': u'5e1a48ce6835204474aaaad1c9181958', u'htype': u'bsr_m-1.0', u'pulse_id': 720768}\n",
        "[1.0494466555390478, -0.11392841267670695]"
       ]
      },
      {
       "output_type": "stream",
       "stream": "stdout",
       "text": [
        " [1429623867885, 1429623867891] {u'global_timestamp': None, u'hash': u'5e1a48ce6835204474aaaad1c9181958', u'htype': u'bsr_m-1.0', u'pulse_id': 720769}\n",
        "[0.87714986786078919, 0.8293155670122565] [1429623867896, 1429623867900] {u'global_timestamp': None, u'hash': u'5e1a48ce6835204474aaaad1c9181958', u'htype': u'bsr_m-1.0', u'pulse_id': 720770}\n",
        "[-0.0096549243184387706, 1.1939697166275829] [1429623867905, 1429623867911] {u'global_timestamp': None, u'hash': u'5e1a48ce6835204474aaaad1c9181958', u'htype': u'bsr_m-1.0', u'pulse_id': 720771}\n",
        "[-0.7956434847788868, 0.64477269270171245] [1429623867915, 1429623867920] {u'global_timestamp': None, u'hash': u'5e1a48ce6835204474aaaad1c9181958', u'htype': u'bsr_m-1.0', u'pulse_id': 720772}\n",
        "[-0.75818155580517854, -0.31334629371974937] [1429623867925, 1429623867930] {u'global_timestamp': None, u'hash': u'5e1a48ce6835204474aaaad1c9181958', u'htype': u'bsr_m-1.0', u'pulse_id': 720773}\n",
        "[0.068288537868795657, -0.79949706511300023]"
       ]
      },
      {
       "output_type": "stream",
       "stream": "stderr",
       "text": [
        "\u001b[2J\u001b[H\u001b[2J\u001b[H\u001b[2J\u001b[H\u001b[2J\u001b[H\u001b[2J\u001b[H\u001b[2J\u001b[H"
       ]
      },
      {
       "output_type": "stream",
       "stream": "stdout",
       "text": [
        " [1429623867936, 1429623867940] {u'global_timestamp': None, u'hash': u'5e1a48ce6835204474aaaad1c9181958', u'htype': u'bsr_m-1.0', u'pulse_id': 720774}\n",
        "[0.92391400358129872, -0.36671484425823503] [1429623867946, 1429623867951] {u'global_timestamp': None, u'hash': u'5e1a48ce6835204474aaaad1c9181958', u'htype': u'bsr_m-1.0', u'pulse_id': 720775}\n",
        "[1.0220367340752572, 0.58710239086814409] [1429623867956, 1429623867960] {u'global_timestamp': None, u'hash': u'5e1a48ce6835204474aaaad1c9181958', u'htype': u'bsr_m-1.0', u'pulse_id': 720776}\n",
        "[0.27244314345068171, 1.1850194730444914] [1429623867967, 1429623867970] {u'global_timestamp': None, u'hash': u'5e1a48ce6835204474aaaad1c9181958', u'htype': u'bsr_m-1.0', u'pulse_id': 720777}\n",
        "[-0.63569387800014976, 0.87731419435377322] [1429623867975, 1429623867980] {u'global_timestamp': None, u'hash': u'5e1a48ce6835204474aaaad1c9181958', u'htype': u'bsr_m-1.0', u'pulse_id': 720778}\n",
        "[-0.86743734084379132, -0.053110631031361544] [1429623867985, 1429623867990] {u'global_timestamp': None, u'hash': u'5e1a48ce6835204474aaaad1c9181958', u'htype': u'bsr_m-1.0', u'pulse_id': 720779}\n",
        "[-0.20972337408153394, -0.75082670952574215]"
       ]
      },
      {
       "output_type": "stream",
       "stream": "stderr",
       "text": [
        "\u001b[2J\u001b[H\u001b[2J\u001b[H\u001b[2J\u001b[H\u001b[2J\u001b[H\u001b[2J\u001b[H\u001b[2J\u001b[H\u001b[2J\u001b[H"
       ]
      },
      {
       "output_type": "stream",
       "stream": "stdout",
       "text": [
        " [1429623867996, 1429623868001] {u'global_timestamp': None, u'hash': u'5e1a48ce6835204474aaaad1c9181958', u'htype': u'bsr_m-1.0', u'pulse_id': 720780}\n",
        "[0.73274883444876482, -0.57435709624418729] [1429623868005, 1429623868010] {u'global_timestamp': None, u'hash': u'5e1a48ce6835204474aaaad1c9181958', u'htype': u'bsr_m-1.0', u'pulse_id': 720781}\n",
        "[1.0934746826576249, 0.31405286019355944] [1429623868015, 1429623868020] {u'global_timestamp': None, u'hash': u'5e1a48ce6835204474aaaad1c9181958', u'htype': u'bsr_m-1.0', u'pulse_id': 720782}\n",
        "[0.54080448927430125, 1.0976031429510609] [1429623868026, 1429623868030] {u'global_timestamp': None, u'hash': u'5e1a48ce6835204474aaaad1c9181958', u'htype': u'bsr_m-1.0', u'pulse_id': 720783}\n",
        "[-0.41713931867375964, 1.0559012355883357] [1429623868036, 1429623868041] {u'global_timestamp': None, u'hash': u'5e1a48ce6835204474aaaad1c9181958', u'htype': u'bsr_m-1.0', u'pulse_id': 720784}\n",
        "[-0.89962762194332335, 0.22728767941647457] [1429623868045, 1429623868051] {u'global_timestamp': None, u'hash': u'5e1a48ce6835204474aaaad1c9181958', u'htype': u'bsr_m-1.0', u'pulse_id': 720785}\n",
        "[-0.46306289961716562, -0.62641404336731221]"
       ]
      },
      {
       "output_type": "stream",
       "stream": "stderr",
       "text": [
        "\u001b[2J\u001b[H\u001b[2J\u001b[H\u001b[2J\u001b[H\u001b[2J\u001b[H\u001b[2J\u001b[H\u001b[2J\u001b[H"
       ]
      },
      {
       "output_type": "stream",
       "stream": "stdout",
       "text": [
        " [1429623868056, 1429623868061] {u'global_timestamp': None, u'hash': u'5e1a48ce6835204474aaaad1c9181958', u'htype': u'bsr_m-1.0', u'pulse_id': 720786}\n",
        "[0.49117925591941236, -0.72031450588281776] [1429623868065, 1429623868071] {u'global_timestamp': None, u'hash': u'5e1a48ce6835204474aaaad1c9181958', u'htype': u'bsr_m-1.0', u'pulse_id': 720787}\n",
        "[1.0857730075792489, 0.031917944062544085] [1429623868075, 1429623868080] {u'global_timestamp': None, u'hash': u'5e1a48ce6835204474aaaad1c9181958', u'htype': u'bsr_m-1.0', u'pulse_id': 720788}\n",
        "[0.77405160219586633, 0.93868426108668745] [1429623868085, 1429623868090] {u'global_timestamp': None, u'hash': u'5e1a48ce6835204474aaaad1c9181958', u'htype': u'bsr_m-1.0', u'pulse_id': 720789}\n",
        "[-0.15738973769816769, 1.1663076750847363] [1429623868095, 1429623868101] {u'global_timestamp': None, u'hash': u'5e1a48ce6835204474aaaad1c9181958', u'htype': u'bsr_m-1.0', u'pulse_id': 720790}\n",
        "[-0.85218813976609764, 0.50551226896604096] [1429623868105, 1429623868110] {u'global_timestamp': None, u'hash': u'5e1a48ce6835204474aaaad1c9181958', u'htype': u'bsr_m-1.0', u'pulse_id': 720791}\n",
        "[-0.67154915737366649, -0.43616970829801799]"
       ]
      },
      {
       "output_type": "stream",
       "stream": "stderr",
       "text": [
        "\u001b[2J\u001b[H\u001b[2J\u001b[H\u001b[2J\u001b[H\u001b[2J\u001b[H\u001b[2J\u001b[H\u001b[2J\u001b[H\u001b[2J\u001b[H"
       ]
      },
      {
       "output_type": "stream",
       "stream": "stdout",
       "text": [
        " [1429623868116, 1429623868121] {u'global_timestamp': None, u'hash': u'5e1a48ce6835204474aaaad1c9181958', u'htype': u'bsr_m-1.0', u'pulse_id': 720792}\n",
        "[0.21844856212687325, -0.79296018959980286] [1429623868126, 1429623868130] {u'global_timestamp': None, u'hash': u'5e1a48ce6835204474aaaad1c9181958', u'htype': u'bsr_m-1.0', u'pulse_id': 720793}\n",
        "[0.99954521986149691, -0.2368276518540593] [1429623868135, 1429623868141] {u'global_timestamp': None, u'hash': u'5e1a48ce6835204474aaaad1c9181958', u'htype': u'bsr_m-1.0', u'pulse_id': 720794}\n",
        "[0.95360415092078565, 0.72092221447237637] [1429623868147, 1429623868150] {u'global_timestamp': None, u'hash': u'5e1a48ce6835204474aaaad1c9181958', u'htype': u'bsr_m-1.0', u'pulse_id': 720795}\n",
        "[0.12286336222073524, 1.1997385991687846] [1429623868156, 1429623868161] {u'global_timestamp': None, u'hash': u'5e1a48ce6835204474aaaad1c9181958', u'htype': u'bsr_m-1.0', u'pulse_id': 720796}\n",
        "[-0.72889789626526225, 0.75939992632017983]"
       ]
      },
      {
       "output_type": "stream",
       "stream": "stderr",
       "text": [
        "\u001b[2J\u001b[H\u001b[2J\u001b[H\u001b[2J\u001b[H\u001b[2J\u001b[H\u001b[2J\u001b[H\u001b[2J\u001b[H\u001b[2J\u001b[H"
       ]
      },
      {
       "output_type": "stream",
       "stream": "stdout",
       "text": [
        " [1429623868166, 1429623868170] {u'global_timestamp': None, u'hash': u'5e1a48ce6835204474aaaad1c9181958', u'htype': u'bsr_m-1.0', u'pulse_id': 720797}\n",
        "[-0.81857425158347774, -0.19524845898226317] [1429623868175, 1429623868181] {u'global_timestamp': None, u'hash': u'5e1a48ce6835204474aaaad1c9181958', u'htype': u'bsr_m-1.0', u'pulse_id': 720798}\n",
        "[-0.063717676218045194, -0.7865072338780712] [1429623868187, 1429623868190] {u'global_timestamp': None, u'hash': u'5e1a48ce6835204474aaaad1c9181958', u'htype': u'bsr_m-1.0', u'pulse_id': 720799}\n",
        "[0.84166017563951112, -0.47077580745758091] [1429623868195, 1429623868200] {u'global_timestamp': None, u'hash': u'5e1a48ce6835204474aaaad1c9181958', u'htype': u'bsr_m-1.0', u'pulse_id': 720800}\n",
        "[1.0651590823552399, 0.46166380289828263] [1429623868206, 1429623868210] {u'global_timestamp': None, u'hash': u'5e1a48ce6835204474aaaad1c9181958', u'htype': u'bsr_m-1.0', u'pulse_id': 720801}\n",
        "[0.40129517981271667, 1.1535309195939178] [1429623868215, 1429623868221] {u'global_timestamp': None, u'hash': u'5e1a48ce6835204474aaaad1c9181958', u'htype': u'bsr_m-1.0', u'pulse_id': 720802}\n",
        "[-0.53957812155570672, 0.96872610624804056]"
       ]
      },
      {
       "output_type": "stream",
       "stream": "stderr",
       "text": [
        "\u001b[2J\u001b[H\u001b[2J\u001b[H\u001b[2J\u001b[H\u001b[2J\u001b[H\u001b[2J\u001b[H\u001b[2J\u001b[H\u001b[2J\u001b[H"
       ]
      },
      {
       "output_type": "stream",
       "stream": "stdout",
       "text": [
        " [1429623868225, 1429623868231] {u'global_timestamp': None, u'hash': u'5e1a48ce6835204474aaaad1c9181958', u'htype': u'bsr_m-1.0', u'pulse_id': 720803}\n",
        "[-0.89242624753144006, 0.077158055979787823] [1429623868237, 1429623868241] {u'global_timestamp': None, u'hash': u'5e1a48ce6835204474aaaad1c9181958', u'htype': u'bsr_m-1.0', u'pulse_id': 720804}\n",
        "[-0.33284225833489778, -0.7014696774709317] [1429623868245, 1429623868252] {u'global_timestamp': None, u'hash': u'5e1a48ce6835204474aaaad1c9181958', u'htype': u'bsr_m-1.0', u'pulse_id': 720805}\n",
        "[0.62469490702040342, -0.65129034679529307] [1429623868255, 1429623868261] {u'global_timestamp': None, u'hash': u'5e1a48ce6835204474aaaad1c9181958', u'htype': u'bsr_m-1.0', u'pulse_id': 720806}\n",
        "[1.0998299946156842, 0.18156140279736144] [1429623868267, 1429623868270] {u'global_timestamp': None, u'hash': u'5e1a48ce6835204474aaaad1c9181958', u'htype': u'bsr_m-1.0', u'pulse_id': 720807}\n",
        "[0.65572599611356419, 1.0313655136241742] [1429623868276, 1429623868280] {u'global_timestamp': None, u'hash': u'5e1a48ce6835204474aaaad1c9181958', u'htype': u'bsr_m-1.0', u'pulse_id': 720808}\n",
        "[-0.29930992035362891, 1.1168160052634217]"
       ]
      },
      {
       "output_type": "stream",
       "stream": "stdout",
       "text": [
        " [1429623868286, 1429623868290] {u'global_timestamp': None, u'hash': u'5e1a48ce6835204474aaaad1c9181958', u'htype': u'bsr_m-1.0', u'pulse_id': 720809}\n",
        "[-0.887222137559742, 0.35935008977711247] [1429623868296, 1429623868302] {u'global_timestamp': None, u'hash': u'5e1a48ce6835204474aaaad1c9181958', u'htype': u'bsr_m-1.0', u'pulse_id': 720810}\n",
        "[-0.56748687430157607, -0.54462156336968381] [1429623868305, 1429623868311] {u'global_timestamp': None, u'hash': u'5e1a48ce6835204474aaaad1c9181958', u'htype': u'bsr_m-1.0', u'pulse_id': 720811}\n",
        "[0.36593274291602473, -0.76399158515267107] [1429623868315, 1429623868320] {u'global_timestamp': None, u'hash': u'5e1a48ce6835204474aaaad1c9181958', u'htype': u'bsr_m-1.0', u'pulse_id': 720812}\n",
        "[1.0548550227083107, -0.09707218922125882] [1429623868325, 1429623868330] {u'global_timestamp': None, u'hash': u'5e1a48ce6835204474aaaad1c9181958', u'htype': u'bsr_m-1.0', u'pulse_id': 720813}\n",
        "[0.86588799816212558, 0.84297400746158613]"
       ]
      },
      {
       "output_type": "stream",
       "stream": "stderr",
       "text": [
        "\u001b[2J\u001b[H\u001b[2J\u001b[H\u001b[2J\u001b[H\u001b[2J\u001b[H\u001b[2J\u001b[H\u001b[2J\u001b[H\u001b[2J\u001b[H"
       ]
      },
      {
       "output_type": "stream",
       "stream": "stdout",
       "text": [
        " [1429623868335, 1429623868341] {u'global_timestamp': None, u'hash': u'5e1a48ce6835204474aaaad1c9181958', u'htype': u'bsr_m-1.0', u'pulse_id': 720814}\n",
        "[-0.027232919820850632, 1.1918728669108059] [1429623868346, 1429623868351] {u'global_timestamp': None, u'hash': u'5e1a48ce6835204474aaaad1c9181958', u'htype': u'bsr_m-1.0', u'pulse_id': 720815}\n",
        "[-0.80337647808520918, 0.62884838677831545] [1429623868355, 1429623868361] {u'global_timestamp': None, u'hash': u'5e1a48ce6835204474aaaad1c9181958', u'htype': u'bsr_m-1.0', u'pulse_id': 720816}\n",
        "[-0.74895986853210439, -0.32845732242249431] [1429623868365, 1429623868370] {u'global_timestamp': None, u'hash': u'5e1a48ce6835204474aaaad1c9181958', u'htype': u'bsr_m-1.0', u'pulse_id': 720817}\n",
        "[0.085986528970391704, -0.79990180649386877] [1429623868377, 1429623868381] {u'global_timestamp': None, u'hash': u'5e1a48ce6835204474aaaad1c9181958', u'htype': u'bsr_m-1.0', u'pulse_id': 720818}\n",
        "[0.93381684711107682, -0.35204118095821718] [1429623868387, 1429623868394] {u'global_timestamp': None, u'hash': u'5e1a48ce6835204474aaaad1c9181958', u'htype': u'bsr_m-1.0', u'pulse_id': 720819}\n",
        "[1.0150398013612423, 0.6033635604820774]"
       ]
      },
      {
       "output_type": "stream",
       "stream": "stderr",
       "text": [
        "\u001b[2J\u001b[H\u001b[2J\u001b[H\u001b[2J\u001b[H\u001b[2J\u001b[H\u001b[2J\u001b[H\u001b[2J\u001b[H"
       ]
      },
      {
       "output_type": "stream",
       "stream": "stdout",
       "text": [
        " [1429623868395, 1429623868401] {u'global_timestamp': None, u'hash': u'5e1a48ce6835204474aaaad1c9181958', u'htype': u'bsr_m-1.0', u'pulse_id': 720820}\n",
        "[0.25497938216213051, 1.1879177046215157] [1429623868406, 1429623868411] {u'global_timestamp': None, u'hash': u'5e1a48ce6835204474aaaad1c9181958', u'htype': u'bsr_m-1.0', u'pulse_id': 720821}\n",
        "[-0.64756836627280467, 0.86418486714785203] [1429623868416, 1429623868421] {u'global_timestamp': None, u'hash': u'5e1a48ce6835204474aaaad1c9181958', u'htype': u'bsr_m-1.0', u'pulse_id': 720822}\n",
        "[-0.86280520634467928, -0.070196474136098752] [1429623868425, 1429623868431] {u'global_timestamp': None, u'hash': u'5e1a48ce6835204474aaaad1c9181958', u'htype': u'bsr_m-1.0', u'pulse_id': 720823}\n",
        "[-0.19284337990695591, -0.75616042317420273] [1429623868436, 1429623868441] {u'global_timestamp': None, u'hash': u'5e1a48ce6835204474aaaad1c9181958', u'htype': u'bsr_m-1.0', u'pulse_id': 720824}\n",
        "[0.74635729950078344, -0.5630348887056571] [1429623868445, 1429623868450] {u'global_timestamp': None, u'hash': u'5e1a48ce6835204474aaaad1c9181958', u'htype': u'bsr_m-1.0', u'pulse_id': 720825}\n",
        "[1.0913000585769101, 0.33162140352319081]"
       ]
      },
      {
       "output_type": "stream",
       "stream": "stderr",
       "text": [
        "\u001b[2J\u001b[H\u001b[2J\u001b[H\u001b[2J\u001b[H\u001b[2J\u001b[H\u001b[2J\u001b[H\u001b[2J\u001b[H\u001b[2J\u001b[H"
       ]
      },
      {
       "output_type": "stream",
       "stream": "stdout",
       "text": [
        " [1429623868455, 1429623868461] {u'global_timestamp': None, u'hash': u'5e1a48ce6835204474aaaad1c9181958', u'htype': u'bsr_m-1.0', u'pulse_id': 720826}\n",
        "[0.52484611541186954, 1.1052655843560188] [1429623868465, 1429623868471] {u'global_timestamp': None, u'hash': u'5e1a48ce6835204474aaaad1c9181958', u'htype': u'bsr_m-1.0', u'pulse_id': 720827}\n",
        "[-0.43220938698460021, 1.0466127617780612] [1429623868476, 1429623868482] {u'global_timestamp': None, u'hash': u'5e1a48ce6835204474aaaad1c9181958', u'htype': u'bsr_m-1.0', u'pulse_id': 720828}\n",
        "[-0.89995403339676683, 0.20958807037614205] [1429623868486, 1429623868491] {u'global_timestamp': None, u'hash': u'5e1a48ce6835204474aaaad1c9181958', u'htype': u'bsr_m-1.0', u'pulse_id': 720829}\n",
        "[-0.44834555302823953, -0.63625184871194995] [1429623868495, 1429623868501] {u'global_timestamp': None, u'hash': u'5e1a48ce6835204474aaaad1c9181958', u'htype': u'bsr_m-1.0', u'pulse_id': 720830}\n",
        "[0.50740929996937056, -0.71324567466726463]"
       ]
      },
      {
       "output_type": "stream",
       "stream": "stderr",
       "text": [
        "\u001b[2J\u001b[H\u001b[2J\u001b[H\u001b[2J\u001b[H\u001b[2J\u001b[H\u001b[2J\u001b[H\u001b[2J\u001b[H"
       ]
      },
      {
       "output_type": "stream",
       "stream": "stdout",
       "text": [
        " [1429623868505, 1429623868511] {u'global_timestamp': None, u'hash': u'5e1a48ce6835204474aaaad1c9181958', u'htype': u'bsr_m-1.0', u'pulse_id': 720831}\n",
        "[1.0885939214393907, 0.04939436101829392] [1429623868515, 1429623868521] {u'global_timestamp': None, u'hash': u'5e1a48ce6835204474aaaad1c9181958', u'htype': u'bsr_m-1.0', u'pulse_id': 720832}\n",
        "[0.76086985067248802, 0.95050052663014384] [1429623868525, 1429623868530] {u'global_timestamp': None, u'hash': u'5e1a48ce6835204474aaaad1c9181958', u'htype': u'bsr_m-1.0', u'pulse_id': 720833}\n",
        "[-0.17445491304523367, 1.161599969168746] [1429623868535, 1429623868540] {u'global_timestamp': None, u'hash': u'5e1a48ce6835204474aaaad1c9181958', u'htype': u'bsr_m-1.0', u'pulse_id': 720834}\n",
        "[-0.85744709542284714, 0.48860883469906713] [1429623868545, 1429623868550] {u'global_timestamp': None, u'hash': u'5e1a48ce6835204474aaaad1c9181958', u'htype': u'bsr_m-1.0', u'pulse_id': 720835}\n",
        "[-0.66016683376220053, -0.44972793140510042]"
       ]
      },
      {
       "output_type": "stream",
       "stream": "stderr",
       "text": [
        "\u001b[2J\u001b[H\u001b[2J\u001b[H\u001b[2J\u001b[H\u001b[2J\u001b[H\u001b[2J\u001b[H\u001b[2J\u001b[H\u001b[2J\u001b[H"
       ]
      },
      {
       "output_type": "stream",
       "stream": "stdout",
       "text": [
        " [1429623868556, 1429623868561] {u'global_timestamp': None, u'hash': u'5e1a48ce6835204474aaaad1c9181958', u'htype': u'bsr_m-1.0', u'pulse_id': 720836}\n",
        "[0.23600730917044754, -0.79070783374929166] [1429623868565, 1429623868570] {u'global_timestamp': None, u'hash': u'5e1a48ce6835204474aaaad1c9181958', u'htype': u'bsr_m-1.0', u'pulse_id': 720837}\n",
        "[1.0071369592816282, -0.22083552262764339] [1429623868576, 1429623868581] {u'global_timestamp': None, u'hash': u'5e1a48ce6835204474aaaad1c9181958', u'htype': u'bsr_m-1.0', u'pulse_id': 720838}\n",
        "[0.94424907250570533, 0.73595102721541283] [1429623868585, 1429623868591] {u'global_timestamp': None, u'hash': u'5e1a48ce6835204474aaaad1c9181958', u'htype': u'bsr_m-1.0', u'pulse_id': 720839}\n",
        "[0.10516248192211364, 1.1999866743014149] [1429623868595, 1429623868601] {u'global_timestamp': None, u'hash': u'5e1a48ce6835204474aaaad1c9181958', u'htype': u'bsr_m-1.0', u'pulse_id': 720840}\n",
        "[-0.73867047073266423, 0.74463918470952084] [1429623868605, 1429623868610] {u'global_timestamp': None, u'hash': u'5e1a48ce6835204474aaaad1c9181958', u'htype': u'bsr_m-1.0', u'pulse_id': 720841}\n",
        "[-0.8114336603228669, -0.21144705957201937]"
       ]
      },
      {
       "output_type": "stream",
       "stream": "stdout",
       "text": [
        " [1429623868616, 1429623868620] {u'global_timestamp': None, u'hash': u'5e1a48ce6835204474aaaad1c9181958', u'htype': u'bsr_m-1.0', u'pulse_id': 720842}\n",
        "[-0.046228945903903418, -0.78925077476837657] [1429623868625, 1429623868631] {u'global_timestamp': None, u'hash': u'5e1a48ce6835204474aaaad1c9181958', u'htype': u'bsr_m-1.0', u'pulse_id': 720843}\n",
        "[0.85341798700977389, -0.45754188980637583] [1429623868635, 1429623868641] {u'global_timestamp': None, u'hash': u'5e1a48ce6835204474aaaad1c9181958', u'htype': u'bsr_m-1.0', u'pulse_id': 720844}\n",
        "[1.0603758972317294, 0.47870797623381839] [1429623868645, 1429623868651] {u'global_timestamp': None, u'hash': u'5e1a48ce6835204474aaaad1c9181958', u'htype': u'bsr_m-1.0', u'pulse_id': 720845}\n",
        "[0.38436863653920006, 1.1587150142523253] [1429623868655, 1429623868660] {u'global_timestamp': None, u'hash': u'5e1a48ce6835204474aaaad1c9181958', u'htype': u'bsr_m-1.0', u'pulse_id': 720846}\n",
        "[-0.55308583715431203, 0.95728388950805732] [1429623868666, 1429623868670] {u'global_timestamp': None, u'hash': u'5e1a48ce6835204474aaaad1c9181958', u'htype': u'bsr_m-1.0', u'pulse_id': 720847}\n",
        "[-0.89009620402779843, 0.059609449143668392]"
       ]
      },
      {
       "output_type": "stream",
       "stream": "stderr",
       "text": [
        "\u001b[2J\u001b[H\u001b[2J\u001b[H\u001b[2J\u001b[H\u001b[2J\u001b[H\u001b[2J\u001b[H\u001b[2J\u001b[H\u001b[2J\u001b[H"
       ]
      },
      {
       "output_type": "stream",
       "stream": "stdout",
       "text": [
        " [1429623868675, 1429623868681] {u'global_timestamp': None, u'hash': u'5e1a48ce6835204474aaaad1c9181958', u'htype': u'bsr_m-1.0', u'pulse_id': 720848}\n",
        "[-0.31681668698071119, -0.70899056620760592] [1429623868685, 1429623868691] {u'global_timestamp': None, u'hash': u'5e1a48ce6835204474aaaad1c9181958', u'htype': u'bsr_m-1.0', u'pulse_id': 720849}\n",
        "[0.63968216982780468, -0.64186884701237901] [1429623868695, 1429623868700] {u'global_timestamp': None, u'hash': u'5e1a48ce6835204474aaaad1c9181958', u'htype': u'bsr_m-1.0', u'pulse_id': 720850}\n",
        "[1.0999997285684788, 0.19926320764892469] [1429623868705, 1429623868710] {u'global_timestamp': None, u'hash': u'5e1a48ce6835204474aaaad1c9181958', u'htype': u'bsr_m-1.0', u'pulse_id': 720851}\n",
        "[0.6409221485983212, 1.0410726657999152] [1429623868716, 1429623868720] {u'global_timestamp': None, u'hash': u'5e1a48ce6835204474aaaad1c9181958', u'htype': u'bsr_m-1.0', u'pulse_id': 720852}\n",
        "[-0.31547676020283588, 1.10960379381979]"
       ]
      },
      {
       "output_type": "stream",
       "stream": "stderr",
       "text": [
        "\u001b[2J\u001b[H\u001b[2J\u001b[H\u001b[2J\u001b[H\u001b[2J\u001b[H\u001b[2J\u001b[H\u001b[2J\u001b[H\u001b[2J\u001b[H"
       ]
      },
      {
       "output_type": "stream",
       "stream": "stdout",
       "text": [
        " [1429623868725, 1429623868731] {u'global_timestamp': None, u'hash': u'5e1a48ce6835204474aaaad1c9181958', u'htype': u'bsr_m-1.0', u'pulse_id': 720853}\n",
        "[-0.88988825174275399, 0.34184938865456593] [1429623868735, 1429623868741] {u'global_timestamp': None, u'hash': u'5e1a48ce6835204474aaaad1c9181958', u'htype': u'bsr_m-1.0', u'pulse_id': 720854}\n",
        "[-0.55420104973394724, -0.55632069026769426] [1429623868746, 1429623868751] {u'global_timestamp': None, u'hash': u'5e1a48ce6835204474aaaad1c9181958', u'htype': u'bsr_m-1.0', u'pulse_id': 720855}\n",
        "[0.38295558039753552, -0.75913301450940263] [1429623868756, 1429623868760] {u'global_timestamp': None, u'hash': u'5e1a48ce6835204474aaaad1c9181958', u'htype': u'bsr_m-1.0', u'pulse_id': 720856}\n",
        "[1.0599641548280396, -0.080122868479685916] [1429623868765, 1429623868770] {u'global_timestamp': None, u'hash': u'5e1a48ce6835204474aaaad1c9181958', u'htype': u'bsr_m-1.0', u'pulse_id': 720857}\n",
        "[0.85438611241116391, 0.85643095097745858] [1429623868775, 1429623868780] {u'global_timestamp': None, u'hash': u'5e1a48ce6835204474aaaad1c9181958', u'htype': u'bsr_m-1.0', u'pulse_id': 720858}\n",
        "[-0.044771042726732629, 1.1894651813923593]"
       ]
      },
      {
       "output_type": "stream",
       "stream": "stderr",
       "text": [
        "\u001b[2J\u001b[H\u001b[2J\u001b[H\u001b[2J\u001b[H\u001b[2J\u001b[H\u001b[2J\u001b[H\u001b[2J\u001b[H"
       ]
      },
      {
       "output_type": "stream",
       "stream": "stdout",
       "text": [
        " [1429623868785, 1429623868791] {u'global_timestamp': None, u'hash': u'5e1a48ce6835204474aaaad1c9181958', u'htype': u'bsr_m-1.0', u'pulse_id': 720859}\n",
        "[-0.81082636882754122, 0.61278968718759907] [1429623868795, 1429623868800] {u'global_timestamp': None, u'hash': u'5e1a48ce6835204474aaaad1c9181958', u'htype': u'bsr_m-1.0', u'pulse_id': 720860}\n",
        "[-0.73947213191931771, -0.34340274174026358] [1429623868806, 1429623868811] {u'global_timestamp': None, u'hash': u'5e1a48ce6835204474aaaad1c9181958', u'htype': u'bsr_m-1.0', u'pulse_id': 720861}\n",
        "[0.10368891165144008, -0.79999319594226637] [1429623868816, 1429623868820] {u'global_timestamp': None, u'hash': u'5e1a48ce6835204474aaaad1c9181958', u'htype': u'bsr_m-1.0', u'pulse_id': 720862}\n",
        "[0.94345838686215155, -0.33719451749985035] [1429623868826, 1429623868831] {u'global_timestamp': None, u'hash': u'5e1a48ce6835204474aaaad1c9181958', u'htype': u'bsr_m-1.0', u'pulse_id': 720863}\n",
        "[1.007756110999444, 0.61949832293248264]"
       ]
      },
      {
       "output_type": "stream",
       "stream": "stderr",
       "text": [
        "\u001b[2J\u001b[H\u001b[2J\u001b[H\u001b[2J\u001b[H\u001b[2J\u001b[H\u001b[2J\u001b[H\u001b[2J\u001b[H\u001b[2J\u001b[H"
       ]
      },
      {
       "output_type": "stream",
       "stream": "stdout",
       "text": [
        " [1429623868835, 1429623868841] {u'global_timestamp': None, u'hash': u'5e1a48ce6835204474aaaad1c9181958', u'htype': u'bsr_m-1.0', u'pulse_id': 720864}\n",
        "[0.23746705301563739, 1.190506339876326] [1429623868846, 1429623868851] {u'global_timestamp': None, u'hash': u'5e1a48ce6835204474aaaad1c9181958', u'htype': u'bsr_m-1.0', u'pulse_id': 720865}\n",
        "[-0.65920857954895051, 0.85084739589189806] [1429623868856, 1429623868860] {u'global_timestamp': None, u'hash': u'5e1a48ce6835204474aaaad1c9181958', u'htype': u'bsr_m-1.0', u'pulse_id': 720866}\n",
        "[-0.85787134534598319, -0.087197642338993075] [1429623868865, 1429623868871] {u'global_timestamp': None, u'hash': u'5e1a48ce6835204474aaaad1c9181958', u'htype': u'bsr_m-1.0', u'pulse_id': 720867}\n",
        "[-0.17587161368195334, -0.76119449268320039] [1429623868875, 1429623868881] {u'global_timestamp': None, u'hash': u'5e1a48ce6835204474aaaad1c9181958', u'htype': u'bsr_m-1.0', u'pulse_id': 720868}\n",
        "[0.75976320735413505, -0.55147355922998686] [1429623868885, 1429623868890] {u'global_timestamp': None, u'hash': u'5e1a48ce6835204474aaaad1c9181958', u'htype': u'bsr_m-1.0', u'pulse_id': 720869}\n",
        "[1.0888147782027511, 0.34914869898140055]"
       ]
      },
      {
       "output_type": "stream",
       "stream": "stderr",
       "text": [
        "\u001b[2J\u001b[H\u001b[2J\u001b[H\u001b[2J\u001b[H\u001b[2J\u001b[H\u001b[2J\u001b[H\u001b[2J\u001b[H"
       ]
      },
      {
       "output_type": "stream",
       "stream": "stdout",
       "text": [
        " [1429623868896, 1429623868900] {u'global_timestamp': None, u'hash': u'5e1a48ce6835204474aaaad1c9181958', u'htype': u'bsr_m-1.0', u'pulse_id': 720870}\n",
        "[0.50875460212474388, 1.1126443311837544] [1429623868905, 1429623868911] {u'global_timestamp': None, u'hash': u'5e1a48ce6835204474aaaad1c9181958', u'htype': u'bsr_m-1.0', u'pulse_id': 720871}\n",
        "[-0.44711267007832478, 1.0370589741707368] [1429623868916, 1429623868920] {u'global_timestamp': None, u'hash': u'5e1a48ce6835204474aaaad1c9181958', u'htype': u'bsr_m-1.0', u'pulse_id': 720872}\n",
        "[-0.89996707655073116, 0.191885456600383] [1429623868926, 1429623868930] {u'global_timestamp': None, u'hash': u'5e1a48ce6835204474aaaad1c9181958', u'htype': u'bsr_m-1.0', u'pulse_id': 720873}\n",
        "[-0.43345636442684043, -0.64582758719049704] [1429623868935, 1429623868941] {u'global_timestamp': None, u'hash': u'5e1a48ce6835204474aaaad1c9181958', u'htype': u'bsr_m-1.0', u'pulse_id': 720874}\n",
        "[0.52351166899101798, -0.70589064805220425]"
       ]
      },
      {
       "output_type": "stream",
       "stream": "stderr",
       "text": [
        "\u001b[2J\u001b[H\u001b[2J\u001b[H\u001b[2J\u001b[H\u001b[2J\u001b[H\u001b[2J\u001b[H\u001b[2J\u001b[H"
       ]
      },
      {
       "output_type": "stream",
       "stream": "stdout",
       "text": [
        " [1429623868945, 1429623868951] {u'global_timestamp': None, u'hash': u'5e1a48ce6835204474aaaad1c9181958', u'htype': u'bsr_m-1.0', u'pulse_id': 720875}\n",
        "[1.0911050270626632, 0.066917975176518485] [1429623868956, 1429623868960] {u'global_timestamp': None, u'hash': u'5e1a48ce6835204474aaaad1c9181958', u'htype': u'bsr_m-1.0', u'pulse_id': 720876}\n",
        "[0.74748099396790579, 0.96208159828874806] [1429623868965, 1429623868970] {u'global_timestamp': None, u'hash': u'5e1a48ce6835204474aaaad1c9181958', u'htype': u'bsr_m-1.0', u'pulse_id': 720877}\n",
        "[-0.19143407896935397, 1.1565909144536572] [1429623868975, 1429623868981] {u'global_timestamp': None, u'hash': u'5e1a48ce6835204474aaaad1c9181958', u'htype': u'bsr_m-1.0', u'pulse_id': 720878}\n",
        "[-0.86240600371930476, 0.4716149554148989] [1429623868985, 1429623868991] {u'global_timestamp': None, u'hash': u'5e1a48ce6835204474aaaad1c9181958', u'htype': u'bsr_m-1.0', u'pulse_id': 720879}\n",
        "[-0.64854628701240968, -0.46308254101577367] [1429623868995, 1429623869000] {u'global_timestamp': None, u'hash': u'5e1a48ce6835204474aaaad1c9181958', u'htype': u'bsr_m-1.0', u'pulse_id': 720880}\n",
        "[0.25352343387562626, -0.78814500719835467]"
       ]
      },
      {
       "output_type": "stream",
       "stream": "stdout",
       "text": [
        " [1429623869006, 1429623869011] {u'global_timestamp': None, u'hash': u'5e1a48ce6835204474aaaad1c9181958', u'htype': u'bsr_m-1.0', u'pulse_id': 720881}\n",
        "[1.0144444176680012, -0.20471151082694727] [1429623869015, 1429623869021] {u'global_timestamp': None, u'hash': u'5e1a48ce6835204474aaaad1c9181958', u'htype': u'bsr_m-1.0', u'pulse_id': 720882}\n",
        "[0.93462942103291224, 0.75081188217599815] [1429623869025, 1429623869030] {u'global_timestamp': None, u'hash': u'5e1a48ce6835204474aaaad1c9181958', u'htype': u'bsr_m-1.0', u'pulse_id': 720883}\n",
        "[0.087459983790944745, 1.199921370905471] [1429623869035, 1429623869040] {u'global_timestamp': None, u'hash': u'5e1a48ce6835204474aaaad1c9181958', u'htype': u'bsr_m-1.0', u'pulse_id': 720884}\n",
        "[-0.74818022037966514, 0.72970776259811676] [1429623869045, 1429623869051] {u'global_timestamp': None, u'hash': u'5e1a48ce6835204474aaaad1c9181958', u'htype': u'bsr_m-1.0', u'pulse_id': 720885}\n",
        "[-0.80400744151670467, -0.22751671976943988] [1429623869055, 1429623869061] {u'global_timestamp': None, u'hash': u'5e1a48ce6835204474aaaad1c9181958', u'htype': u'bsr_m-1.0', u'pulse_id': 720886}\n",
        "[-0.02869438996720089, -0.79168430157534009]"
       ]
      },
      {
       "output_type": "stream",
       "stream": "stderr",
       "text": [
        "\u001b[2J\u001b[H\u001b[2J\u001b[H\u001b[2J\u001b[H\u001b[2J\u001b[H\u001b[2J\u001b[H\u001b[2J\u001b[H\u001b[2J\u001b[H"
       ]
      },
      {
       "output_type": "stream",
       "stream": "stdout",
       "text": [
        " [1429623869065, 1429623869071] {u'global_timestamp': None, u'hash': u'5e1a48ce6835204474aaaad1c9181958', u'htype': u'bsr_m-1.0', u'pulse_id': 720887}\n",
        "[0.86493969021356021, -0.44410190989934389] [1429623869075, 1429623869080] {u'global_timestamp': None, u'hash': u'5e1a48ce6835204474aaaad1c9181958', u'htype': u'bsr_m-1.0', u'pulse_id': 720888}\n",
        "[1.055291746912095, 0.49566480730996354] [1429623869086, 1429623869091] {u'global_timestamp': None, u'hash': u'5e1a48ce6835204474aaaad1c9181958', u'htype': u'bsr_m-1.0', u'pulse_id': 720889}\n",
        "[0.36735297705325631, 1.163598664206609] [1429623869096, 1429623869100] {u'global_timestamp': None, u'hash': u'5e1a48ce6835204474aaaad1c9181958', u'htype': u'bsr_m-1.0', u'pulse_id': 720890}\n",
        "[-0.56638888694692258, 0.94560435309461655] [1429623869105, 1429623869111] {u'global_timestamp': None, u'hash': u'5e1a48ce6835204474aaaad1c9181958', u'htype': u'bsr_m-1.0', u'pulse_id': 720891}\n",
        "[-0.887455881497907, 0.042104838278079093]"
       ]
      },
      {
       "output_type": "stream",
       "stream": "stderr",
       "text": [
        "\u001b[2J\u001b[H\u001b[2J\u001b[H\u001b[2J\u001b[H\u001b[2J\u001b[H\u001b[2J\u001b[H\u001b[2J\u001b[H"
       ]
      },
      {
       "output_type": "stream",
       "stream": "stdout",
       "text": [
        " [1429623869115, 1429623869120] {u'global_timestamp': None, u'hash': u'5e1a48ce6835204474aaaad1c9181958', u'htype': u'bsr_m-1.0', u'pulse_id': 720892}\n",
        "[-0.30066049248582871, -0.71622659302217007] [1429623869126, 1429623869131] {u'global_timestamp': None, u'hash': u'5e1a48ce6835204474aaaad1c9181958', u'htype': u'bsr_m-1.0', u'pulse_id': 720893}\n",
        "[0.65450030557719141, -0.63218352009325529] [1429623869135, 1429623869141] {u'global_timestamp': None, u'hash': u'5e1a48ce6835204474aaaad1c9181958', u'htype': u'bsr_m-1.0', u'pulse_id': 720894}\n",
        "[1.0998560799017181, 0.21696524339846768] [1429623869145, 1429623869150] {u'global_timestamp': None, u'hash': u'5e1a48ce6835204474aaaad1c9181958', u'htype': u'bsr_m-1.0', u'pulse_id': 720895}\n",
        "[0.62594878543716292, 1.0505162403488679] [1429623869155, 1429623869161] {u'global_timestamp': None, u'hash': u'5e1a48ce6835204474aaaad1c9181958', u'htype': u'bsr_m-1.0', u'pulse_id': 720896}\n",
        "[-0.33151339682122483, 1.1021065282791207]"
       ]
      },
      {
       "output_type": "stream",
       "stream": "stderr",
       "text": [
        "\u001b[2J\u001b[H\u001b[2J\u001b[H\u001b[2J\u001b[H\u001b[2J\u001b[H\u001b[2J\u001b[H\u001b[2J\u001b[H\u001b[2J\u001b[H"
       ]
      },
      {
       "output_type": "stream",
       "stream": "stdout",
       "text": [
        " [1429623869165, 1429623869171] {u'global_timestamp': None, u'hash': u'5e1a48ce6835204474aaaad1c9181958', u'htype': u'bsr_m-1.0', u'pulse_id': 720897}\n",
        "[-0.89224415206816565, 0.32430423438695444] [1429623869176, 1429623869180] {u'global_timestamp': None, u'hash': u'5e1a48ce6835204474aaaad1c9181958', u'htype': u'bsr_m-1.0', u'pulse_id': 720898}\n",
        "[-0.54071020987198914, -0.56778279934223042] [1429623869185, 1429623869191] {u'global_timestamp': None, u'hash': u'5e1a48ce6835204474aaaad1c9181958', u'htype': u'bsr_m-1.0', u'pulse_id': 720899}\n",
        "[0.39988974449397474, -0.75397386816795908] [1429623869196, 1429623869200] {u'global_timestamp': None, u'hash': u'5e1a48ce6835204474aaaad1c9181958', u'htype': u'bsr_m-1.0', u'pulse_id': 720900}\n",
        "[1.0647724507845928, -0.063085762075963614] [1429623869206, 1429623869210] {u'global_timestamp': None, u'hash': u'5e1a48ce6835204474aaaad1c9181958', u'htype': u'bsr_m-1.0', u'pulse_id': 720901}\n",
        "[0.84264781509996889, 0.86968218038651912] [1429623869215, 1429623869221] {u'global_timestamp': None, u'hash': u'5e1a48ce6835204474aaaad1c9181958', u'htype': u'bsr_m-1.0', u'pulse_id': 720902}\n",
        "[-0.062263796891694645, 1.1867474145992434]"
       ]
      },
      {
       "output_type": "stream",
       "stream": "stderr",
       "text": [
        "\u001b[2J\u001b[H\u001b[2J\u001b[H\u001b[2J\u001b[H\u001b[2J\u001b[H\u001b[2J\u001b[H\u001b[2J\u001b[H"
       ]
      },
      {
       "output_type": "stream",
       "stream": "stdout",
       "text": [
        " [1429623869225, 1429623869231] {u'global_timestamp': None, u'hash': u'5e1a48ce6835204474aaaad1c9181958', u'htype': u'bsr_m-1.0', u'pulse_id': 720903}\n",
        "[-0.81799082233897313, 0.59660162644827364] [1429623869236, 1429623869241] {u'global_timestamp': None, u'hash': u'5e1a48ce6835204474aaaad1c9181958', u'htype': u'bsr_m-1.0', u'pulse_id': 720904}\n",
        "[-0.72972131925937922, -0.35817786803712964] [1429623869246, 1429623869251] {u'global_timestamp': None, u'hash': u'5e1a48ce6835204474aaaad1c9181958', u'htype': u'bsr_m-1.0', u'pulse_id': 720905}\n",
        "[0.12139013829137803, -0.79977120481832031] [1429623869255, 1429623869261] {u'global_timestamp': None, u'hash': u'5e1a48ce6835204474aaaad1c9181958', u'htype': u'bsr_m-1.0', u'pulse_id': 720906}\n",
        "[0.95283560134271905, -0.32217950657068367] [1429623869266, 1429623869271] {u'global_timestamp': None, u'hash': u'5e1a48ce6835204474aaaad1c9181958', u'htype': u'bsr_m-1.0', u'pulse_id': 720907}\n",
        "[1.0001879455724474, 0.63550162186386472]"
       ]
      },
      {
       "output_type": "stream",
       "stream": "stderr",
       "text": [
        "\u001b[2J\u001b[H\u001b[2J\u001b[H\u001b[2J\u001b[H\u001b[2J\u001b[H\u001b[2J\u001b[H\u001b[2J\u001b[H\u001b[2J\u001b[H"
       ]
      },
      {
       "output_type": "stream",
       "stream": "stdout",
       "text": [
        " [1429623869275, 1429623869281] {u'global_timestamp': None, u'hash': u'5e1a48ce6835204474aaaad1c9181958', u'htype': u'bsr_m-1.0', u'pulse_id': 720908}\n",
        "[0.21991164407227443, 1.1927845675754052] [1429623869285, 1429623869291] {u'global_timestamp': None, u'hash': u'5e1a48ce6835204474aaaad1c9181958', u'htype': u'bsr_m-1.0', u'pulse_id': 720909}\n",
        "[-0.67061086998706831, 0.83730596031872606] [1429623869295, 1429623869302] {u'global_timestamp': None, u'hash': u'5e1a48ce6835204474aaaad1c9181958', u'htype': u'bsr_m-1.0', u'pulse_id': 720910}\n",
        "[-0.85263730403440696, -0.10410880776797143] [1429623869306, 1429623869311] {u'global_timestamp': None, u'hash': u'5e1a48ce6835204474aaaad1c9181958', u'htype': u'bsr_m-1.0', u'pulse_id': 720911}\n",
        "[-0.15881339406452791, -0.76592734046241762] [1429623869315, 1429623869321] {u'global_timestamp': None, u'hash': u'5e1a48ce6835204474aaaad1c9181958', u'htype': u'bsr_m-1.0', u'pulse_id': 720912}\n",
        "[0.77296235682915904, -0.53967673093787649] [1429623869325, 1429623869330] {u'global_timestamp': None, u'hash': u'5e1a48ce6835204474aaaad1c9181958', u'htype': u'bsr_m-1.0', u'pulse_id': 720913}\n",
        "[1.0860196203790329, 0.36662925381693334]"
       ]
      },
      {
       "output_type": "stream",
       "stream": "stdout",
       "text": [
        " [1429623869336, 1429623869341] {u'global_timestamp': None, u'hash': u'5e1a48ce6835204474aaaad1c9181958', u'htype': u'bsr_m-1.0', u'pulse_id': 720914}\n",
        "[0.4925349922148794, 1.1197370710626295] [1429623869345, 1429623869352] {u'global_timestamp': None, u'hash': u'5e1a48ce6835204474aaaad1c9181958', u'htype': u'bsr_m-1.0', u'pulse_id': 720915}\n",
        "[-0.46184449752376966, 1.0272428667581623] [1429623869355, 1429623869360] {u'global_timestamp': None, u'hash': u'5e1a48ce6835204474aaaad1c9181958', u'htype': u'bsr_m-1.0', u'pulse_id': 720916}\n",
        "[-0.89966674731771745, 0.17418538578218123] [1429623869365, 1429623869370] {u'global_timestamp': None, u'hash': u'5e1a48ce6835204474aaaad1c9181958', u'htype': u'bsr_m-1.0', u'pulse_id': 720917}\n",
        "[-0.41839999982716181, -0.65513825793213032] [1429623869375, 1429623869380] {u'global_timestamp': None, u'hash': u'5e1a48ce6835204474aaaad1c9181958', u'htype': u'bsr_m-1.0', u'pulse_id': 720918}\n",
        "[0.5394813167803999, -0.6982517309757692]"
       ]
      },
      {
       "output_type": "stream",
       "stream": "stderr",
       "text": [
        "\u001b[2J\u001b[H\u001b[2J\u001b[H\u001b[2J\u001b[H\u001b[2J\u001b[H\u001b[2J\u001b[H\u001b[2J\u001b[H"
       ]
      },
      {
       "output_type": "stream",
       "stream": "stdout",
       "text": [
        " [1429623869387, 1429623869391] {u'global_timestamp': None, u'hash': u'5e1a48ce6835204474aaaad1c9181958', u'htype': u'bsr_m-1.0', u'pulse_id': 720919}\n",
        "[1.0933055375119947, 0.084483294939618231] [1429623869396, 1429623869401] {u'global_timestamp': None, u'hash': u'5e1a48ce6835204474aaaad1c9181958', u'htype': u'bsr_m-1.0', u'pulse_id': 720920}\n",
        "[0.73388922791824551, 0.9734238467549412] [1429623869405, 1429623869411] {u'global_timestamp': None, u'hash': u'5e1a48ce6835204474aaaad1c9181958', u'htype': u'bsr_m-1.0', u'pulse_id': 720921}\n",
        "[-0.20832191449358914, 1.1512820806905846] [1429623869416, 1429623869420] {u'global_timestamp': None, u'hash': u'5e1a48ce6835204474aaaad1c9181958', u'htype': u'bsr_m-1.0', u'pulse_id': 720922}\n",
        "[-0.86706331061937669, 0.45453595670138813] [1429623869425, 1429623869431] {u'global_timestamp': None, u'hash': u'5e1a48ce6835204474aaaad1c9181958', u'htype': u'bsr_m-1.0', u'pulse_id': 720923}\n",
        "[-0.63669115880266347, -0.47622935202635869] [1429623869435, 1429623869440] {u'global_timestamp': None, u'hash': u'5e1a48ce6835204474aaaad1c9181958', u'htype': u'bsr_m-1.0', u'pulse_id': 720924}\n",
        "[0.27099144699187483, -0.78527251309250734]"
       ]
      },
      {
       "output_type": "stream",
       "stream": "stderr",
       "text": [
        "\u001b[2J\u001b[H\u001b[2J\u001b[H\u001b[2J\u001b[H\u001b[2J\u001b[H\u001b[2J\u001b[H\u001b[2J\u001b[H\u001b[2J\u001b[H"
       ]
      },
      {
       "output_type": "stream",
       "stream": "stdout",
       "text": [
        " [1429623869445, 1429623869451] {u'global_timestamp': None, u'hash': u'5e1a48ce6835204474aaaad1c9181958', u'htype': u'bsr_m-1.0', u'pulse_id': 720925}\n",
        "[1.021465304989543, -0.1884606694383984] [1429623869456, 1429623869460] {u'global_timestamp': None, u'hash': u'5e1a48ce6835204474aaaad1c9181958', u'htype': u'bsr_m-1.0', u'pulse_id': 720926}\n",
        "[0.92474821113480254, 0.76550012221921149] [1429623869466, 1429623869471] {u'global_timestamp': None, u'hash': u'5e1a48ce6835204474aaaad1c9181958', u'htype': u'bsr_m-1.0', u'pulse_id': 720927}\n",
        "[0.069761415483971384, 1.1995427094459081] [1429623869476, 1429623869480] {u'global_timestamp': None, u'hash': u'5e1a48ce6835204474aaaad1c9181958', u'htype': u'bsr_m-1.0', u'pulse_id': 720928}\n",
        "[-0.75742416501520038, 0.71461033923541284] [1429623869486, 1429623869491] {u'global_timestamp': None, u'hash': u'5e1a48ce6835204474aaaad1c9181958', u'htype': u'bsr_m-1.0', u'pulse_id': 720929}\n",
        "[-0.79629792241352548, -0.24345240362094983]"
       ]
      },
      {
       "output_type": "stream",
       "stream": "stderr",
       "text": [
        "\u001b[2J\u001b[H\u001b[2J\u001b[H\u001b[2J\u001b[H\u001b[2J\u001b[H\u001b[2J\u001b[H\u001b[2J\u001b[H\u001b[2J\u001b[H"
       ]
      },
      {
       "output_type": "stream",
       "stream": "stdout",
       "text": [
        " [1429623869496, 1429623869501] {u'global_timestamp': None, u'hash': u'5e1a48ce6835204474aaaad1c9181958', u'htype': u'bsr_m-1.0', u'pulse_id': 720930}\n",
        "[-0.011119503434501327, -0.79380705167374921] [1429623869506, 1429623869511] {u'global_timestamp': None, u'hash': u'5e1a48ce6835204474aaaad1c9181958', u'htype': u'bsr_m-1.0', u'pulse_id': 720931}\n",
        "[0.87622167454835798, -0.43046007959373839] [1429623869515, 1429623869521] {u'global_timestamp': None, u'hash': u'5e1a48ce6835204474aaaad1c9181958', u'htype': u'bsr_m-1.0', u'pulse_id': 720932}\n",
        "[1.0499082246811144, 0.51252898214913367] [1429623869526, 1429623869530] {u'global_timestamp': None, u'hash': u'5e1a48ce6835204474aaaad1c9181958', u'htype': u'bsr_m-1.0', u'pulse_id': 720933}\n",
        "[0.35025353376827606, 1.1681803390053376] [1429623869535, 1429623869540] {u'global_timestamp': None, u'hash': u'5e1a48ce6835204474aaaad1c9181958', u'htype': u'bsr_m-1.0', u'pulse_id': 720934}\n",
        "[-0.5794831019878145, 0.93369115717242845] [1429623869546, 1429623869550] {u'global_timestamp': None, u'hash': u'5e1a48ce6835204474aaaad1c9181958', u'htype': u'bsr_m-1.0', u'pulse_id': 720935}\n",
        "[-0.88450610737318114, 0.024649709025316213]"
       ]
      },
      {
       "output_type": "stream",
       "stream": "stderr",
       "text": [
        "\u001b[2J\u001b[H\u001b[2J\u001b[H\u001b[2J\u001b[H\u001b[2J\u001b[H\u001b[2J\u001b[H\u001b[2J\u001b[H\u001b[2J\u001b[H"
       ]
      },
      {
       "output_type": "stream",
       "stream": "stdout",
       "text": [
        " [1429623869555, 1429623869560] {u'global_timestamp': None, u'hash': u'5e1a48ce6835204474aaaad1c9181958', u'htype': u'bsr_m-1.0', u'pulse_id': 720936}\n",
        "[-0.28437873792217772, -0.72317549026897043] [1429623869566, 1429623869571] {u'global_timestamp': None, u'hash': u'5e1a48ce6835204474aaaad1c9181958', u'htype': u'bsr_m-1.0', u'pulse_id': 720937}\n",
        "[0.66914467052110516, -0.62223740125186633] [1429623869576, 1429623869580] {u'global_timestamp': None, u'hash': u'5e1a48ce6835204474aaaad1c9181958', u'htype': u'bsr_m-1.0', u'pulse_id': 720938}\n",
        "[1.0993990936324094, 0.23466196253414995] [1429623869586, 1429623869591] {u'global_timestamp': None, u'hash': u'5e1a48ce6835204474aaaad1c9181958', u'htype': u'bsr_m-1.0', u'pulse_id': 720939}\n",
        "[0.61081059902313406, 1.059693277818099] [1429623869595, 1429623869601] {u'global_timestamp': None, u'hash': u'5e1a48ce6835204474aaaad1c9181958', u'htype': u'bsr_m-1.0', u'pulse_id': 720940}\n",
        "[-0.34741480460423924, 1.0943265581547663] [1429623869606, 1429623869610] {u'global_timestamp': None, u'hash': u'5e1a48ce6835204474aaaad1c9181958', u'htype': u'bsr_m-1.0', u'pulse_id': 720941}\n",
        "[-0.89428910023756125, 0.30672012532217541]"
       ]
      },
      {
       "output_type": "stream",
       "stream": "stderr",
       "text": [
        "\u001b[2J\u001b[H\u001b[2J\u001b[H\u001b[2J\u001b[H\u001b[2J\u001b[H\u001b[2J\u001b[H\u001b[2J\u001b[H"
       ]
      },
      {
       "output_type": "stream",
       "stream": "stdout",
       "text": [
        " [1429623869615, 1429623869620] {u'global_timestamp': None, u'hash': u'5e1a48ce6835204474aaaad1c9181958', u'htype': u'bsr_m-1.0', u'pulse_id': 720942}\n",
        "[-0.52701858251158529, -0.57900429856654978] [1429623869625, 1429623869630] {u'global_timestamp': None, u'hash': u'5e1a48ce6835204474aaaad1c9181958', u'htype': u'bsr_m-1.0', u'pulse_id': 720943}\n",
        "[0.41672992833119737, -0.74851576291557453] [1429623869636, 1429623869641] {u'global_timestamp': None, u'hash': u'5e1a48ce6835204474aaaad1c9181958', u'htype': u'bsr_m-1.0', u'pulse_id': 720944}\n",
        "[1.0692784037411784, -0.045966209144575609] [1429623869646, 1429623869651] {u'global_timestamp': None, u'hash': u'5e1a48ce6835204474aaaad1c9181958', u'htype': u'bsr_m-1.0', u'pulse_id': 720945}\n",
        "[0.83067678480789942, 0.8827235429826561] [1429623869656, 1429623869660] {u'global_timestamp': None, u'hash': u'5e1a48ce6835204474aaaad1c9181958', u'htype': u'bsr_m-1.0', u'pulse_id': 720946}\n",
        "[-0.079705700389125195, 1.1837204182325658]"
       ]
      },
      {
       "output_type": "stream",
       "stream": "stdout",
       "text": [
        " [1429623869665, 1429623869671] {u'global_timestamp': None, u'hash': u'5e1a48ce6835204474aaaad1c9181958', u'htype': u'bsr_m-1.0', u'pulse_id': 720947}\n",
        "[-0.82486759340368632, 0.58028927761859606] [1429623869675, 1429623869680] {u'global_timestamp': None, u'hash': u'5e1a48ce6835204474aaaad1c9181958', u'htype': u'bsr_m-1.0', u'pulse_id': 720948}\n",
        "[-0.71971048628833245, -0.37277807104405253] [1429623869686, 1429623869690] {u'global_timestamp': None, u'hash': u'5e1a48ce6835204474aaaad1c9181958', u'htype': u'bsr_m-1.0', u'pulse_id': 720949}\n",
        "[0.13908466163192609, -0.79923590269020939] [1429623869695, 1429623869701] {u'global_timestamp': None, u'hash': u'5e1a48ce6835204474aaaad1c9181958', u'htype': u'bsr_m-1.0', u'pulse_id': 720950}\n",
        "[0.96194555189594366, -0.30700085361545199] [1429623869706, 1429623869711] {u'global_timestamp': None, u'hash': u'5e1a48ce6835204474aaaad1c9181958', u'htype': u'bsr_m-1.0', u'pulse_id': 720951}\n",
        "[0.99233767681240326, 0.6513684421191217]"
       ]
      },
      {
       "output_type": "stream",
       "stream": "stderr",
       "text": [
        "\u001b[2J\u001b[H\u001b[2J\u001b[H\u001b[2J\u001b[H\u001b[2J\u001b[H\u001b[2J\u001b[H\u001b[2J\u001b[H\u001b[2J\u001b[H"
       ]
      },
      {
       "output_type": "stream",
       "stream": "stdout",
       "text": [
        " [1429623869716, 1429623869721] {u'global_timestamp': None, u'hash': u'5e1a48ce6835204474aaaad1c9181958', u'htype': u'bsr_m-1.0', u'pulse_id': 720952}\n",
        "[0.20231865689357692, 1.1947516737615949] [1429623869725, 1429623869731] {u'global_timestamp': None, u'hash': u'5e1a48ce6835204474aaaad1c9181958', u'htype': u'bsr_m-1.0', u'pulse_id': 720953}\n",
        "[-0.68177166430654201, 0.82356480408004051] [1429623869735, 1429623869740] {u'global_timestamp': None, u'hash': u'5e1a48ce6835204474aaaad1c9181958', u'htype': u'bsr_m-1.0', u'pulse_id': 720954}\n",
        "[-0.84710472266797276, -0.12092467075627344] [1429623869745, 1429623869751] {u'global_timestamp': None, u'hash': u'5e1a48ce6835204474aaaad1c9181958', u'htype': u'bsr_m-1.0', u'pulse_id': 720955}\n",
        "[-0.14167406680567926, -0.77035748331921683] [1429623869756, 1429623869761] {u'global_timestamp': None, u'hash': u'5e1a48ce6835204474aaaad1c9181958', u'htype': u'bsr_m-1.0', u'pulse_id': 720956}\n",
        "[0.7859506115406939, -0.5276481007512821] [1429623869765, 1429623869771] {u'global_timestamp': None, u'hash': u'5e1a48ce6835204474aaaad1c9181958', u'htype': u'bsr_m-1.0', u'pulse_id': 720957}\n",
        "[1.0829154610598744, 0.38405758992623651]"
       ]
      },
      {
       "output_type": "stream",
       "stream": "stderr",
       "text": [
        "\u001b[2J\u001b[H\u001b[2J\u001b[H\u001b[2J\u001b[H\u001b[2J\u001b[H\u001b[2J\u001b[H\u001b[2J\u001b[H"
       ]
      },
      {
       "output_type": "stream",
       "stream": "stdout",
       "text": [
        " [1429623869776, 1429623869781] {u'global_timestamp': None, u'hash': u'5e1a48ce6835204474aaaad1c9181958', u'htype': u'bsr_m-1.0', u'pulse_id': 720958}\n",
        "[0.47619236862749759, 1.1265415812506383] [1429623869785, 1429623869791] {u'global_timestamp': None, u'hash': u'5e1a48ce6835204474aaaad1c9181958', u'htype': u'bsr_m-1.0', u'pulse_id': 720959}\n",
        "[-0.47640025262100605, 1.0171675157386277] [1429623869796, 1429623869801] {u'global_timestamp': None, u'hash': u'5e1a48ce6835204474aaaad1c9181958', u'htype': u'bsr_m-1.0', u'pulse_id': 720960}\n",
        "[-0.89905313981571322, 0.15649340481760171] [1429623869806, 1429623869811] {u'global_timestamp': None, u'hash': u'5e1a48ce6835204474aaaad1c9181958', u'htype': u'bsr_m-1.0', u'pulse_id': 720961}\n",
        "[-0.40318117763346362, -0.66418094313367071] [1429623869815, 1429623869820] {u'global_timestamp': None, u'hash': u'5e1a48ce6835204474aaaad1c9181958', u'htype': u'bsr_m-1.0', u'pulse_id': 720962}\n",
        "[0.55531323872610039, -0.69033131734245368]"
       ]
      },
      {
       "output_type": "stream",
       "stream": "stderr",
       "text": [
        "\u001b[2J\u001b[H\u001b[2J\u001b[H\u001b[2J\u001b[H\u001b[2J\u001b[H\u001b[2J\u001b[H\u001b[2J\u001b[H\u001b[2J\u001b[H"
       ]
      },
      {
       "output_type": "stream",
       "stream": "stdout",
       "text": [
        " [1429623869825, 1429623869830] {u'global_timestamp': None, u'hash': u'5e1a48ce6835204474aaaad1c9181958', u'htype': u'bsr_m-1.0', u'pulse_id': 720963}\n",
        "[1.0951947631854693, 0.10208481564017831] [1429623869835, 1429623869840] {u'global_timestamp': None, u'hash': u'5e1a48ce6835204474aaaad1c9181958', u'htype': u'bsr_m-1.0', u'pulse_id': 720964}\n",
        "[0.72009881194791214, 0.98452371756422252] [1429623869845, 1429623869851] {u'global_timestamp': None, u'hash': u'5e1a48ce6835204474aaaad1c9181958', u'htype': u'bsr_m-1.0', u'pulse_id': 720965}\n",
        "[-0.2251131272623674, 1.1456751315762108] [1429623869855, 1429623869861] {u'global_timestamp': None, u'hash': u'5e1a48ce6835204474aaaad1c9181958', u'htype': u'bsr_m-1.0', u'pulse_id': 720966}\n",
        "[-0.87141755660363029, 0.43737719082134385] [1429623869865, 1429623869870] {u'global_timestamp': None, u'hash': u'5e1a48ce6835204474aaaad1c9181958', u'htype': u'bsr_m-1.0', u'pulse_id': 720967}\n",
        "[-0.62460516432510382, -0.48916424445366385] [1429623869876, 1429623869880] {u'global_timestamp': None, u'hash': u'5e1a48ce6835204474aaaad1c9181958', u'htype': u'bsr_m-1.0', u'pulse_id': 720968}\n",
        "[0.28840587434599863, -0.78209125162172155]"
       ]
      },
      {
       "output_type": "stream",
       "stream": "stderr",
       "text": [
        "\u001b[2J\u001b[H\u001b[2J\u001b[H\u001b[2J\u001b[H\u001b[2J\u001b[H\u001b[2J\u001b[H\u001b[2J\u001b[H"
       ]
      },
      {
       "output_type": "stream",
       "stream": "stdout",
       "text": [
        " [1429623869885, 1429623869891] {u'global_timestamp': None, u'hash': u'5e1a48ce6835204474aaaad1c9181958', u'htype': u'bsr_m-1.0', u'pulse_id': 720969}\n",
        "[1.0281974210215958, -0.17208809119462337] [1429623869895, 1429623869901] {u'global_timestamp': None, u'hash': u'5e1a48ce6835204474aaaad1c9181958', u'htype': u'bsr_m-1.0', u'pulse_id': 720970}\n",
        "[0.91460853941165887, 0.78001114430466223] [1429623869906, 1429623869910] {u'global_timestamp': None, u'hash': u'5e1a48ce6835204474aaaad1c9181958', u'htype': u'bsr_m-1.0', u'pulse_id': 720971}\n",
        "[0.052072323426397484, 1.1988508085886782] [1429623869916, 1429623869920] {u'global_timestamp': None, u'hash': u'5e1a48ce6835204474aaaad1c9181958', u'htype': u'bsr_m-1.0', u'pulse_id': 720972}\n",
        "[-0.76639940774689863, 0.69935164589277499] [1429623869925, 1429623869930] {u'global_timestamp': None, u'hash': u'5e1a48ce6835204474aaaad1c9181958', u'htype': u'bsr_m-1.0', u'pulse_id': 720973}\n",
        "[-0.78830751904327734, -0.25924911715884391]"
       ]
      },
      {
       "output_type": "stream",
       "stream": "stderr",
       "text": [
        "\u001b[2J\u001b[H\u001b[2J\u001b[H\u001b[2J\u001b[H\u001b[2J\u001b[H\u001b[2J\u001b[H\u001b[2J\u001b[H\u001b[2J\u001b[H"
       ]
      },
      {
       "output_type": "stream",
       "stream": "stdout",
       "text": [
        " [1429623869936, 1429623869941] {u'global_timestamp': None, u'hash': u'5e1a48ce6835204474aaaad1c9181958', u'htype': u'bsr_m-1.0', u'pulse_id': 720974}\n",
        "[0.0064902060287203023, -0.79561835983043672] [1429623869945, 1429623869951] {u'global_timestamp': None, u'hash': u'5e1a48ce6835204474aaaad1c9181958', u'htype': u'bsr_m-1.0', u'pulse_id': 720975}\n",
        "[0.8872604044354031, -0.41662067400323638] [1429623869956, 1429623869961] {u'global_timestamp': None, u'hash': u'5e1a48ce6835204474aaaad1c9181958', u'htype': u'bsr_m-1.0', u'pulse_id': 720976}\n",
        "[1.0442270176415449, 0.52929521581060646] [1429623869965, 1429623869971] {u'global_timestamp': None, u'hash': u'5e1a48ce6835204474aaaad1c9181958', u'htype': u'bsr_m-1.0', u'pulse_id': 720977}\n",
        "[0.33307566535404348, 1.1724586028308712] [1429623869975, 1429623869980] {u'global_timestamp': None, u'hash': u'5e1a48ce6835204474aaaad1c9181958', u'htype': u'bsr_m-1.0', u'pulse_id': 720978}\n",
        "[-0.59236437877646364, 0.92154803513105188] [1429623869986, 1429623869990] {u'global_timestamp': None, u'hash': u'5e1a48ce6835204474aaaad1c9181958', u'htype': u'bsr_m-1.0', u'pulse_id': 720979}\n",
        "[-0.8812478060618143, 0.0072495315209944733]"
       ]
      },
      {
       "output_type": "stream",
       "stream": "stdout",
       "text": [
        " [1429623869995, 1429623870000] {u'global_timestamp': None, u'hash': u'5e1a48ce6835204474aaaad1c9181958', u'htype': u'bsr_m-1.0', u'pulse_id': 720980}\n",
        "[-0.26797652571003916, -0.72983508028379362] [1429623870005, 1429623870010] {u'global_timestamp': None, u'hash': u'5e1a48ce6835204474aaaad1c9181958', u'htype': u'bsr_m-1.0', u'pulse_id': 720981}\n",
        "[0.68361067536885234, -0.61203360742983537] [1429623870015, 1429623870020] {u'global_timestamp': None, u'hash': u'5e1a48ce6835204474aaaad1c9181958', u'htype': u'bsr_m-1.0', u'pulse_id': 720982}\n",
        "[1.0986289129721458, 0.25234781921026594] [1429623870025, 1429623870031] {u'global_timestamp': None, u'hash': u'5e1a48ce6835204474aaaad1c9181958', u'htype': u'bsr_m-1.0', u'pulse_id': 720983}\n",
        "[0.59551233340203591, 1.0686009022827858] [1429623870035, 1429623870041] {u'global_timestamp': None, u'hash': u'5e1a48ce6835204474aaaad1c9181958', u'htype': u'bsr_m-1.0', u'pulse_id': 720984}\n",
        "[-0.36317600032570074, 1.0862663215548058]"
       ]
      },
      {
       "output_type": "stream",
       "stream": "stderr",
       "text": [
        "\u001b[2J\u001b[H\u001b[2J\u001b[H\u001b[2J\u001b[H\u001b[2J\u001b[H\u001b[2J\u001b[H\u001b[2J\u001b[H"
       ]
      },
      {
       "output_type": "stream",
       "stream": "stdout",
       "text": [
        " [1429623870045, 1429623870050] {u'global_timestamp': None, u'hash': u'5e1a48ce6835204474aaaad1c9181958', u'htype': u'bsr_m-1.0', u'pulse_id': 720985}\n",
        "[-0.89602245539955272, 0.28910257201588574] [1429623870056, 1429623870061] {u'global_timestamp': None, u'hash': u'5e1a48ce6835204474aaaad1c9181958', u'htype': u'bsr_m-1.0', u'pulse_id': 720986}\n",
        "[-0.51313045837194859, -0.58998167131687573] [1429623870065, 1429623870070] {u'global_timestamp': None, u'hash': u'5e1a48ce6835204474aaaad1c9181958', u'htype': u'bsr_m-1.0', u'pulse_id': 720987}\n",
        "[0.43347085448684619, -0.74276040922803532] [1429623870076, 1429623870080] {u'global_timestamp': None, u'hash': u'5e1a48ce6835204474aaaad1c9181958', u'htype': u'bsr_m-1.0', u'pulse_id': 720988}\n",
        "[1.0734806016100724, -0.028769574657321301] [1429623870085, 1429623870090] {u'global_timestamp': None, u'hash': u'5e1a48ce6835204474aaaad1c9181958', u'htype': u'bsr_m-1.0', u'pulse_id': 720989}\n",
        "[0.81847677304880573, 0.89555095182838684]"
       ]
      },
      {
       "output_type": "stream",
       "stream": "stderr",
       "text": [
        "\u001b[2J\u001b[H\u001b[2J\u001b[H\u001b[2J\u001b[H\u001b[2J\u001b[H\u001b[2J\u001b[H\u001b[2J\u001b[H\u001b[2J\u001b[H"
       ]
      },
      {
       "output_type": "stream",
       "stream": "stdout",
       "text": [
        " [1429623870096, 1429623870101] {u'global_timestamp': None, u'hash': u'5e1a48ce6835204474aaaad1c9181958', u'htype': u'bsr_m-1.0', u'pulse_id': 720990}\n",
        "[-0.097091287228132622, 1.180385140900635] [1429623870106, 1429623870111] {u'global_timestamp': None, u'hash': u'5e1a48ce6835204474aaaad1c9181958', u'htype': u'bsr_m-1.0', u'pulse_id': 720991}\n",
        "[-0.83145452696056554, 0.56385775270656135] [1429623870116, 1429623870121] {u'global_timestamp': None, u'hash': u'5e1a48ce6835204474aaaad1c9181958', u'htype': u'bsr_m-1.0', u'pulse_id': 720992}\n",
        "[-0.7094427702280891, -0.38719877530992602] [1429623870125, 1429623870131] {u'global_timestamp': None, u'hash': u'5e1a48ce6835204474aaaad1c9181958', u'htype': u'bsr_m-1.0', u'pulse_id': 720993}\n",
        "[0.15676693651550286, -0.7983874573123626] [1429623870135, 1429623870141] {u'global_timestamp': None, u'hash': u'5e1a48ce6835204474aaaad1c9181958', u'htype': u'bsr_m-1.0', u'pulse_id': 720994}\n",
        "[0.97078538362088207, -0.29166331536147094] [1429623870145, 1429623870151] {u'global_timestamp': None, u'hash': u'5e1a48ce6835204474aaaad1c9181958', u'htype': u'bsr_m-1.0', u'pulse_id': 720995}\n",
        "[0.98420776485776751, 0.66709381131120848]"
       ]
      },
      {
       "output_type": "stream",
       "stream": "stderr",
       "text": [
        "\u001b[2J\u001b[H\u001b[2J\u001b[H\u001b[2J\u001b[H\u001b[2J\u001b[H\u001b[2J\u001b[H\u001b[2J\u001b[H"
       ]
      },
      {
       "output_type": "stream",
       "stream": "stdout",
       "text": [
        " [1429623870156, 1429623870160] {u'global_timestamp': None, u'hash': u'5e1a48ce6835204474aaaad1c9181958', u'htype': u'bsr_m-1.0', u'pulse_id': 720996}\n",
        "[0.18469360481744929, 1.1964070419778383] [1429623870166, 1429623870170] {u'global_timestamp': None, u'hash': u'5e1a48ce6835204474aaaad1c9181958', u'htype': u'bsr_m-1.0', u'pulse_id': 720997}\n",
        "[-0.69268746490746191, 0.80962823341654833] [1429623870175, 1429623870180] {u'global_timestamp': None, u'hash': u'5e1a48ce6835204474aaaad1c9181958', u'htype': u'bsr_m-1.0', u'pulse_id': 720998}\n",
        "[-0.84127533506199281, -0.13763996150327534] [1429623870185, 1429623870190] {u'global_timestamp': None, u'hash': u'5e1a48ce6835204474aaaad1c9181958', u'htype': u'bsr_m-1.0', u'pulse_id': 720999}\n",
        "[-0.12445900307413915, -0.7744835329234474] [1429623870195, 1429623870200] {u'global_timestamp': None, u'hash': u'5e1a48ce6835204474aaaad1c9181958', u'htype': u'bsr_m-1.0', u'pulse_id': 721000}\n",
        "[0.79872390119435022, -0.51539143823486433] [1429623870205, 1429623870211] {u'global_timestamp': None, u'hash': u'5e1a48ce6835204474aaaad1c9181958', u'htype': u'bsr_m-1.0', u'pulse_id': 721001}\n",
        "[1.0795032730351186, 0.40142824557020318]"
       ]
      },
      {
       "output_type": "stream",
       "stream": "stderr",
       "text": [
        "\u001b[2J\u001b[H\u001b[2J\u001b[H\u001b[2J\u001b[H\u001b[2J\u001b[H\u001b[2J\u001b[H\u001b[2J\u001b[H\u001b[2J\u001b[H"
       ]
      },
      {
       "output_type": "stream",
       "stream": "stdout",
       "text": [
        " [1429623870216, 1429623870221] {u'global_timestamp': None, u'hash': u'5e1a48ce6835204474aaaad1c9181958', u'htype': u'bsr_m-1.0', u'pulse_id': 721002}\n",
        "[0.45973185285817886, 1.1330557293319738] [1429623870225, 1429623870230] {u'global_timestamp': None, u'hash': u'5e1a48ce6835204474aaaad1c9181958', u'htype': u'bsr_m-1.0', u'pulse_id': 721003}\n",
        "[-0.49077537384813374, 1.0068360785528854] [1429623870235, 1429623870241] {u'global_timestamp': None, u'hash': u'5e1a48ce6835204474aaaad1c9181958', u'htype': u'bsr_m-1.0', u'pulse_id': 721004}\n",
        "[-0.89812644633869676, 0.13881505806748917] [1429623870245, 1429623870251] {u'global_timestamp': None, u'hash': u'5e1a48ce6835204474aaaad1c9181958', u'htype': u'bsr_m-1.0', u'pulse_id': 721005}\n",
        "[-0.38780466716140605, -0.67295280897397314] [1429623870255, 1429623870260] {u'global_timestamp': None, u'hash': u'5e1a48ce6835204474aaaad1c9181958', u'htype': u'bsr_m-1.0', u'pulse_id': 721006}\n",
        "[0.57100247337760057, -0.6821318892729038]"
       ]
      },
      {
       "output_type": "stream",
       "stream": "stderr",
       "text": [
        "\u001b[2J\u001b[H\u001b[2J\u001b[H\u001b[2J\u001b[H\u001b[2J\u001b[H\u001b[2J\u001b[H\u001b[2J\u001b[H\u001b[2J\u001b[H"
       ]
      },
      {
       "output_type": "stream",
       "stream": "stdout",
       "text": [
        " [1429623870266, 1429623870270] {u'global_timestamp': None, u'hash': u'5e1a48ce6835204474aaaad1c9181958', u'htype': u'bsr_m-1.0', u'pulse_id': 721007}\n",
        "[1.0967721120324354, 0.11971702126603619] [1429623870276, 1429623870280] {u'global_timestamp': None, u'hash': u'5e1a48ce6835204474aaaad1c9181958', u'htype': u'bsr_m-1.0', u'pulse_id': 721008}\n",
        "[0.70611406773476049, 0.9953777322090569] [1429623870286, 1429623870291] {u'global_timestamp': None, u'hash': u'5e1a48ce6835204474aaaad1c9181958', u'htype': u'bsr_m-1.0', u'pulse_id': 721009}\n",
        "[-0.24180245520001756, 1.1397718242314141] [1429623870296, 1429623870300] {u'global_timestamp': None, u'hash': u'5e1a48ce6835204474aaaad1c9181958', u'htype': u'bsr_m-1.0', u'pulse_id': 721010}\n",
        "[-0.87546737712668254, 0.42014403503522546] [1429623870305, 1429623870311] {u'global_timestamp': None, u'hash': u'5e1a48ce6835204474aaaad1c9181958', u'htype': u'bsr_m-1.0', u'pulse_id': 721011}\n",
        "[-0.61229209112136807, -0.50188316472611638] [1429623870315, 1429623870320] {u'global_timestamp': None, u'hash': u'5e1a48ce6835204474aaaad1c9181958', u'htype': u'bsr_m-1.0', u'pulse_id': 721012}\n",
        "[0.30576125855765401, -0.77860221973832155]"
       ]
      },
      {
       "output_type": "stream",
       "stream": "stdout",
       "text": [
        " [1429623870325, 1429623870330] {u'global_timestamp': None, u'hash': u'5e1a48ce6835204474aaaad1c9181958', u'htype': u'bsr_m-1.0', u'pulse_id': 721013}\n",
        "[1.0346386560354299, -0.15559890697847378] [1429623870337, 1429623870341] {u'global_timestamp': None, u'hash': u'5e1a48ce6835204474aaaad1c9181958', u'htype': u'bsr_m-1.0', u'pulse_id': 721014}\n",
        "[0.90421358346122982, 0.79434040092900249] [1429623870345, 1429623870351] {u'global_timestamp': None, u'hash': u'5e1a48ce6835204474aaaad1c9181958', u'htype': u'bsr_m-1.0', u'pulse_id': 721015}\n",
        "[0.034398251073734246, 1.1978458851635432] [1429623870356, 1429623870361] {u'global_timestamp': None, u'hash': u'5e1a48ce6835204474aaaad1c9181958', u'htype': u'bsr_m-1.0', u'pulse_id': 721016}\n",
        "[-0.7751031358889181, 0.68393646438079214] [1429623870365, 1429623870370] {u'global_timestamp': None, u'hash': u'5e1a48ce6835204474aaaad1c9181958', u'htype': u'bsr_m-1.0', u'pulse_id': 721017}\n",
        "[-0.78003873546017921, -0.27490190996630953]"
       ]
      },
      {
       "output_type": "stream",
       "stream": "stderr",
       "text": [
        "\u001b[2J\u001b[H\u001b[2J\u001b[H\u001b[2J\u001b[H\u001b[2J\u001b[H\u001b[2J\u001b[H\u001b[2J\u001b[H"
       ]
      },
      {
       "output_type": "stream",
       "stream": "stdout",
       "text": [
        " [1429623870376, 1429623870380] {u'global_timestamp': None, u'hash': u'5e1a48ce6835204474aaaad1c9181958', u'htype': u'bsr_m-1.0', u'pulse_id': 721018}\n",
        "[0.024129219844084865, -0.7971176584127535] [1429623870385, 1429623870391] {u'global_timestamp': None, u'hash': u'5e1a48ce6835204474aaaad1c9181958', u'htype': u'bsr_m-1.0', u'pulse_id': 721019}\n",
        "[0.89805242052766787, -0.40258803015819217] [1429623870395, 1429623870400] {u'global_timestamp': None, u'hash': u'5e1a48ce6835204474aaaad1c9181958', u'htype': u'bsr_m-1.0', u'pulse_id': 721020}\n",
        "[1.0382499061854138, 0.54595825404673093] [1429623870408, 1429623870410] {u'global_timestamp': None, u'hash': u'5e1a48ce6835204474aaaad1c9181958', u'htype': u'bsr_m-1.0', u'pulse_id': 721021}\n",
        "[0.31582475505742169, 1.1764321149493209] [1429623870415, 1429623870420] {u'global_timestamp': None, u'hash': u'5e1a48ce6835204474aaaad1c9181958', u'htype': u'bsr_m-1.0', u'pulse_id': 721022}\n",
        "[-0.60502868054351089, 0.90917879241491417]"
       ]
      },
      {
       "output_type": "stream",
       "stream": "stderr",
       "text": [
        "\u001b[2J\u001b[H\u001b[2J\u001b[H\u001b[2J\u001b[H\u001b[2J\u001b[H\u001b[2J\u001b[H\u001b[2J\u001b[H\u001b[2J\u001b[H"
       ]
      },
      {
       "output_type": "stream",
       "stream": "stdout",
       "text": [
        " [1429623870425, 1429623870431] {u'global_timestamp': None, u'hash': u'5e1a48ce6835204474aaaad1c9181958', u'htype': u'bsr_m-1.0', u'pulse_id': 721023}\n",
        "[-0.8776819986590837, -0.010090241320199034] [1429623870436, 1429623870440] {u'global_timestamp': None, u'hash': u'5e1a48ce6835204474aaaad1c9181958', u'htype': u'bsr_m-1.0', u'pulse_id': 721024}\n",
        "[-0.25145899601903787, -0.73620327606630909] [1429623870449, 1429623870450] {u'global_timestamp': None, u'hash': u'5e1a48ce6835204474aaaad1c9181958', u'htype': u'bsr_m-1.0', u'pulse_id': 721025}\n",
        "[0.6978937867247087, -0.60157533631966786] [1429623870455, 1429623870461] {u'global_timestamp': None, u'hash': u'5e1a48ce6835204474aaaad1c9181958', u'htype': u'bsr_m-1.0', u'pulse_id': 721026}\n",
        "[1.0975457792822256, 0.27001727098521694] [1429623870465, 1429623870470] {u'global_timestamp': None, u'hash': u'5e1a48ce6835204474aaaad1c9181958', u'htype': u'bsr_m-1.0', u'pulse_id': 721027}\n",
        "[0.58005878278572498, 1.0772363222474821] [1429623870476, 1429623870481] {u'global_timestamp': None, u'hash': u'5e1a48ce6835204474aaaad1c9181958', u'htype': u'bsr_m-1.0', u'pulse_id': 721028}\n",
        "[-0.37879204469946637, 1.077928344417985]"
       ]
      },
      {
       "output_type": "stream",
       "stream": "stderr",
       "text": [
        "\u001b[2J\u001b[H\u001b[2J\u001b[H\u001b[2J\u001b[H\u001b[2J\u001b[H\u001b[2J\u001b[H\u001b[2J\u001b[H\u001b[2J\u001b[H"
       ]
      },
      {
       "output_type": "stream",
       "stream": "stdout",
       "text": [
        " [1429623870486, 1429623870491] {u'global_timestamp': None, u'hash': u'5e1a48ce6835204474aaaad1c9181958', u'htype': u'bsr_m-1.0', u'pulse_id': 721029}\n",
        "[-0.89744367435061112, 0.27145709550458935] [1429623870496, 1429623870500] {u'global_timestamp': None, u'hash': u'5e1a48ce6835204474aaaad1c9181958', u'htype': u'bsr_m-1.0', u'pulse_id': 721030}\n",
        "[-0.49905018975098381, -0.60071147747444598] [1429623870506, 1429623870510] {u'global_timestamp': None, u'hash': u'5e1a48ce6835204474aaaad1c9181958', u'htype': u'bsr_m-1.0', u'pulse_id': 721031}\n",
        "[0.4501072766442048, -0.73670961073364571] [1429623870515, 1429623870520] {u'global_timestamp': None, u'hash': u'5e1a48ce6835204474aaaad1c9181958', u'htype': u'bsr_m-1.0', u'pulse_id': 721032}\n",
        "[1.0773777274951408, -0.011501247742026682] [1429623870526, 1429623870531] {u'global_timestamp': None, u'hash': u'5e1a48ce6835204474aaaad1c9181958', u'htype': u'bsr_m-1.0', u'pulse_id': 721033}\n",
        "[0.80605160309536905, 0.90816038703563451] [1429623870535, 1429623870540] {u'global_timestamp': None, u'hash': u'5e1a48ce6835204474aaaad1c9181958', u'htype': u'bsr_m-1.0', u'pulse_id': 721034}\n",
        "[-0.11441510906649197, 1.1767426278216817]"
       ]
      },
      {
       "output_type": "stream",
       "stream": "stderr",
       "text": [
        "\u001b[2J\u001b[H\u001b[2J\u001b[H\u001b[2J\u001b[H\u001b[2J\u001b[H\u001b[2J\u001b[H\u001b[2J\u001b[H"
       ]
      },
      {
       "output_type": "stream",
       "stream": "stdout",
       "text": [
        " [1429623870545, 1429623870550] {u'global_timestamp': None, u'hash': u'5e1a48ce6835204474aaaad1c9181958', u'htype': u'bsr_m-1.0', u'pulse_id': 721035}\n",
        "[-0.83774955877855761, 0.54731220106788736] [1429623870555, 1429623870561] {u'global_timestamp': None, u'hash': u'5e1a48ce6835204474aaaad1c9181958', u'htype': u'bsr_m-1.0', u'pulse_id': 721036}\n",
        "[-0.69892138880327859, -0.4014354616354448] [1429623870565, 1429623870570] {u'global_timestamp': None, u'hash': u'5e1a48ce6835204474aaaad1c9181958', u'htype': u'bsr_m-1.0', u'pulse_id': 721037}\n",
        "[0.17443142162298156, -0.79722613457288705] [1429623870576, 1429623870581] {u'global_timestamp': None, u'hash': u'5e1a48ce6835204474aaaad1c9181958', u'htype': u'bsr_m-1.0', u'pulse_id': 721038}\n",
        "[0.97935232626715985, -0.27617169832796062] [1429623870586, 1429623870591] {u'global_timestamp': None, u'hash': u'5e1a48ce6835204474aaaad1c9181958', u'htype': u'bsr_m-1.0', u'pulse_id': 721039}\n",
        "[0.97580075748233686, 0.68267280138139641]"
       ]
      },
      {
       "output_type": "stream",
       "stream": "stderr",
       "text": [
        "\u001b[2J\u001b[H\u001b[2J\u001b[H\u001b[2J\u001b[H\u001b[2J\u001b[H\u001b[2J\u001b[H\u001b[2J\u001b[H\u001b[2J\u001b[H"
       ]
      },
      {
       "output_type": "stream",
       "stream": "stdout",
       "text": [
        " [1429623870596, 1429623870600] {u'global_timestamp': None, u'hash': u'5e1a48ce6835204474aaaad1c9181958', u'htype': u'bsr_m-1.0', u'pulse_id': 721040}\n",
        "[0.16704201123038018, 1.197750153460367] [1429623870605, 1429623870610] {u'global_timestamp': None, u'hash': u'5e1a48ce6835204474aaaad1c9181958', u'htype': u'bsr_m-1.0', u'pulse_id': 721041}\n",
        "[-0.70335485096671269, 0.79550061580845655] [1429623870615, 1429623870621] {u'global_timestamp': None, u'hash': u'5e1a48ce6835204474aaaad1c9181958', u'htype': u'bsr_m-1.0', u'pulse_id': 721042}\n",
        "[-0.83515096804572131, -0.15424944172595434] [1429623870626, 1429623870631] {u'global_timestamp': None, u'hash': u'5e1a48ce6835204474aaaad1c9181958', u'htype': u'bsr_m-1.0', u'pulse_id': 721043}\n",
        "[-0.10717359777313989, -0.77830419624252523] [1429623870636, 1429623870640] {u'global_timestamp': None, u'hash': u'5e1a48ce6835204474aaaad1c9181958', u'htype': u'bsr_m-1.0', u'pulse_id': 721044}\n",
        "[0.8112782228620693, -0.5029105844146724] [1429623870645, 1429623870651] {u'global_timestamp': None, u'hash': u'5e1a48ce6835204474aaaad1c9181958', u'htype': u'bsr_m-1.0', u'pulse_id': 721045}\n",
        "[1.0757841256254772, 0.4187357770857868]"
       ]
      },
      {
       "output_type": "stream",
       "stream": "stdout",
       "text": [
        " [1429623870657, 1429623870661] {u'global_timestamp': None, u'hash': u'5e1a48ce6835204474aaaad1c9181958', u'htype': u'bsr_m-1.0', u'pulse_id': 721046}\n",
        "[0.44315860334787438, 1.1392774738852924] [1429623870666, 1429623870670] {u'global_timestamp': None, u'hash': u'5e1a48ce6835204474aaaad1c9181958', u'htype': u'bsr_m-1.0', u'pulse_id': 721047}\n",
        "[-0.50496535629078354, 0.99625179289466304] [1429623870676, 1429623870680] {u'global_timestamp': None, u'hash': u'5e1a48ce6835204474aaaad1c9181958', u'htype': u'bsr_m-1.0', u'pulse_id': 721048}\n",
        "[-0.89688695729637646, 0.1211558856199613] [1429623870686, 1429623870691] {u'global_timestamp': None, u'hash': u'5e1a48ce6835204474aaaad1c9181958', u'htype': u'bsr_m-1.0', u'pulse_id': 721049}\n",
        "[-0.37227528714342828, -0.68145110650199547] [1429623870695, 1429623870701] {u'global_timestamp': None, u'hash': u'5e1a48ce6835204474aaaad1c9181958', u'htype': u'bsr_m-1.0', u'pulse_id': 721050}\n",
        "[0.58654410400011214, -0.67365601632606409] [1429623870705, 1429623870710] {u'global_timestamp': None, u'hash': u'5e1a48ce6835204474aaaad1c9181958', u'htype': u'bsr_m-1.0', u'pulse_id': 721051}\n",
        "[1.0980370897390455, 0.13737438618890446]"
       ]
      },
      {
       "output_type": "stream",
       "stream": "stderr",
       "text": [
        "\u001b[2J\u001b[H\u001b[2J\u001b[H\u001b[2J\u001b[H\u001b[2J\u001b[H\u001b[2J\u001b[H\u001b[2J\u001b[H\u001b[2J\u001b[H"
       ]
      },
      {
       "output_type": "stream",
       "stream": "stdout",
       "text": [
        " [1429623870715, 1429623870720] {u'global_timestamp': None, u'hash': u'5e1a48ce6835204474aaaad1c9181958', u'htype': u'bsr_m-1.0', u'pulse_id': 721052}\n",
        "[0.69193937785575532, 1.005982489228979] [1429623870725, 1429623870730] {u'global_timestamp': None, u'hash': u'5e1a48ce6835204474aaaad1c9181958', u'htype': u'bsr_m-1.0', u'pulse_id': 721053}\n",
        "[-0.2583846681598122, 1.1335740086506165] [1429623870735, 1429623870740] {u'global_timestamp': None, u'hash': u'5e1a48ce6835204474aaaad1c9181958', u'htype': u'bsr_m-1.0', u'pulse_id': 721054}\n",
        "[-0.87921150304482454, 0.40284188991600234] [1429623870745, 1429623870750] {u'global_timestamp': None, u'hash': u'5e1a48ce6835204474aaaad1c9181958', u'htype': u'bsr_m-1.0', u'pulse_id': 721055}\n",
        "[-0.59975579789563904, -0.51438212695408159] [1429623870756, 1429623870761] {u'global_timestamp': None, u'hash': u'5e1a48ce6835204474aaaad1c9181958', u'htype': u'bsr_m-1.0', u'pulse_id': 721056}\n",
        "[0.32305216074959708, -0.77480651084455521]"
       ]
      },
      {
       "output_type": "stream",
       "stream": "stderr",
       "text": [
        "\u001b[2J\u001b[H\u001b[2J\u001b[H\u001b[2J\u001b[H\u001b[2J\u001b[H\u001b[2J\u001b[H\u001b[2J\u001b[H"
       ]
      },
      {
       "output_type": "stream",
       "stream": "stdout",
       "text": [
        " [1429623870766, 1429623870770] {u'global_timestamp': None, u'hash': u'5e1a48ce6835204474aaaad1c9181958', u'htype': u'bsr_m-1.0', u'pulse_id': 721057}\n",
        "[1.0407869914593957, -0.13899828421509619] [1429623870775, 1429623870781] {u'global_timestamp': None, u'hash': u'5e1a48ce6835204474aaaad1c9181958', u'htype': u'bsr_m-1.0', u'pulse_id': 721058}\n",
        "[0.8935666008829255, 0.80848340155103626] [1429623870786, 1429623870791] {u'global_timestamp': None, u'hash': u'5e1a48ce6835204474aaaad1c9181958', u'htype': u'bsr_m-1.0', u'pulse_id': 721059}\n",
        "[0.016744737174577168, 1.1965282540961244] [1429623870795, 1429623870801] {u'global_timestamp': None, u'hash': u'5e1a48ce6835204474aaaad1c9181958', u'htype': u'bsr_m-1.0', u'pulse_id': 721060}\n",
        "[-0.78353262184339345, 0.66836962555073864] [1429623870805, 1429623870811] {u'global_timestamp': None, u'hash': u'5e1a48ce6835204474aaaad1c9181958', u'htype': u'bsr_m-1.0', u'pulse_id': 721061}\n",
        "[-0.77149416295799433, -0.29040587672880186]"
       ]
      },
      {
       "output_type": "stream",
       "stream": "stderr",
       "text": [
        "\u001b[2J\u001b[H\u001b[2J\u001b[H\u001b[2J\u001b[H\u001b[2J\u001b[H\u001b[2J\u001b[H\u001b[2J\u001b[H\u001b[2J\u001b[H"
       ]
      },
      {
       "output_type": "stream",
       "stream": "stdout",
       "text": [
        " [1429623870815, 1429623870820] {u'global_timestamp': None, u'hash': u'5e1a48ce6835204474aaaad1c9181958', u'htype': u'bsr_m-1.0', u'pulse_id': 721062}\n",
        "[0.041792010249736146, -0.79830447756645517] [1429623870826, 1429623870830] {u'global_timestamp': None, u'hash': u'5e1a48ce6835204474aaaad1c9181958', u'htype': u'bsr_m-1.0', u'pulse_id': 721063}\n",
        "[0.90859434079396106, -0.38836654564648682] [1429623870836, 1429623870841] {u'global_timestamp': None, u'hash': u'5e1a48ce6835204474aaaad1c9181958', u'htype': u'bsr_m-1.0', u'pulse_id': 721064}\n",
        "[1.0319787634360751, 0.56251287494951741] [1429623870846, 1429623870851] {u'global_timestamp': None, u'hash': u'5e1a48ce6835204474aaaad1c9181958', u'htype': u'bsr_m-1.0', u'pulse_id': 721065}\n",
        "[0.29850620901533653, 1.1800996301307125] [1429623870855, 1429623870861] {u'global_timestamp': None, u'hash': u'5e1a48ce6835204474aaaad1c9181958', u'htype': u'bsr_m-1.0', u'pulse_id': 721066}\n",
        "[-0.61747203851581656, 0.89658730533075226] [1429623870865, 1429623870871] {u'global_timestamp': None, u'hash': u'5e1a48ce6835204474aaaad1c9181958', u'htype': u'bsr_m-1.0', u'pulse_id': 721067}\n",
        "[-0.87380980262735741, -0.02736417551335385]"
       ]
      },
      {
       "output_type": "stream",
       "stream": "stderr",
       "text": [
        "\u001b[2J\u001b[H\u001b[2J\u001b[H\u001b[2J\u001b[H\u001b[2J\u001b[H\u001b[2J\u001b[H\u001b[2J\u001b[H"
       ]
      },
      {
       "output_type": "stream",
       "stream": "stdout",
       "text": [
        " [1429623870876, 1429623870881] {u'global_timestamp': None, u'hash': u'5e1a48ce6835204474aaaad1c9181958', u'htype': u'bsr_m-1.0', u'pulse_id': 721068}\n",
        "[-0.2348313251573019, -0.74227808193409928] [1429623870885, 1429623870890] {u'global_timestamp': None, u'hash': u'5e1a48ce6835204474aaaad1c9181958', u'htype': u'bsr_m-1.0', u'pulse_id': 721069}\n",
        "[0.71198952850860719, -0.59086586536264951] [1429623870895, 1429623870900] {u'global_timestamp': None, u'hash': u'5e1a48ce6835204474aaaad1c9181958', u'htype': u'bsr_m-1.0', u'pulse_id': 721070}\n",
        "[1.0961500319980142, 0.28766478055841671] [1429623870906, 1429623870911] {u'global_timestamp': None, u'hash': u'5e1a48ce6835204474aaaad1c9181958', u'htype': u'bsr_m-1.0', u'pulse_id': 721071}\n",
        "[0.56445479004968924, 1.0855968315209237] [1429623870916, 1429623870921] {u'global_timestamp': None, u'hash': u'5e1a48ce6835204474aaaad1c9181958', u'htype': u'bsr_m-1.0', u'pulse_id': 721072}\n",
        "[-0.39425804392731456, 1.0693152397221302] [1429623870925, 1429623870931] {u'global_timestamp': None, u'hash': u'5e1a48ce6835204474aaaad1c9181958', u'htype': u'bsr_m-1.0', u'pulse_id': 721073}\n",
        "[-0.89855231170529792, 0.25378922557543965]"
       ]
      },
      {
       "output_type": "stream",
       "stream": "stderr",
       "text": [
        "\u001b[2J\u001b[H\u001b[2J\u001b[H\u001b[2J\u001b[H\u001b[2J\u001b[H\u001b[2J\u001b[H\u001b[2J\u001b[H"
       ]
      },
      {
       "output_type": "stream",
       "stream": "stdout",
       "text": [
        " [1429623870935, 1429623870941] {u'global_timestamp': None, u'hash': u'5e1a48ce6835204474aaaad1c9181958', u'htype': u'bsr_m-1.0', u'pulse_id': 721074}\n",
        "[-0.48478218916135318, -0.61119035450358705] [1429623870945, 1429623870951] {u'global_timestamp': None, u'hash': u'5e1a48ce6835204474aaaad1c9181958', u'htype': u'bsr_m-1.0', u'pulse_id': 721075}\n",
        "[0.4666339812363024, -0.73036526364800336] [1429623870956, 1429623870961] {u'global_timestamp': None, u'hash': u'5e1a48ce6835204474aaaad1c9181958', u'htype': u'bsr_m-1.0', u'pulse_id': 721076}\n",
        "[1.080968560104534, 0.0058333600063152913] [1429623870965, 1429623870970] {u'global_timestamp': None, u'hash': u'5e1a48ce6835204474aaaad1c9181958', u'htype': u'bsr_m-1.0', u'pulse_id': 721077}\n",
        "[0.79340516878095468, 0.92054789702548967] [1429623870975, 1429623870981] {u'global_timestamp': None, u'hash': u'5e1a48ce6835204474aaaad1c9181958', u'htype': u'bsr_m-1.0', u'pulse_id': 721078}\n",
        "[-0.13167173691806114, 1.1727940204963065]"
       ]
      },
      {
       "output_type": "stream",
       "stream": "stderr",
       "text": [
        "\u001b[2J\u001b[H\u001b[2J\u001b[H\u001b[2J\u001b[H\u001b[2J\u001b[H\u001b[2J\u001b[H\u001b[2J\u001b[H\u001b[2J\u001b[H"
       ]
      },
      {
       "output_type": "stream",
       "stream": "stdout",
       "text": [
        " [1429623870986, 1429623870990] {u'global_timestamp': None, u'hash': u'5e1a48ce6835204474aaaad1c9181958', u'htype': u'bsr_m-1.0', u'pulse_id': 721079}\n",
        "[-0.84375071610356567, 0.5306578077922961] [1429623870996, 1429623871000] {u'global_timestamp': None, u'hash': u'5e1a48ce6835204474aaaad1c9181958', u'htype': u'bsr_m-1.0', u'pulse_id': 721080}\n",
        "[-0.6881496392328682, -0.41548366848934332] [1429623871006, 1429623871011] {u'global_timestamp': None, u'hash': u'5e1a48ce6835204474aaaad1c9181958', u'htype': u'bsr_m-1.0', u'pulse_id': 721081}\n",
        "[0.19207258121024351, -0.79575229841024364] [1429623871015, 1429623871021] {u'global_timestamp': None, u'hash': u'5e1a48ce6835204474aaaad1c9181958', u'htype': u'bsr_m-1.0', u'pulse_id': 721082}\n",
        "[0.98764369510312033, -0.260530857319766] [1429623871026, 1429623871031] {u'global_timestamp': None, u'hash': u'5e1a48ce6835204474aaaad1c9181958', u'htype': u'bsr_m-1.0', u'pulse_id': 721083}\n",
        "[0.96711928929682023, 0.69810053014364204] [1429623871036, 1429623871041] {u'global_timestamp': None, u'hash': u'5e1a48ce6835204474aaaad1c9181958', u'htype': u'bsr_m-1.0', u'pulse_id': 721084}\n",
        "[0.14936940783650868, 1.1987805873012713]"
       ]
      },
      {
       "output_type": "stream",
       "stream": "stdout",
       "text": [
        " [1429623871045, 1429623871050] {u'global_timestamp': None, u'hash': u'5e1a48ce6835204474aaaad1c9181958', u'htype': u'bsr_m-1.0', u'pulse_id': 721085}\n",
        "[-0.71377047950999983, 0.78118637860678142] [1429623871055, 1429623871060] {u'global_timestamp': None, u'hash': u'5e1a48ce6835204474aaaad1c9181958', u'htype': u'bsr_m-1.0', u'pulse_id': 721086}\n",
        "[-0.82873354088985796, -0.17074790630047604] [1429623871065, 1429623871070] {u'global_timestamp': None, u'hash': u'5e1a48ce6835204474aaaad1c9181958', u'htype': u'bsr_m-1.0', u'pulse_id': 721087}\n",
        "[-0.08982326784974512, -0.78181827594664588] [1429623871075, 1429623871080] {u'global_timestamp': None, u'hash': u'5e1a48ce6835204474aaaad1c9181958', u'htype': u'bsr_m-1.0', u'pulse_id': 721088}\n",
        "[0.82360964223657229, -0.49020945057443238] [1429623871086, 1429623871090] {u'global_timestamp': None, u'hash': u'5e1a48ce6835204474aaaad1c9181958', u'htype': u'bsr_m-1.0', u'pulse_id': 721089}\n",
        "[1.0717591843474246, 0.43597476059195056]"
       ]
      },
      {
       "output_type": "stream",
       "stream": "stderr",
       "text": [
        "\u001b[2J\u001b[H\u001b[2J\u001b[H\u001b[2J\u001b[H\u001b[2J\u001b[H\u001b[2J\u001b[H\u001b[2J\u001b[H\u001b[2J\u001b[H"
       ]
      },
      {
       "output_type": "stream",
       "stream": "stdout",
       "text": [
        " [1429623871095, 1429623871101] {u'global_timestamp': None, u'hash': u'5e1a48ce6835204474aaaad1c9181958', u'htype': u'bsr_m-1.0', u'pulse_id': 721090}\n",
        "[0.42647781386633987, 1.1452048651234585] [1429623871106, 1429623871110] {u'global_timestamp': None, u'hash': u'5e1a48ce6835204474aaaad1c9181958', u'htype': u'bsr_m-1.0', u'pulse_id': 721091}\n",
        "[-0.51896575305387893, 0.98541797569602685] [1429623871115, 1429623871121] {u'global_timestamp': None, u'hash': u'5e1a48ce6835204474aaaad1c9181958', u'htype': u'bsr_m-1.0', u'pulse_id': 721092}\n",
        "[-0.89533506112318051, 0.10352142155424102] [1429623871127, 1429623871131] {u'global_timestamp': None, u'hash': u'5e1a48ce6835204474aaaad1c9181958', u'htype': u'bsr_m-1.0', u'pulse_id': 721093}\n",
        "[-0.35659790421864146, -0.68967317249827431] [1429623871135, 1429623871140] {u'global_timestamp': None, u'hash': u'5e1a48ce6835204474aaaad1c9181958', u'htype': u'bsr_m-1.0', u'pulse_id': 721094}\n",
        "[0.6019332601153965, -0.66490635469392267] [1429623871145, 1429623871151] {u'global_timestamp': None, u'hash': u'5e1a48ce6835204474aaaad1c9181958', u'htype': u'bsr_m-1.0', u'pulse_id': 721095}\n",
        "[1.0989892998831645, 0.1550513768960072]"
       ]
      },
      {
       "output_type": "stream",
       "stream": "stderr",
       "text": [
        "\u001b[2J\u001b[H\u001b[2J\u001b[H\u001b[2J\u001b[H\u001b[2J\u001b[H\u001b[2J\u001b[H\u001b[2J\u001b[H"
       ]
      },
      {
       "output_type": "stream",
       "stream": "stdout",
       "text": [
        " [1429623871155, 1429623871160] {u'global_timestamp': None, u'hash': u'5e1a48ce6835204474aaaad1c9181958', u'htype': u'bsr_m-1.0', u'pulse_id': 721096}\n",
        "[0.67757918441354803, 1.0163346652765524] [1429623871166, 1429623871170] {u'global_timestamp': None, u'hash': u'5e1a48ce6835204474aaaad1c9181958', u'htype': u'bsr_m-1.0', u'pulse_id': 721097}\n",
        "[-0.27485456956300547, 1.1270836271220273] [1429623871176, 1429623871180] {u'global_timestamp': None, u'hash': u'5e1a48ce6835204474aaaad1c9181958', u'htype': u'bsr_m-1.0', u'pulse_id': 721098}\n",
        "[-0.88264876101374978, 0.38547617765670761] [1429623871186, 1429623871191] {u'global_timestamp': None, u'hash': u'5e1a48ce6835204474aaaad1c9181958', u'htype': u'bsr_m-1.0', u'pulse_id': 721099}\n",
        "[-0.58700021330539365, -0.52665721417897138] [1429623871195, 1429623871201] {u'global_timestamp': None, u'hash': u'5e1a48ce6835204474aaaad1c9181958', u'htype': u'bsr_m-1.0', u'pulse_id': 721100}\n",
        "[0.34027316225213367, -0.77070531444994161] [1429623871206, 1429623871211] {u'global_timestamp': None, u'hash': u'5e1a48ce6835204474aaaad1c9181958', u'htype': u'bsr_m-1.0', u'pulse_id': 721101}\n",
        "[1.0466405005115087, -0.1222914252525506]"
       ]
      },
      {
       "output_type": "stream",
       "stream": "stderr",
       "text": [
        "\u001b[2J\u001b[H\u001b[2J\u001b[H\u001b[2J\u001b[H\u001b[2J\u001b[H\u001b[2J\u001b[H\u001b[2J\u001b[H\u001b[2J\u001b[H"
       ]
      },
      {
       "output_type": "stream",
       "stream": "stdout",
       "text": [
        " [1429623871217, 1429623871222] {u'global_timestamp': None, u'hash': u'5e1a48ce6835204474aaaad1c9181958', u'htype': u'bsr_m-1.0', u'pulse_id': 721102}\n",
        "[0.88267092825694238, 0.82243571399897686] [1429623871226, 1429623871230] {u'global_timestamp': None, u'hash': u'5e1a48ce6835204474aaaad1c9181958', u'htype': u'bsr_m-1.0', u'pulse_id': 721103}\n",
        "[-0.00088268596514204378, 1.1948983283092089] [1429623871235, 1429623871241] {u'global_timestamp': None, u'hash': u'5e1a48ce6835204474aaaad1c9181958', u'htype': u'bsr_m-1.0', u'pulse_id': 721104}\n",
        "[-0.79168522395521768, 0.65265600778066934] [1429623871245, 1429623871251] {u'global_timestamp': None, u'hash': u'5e1a48ce6835204474aaaad1c9181958', u'htype': u'bsr_m-1.0', u'pulse_id': 721105}\n",
        "[-0.76267647925796334, -0.30575615877128454] [1429623871256, 1429623871261] {u'global_timestamp': None, u'hash': u'5e1a48ce6835204474aaaad1c9181958', u'htype': u'bsr_m-1.0', u'pulse_id': 721106}\n",
        "[0.059473042032645709, -0.79917844536294536]"
       ]
      },
      {
       "output_type": "stream",
       "stream": "stderr",
       "text": [
        "\u001b[2J\u001b[H\u001b[2J\u001b[H\u001b[2J\u001b[H\u001b[2J\u001b[H\u001b[2J\u001b[H\u001b[2J\u001b[H\u001b[2J\u001b[H"
       ]
      },
      {
       "output_type": "stream",
       "stream": "stdout",
       "text": [
        " [1429623871266, 1429623871271] {u'global_timestamp': None, u'hash': u'5e1a48ce6835204474aaaad1c9181958', u'htype': u'bsr_m-1.0', u'pulse_id': 721107}\n",
        "[0.91888286157879784, -0.37396067723540022] [1429623871275, 1429623871280] {u'global_timestamp': None, u'hash': u'5e1a48ce6835204474aaaad1c9181958', u'htype': u'bsr_m-1.0', u'pulse_id': 721108}\n",
        "[1.0254155546612047, 0.57895389058709368] [1429623871286, 1429623871291] {u'global_timestamp': None, u'hash': u'5e1a48ce6835204474aaaad1c9181958', u'htype': u'bsr_m-1.0', u'pulse_id': 721109}\n",
        "[0.28112545456058685, 1.1834599990392192] [1429623871295, 1429623871301] {u'global_timestamp': None, u'hash': u'5e1a48ce6835204474aaaad1c9181958', u'htype': u'bsr_m-1.0', u'pulse_id': 721110}\n",
        "[-0.62969055316020461, 0.88377751983284347] [1429623871306, 1429623871311] {u'global_timestamp': None, u'hash': u'5e1a48ce6835204474aaaad1c9181958', u'htype': u'bsr_m-1.0', u'pulse_id': 721111}\n",
        "[-0.86963243144590074, -0.044566857706253155] [1429623871317, 1429623871321] {u'global_timestamp': None, u'hash': u'5e1a48ce6835204474aaaad1c9181958', u'htype': u'bsr_m-1.0', u'pulse_id': 721112}\n",
        "[-0.2180987239492975, -0.74805759414807116]"
       ]
      },
      {
       "output_type": "stream",
       "stream": "stderr",
       "text": [
        "\u001b[2J\u001b[H\u001b[2J\u001b[H\u001b[2J\u001b[H\u001b[2J\u001b[H\u001b[2J\u001b[H\u001b[2J\u001b[H"
       ]
      },
      {
       "output_type": "stream",
       "stream": "stdout",
       "text": [
        " [1429623871325, 1429623871330] {u'global_timestamp': None, u'hash': u'5e1a48ce6835204474aaaad1c9181958', u'htype': u'bsr_m-1.0', u'pulse_id': 721113}\n",
        "[0.72589348335886406, -0.57990855072175429] [1429623871336, 1429623871340] {u'global_timestamp': None, u'hash': u'5e1a48ce6835204474aaaad1c9181958', u'htype': u'bsr_m-1.0', u'pulse_id': 721114}\n",
        "[1.0944421085225704, 0.30528481750558534] [1429623871345, 1429623871352] {u'global_timestamp': None, u'hash': u'5e1a48ce6835204474aaaad1c9181958', u'htype': u'bsr_m-1.0', u'pulse_id': 721115}\n",
        "[0.54870524521537511, 1.0936798100641023] [1429623871355, 1429623871360] {u'global_timestamp': None, u'hash': u'5e1a48ce6835204474aaaad1c9181958', u'htype': u'bsr_m-1.0', u'pulse_id': 721116}\n",
        "[-0.40956915123257798, 1.0604297066652861] [1429623871366, 1429623871371] {u'global_timestamp': None, u'hash': u'5e1a48ce6835204474aaaad1c9181958', u'htype': u'bsr_m-1.0', u'pulse_id': 721117}\n",
        "[-0.89934802003584047, 0.2361044990332998]"
       ]
      },
      {
       "output_type": "stream",
       "stream": "stderr",
       "text": [
        "\u001b[2J\u001b[H\u001b[2J\u001b[H\u001b[2J\u001b[H\u001b[2J\u001b[H\u001b[2J\u001b[H\u001b[2J\u001b[H"
       ]
      },
      {
       "output_type": "stream",
       "stream": "stdout",
       "text": [
        " [1429623871375, 1429623871380] {u'global_timestamp': None, u'hash': u'5e1a48ce6835204474aaaad1c9181958', u'htype': u'bsr_m-1.0', u'pulse_id': 721118}\n",
        "[-0.47033092794767106, -0.62141501850547409] [1429623871387, 1429623871390] {u'global_timestamp': None, u'hash': u'5e1a48ce6835204474aaaad1c9181958', u'htype': u'bsr_m-1.0', u'pulse_id': 721119}\n",
        "[0.48304578907975548, -0.72372935617975642] [1429623871395, 1429623871401] {u'global_timestamp': None, u'hash': u'5e1a48ce6835204474aaaad1c9181958', u'htype': u'bsr_m-1.0', u'pulse_id': 721120}\n",
        "[1.0842519741334169, 0.023228816221445014] [1429623871405, 1429623871411] {u'global_timestamp': None, u'hash': u'5e1a48ce6835204474aaaad1c9181958', u'htype': u'bsr_m-1.0', u'pulse_id': 721121}\n",
        "[0.78054143327935199, 0.93270959976656864] [1429623871415, 1429623871420] {u'global_timestamp': None, u'hash': u'5e1a48ce6835204474aaaad1c9181958', u'htype': u'bsr_m-1.0', u'pulse_id': 721122}\n",
        "[-0.14885576285413152, 1.1685405563497526] [1429623871426, 1429623871431] {u'global_timestamp': None, u'hash': u'5e1a48ce6835204474aaaad1c9181958', u'htype': u'bsr_m-1.0', u'pulse_id': 721123}\n",
        "[-0.84945611827667655, 0.51389979207859582]"
       ]
      },
      {
       "output_type": "stream",
       "stream": "stderr",
       "text": [
        "\u001b[2J\u001b[H\u001b[2J\u001b[H\u001b[2J\u001b[H\u001b[2J\u001b[H\u001b[2J\u001b[H\u001b[2J\u001b[H"
       ]
      },
      {
       "output_type": "stream",
       "stream": "stdout",
       "text": [
        " [1429623871435, 1429623871441] {u'global_timestamp': None, u'hash': u'5e1a48ce6835204474aaaad1c9181958', u'htype': u'bsr_m-1.0', u'pulse_id': 721124}\n",
        "[-0.67713089719687147, -0.42933899340656273] [1429623871445, 1429623871452] {u'global_timestamp': None, u'hash': u'5e1a48ce6835204474aaaad1c9181958', u'htype': u'bsr_m-1.0', u'pulse_id': 721125}\n",
        "[0.2096848868429847, -0.79396641069919549] [1429623871456, 1429623871460] {u'global_timestamp': None, u'hash': u'5e1a48ce6835204474aaaad1c9181958', u'htype': u'bsr_m-1.0', u'pulse_id': 721126}\n",
        "[0.99565689175717265, -0.24474569390594464] [1429623871465, 1429623871471] {u'global_timestamp': None, u'hash': u'5e1a48ce6835204474aaaad1c9181958', u'htype': u'bsr_m-1.0', u'pulse_id': 721127}\n",
        "[0.95816608092319777, 0.71337216281457994] [1429623871475, 1429623871481] {u'global_timestamp': None, u'hash': u'5e1a48ce6835204474aaaad1c9181958', u'htype': u'bsr_m-1.0', u'pulse_id': 721128}\n",
        "[0.13168133292408399, 1.1994980205804078] [1429623871486, 1429623871490] {u'global_timestamp': None, u'hash': u'5e1a48ce6835204474aaaad1c9181958', u'htype': u'bsr_m-1.0', u'pulse_id': 721129}\n",
        "[-0.72393108645948023, 0.76669000764589157]"
       ]
      },
      {
       "output_type": "stream",
       "stream": "stderr",
       "text": [
        "\u001b[2J\u001b[H\u001b[2J\u001b[H\u001b[2J\u001b[H\u001b[2J\u001b[H\u001b[2J\u001b[H\u001b[2J\u001b[H"
       ]
      },
      {
       "output_type": "stream",
       "stream": "stdout",
       "text": [
        " [1429623871495, 1429623871501] {u'global_timestamp': None, u'hash': u'5e1a48ce6835204474aaaad1c9181958', u'htype': u'bsr_m-1.0', u'pulse_id': 721130}\n",
        "[-0.82202506470508152, -0.18713018489339001] [1429623871505, 1429623871510] {u'global_timestamp': None, u'hash': u'5e1a48ce6835204474aaaad1c9181958', u'htype': u'bsr_m-1.0', u'pulse_id': 721131}\n",
        "[-0.072413450597272278, -0.78502467078400717] [1429623871515, 1429623871521] {u'global_timestamp': None, u'hash': u'5e1a48ce6835204474aaaad1c9181958', u'htype': u'bsr_m-1.0', u'pulse_id': 721132}\n",
        "[0.83571429486430382, -0.47729201702981866] [1429623871525, 1429623871531] {u'global_timestamp': None, u'hash': u'5e1a48ce6835204474aaaad1c9181958', u'htype': u'bsr_m-1.0', u'pulse_id': 721133}\n",
        "[1.067429710547944, 0.45313979368941854] [1429623871536, 1429623871540] {u'global_timestamp': None, u'hash': u'5e1a48ce6835204474aaaad1c9181958', u'htype': u'bsr_m-1.0', u'pulse_id': 721134}\n",
        "[0.40969471188449835, 1.1508360455045747] [1429623871545, 1429623871551] {u'global_timestamp': None, u'hash': u'5e1a48ce6835204474aaaad1c9181958', u'htype': u'bsr_m-1.0', u'pulse_id': 721135}\n",
        "[-0.5327721766552167, 0.97433802208791165]"
       ]
      },
      {
       "output_type": "stream",
       "stream": "stdout",
       "text": [
        " [1429623871555, 1429623871560] {u'global_timestamp': None, u'hash': u'5e1a48ce6835204474aaaad1c9181958', u'htype': u'bsr_m-1.0', u'pulse_id': 721136}\n",
        "[-0.89347124415652923, 0.085917192206371729] [1429623871566, 1429623871570] {u'global_timestamp': None, u'hash': u'5e1a48ce6835204474aaaad1c9181958', u'htype': u'bsr_m-1.0', u'pulse_id': 721137}\n",
        "[-0.340777431407708, -0.69761643030953002] [1429623871575, 1429623871580] {u'global_timestamp': None, u'hash': u'5e1a48ce6835204474aaaad1c9181958', u'htype': u'bsr_m-1.0', u'pulse_id': 721138}\n",
        "[0.61716511902808835, -0.65588564636910651] [1429623871585, 1429623871590] {u'global_timestamp': None, u'hash': u'5e1a48ce6835204474aaaad1c9181958', u'htype': u'bsr_m-1.0', u'pulse_id': 721139}\n",
        "[1.0996284440586022, 0.17274245372418712] [1429623871596, 1429623871600] {u'global_timestamp': None, u'hash': u'5e1a48ce6835204474aaaad1c9181958', u'htype': u'bsr_m-1.0', u'pulse_id': 721140}\n",
        "[0.66303798764439847, 1.0264310161588481] [1429623871605, 1429623871610] {u'global_timestamp': None, u'hash': u'5e1a48ce6835204474aaaad1c9181958', u'htype': u'bsr_m-1.0', u'pulse_id': 721141}\n",
        "[-0.29120699802735073, 1.1203027136189638]"
       ]
      },
      {
       "output_type": "stream",
       "stream": "stderr",
       "text": [
        "\u001b[2J\u001b[H\u001b[2J\u001b[H\u001b[2J\u001b[H\u001b[2J\u001b[H\u001b[2J\u001b[H\u001b[2J\u001b[H\u001b[2J\u001b[H"
       ]
      },
      {
       "output_type": "stream",
       "stream": "stdout",
       "text": [
        " [1429623871615, 1429623871621] {u'global_timestamp': None, u'hash': u'5e1a48ce6835204474aaaad1c9181958', u'htype': u'bsr_m-1.0', u'pulse_id': 721142}\n",
        "[-0.8857780738562594, 0.36805234037121665] [1429623871625, 1429623871631] {u'global_timestamp': None, u'hash': u'5e1a48ce6835204474aaaad1c9181958', u'htype': u'bsr_m-1.0', u'pulse_id': 721143}\n",
        "[-0.57402933473022977, -0.53870457960075213] [1429623871636, 1429623871640] {u'global_timestamp': None, u'hash': u'5e1a48ce6835204474aaaad1c9181958', u'htype': u'bsr_m-1.0', u'pulse_id': 721144}\n",
        "[0.35741886630123665, -0.76629991579849888] [1429623871645, 1429623871650] {u'global_timestamp': None, u'hash': u'5e1a48ce6835204474aaaad1c9181958', u'htype': u'bsr_m-1.0', u'pulse_id': 721145}\n",
        "[1.052197348803271, -0.10548356573148432] [1429623871655, 1429623871661] {u'global_timestamp': None, u'hash': u'5e1a48ce6835204474aaaad1c9181958', u'htype': u'bsr_m-1.0', u'pulse_id': 721146}\n",
        "[0.87152998009863647, 0.83619296585941405]"
       ]
      },
      {
       "output_type": "stream",
       "stream": "stderr",
       "text": [
        "\u001b[2J\u001b[H\u001b[2J\u001b[H\u001b[2J\u001b[H\u001b[2J\u001b[H\u001b[2J\u001b[H\u001b[2J\u001b[H"
       ]
      },
      {
       "output_type": "stream",
       "stream": "stdout",
       "text": [
        " [1429623871665, 1429623871670] {u'global_timestamp': None, u'hash': u'5e1a48ce6835204474aaaad1c9181958', u'htype': u'bsr_m-1.0', u'pulse_id': 721147}\n",
        "[-0.018478494215884406, 1.1929566185933485] [1429623871676, 1429623871680] {u'global_timestamp': None, u'hash': u'5e1a48ce6835204474aaaad1c9181958', u'htype': u'bsr_m-1.0', u'pulse_id': 721148}\n",
        "[-0.79955838733989126, 0.63680053544662019] [1429623871686, 1429623871691] {u'global_timestamp': None, u'hash': u'5e1a48ce6835204474aaaad1c9181958', u'htype': u'bsr_m-1.0', u'pulse_id': 721149}\n",
        "[-0.75358844766965249, -0.32094794558085454] [1429623871695, 1429623871701] {u'global_timestamp': None, u'hash': u'5e1a48ce6835204474aaaad1c9181958', u'htype': u'bsr_m-1.0', u'pulse_id': 721150}\n",
        "[0.07716677426325301, -0.79973928791583204] [1429623871706, 1429623871711] {u'global_timestamp': None, u'hash': u'5e1a48ce6835204474aaaad1c9181958', u'htype': u'bsr_m-1.0', u'pulse_id': 721151}\n",
        "[0.92891475863770812, -0.35937493947493754] [1429623871716, 1429623871721] {u'global_timestamp': None, u'hash': u'5e1a48ce6835204474aaaad1c9181958', u'htype': u'bsr_m-1.0', u'pulse_id': 721152}\n",
        "[1.0185623366569194, 0.59527614862951228]"
       ]
      },
      {
       "output_type": "stream",
       "stream": "stderr",
       "text": [
        "\u001b[2J\u001b[H\u001b[2J\u001b[H\u001b[2J\u001b[H\u001b[2J\u001b[H\u001b[2J\u001b[H\u001b[2J\u001b[H\u001b[2J\u001b[H"
       ]
      },
      {
       "output_type": "stream",
       "stream": "stdout",
       "text": [
        " [1429623871726, 1429623871730] {u'global_timestamp': None, u'hash': u'5e1a48ce6835204474aaaad1c9181958', u'htype': u'bsr_m-1.0', u'pulse_id': 721153}\n",
        "[0.2636879385210118, 1.1865121685933435] [1429623871736, 1429623871741] {u'global_timestamp': None, u'hash': u'5e1a48ce6835204474aaaad1c9181958', u'htype': u'bsr_m-1.0', u'pulse_id': 721154}\n",
        "[-0.64168039540550947, 0.87075345028641271] [1429623871746, 1429623871751] {u'global_timestamp': None, u'hash': u'5e1a48ce6835204474aaaad1c9181958', u'htype': u'bsr_m-1.0', u'pulse_id': 721155}\n",
        "[-0.86515119423059261, -0.061692896875824632] [1429623871755, 1429623871760] {u'global_timestamp': None, u'hash': u'5e1a48ce6835204474aaaad1c9181958', u'htype': u'bsr_m-1.0', u'pulse_id': 721156}\n",
        "[-0.20126643610284647, -0.75354000150905542] [1429623871765, 1429623871771] {u'global_timestamp': None, u'hash': u'5e1a48ce6835204474aaaad1c9181958', u'htype': u'bsr_m-1.0', u'pulse_id': 721157}\n",
        "[0.73960129401650354, -0.56870682622987956]"
       ]
      },
      {
       "output_type": "stream",
       "stream": "stderr",
       "text": [
        "\u001b[2J\u001b[H\u001b[2J\u001b[H\u001b[2J\u001b[H\u001b[2J\u001b[H\u001b[2J\u001b[H\u001b[2J\u001b[H"
       ]
      },
      {
       "output_type": "stream",
       "stream": "stdout",
       "text": [
        " [1429623871776, 1429623871780] {u'global_timestamp': None, u'hash': u'5e1a48ce6835204474aaaad1c9181958', u'htype': u'bsr_m-1.0', u'pulse_id': 721158}\n",
        "[1.0924225440895723, 0.32287186001188889] [1429623871785, 1429623871790] {u'global_timestamp': None, u'hash': u'5e1a48ce6835204474aaaad1c9181958', u'htype': u'bsr_m-1.0', u'pulse_id': 721159}\n",
        "[0.53281508391773924, 1.1014827248113412] [1429623871796, 1429623871801] {u'global_timestamp': None, u'hash': u'5e1a48ce6835204474aaaad1c9181958', u'htype': u'bsr_m-1.0', u'pulse_id': 721160}\n",
        "[-0.42472056837903838, 1.0512745298198338] [1429623871806, 1429623871811] {u'global_timestamp': None, u'hash': u'5e1a48ce6835204474aaaad1c9181958', u'htype': u'bsr_m-1.0', u'pulse_id': 721161}\n",
        "[-0.89983054998100986, 0.21840845796560407] [1429623871815, 1429623871821] {u'global_timestamp': None, u'hash': u'5e1a48ce6835204474aaaad1c9181958', u'htype': u'bsr_m-1.0', u'pulse_id': 721162}\n",
        "[-0.45570093488526153, -0.6313822652472485]"
       ]
      },
      {
       "output_type": "stream",
       "stream": "stderr",
       "text": [
        "\u001b[2J\u001b[H\u001b[2J\u001b[H\u001b[2J\u001b[H\u001b[2J\u001b[H\u001b[2J\u001b[H\u001b[2J\u001b[H\u001b[2J\u001b[H"
       ]
      },
      {
       "output_type": "stream",
       "stream": "stdout",
       "text": [
        " [1429623871826, 1429623871830] {u'global_timestamp': None, u'hash': u'5e1a48ce6835204474aaaad1c9181958', u'htype': u'bsr_m-1.0', u'pulse_id': 721163}\n",
        "[0.49933755699783433, -0.71680396790753553] [1429623871835, 1429623871840] {u'global_timestamp': None, u'hash': u'5e1a48ce6835204474aaaad1c9181958', u'htype': u'bsr_m-1.0', u'pulse_id': 721164}\n",
        "[1.0872269406166206, 0.040679669468245722] [1429623871845, 1429623871850] {u'global_timestamp': None, u'hash': u'5e1a48ce6835204474aaaad1c9181958', u'htype': u'bsr_m-1.0', u'pulse_id': 721165}\n",
        "[0.76746442786278402, 0.94464168399157344] [1429623871856, 1429623871861] {u'global_timestamp': None, u'hash': u'5e1a48ce6835204474aaaad1c9181958', u'htype': u'bsr_m-1.0', u'pulse_id': 721166}\n",
        "[-0.16596180169817901, 1.1639835683441178] [1429623871866, 1429623871870] {u'global_timestamp': None, u'hash': u'5e1a48ce6835204474aaaad1c9181958', u'htype': u'bsr_m-1.0', u'pulse_id': 721167}\n",
        "[-0.85486397732352615, 0.49704340559907517] [1429623871875, 1429623871881] {u'global_timestamp': None, u'hash': u'5e1a48ce6835204474aaaad1c9181958', u'htype': u'bsr_m-1.0', u'pulse_id': 721168}\n",
        "[-0.66586861577846945, -0.44299709436790707]"
       ]
      },
      {
       "output_type": "stream",
       "stream": "stdout",
       "text": [
        " [1429623871886, 1429623871891] {u'global_timestamp': None, u'hash': u'5e1a48ce6835204474aaaad1c9181958', u'htype': u'bsr_m-1.0', u'pulse_id': 721169}\n",
        "[0.22726281912923135, -0.79186903110606321] [1429623871895, 1429623871900] {u'global_timestamp': None, u'hash': u'5e1a48ce6835204474aaaad1c9181958', u'htype': u'bsr_m-1.0', u'pulse_id': 721170}\n",
        "[1.0033894050320769, -0.22882115488370003] [1429623871905, 1429623871911] {u'global_timestamp': None, u'hash': u'5e1a48ce6835204474aaaad1c9181958', u'htype': u'bsr_m-1.0', u'pulse_id': 721171}\n",
        "[0.94894393814212452, 0.72848291352865968] [1429623871915, 1429623871921] {u'global_timestamp': None, u'hash': u'5e1a48ce6835204474aaaad1c9181958', u'htype': u'bsr_m-1.0', u'pulse_id': 721172}\n",
        "[0.11398332962986167, 1.199902228466595] [1429623871925, 1429623871930] {u'global_timestamp': None, u'hash': u'5e1a48ce6835204474aaaad1c9181958', u'htype': u'bsr_m-1.0', u'pulse_id': 721173}\n",
        "[-0.73383348765666745, 0.75201604583772585]"
       ]
      },
      {
       "output_type": "stream",
       "stream": "stderr",
       "text": [
        "\u001b[2J\u001b[H\u001b[2J\u001b[H\u001b[2J\u001b[H\u001b[2J\u001b[H\u001b[2J\u001b[H\u001b[2J\u001b[H"
       ]
      },
      {
       "output_type": "stream",
       "stream": "stdout",
       "text": [
        " [1429623871935, 1429623871941] {u'global_timestamp': None, u'hash': u'5e1a48ce6835204474aaaad1c9181958', u'htype': u'bsr_m-1.0', u'pulse_id': 721174}\n",
        "[-0.81502764181180254, -0.20339114358192295] [1429623871945, 1429623871951] {u'global_timestamp': None, u'hash': u'5e1a48ce6835204474aaaad1c9181958', u'htype': u'bsr_m-1.0', u'pulse_id': 721175}\n",
        "[-0.0549496019513388, -0.78792237592592351] [1429623871956, 1429623871961] {u'global_timestamp': None, u'hash': u'5e1a48ce6835204474aaaad1c9181958', u'htype': u'bsr_m-1.0', u'pulse_id': 721176}\n",
        "[0.84758838735648501, -0.46416233188109229] [1429623871966, 1429623871970] {u'global_timestamp': None, u'hash': u'5e1a48ce6835204474aaaad1c9181958', u'htype': u'bsr_m-1.0', u'pulse_id': 721177}\n",
        "[1.0627970610092445, 0.47022549715369383] [1429623871975, 1429623871981] {u'global_timestamp': None, u'hash': u'5e1a48ce6835204474aaaad1c9181958', u'htype': u'bsr_m-1.0', u'pulse_id': 721178}\n",
        "[0.39281455693624068, 1.1561692503141026]"
       ]
      },
      {
       "output_type": "stream",
       "stream": "stderr",
       "text": [
        "\u001b[2J\u001b[H\u001b[2J\u001b[H\u001b[2J\u001b[H\u001b[2J\u001b[H\u001b[2J\u001b[H\u001b[2J\u001b[H"
       ]
      },
      {
       "output_type": "stream",
       "stream": "stdout",
       "text": [
        " [1429623871986, 1429623871990] {u'global_timestamp': None, u'hash': u'5e1a48ce6835204474aaaad1c9181958', u'htype': u'bsr_m-1.0', u'pulse_id': 721179}\n",
        "[-0.54638030040042762, 0.96301540433614652] [1429623871996, 1429623872000] {u'global_timestamp': None, u'hash': u'5e1a48ce6835204474aaaad1c9181958', u'htype': u'bsr_m-1.0', u'pulse_id': 721180}\n",
        "[-0.89129609048442437, 0.068348714437359154] [1429623872006, 1429623872011] {u'global_timestamp': None, u'hash': u'5e1a48ce6835204474aaaad1c9181958', u'htype': u'bsr_m-1.0', u'pulse_id': 721181}\n",
        "[-0.3248188265731855, -0.70527839065614595] [1429623872016, 1429623872021] {u'global_timestamp': None, u'hash': u'5e1a48ce6835204474aaaad1c9181958', u'htype': u'bsr_m-1.0', u'pulse_id': 721182}\n",
        "[0.63223490733704535, -0.64659671828558762] [1429623872026, 1429623872031] {u'global_timestamp': None, u'hash': u'5e1a48ce6835204474aaaad1c9181958', u'htype': u'bsr_m-1.0', u'pulse_id': 721183}\n",
        "[1.0999543219686281, 0.19044207259594018] [1429623872036, 1429623872040] {u'global_timestamp': None, u'hash': u'5e1a48ce6835204474aaaad1c9181958', u'htype': u'bsr_m-1.0', u'pulse_id': 721184}\n",
        "[0.64832034450787857, 1.0362683778541202]"
       ]
      },
      {
       "output_type": "stream",
       "stream": "stderr",
       "text": [
        "\u001b[2J\u001b[H\u001b[2J\u001b[H\u001b[2J\u001b[H\u001b[2J\u001b[H\u001b[2J\u001b[H\u001b[2J\u001b[H\u001b[2J\u001b[H"
       ]
      },
      {
       "output_type": "stream",
       "stream": "stdout",
       "text": [
        " [1429623872045, 1429623872051] {u'global_timestamp': None, u'hash': u'5e1a48ce6835204474aaaad1c9181958', u'htype': u'bsr_m-1.0', u'pulse_id': 721185}\n",
        "[-0.30743682898458902, 1.1132333931624394] [1429623872056, 1429623872061] {u'global_timestamp': None, u'hash': u'5e1a48ce6835204474aaaad1c9181958', u'htype': u'bsr_m-1.0', u'pulse_id': 721186}\n",
        "[-0.8885984608998313, 0.35057583838878287] [1429623872066, 1429623872071] {u'global_timestamp': None, u'hash': u'5e1a48ce6835204474aaaad1c9181958', u'htype': u'bsr_m-1.0', u'pulse_id': 721187}\n",
        "[-0.56084722701915657, -0.55052044778346398] [1429623872075, 1429623872080] {u'global_timestamp': None, u'hash': u'5e1a48ce6835204474aaaad1c9181958', u'htype': u'bsr_m-1.0', u'pulse_id': 721188}\n",
        "[0.37448389972979867, -0.76159169546597161] [1429623872085, 1429623872092] {u'global_timestamp': None, u'hash': u'5e1a48ce6835204474aaaad1c9181958', u'htype': u'bsr_m-1.0', u'pulse_id': 721189}\n",
        "[1.0574557949145356, -0.088579972944372865]"
       ]
      },
      {
       "output_type": "stream",
       "stream": "stderr",
       "text": [
        "\u001b[2J\u001b[H\u001b[2J\u001b[H\u001b[2J\u001b[H\u001b[2J\u001b[H\u001b[2J\u001b[H\u001b[2J\u001b[H"
       ]
      },
      {
       "output_type": "stream",
       "stream": "stdout",
       "text": [
        " [1429623872096, 1429623872100] {u'global_timestamp': None, u'hash': u'5e1a48ce6835204474aaaad1c9181958', u'htype': u'bsr_m-1.0', u'pulse_id': 721190}\n",
        "[0.86014724778847373, 0.84975084584755156] [1429623872105, 1429623872110] {u'global_timestamp': None, u'hash': u'5e1a48ce6835204474aaaad1c9181958', u'htype': u'bsr_m-1.0', u'pulse_id': 721191}\n",
        "[-0.036037173355670388, 1.1907037334467854] [1429623872116, 1429623872120] {u'global_timestamp': None, u'hash': u'5e1a48ce6835204474aaaad1c9181958', u'htype': u'bsr_m-1.0', u'pulse_id': 721192}\n",
        "[-0.80714964468417894, 0.62080817737939453] [1429623872125, 1429623872131] {u'global_timestamp': None, u'hash': u'5e1a48ce6835204474aaaad1c9181958', u'htype': u'bsr_m-1.0', u'pulse_id': 721193}\n",
        "[-0.74423291622498067, -0.33597647631427335] [1429623872136, 1429623872140] {u'global_timestamp': None, u'hash': u'5e1a48ce6835204474aaaad1c9181958', u'htype': u'bsr_m-1.0', u'pulse_id': 721194}\n",
        "[0.094867662031896824, -0.79998682946675914] [1429623872145, 1429623872151] {u'global_timestamp': None, u'hash': u'5e1a48ce6835204474aaaad1c9181958', u'htype': u'bsr_m-1.0', u'pulse_id': 721195}\n",
        "[0.9386868881476591, -0.34461390328304692]"
       ]
      },
      {
       "output_type": "stream",
       "stream": "stderr",
       "text": [
        "\u001b[2J\u001b[H\u001b[2J\u001b[H\u001b[2J\u001b[H\u001b[2J\u001b[H\u001b[2J\u001b[H\u001b[2J\u001b[H"
       ]
      },
      {
       "output_type": "stream",
       "stream": "stdout",
       "text": [
        " [1429623872156, 1429623872160] {u'global_timestamp': None, u'hash': u'5e1a48ce6835204474aaaad1c9181958', u'htype': u'bsr_m-1.0', u'pulse_id': 721196}\n",
        "[1.0114212571032128, 0.61147453396340268] [1429623872165, 1429623872171] {u'global_timestamp': None, u'hash': u'5e1a48ce6835204474aaaad1c9181958', u'htype': u'bsr_m-1.0', u'pulse_id': 721197}\n",
        "[0.24619912551254985, 1.1892551822959361] [1429623872175, 1429623872181] {u'global_timestamp': None, u'hash': u'5e1a48ce6835204474aaaad1c9181958', u'htype': u'bsr_m-1.0', u'pulse_id': 721198}\n",
        "[-0.65343780784254024, 0.85751917820959966] [1429623872185, 1429623872190] {u'global_timestamp': None, u'hash': u'5e1a48ce6835204474aaaad1c9181958', u'htype': u'bsr_m-1.0', u'pulse_id': 721199}\n",
        "[-0.86036749532367163, -0.078736926017594022] [1429623872196, 1429623872201] {u'global_timestamp': None, u'hash': u'5e1a48ce6835204474aaaad1c9181958', u'htype': u'bsr_m-1.0', u'pulse_id': 721200}\n",
        "[-0.18433973656583899, -0.75872358592540601]"
       ]
      },
      {
       "output_type": "stream",
       "stream": "stderr",
       "text": [
        "\u001b[2J\u001b[H\u001b[2J\u001b[H\u001b[2J\u001b[H\u001b[2J\u001b[H\u001b[2J\u001b[H\u001b[2J\u001b[H\u001b[2J\u001b[H"
       ]
      },
      {
       "output_type": "stream",
       "stream": "stdout",
       "text": [
        " [1429623872205, 1429623872210] {u'global_timestamp': None, u'hash': u'5e1a48ce6835204474aaaad1c9181958', u'htype': u'bsr_m-1.0', u'pulse_id': 721201}\n",
        "[0.75310866469074711, -0.55726420231374285] [1429623872216, 1429623872220] {u'global_timestamp': None, u'hash': u'5e1a48ce6835204474aaaad1c9181958', u'htype': u'bsr_m-1.0', u'pulse_id': 721202}\n",
        "[1.0900919715955837, 0.34042039660238055] [1429623872225, 1429623872230] {u'global_timestamp': None, u'hash': u'5e1a48ce6835204474aaaad1c9181958', u'htype': u'bsr_m-1.0', u'pulse_id': 721203}\n",
        "[0.51678928585850603, 1.1090031304641126] [1429623872235, 1429623872241] {u'global_timestamp': None, u'hash': u'5e1a48ce6835204474aaaad1c9181958', u'htype': u'bsr_m-1.0', u'pulse_id': 721204}\n",
        "[-0.43970754717461169, 1.0418525782598544] [1429623872246, 1429623872250] {u'global_timestamp': None, u'hash': u'5e1a48ce6835204474aaaad1c9181958', u'htype': u'bsr_m-1.0', u'pulse_id': 721205}\n",
        "[-0.89999975032426693, 0.2007066480055632] [1429623872256, 1429623872260] {u'global_timestamp': None, u'hash': u'5e1a48ce6835204474aaaad1c9181958', u'htype': u'bsr_m-1.0', u'pulse_id': 721206}\n",
        "[-0.44089679476091925, -0.6410889711661687]"
       ]
      },
      {
       "output_type": "stream",
       "stream": "stdout",
       "text": [
        " [1429623872266, 1429623872271] {u'global_timestamp': None, u'hash': u'5e1a48ce6835204474aaaad1c9181958', u'htype': u'bsr_m-1.0', u'pulse_id': 721207}\n",
        "[0.5155041794322458, -0.70959126912824755] [1429623872275, 1429623872280] {u'global_timestamp': None, u'hash': u'5e1a48ce6835204474aaaad1c9181958', u'htype': u'bsr_m-1.0', u'pulse_id': 721208}\n",
        "[1.0898925272511026, 0.058180450951129004] [1429623872285, 1429623872291] {u'global_timestamp': None, u'hash': u'5e1a48ce6835204474aaaad1c9181958', u'htype': u'bsr_m-1.0', u'pulse_id': 721209}\n",
        "[0.75417825063857624, 0.95634041039167816] [1429623872295, 1429623872301] {u'global_timestamp': None, u'hash': u'5e1a48ce6835204474aaaad1c9181958', u'htype': u'bsr_m-1.0', u'pulse_id': 721210}\n",
        "[-0.1829844927134853, 1.1591244845606286] [1429623872305, 1429623872311] {u'global_timestamp': None, u'hash': u'5e1a48ce6835204474aaaad1c9181958', u'htype': u'bsr_m-1.0', u'pulse_id': 721211}\n",
        "[-0.85997259851462016, 0.48009393085371904]"
       ]
      },
      {
       "output_type": "stream",
       "stream": "stderr",
       "text": [
        "\u001b[2J\u001b[H\u001b[2J\u001b[H\u001b[2J\u001b[H\u001b[2J\u001b[H\u001b[2J\u001b[H\u001b[2J\u001b[H"
       ]
      },
      {
       "output_type": "stream",
       "stream": "stdout",
       "text": [
        " [1429623872315, 1429623872321] {u'global_timestamp': None, u'hash': u'5e1a48ce6835204474aaaad1c9181958', u'htype': u'bsr_m-1.0', u'pulse_id': 721212}\n",
        "[-0.65436632438187303, -0.45645369116075712] [1429623872325, 1429623872331] {u'global_timestamp': None, u'hash': u'5e1a48ce6835204474aaaad1c9181958', u'htype': u'bsr_m-1.0', u'pulse_id': 721213}\n",
        "[0.24480086944902202, -0.78946081691333658] [1429623872335, 1429623872340] {u'global_timestamp': None, u'hash': u'5e1a48ce6835204474aaaad1c9181958', u'htype': u'bsr_m-1.0', u'pulse_id': 721214}\n",
        "[1.0108388116919091, -0.21276223072814071] [1429623872345, 1429623872351] {u'global_timestamp': None, u'hash': u'5e1a48ce6835204474aaaad1c9181958', u'htype': u'bsr_m-1.0', u'pulse_id': 721215}\n",
        "[0.93945575101364753, 0.74342804683795349] [1429623872356, 1429623872361] {u'global_timestamp': None, u'hash': u'5e1a48ce6835204474aaaad1c9181958', u'htype': u'bsr_m-1.0', u'pulse_id': 721216}\n",
        "[0.096280944201980384, 1.1999930842880722]"
       ]
      },
      {
       "output_type": "stream",
       "stream": "stderr",
       "text": [
        "\u001b[2J\u001b[H\u001b[2J\u001b[H\u001b[2J\u001b[H\u001b[2J\u001b[H\u001b[2J\u001b[H\u001b[2J\u001b[H"
       ]
      },
      {
       "output_type": "stream",
       "stream": "stdout",
       "text": [
        " [1429623872366, 1429623872370] {u'global_timestamp': None, u'hash': u'5e1a48ce6835204474aaaad1c9181958', u'htype': u'bsr_m-1.0', u'pulse_id': 721217}\n",
        "[-0.7434745798602922, 0.73716909174812328] [1429623872376, 1429623872380] {u'global_timestamp': None, u'hash': u'5e1a48ce6835204474aaaad1c9181958', u'htype': u'bsr_m-1.0', u'pulse_id': 721218}\n",
        "[-0.80774346508133277, -0.21952568646286147] [1429623872386, 1429623872391] {u'global_timestamp': None, u'hash': u'5e1a48ce6835204474aaaad1c9181958', u'htype': u'bsr_m-1.0', u'pulse_id': 721219}\n",
        "[-0.037437194780066407, -0.7905104832817198] [1429623872395, 1429623872401] {u'global_timestamp': None, u'hash': u'5e1a48ce6835204474aaaad1c9181958', u'htype': u'bsr_m-1.0', u'pulse_id': 721220}\n",
        "[0.85922819857789567, -0.45082450974449578] [1429623872405, 1429623872411] {u'global_timestamp': None, u'hash': u'5e1a48ce6835204474aaaad1c9181958', u'htype': u'bsr_m-1.0', u'pulse_id': 721221}\n",
        "[1.0578626875235684, 0.48722651662081445] [1429623872416, 1429623872421] {u'global_timestamp': None, u'hash': u'5e1a48ce6835204474aaaad1c9181958', u'htype': u'bsr_m-1.0', u'pulse_id': 721222}\n",
        "[0.37584263897017889, 1.1612028082178951]"
       ]
      },
      {
       "output_type": "stream",
       "stream": "stderr",
       "text": [
        "\u001b[2J\u001b[H\u001b[2J\u001b[H\u001b[2J\u001b[H\u001b[2J\u001b[H\u001b[2J\u001b[H\u001b[2J\u001b[H\u001b[2J\u001b[H"
       ]
      },
      {
       "output_type": "stream",
       "stream": "stdout",
       "text": [
        " [1429623872425, 1429623872431] {u'global_timestamp': None, u'hash': u'5e1a48ce6835204474aaaad1c9181958', u'htype': u'bsr_m-1.0', u'pulse_id': 721223}\n",
        "[-0.55978585973888739, 0.95145367075330545] [1429623872436, 1429623872441] {u'global_timestamp': None, u'hash': u'5e1a48ce6835204474aaaad1c9181958', u'htype': u'bsr_m-1.0', u'pulse_id': 721224}\n",
        "[-0.88881028176240662, 0.050821493904282589] [1429623872446, 1429623872450] {u'global_timestamp': None, u'hash': u'5e1a48ce6835204474aaaad1c9181958', u'htype': u'bsr_m-1.0', u'pulse_id': 721225}\n",
        "[-0.30872709086581918, -0.71265665241226639] [1429623872455, 1429623872460] {u'global_timestamp': None, u'hash': u'5e1a48ce6835204474aaaad1c9181958', u'htype': u'bsr_m-1.0', u'pulse_id': 721226}\n",
        "[0.64713790243124913, -0.6370424814327722] [1429623872465, 1429623872471] {u'global_timestamp': None, u'hash': u'5e1a48ce6835204474aaaad1c9181958', u'htype': u'bsr_m-1.0', u'pulse_id': 721227}\n",
        "[1.0999668314887414, 0.20814468675683365]"
       ]
      },
      {
       "output_type": "stream",
       "stream": "stderr",
       "text": [
        "\u001b[2J\u001b[H\u001b[2J\u001b[H\u001b[2J\u001b[H\u001b[2J\u001b[H\u001b[2J\u001b[H\u001b[2J\u001b[H"
       ]
      },
      {
       "output_type": "stream",
       "stream": "stdout",
       "text": [
        " [1429623872476, 1429623872481] {u'global_timestamp': None, u'hash': u'5e1a48ce6835204474aaaad1c9181958', u'htype': u'bsr_m-1.0', u'pulse_id': 721228}\n",
        "[0.63343086725879982, 1.045843667503354] [1429623872485, 1429623872491] {u'global_timestamp': None, u'hash': u'5e1a48ce6835204474aaaad1c9181958', u'htype': u'bsr_m-1.0', u'pulse_id': 721229}\n",
        "[-0.32353897628639916, 1.105877881155219] [1429623872496, 1429623872500] {u'global_timestamp': None, u'hash': u'5e1a48ce6835204474aaaad1c9181958', u'htype': u'bsr_m-1.0', u'pulse_id': 721230}\n",
        "[-0.89110903828394561, 0.3330521485428648] [1429623872505, 1429623872510] {u'global_timestamp': None, u'hash': u'5e1a48ce6835204474aaaad1c9181958', u'htype': u'bsr_m-1.0', u'pulse_id': 721231}\n",
        "[-0.54745802121674114, -0.56210111583837885] [1429623872516, 1429623872520] {u'global_timestamp': None, u'hash': u'5e1a48ce6835204474aaaad1c9181958', u'htype': u'bsr_m-1.0', u'pulse_id': 721232}\n",
        "[0.3914629146514893, -0.75658212892718146]"
       ]
      },
      {
       "output_type": "stream",
       "stream": "stderr",
       "text": [
        "\u001b[2J\u001b[H\u001b[2J\u001b[H\u001b[2J\u001b[H\u001b[2J\u001b[H\u001b[2J\u001b[H\u001b[2J\u001b[H\u001b[2J\u001b[H"
       ]
      },
      {
       "output_type": "stream",
       "stream": "stdout",
       "text": [
        " [1429623872525, 1429623872531] {u'global_timestamp': None, u'hash': u'5e1a48ce6835204474aaaad1c9181958', u'htype': u'bsr_m-1.0', u'pulse_id': 721233}\n",
        "[1.0624141909392379, -0.071585944184841654] [1429623872536, 1429623872540] {u'global_timestamp': None, u'hash': u'5e1a48ce6835204474aaaad1c9181958', u'htype': u'bsr_m-1.0', u'pulse_id': 721234}\n",
        "[0.84852629847789152, 0.86310510515828964] [1429623872545, 1429623872550] {u'global_timestamp': None, u'hash': u'5e1a48ce6835204474aaaad1c9181958', u'htype': u'bsr_m-1.0', u'pulse_id': 721235}\n",
        "[-0.053553220798141649, 1.18814037888476] [1429623872556, 1429623872561] {u'global_timestamp': None, u'hash': u'5e1a48ce6835204474aaaad1c9181958', u'htype': u'bsr_m-1.0', u'pulse_id': 721236}\n",
        "[-0.81445661701932259, 0.60468394530741643] [1429623872566, 1429623872571] {u'global_timestamp': None, u'hash': u'5e1a48ce6835204474aaaad1c9181958', u'htype': u'bsr_m-1.0', u'pulse_id': 721237}\n",
        "[-0.73461281678569501, -0.35083704128993348] [1429623872575, 1429623872581] {u'global_timestamp': None, u'hash': u'5e1a48ce6835204474aaaad1c9181958', u'htype': u'bsr_m-1.0', u'pulse_id': 721238}\n",
        "[0.1125701581864941, -0.79992099244048598]"
       ]
      },
      {
       "output_type": "stream",
       "stream": "stdout",
       "text": [
        " [1429623872585, 1429623872590] {u'global_timestamp': None, u'hash': u'5e1a48ce6835204474aaaad1c9181958', u'htype': u'bsr_m-1.0', u'pulse_id': 721239}\n",
        "[0.94819618769227498, -0.3296821945131731] [1429623872596, 1429623872600] {u'global_timestamp': None, u'hash': u'5e1a48ce6835204474aaaad1c9181958', u'htype': u'bsr_m-1.0', u'pulse_id': 721240}\n",
        "[1.0039945538909092, 0.62754397029495823] [1429623872606, 1429623872611] {u'global_timestamp': None, u'hash': u'5e1a48ce6835204474aaaad1c9181958', u'htype': u'bsr_m-1.0', u'pulse_id': 721241}\n",
        "[0.228664496226722, 1.1916881805339439] [1429623872615, 1429623872621] {u'global_timestamp': None, u'hash': u'5e1a48ce6835204474aaaad1c9181958', u'htype': u'bsr_m-1.0', u'pulse_id': 721242}\n",
        "[-0.66495910590158824, 0.84407885099438151] [1429623872626, 1429623872630] {u'global_timestamp': None, u'hash': u'5e1a48ce6835204474aaaad1c9181958', u'htype': u'bsr_m-1.0', u'pulse_id': 721243}\n",
        "[-0.85528283385363923, -0.095693603827611162]"
       ]
      },
      {
       "output_type": "stream",
       "stream": "stderr",
       "text": [
        "\u001b[2J\u001b[H\u001b[2J\u001b[H\u001b[2J\u001b[H\u001b[2J\u001b[H\u001b[2J\u001b[H\u001b[2J\u001b[H\u001b[2J\u001b[H"
       ]
      },
      {
       "output_type": "stream",
       "stream": "stdout",
       "text": [
        " [1429623872636, 1429623872641] {u'global_timestamp': None, u'hash': u'5e1a48ce6835204474aaaad1c9181958', u'htype': u'bsr_m-1.0', u'pulse_id': 721244}\n",
        "[-0.16732392987315628, -0.76360672295141852] [1429623872646, 1429623872650] {u'global_timestamp': None, u'hash': u'5e1a48ce6835204474aaaad1c9181958', u'htype': u'bsr_m-1.0', u'pulse_id': 721245}\n",
        "[0.76641136240524077, -0.54558426489377498] [1429623872655, 1429623872660] {u'global_timestamp': None, u'hash': u'5e1a48ce6835204474aaaad1c9181958', u'htype': u'bsr_m-1.0', u'pulse_id': 721246}\n",
        "[1.0874511214017166, 0.35792492786920149] [1429623872665, 1429623872670] {u'global_timestamp': None, u'hash': u'5e1a48ce6835204474aaaad1c9181958', u'htype': u'bsr_m-1.0', u'pulse_id': 721247}\n",
        "[0.5006328732456149, 1.1162386702573535] [1429623872675, 1429623872681] {u'global_timestamp': None, u'hash': u'5e1a48ce6835204474aaaad1c9181958', u'htype': u'bsr_m-1.0', u'pulse_id': 721248}\n",
        "[-0.45452539095934885, 1.0321668046620109] [1429623872686, 1429623872691] {u'global_timestamp': None, u'hash': u'5e1a48ce6835204474aaaad1c9181958', u'htype': u'bsr_m-1.0', u'pulse_id': 721249}\n",
        "[-0.89985556804115063, 0.18300461659425915]"
       ]
      },
      {
       "output_type": "stream",
       "stream": "stderr",
       "text": [
        "\u001b[2J\u001b[H\u001b[2J\u001b[H\u001b[2J\u001b[H\u001b[2J\u001b[H\u001b[2J\u001b[H\u001b[2J\u001b[H"
       ]
      },
      {
       "output_type": "stream",
       "stream": "stdout",
       "text": [
        " [1429623872695, 1429623872700] {u'global_timestamp': None, u'hash': u'5e1a48ce6835204474aaaad1c9181958', u'htype': u'bsr_m-1.0', u'pulse_id': 721250}\n",
        "[-0.42592314693611577, -0.65053209434848069] [1429623872706, 1429623872710] {u'global_timestamp': None, u'hash': u'5e1a48ce6835204474aaaad1c9181958', u'htype': u'bsr_m-1.0', u'pulse_id': 721251}\n",
        "[0.53154059004312693, -0.7020935201769436] [1429623872716, 1429623872720] {u'global_timestamp': None, u'hash': u'5e1a48ce6835204474aaaad1c9181958', u'htype': u'bsr_m-1.0', u'pulse_id': 721252}\n",
        "[1.0922478986881139, 0.075725676227860889] [1429623872726, 1429623872731] {u'global_timestamp': None, u'hash': u'5e1a48ce6835204474aaaad1c9181958', u'htype': u'bsr_m-1.0', u'pulse_id': 721253}\n",
        "[0.74068706526488148, 0.96780211278836248] [1429623872736, 1429623872740] {u'global_timestamp': None, u'hash': u'5e1a48ce6835204474aaaad1c9181958', u'htype': u'bsr_m-1.0', u'pulse_id': 721254}\n",
        "[-0.19991850128310026, 1.1539648277521026] [1429623872745, 1429623872751] {u'global_timestamp': None, u'hash': u'5e1a48ce6835204474aaaad1c9181958', u'htype': u'bsr_m-1.0', u'pulse_id': 721255}\n",
        "[-0.86478038089643294, 0.46305667951476503]"
       ]
      },
      {
       "output_type": "stream",
       "stream": "stderr",
       "text": [
        "\u001b[2J\u001b[H\u001b[2J\u001b[H\u001b[2J\u001b[H\u001b[2J\u001b[H\u001b[2J\u001b[H\u001b[2J\u001b[H\u001b[2J\u001b[H"
       ]
      },
      {
       "output_type": "stream",
       "stream": "stdout",
       "text": [
        " [1429623872756, 1429623872761] {u'global_timestamp': None, u'hash': u'5e1a48ce6835204474aaaad1c9181958', u'htype': u'bsr_m-1.0', u'pulse_id': 721256}\n",
        "[-0.64262762762626946, -0.46970456672041511] [1429623872765, 1429623872771] {u'global_timestamp': None, u'hash': u'5e1a48ce6835204474aaaad1c9181958', u'htype': u'bsr_m-1.0', u'pulse_id': 721257}\n",
        "[0.26229354168071378, -0.78674252281369239] [1429623872775, 1429623872781] {u'global_timestamp': None, u'hash': u'5e1a48ce6835204474aaaad1c9181958', u'htype': u'bsr_m-1.0', u'pulse_id': 721258}\n",
        "[1.0180027772214628, -0.19657395402835187] [1429623872786, 1429623872791] {u'global_timestamp': None, u'hash': u'5e1a48ce6835204474aaaad1c9181958', u'htype': u'bsr_m-1.0', u'pulse_id': 721259}\n",
        "[0.92970449297151125, 0.75820287919616414] [1429623872796, 1429623872800] {u'global_timestamp': None, u'hash': u'5e1a48ce6835204474aaaad1c9181958', u'htype': u'bsr_m-1.0', u'pulse_id': 721260}\n",
        "[0.078579724261863715, 1.1997705595721961]"
       ]
      },
      {
       "output_type": "stream",
       "stream": "stderr",
       "text": [
        "\u001b[2J\u001b[H\u001b[2J\u001b[H\u001b[2J\u001b[H\u001b[2J\u001b[H\u001b[2J\u001b[H\u001b[2J\u001b[H\u001b[2J\u001b[H"
       ]
      },
      {
       "output_type": "stream",
       "stream": "stdout",
       "text": [
        " [1429623872805, 1429623872811] {u'global_timestamp': None, u'hash': u'5e1a48ce6835204474aaaad1c9181958', u'htype': u'bsr_m-1.0', u'pulse_id': 721261}\n",
        "[-0.75285134171880408, 0.72215379815571179] [1429623872816, 1429623872820] {u'global_timestamp': None, u'hash': u'5e1a48ce6835204474aaaad1c9181958', u'htype': u'bsr_m-1.0', u'pulse_id': 721262}\n",
        "[-0.80017481724867701, -0.23552875724951972] [1429623872825, 1429623872831] {u'global_timestamp': None, u'hash': u'5e1a48ce6835204474aaaad1c9181958', u'htype': u'bsr_m-1.0', u'pulse_id': 721263}\n",
        "[-0.019881717168978782, -0.79278818178331312] [1429623872835, 1429623872840] {u'global_timestamp': None, u'hash': u'5e1a48ce6835204474aaaad1c9181958', u'htype': u'bsr_m-1.0', u'pulse_id': 721264}\n",
        "[0.87063008081301418, -0.43728273046280425] [1429623872846, 1429623872851] {u'global_timestamp': None, u'hash': u'5e1a48ce6835204474aaaad1c9181958', u'htype': u'bsr_m-1.0', u'pulse_id': 721265}\n",
        "[1.0526281364382237, 0.50413752426531855] [1429623872856, 1429623872861] {u'global_timestamp': None, u'hash': u'5e1a48ce6835204474aaaad1c9181958', u'htype': u'bsr_m-1.0', u'pulse_id': 721266}\n",
        "[0.35878427669186785, 1.165935141785962]"
       ]
      },
      {
       "output_type": "stream",
       "stream": "stderr",
       "text": [
        "\u001b[2J\u001b[H\u001b[2J\u001b[H\u001b[2J\u001b[H\u001b[2J\u001b[H\u001b[2J\u001b[H\u001b[2J\u001b[H"
       ]
      },
      {
       "output_type": "stream",
       "stream": "stdout",
       "text": [
        " [1429623872865, 1429623872871] {u'global_timestamp': None, u'hash': u'5e1a48ce6835204474aaaad1c9181958', u'htype': u'bsr_m-1.0', u'pulse_id': 721267}\n",
        "[-0.57298465360015383, 0.93965644458672903] [1429623872875, 1429623872881] {u'global_timestamp': None, u'hash': u'5e1a48ce6835204474aaaad1c9181958', u'htype': u'bsr_m-1.0', u'pulse_id': 721268}\n",
        "[-0.88601459699993657, 0.033341023334917119] [1429623872885, 1429623872891] {u'global_timestamp': None, u'hash': u'5e1a48ce6835204474aaaad1c9181958', u'htype': u'bsr_m-1.0', u'pulse_id': 721269}\n",
        "[-0.29250726715726671, -0.71974890335826669] [1429623872896, 1429623872901] {u'global_timestamp': None, u'hash': u'5e1a48ce6835204474aaaad1c9181958', u'htype': u'bsr_m-1.0', u'pulse_id': 721270}\n",
        "[0.66186943396979026, -0.62722592994324566] [1429623872906, 1429623872910] {u'global_timestamp': None, u'hash': u'5e1a48ce6835204474aaaad1c9181958', u'htype': u'bsr_m-1.0', u'pulse_id': 721271}\n",
        "[1.0996659686986752, 0.22584474851376302]"
       ]
      },
      {
       "output_type": "stream",
       "stream": "stdout",
       "text": [
        " [1429623872916, 1429623872920] {u'global_timestamp': None, u'hash': u'5e1a48ce6835204474aaaad1c9181958', u'htype': u'bsr_m-1.0', u'pulse_id': 721272}\n",
        "[0.61837422200181313, 1.0551538843763824] [1429623872926, 1429623872931] {u'global_timestamp': None, u'hash': u'5e1a48ce6835204474aaaad1c9181958', u'htype': u'bsr_m-1.0', u'pulse_id': 721273}\n",
        "[-0.33950839379830988, 1.0982384826875486] [1429623872935, 1429623872941] {u'global_timestamp': None, u'hash': u'5e1a48ce6835204474aaaad1c9181958', u'htype': u'bsr_m-1.0', u'pulse_id': 721274}\n",
        "[-0.89330901923707151, 0.31548676245478113] [1429623872945, 1429623872951] {u'global_timestamp': None, u'hash': u'5e1a48ce6835204474aaaad1c9181958', u'htype': u'bsr_m-1.0', u'pulse_id': 721275}\n",
        "[-0.53386591326851041, -0.57344295458442018] [1429623872956, 1429623872961] {u'global_timestamp': None, u'hash': u'5e1a48ce6835204474aaaad1c9181958', u'htype': u'bsr_m-1.0', u'pulse_id': 721276}\n",
        "[0.40835059013669073, -0.75127278609363923] [1429623872966, 1429623872971] {u'global_timestamp': None, u'hash': u'5e1a48ce6835204474aaaad1c9181958', u'htype': u'bsr_m-1.0', u'pulse_id': 721277}\n",
        "[1.0670709830018217, -0.054506805087585652]"
       ]
      },
      {
       "output_type": "stream",
       "stream": "stderr",
       "text": [
        "\u001b[2J\u001b[H\u001b[2J\u001b[H\u001b[2J\u001b[H\u001b[2J\u001b[H\u001b[2J\u001b[H\u001b[2J\u001b[H\u001b[2J\u001b[H"
       ]
      },
      {
       "output_type": "stream",
       "stream": "stdout",
       "text": [
        " [1429623872976, 1429623872981] {u'global_timestamp': None, u'hash': u'5e1a48ce6835204474aaaad1c9181958', u'htype': u'bsr_m-1.0', u'pulse_id': 721278}\n",
        "[0.83667077397141487, 0.87625155879772776] [1429623872985, 1429623872990] {u'global_timestamp': None, u'hash': u'5e1a48ce6835204474aaaad1c9181958', u'htype': u'bsr_m-1.0', u'pulse_id': 721279}\n",
        "[-0.071021147316976424, 1.185267358218258] [1429623872996, 1429623873001] {u'global_timestamp': None, u'hash': u'5e1a48ce6835204474aaaad1c9181958', u'htype': u'bsr_m-1.0', u'pulse_id': 721280}\n",
        "[-0.82147701446656929, 0.58843289228614271] [1429623873006, 1429623873011] {u'global_timestamp': None, u'hash': u'5e1a48ce6835204474aaaad1c9181958', u'htype': u'bsr_m-1.0', u'pulse_id': 721281}\n",
        "[-0.72473116412457661, -0.36552498346379064] [1429623873016, 1429623873021] {u'global_timestamp': None, u'hash': u'5e1a48ce6835204474aaaad1c9181958', u'htype': u'bsr_m-1.0', u'pulse_id': 721282}\n",
        "[0.13026871507092141, -0.79954179746919807] [1429623873025, 1429623873031] {u'global_timestamp': None, u'hash': u'5e1a48ce6835204474aaaad1c9181958', u'htype': u'bsr_m-1.0', u'pulse_id': 721283}\n",
        "[0.95743967722154566, -0.31458449250459491]"
       ]
      },
      {
       "output_type": "stream",
       "stream": "stderr",
       "text": [
        "\u001b[2J\u001b[H\u001b[2J\u001b[H\u001b[2J\u001b[H\u001b[2J\u001b[H\u001b[2J\u001b[H\u001b[2J\u001b[H\u001b[2J\u001b[H"
       ]
      },
      {
       "output_type": "stream",
       "stream": "stdout",
       "text": [
        " [1429623873035, 1429623873041] {u'global_timestamp': None, u'hash': u'5e1a48ce6835204474aaaad1c9181958', u'htype': u'bsr_m-1.0', u'pulse_id': 721284}\n",
        "[0.99628455442034769, 0.64347942174075978] [1429623873046, 1429623873050] {u'global_timestamp': None, u'hash': u'5e1a48ce6835204474aaaad1c9181958', u'htype': u'bsr_m-1.0', u'pulse_id': 721285}\n",
        "[0.21108954571307836, 1.1938104008477985] [1429623873055, 1429623873061] {u'global_timestamp': None, u'hash': u'5e1a48ce6835204474aaaad1c9181958', u'htype': u'bsr_m-1.0', u'pulse_id': 721286}\n",
        "[-0.67624067900710705, 0.83043668060685172] [1429623873066, 1429623873070] {u'global_timestamp': None, u'hash': u'5e1a48ce6835204474aaaad1c9181958', u'htype': u'bsr_m-1.0', u'pulse_id': 721287}\n",
        "[-0.84989880326545919, -0.11255761637632272] [1429623873075, 1429623873081] {u'global_timestamp': None, u'hash': u'5e1a48ce6835204474aaaad1c9181958', u'htype': u'bsr_m-1.0', u'pulse_id': 721288}\n",
        "[-0.15022434848432095, -0.76818788229640478]"
       ]
      },
      {
       "output_type": "stream",
       "stream": "stderr",
       "text": [
        "\u001b[2J\u001b[H\u001b[2J\u001b[H\u001b[2J\u001b[H\u001b[2J\u001b[H\u001b[2J\u001b[H\u001b[2J\u001b[H"
       ]
      },
      {
       "output_type": "stream",
       "stream": "stdout",
       "text": [
        " [1429623873085, 1429623873090] {u'global_timestamp': None, u'hash': u'5e1a48ce6835204474aaaad1c9181958', u'htype': u'bsr_m-1.0', u'pulse_id': 721289}\n",
        "[0.77950521832459596, -0.53367067426035453] [1429623873096, 1429623873101] {u'global_timestamp': None, u'hash': u'5e1a48ce6835204474aaaad1c9181958', u'htype': u'bsr_m-1.0', u'pulse_id': 721290}\n",
        "[1.0845008211047469, 0.37537996819500019] [1429623873105, 1429623873111] {u'global_timestamp': None, u'hash': u'5e1a48ce6835204474aaaad1c9181958', u'htype': u'bsr_m-1.0', u'pulse_id': 721291}\n",
        "[0.4843509092193472, 1.1231870766980336] [1429623873115, 1429623873120] {u'global_timestamp': None, u'hash': u'5e1a48ce6835204474aaaad1c9181958', u'htype': u'bsr_m-1.0', u'pulse_id': 721292}\n",
        "[-0.46916945607728811, 1.0222202443802293] [1429623873125, 1429623873131] {u'global_timestamp': None, u'hash': u'5e1a48ce6835204474aaaad1c9181958', u'htype': u'bsr_m-1.0', u'pulse_id': 721293}\n",
        "[-0.89939804831589454, 0.16530791124217281] [1429623873135, 1429623873141] {u'global_timestamp': None, u'hash': u'5e1a48ce6835204474aaaad1c9181958', u'htype': u'bsr_m-1.0', u'pulse_id': 721294}\n",
        "[-0.41078468389310452, -0.65970867548270173]"
       ]
      },
      {
       "output_type": "stream",
       "stream": "stderr",
       "text": [
        "\u001b[2J\u001b[H\u001b[2J\u001b[H\u001b[2J\u001b[H\u001b[2J\u001b[H\u001b[2J\u001b[H\u001b[2J\u001b[H\u001b[2J\u001b[H"
       ]
      },
      {
       "output_type": "stream",
       "stream": "stdout",
       "text": [
        " [1429623873145, 1429623873151] {u'global_timestamp': None, u'hash': u'5e1a48ce6835204474aaaad1c9181958', u'htype': u'bsr_m-1.0', u'pulse_id': 721295}\n",
        "[0.5474417632967481, -0.69431307071846882] [1429623873155, 1429623873160] {u'global_timestamp': None, u'hash': u'5e1a48ce6835204474aaaad1c9181958', u'htype': u'bsr_m-1.0', u'pulse_id': 721296}\n",
        "[1.0942923167949832, 0.093309846928291001] [1429623873165, 1429623873171] {u'global_timestamp': None, u'hash': u'5e1a48ce6835204474aaaad1c9181958', u'htype': u'bsr_m-1.0', u'pulse_id': 721297}\n",
        "[0.72699509964586051, 0.97902319928233039] [1429623873176, 1429623873180] {u'global_timestamp': None, u'hash': u'5e1a48ce6835204474aaaad1c9181958', u'htype': u'bsr_m-1.0', u'pulse_id': 721298}\n",
        "[-0.21675852058161829, 1.1485062148657459] [1429623873186, 1429623873191] {u'global_timestamp': None, u'hash': u'5e1a48ce6835204474aaaad1c9181958', u'htype': u'bsr_m-1.0', u'pulse_id': 721299}\n",
        "[-0.86928581779311842, 0.44593699076211701]"
       ]
      },
      {
       "output_type": "stream",
       "stream": "stderr",
       "text": [
        "\u001b[2J\u001b[H\u001b[2J\u001b[H\u001b[2J\u001b[H\u001b[2J\u001b[H\u001b[2J\u001b[H\u001b[2J\u001b[H\u001b[2J\u001b[H"
       ]
      },
      {
       "output_type": "stream",
       "stream": "stdout",
       "text": [
        " [1429623873196, 1429623873201] {u'global_timestamp': None, u'hash': u'5e1a48ce6835204474aaaad1c9181958', u'htype': u'bsr_m-1.0', u'pulse_id': 721300}\n",
        "[-0.63065620421619661, -0.48274556845165945] [1429623873206, 1429623873210] {u'global_timestamp': None, u'hash': u'5e1a48ce6835204474aaaad1c9181958', u'htype': u'bsr_m-1.0', u'pulse_id': 721301}\n",
        "[0.27973535392337168, -0.78371500067348787] [1429623873215, 1429623873220] {u'global_timestamp': None, u'hash': u'5e1a48ce6835204474aaaad1c9181958', u'htype': u'bsr_m-1.0', u'pulse_id': 721302}\n",
        "[1.0248790565578445, -0.18026139791026874] [1429623873226, 1429623873231] {u'global_timestamp': None, u'hash': u'5e1a48ce6835204474aaaad1c9181958', u'htype': u'bsr_m-1.0', u'pulse_id': 721303}\n",
        "[0.91969321989133412, 0.77280278042636708] [1429623873236, 1429623873242] {u'global_timestamp': None, u'hash': u'5e1a48ce6835204474aaaad1c9181958', u'htype': u'bsr_m-1.0', u'pulse_id': 721304}\n",
        "[0.060885217065691513, 1.1992347240543646] [1429623873246, 1429623873251] {u'global_timestamp': None, u'hash': u'5e1a48ce6835204474aaaad1c9181958', u'htype': u'bsr_m-1.0', u'pulse_id': 721305}\n",
        "[-0.76196083471721143, 0.7069748705938077]"
       ]
      },
      {
       "output_type": "stream",
       "stream": "stderr",
       "text": [
        "\u001b[2J\u001b[H\u001b[2J\u001b[H\u001b[2J\u001b[H\u001b[2J\u001b[H\u001b[2J\u001b[H\u001b[2J\u001b[H"
       ]
      },
      {
       "output_type": "stream",
       "stream": "stdout",
       "text": [
        " [1429623873255, 1429623873261] {u'global_timestamp': None, u'hash': u'5e1a48ce6835204474aaaad1c9181958', u'htype': u'bsr_m-1.0', u'pulse_id': 721306}\n",
        "[-0.79232407019716311, -0.25139534085629234] [1429623873267, 1429623873271] {u'global_timestamp': None, u'hash': u'5e1a48ce6835204474aaaad1c9181958', u'htype': u'bsr_m-1.0', u'pulse_id': 721307}\n",
        "[-0.002288670701130549, -0.79475475763938697] [1429623873276, 1429623873280] {u'global_timestamp': None, u'hash': u'5e1a48ce6835204474aaaad1c9181958', u'htype': u'bsr_m-1.0', u'pulse_id': 721308}\n",
        "[0.8817904609091477, -0.42354123779543423] [1429623873285, 1429623873291] {u'global_timestamp': None, u'hash': u'5e1a48ce6835204474aaaad1c9181958', u'htype': u'bsr_m-1.0', u'pulse_id': 721309}\n",
        "[1.0470950481709871, 0.52095322046989279] [1429623873295, 1429623873301] {u'global_timestamp': None, u'hash': u'5e1a48ce6835204474aaaad1c9181958', u'htype': u'bsr_m-1.0', u'pulse_id': 721310}\n",
        "[0.34164481589701468, 1.1703647679868112] [1429623873305, 1429623873310] {u'global_timestamp': None, u'hash': u'5e1a48ce6835204474aaaad1c9181958', u'htype': u'bsr_m-1.0', u'pulse_id': 721311}\n",
        "[-0.58597254571050894, 0.92762742288306033]"
       ]
      },
      {
       "output_type": "stream",
       "stream": "stderr",
       "text": [
        "\u001b[2J\u001b[H\u001b[2J\u001b[H\u001b[2J\u001b[H\u001b[2J\u001b[H\u001b[2J\u001b[H\u001b[2J\u001b[H\u001b[2J\u001b[H"
       ]
      },
      {
       "output_type": "stream",
       "stream": "stdout",
       "text": [
        " [1429623873316, 1429623873321] {u'global_timestamp': None, u'hash': u'5e1a48ce6835204474aaaad1c9181958', u'htype': u'bsr_m-1.0', u'pulse_id': 721312}\n",
        "[-0.88290991231626637, 0.015912780806407734] [1429623873326, 1429623873330] {u'global_timestamp': None, u'hash': u'5e1a48ce6835204474aaaad1c9181958', u'htype': u'bsr_m-1.0', u'pulse_id': 721313}\n",
        "[-0.27616443845975047, -0.72655292090536339] [1429623873336, 1429623873341] {u'global_timestamp': None, u'hash': u'5e1a48ce6835204474aaaad1c9181958', u'htype': u'bsr_m-1.0', u'pulse_id': 721314}\n",
        "[0.67642488534547196, -0.61715014015446346] [1429623873345, 1429623873350] {u'global_timestamp': None, u'hash': u'5e1a48ce6835204474aaaad1c9181958', u'htype': u'bsr_m-1.0', u'pulse_id': 721315}\n",
        "[1.0990518278836237, 0.24353671097350299] [1429623873356, 1429623873361] {u'global_timestamp': None, u'hash': u'5e1a48ce6835204474aaaad1c9181958', u'htype': u'bsr_m-1.0', u'pulse_id': 721316}\n",
        "[0.60315512722913145, 1.0641961108122604] [1429623873365, 1429623873370] {u'global_timestamp': None, u'hash': u'5e1a48ce6835204474aaaad1c9181958', u'htype': u'bsr_m-1.0', u'pulse_id': 721317}\n",
        "[-0.35534007698106984, 1.0903175918147823] [1429623873376, 1429623873380] {u'global_timestamp': None, u'hash': u'5e1a48ce6835204474aaaad1c9181958', u'htype': u'bsr_m-1.0', u'pulse_id': 721318}\n",
        "[-0.89519771432322803, 0.29788518481273185]"
       ]
      },
      {
       "output_type": "stream",
       "stream": "stderr",
       "text": [
        "\u001b[2J\u001b[H\u001b[2J\u001b[H\u001b[2J\u001b[H\u001b[2J\u001b[H\u001b[2J\u001b[H\u001b[2J\u001b[H"
       ]
      },
      {
       "output_type": "stream",
       "stream": "stdout",
       "text": [
        " [1429623873385, 1429623873391] {u'global_timestamp': None, u'hash': u'5e1a48ce6835204474aaaad1c9181958', u'htype': u'bsr_m-1.0', u'pulse_id': 721319}\n",
        "[-0.52007516270601473, -0.58454240968548632] [1429623873395, 1429623873401] {u'global_timestamp': None, u'hash': u'5e1a48ce6835204474aaaad1c9181958', u'htype': u'bsr_m-1.0', u'pulse_id': 721320}\n",
        "[0.42514163387998471, -0.74566533082156172] [1429623873408, 1429623873411] {u'global_timestamp': None, u'hash': u'5e1a48ce6835204474aaaad1c9181958', u'htype': u'bsr_m-1.0', u'pulse_id': 721321}\n",
        "[1.0714247117441951, -0.037347907959407761] [1429623873416, 1429623873422] {u'global_timestamp': None, u'hash': u'5e1a48ce6835204474aaaad1c9181958', u'htype': u'bsr_m-1.0', u'pulse_id': 721322}\n",
        "[0.82458438958537839, 0.88918608689466772] [1429623873425, 1429623873431] {u'global_timestamp': None, u'hash': u'5e1a48ce6835204474aaaad1c9181958', u'htype': u'bsr_m-1.0', u'pulse_id': 721323}\n",
        "[-0.088435478766118208, 1.182085571802266] [1429623873435, 1429623873440] {u'global_timestamp': None, u'hash': u'5e1a48ce6835204474aaaad1c9181958', u'htype': u'bsr_m-1.0', u'pulse_id': 721324}\n",
        "[-0.82820863695477953, 0.57206011111452182]"
       ]
      },
      {
       "output_type": "stream",
       "stream": "stdout",
       "text": [
        " [1429623873445, 1429623873451] {u'global_timestamp': None, u'hash': u'5e1a48ce6835204474aaaad1c9181958', u'htype': u'bsr_m-1.0', u'pulse_id': 721325}\n",
        "[-0.71459105498066244, -0.38003569988880109] [1429623873456, 1429623873460] {u'global_timestamp': None, u'hash': u'5e1a48ce6835204474aaaad1c9181958', u'htype': u'bsr_m-1.0', u'pulse_id': 721326}\n",
        "[0.14795778626355452, -0.79884936338604096] [1429623873465, 1429623873470] {u'global_timestamp': None, u'hash': u'5e1a48ce6835204474aaaad1c9181958', u'htype': u'bsr_m-1.0', u'pulse_id': 721327}\n",
        "[0.96641445998572217, -0.29932552861600148] [1429623873476, 1429623873480] {u'global_timestamp': None, u'hash': u'5e1a48ce6835204474aaaad1c9181958', u'htype': u'bsr_m-1.0', u'pulse_id': 721328}\n",
        "[0.98829367487201503, 0.65927589440593415] [1429623873486, 1429623873490] {u'global_timestamp': None, u'hash': u'5e1a48ce6835204474aaaad1c9181958', u'htype': u'bsr_m-1.0', u'pulse_id': 721329}\n",
        "[0.19347978165714447, 1.1956211781703585] [1429623873495, 1429623873500] {u'global_timestamp': None, u'hash': u'5e1a48ce6835204474aaaad1c9181958', u'htype': u'bsr_m-1.0', u'pulse_id': 721330}\n",
        "[-0.68727899170920437, 0.8165969422672632]"
       ]
      },
      {
       "output_type": "stream",
       "stream": "stderr",
       "text": [
        "\u001b[2J\u001b[H\u001b[2J\u001b[H\u001b[2J\u001b[H\u001b[2J\u001b[H\u001b[2J\u001b[H\u001b[2J\u001b[H\u001b[2J\u001b[H"
       ]
      },
      {
       "output_type": "stream",
       "stream": "stdout",
       "text": [
        " [1429623873506, 1429623873510] {u'global_timestamp': None, u'hash': u'5e1a48ce6835204474aaaad1c9181958', u'htype': u'bsr_m-1.0', u'pulse_id': 721331}\n",
        "[-0.84421709082119878, -0.12932367877386547] [1429623873515, 1429623873521] {u'global_timestamp': None, u'hash': u'5e1a48ce6835204474aaaad1c9181958', u'htype': u'bsr_m-1.0', u'pulse_id': 721332}\n",
        "[-0.13304635111239643, -0.77246562830425924] [1429623873525, 1429623873530] {u'global_timestamp': None, u'hash': u'5e1a48ce6835204474aaaad1c9181958', u'htype': u'bsr_m-1.0', u'pulse_id': 721333}\n",
        "[0.79238612906083083, -0.52152716392673559] [1429623873536, 1429623873540] {u'global_timestamp': None, u'hash': u'5e1a48ce6835204474aaaad1c9181958', u'htype': u'bsr_m-1.0', u'pulse_id': 721334}\n",
        "[1.0812419952777612, 0.39278004747203027] [1429623873545, 1429623873550] {u'global_timestamp': None, u'hash': u'5e1a48ce6835204474aaaad1c9181958', u'htype': u'bsr_m-1.0', u'pulse_id': 721335}\n",
        "[0.46794849626562629, 1.1298461722757505]"
       ]
      },
      {
       "output_type": "stream",
       "stream": "stderr",
       "text": [
        "\u001b[2J\u001b[H\u001b[2J\u001b[H\u001b[2J\u001b[H\u001b[2J\u001b[H\u001b[2J\u001b[H\u001b[2J\u001b[H"
       ]
      },
      {
       "output_type": "stream",
       "stream": "stdout",
       "text": [
        " [1429623873555, 1429623873561] {u'global_timestamp': None, u'hash': u'5e1a48ce6835204474aaaad1c9181958', u'htype': u'bsr_m-1.0', u'pulse_id': 721336}\n",
        "[-0.48363515333169627, 1.0120160144944725] [1429623873566, 1429623873571] {u'global_timestamp': None, u'hash': u'5e1a48ce6835204474aaaad1c9181958', u'htype': u'bsr_m-1.0', u'pulse_id': 721337}\n",
        "[-0.89862733452726773, 0.14762207779069023] [1429623873576, 1429623873580] {u'global_timestamp': None, u'hash': u'5e1a48ce6835204474aaaad1c9181958', u'htype': u'bsr_m-1.0', u'pulse_id': 721338}\n",
        "[-0.39548614976437757, -0.66861583878701669] [1429623873586, 1429623873590] {u'global_timestamp': None, u'hash': u'5e1a48ce6835204474aaaad1c9181958', u'htype': u'bsr_m-1.0', u'pulse_id': 721339}\n",
        "[0.56320271604042849, -0.68625235901111714] [1429623873596, 1429623873601] {u'global_timestamp': None, u'hash': u'5e1a48ce6835204474aaaad1c9181958', u'htype': u'bsr_m-1.0', u'pulse_id': 721340}\n",
        "[1.096025140886435, 0.11092745247744679] [1429623873606, 1429623873611] {u'global_timestamp': None, u'hash': u'5e1a48ce6835204474aaaad1c9181958', u'htype': u'bsr_m-1.0', u'pulse_id': 721341}\n",
        "[0.71310664460673057, 0.99000015337914737]"
       ]
      },
      {
       "output_type": "stream",
       "stream": "stderr",
       "text": [
        "\u001b[2J\u001b[H\u001b[2J\u001b[H\u001b[2J\u001b[H\u001b[2J\u001b[H\u001b[2J\u001b[H\u001b[2J\u001b[H\u001b[2J\u001b[H"
       ]
      },
      {
       "output_type": "stream",
       "stream": "stdout",
       "text": [
        " [1429623873616, 1429623873620] {u'global_timestamp': None, u'hash': u'5e1a48ce6835204474aaaad1c9181958', u'htype': u'bsr_m-1.0', u'pulse_id': 721342}\n",
        "[-0.23349927323824579, 1.1427503565364279] [1429623873626, 1429623873630] {u'global_timestamp': None, u'hash': u'5e1a48ce6835204474aaaad1c9181958', u'htype': u'bsr_m-1.0', u'pulse_id': 721343}\n",
        "[-0.87348749727867647, 0.42874022961013836] [1429623873636, 1429623873641] {u'global_timestamp': None, u'hash': u'5e1a48ce6835204474aaaad1c9181958', u'htype': u'bsr_m-1.0', u'pulse_id': 721344}\n",
        "[-0.61845580578870085, -0.49557260953009691] [1429623873645, 1429623873651] {u'global_timestamp': None, u'hash': u'5e1a48ce6835204474aaaad1c9181958', u'htype': u'bsr_m-1.0', u'pulse_id': 721345}\n",
        "[0.2971208402147017, -0.78037919926579935] [1429623873655, 1429623873661] {u'global_timestamp': None, u'hash': u'5e1a48ce6835204474aaaad1c9181958', u'htype': u'bsr_m-1.0', u'pulse_id': 721346}\n",
        "[1.0314654947940378, -0.16382967444684682]"
       ]
      },
      {
       "output_type": "stream",
       "stream": "stderr",
       "text": [
        "\u001b[2J\u001b[H\u001b[2J\u001b[H\u001b[2J\u001b[H\u001b[2J\u001b[H\u001b[2J\u001b[H\u001b[2J\u001b[H\u001b[2J\u001b[H"
       ]
      },
      {
       "output_type": "stream",
       "stream": "stdout",
       "text": [
        " [1429623873665, 1429623873670] {u'global_timestamp': None, u'hash': u'5e1a48ce6835204474aaaad1c9181958', u'htype': u'bsr_m-1.0', u'pulse_id': 721347}\n",
        "[0.90942506913295085, 0.78722317517202756] [1429623873675, 1429623873680] {u'global_timestamp': None, u'hash': u'5e1a48ce6835204474aaaad1c9181958', u'htype': u'bsr_m-1.0', u'pulse_id': 721348}\n",
        "[0.043202967765985791, 1.1983857456561609] [1429623873686, 1429623873691] {u'global_timestamp': None, u'hash': u'5e1a48ce6835204474aaaad1c9181958', u'htype': u'bsr_m-1.0', u'pulse_id': 721349}\n",
        "[-0.77080020409796068, 0.691637065875784] [1429623873695, 1429623873701] {u'global_timestamp': None, u'hash': u'5e1a48ce6835204474aaaad1c9181958', u'htype': u'bsr_m-1.0', u'pulse_id': 721350}\n",
        "[-0.78419368421513547, -0.26712046497029568] [1429623873705, 1429623873711] {u'global_timestamp': None, u'hash': u'5e1a48ce6835204474aaaad1c9181958', u'htype': u'bsr_m-1.0', u'pulse_id': 721351}\n",
        "[0.015336431266993744, -0.79640959455908056] [1429623873716, 1429623873720] {u'global_timestamp': None, u'hash': u'5e1a48ce6835204474aaaad1c9181958', u'htype': u'bsr_m-1.0', u'pulse_id': 721352}\n",
        "[0.89270584139619746, -0.40960433808852331]"
       ]
      },
      {
       "output_type": "stream",
       "stream": "stderr",
       "text": [
        "\u001b[2J\u001b[H\u001b[2J\u001b[H\u001b[2J\u001b[H\u001b[2J\u001b[H\u001b[2J\u001b[H\u001b[2J\u001b[H\u001b[2J\u001b[H"
       ]
      },
      {
       "output_type": "stream",
       "stream": "stdout",
       "text": [
        " [1429623873726, 1429623873731] {u'global_timestamp': None, u'hash': u'5e1a48ce6835204474aaaad1c9181958', u'htype': u'bsr_m-1.0', u'pulse_id': 721353}\n",
        "[1.0412651566960249, 0.53766833548618032] [1429623873736, 1429623873740] {u'global_timestamp': None, u'hash': u'5e1a48ce6835204474aaaad1c9181958', u'htype': u'bsr_m-1.0', u'pulse_id': 721354}\n",
        "[0.32442962779619877, 1.174490298652203] [1429623873745, 1429623873751] {u'global_timestamp': None, u'hash': u'5e1a48ce6835204474aaaad1c9181958', u'htype': u'bsr_m-1.0', u'pulse_id': 721355}\n",
        "[-0.59874546588919586, 0.91537037532965448] [1429623873756, 1429623873760] {u'global_timestamp': None, u'hash': u'5e1a48ce6835204474aaaad1c9181958', u'htype': u'bsr_m-1.0', u'pulse_id': 721356}\n",
        "[-0.879497200665879, -0.0014577719714652104] [1429623873765, 1429623873771] {u'global_timestamp': None, u'hash': u'5e1a48ce6835204474aaaad1c9181958', u'htype': u'bsr_m-1.0', u'pulse_id': 721357}\n",
        "[-0.25970372633312888, -0.7330665727921355] [1429623873775, 1429623873781] {u'global_timestamp': None, u'hash': u'5e1a48ce6835204474aaaad1c9181958', u'htype': u'bsr_m-1.0', u'pulse_id': 721358}\n",
        "[0.69079969513157535, -0.60681826964468133]"
       ]
      },
      {
       "output_type": "stream",
       "stream": "stdout",
       "text": [
        " [1429623873786, 1429623873791] {u'global_timestamp': None, u'hash': u'5e1a48ce6835204474aaaad1c9181958', u'htype': u'bsr_m-1.0', u'pulse_id': 721359}\n",
        "[1.098124601504697, 0.26121502978100791] [1429623873796, 1429623873800] {u'global_timestamp': None, u'hash': u'5e1a48ce6835204474aaaad1c9181958', u'htype': u'bsr_m-1.0', u'pulse_id': 721360}\n",
        "[0.58777835234183651, 1.072967513133612] [1429623873805, 1429623873810] {u'global_timestamp': None, u'hash': u'5e1a48ce6835204474aaaad1c9181958', u'htype': u'bsr_m-1.0', u'pulse_id': 721361}\n",
        "[-0.37102906445898476, 1.0821176908071244] [1429623873816, 1429623873820] {u'global_timestamp': None, u'hash': u'5e1a48ce6835204474aaaad1c9181958', u'htype': u'bsr_m-1.0', u'pulse_id': 721362}\n",
        "[-0.89677453165804066, 0.28025293164672399] [1429623873825, 1429623873830] {u'global_timestamp': None, u'hash': u'5e1a48ce6835204474aaaad1c9181958', u'htype': u'bsr_m-1.0', u'pulse_id': 721363}\n",
        "[-0.50609009131196403, -0.59539600276431814]"
       ]
      },
      {
       "output_type": "stream",
       "stream": "stderr",
       "text": [
        "\u001b[2J\u001b[H\u001b[2J\u001b[H\u001b[2J\u001b[H\u001b[2J\u001b[H\u001b[2J\u001b[H\u001b[2J\u001b[H"
       ]
      },
      {
       "output_type": "stream",
       "stream": "stdout",
       "text": [
        " [1429623873836, 1429623873841] {u'global_timestamp': None, u'hash': u'5e1a48ce6835204474aaaad1c9181958', u'htype': u'bsr_m-1.0', u'pulse_id': 721364}\n",
        "[0.44183078385866958, -0.73976152039044862] [1429623873845, 1429623873850] {u'global_timestamp': None, u'hash': u'5e1a48ce6835204474aaaad1c9181958', u'htype': u'bsr_m-1.0', u'pulse_id': 721365}\n",
        "[1.0754740127830698, -0.020114630101898234] [1429623873856, 1429623873860] {u'global_timestamp': None, u'hash': u'5e1a48ce6835204474aaaad1c9181958', u'htype': u'bsr_m-1.0', u'pulse_id': 721366}\n",
        "[0.81227093298360986, 0.901904635991712] [1429623873866, 1429623873871] {u'global_timestamp': None, u'hash': u'5e1a48ce6835204474aaaad1c9181958', u'htype': u'bsr_m-1.0', u'pulse_id': 721367}\n",
        "[-0.10579075779527838, 1.1785960167536169] [1429623873875, 1429623873881] {u'global_timestamp': None, u'hash': u'5e1a48ce6835204474aaaad1c9181958', u'htype': u'bsr_m-1.0', u'pulse_id': 721368}\n",
        "[-0.83464937490989155, 0.5555707327389996] [1429623873885, 1429623873891] {u'global_timestamp': None, u'hash': u'5e1a48ce6835204474aaaad1c9181958', u'htype': u'bsr_m-1.0', u'pulse_id': 721369}\n",
        "[-0.70419566708878123, -0.39436464315740566]"
       ]
      },
      {
       "output_type": "stream",
       "stream": "stderr",
       "text": [
        "\u001b[2J\u001b[H\u001b[2J\u001b[H\u001b[2J\u001b[H\u001b[2J\u001b[H\u001b[2J\u001b[H\u001b[2J\u001b[H\u001b[2J\u001b[H"
       ]
      },
      {
       "output_type": "stream",
       "stream": "stdout",
       "text": [
        " [1429623873895, 1429623873900] {u'global_timestamp': None, u'hash': u'5e1a48ce6835204474aaaad1c9181958', u'htype': u'bsr_m-1.0', u'pulse_id': 721370}\n",
        "[0.16563182831542089, -0.79784390718788023] [1429623873906, 1429623873910] {u'global_timestamp': None, u'hash': u'5e1a48ce6835204474aaaad1c9181958', u'htype': u'bsr_m-1.0', u'pulse_id': 721371}\n",
        "[0.97511772344310865, -0.28391008474276574] [1429623873915, 1429623873920] {u'global_timestamp': None, u'hash': u'5e1a48ce6835204474aaaad1c9181958', u'htype': u'bsr_m-1.0', u'pulse_id': 721372}\n",
        "[0.98002441944935637, 0.6749284379491538] [1429623873926, 1429623873930] {u'global_timestamp': None, u'hash': u'5e1a48ce6835204474aaaad1c9181958', u'htype': u'bsr_m-1.0', u'pulse_id': 721373}\n",
        "[0.17584072265440776, 1.1971199450353289] [1429623873935, 1429623873941] {u'global_timestamp': None, u'hash': u'5e1a48ce6835204474aaaad1c9181958', u'htype': u'bsr_m-1.0', u'pulse_id': 721374}\n",
        "[-0.69807058479159123, 0.80256397311024785]"
       ]
      },
      {
       "output_type": "stream",
       "stream": "stderr",
       "text": [
        "\u001b[2J\u001b[H\u001b[2J\u001b[H\u001b[2J\u001b[H\u001b[2J\u001b[H\u001b[2J\u001b[H\u001b[2J\u001b[H"
       ]
      },
      {
       "output_type": "stream",
       "stream": "stdout",
       "text": [
        " [1429623873946, 1429623873950] {u'global_timestamp': None, u'hash': u'5e1a48ce6835204474aaaad1c9181958', u'htype': u'bsr_m-1.0', u'pulse_id': 721375}\n",
        "[-0.83823947707127067, -0.14598653682625945] [1429623873956, 1429623873961] {u'global_timestamp': None, u'hash': u'5e1a48ce6835204474aaaad1c9181958', u'htype': u'bsr_m-1.0', u'pulse_id': 721376}\n",
        "[-0.11579532104465906, -0.77643862040336797] [1429623873966, 1429623873971] {u'global_timestamp': None, u'hash': u'5e1a48ce6835204474aaaad1c9181958', u'htype': u'bsr_m-1.0', u'pulse_id': 721377}\n",
        "[0.80505005795930107, -0.50915753945903042] [1429623873976, 1429623873981] {u'global_timestamp': None, u'hash': u'5e1a48ce6835204474aaaad1c9181958', u'htype': u'bsr_m-1.0', u'pulse_id': 721378}\n",
        "[1.0776756651804109, 0.41011971281638726] [1429623873986, 1429623873991] {u'global_timestamp': None, u'hash': u'5e1a48ce6835204474aaaad1c9181958', u'htype': u'bsr_m-1.0', u'pulse_id': 721379}\n",
        "[0.45143077461698555, 1.136213870145121] [1429623873995, 1429623874000] {u'global_timestamp': None, u'hash': u'5e1a48ce6835204474aaaad1c9181958', u'htype': u'bsr_m-1.0', u'pulse_id': 721380}\n",
        "[-0.4979179494232433, 1.0015573128339008]"
       ]
      },
      {
       "output_type": "stream",
       "stream": "stderr",
       "text": [
        "\u001b[2J\u001b[H\u001b[2J\u001b[H\u001b[2J\u001b[H\u001b[2J\u001b[H\u001b[2J\u001b[H\u001b[2J\u001b[H\u001b[2J\u001b[H"
       ]
      },
      {
       "output_type": "stream",
       "stream": "stdout",
       "text": [
        " [1429623874006, 1429623874011] {u'global_timestamp': None, u'hash': u'5e1a48ce6835204474aaaad1c9181958', u'htype': u'bsr_m-1.0', u'pulse_id': 721381}\n",
        "[-0.89754366820364173, 0.12995265867413186] [1429623874016, 1429623874021] {u'global_timestamp': None, u'hash': u'5e1a48ce6835204474aaaad1c9181958', u'htype': u'bsr_m-1.0', u'pulse_id': 721382}\n",
        "[-0.38003233884593701, -0.67725079291049917] [1429623874025, 1429623874030] {u'global_timestamp': None, u'hash': u'5e1a48ce6835204474aaaad1c9181958', u'htype': u'bsr_m-1.0', u'pulse_id': 721383}\n",
        "[0.57881850906416987, -0.67791391114252497] [1429623874035, 1429623874041] {u'global_timestamp': None, u'hash': u'5e1a48ce6835204474aaaad1c9181958', u'htype': u'bsr_m-1.0', u'pulse_id': 721384}\n",
        "[1.0974458279253685, 0.12857297182245236] [1429623874046, 1429623874050] {u'global_timestamp': None, u'hash': u'5e1a48ce6835204474aaaad1c9181958', u'htype': u'bsr_m-1.0', u'pulse_id': 721385}\n",
        "[0.69902605254909467, 1.00072953509125]"
       ]
      },
      {
       "output_type": "stream",
       "stream": "stderr",
       "text": [
        "\u001b[2J\u001b[H\u001b[2J\u001b[H\u001b[2J\u001b[H\u001b[2J\u001b[H\u001b[2J\u001b[H\u001b[2J\u001b[H\u001b[2J\u001b[H"
       ]
      },
      {
       "output_type": "stream",
       "stream": "stdout",
       "text": [
        " [1429623874055, 1429623874060] {u'global_timestamp': None, u'hash': u'5e1a48ce6835204474aaaad1c9181958', u'htype': u'bsr_m-1.0', u'pulse_id': 721386}\n",
        "[-0.25013551299063785, 1.1366990565505992] [1429623874066, 1429623874070] {u'global_timestamp': None, u'hash': u'5e1a48ce6835204474aaaad1c9181958', u'htype': u'bsr_m-1.0', u'pulse_id': 721387}\n",
        "[-0.87738410261942601, 0.41147178522634975] [1429623874075, 1429623874080] {u'global_timestamp': None, u'hash': u'5e1a48ce6835204474aaaad1c9181958', u'htype': u'bsr_m-1.0', u'pulse_id': 721388}\n",
        "[-0.6060302557376388, -0.50818167018290183] [1429623874086, 1429623874091] {u'global_timestamp': None, u'hash': u'5e1a48ce6835204474aaaad1c9181958', u'htype': u'bsr_m-1.0', u'pulse_id': 721389}\n",
        "[0.31444455224398871, -0.77673616397309431] [1429623874095, 1429623874101] {u'global_timestamp': None, u'hash': u'5e1a48ce6835204474aaaad1c9181958', u'htype': u'bsr_m-1.0', u'pulse_id': 721390}\n",
        "[1.0377600278542145, -0.14728393305602661] [1429623874105, 1429623874111] {u'global_timestamp': None, u'hash': u'5e1a48ce6835204474aaaad1c9181958', u'htype': u'bsr_m-1.0', u'pulse_id': 721391}\n",
        "[0.89890325855721731, 0.80145954433083855]"
       ]
      },
      {
       "output_type": "stream",
       "stream": "stdout",
       "text": [
        " [1429623874115, 1429623874121] {u'global_timestamp': None, u'hash': u'5e1a48ce6835204474aaaad1c9181958', u'htype': u'bsr_m-1.0', u'pulse_id': 721392}\n",
        "[0.025538517673855815, 1.1972238904327319] [1429623874126, 1429623874131] {u'global_timestamp': None, u'hash': u'5e1a48ce6835204474aaaad1c9181958', u'htype': u'bsr_m-1.0', u'pulse_id': 721393}\n",
        "[-0.77936667975556828, 0.67614519060436584] [1429623874136, 1429623874141] {u'global_timestamp': None, u'hash': u'5e1a48ce6835204474aaaad1c9181958', u'htype': u'bsr_m-1.0', u'pulse_id': 721394}\n",
        "[-0.77578620722494285, -0.28269920160960438] [1429623874145, 1429623874150] {u'global_timestamp': None, u'hash': u'5e1a48ce6835204474aaaad1c9181958', u'htype': u'bsr_m-1.0', u'pulse_id': 721395}\n",
        "[0.032988065333270158, -0.79775217394512454] [1429623874155, 1429623874161] {u'global_timestamp': None, u'hash': u'5e1a48ce6835204474aaaad1c9181958', u'htype': u'bsr_m-1.0', u'pulse_id': 721396}\n",
        "[0.90337280158270428, -0.3954763989253956] [1429623874165, 1429623874171] {u'global_timestamp': None, u'hash': u'5e1a48ce6835204474aaaad1c9181958', u'htype': u'bsr_m-1.0', u'pulse_id': 721397}\n",
        "[1.035140289000495, 0.55427763108622963]"
       ]
      },
      {
       "output_type": "stream",
       "stream": "stderr",
       "text": [
        "\u001b[2J\u001b[H\u001b[2J\u001b[H\u001b[2J\u001b[H\u001b[2J\u001b[H\u001b[2J\u001b[H\u001b[2J\u001b[H\u001b[2J\u001b[H"
       ]
      },
      {
       "output_type": "stream",
       "stream": "stdout",
       "text": [
        " [1429623874175, 1429623874181] {u'global_timestamp': None, u'hash': u'5e1a48ce6835204474aaaad1c9181958', u'htype': u'bsr_m-1.0', u'pulse_id': 721398}\n",
        "[0.30714410733162784, 1.1783104409121794] [1429623874186, 1429623874191] {u'global_timestamp': None, u'hash': u'5e1a48ce6835204474aaaad1c9181958', u'htype': u'bsr_m-1.0', u'pulse_id': 721399}\n",
        "[-0.61129941132394316, 0.90288914307322443] [1429623874196, 1429623874201] {u'global_timestamp': None, u'hash': u'5e1a48ce6835204474aaaad1c9181958', u'htype': u'bsr_m-1.0', u'pulse_id': 721400}\n",
        "[-0.87577753153358162, -0.018765191367891537] [1429623874205, 1429623874211] {u'global_timestamp': None, u'hash': u'5e1a48ce6835204474aaaad1c9181958', u'htype': u'bsr_m-1.0', u'pulse_id': 721401}\n",
        "[-0.24313028927988786, -0.73928781775273777] [1429623874215, 1429623874221] {u'global_timestamp': None, u'hash': u'5e1a48ce6835204474aaaad1c9181958', u'htype': u'bsr_m-1.0', u'pulse_id': 721402}\n",
        "[0.70498935851133104, -0.59623355624342289] [1429623874226, 1429623874230] {u'global_timestamp': None, u'hash': u'5e1a48ce6835204474aaaad1c9181958', u'htype': u'bsr_m-1.0', u'pulse_id': 721403}\n",
        "[1.0968845801386056, 0.27887416485691685]"
       ]
      },
      {
       "output_type": "stream",
       "stream": "stderr",
       "text": [
        "\u001b[2J\u001b[H\u001b[2J\u001b[H\u001b[2J\u001b[H\u001b[2J\u001b[H\u001b[2J\u001b[H\u001b[2J\u001b[H\u001b[2J\u001b[H"
       ]
      },
      {
       "output_type": "stream",
       "stream": "stdout",
       "text": [
        " [1429623874236, 1429623874241] {u'global_timestamp': None, u'hash': u'5e1a48ce6835204474aaaad1c9181958', u'htype': u'bsr_m-1.0', u'pulse_id': 721404}\n",
        "[0.57224871615523076, 1.0814653425346548] [1429623874245, 1429623874250] {u'global_timestamp': None, u'hash': u'5e1a48ce6835204474aaaad1c9181958', u'htype': u'bsr_m-1.0', u'pulse_id': 721405}\n",
        "[-0.38657043957472603, 1.0736413493717305] [1429623874255, 1429623874261] {u'global_timestamp': None, u'hash': u'5e1a48ce6835204474aaaad1c9181958', u'htype': u'bsr_m-1.0', u'pulse_id': 721406}\n",
        "[-0.89803897709422842, 0.26259552859994317] [1429623874266, 1429623874270] {u'global_timestamp': None, u'hash': u'5e1a48ce6835204474aaaad1c9181958', u'htype': u'bsr_m-1.0', u'pulse_id': 721407}\n",
        "[-0.49191508176585608, -0.60600033249256158] [1429623874275, 1429623874280] {u'global_timestamp': None, u'hash': u'5e1a48ce6835204474aaaad1c9181958', u'htype': u'bsr_m-1.0', u'pulse_id': 721408}\n",
        "[0.45841280998178735, -0.73356320495237992]"
       ]
      },
      {
       "output_type": "stream",
       "stream": "stderr",
       "text": [
        "\u001b[2J\u001b[H\u001b[2J\u001b[H\u001b[2J\u001b[H\u001b[2J\u001b[H\u001b[2J\u001b[H\u001b[2J\u001b[H"
       ]
      },
      {
       "output_type": "stream",
       "stream": "stdout",
       "text": [
        " [1429623874286, 1429623874290] {u'global_timestamp': None, u'hash': u'5e1a48ce6835204474aaaad1c9181958', u'htype': u'bsr_m-1.0', u'pulse_id': 721409}\n",
        "[1.0792176171375343, -0.0028123721262814649] [1429623874296, 1429623874301] {u'global_timestamp': None, u'hash': u'5e1a48ce6835204474aaaad1c9181958', u'htype': u'bsr_m-1.0', u'pulse_id': 721410}\n",
        "[0.79973426299044259, 0.91440322031554566] [1429623874305, 1429623874310] {u'global_timestamp': None, u'hash': u'5e1a48ce6835204474aaaad1c9181958', u'htype': u'bsr_m-1.0', u'pulse_id': 721411}\n",
        "[-0.12308154556017536, 1.1747997866385094] [1429623874315, 1429623874320] {u'global_timestamp': None, u'hash': u'5e1a48ce6835204474aaaad1c9181958', u'htype': u'bsr_m-1.0', u'pulse_id': 721412}\n",
        "[-0.84079720991602513, 0.53896992464556881] [1429623874325, 1429623874331] {u'global_timestamp': None, u'hash': u'5e1a48ce6835204474aaaad1c9181958', u'htype': u'bsr_m-1.0', u'pulse_id': 721413}\n",
        "[-0.69354825818370591, -0.40850732282660857] [1429623874335, 1429623874340] {u'global_timestamp': None, u'hash': u'5e1a48ce6835204474aaaad1c9181958', u'htype': u'bsr_m-1.0', u'pulse_id': 721414}\n",
        "[0.18328530248742075, -0.79652574396729903]"
       ]
      },
      {
       "output_type": "stream",
       "stream": "stderr",
       "text": [
        "\u001b[2J\u001b[H\u001b[2J\u001b[H\u001b[2J\u001b[H\u001b[2J\u001b[H\u001b[2J\u001b[H\u001b[2J\u001b[H\u001b[2J\u001b[H"
       ]
      },
      {
       "output_type": "stream",
       "stream": "stdout",
       "text": [
        " [1429623874346, 1429623874351] {u'global_timestamp': None, u'hash': u'5e1a48ce6835204474aaaad1c9181958', u'htype': u'bsr_m-1.0', u'pulse_id': 721415}\n",
        "[0.98354674014146382, -0.26834299181838156] [1429623874355, 1429623874361] {u'global_timestamp': None, u'hash': u'5e1a48ce6835204474aaaad1c9181958', u'htype': u'bsr_m-1.0', u'pulse_id': 721416}\n",
        "[0.9714793795940011, 0.69043214713398937] [1429623874366, 1429623874371] {u'global_timestamp': None, u'hash': u'5e1a48ce6835204474aaaad1c9181958', u'htype': u'bsr_m-1.0', u'pulse_id': 721417}\n",
        "[0.15817789648088548, 1.1983062317550959] [1429623874375, 1429623874380] {u'global_timestamp': None, u'hash': u'5e1a48ce6835204474aaaad1c9181958', u'htype': u'bsr_m-1.0', u'pulse_id': 721418}\n",
        "[-0.7086120763556405, 0.7883421708256344] [1429623874386, 1429623874391] {u'global_timestamp': None, u'hash': u'5e1a48ce6835204474aaaad1c9181958', u'htype': u'bsr_m-1.0', u'pulse_id': 721419}\n",
        "[-0.83196783529643903, -0.16254096868198153] [1429623874395, 1429623874400] {u'global_timestamp': None, u'hash': u'5e1a48ce6835204474aaaad1c9181958', u'htype': u'bsr_m-1.0', u'pulse_id': 721420}\n",
        "[-0.09847666445556888, -0.7801056135267217]"
       ]
      },
      {
       "output_type": "stream",
       "stream": "stderr",
       "text": [
        "\u001b[2J\u001b[H\u001b[2J\u001b[H\u001b[2J\u001b[H\u001b[2J\u001b[H\u001b[2J\u001b[H\u001b[2J\u001b[H"
       ]
      },
      {
       "output_type": "stream",
       "stream": "stdout",
       "text": [
        " [1429623874406, 1429623874410] {u'global_timestamp': None, u'hash': u'5e1a48ce6835204474aaaad1c9181958', u'htype': u'bsr_m-1.0', u'pulse_id': 721421}\n",
        "[0.81749303636371717, -0.49656567728360951] [1429623874415, 1429623874421] {u'global_timestamp': None, u'hash': u'5e1a48ce6835204474aaaad1c9181958', u'htype': u'bsr_m-1.0', u'pulse_id': 721422}\n",
        "[1.0738029484388678, 0.42739353027684834] [1429623874425, 1429623874431] {u'global_timestamp': None, u'hash': u'5e1a48ce6835204474aaaad1c9181958', u'htype': u'bsr_m-1.0', u'pulse_id': 721423}\n",
        "[0.43480292064170956, 1.1422881747797651] [1429623874435, 1429623874441] {u'global_timestamp': None, u'hash': u'5e1a48ce6835204474aaaad1c9181958', u'htype': u'bsr_m-1.0', u'pulse_id': 721424}\n",
        "[-0.5120133683706608, 0.99084741697472722] [1429623874445, 1429623874451] {u'global_timestamp': None, u'hash': u'5e1a48ce6835204474aaaad1c9181958', u'htype': u'bsr_m-1.0', u'pulse_id': 721425}\n",
        "[-0.89614738894730006, 0.11230519118284943]"
       ]
      },
      {
       "output_type": "stream",
       "stream": "stderr",
       "text": [
        "\u001b[2J\u001b[H\u001b[2J\u001b[H\u001b[2J\u001b[H\u001b[2J\u001b[H\u001b[2J\u001b[H\u001b[2J\u001b[H"
       ]
      },
      {
       "output_type": "stream",
       "stream": "stdout",
       "text": [
        " [1429623874455, 1429623874461] {u'global_timestamp': None, u'hash': u'5e1a48ce6835204474aaaad1c9181958', u'htype': u'bsr_m-1.0', u'pulse_id': 721426}\n",
        "[-0.36442809409484489, -0.6856108318078713] [1429623874465, 1429623874470] {u'global_timestamp': None, u'hash': u'5e1a48ce6835204474aaaad1c9181958', u'htype': u'bsr_m-1.0', u'pulse_id': 721427}\n",
        "[0.59428424864851981, -0.66930034023803775] [1429623874476, 1429623874480] {u'global_timestamp': None, u'hash': u'5e1a48ce6835204474aaaad1c9181958', u'htype': u'bsr_m-1.0', u'pulse_id': 721428}\n",
        "[1.0985539326930374, 0.14624087516273102] [1429623874485, 1429623874491] {u'global_timestamp': None, u'hash': u'5e1a48ce6835204474aaaad1c9181958', u'htype': u'bsr_m-1.0', u'pulse_id': 721429}\n",
        "[0.68475773608697466, 1.0112079820159785] [1429623874495, 1429623874501] {u'global_timestamp': None, u'hash': u'5e1a48ce6835204474aaaad1c9181958', u'htype': u'bsr_m-1.0', u'pulse_id': 721430}\n",
        "[-0.26666202632898628, 1.1303542112810163]"
       ]
      },
      {
       "output_type": "stream",
       "stream": "stderr",
       "text": [
        "\u001b[2J\u001b[H\u001b[2J\u001b[H\u001b[2J\u001b[H\u001b[2J\u001b[H\u001b[2J\u001b[H\u001b[2J\u001b[H"
       ]
      },
      {
       "output_type": "stream",
       "stream": "stdout",
       "text": [
        " [1429623874505, 1429623874511] {u'global_timestamp': None, u'hash': u'5e1a48ce6835204474aaaad1c9181958', u'htype': u'bsr_m-1.0', u'pulse_id': 721431}\n",
        "[-0.88097441268664645, 0.39413706924255654] [1429623874516, 1429623874520] {u'global_timestamp': None, u'hash': u'5e1a48ce6835204474aaaad1c9181958', u'htype': u'bsr_m-1.0', u'pulse_id': 721432}\n",
        "[-0.59338344801549192, -0.52056879894854435] [1429623874525, 1429623874531] {u'global_timestamp': None, u'hash': u'5e1a48ce6835204474aaaad1c9181958', u'htype': u'bsr_m-1.0', u'pulse_id': 721433}\n",
        "[0.33170106105950303, -0.77278703645962543] [1429623874536, 1429623874541] {u'global_timestamp': None, u'hash': u'5e1a48ce6835204474aaaad1c9181958', u'htype': u'bsr_m-1.0', u'pulse_id': 721434}\n",
        "[1.0437606831405801, -0.13062935888699512] [1429623874545, 1429623874551] {u'global_timestamp': None, u'hash': u'5e1a48ce6835204474aaaad1c9181958', u'htype': u'bsr_m-1.0', u'pulse_id': 721435}\n",
        "[0.88813108551758946, 0.815507426470929] [1429623874556, 1429623874560] {u'global_timestamp': None, u'hash': u'5e1a48ce6835204474aaaad1c9181958', u'htype': u'bsr_m-1.0', u'pulse_id': 721436}\n",
        "[0.0078974025224470418, 1.1957495224894099]"
       ]
      },
      {
       "output_type": "stream",
       "stream": "stdout",
       "text": [
        " [1429623874566, 1429623874571] {u'global_timestamp': None, u'hash': u'5e1a48ce6835204474aaaad1c9181958', u'htype': u'bsr_m-1.0', u'pulse_id': 721437}\n",
        "[-0.78765757710472351, 0.66050409966532553] [1429623874576, 1429623874581] {u'global_timestamp': None, u'hash': u'5e1a48ce6835204474aaaad1c9181958', u'htype': u'bsr_m-1.0', u'pulse_id': 721438}\n",
        "[-0.76710427398446324, -0.29812666866759596] [1429623874586, 1429623874590] {u'global_timestamp': None, u'hash': u'5e1a48ce6835204474aaaad1c9181958', u'htype': u'bsr_m-1.0', u'pulse_id': 721439}\n",
        "[0.050660699780874098, -0.79878207505635923] [1429623874596, 1429623874600] {u'global_timestamp': None, u'hash': u'5e1a48ce6835204474aaaad1c9181958', u'htype': u'bsr_m-1.0', u'pulse_id': 721440}\n",
        "[0.91378799862783489, -0.38116184775783662] [1429623874606, 1429623874611] {u'global_timestamp': None, u'hash': u'5e1a48ce6835204474aaaad1c9181958', u'htype': u'bsr_m-1.0', u'pulse_id': 721441}\n",
        "[1.0287223645120014, 0.57077590220406349] [1429623874615, 1429623874621] {u'global_timestamp': None, u'hash': u'5e1a48ce6835204474aaaad1c9181958', u'htype': u'bsr_m-1.0', u'pulse_id': 721442}\n",
        "[0.28979367148645574, 1.1818239976002274]"
       ]
      },
      {
       "output_type": "stream",
       "stream": "stderr",
       "text": [
        "\u001b[2J\u001b[H\u001b[2J\u001b[H\u001b[2J\u001b[H\u001b[2J\u001b[H\u001b[2J\u001b[H\u001b[2J\u001b[H\u001b[2J\u001b[H"
       ]
      },
      {
       "output_type": "stream",
       "stream": "stdout",
       "text": [
        " [1429623874625, 1429623874630] {u'global_timestamp': None, u'hash': u'5e1a48ce6835204474aaaad1c9181958', u'htype': u'bsr_m-1.0', u'pulse_id': 721443}\n",
        "[-0.62363044782537691, 0.89018763751609198] [1429623874635, 1429623874640] {u'global_timestamp': None, u'hash': u'5e1a48ce6835204474aaaad1c9181958', u'htype': u'bsr_m-1.0', u'pulse_id': 721444}\n",
        "[-0.87175207059934723, -0.036004053536970809] [1429623874645, 1429623874650] {u'global_timestamp': None, u'hash': u'5e1a48ce6835204474aaaad1c9181958', u'htype': u'bsr_m-1.0', u'pulse_id': 721445}\n",
        "[-0.22644932112855617, -0.74521470615659857] [1429623874656, 1429623874661] {u'global_timestamp': None, u'hash': u'5e1a48ce6835204474aaaad1c9181958', u'htype': u'bsr_m-1.0', u'pulse_id': 721446}\n",
        "[0.71898942868965166, -0.5853993170168017] [1429623874666, 1429623874670] {u'global_timestamp': None, u'hash': u'5e1a48ce6835204474aaaad1c9181958', u'htype': u'bsr_m-1.0', u'pulse_id': 721447}\n",
        "[1.0953321523865986, 0.29650858213371845]"
       ]
      },
      {
       "output_type": "stream",
       "stream": "stderr",
       "text": [
        "\u001b[2J\u001b[H\u001b[2J\u001b[H\u001b[2J\u001b[H\u001b[2J\u001b[H\u001b[2J\u001b[H\u001b[2J\u001b[H"
       ]
      },
      {
       "output_type": "stream",
       "stream": "stdout",
       "text": [
        " [1429623874676, 1429623874681] {u'global_timestamp': None, u'hash': u'5e1a48ce6835204474aaaad1c9181958', u'htype': u'bsr_m-1.0', u'pulse_id': 721448}\n",
        "[0.55657108538870415, 1.0896869359426273] [1429623874686, 1429623874690] {u'global_timestamp': None, u'hash': u'5e1a48ce6835204474aaaad1c9181958', u'htype': u'bsr_m-1.0', u'pulse_id': 721449}\n",
        "[-0.40195933193012645, 1.0648912238474044] [1429623874695, 1429623874700] {u'global_timestamp': None, u'hash': u'5e1a48ce6835204474aaaad1c9181958', u'htype': u'bsr_m-1.0', u'pulse_id': 721450}\n",
        "[-0.89899065437646064, 0.24491850919711278] [1429623874705, 1429623874711] {u'global_timestamp': None, u'hash': u'5e1a48ce6835204474aaaad1c9181958', u'htype': u'bsr_m-1.0', u'pulse_id': 721451}\n",
        "[-0.47755457627052056, -0.61635207565668604] [1429623874715, 1429623874720] {u'global_timestamp': None, u'hash': u'5e1a48ce6835204474aaaad1c9181958', u'htype': u'bsr_m-1.0', u'pulse_id': 721452}\n",
        "[0.47488251572914342, -0.72707232695221169] [1429623874725, 1429623874730] {u'global_timestamp': None, u'hash': u'5e1a48ce6835204474aaaad1c9181958', u'htype': u'bsr_m-1.0', u'pulse_id': 721453}\n",
        "[1.0826543516267313, 0.014553443739042132]"
       ]
      },
      {
       "output_type": "stream",
       "stream": "stderr",
       "text": [
        "\u001b[2J\u001b[H\u001b[2J\u001b[H\u001b[2J\u001b[H\u001b[2J\u001b[H\u001b[2J\u001b[H\u001b[2J\u001b[H\u001b[2J\u001b[H"
       ]
      },
      {
       "output_type": "stream",
       "stream": "stdout",
       "text": [
        " [1429623874736, 1429623874741] {u'global_timestamp': None, u'hash': u'5e1a48ce6835204474aaaad1c9181958', u'htype': u'bsr_m-1.0', u'pulse_id': 721454}\n",
        "[0.7869783083814258, 0.92667792302600915] [1429623874745, 1429623874750] {u'global_timestamp': None, u'hash': u'5e1a48ce6835204474aaaad1c9181958', u'htype': u'bsr_m-1.0', u'pulse_id': 721455}\n",
        "[-0.14030242342697444, 1.1706980711298045] [1429623874755, 1429623874760] {u'global_timestamp': None, u'hash': u'5e1a48ce6835204474aaaad1c9181958', u'htype': u'bsr_m-1.0', u'pulse_id': 721456}\n",
        "[-0.84665021534801854, 0.52226288924036857] [1429623874766, 1429623874771] {u'global_timestamp': None, u'hash': u'5e1a48ce6835204474aaaad1c9181958', u'htype': u'bsr_m-1.0', u'pulse_id': 721457}\n",
        "[-0.68265216497923653, -0.42245930682520444] [1429623874776, 1429623874780] {u'global_timestamp': None, u'hash': u'5e1a48ce6835204474aaaad1c9181958', u'htype': u'bsr_m-1.0', u'pulse_id': 721458}\n",
        "[0.20091267648607225, -0.79489528681385213]"
       ]
      },
      {
       "output_type": "stream",
       "stream": "stderr",
       "text": [
        "\u001b[2J\u001b[H\u001b[2J\u001b[H\u001b[2J\u001b[H\u001b[2J\u001b[H\u001b[2J\u001b[H\u001b[2J\u001b[H\u001b[2J\u001b[H"
       ]
      },
      {
       "output_type": "stream",
       "stream": "stdout",
       "text": [
        " [1429623874785, 1429623874790] {u'global_timestamp': None, u'hash': u'5e1a48ce6835204474aaaad1c9181958', u'htype': u'bsr_m-1.0', u'pulse_id': 721459}\n",
        "[0.99169886857273726, -0.25262912830053275] [1429623874796, 1429623874801] {u'global_timestamp': None, u'hash': u'5e1a48ce6835204474aaaad1c9181958', u'htype': u'bsr_m-1.0', u'pulse_id': 721460}\n",
        "[0.96266123317365027, 0.70578216336612454] [1429623874805, 1429623874810] {u'global_timestamp': None, u'hash': u'5e1a48ce6835204474aaaad1c9181958', u'htype': u'bsr_m-1.0', u'pulse_id': 721461}\n",
        "[0.14049683836081503, 1.1991796665679191] [1429623874816, 1429623874820] {u'global_timestamp': None, u'hash': u'5e1a48ce6835204474aaaad1c9181958', u'htype': u'bsr_m-1.0', u'pulse_id': 721462}\n",
        "[-0.71890016288021485, 0.77393599228028687] [1429623874826, 1429623874830] {u'global_timestamp': None, u'hash': u'5e1a48ce6835204474aaaad1c9181958', u'htype': u'bsr_m-1.0', u'pulse_id': 721463}\n",
        "[-0.82540413092076559, -0.1789817864684034]"
       ]
      },
      {
       "output_type": "stream",
       "stream": "stderr",
       "text": [
        "\u001b[2J\u001b[H\u001b[2J\u001b[H\u001b[2J\u001b[H\u001b[2J\u001b[H\u001b[2J\u001b[H\u001b[2J\u001b[H"
       ]
      },
      {
       "output_type": "stream",
       "stream": "stdout",
       "text": [
        " [1429623874836, 1429623874841] {u'global_timestamp': None, u'hash': u'5e1a48ce6835204474aaaad1c9181958', u'htype': u'bsr_m-1.0', u'pulse_id': 721464}\n",
        "[-0.081095808712568135, -0.78346545850209748] [1429623874846, 1429623874850] {u'global_timestamp': None, u'hash': u'5e1a48ce6835204474aaaad1c9181958', u'htype': u'bsr_m-1.0', u'pulse_id': 721465}\n",
        "[0.8297111648598533, -0.48375552347229772] [1429623874855, 1429623874860] {u'global_timestamp': None, u'hash': u'5e1a48ce6835204474aaaad1c9181958', u'htype': u'bsr_m-1.0', u'pulse_id': 721466}\n",
        "[1.0696250586955782, 0.44459608653777871] [1429623874866, 1429623874871] {u'global_timestamp': None, u'hash': u'5e1a48ce6835204474aaaad1c9181958', u'htype': u'bsr_m-1.0', u'pulse_id': 721467}\n",
        "[0.41807014522164909, 1.1480671825976676] [1429623874875, 1429623874881] {u'global_timestamp': None, u'hash': u'5e1a48ce6835204474aaaad1c9181958', u'htype': u'bsr_m-1.0', u'pulse_id': 721468}\n",
        "[-0.52591699291343608, 0.97988968321308212] [1429623874886, 1429623874890] {u'global_timestamp': None, u'hash': u'5e1a48ce6835204474aaaad1c9181958', u'htype': u'bsr_m-1.0', u'pulse_id': 721469}\n",
        "[-0.89443893432801225, 0.094685205727935054]"
       ]
      },
      {
       "output_type": "stream",
       "stream": "stdout",
       "text": [
        " [1429623874895, 1429623874900] {u'global_timestamp': None, u'hash': u'5e1a48ce6835204474aaaad1c9181958', u'htype': u'bsr_m-1.0', u'pulse_id': 721470}\n",
        "[-0.34867830561152502, -0.69369333558753299] [1429623874906, 1429623874911] {u'global_timestamp': None, u'hash': u'5e1a48ce6835204474aaaad1c9181958', u'htype': u'bsr_m-1.0', u'pulse_id': 721471}\n",
        "[0.60959508809817842, -0.66041434564180168] [1429623874915, 1429623874920] {u'global_timestamp': None, u'hash': u'5e1a48ce6835204474aaaad1c9181958', u'htype': u'bsr_m-1.0', u'pulse_id': 721472}\n",
        "[1.0993491079285724, 0.16392562568294902] [1429623874925, 1429623874931] {u'global_timestamp': None, u'hash': u'5e1a48ce6835204474aaaad1c9181958', u'htype': u'bsr_m-1.0', u'pulse_id': 721473}\n",
        "[0.67030616666397358, 1.0214322103892957] [1429623874936, 1429623874941] {u'global_timestamp': None, u'hash': u'5e1a48ce6835204474aaaad1c9181958', u'htype': u'bsr_m-1.0', u'pulse_id': 721474}\n",
        "[-0.28307363412984321, 1.1237178090924496] [1429623874945, 1429623874950] {u'global_timestamp': None, u'hash': u'5e1a48ce6835204474aaaad1c9181958', u'htype': u'bsr_m-1.0', u'pulse_id': 721475}\n",
        "[-0.88425730233925848, 0.37674151405893752]"
       ]
      },
      {
       "output_type": "stream",
       "stream": "stderr",
       "text": [
        "\u001b[2J\u001b[H\u001b[2J\u001b[H\u001b[2J\u001b[H\u001b[2J\u001b[H\u001b[2J\u001b[H\u001b[2J\u001b[H\u001b[2J\u001b[H"
       ]
      },
      {
       "output_type": "stream",
       "stream": "stdout",
       "text": [
        " [1429623874956, 1429623874960] {u'global_timestamp': None, u'hash': u'5e1a48ce6835204474aaaad1c9181958', u'htype': u'bsr_m-1.0', u'pulse_id': 721476}\n",
        "[-0.58051934591306897, -0.53273011391510905] [1429623874965, 1429623874970] {u'global_timestamp': None, u'hash': u'5e1a48ce6835204474aaaad1c9181958', u'htype': u'bsr_m-1.0', u'pulse_id': 721477}\n",
        "[0.34888495876983971, -0.76853305431365393] [1429623874975, 1429623874980] {u'global_timestamp': None, u'hash': u'5e1a48ce6835204474aaaad1c9181958', u'htype': u'bsr_m-1.0', u'pulse_id': 721478}\n",
        "[1.0494655801515516, -0.11387117119524959] [1429623874986, 1429623874990] {u'global_timestamp': None, u'hash': u'5e1a48ce6835204474aaaad1c9181958', u'htype': u'bsr_m-1.0', u'pulse_id': 721479}\n",
        "[0.87711192582678887, 0.82936241922899989] [1429623874995, 1429623875001] {u'global_timestamp': None, u'hash': u'5e1a48ce6835204474aaaad1c9181958', u'htype': u'bsr_m-1.0', u'pulse_id': 721480}\n",
        "[-0.0097148492678619247, 1.1939631038676086] [1429623875006, 1429623875011] {u'global_timestamp': None, u'hash': u'5e1a48ce6835204474aaaad1c9181958', u'htype': u'bsr_m-1.0', u'pulse_id': 721481}\n",
        "[-0.79567029792159127, 0.64471869470604448]"
       ]
      },
      {
       "output_type": "stream",
       "stream": "stderr",
       "text": [
        "\u001b[2J\u001b[H\u001b[2J\u001b[H\u001b[2J\u001b[H\u001b[2J\u001b[H\u001b[2J\u001b[H\u001b[2J\u001b[H\u001b[2J\u001b[H"
       ]
      },
      {
       "output_type": "stream",
       "stream": "stdout",
       "text": [
        " [1429623875016, 1429623875021] {u'global_timestamp': None, u'hash': u'5e1a48ce6835204474aaaad1c9181958', u'htype': u'bsr_m-1.0', u'pulse_id': 721482}\n",
        "[-0.75815060526141698, -0.31339803144291839] [1429623875026, 1429623875031] {u'global_timestamp': None, u'hash': u'5e1a48ce6835204474aaaad1c9181958', u'htype': u'bsr_m-1.0', u'pulse_id': 721483}\n",
        "[0.068348796311824639, -0.79949897513958934] [1429623875036, 1429623875041] {u'global_timestamp': None, u'hash': u'5e1a48ce6835204474aaaad1c9181958', u'htype': u'bsr_m-1.0', u'pulse_id': 721484}\n",
        "[0.92394816858897022, -0.36666517051860686] [1429623875046, 1429623875051] {u'global_timestamp': None, u'hash': u'5e1a48ce6835204474aaaad1c9181958', u'htype': u'bsr_m-1.0', u'pulse_id': 721485}\n",
        "[1.0220133944970782, 0.5871579785668577] [1429623875055, 1429623875061] {u'global_timestamp': None, u'hash': u'5e1a48ce6835204474aaaad1c9181958', u'htype': u'bsr_m-1.0', u'pulse_id': 721486}\n",
        "[0.27238375758719385, 1.185029867628449]"
       ]
      },
      {
       "output_type": "stream",
       "stream": "stderr",
       "text": [
        "\u001b[2J\u001b[H\u001b[2J\u001b[H\u001b[2J\u001b[H\u001b[2J\u001b[H\u001b[2J\u001b[H\u001b[2J\u001b[H"
       ]
      },
      {
       "output_type": "stream",
       "stream": "stdout",
       "text": [
        " [1429623875066, 1429623875071] {u'global_timestamp': None, u'hash': u'5e1a48ce6835204474aaaad1c9181958', u'htype': u'bsr_m-1.0', u'pulse_id': 721487}\n",
        "[-0.63573471105992763, 0.877269839090421] [1429623875075, 1429623875081] {u'global_timestamp': None, u'hash': u'5e1a48ce6835204474aaaad1c9181958', u'htype': u'bsr_m-1.0', u'pulse_id': 721488}\n",
        "[-0.86742207937301063, -0.053168956117451982] [1429623875085, 1429623875090] {u'global_timestamp': None, u'hash': u'5e1a48ce6835204474aaaad1c9181958', u'htype': u'bsr_m-1.0', u'pulse_id': 721489}\n",
        "[-0.20966604940604869, -0.75084538061939954] [1429623875096, 1429623875100] {u'global_timestamp': None, u'hash': u'5e1a48ce6835204474aaaad1c9181958', u'htype': u'bsr_m-1.0', u'pulse_id': 721490}\n",
        "[0.73279551828667988, -0.57431894722800902] [1429623875106, 1429623875111] {u'global_timestamp': None, u'hash': u'5e1a48ce6835204474aaaad1c9181958', u'htype': u'bsr_m-1.0', u'pulse_id': 721491}\n",
        "[1.0934678047526842, 0.31411275529003213]"
       ]
      },
      {
       "output_type": "stream",
       "stream": "stderr",
       "text": [
        "\u001b[2J\u001b[H\u001b[2J\u001b[H\u001b[2J\u001b[H\u001b[2J\u001b[H\u001b[2J\u001b[H\u001b[2J\u001b[H\u001b[2J\u001b[H"
       ]
      },
      {
       "output_type": "stream",
       "stream": "stdout",
       "text": [
        " [1429623875116, 1429623875120] {u'global_timestamp': None, u'hash': u'5e1a48ce6835204474aaaad1c9181958', u'htype': u'bsr_m-1.0', u'pulse_id': 721492}\n",
        "[0.54075037314058816, 1.0976297168523512] [1429623875125, 1429623875130] {u'global_timestamp': None, u'hash': u'5e1a48ce6835204474aaaad1c9181958', u'htype': u'bsr_m-1.0', u'pulse_id': 721493}\n",
        "[-0.4171909189124785, 1.0558700563721493] [1429623875136, 1429623875141] {u'global_timestamp': None, u'hash': u'5e1a48ce6835204474aaaad1c9181958', u'htype': u'bsr_m-1.0', u'pulse_id': 721494}\n",
        "[-0.89962926526553666, 0.22722741311038278] [1429623875145, 1429623875151] {u'global_timestamp': None, u'hash': u'5e1a48ce6835204474aaaad1c9181958', u'htype': u'bsr_m-1.0', u'pulse_id': 721495}\n",
        "[-0.463013075160009, -0.62644798819942094] [1429623875155, 1429623875161] {u'global_timestamp': None, u'hash': u'5e1a48ce6835204474aaaad1c9181958', u'htype': u'bsr_m-1.0', u'pulse_id': 721496}\n",
        "[0.49123473977980647, -0.72029092051884724] [1429623875166, 1429623875171] {u'global_timestamp': None, u'hash': u'5e1a48ce6835204474aaaad1c9181958', u'htype': u'bsr_m-1.0', u'pulse_id': 721497}\n",
        "[1.085783139237511, 0.031977375347728793]"
       ]
      },
      {
       "output_type": "stream",
       "stream": "stderr",
       "text": [
        "\u001b[2J\u001b[H\u001b[2J\u001b[H\u001b[2J\u001b[H\u001b[2J\u001b[H\u001b[2J\u001b[H\u001b[2J\u001b[H"
       ]
      },
      {
       "output_type": "stream",
       "stream": "stdout",
       "text": [
        " [1429623875175, 1429623875180] {u'global_timestamp': None, u'hash': u'5e1a48ce6835204474aaaad1c9181958', u'htype': u'bsr_m-1.0', u'pulse_id': 721498}\n",
        "[0.77400706665211483, 0.93872489744356913] [1429623875186, 1429623875191] {u'global_timestamp': None, u'hash': u'5e1a48ce6835204474aaaad1c9181958', u'htype': u'bsr_m-1.0', u'pulse_id': 721499}\n",
        "[-0.1574479946703938, 1.1662921556342021] [1429623875196, 1429623875201] {u'global_timestamp': None, u'hash': u'5e1a48ce6835204474aaaad1c9181958', u'htype': u'bsr_m-1.0', u'pulse_id': 721500}\n",
        "[-0.85220655697519954, 0.50545486221934033] [1429623875206, 1429623875211] {u'global_timestamp': None, u'hash': u'5e1a48ce6835204474aaaad1c9181958', u'htype': u'bsr_m-1.0', u'pulse_id': 721501}\n",
        "[-0.67151080212253111, -0.43621622284271305] [1429623875216, 1429623875221] {u'global_timestamp': None, u'hash': u'5e1a48ce6835204474aaaad1c9181958', u'htype': u'bsr_m-1.0', u'pulse_id': 721502}\n",
        "[0.21850842619723632, -0.79295304668461242]"
       ]
      },
      {
       "output_type": "stream",
       "stream": "stdout",
       "text": [
        " [1429623875226, 1429623875231] {u'global_timestamp': None, u'hash': u'5e1a48ce6835204474aaaad1c9181958', u'htype': u'bsr_m-1.0', u'pulse_id': 721503}\n",
        "[0.99957155400087305, -0.23677341864226836] [1429623875236, 1429623875240] {u'global_timestamp': None, u'hash': u'5e1a48ce6835204474aaaad1c9181958', u'htype': u'bsr_m-1.0', u'pulse_id': 721504}\n",
        "[0.9535727436428787, 0.72097367621595665] [1429623875246, 1429623875250] {u'global_timestamp': None, u'hash': u'5e1a48ce6835204474aaaad1c9181958', u'htype': u'bsr_m-1.0', u'pulse_id': 721505}\n",
        "[0.12280308923201064, 1.1997399757544343] [1429623875255, 1429623875261] {u'global_timestamp': None, u'hash': u'5e1a48ce6835204474aaaad1c9181958', u'htype': u'bsr_m-1.0', u'pulse_id': 721506}\n",
        "[-0.72893162025693414, 0.75934995212140133] [1429623875266, 1429623875271] {u'global_timestamp': None, u'hash': u'5e1a48ce6835204474aaaad1c9181958', u'htype': u'bsr_m-1.0', u'pulse_id': 721507}\n",
        "[-0.81855042089567998, -0.19530383791758099] [1429623875275, 1429623875281] {u'global_timestamp': None, u'hash': u'5e1a48ce6835204474aaaad1c9181958', u'htype': u'bsr_m-1.0', u'pulse_id': 721508}\n",
        "[-0.063658200675238169, -0.78651710241218997]"
       ]
      },
      {
       "output_type": "stream",
       "stream": "stderr",
       "text": [
        "\u001b[2J\u001b[H\u001b[2J\u001b[H\u001b[2J\u001b[H\u001b[2J\u001b[H\u001b[2J\u001b[H\u001b[2J\u001b[H\u001b[2J\u001b[H"
       ]
      },
      {
       "output_type": "stream",
       "stream": "stdout",
       "text": [
        " [1429623875285, 1429623875290] {u'global_timestamp': None, u'hash': u'5e1a48ce6835204474aaaad1c9181958', u'htype': u'bsr_m-1.0', u'pulse_id': 721509}\n",
        "[0.84170061449755607, -0.47073109250574302] [1429623875295, 1429623875301] {u'global_timestamp': None, u'hash': u'5e1a48ce6835204474aaaad1c9181958', u'htype': u'bsr_m-1.0', u'pulse_id': 721510}\n",
        "[1.0651433052289296, 0.46172199061557107] [1429623875306, 1429623875311] {u'global_timestamp': None, u'hash': u'5e1a48ce6835204474aaaad1c9181958', u'htype': u'bsr_m-1.0', u'pulse_id': 721511}\n",
        "[0.40123769211922089, 1.1535490825577284] [1429623875315, 1429623875320] {u'global_timestamp': None, u'hash': u'5e1a48ce6835204474aaaad1c9181958', u'htype': u'bsr_m-1.0', u'pulse_id': 721512}\n",
        "[-0.53962446589610613, 0.96868754551320846] [1429623875326, 1429623875331] {u'global_timestamp': None, u'hash': u'5e1a48ce6835204474aaaad1c9181958', u'htype': u'bsr_m-1.0', u'pulse_id': 721513}\n",
        "[-0.89241883974590774, 0.077098224108085908]"
       ]
      },
      {
       "output_type": "stream",
       "stream": "stderr",
       "text": [
        "\u001b[2J\u001b[H\u001b[2J\u001b[H\u001b[2J\u001b[H\u001b[2J\u001b[H\u001b[2J\u001b[H\u001b[2J\u001b[H"
       ]
      },
      {
       "output_type": "stream",
       "stream": "stdout",
       "text": [
        " [1429623875335, 1429623875340] {u'global_timestamp': None, u'hash': u'5e1a48ce6835204474aaaad1c9181958', u'htype': u'bsr_m-1.0', u'pulse_id': 721514}\n",
        "[-0.33278790910728939, -0.70149577133258956] [1429623875345, 1429623875351] {u'global_timestamp': None, u'hash': u'5e1a48ce6835204474aaaad1c9181958', u'htype': u'bsr_m-1.0', u'pulse_id': 721515}\n",
        "[0.62474622926086909, -0.65125871207083663] [1429623875355, 1429623875360] {u'global_timestamp': None, u'hash': u'5e1a48ce6835204474aaaad1c9181958', u'htype': u'bsr_m-1.0', u'pulse_id': 721516}\n",
        "[1.0998311044378075, 0.18162168128815792] [1429623875366, 1429623875370] {u'global_timestamp': None, u'hash': u'5e1a48ce6835204474aaaad1c9181958', u'htype': u'bsr_m-1.0', u'pulse_id': 721517}\n",
        "[0.65567587315200337, 1.031399016114861] [1429623875375, 1429623875381] {u'global_timestamp': None, u'hash': u'5e1a48ce6835204474aaaad1c9181958', u'htype': u'bsr_m-1.0', u'pulse_id': 721518}\n",
        "[-0.29936519327916888, 1.116791929718566]"
       ]
      },
      {
       "output_type": "stream",
       "stream": "stderr",
       "text": [
        "\u001b[2J\u001b[H\u001b[2J\u001b[H\u001b[2J\u001b[H\u001b[2J\u001b[H\u001b[2J\u001b[H\u001b[2J\u001b[H\u001b[2J\u001b[H"
       ]
      },
      {
       "output_type": "stream",
       "stream": "stdout",
       "text": [
        " [1429623875386, 1429623875391] {u'global_timestamp': None, u'hash': u'5e1a48ce6835204474aaaad1c9181958', u'htype': u'bsr_m-1.0', u'pulse_id': 721519}\n",
        "[-0.8872317427764238, 0.35929057114162455] [1429623875395, 1429623875401] {u'global_timestamp': None, u'hash': u'5e1a48ce6835204474aaaad1c9181958', u'htype': u'bsr_m-1.0', u'pulse_id': 721520}\n",
        "[-0.5674419808174791, -0.54466180393682051] [1429623875405, 1429623875410] {u'global_timestamp': None, u'hash': u'5e1a48ce6835204474aaaad1c9181958', u'htype': u'bsr_m-1.0', u'pulse_id': 721521}\n",
        "[0.36599086023865857, -0.76397555065960998] [1429623875415, 1429623875421] {u'global_timestamp': None, u'hash': u'5e1a48ce6835204474aaaad1c9181958', u'htype': u'bsr_m-1.0', u'pulse_id': 721522}\n",
        "[1.0548729310710738, -0.097014621706973447] [1429623875425, 1429623875431] {u'global_timestamp': None, u'hash': u'5e1a48ce6835204474aaaad1c9181958', u'htype': u'bsr_m-1.0', u'pulse_id': 721523}\n",
        "[0.86584923269888214, 0.843020180689948] [1429623875436, 1429623875440] {u'global_timestamp': None, u'hash': u'5e1a48ce6835204474aaaad1c9181958', u'htype': u'bsr_m-1.0', u'pulse_id': 721524}\n",
        "[-0.02729271832197061, 1.1918651944000271]"
       ]
      },
      {
       "output_type": "stream",
       "stream": "stderr",
       "text": [
        "\u001b[2J\u001b[H\u001b[2J\u001b[H\u001b[2J\u001b[H\u001b[2J\u001b[H\u001b[2J\u001b[H\u001b[2J\u001b[H\u001b[2J\u001b[H"
       ]
      },
      {
       "output_type": "stream",
       "stream": "stdout",
       "text": [
        " [1429623875445, 1429623875451] {u'global_timestamp': None, u'hash': u'5e1a48ce6835204474aaaad1c9181958', u'htype': u'bsr_m-1.0', u'pulse_id': 721525}\n",
        "[-0.80340233115805082, 0.62879392259942257] [1429623875455, 1429623875461] {u'global_timestamp': None, u'hash': u'5e1a48ce6835204474aaaad1c9181958', u'htype': u'bsr_m-1.0', u'pulse_id': 721526}\n",
        "[-0.74892800698072459, -0.32850850415460181] [1429623875465, 1429623875470] {u'global_timestamp': None, u'hash': u'5e1a48ce6835204474aaaad1c9181958', u'htype': u'bsr_m-1.0', u'pulse_id': 721527}\n",
        "[0.086046811782591381, -0.79990264953072776] [1429623875475, 1429623875480] {u'global_timestamp': None, u'hash': u'5e1a48ce6835204474aaaad1c9181958', u'htype': u'bsr_m-1.0', u'pulse_id': 721528}\n",
        "[0.93385012744456852, -0.3519909102156274] [1429623875485, 1429623875491] {u'global_timestamp': None, u'hash': u'5e1a48ce6835204474aaaad1c9181958', u'htype': u'bsr_m-1.0', u'pulse_id': 721529}\n",
        "[1.0150154814308938, 0.60341872631521432] [1429623875496, 1429623875501] {u'global_timestamp': None, u'hash': u'5e1a48ce6835204474aaaad1c9181958', u'htype': u'bsr_m-1.0', u'pulse_id': 721530}\n",
        "[0.25491982159974719, 1.1879270463326239]"
       ]
      },
      {
       "output_type": "stream",
       "stream": "stderr",
       "text": [
        "\u001b[2J\u001b[H\u001b[2J\u001b[H\u001b[2J\u001b[H\u001b[2J\u001b[H\u001b[2J\u001b[H\u001b[2J\u001b[H\u001b[2J\u001b[H"
       ]
      },
      {
       "output_type": "stream",
       "stream": "stdout",
       "text": [
        " [1429623875505, 1429623875511] {u'global_timestamp': None, u'hash': u'5e1a48ce6835204474aaaad1c9181958', u'htype': u'bsr_m-1.0', u'pulse_id': 721531}\n",
        "[-0.64760840776084527, 0.86413979601082014] [1429623875515, 1429623875521] {u'global_timestamp': None, u'hash': u'5e1a48ce6835204474aaaad1c9181958', u'htype': u'bsr_m-1.0', u'pulse_id': 721532}\n",
        "[-0.86278891479893349, -0.070254519925739833] [1429623875525, 1429623875530] {u'global_timestamp': None, u'hash': u'5e1a48ce6835204474aaaad1c9181958', u'htype': u'bsr_m-1.0', u'pulse_id': 721533}\n",
        "[-0.19278573369945004, -0.75617807658514891] [1429623875536, 1429623875540] {u'global_timestamp': None, u'hash': u'5e1a48ce6835204474aaaad1c9181958', u'htype': u'bsr_m-1.0', u'pulse_id': 721534}\n",
        "[0.74640330071271743, -0.5629959192732974] [1429623875545, 1429623875551] {u'global_timestamp': None, u'hash': u'5e1a48ce6835204474aaaad1c9181958', u'htype': u'bsr_m-1.0', u'pulse_id': 721535}\n",
        "[1.0912921214911657, 0.33168116748246174] [1429623875555, 1429623875561] {u'global_timestamp': None, u'hash': u'5e1a48ce6835204474aaaad1c9181958', u'htype': u'bsr_m-1.0', u'pulse_id': 721536}\n",
        "[0.52479153734847628, 1.1052911961336629]"
       ]
      },
      {
       "output_type": "stream",
       "stream": "stdout",
       "text": [
        " [1429623875565, 1429623875571] {u'global_timestamp': None, u'hash': u'5e1a48ce6835204474aaaad1c9181958', u'htype': u'bsr_m-1.0', u'pulse_id': 721537}\n",
        "[-0.43226042720585822, 1.046580674023827] [1429623875575, 1429623875581] {u'global_timestamp': None, u'hash': u'5e1a48ce6835204474aaaad1c9181958', u'htype': u'bsr_m-1.0', u'pulse_id': 721538}\n",
        "[-0.89995460963184892, 0.20952778442329251] [1429623875585, 1429623875591] {u'global_timestamp': None, u'hash': u'5e1a48ce6835204474aaaad1c9181958', u'htype': u'bsr_m-1.0', u'pulse_id': 721539}\n",
        "[-0.4482951354892688, -0.636284906236388] [1429623875595, 1429623875600] {u'global_timestamp': None, u'hash': u'5e1a48ce6835204474aaaad1c9181958', u'htype': u'bsr_m-1.0', u'pulse_id': 721540}\n",
        "[0.50746435762957687, -0.71322111082777551] [1429623875605, 1429623875611] {u'global_timestamp': None, u'hash': u'5e1a48ce6835204474aaaad1c9181958', u'htype': u'bsr_m-1.0', u'pulse_id': 721541}\n",
        "[1.0886029994619502, 0.04945396234096594]"
       ]
      },
      {
       "output_type": "stream",
       "stream": "stderr",
       "text": [
        "\u001b[2J\u001b[H\u001b[2J\u001b[H\u001b[2J\u001b[H\u001b[2J\u001b[H\u001b[2J\u001b[H\u001b[2J\u001b[H"
       ]
      },
      {
       "output_type": "stream",
       "stream": "stdout",
       "text": [
        " [1429623875615, 1429623875620] {u'global_timestamp': None, u'hash': u'5e1a48ce6835204474aaaad1c9181958', u'htype': u'bsr_m-1.0', u'pulse_id': 721542}\n",
        "[0.76082460276532504, 0.95054036825479971] [1429623875629, 1429623875630] {u'global_timestamp': None, u'hash': u'5e1a48ce6835204474aaaad1c9181958', u'htype': u'bsr_m-1.0', u'pulse_id': 721543}\n",
        "[-0.17451288616494501, 1.161583420889416] [1429623875636, 1429623875640] {u'global_timestamp': None, u'hash': u'5e1a48ce6835204474aaaad1c9181958', u'htype': u'bsr_m-1.0', u'pulse_id': 721544}\n",
        "[-0.85746449353620091, 0.48855111092745118] [1429623875645, 1429623875651] {u'global_timestamp': None, u'hash': u'5e1a48ce6835204474aaaad1c9181958', u'htype': u'bsr_m-1.0', u'pulse_id': 721545}\n",
        "[-0.66012766112401489, -0.44977375969958561] [1429623875655, 1429623875661] {u'global_timestamp': None, u'hash': u'5e1a48ce6835204474aaaad1c9181958', u'htype': u'bsr_m-1.0', u'pulse_id': 721546}\n",
        "[0.23606703741727872, -0.79069963224404449] [1429623875666, 1429623875670] {u'global_timestamp': None, u'hash': u'5e1a48ce6835204474aaaad1c9181958', u'htype': u'bsr_m-1.0', u'pulse_id': 721547}\n",
        "[1.0071623292624192, -0.22078083174876478]"
       ]
      },
      {
       "output_type": "stream",
       "stream": "stderr",
       "text": [
        "\u001b[2J\u001b[H\u001b[2J\u001b[H\u001b[2J\u001b[H\u001b[2J\u001b[H\u001b[2J\u001b[H\u001b[2J\u001b[H\u001b[2J\u001b[H"
       ]
      },
      {
       "output_type": "stream",
       "stream": "stdout",
       "text": [
        " [1429623875675, 1429623875680] {u'global_timestamp': None, u'hash': u'5e1a48ce6835204474aaaad1c9181958', u'htype': u'bsr_m-1.0', u'pulse_id': 721548}\n",
        "[0.94421675917711656, 0.73600192492610161] [1429623875685, 1429623875691] {u'global_timestamp': None, u'hash': u'5e1a48ce6835204474aaaad1c9181958', u'htype': u'bsr_m-1.0', u'pulse_id': 721549}\n",
        "[0.10510219400942908, 1.1999869837234334] [1429623875696, 1429623875701] {u'global_timestamp': None, u'hash': u'5e1a48ce6835204474aaaad1c9181958', u'htype': u'bsr_m-1.0', u'pulse_id': 721550}\n",
        "[-0.73870330480055435, 0.74458862136169213] [1429623875705, 1429623875710] {u'global_timestamp': None, u'hash': u'5e1a48ce6835204474aaaad1c9181958', u'htype': u'bsr_m-1.0', u'pulse_id': 721551}\n",
        "[-0.81140885305536647, -0.21150200798088631] [1429623875715, 1429623875720] {u'global_timestamp': None, u'hash': u'5e1a48ce6835204474aaaad1c9181958', u'htype': u'bsr_m-1.0', u'pulse_id': 721552}\n",
        "[-0.046169304988347731, -0.78925958892457704]"
       ]
      },
      {
       "output_type": "stream",
       "stream": "stderr",
       "text": [
        "\u001b[2J\u001b[H\u001b[2J\u001b[H\u001b[2J\u001b[H\u001b[2J\u001b[H\u001b[2J\u001b[H\u001b[2J\u001b[H\u001b[2J\u001b[H"
       ]
      },
      {
       "output_type": "stream",
       "stream": "stdout",
       "text": [
        " [1429623875726, 1429623875730] {u'global_timestamp': None, u'hash': u'5e1a48ce6835204474aaaad1c9181958', u'htype': u'bsr_m-1.0', u'pulse_id': 721553}\n",
        "[0.85345762799067115, -0.45749646601534782] [1429623875735, 1429623875741] {u'global_timestamp': None, u'hash': u'5e1a48ce6835204474aaaad1c9181958', u'htype': u'bsr_m-1.0', u'pulse_id': 721554}\n",
        "[1.0603590925429451, 0.47876587554808642] [1429623875745, 1429623875750] {u'global_timestamp': None, u'hash': u'5e1a48ce6835204474aaaad1c9181958', u'htype': u'bsr_m-1.0', u'pulse_id': 721555}\n",
        "[0.38431083633410357, 1.1587321567273117] [1429623875756, 1429623875761] {u'global_timestamp': None, u'hash': u'5e1a48ce6835204474aaaad1c9181958', u'htype': u'bsr_m-1.0', u'pulse_id': 721556}\n",
        "[-0.55313149163371411, 0.95724451443131597] [1429623875766, 1429623875771] {u'global_timestamp': None, u'hash': u'5e1a48ce6835204474aaaad1c9181958', u'htype': u'bsr_m-1.0', u'pulse_id': 721557}\n",
        "[-0.89008773826369025, 0.059549757779168072] [1429623875775, 1429623875780] {u'global_timestamp': None, u'hash': u'5e1a48ce6835204474aaaad1c9181958', u'htype': u'bsr_m-1.0', u'pulse_id': 721558}\n",
        "[-0.31676188435757191, -0.7090156938946246]"
       ]
      },
      {
       "output_type": "stream",
       "stream": "stderr",
       "text": [
        "\u001b[2J\u001b[H\u001b[2J\u001b[H\u001b[2J\u001b[H\u001b[2J\u001b[H\u001b[2J\u001b[H\u001b[2J\u001b[H"
       ]
      },
      {
       "output_type": "stream",
       "stream": "stdout",
       "text": [
        " [1429623875785, 1429623875791] {u'global_timestamp': None, u'hash': u'5e1a48ce6835204474aaaad1c9181958', u'htype': u'bsr_m-1.0', u'pulse_id': 721559}\n",
        "[0.63973292403099602, -0.64183630874235353] [1429623875795, 1429623875801] {u'global_timestamp': None, u'hash': u'5e1a48ce6835204474aaaad1c9181958', u'htype': u'bsr_m-1.0', u'pulse_id': 721560}\n",
        "[1.0999997711713732, 0.19932349634059104] [1429623875805, 1429623875811] {u'global_timestamp': None, u'hash': u'5e1a48ce6835204474aaaad1c9181958', u'htype': u'bsr_m-1.0', u'pulse_id': 721561}\n",
        "[0.64087144043201405, 1.0411052757681396] [1429623875815, 1429623875820] {u'global_timestamp': None, u'hash': u'5e1a48ce6835204474aaaad1c9181958', u'htype': u'bsr_m-1.0', u'pulse_id': 721562}\n",
        "[-0.31553159828409449, 1.1095787436101758] [1429623875826, 1429623875830] {u'global_timestamp': None, u'hash': u'5e1a48ce6835204474aaaad1c9181958', u'htype': u'bsr_m-1.0', u'pulse_id': 721563}\n",
        "[-0.88989680185995368, 0.34178970931430719]"
       ]
      },
      {
       "output_type": "stream",
       "stream": "stderr",
       "text": [
        "\u001b[2J\u001b[H\u001b[2J\u001b[H\u001b[2J\u001b[H\u001b[2J\u001b[H\u001b[2J\u001b[H\u001b[2J\u001b[H\u001b[2J\u001b[H"
       ]
      },
      {
       "output_type": "stream",
       "stream": "stdout",
       "text": [
        " [1429623875836, 1429623875840] {u'global_timestamp': None, u'hash': u'5e1a48ce6835204474aaaad1c9181958', u'htype': u'bsr_m-1.0', u'pulse_id': 721564}\n",
        "[-0.55415545094876539, -0.55636012982838889] [1429623875845, 1429623875850] {u'global_timestamp': None, u'hash': u'5e1a48ce6835204474aaaad1c9181958', u'htype': u'bsr_m-1.0', u'pulse_id': 721565}\n",
        "[0.38301340477229218, -0.75911595374031537] [1429623875855, 1429623875861] {u'global_timestamp': None, u'hash': u'5e1a48ce6835204474aaaad1c9181958', u'htype': u'bsr_m-1.0', u'pulse_id': 721566}\n",
        "[1.0599810413288908, -0.080064992973235827] [1429623875865, 1429623875870] {u'global_timestamp': None, u'hash': u'5e1a48ce6835204474aaaad1c9181958', u'htype': u'bsr_m-1.0', u'pulse_id': 721567}\n",
        "[0.85434653566710295, 0.85647643074754809] [1429623875876, 1429623875881] {u'global_timestamp': None, u'hash': u'5e1a48ce6835204474aaaad1c9181958', u'htype': u'bsr_m-1.0', u'pulse_id': 721568}\n",
        "[-0.044830696039733442, 1.1894564515352084] [1429623875885, 1429623875890] {u'global_timestamp': None, u'hash': u'5e1a48ce6835204474aaaad1c9181958', u'htype': u'bsr_m-1.0', u'pulse_id': 721569}\n",
        "[-0.81085125372861422, 0.61273477389361275]"
       ]
      },
      {
       "output_type": "stream",
       "stream": "stdout",
       "text": [
        " [1429623875896, 1429623875901] {u'global_timestamp': None, u'hash': u'5e1a48ce6835204474aaaad1c9181958', u'htype': u'bsr_m-1.0', u'pulse_id': 721570}\n",
        "[-0.73943936934517907, -0.34345335144183992] [1429623875905, 1429623875911] {u'global_timestamp': None, u'hash': u'5e1a48ce6835204474aaaad1c9181958', u'htype': u'bsr_m-1.0', u'pulse_id': 721571}\n",
        "[0.10374919994121973, -0.79999297172520212] [1429623875915, 1429623875920] {u'global_timestamp': None, u'hash': u'5e1a48ce6835204474aaaad1c9181958', u'htype': u'bsr_m-1.0', u'pulse_id': 721572}\n",
        "[0.94349077209198251, -0.33714366550828029] [1429623875926, 1429623875931] {u'global_timestamp': None, u'hash': u'5e1a48ce6835204474aaaad1c9181958', u'htype': u'bsr_m-1.0', u'pulse_id': 721573}\n",
        "[1.0077308183383715, 0.61955304961202495] [1429623875936, 1429623875941] {u'global_timestamp': None, u'hash': u'5e1a48ce6835204474aaaad1c9181958', u'htype': u'bsr_m-1.0', u'pulse_id': 721574}\n",
        "[0.23740733641960873, 1.1905146257870545]"
       ]
      },
      {
       "output_type": "stream",
       "stream": "stderr",
       "text": [
        "\u001b[2J\u001b[H\u001b[2J\u001b[H\u001b[2J\u001b[H\u001b[2J\u001b[H\u001b[2J\u001b[H\u001b[2J\u001b[H"
       ]
      },
      {
       "output_type": "stream",
       "stream": "stdout",
       "text": [
        " [1429623875945, 1429623875951] {u'global_timestamp': None, u'hash': u'5e1a48ce6835204474aaaad1c9181958', u'htype': u'bsr_m-1.0', u'pulse_id': 721575}\n",
        "[-0.6592478169169439, 0.85080162300570117] [1429623875955, 1429623875961] {u'global_timestamp': None, u'hash': u'5e1a48ce6835204474aaaad1c9181958', u'htype': u'bsr_m-1.0', u'pulse_id': 721576}\n",
        "[-0.85785402883076078, -0.087255390641638231] [1429623875966, 1429623875971] {u'global_timestamp': None, u'hash': u'5e1a48ce6835204474aaaad1c9181958', u'htype': u'bsr_m-1.0', u'pulse_id': 721577}\n",
        "[-0.17581366400775125, -0.76121112287916182] [1429623875976, 1429623875980] {u'global_timestamp': None, u'hash': u'5e1a48ce6835204474aaaad1c9181958', u'htype': u'bsr_m-1.0', u'pulse_id': 721578}\n",
        "[0.759808511524104, -0.55143378159379175] [1429623875985, 1429623875990] {u'global_timestamp': None, u'hash': u'5e1a48ce6835204474aaaad1c9181958', u'htype': u'bsr_m-1.0', u'pulse_id': 721579}\n",
        "[1.0888057844235481, 0.34920831307447842] [1429623875996, 1429623876000] {u'global_timestamp': None, u'hash': u'5e1a48ce6835204474aaaad1c9181958', u'htype': u'bsr_m-1.0', u'pulse_id': 721580}\n",
        "[0.50869957923549147, 1.1126689728114636]"
       ]
      },
      {
       "output_type": "stream",
       "stream": "stderr",
       "text": [
        "\u001b[2J\u001b[H\u001b[2J\u001b[H\u001b[2J\u001b[H\u001b[2J\u001b[H\u001b[2J\u001b[H\u001b[2J\u001b[H\u001b[2J\u001b[H"
       ]
      },
      {
       "output_type": "stream",
       "stream": "stdout",
       "text": [
        " [1429623876005, 1429623876011] {u'global_timestamp': None, u'hash': u'5e1a48ce6835204474aaaad1c9181958', u'htype': u'bsr_m-1.0', u'pulse_id': 721581}\n",
        "[-0.44716313428699916, 1.0370259879342023] [1429623876016, 1429623876021] {u'global_timestamp': None, u'hash': u'5e1a48ce6835204474aaaad1c9181958', u'htype': u'bsr_m-1.0', u'pulse_id': 721582}\n",
        "[-0.89996658551809994, 0.19182516989335066] [1429623876025, 1429623876031] {u'global_timestamp': None, u'hash': u'5e1a48ce6835204474aaaad1c9181958', u'htype': u'bsr_m-1.0', u'pulse_id': 721583}\n",
        "[-0.43340536960604026, -0.64585974704760818] [1429623876035, 1429623876040] {u'global_timestamp': None, u'hash': u'5e1a48ce6835204474aaaad1c9181958', u'htype': u'bsr_m-1.0', u'pulse_id': 721584}\n",
        "[0.52356628319691823, -0.70586511343507885] [1429623876046, 1429623876050] {u'global_timestamp': None, u'hash': u'5e1a48ce6835204474aaaad1c9181958', u'htype': u'bsr_m-1.0', u'pulse_id': 721585}\n",
        "[1.091113048604625, 0.066977727858654107]"
       ]
      },
      {
       "output_type": "stream",
       "stream": "stderr",
       "text": [
        "\u001b[2J\u001b[H\u001b[2J\u001b[H\u001b[2J\u001b[H\u001b[2J\u001b[H\u001b[2J\u001b[H\u001b[2J\u001b[H\u001b[2J\u001b[H"
       ]
      },
      {
       "output_type": "stream",
       "stream": "stdout",
       "text": [
        " [1429623876055, 1429623876061] {u'global_timestamp': None, u'hash': u'5e1a48ce6835204474aaaad1c9181958', u'htype': u'bsr_m-1.0', u'pulse_id': 721586}\n",
        "[0.7474350478772428, 0.96212063269550208] [1429623876065, 1429623876071] {u'global_timestamp': None, u'hash': u'5e1a48ce6835204474aaaad1c9181958', u'htype': u'bsr_m-1.0', u'pulse_id': 721587}\n",
        "[-0.19149175006877747, 1.1565733425314764] [1429623876076, 1429623876080] {u'global_timestamp': None, u'hash': u'5e1a48ce6835204474aaaad1c9181958', u'htype': u'bsr_m-1.0', u'pulse_id': 721588}\n",
        "[-0.86242237728464277, 0.47155693270799914] [1429623876085, 1429623876090] {u'global_timestamp': None, u'hash': u'5e1a48ce6835204474aaaad1c9181958', u'htype': u'bsr_m-1.0', u'pulse_id': 721589}\n",
        "[-0.64850630926320096, -0.463127668698254] [1429623876095, 1429623876100] {u'global_timestamp': None, u'hash': u'5e1a48ce6835204474aaaad1c9181958', u'htype': u'bsr_m-1.0', u'pulse_id': 721590}\n",
        "[0.25358300758112601, -0.78813574967326017] [1429623876106, 1429623876110] {u'global_timestamp': None, u'hash': u'5e1a48ce6835204474aaaad1c9181958', u'htype': u'bsr_m-1.0', u'pulse_id': 721591}\n",
        "[1.0144688155396937, -0.20465637942015658]"
       ]
      },
      {
       "output_type": "stream",
       "stream": "stderr",
       "text": [
        "\u001b[2J\u001b[H\u001b[2J\u001b[H\u001b[2J\u001b[H\u001b[2J\u001b[H\u001b[2J\u001b[H\u001b[2J\u001b[H"
       ]
      },
      {
       "output_type": "stream",
       "stream": "stdout",
       "text": [
        " [1429623876115, 1429623876121] {u'global_timestamp': None, u'hash': u'5e1a48ce6835204474aaaad1c9181958', u'htype': u'bsr_m-1.0', u'pulse_id': 721592}\n",
        "[0.93459621178008001, 0.75086219990333314] [1429623876126, 1429623876131] {u'global_timestamp': None, u'hash': u'5e1a48ce6835204474aaaad1c9181958', u'htype': u'bsr_m-1.0', u'pulse_id': 721593}\n",
        "[0.087399699847489354, 1.1999206130668907] [1429623876135, 1429623876141] {u'global_timestamp': None, u'hash': u'5e1a48ce6835204474aaaad1c9181958', u'htype': u'bsr_m-1.0', u'pulse_id': 721594}\n",
        "[-0.74821215423414433, 0.72965662594691683] [1429623876145, 1429623876150] {u'global_timestamp': None, u'hash': u'5e1a48ce6835204474aaaad1c9181958', u'htype': u'bsr_m-1.0', u'pulse_id': 721595}\n",
        "[-0.80398166544367011, -0.22757122043197497] [1429623876155, 1429623876160] {u'global_timestamp': None, u'hash': u'5e1a48ce6835204474aaaad1c9181958', u'htype': u'bsr_m-1.0', u'pulse_id': 721596}\n",
        "[-0.028634602369327994, -0.79169205859141822]"
       ]
      },
      {
       "output_type": "stream",
       "stream": "stderr",
       "text": [
        "\u001b[2J\u001b[H\u001b[2J\u001b[H\u001b[2J\u001b[H\u001b[2J\u001b[H\u001b[2J\u001b[H\u001b[2J\u001b[H\u001b[2J\u001b[H"
       ]
      },
      {
       "output_type": "stream",
       "stream": "stdout",
       "text": [
        " [1429623876166, 1429623876170] {u'global_timestamp': None, u'hash': u'5e1a48ce6835204474aaaad1c9181958', u'htype': u'bsr_m-1.0', u'pulse_id': 721597}\n",
        "[0.86497852089451166, -0.44405579150415614] [1429623876175, 1429623876181] {u'global_timestamp': None, u'hash': u'5e1a48ce6835204474aaaad1c9181958', u'htype': u'bsr_m-1.0', u'pulse_id': 721598}\n",
        "[1.0552739199271353, 0.49572240007656737] [1429623876185, 1429623876190] {u'global_timestamp': None, u'hash': u'5e1a48ce6835204474aaaad1c9181958', u'htype': u'bsr_m-1.0', u'pulse_id': 721599}\n",
        "[0.36729488245014386, 1.1636147808206161] [1429623876195, 1429623876200] {u'global_timestamp': None, u'hash': u'5e1a48ce6835204474aaaad1c9181958', u'htype': u'bsr_m-1.0', u'pulse_id': 721600}\n",
        "[-0.566433837258003, 0.9455641760154343] [1429623876205, 1429623876211] {u'global_timestamp': None, u'hash': u'5e1a48ce6835204474aaaad1c9181958', u'htype': u'bsr_m-1.0', u'pulse_id': 721601}\n",
        "[-0.88744636040824709, 0.042045306127021564] [1429623876215, 1429623876221] {u'global_timestamp': None, u'hash': u'5e1a48ce6835204474aaaad1c9181958', u'htype': u'bsr_m-1.0', u'pulse_id': 721602}\n",
        "[-0.30060525364135304, -0.71625074665996702]"
       ]
      },
      {
       "output_type": "stream",
       "stream": "stdout",
       "text": [
        " [1429623876226, 1429623876231] {u'global_timestamp': None, u'hash': u'5e1a48ce6835204474aaaad1c9181958', u'htype': u'bsr_m-1.0', u'pulse_id': 721603}\n",
        "[0.65455047583761894, -0.63215008847459142] [1429623876235, 1429623876240] {u'global_timestamp': None, u'hash': u'5e1a48ce6835204474aaaad1c9181958', u'htype': u'bsr_m-1.0', u'pulse_id': 721604}\n",
        "[1.0998550552720323, 0.21702552339757064] [1429623876245, 1429623876250] {u'global_timestamp': None, u'hash': u'5e1a48ce6835204474aaaad1c9181958', u'htype': u'bsr_m-1.0', u'pulse_id': 721605}\n",
        "[0.62589750795717169, 1.0505479475752302] [1429623876256, 1429623876261] {u'global_timestamp': None, u'hash': u'5e1a48ce6835204474aaaad1c9181958', u'htype': u'bsr_m-1.0', u'pulse_id': 721606}\n",
        "[-0.3315677828728959, 1.1020805112550505] [1429623876266, 1429623876271] {u'global_timestamp': None, u'hash': u'5e1a48ce6835204474aaaad1c9181958', u'htype': u'bsr_m-1.0', u'pulse_id': 721607}\n",
        "[-0.89225164440642435, 0.32424441304439794]"
       ]
      },
      {
       "output_type": "stream",
       "stream": "stderr",
       "text": [
        "\u001b[2J\u001b[H\u001b[2J\u001b[H\u001b[2J\u001b[H\u001b[2J\u001b[H\u001b[2J\u001b[H\u001b[2J\u001b[H\u001b[2J\u001b[H"
       ]
      },
      {
       "output_type": "stream",
       "stream": "stdout",
       "text": [
        " [1429623876275, 1429623876281] {u'global_timestamp': None, u'hash': u'5e1a48ce6835204474aaaad1c9181958', u'htype': u'bsr_m-1.0', u'pulse_id': 721608}\n",
        "[-0.54066392007559305, -0.56782142553680681] [1429623876285, 1429623876290] {u'global_timestamp': None, u'hash': u'5e1a48ce6835204474aaaad1c9181958', u'htype': u'bsr_m-1.0', u'pulse_id': 721609}\n",
        "[0.39994725779969531, -0.75395578646939554] [1429623876296, 1429623876301] {u'global_timestamp': None, u'hash': u'5e1a48ce6835204474aaaad1c9181958', u'htype': u'bsr_m-1.0', u'pulse_id': 721610}\n",
        "[1.0647883101315945, -0.063027596714531564] [1429623876305, 1429623876311] {u'global_timestamp': None, u'hash': u'5e1a48ce6835204474aaaad1c9181958', u'htype': u'bsr_m-1.0', u'pulse_id': 721611}\n",
        "[0.84260743947775751, 0.86972695244576248] [1429623876315, 1429623876320] {u'global_timestamp': None, u'hash': u'5e1a48ce6835204474aaaad1c9181958', u'htype': u'bsr_m-1.0', u'pulse_id': 721612}\n",
        "[-0.062323286322259697, 1.1867376301315065] [1429623876326, 1429623876331] {u'global_timestamp': None, u'hash': u'5e1a48ce6835204474aaaad1c9181958', u'htype': u'bsr_m-1.0', u'pulse_id': 721613}\n",
        "[-0.81801473126977986, 0.59654628124807052]"
       ]
      },
      {
       "output_type": "stream",
       "stream": "stderr",
       "text": [
        "\u001b[2J\u001b[H\u001b[2J\u001b[H\u001b[2J\u001b[H\u001b[2J\u001b[H\u001b[2J\u001b[H\u001b[2J\u001b[H"
       ]
      },
      {
       "output_type": "stream",
       "stream": "stdout",
       "text": [
        " [1429623876336, 1429623876340] {u'global_timestamp': None, u'hash': u'5e1a48ce6835204474aaaad1c9181958', u'htype': u'bsr_m-1.0', u'pulse_id': 721614}\n",
        "[-0.72968766592970569, -0.35822788984796977] [1429623876346, 1429623876350] {u'global_timestamp': None, u'hash': u'5e1a48ce6835204474aaaad1c9181958', u'htype': u'bsr_m-1.0', u'pulse_id': 721615}\n",
        "[0.12145041316543034, -0.7997699134175984] [1429623876356, 1429623876361] {u'global_timestamp': None, u'hash': u'5e1a48ce6835204474aaaad1c9181958', u'htype': u'bsr_m-1.0', u'pulse_id': 721616}\n",
        "[0.95286708131991826, -0.32212808926626796] [1429623876366, 1429623876370] {u'global_timestamp': None, u'hash': u'5e1a48ce6835204474aaaad1c9181958', u'htype': u'bsr_m-1.0', u'pulse_id': 721617}\n",
        "[1.000161688106934, 0.63555589223941755] [1429623876375, 1429623876381] {u'global_timestamp': None, u'hash': u'5e1a48ce6835204474aaaad1c9181958', u'htype': u'bsr_m-1.0', u'pulse_id': 721618}\n",
        "[0.21985179015674883, 1.1927917950890925] [1429623876386, 1429623876391] {u'global_timestamp': None, u'hash': u'5e1a48ce6835204474aaaad1c9181958', u'htype': u'bsr_m-1.0', u'pulse_id': 721619}\n",
        "[-0.67064929093870229, 0.83725950002779514]"
       ]
      },
      {
       "output_type": "stream",
       "stream": "stderr",
       "text": [
        "\u001b[2J\u001b[H\u001b[2J\u001b[H\u001b[2J\u001b[H\u001b[2J\u001b[H\u001b[2J\u001b[H\u001b[2J\u001b[H"
       ]
      },
      {
       "output_type": "stream",
       "stream": "stdout",
       "text": [
        " [1429623876396, 1429623876401] {u'global_timestamp': None, u'hash': u'5e1a48ce6835204474aaaad1c9181958', u'htype': u'bsr_m-1.0', u'pulse_id': 721620}\n",
        "[-0.85261896797640424, -0.10416624048630141] [1429623876406, 1429623876411] {u'global_timestamp': None, u'hash': u'5e1a48ce6835204474aaaad1c9181958', u'htype': u'bsr_m-1.0', u'pulse_id': 721621}\n",
        "[-0.15875515908405521, -0.76594294223177872] [1429623876416, 1429623876420] {u'global_timestamp': None, u'hash': u'5e1a48ce6835204474aaaad1c9181958', u'htype': u'bsr_m-1.0', u'pulse_id': 721622}\n",
        "[0.77300694975961948, -0.53963615756346917] [1429623876425, 1429623876431] {u'global_timestamp': None, u'hash': u'5e1a48ce6835204474aaaad1c9181958', u'htype': u'bsr_m-1.0', u'pulse_id': 721623}\n",
        "[1.0860095727248666, 0.36668869936179249] [1429623876435, 1429623876441] {u'global_timestamp': None, u'hash': u'5e1a48ce6835204474aaaad1c9181958', u'htype': u'bsr_m-1.0', u'pulse_id': 721624}\n",
        "[0.49247954174298969, 1.1197607348181444] [1429623876446, 1429623876451] {u'global_timestamp': None, u'hash': u'5e1a48ce6835204474aaaad1c9181958', u'htype': u'bsr_m-1.0', u'pulse_id': 721625}\n",
        "[-0.46189436990525035, 1.0272089923766434]"
       ]
      },
      {
       "output_type": "stream",
       "stream": "stderr",
       "text": [
        "\u001b[2J\u001b[H\u001b[2J\u001b[H\u001b[2J\u001b[H\u001b[2J\u001b[H\u001b[2J\u001b[H\u001b[2J\u001b[H\u001b[2J\u001b[H"
       ]
      },
      {
       "output_type": "stream",
       "stream": "stdout",
       "text": [
        " [1429623876456, 1429623876461] {u'global_timestamp': None, u'hash': u'5e1a48ce6835204474aaaad1c9181958', u'htype': u'bsr_m-1.0', u'pulse_id': 721626}\n",
        "[-0.89966518917125415, 0.17412511721377744] [1429623876465, 1429623876471] {u'global_timestamp': None, u'hash': u'5e1a48ce6835204474aaaad1c9181958', u'htype': u'bsr_m-1.0', u'pulse_id': 721627}\n",
        "[-0.41834844370542712, -0.65516951004357127] [1429623876475, 1429623876481] {u'global_timestamp': None, u'hash': u'5e1a48ce6835204474aaaad1c9181958', u'htype': u'bsr_m-1.0', u'pulse_id': 721628}\n",
        "[0.53953547041684635, -0.69822523358311495] [1429623876486, 1429623876490] {u'global_timestamp': None, u'hash': u'5e1a48ce6835204474aaaad1c9181958', u'htype': u'bsr_m-1.0', u'pulse_id': 721629}\n",
        "[1.0933125000595463, 0.084543180255760325] [1429623876496, 1429623876501] {u'global_timestamp': None, u'hash': u'5e1a48ce6835204474aaaad1c9181958', u'htype': u'bsr_m-1.0', u'pulse_id': 721630}\n",
        "[0.73384259804279262, 0.9734620617110854]"
       ]
      },
      {
       "output_type": "stream",
       "stream": "stderr",
       "text": [
        "\u001b[2J\u001b[H\u001b[2J\u001b[H\u001b[2J\u001b[H\u001b[2J\u001b[H\u001b[2J\u001b[H\u001b[2J\u001b[H\u001b[2J\u001b[H"
       ]
      },
      {
       "output_type": "stream",
       "stream": "stdout",
       "text": [
        " [1429623876505, 1429623876511] {u'global_timestamp': None, u'hash': u'5e1a48ce6835204474aaaad1c9181958', u'htype': u'bsr_m-1.0', u'pulse_id': 721631}\n",
        "[-0.20837926549959965, 1.1512634906322892] [1429623876515, 1429623876521] {u'global_timestamp': None, u'hash': u'5e1a48ce6835204474aaaad1c9181958', u'htype': u'bsr_m-1.0', u'pulse_id': 721632}\n",
        "[-0.86707865450550659, 0.45447765324251749] [1429623876526, 1429623876531] {u'global_timestamp': None, u'hash': u'5e1a48ce6835204474aaaad1c9181958', u'htype': u'bsr_m-1.0', u'pulse_id': 721633}\n",
        "[-0.63665038847076683, -0.47627376495459911] [1429623876536, 1429623876540] {u'global_timestamp': None, u'hash': u'5e1a48ce6835204474aaaad1c9181958', u'htype': u'bsr_m-1.0', u'pulse_id': 721634}\n",
        "[0.27105084748667418, -0.78526220244871392] [1429623876546, 1429623876551] {u'global_timestamp': None, u'hash': u'5e1a48ce6835204474aaaad1c9181958', u'htype': u'bsr_m-1.0', u'pulse_id': 721635}\n",
        "[1.0214887231062659, -0.18840511478092498] [1429623876555, 1429623876561] {u'global_timestamp': None, u'hash': u'5e1a48ce6835204474aaaad1c9181958', u'htype': u'bsr_m-1.0', u'pulse_id': 721636}\n",
        "[0.92471411636493217, 0.76554984419448746]"
       ]
      },
      {
       "output_type": "stream",
       "stream": "stderr",
       "text": [
        "\u001b[2J\u001b[H\u001b[2J\u001b[H\u001b[2J\u001b[H\u001b[2J\u001b[H\u001b[2J\u001b[H\u001b[2J\u001b[H"
       ]
      },
      {
       "output_type": "stream",
       "stream": "stdout",
       "text": [
        " [1429623876565, 1429623876570] {u'global_timestamp': None, u'hash': u'5e1a48ce6835204474aaaad1c9181958', u'htype': u'bsr_m-1.0', u'pulse_id': 721637}\n",
        "[0.069701154401690418, 1.1995408845842224] [1429623876576, 1429623876581] {u'global_timestamp': None, u'hash': u'5e1a48ce6835204474aaaad1c9181958', u'htype': u'bsr_m-1.0', u'pulse_id': 721638}\n",
        "[-0.75745518864875105, 0.7145586453061834] [1429623876586, 1429623876591] {u'global_timestamp': None, u'hash': u'5e1a48ce6835204474aaaad1c9181958', u'htype': u'bsr_m-1.0', u'pulse_id': 721639}\n",
        "[-0.79627118561273225, -0.24350643945758804] [1429623876595, 1429623876601] {u'global_timestamp': None, u'hash': u'5e1a48ce6835204474aaaad1c9181958', u'htype': u'bsr_m-1.0', u'pulse_id': 721640}\n",
        "[-0.011059587890710335, -0.79381374911879021] [1429623876605, 1429623876611] {u'global_timestamp': None, u'hash': u'5e1a48ce6835204474aaaad1c9181958', u'htype': u'bsr_m-1.0', u'pulse_id': 721641}\n",
        "[0.87625968276050004, -0.43041328104709836]"
       ]
      },
      {
       "output_type": "stream",
       "stream": "stderr",
       "text": [
        "\u001b[2J\u001b[H\u001b[2J\u001b[H\u001b[2J\u001b[H\u001b[2J\u001b[H\u001b[2J\u001b[H\u001b[2J\u001b[H"
       ]
      },
      {
       "output_type": "stream",
       "stream": "stdout",
       "text": [
        " [1429623876615, 1429623876620] {u'global_timestamp': None, u'hash': u'5e1a48ce6835204474aaaad1c9181958', u'htype': u'bsr_m-1.0', u'pulse_id': 721642}\n",
        "[1.0498893809866479, 0.51258625031949645] [1429623876626, 1429623876630] {u'global_timestamp': None, u'hash': u'5e1a48ce6835204474aaaad1c9181958', u'htype': u'bsr_m-1.0', u'pulse_id': 721643}\n",
        "[0.35019516297299147, 1.1681954247076973] [1429623876635, 1429623876640] {u'global_timestamp': None, u'hash': u'5e1a48ce6835204474aaaad1c9181958', u'htype': u'bsr_m-1.0', u'pulse_id': 721644}\n",
        "[-0.57952733404392331, 0.93365019068160704] [1429623876646, 1429623876650] {u'global_timestamp': None, u'hash': u'5e1a48ce6835204474aaaad1c9181958', u'htype': u'bsr_m-1.0', u'pulse_id': 721645}\n",
        "[-0.88449553394171432, 0.024590354744048026] [1429623876656, 1429623876660] {u'global_timestamp': None, u'hash': u'5e1a48ce6835204474aaaad1c9181958', u'htype': u'bsr_m-1.0', u'pulse_id': 721646}\n",
        "[-0.28432308016726393, -0.72319866228821339] [1429623876666, 1429623876670] {u'global_timestamp': None, u'hash': u'5e1a48ce6835204474aaaad1c9181958', u'htype': u'bsr_m-1.0', u'pulse_id': 721647}\n",
        "[0.66919424111627701, -0.62220308676145542]"
       ]
      },
      {
       "output_type": "stream",
       "stream": "stdout",
       "text": [
        " [1429623876675, 1429623876681] {u'global_timestamp': None, u'hash': u'5e1a48ce6835204474aaaad1c9181958', u'htype': u'bsr_m-1.0', u'pulse_id': 721648}\n",
        "[1.0993970020912447, 0.23472221494998038] [1429623876686, 1429623876691] {u'global_timestamp': None, u'hash': u'5e1a48ce6835204474aaaad1c9181958', u'htype': u'bsr_m-1.0', u'pulse_id': 721649}\n",
        "[0.61075876829893405, 1.0597240723661028] [1429623876696, 1429623876701] {u'global_timestamp': None, u'hash': u'5e1a48ce6835204474aaaad1c9181958', u'htype': u'bsr_m-1.0', u'pulse_id': 721650}\n",
        "[-0.34746872158267472, 1.094299582469525] [1429623876706, 1429623876711] {u'global_timestamp': None, u'hash': u'5e1a48ce6835204474aaaad1c9181958', u'htype': u'bsr_m-1.0', u'pulse_id': 721651}\n",
        "[-0.89429553244890969, 0.30666018072429524] [1429623876715, 1429623876721] {u'global_timestamp': None, u'hash': u'5e1a48ce6835204474aaaad1c9181958', u'htype': u'bsr_m-1.0', u'pulse_id': 721652}\n",
        "[-0.52697161621039657, -0.57904209929022654] [1429623876725, 1429623876731] {u'global_timestamp': None, u'hash': u'5e1a48ce6835204474aaaad1c9181958', u'htype': u'bsr_m-1.0', u'pulse_id': 721653}\n",
        "[0.41678711254420653, -0.74849666595402664]"
       ]
      },
      {
       "output_type": "stream",
       "stream": "stderr",
       "text": [
        "\u001b[2J\u001b[H\u001b[2J\u001b[H\u001b[2J\u001b[H\u001b[2J\u001b[H\u001b[2J\u001b[H\u001b[2J\u001b[H\u001b[2J\u001b[H"
       ]
      },
      {
       "output_type": "stream",
       "stream": "stdout",
       "text": [
        " [1429623876736, 1429623876740] {u'global_timestamp': None, u'hash': u'5e1a48ce6835204474aaaad1c9181958', u'htype': u'bsr_m-1.0', u'pulse_id': 721654}\n",
        "[1.069293230964286, -0.045907772156179805] [1429623876746, 1429623876751] {u'global_timestamp': None, u'hash': u'5e1a48ce6835204474aaaad1c9181958', u'htype': u'bsr_m-1.0', u'pulse_id': 721655}\n",
        "[0.83063562296055937, 0.88276759330026433] [1429623876755, 1429623876760] {u'global_timestamp': None, u'hash': u'5e1a48ce6835204474aaaad1c9181958', u'htype': u'bsr_m-1.0', u'pulse_id': 721656}\n",
        "[-0.079765007294295864, 1.1837095822205259] [1429623876766, 1429623876771] {u'global_timestamp': None, u'hash': u'5e1a48ce6835204474aaaad1c9181958', u'htype': u'bsr_m-1.0', u'pulse_id': 721657}\n",
        "[-0.82489051887158149, 0.58023351785640476] [1429623876775, 1429623876781] {u'global_timestamp': None, u'hash': u'5e1a48ce6835204474aaaad1c9181958', u'htype': u'bsr_m-1.0', u'pulse_id': 721658}\n",
        "[-0.71967595274949547, -0.37282748928818604]"
       ]
      },
      {
       "output_type": "stream",
       "stream": "stderr",
       "text": [
        "\u001b[2J\u001b[H\u001b[2J\u001b[H\u001b[2J\u001b[H\u001b[2J\u001b[H\u001b[2J\u001b[H\u001b[2J\u001b[H"
       ]
      },
      {
       "output_type": "stream",
       "stream": "stdout",
       "text": [
        " [1429623876786, 1429623876790] {u'global_timestamp': None, u'hash': u'5e1a48ce6835204474aaaad1c9181958', u'htype': u'bsr_m-1.0', u'pulse_id': 721659}\n",
        "[0.139144904201148, -0.79923354451053275] [1429623876796, 1429623876800] {u'global_timestamp': None, u'hash': u'5e1a48ce6835204474aaaad1c9181958', u'htype': u'bsr_m-1.0', u'pulse_id': 721660}\n",
        "[0.96197611675523076, -0.30694888711148455] [1429623876805, 1429623876811] {u'global_timestamp': None, u'hash': u'5e1a48ce6835204474aaaad1c9181958', u'htype': u'bsr_m-1.0', u'pulse_id': 721661}\n",
        "[0.99231046277108403, 0.65142223918328812] [1429623876816, 1429623876821] {u'global_timestamp': None, u'hash': u'5e1a48ce6835204474aaaad1c9181958', u'htype': u'bsr_m-1.0', u'pulse_id': 721662}\n",
        "[0.2022586844157363, 1.1947578406132635] [1429623876826, 1429623876830] {u'global_timestamp': None, u'hash': u'5e1a48ce6835204474aaaad1c9181958', u'htype': u'bsr_m-1.0', u'pulse_id': 721663}\n",
        "[-0.68180925680135462, 0.82351767094422712] [1429623876835, 1429623876841] {u'global_timestamp': None, u'hash': u'5e1a48ce6835204474aaaad1c9181958', u'htype': u'bsr_m-1.0', u'pulse_id': 721664}\n",
        "[-0.84708537281339336, -0.1209817698918676]"
       ]
      },
      {
       "output_type": "stream",
       "stream": "stderr",
       "text": [
        "\u001b[2J\u001b[H\u001b[2J\u001b[H\u001b[2J\u001b[H\u001b[2J\u001b[H\u001b[2J\u001b[H\u001b[2J\u001b[H\u001b[2J\u001b[H"
       ]
      },
      {
       "output_type": "stream",
       "stream": "stdout",
       "text": [
        " [1429623876845, 1429623876851] {u'global_timestamp': None, u'hash': u'5e1a48ce6835204474aaaad1c9181958', u'htype': u'bsr_m-1.0', u'pulse_id': 721665}\n",
        "[-0.14161556476877168, -0.77037205177265244] [1429623876855, 1429623876861] {u'global_timestamp': None, u'hash': u'5e1a48ce6835204474aaaad1c9181958', u'htype': u'bsr_m-1.0', u'pulse_id': 721666}\n",
        "[0.78599447925699284, -0.52760674435365651] [1429623876865, 1429623876870] {u'global_timestamp': None, u'hash': u'5e1a48ce6835204474aaaad1c9181958', u'htype': u'bsr_m-1.0', u'pulse_id': 721667}\n",
        "[1.0829043626795056, 0.38411684829367132] [1429623876875, 1429623876881] {u'global_timestamp': None, u'hash': u'5e1a48ce6835204474aaaad1c9181958', u'htype': u'bsr_m-1.0', u'pulse_id': 721668}\n",
        "[0.47613650795018958, 1.1265642597181467] [1429623876886, 1429623876891] {u'global_timestamp': None, u'hash': u'5e1a48ce6835204474aaaad1c9181958', u'htype': u'bsr_m-1.0', u'pulse_id': 721669}\n",
        "[-0.47644951754615117, 1.0171327638277696]"
       ]
      },
      {
       "output_type": "stream",
       "stream": "stderr",
       "text": [
        "\u001b[2J\u001b[H\u001b[2J\u001b[H\u001b[2J\u001b[H\u001b[2J\u001b[H\u001b[2J\u001b[H\u001b[2J\u001b[H"
       ]
      },
      {
       "output_type": "stream",
       "stream": "stdout",
       "text": [
        " [1429623876895, 1429623876901] {u'global_timestamp': None, u'hash': u'5e1a48ce6835204474aaaad1c9181958', u'htype': u'bsr_m-1.0', u'pulse_id': 721670}\n",
        "[-0.8990505150437138, 0.1564331732749534] [1429623876906, 1429623876910] {u'global_timestamp': None, u'hash': u'5e1a48ce6835204474aaaad1c9181958', u'htype': u'bsr_m-1.0', u'pulse_id': 721671}\n",
        "[-0.40312907636759121, -0.66421127770557042] [1429623876915, 1429623876921] {u'global_timestamp': None, u'hash': u'5e1a48ce6835204474aaaad1c9181958', u'htype': u'bsr_m-1.0', u'pulse_id': 721672}\n",
        "[0.55536691482227996, -0.6903038654780953] [1429623876925, 1429623876930] {u'global_timestamp': None, u'hash': u'5e1a48ce6835204474aaaad1c9181958', u'htype': u'bsr_m-1.0', u'pulse_id': 721673}\n",
        "[1.0952006645566685, 0.10214481482330454] [1429623876936, 1429623876940] {u'global_timestamp': None, u'hash': u'5e1a48ce6835204474aaaad1c9181958', u'htype': u'bsr_m-1.0', u'pulse_id': 721674}\n",
        "[0.72005151290066605, 0.98456110109385064]"
       ]
      },
      {
       "output_type": "stream",
       "stream": "stderr",
       "text": [
        "\u001b[2J\u001b[H\u001b[2J\u001b[H\u001b[2J\u001b[H\u001b[2J\u001b[H\u001b[2J\u001b[H\u001b[2J\u001b[H\u001b[2J\u001b[H"
       ]
      },
      {
       "output_type": "stream",
       "stream": "stdout",
       "text": [
        " [1429623876945, 1429623876951] {u'global_timestamp': None, u'hash': u'5e1a48ce6835204474aaaad1c9181958', u'htype': u'bsr_m-1.0', u'pulse_id': 721675}\n",
        "[-0.22517014020215162, 1.1456555292076038] [1429623876955, 1429623876961] {u'global_timestamp': None, u'hash': u'5e1a48ce6835204474aaaad1c9181958', u'htype': u'bsr_m-1.0', u'pulse_id': 721676}\n",
        "[-0.8714318660020437, 0.43731862488179796] [1429623876966, 1429623876972] {u'global_timestamp': None, u'hash': u'5e1a48ce6835204474aaaad1c9181958', u'htype': u'bsr_m-1.0', u'pulse_id': 721677}\n",
        "[-0.62456361418723627, -0.4892079287094207] [1429623876976, 1429623876982] {u'global_timestamp': None, u'hash': u'5e1a48ce6835204474aaaad1c9181958', u'htype': u'bsr_m-1.0', u'pulse_id': 721678}\n",
        "[0.28846508301500995, -0.78207989109040676] [1429623876985, 1429623876990] {u'global_timestamp': None, u'hash': u'5e1a48ce6835204474aaaad1c9181958', u'htype': u'bsr_m-1.0', u'pulse_id': 721679}\n",
        "[1.0282198520445167, -0.17203213069633599] [1429623876996, 1429623877001] {u'global_timestamp': None, u'hash': u'5e1a48ce6835204474aaaad1c9181958', u'htype': u'bsr_m-1.0', u'pulse_id': 721680}\n",
        "[0.9145735698094617, 0.78006025494587194]"
       ]
      },
      {
       "output_type": "stream",
       "stream": "stdout",
       "text": [
        " [1429623877005, 1429623877011] {u'global_timestamp': None, u'hash': u'5e1a48ce6835204474aaaad1c9181958', u'htype': u'bsr_m-1.0', u'pulse_id': 721681}\n",
        "[0.052012104090071863, 1.1988479172757671] [1429623877016, 1429623877022] {u'global_timestamp': None, u'hash': u'5e1a48ce6835204474aaaad1c9181958', u'htype': u'bsr_m-1.0', u'pulse_id': 721682}\n",
        "[-0.76642951143725069, 0.69929941088549985] [1429623877026, 1429623877030] {u'global_timestamp': None, u'hash': u'5e1a48ce6835204474aaaad1c9181958', u'htype': u'bsr_m-1.0', u'pulse_id': 721683}\n",
        "[-0.78827982989357637, -0.25930267123568862] [1429623877036, 1429623877040] {u'global_timestamp': None, u'hash': u'5e1a48ce6835204474aaaad1c9181958', u'htype': u'bsr_m-1.0', u'pulse_id': 721684}\n",
        "[0.0065502307419342126, -0.79562399560557706] [1429623877045, 1429623877051] {u'global_timestamp': None, u'hash': u'5e1a48ce6835204474aaaad1c9181958', u'htype': u'bsr_m-1.0', u'pulse_id': 721685}\n",
        "[0.88729757826761924, -0.41657320997099928]"
       ]
      },
      {
       "output_type": "stream",
       "stream": "stderr",
       "text": [
        "\u001b[2J\u001b[H\u001b[2J\u001b[H\u001b[2J\u001b[H\u001b[2J\u001b[H\u001b[2J\u001b[H\u001b[2J\u001b[H\u001b[2J\u001b[H"
       ]
      },
      {
       "output_type": "stream",
       "stream": "stdout",
       "text": [
        " [1429623877055, 1429623877060] {u'global_timestamp': None, u'hash': u'5e1a48ce6835204474aaaad1c9181958', u'htype': u'bsr_m-1.0', u'pulse_id': 721686}\n",
        "[1.0442071631428596, 0.52935214143787401] [1429623877065, 1429623877071] {u'global_timestamp': None, u'hash': u'5e1a48ce6835204474aaaad1c9181958', u'htype': u'bsr_m-1.0', u'pulse_id': 721687}\n",
        "[0.33301703665898436, 1.1724726528939853] [1429623877075, 1429623877080] {u'global_timestamp': None, u'hash': u'5e1a48ce6835204474aaaad1c9181958', u'htype': u'bsr_m-1.0', u'pulse_id': 721688}\n",
        "[-0.59240787871603939, 0.92150629206678047] [1429623877085, 1429623877091] {u'global_timestamp': None, u'hash': u'5e1a48ce6835204474aaaad1c9181958', u'htype': u'bsr_m-1.0', u'pulse_id': 721689}\n",
        "[-0.88123618360207101, 0.0071903737101208232] [1429623877096, 1429623877101] {u'global_timestamp': None, u'hash': u'5e1a48ce6835204474aaaad1c9181958', u'htype': u'bsr_m-1.0', u'pulse_id': 721690}\n",
        "[-0.26792046648686507, -0.72985726342277268] [1429623877107, 1429623877110] {u'global_timestamp': None, u'hash': u'5e1a48ce6835204474aaaad1c9181958', u'htype': u'bsr_m-1.0', u'pulse_id': 721691}\n",
        "[0.68365963076420122, -0.61199842082124523]"
       ]
      },
      {
       "output_type": "stream",
       "stream": "stderr",
       "text": [
        "\u001b[2J\u001b[H\u001b[2J\u001b[H\u001b[2J\u001b[H\u001b[2J\u001b[H\u001b[2J\u001b[H\u001b[2J\u001b[H"
       ]
      },
      {
       "output_type": "stream",
       "stream": "stdout",
       "text": [
        " [1429623877115, 1429623877122] {u'global_timestamp': None, u'hash': u'5e1a48ce6835204474aaaad1c9181958', u'htype': u'bsr_m-1.0', u'pulse_id': 721692}\n",
        "[1.0986257551749552, 0.25240802516075878] [1429623877126, 1429623877131] {u'global_timestamp': None, u'hash': u'5e1a48ce6835204474aaaad1c9181958', u'htype': u'bsr_m-1.0', u'pulse_id': 721693}\n",
        "[0.59545996567647985, 1.0686307745019523] [1429623877135, 1429623877140] {u'global_timestamp': None, u'hash': u'5e1a48ce6835204474aaaad1c9181958', u'htype': u'bsr_m-1.0', u'pulse_id': 721694}\n",
        "[-0.36322943133425223, 1.0862383956621071] [1429623877146, 1429623877151] {u'global_timestamp': None, u'hash': u'5e1a48ce6835204474aaaad1c9181958', u'htype': u'bsr_m-1.0', u'pulse_id': 721695}\n",
        "[-0.896027825468247, 0.28904252294828214] [1429623877156, 1429623877160] {u'global_timestamp': None, u'hash': u'5e1a48ce6835204474aaaad1c9181958', u'htype': u'bsr_m-1.0', u'pulse_id': 721696}\n",
        "[-0.5130828302843935, -0.59001863472355986] [1429623877165, 1429623877171] {u'global_timestamp': None, u'hash': u'5e1a48ce6835204474aaaad1c9181958', u'htype': u'bsr_m-1.0', u'pulse_id': 721697}\n",
        "[0.43352769168660066, -0.74274030298816007]"
       ]
      },
      {
       "output_type": "stream",
       "stream": "stderr",
       "text": [
        "\u001b[2J\u001b[H\u001b[2J\u001b[H\u001b[2J\u001b[H\u001b[2J\u001b[H\u001b[2J\u001b[H\u001b[2J\u001b[H\u001b[2J\u001b[H"
       ]
      },
      {
       "output_type": "stream",
       "stream": "stdout",
       "text": [
        " [1429623877175, 1429623877180] {u'global_timestamp': None, u'hash': u'5e1a48ce6835204474aaaad1c9181958', u'htype': u'bsr_m-1.0', u'pulse_id': 721698}\n",
        "[1.07349439206269, -0.028710884355103272] [1429623877186, 1429623877190] {u'global_timestamp': None, u'hash': u'5e1a48ce6835204474aaaad1c9181958', u'htype': u'bsr_m-1.0', u'pulse_id': 721699}\n",
        "[0.818434837875748, 0.8955942665997525] [1429623877196, 1429623877201] {u'global_timestamp': None, u'hash': u'5e1a48ce6835204474aaaad1c9181958', u'htype': u'bsr_m-1.0', u'pulse_id': 721700}\n",
        "[-0.097150393022150561, 1.1803732567401111] [1429623877206, 1429623877210] {u'global_timestamp': None, u'hash': u'5e1a48ce6835204474aaaad1c9181958', u'htype': u'bsr_m-1.0', u'pulse_id': 721701}\n",
        "[-0.8314764617811039, 0.56380159585652678] [1429623877216, 1429623877220] {u'global_timestamp': None, u'hash': u'5e1a48ce6835204474aaaad1c9181958', u'htype': u'bsr_m-1.0', u'pulse_id': 721702}\n",
        "[-0.70940736730230258, -0.38724757450052999]"
       ]
      },
      {
       "output_type": "stream",
       "stream": "stderr",
       "text": [
        "\u001b[2J\u001b[H\u001b[2J\u001b[H\u001b[2J\u001b[H\u001b[2J\u001b[H\u001b[2J\u001b[H\u001b[2J\u001b[H"
       ]
      },
      {
       "output_type": "stream",
       "stream": "stdout",
       "text": [
        " [1429623877225, 1429623877231] {u'global_timestamp': None, u'hash': u'5e1a48ce6835204474aaaad1c9181958', u'htype': u'bsr_m-1.0', u'pulse_id': 721703}\n",
        "[0.15682712790091513, -0.79838403309274386] [1429623877236, 1429623877240] {u'global_timestamp': None, u'hash': u'5e1a48ce6835204474aaaad1c9181958', u'htype': u'bsr_m-1.0', u'pulse_id': 721704}\n",
        "[0.97081502378375883, -0.29161081594335525] [1429623877245, 1429623877251] {u'global_timestamp': None, u'hash': u'5e1a48ce6835204474aaaad1c9181958', u'htype': u'bsr_m-1.0', u'pulse_id': 721705}\n",
        "[0.98417960276905248, 0.6671471182049189] [1429623877256, 1429623877261] {u'global_timestamp': None, u'hash': u'5e1a48ce6835204474aaaad1c9181958', u'htype': u'bsr_m-1.0', u'pulse_id': 721706}\n",
        "[0.18463353257163095, 1.1964121462349036] [1429623877265, 1429623877270] {u'global_timestamp': None, u'hash': u'5e1a48ce6835204474aaaad1c9181958', u'htype': u'bsr_m-1.0', u'pulse_id': 721707}\n",
        "[-0.69272421716461552, 0.80958044220656178]"
       ]
      },
      {
       "output_type": "stream",
       "stream": "stderr",
       "text": [
        "\u001b[2J\u001b[H\u001b[2J\u001b[H\u001b[2J\u001b[H\u001b[2J\u001b[H\u001b[2J\u001b[H\u001b[2J\u001b[H\u001b[2J\u001b[H"
       ]
      },
      {
       "output_type": "stream",
       "stream": "stdout",
       "text": [
        " [1429623877275, 1429623877280] {u'global_timestamp': None, u'hash': u'5e1a48ce6835204474aaaad1c9181958', u'htype': u'bsr_m-1.0', u'pulse_id': 721708}\n",
        "[-0.84125497747474642, -0.13769670916225218] [1429623877285, 1429623877290] {u'global_timestamp': None, u'hash': u'5e1a48ce6835204474aaaad1c9181958', u'htype': u'bsr_m-1.0', u'pulse_id': 721709}\n",
        "[-0.12440025231432322, -0.77449706349545666] [1429623877296, 1429623877301] {u'global_timestamp': None, u'hash': u'5e1a48ce6835204474aaaad1c9181958', u'htype': u'bsr_m-1.0', u'pulse_id': 721710}\n",
        "[0.79876702994910398, -0.51534931177440013] [1429623877306, 1429623877311] {u'global_timestamp': None, u'hash': u'5e1a48ce6835204474aaaad1c9181958', u'htype': u'bsr_m-1.0', u'pulse_id': 721711}\n",
        "[1.0794911274065879, 0.40148729818966622] [1429623877315, 1429623877320] {u'global_timestamp': None, u'hash': u'5e1a48ce6835204474aaaad1c9181958', u'htype': u'bsr_m-1.0', u'pulse_id': 721712}\n",
        "[0.4596755994812225, 1.1330774154044365] [1429623877326, 1429623877330] {u'global_timestamp': None, u'hash': u'5e1a48ce6835204474aaaad1c9181958', u'htype': u'bsr_m-1.0', u'pulse_id': 721713}\n",
        "[-0.49082401587816782, 1.006800460003336]"
       ]
      },
      {
       "output_type": "stream",
       "stream": "stdout",
       "text": [
        " [1429623877335, 1429623877340] {u'global_timestamp': None, u'hash': u'5e1a48ce6835204474aaaad1c9181958', u'htype': u'bsr_m-1.0', u'pulse_id': 721714}\n",
        "[-0.89812275576371947, 0.13875488242612005] [1429623877345, 1429623877351] {u'global_timestamp': None, u'hash': u'5e1a48ce6835204474aaaad1c9181958', u'htype': u'bsr_m-1.0', u'pulse_id': 721715}\n",
        "[-0.3877520370790315, -0.67298221650000123] [1429623877356, 1429623877361] {u'global_timestamp': None, u'hash': u'5e1a48ce6835204474aaaad1c9181958', u'htype': u'bsr_m-1.0', u'pulse_id': 721716}\n",
        "[0.57105565511235323, -0.68210349153978056] [1429623877365, 1429623877371] {u'global_timestamp': None, u'hash': u'5e1a48ce6835204474aaaad1c9181958', u'htype': u'bsr_m-1.0', u'pulse_id': 721717}\n",
        "[1.0967769503778948, 0.11977711551344027] [1429623877376, 1429623877380] {u'global_timestamp': None, u'hash': u'5e1a48ce6835204474aaaad1c9181958', u'htype': u'bsr_m-1.0', u'pulse_id': 721718}\n",
        "[0.70606611433842437, 0.99541427259681736]"
       ]
      },
      {
       "output_type": "stream",
       "stream": "stderr",
       "text": [
        "\u001b[2J\u001b[H\u001b[2J\u001b[H\u001b[2J\u001b[H\u001b[2J\u001b[H\u001b[2J\u001b[H\u001b[2J\u001b[H\u001b[2J\u001b[H"
       ]
      },
      {
       "output_type": "stream",
       "stream": "stdout",
       "text": [
        " [1429623877385, 1429623877390] {u'global_timestamp': None, u'hash': u'5e1a48ce6835204474aaaad1c9181958', u'htype': u'bsr_m-1.0', u'pulse_id': 721719}\n",
        "[-0.24185911220670617, 1.1397512156955385] [1429623877396, 1429623877400] {u'global_timestamp': None, u'hash': u'5e1a48ce6835204474aaaad1c9181958', u'htype': u'bsr_m-1.0', u'pulse_id': 721720}\n",
        "[-0.87548064755306132, 0.42008522496855683] [1429623877406, 1429623877411] {u'global_timestamp': None, u'hash': u'5e1a48ce6835204474aaaad1c9181958', u'htype': u'bsr_m-1.0', u'pulse_id': 721721}\n",
        "[-0.61224977419862403, -0.50192610661949955] [1429623877416, 1429623877421] {u'global_timestamp': None, u'hash': u'5e1a48ce6835204474aaaad1c9181958', u'htype': u'bsr_m-1.0', u'pulse_id': 721722}\n",
        "[0.30582025684590441, -0.77858981287967932] [1429623877425, 1429623877431] {u'global_timestamp': None, u'hash': u'5e1a48ce6835204474aaaad1c9181958', u'htype': u'bsr_m-1.0', u'pulse_id': 721723}\n",
        "[1.034660092935054, -0.15554255817642476] [1429623877435, 1429623877441] {u'global_timestamp': None, u'hash': u'5e1a48ce6835204474aaaad1c9181958', u'htype': u'bsr_m-1.0', u'pulse_id': 721724}\n",
        "[0.90417774998557432, 0.79438888484572034]"
       ]
      },
      {
       "output_type": "stream",
       "stream": "stderr",
       "text": [
        "\u001b[2J\u001b[H\u001b[2J\u001b[H\u001b[2J\u001b[H\u001b[2J\u001b[H\u001b[2J\u001b[H\u001b[2J\u001b[H\u001b[2J\u001b[H"
       ]
      },
      {
       "output_type": "stream",
       "stream": "stdout",
       "text": [
        " [1429623877446, 1429623877451] {u'global_timestamp': None, u'hash': u'5e1a48ce6835204474aaaad1c9181958', u'htype': u'bsr_m-1.0', u'pulse_id': 721725}\n",
        "[0.03433809235506248, 1.1978419283054946] [1429623877455, 1429623877460] {u'global_timestamp': None, u'hash': u'5e1a48ce6835204474aaaad1c9181958', u'htype': u'bsr_m-1.0', u'pulse_id': 721726}\n",
        "[-0.7751323102020955, 0.68388370466501891] [1429623877466, 1429623877471] {u'global_timestamp': None, u'hash': u'5e1a48ce6835204474aaaad1c9181958', u'htype': u'bsr_m-1.0', u'pulse_id': 721727}\n",
        "[-0.78001010263887116, -0.27495496550043924] [1429623877475, 1429623877480] {u'global_timestamp': None, u'hash': u'5e1a48ce6835204474aaaad1c9181958', u'htype': u'bsr_m-1.0', u'pulse_id': 721728}\n",
        "[0.024189334916014743, -0.79712223075183908] [1429623877486, 1429623877490] {u'global_timestamp': None, u'hash': u'5e1a48ce6835204474aaaad1c9181958', u'htype': u'bsr_m-1.0', u'pulse_id': 721729}\n",
        "[0.89808874833032215, -0.40253991551476459]"
       ]
      },
      {
       "output_type": "stream",
       "stream": "stderr",
       "text": [
        "\u001b[2J\u001b[H\u001b[2J\u001b[H\u001b[2J\u001b[H\u001b[2J\u001b[H\u001b[2J\u001b[H\u001b[2J\u001b[H"
       ]
      },
      {
       "output_type": "stream",
       "stream": "stdout",
       "text": [
        " [1429623877496, 1429623877501] {u'global_timestamp': None, u'hash': u'5e1a48ce6835204474aaaad1c9181958', u'htype': u'bsr_m-1.0', u'pulse_id': 721730}\n",
        "[1.0382290471045663, 0.54601481929139628] [1429623877505, 1429623877510] {u'global_timestamp': None, u'hash': u'5e1a48ce6835204474aaaad1c9181958', u'htype': u'bsr_m-1.0', u'pulse_id': 721731}\n",
        "[0.31576588683580709, 1.1764451249701429] [1429623877515, 1429623877521] {u'global_timestamp': None, u'hash': u'5e1a48ce6835204474aaaad1c9181958', u'htype': u'bsr_m-1.0', u'pulse_id': 721732}\n",
        "[-0.60507143473442493, 0.90913628585874773] [1429623877525, 1429623877531] {u'global_timestamp': None, u'hash': u'5e1a48ce6835204474aaaad1c9181958', u'htype': u'bsr_m-1.0', u'pulse_id': 721733}\n",
        "[-0.87766933081334186, -0.010149184121643368] [1429623877535, 1429623877540] {u'global_timestamp': None, u'hash': u'5e1a48ce6835204474aaaad1c9181958', u'htype': u'bsr_m-1.0', u'pulse_id': 721734}\n",
        "[-0.25140255289559443, -0.73622446337321201]"
       ]
      },
      {
       "output_type": "stream",
       "stream": "stderr",
       "text": [
        "\u001b[2J\u001b[H\u001b[2J\u001b[H\u001b[2J\u001b[H\u001b[2J\u001b[H\u001b[2J\u001b[H\u001b[2J\u001b[H\u001b[2J\u001b[H"
       ]
      },
      {
       "output_type": "stream",
       "stream": "stdout",
       "text": [
        " [1429623877545, 1429623877551] {u'global_timestamp': None, u'hash': u'5e1a48ce6835204474aaaad1c9181958', u'htype': u'bsr_m-1.0', u'pulse_id': 721735}\n",
        "[0.69794211157846053, -0.60153928861977302] [1429623877555, 1429623877561] {u'global_timestamp': None, u'hash': u'5e1a48ce6835204474aaaad1c9181958', u'htype': u'bsr_m-1.0', u'pulse_id': 721736}\n",
        "[1.0975415562186079, 0.27007741160286863] [1429623877565, 1429623877571] {u'global_timestamp': None, u'hash': u'5e1a48ce6835204474aaaad1c9181958', u'htype': u'bsr_m-1.0', u'pulse_id': 721737}\n",
        "[0.58000589446995221, 1.0772652627763744] [1429623877575, 1429623877581] {u'global_timestamp': None, u'hash': u'5e1a48ce6835204474aaaad1c9181958', u'htype': u'bsr_m-1.0', u'pulse_id': 721738}\n",
        "[-0.37884497299377973, 1.0778994770693204] [1429623877585, 1429623877590] {u'global_timestamp': None, u'hash': u'5e1a48ce6835204474aaaad1c9181958', u'htype': u'bsr_m-1.0', u'pulse_id': 721739}\n",
        "[-0.89744798059376474, 0.27139696078560149] [1429623877596, 1429623877602] {u'global_timestamp': None, u'hash': u'5e1a48ce6835204474aaaad1c9181958', u'htype': u'bsr_m-1.0', u'pulse_id': 721740}\n",
        "[-0.49900191480288147, -0.60074759198044525]"
       ]
      },
      {
       "output_type": "stream",
       "stream": "stdout",
       "text": [
        " [1429623877605, 1429623877610] {u'global_timestamp': None, u'hash': u'5e1a48ce6835204474aaaad1c9181958', u'htype': u'bsr_m-1.0', u'pulse_id': 721741}\n",
        "[0.4501637490189091, -0.73668850151639131] [1429623877615, 1429623877620] {u'global_timestamp': None, u'hash': u'5e1a48ce6835204474aaaad1c9181958', u'htype': u'bsr_m-1.0', u'pulse_id': 721742}\n",
        "[1.0773904768555798, -0.011442322518512071] [1429623877625, 1429623877630] {u'global_timestamp': None, u'hash': u'5e1a48ce6835204474aaaad1c9181958', u'htype': u'bsr_m-1.0', u'pulse_id': 721743}\n",
        "[0.80600890773835154, 0.90820295268665729] [1429623877635, 1429623877641] {u'global_timestamp': None, u'hash': u'5e1a48ce6835204474aaaad1c9181958', u'htype': u'bsr_m-1.0', u'pulse_id': 721744}\n",
        "[-0.11447399522662355, 1.176729699236964] [1429623877645, 1429623877651] {u'global_timestamp': None, u'hash': u'5e1a48ce6835204474aaaad1c9181958', u'htype': u'bsr_m-1.0', u'pulse_id': 721745}\n",
        "[-0.83777049607774579, 0.54725566472859533] [1429623877656, 1429623877660] {u'global_timestamp': None, u'hash': u'5e1a48ce6835204474aaaad1c9181958', u'htype': u'bsr_m-1.0', u'pulse_id': 721746}\n",
        "[-0.69888512758520716, -0.40148362647969676]"
       ]
      },
      {
       "output_type": "stream",
       "stream": "stderr",
       "text": [
        "\u001b[2J\u001b[H\u001b[2J\u001b[H\u001b[2J\u001b[H\u001b[2J\u001b[H\u001b[2J\u001b[H\u001b[2J\u001b[H\u001b[2J\u001b[H"
       ]
      },
      {
       "output_type": "stream",
       "stream": "stdout",
       "text": [
        " [1429623877666, 1429623877671] {u'global_timestamp': None, u'hash': u'5e1a48ce6835204474aaaad1c9181958', u'htype': u'bsr_m-1.0', u'pulse_id': 721747}\n",
        "[0.17449154296164504, -0.79722164538641738] [1429623877676, 1429623877681] {u'global_timestamp': None, u'hash': u'5e1a48ce6835204474aaaad1c9181958', u'htype': u'bsr_m-1.0', u'pulse_id': 721748}\n",
        "[0.97938103244491181, -0.27611868244810645] [1429623877685, 1429623877691] {u'global_timestamp': None, u'hash': u'5e1a48ce6835204474aaaad1c9181958', u'htype': u'bsr_m-1.0', u'pulse_id': 721749}\n",
        "[0.97577165617173756, 0.68272560139919225] [1429623877695, 1429623877701] {u'global_timestamp': None, u'hash': u'5e1a48ce6835204474aaaad1c9181958', u'htype': u'bsr_m-1.0', u'pulse_id': 721750}\n",
        "[0.16698185804218696, 1.1977541935232427] [1429623877705, 1429623877711] {u'global_timestamp': None, u'hash': u'5e1a48ce6835204474aaaad1c9181958', u'htype': u'bsr_m-1.0', u'pulse_id': 721751}\n",
        "[-0.70339075146868557, 0.79545218150123587]"
       ]
      },
      {
       "output_type": "stream",
       "stream": "stderr",
       "text": [
        "\u001b[2J\u001b[H\u001b[2J\u001b[H\u001b[2J\u001b[H\u001b[2J\u001b[H\u001b[2J\u001b[H\u001b[2J\u001b[H"
       ]
      },
      {
       "output_type": "stream",
       "stream": "stdout",
       "text": [
        " [1429623877716, 1429623877721] {u'global_timestamp': None, u'hash': u'5e1a48ce6835204474aaaad1c9181958', u'htype': u'bsr_m-1.0', u'pulse_id': 721752}\n",
        "[-0.8351296091055237, -0.154305820124579] [1429623877725, 1429623877730] {u'global_timestamp': None, u'hash': u'5e1a48ce6835204474aaaad1c9181958', u'htype': u'bsr_m-1.0', u'pulse_id': 721753}\n",
        "[-0.10711461670188763, -0.77831668469286064] [1429623877735, 1429623877740] {u'global_timestamp': None, u'hash': u'5e1a48ce6835204474aaaad1c9181958', u'htype': u'bsr_m-1.0', u'pulse_id': 721754}\n",
        "[0.81132059913947208, -0.50286770109307377] [1429623877746, 1429623877750] {u'global_timestamp': None, u'hash': u'5e1a48ce6835204474aaaad1c9181958', u'htype': u'bsr_m-1.0', u'pulse_id': 721755}\n",
        "[1.0757709365550145, 0.41879460545120839] [1429623877755, 1429623877761] {u'global_timestamp': None, u'hash': u'5e1a48ce6835204474aaaad1c9181958', u'htype': u'bsr_m-1.0', u'pulse_id': 721756}\n",
        "[0.44310197490010517, 1.1392981607666692] [1429623877765, 1429623877770] {u'global_timestamp': None, u'hash': u'5e1a48ce6835204474aaaad1c9181958', u'htype': u'bsr_m-1.0', u'pulse_id': 721757}\n",
        "[-0.50501336018213572, 0.99621531886865977]"
       ]
      },
      {
       "output_type": "stream",
       "stream": "stderr",
       "text": [
        "\u001b[2J\u001b[H\u001b[2J\u001b[H\u001b[2J\u001b[H\u001b[2J\u001b[H\u001b[2J\u001b[H\u001b[2J\u001b[H\u001b[2J\u001b[H"
       ]
      },
      {
       "output_type": "stream",
       "stream": "stdout",
       "text": [
        " [1429623877775, 1429623877780] {u'global_timestamp': None, u'hash': u'5e1a48ce6835204474aaaad1c9181958', u'htype': u'bsr_m-1.0', u'pulse_id': 721758}\n",
        "[-0.8968822020749837, 0.12109578473787665] [1429623877786, 1429623877791] {u'global_timestamp': None, u'hash': u'5e1a48ce6835204474aaaad1c9181958', u'htype': u'bsr_m-1.0', u'pulse_id': 721759}\n",
        "[-0.37222214473790927, -0.68147957776634227] [1429623877795, 1429623877800] {u'global_timestamp': None, u'hash': u'5e1a48ce6835204474aaaad1c9181958', u'htype': u'bsr_m-1.0', u'pulse_id': 721760}\n",
        "[0.58659677470720206, -0.67362668162353456] [1429623877806, 1429623877811] {u'global_timestamp': None, u'hash': u'5e1a48ce6835204474aaaad1c9181958', u'htype': u'bsr_m-1.0', u'pulse_id': 721761}\n",
        "[1.0980408635425112, 0.13743455666808863] [1429623877815, 1429623877820] {u'global_timestamp': None, u'hash': u'5e1a48ce6835204474aaaad1c9181958', u'htype': u'bsr_m-1.0', u'pulse_id': 721762}\n",
        "[0.69189078513809421, 1.0060181750237462]"
       ]
      },
      {
       "output_type": "stream",
       "stream": "stderr",
       "text": [
        "\u001b[2J\u001b[H\u001b[2J\u001b[H\u001b[2J\u001b[H\u001b[2J\u001b[H\u001b[2J\u001b[H\u001b[2J\u001b[H"
       ]
      },
      {
       "output_type": "stream",
       "stream": "stdout",
       "text": [
        " [1429623877825, 1429623877830] {u'global_timestamp': None, u'hash': u'5e1a48ce6835204474aaaad1c9181958', u'htype': u'bsr_m-1.0', u'pulse_id': 721763}\n",
        "[-0.25844095147807922, 1.1335524004058311] [1429623877836, 1429623877841] {u'global_timestamp': None, u'hash': u'5e1a48ce6835204474aaaad1c9181958', u'htype': u'bsr_m-1.0', u'pulse_id': 721764}\n",
        "[-0.87922373034044665, 0.40278285415226867] [1429623877845, 1429623877850] {u'global_timestamp': None, u'hash': u'5e1a48ce6835204474aaaad1c9181958', u'htype': u'bsr_m-1.0', u'pulse_id': 721765}\n",
        "[-0.5997127274494104, -0.5144243130278443] [1429623877855, 1429623877861] {u'global_timestamp': None, u'hash': u'5e1a48ce6835204474aaaad1c9181958', u'htype': u'bsr_m-1.0', u'pulse_id': 721766}\n",
        "[0.32311093016804349, -0.77479306154668048] [1429623877865, 1429623877871] {u'global_timestamp': None, u'hash': u'5e1a48ce6835204474aaaad1c9181958', u'htype': u'bsr_m-1.0', u'pulse_id': 721767}\n",
        "[1.0408074275177692, -0.13894156476802555] [1429623877876, 1429623877880] {u'global_timestamp': None, u'hash': u'5e1a48ce6835204474aaaad1c9181958', u'htype': u'bsr_m-1.0', u'pulse_id': 721768}\n",
        "[0.89352991476340327, 0.80853124354924133]"
       ]
      },
      {
       "output_type": "stream",
       "stream": "stderr",
       "text": [
        "\u001b[2J\u001b[H\u001b[2J\u001b[H\u001b[2J\u001b[H\u001b[2J\u001b[H\u001b[2J\u001b[H\u001b[2J\u001b[H"
       ]
      },
      {
       "output_type": "stream",
       "stream": "stdout",
       "text": [
        " [1429623877886, 1429623877891] {u'global_timestamp': None, u'hash': u'5e1a48ce6835204474aaaad1c9181958', u'htype': u'bsr_m-1.0', u'pulse_id': 721769}\n",
        "[0.016684657926261212, 1.1965232329329487] [1429623877895, 1429623877901] {u'global_timestamp': None, u'hash': u'5e1a48ce6835204474aaaad1c9181958', u'htype': u'bsr_m-1.0', u'pulse_id': 721770}\n",
        "[-0.78356085763667105, 0.66831635766044972] [1429623877906, 1429623877911] {u'global_timestamp': None, u'hash': u'5e1a48ce6835204474aaaad1c9181958', u'htype': u'bsr_m-1.0', u'pulse_id': 721771}\n",
        "[-0.77146459543811019, -0.29045841709352982] [1429623877916, 1429623877921] {u'global_timestamp': None, u'hash': u'5e1a48ce6835204474aaaad1c9181958', u'htype': u'bsr_m-1.0', u'pulse_id': 721772}\n",
        "[0.041852196841358158, -0.79830798503659373] [1429623877926, 1429623877930] {u'global_timestamp': None, u'hash': u'5e1a48ce6835204474aaaad1c9181958', u'htype': u'bsr_m-1.0', u'pulse_id': 721773}\n",
        "[0.90862981118254849, -0.38831779547016593]"
       ]
      },
      {
       "output_type": "stream",
       "stream": "stderr",
       "text": [
        "\u001b[2J\u001b[H\u001b[2J\u001b[H\u001b[2J\u001b[H\u001b[2J\u001b[H\u001b[2J\u001b[H\u001b[2J\u001b[H\u001b[2J\u001b[H"
       ]
      },
      {
       "output_type": "stream",
       "stream": "stdout",
       "text": [
        " [1429623877935, 1429623877940] {u'global_timestamp': None, u'hash': u'5e1a48ce6835204474aaaad1c9181958', u'htype': u'bsr_m-1.0', u'pulse_id': 721774}\n",
        "[1.0319569063099405, 0.56256906208501123] [1429623877946, 1429623877950] {u'global_timestamp': None, u'hash': u'5e1a48ce6835204474aaaad1c9181958', u'htype': u'bsr_m-1.0', u'pulse_id': 721775}\n",
        "[0.29844711971544902, 1.1801115960321265] [1429623877955, 1429623877960] {u'global_timestamp': None, u'hash': u'5e1a48ce6835204474aaaad1c9181958', u'htype': u'bsr_m-1.0', u'pulse_id': 721776}\n",
        "[-0.61751403355964485, 0.89654404860351011] [1429623877965, 1429623877970] {u'global_timestamp': None, u'hash': u'5e1a48ce6835204474aaaad1c9181958', u'htype': u'bsr_m-1.0', u'pulse_id': 721777}\n",
        "[-0.87379609336550079, -0.027422884833714356] [1429623877975, 1429623877980] {u'global_timestamp': None, u'hash': u'5e1a48ce6835204474aaaad1c9181958', u'htype': u'bsr_m-1.0', u'pulse_id': 721778}\n",
        "[-0.23477451582188788, -0.74229826676919042] [1429623877986, 1429623877990] {u'global_timestamp': None, u'hash': u'5e1a48ce6835204474aaaad1c9181958', u'htype': u'bsr_m-1.0', u'pulse_id': 721779}\n",
        "[0.71203720767658862, -0.59082896786817574]"
       ]
      },
      {
       "output_type": "stream",
       "stream": "stdout",
       "text": [
        " [1429623877995, 1429623878000] {u'global_timestamp': None, u'hash': u'5e1a48ce6835204474aaaad1c9181958', u'htype': u'bsr_m-1.0', u'pulse_id': 721780}\n",
        "[1.0961447449914046, 0.28772483699619777] [1429623878006, 1429623878010] {u'global_timestamp': None, u'hash': u'5e1a48ce6835204474aaaad1c9181958', u'htype': u'bsr_m-1.0', u'pulse_id': 721781}\n",
        "[0.56440139771798314, 1.0856248312900805] [1429623878016, 1429623878021] {u'global_timestamp': None, u'hash': u'5e1a48ce6835204474aaaad1c9181958', u'htype': u'bsr_m-1.0', u'pulse_id': 721782}\n",
        "[-0.39431045292057787, 1.0692854399640277] [1429623878025, 1429623878031] {u'global_timestamp': None, u'hash': u'5e1a48ce6835204474aaaad1c9181958', u'htype': u'bsr_m-1.0', u'pulse_id': 721783}\n",
        "[-0.89855555277340871, 0.25372902405024844] [1429623878035, 1429623878041] {u'global_timestamp': None, u'hash': u'5e1a48ce6835204474aaaad1c9181958', u'htype': u'bsr_m-1.0', u'pulse_id': 721784}\n",
        "[-0.48473328248123737, -0.61122560879123977]"
       ]
      },
      {
       "output_type": "stream",
       "stream": "stderr",
       "text": [
        "\u001b[2J\u001b[H\u001b[2J\u001b[H\u001b[2J\u001b[H\u001b[2J\u001b[H\u001b[2J\u001b[H\u001b[2J\u001b[H"
       ]
      },
      {
       "output_type": "stream",
       "stream": "stdout",
       "text": [
        " [1429623878045, 1429623878050] {u'global_timestamp': None, u'hash': u'5e1a48ce6835204474aaaad1c9181958', u'htype': u'bsr_m-1.0', u'pulse_id': 721785}\n",
        "[0.46669007108849103, -0.73034315806863304] [1429623878056, 1429623878060] {u'global_timestamp': None, u'hash': u'5e1a48ce6835204474aaaad1c9181958', u'htype': u'bsr_m-1.0', u'pulse_id': 721786}\n",
        "[1.0809802643773649, 0.0058925016849805945] [1429623878065, 1429623878071] {u'global_timestamp': None, u'hash': u'5e1a48ce6835204474aaaad1c9181958', u'htype': u'bsr_m-1.0', u'pulse_id': 721787}\n",
        "[0.79336172661996407, 0.92058970021683084] [1429623878075, 1429623878081] {u'global_timestamp': None, u'hash': u'5e1a48ce6835204474aaaad1c9181958', u'htype': u'bsr_m-1.0', u'pulse_id': 721788}\n",
        "[-0.13173038499040229, 1.1727800515389899] [1429623878085, 1429623878090] {u'global_timestamp': None, u'hash': u'5e1a48ce6835204474aaaad1c9181958', u'htype': u'bsr_m-1.0', u'pulse_id': 721789}\n",
        "[-0.84377064932001633, 0.53060090968125728] [1429623878095, 1429623878101] {u'global_timestamp': None, u'hash': u'5e1a48ce6835204474aaaad1c9181958', u'htype': u'bsr_m-1.0', u'pulse_id': 721790}\n",
        "[-0.68811253108615034, -0.41553118389321414]"
       ]
      },
      {
       "output_type": "stream",
       "stream": "stderr",
       "text": [
        "\u001b[2J\u001b[H\u001b[2J\u001b[H\u001b[2J\u001b[H\u001b[2J\u001b[H\u001b[2J\u001b[H\u001b[2J\u001b[H\u001b[2J\u001b[H"
       ]
      },
      {
       "output_type": "stream",
       "stream": "stdout",
       "text": [
        " [1429623878105, 1429623878110] {u'global_timestamp': None, u'hash': u'5e1a48ce6835204474aaaad1c9181958', u'htype': u'bsr_m-1.0', u'pulse_id': 721791}\n",
        "[0.19213261366117046, -0.79574674566375636] [1429623878115, 1429623878121] {u'global_timestamp': None, u'hash': u'5e1a48ce6835204474aaaad1c9181958', u'htype': u'bsr_m-1.0', u'pulse_id': 721792}\n",
        "[0.98767145829972791, -0.26047734159243308] [1429623878126, 1429623878130] {u'global_timestamp': None, u'hash': u'5e1a48ce6835204474aaaad1c9181958', u'htype': u'bsr_m-1.0', u'pulse_id': 721793}\n",
        "[0.96708925788418409, 0.69815280673891111] [1429623878135, 1429623878141] {u'global_timestamp': None, u'hash': u'5e1a48ce6835204474aaaad1c9181958', u'htype': u'bsr_m-1.0', u'pulse_id': 721794}\n",
        "[0.14930919255690944, 1.198783561903872] [1429623878145, 1429623878150] {u'global_timestamp': None, u'hash': u'5e1a48ce6835204474aaaad1c9181958', u'htype': u'bsr_m-1.0', u'pulse_id': 721795}\n",
        "[-0.71380551700619554, 0.78113731638080064]"
       ]
      },
      {
       "output_type": "stream",
       "stream": "stderr",
       "text": [
        "\u001b[2J\u001b[H\u001b[2J\u001b[H\u001b[2J\u001b[H\u001b[2J\u001b[H\u001b[2J\u001b[H\u001b[2J\u001b[H"
       ]
      },
      {
       "output_type": "stream",
       "stream": "stdout",
       "text": [
        " [1429623878155, 1429623878160] {u'global_timestamp': None, u'hash': u'5e1a48ce6835204474aaaad1c9181958', u'htype': u'bsr_m-1.0', u'pulse_id': 721796}\n",
        "[-0.82871118729023152, -0.17080389777073346] [1429623878165, 1429623878171] {u'global_timestamp': None, u'hash': u'5e1a48ce6835204474aaaad1c9181958', u'htype': u'bsr_m-1.0', u'pulse_id': 721797}\n",
        "[-0.089764074950704154, -0.78182971836164317] [1429623878175, 1429623878180] {u'global_timestamp': None, u'hash': u'5e1a48ce6835204474aaaad1c9181958', u'htype': u'bsr_m-1.0', u'pulse_id': 721798}\n",
        "[0.82365125275663154, -0.49016582383059054] [1429623878186, 1429623878191] {u'global_timestamp': None, u'hash': u'5e1a48ce6835204474aaaad1c9181958', u'htype': u'bsr_m-1.0', u'pulse_id': 721799}\n",
        "[1.0717449559682564, 0.43603334626753848] [1429623878196, 1429623878200] {u'global_timestamp': None, u'hash': u'5e1a48ce6835204474aaaad1c9181958', u'htype': u'bsr_m-1.0', u'pulse_id': 721800}\n",
        "[0.42642082809413395, 1.1452245463308388] [1429623878206, 1429623878211] {u'global_timestamp': None, u'hash': u'5e1a48ce6835204474aaaad1c9181958', u'htype': u'bsr_m-1.0', u'pulse_id': 721801}\n",
        "[-0.51901310376295984, 0.98538065762389837]"
       ]
      },
      {
       "output_type": "stream",
       "stream": "stderr",
       "text": [
        "\u001b[2J\u001b[H\u001b[2J\u001b[H\u001b[2J\u001b[H\u001b[2J\u001b[H\u001b[2J\u001b[H\u001b[2J\u001b[H"
       ]
      },
      {
       "output_type": "stream",
       "stream": "stdout",
       "text": [
        " [1429623878215, 1429623878221] {u'global_timestamp': None, u'hash': u'5e1a48ce6835204474aaaad1c9181958', u'htype': u'bsr_m-1.0', u'pulse_id': 721802}\n",
        "[-0.89532924274557646, 0.10346141426601781] [1429623878226, 1429623878230] {u'global_timestamp': None, u'hash': u'5e1a48ce6835204474aaaad1c9181958', u'htype': u'bsr_m-1.0', u'pulse_id': 721803}\n",
        "[-0.35654426614388879, -0.68970069857853766] [1429623878235, 1429623878241] {u'global_timestamp': None, u'hash': u'5e1a48ce6835204474aaaad1c9181958', u'htype': u'bsr_m-1.0', u'pulse_id': 721804}\n",
        "[0.60198540328873484, -0.66487609221497523] [1429623878246, 1429623878250] {u'global_timestamp': None, u'hash': u'5e1a48ce6835204474aaaad1c9181958', u'htype': u'bsr_m-1.0', u'pulse_id': 721805}\n",
        "[1.0989920079619917, 0.15511160475058391] [1429623878256, 1429623878261] {u'global_timestamp': None, u'hash': u'5e1a48ce6835204474aaaad1c9181958', u'htype': u'bsr_m-1.0', u'pulse_id': 721806}\n",
        "[0.67752996760267936, 1.0163694852950151]"
       ]
      },
      {
       "output_type": "stream",
       "stream": "stderr",
       "text": [
        "\u001b[2J\u001b[H\u001b[2J\u001b[H\u001b[2J\u001b[H\u001b[2J\u001b[H\u001b[2J\u001b[H\u001b[2J\u001b[H\u001b[2J\u001b[H"
       ]
      },
      {
       "output_type": "stream",
       "stream": "stdout",
       "text": [
        " [1429623878266, 1429623878271] {u'global_timestamp': None, u'hash': u'5e1a48ce6835204474aaaad1c9181958', u'htype': u'bsr_m-1.0', u'pulse_id': 721807}\n",
        "[-0.27491046155463228, 1.1270610259399823] [1429623878275, 1429623878280] {u'global_timestamp': None, u'hash': u'5e1a48ce6835204474aaaad1c9181958', u'htype': u'bsr_m-1.0', u'pulse_id': 721808}\n",
        "[-0.88265994134679227, 0.38541693469669625] [1429623878286, 1429623878291] {u'global_timestamp': None, u'hash': u'5e1a48ce6835204474aaaad1c9181958', u'htype': u'bsr_m-1.0', u'pulse_id': 721809}\n",
        "[-0.58695640283321315, -0.52669863121272775] [1429623878296, 1429623878300] {u'global_timestamp': None, u'hash': u'5e1a48ce6835204474aaaad1c9181958', u'htype': u'bsr_m-1.0', u'pulse_id': 721810}\n",
        "[0.34033168438345673, -0.77069082692761159] [1429623878305, 1429623878311] {u'global_timestamp': None, u'hash': u'5e1a48ce6835204474aaaad1c9181958', u'htype': u'bsr_m-1.0', u'pulse_id': 721811}\n",
        "[1.0466599293243244, -0.12223435293535201] [1429623878316, 1429623878321] {u'global_timestamp': None, u'hash': u'5e1a48ce6835204474aaaad1c9181958', u'htype': u'bsr_m-1.0', u'pulse_id': 721812}\n",
        "[0.88263340099034859, 0.8224828990858144]"
       ]
      },
      {
       "output_type": "stream",
       "stream": "stderr",
       "text": [
        "\u001b[2J\u001b[H\u001b[2J\u001b[H\u001b[2J\u001b[H\u001b[2J\u001b[H\u001b[2J\u001b[H\u001b[2J\u001b[H"
       ]
      },
      {
       "output_type": "stream",
       "stream": "stdout",
       "text": [
        " [1429623878326, 1429623878330] {u'global_timestamp': None, u'hash': u'5e1a48ce6835204474aaaad1c9181958', u'htype': u'bsr_m-1.0', u'pulse_id': 721813}\n",
        "[-0.00094266691530485447, 1.1948922444144521] [1429623878335, 1429623878341] {u'global_timestamp': None, u'hash': u'5e1a48ce6835204474aaaad1c9181958', u'htype': u'bsr_m-1.0', u'pulse_id': 721814}\n",
        "[-0.7917125123799863, 0.65260224840910031] [1429623878345, 1429623878350] {u'global_timestamp': None, u'hash': u'5e1a48ce6835204474aaaad1c9181958', u'htype': u'bsr_m-1.0', u'pulse_id': 721815}\n",
        "[-0.76264598630545244, -0.30580816750136924] [1429623878356, 1429623878360] {u'global_timestamp': None, u'hash': u'5e1a48ce6835204474aaaad1c9181958', u'htype': u'bsr_m-1.0', u'pulse_id': 721816}\n",
        "[0.059533281282522985, -0.79918088686495636] [1429623878365, 1429623878371] {u'global_timestamp': None, u'hash': u'5e1a48ce6835204474aaaad1c9181958', u'htype': u'bsr_m-1.0', u'pulse_id': 721817}\n",
        "[0.91891746343751191, -0.3739113068036482]"
       ]
      },
      {
       "output_type": "stream",
       "stream": "stdout",
       "text": [
        " [1429623878376, 1429623878381] {u'global_timestamp': None, u'hash': u'5e1a48ce6835204474aaaad1c9181958', u'htype': u'bsr_m-1.0', u'pulse_id': 721818}\n",
        "[1.0253927063394284, 0.5790096820053392] [1429623878386, 1429623878391] {u'global_timestamp': None, u'hash': u'5e1a48ce6835204474aaaad1c9181958', u'htype': u'bsr_m-1.0', u'pulse_id': 721819}\n",
        "[0.28106616269999096, 1.1834709170713187] [1429623878396, 1429623878401] {u'global_timestamp': None, u'hash': u'5e1a48ce6835204474aaaad1c9181958', u'htype': u'bsr_m-1.0', u'pulse_id': 721820}\n",
        "[-0.6297317758964267, 0.88373352649043557] [1429623878406, 1429623878411] {u'global_timestamp': None, u'hash': u'5e1a48ce6835204474aaaad1c9181958', u'htype': u'bsr_m-1.0', u'pulse_id': 721821}\n",
        "[-0.86961768506417481, -0.044625315147044237] [1429623878416, 1429623878421] {u'global_timestamp': None, u'hash': u'5e1a48ce6835204474aaaad1c9181958', u'htype': u'bsr_m-1.0', u'pulse_id': 721822}\n",
        "[-0.21804156620497597, -0.74807677018577245] [1429623878425, 1429623878430] {u'global_timestamp': None, u'hash': u'5e1a48ce6835204474aaaad1c9181958', u'htype': u'bsr_m-1.0', u'pulse_id': 721823}\n",
        "[0.72594050189924852, -0.57987081499573812]"
       ]
      },
      {
       "output_type": "stream",
       "stream": "stderr",
       "text": [
        "\u001b[2J\u001b[H\u001b[2J\u001b[H\u001b[2J\u001b[H\u001b[2J\u001b[H\u001b[2J\u001b[H\u001b[2J\u001b[H\u001b[2J\u001b[H"
       ]
      },
      {
       "output_type": "stream",
       "stream": "stdout",
       "text": [
        " [1429623878436, 1429623878441] {u'global_timestamp': None, u'hash': u'5e1a48ce6835204474aaaad1c9181958', u'htype': u'bsr_m-1.0', u'pulse_id': 721824}\n",
        "[1.0944357592298253, 0.30534477094284695] [1429623878445, 1429623878450] {u'global_timestamp': None, u'hash': u'5e1a48ce6835204474aaaad1c9181958', u'htype': u'bsr_m-1.0', u'pulse_id': 721825}\n",
        "[0.54865136559996919, 1.0937068602988806] [1429623878455, 1429623878461] {u'global_timestamp': None, u'hash': u'5e1a48ce6835204474aaaad1c9181958', u'htype': u'bsr_m-1.0', u'pulse_id': 721826}\n",
        "[-0.40962102450071913, 1.0603989838364742] [1429623878465, 1429623878471] {u'global_timestamp': None, u'hash': u'5e1a48ce6835204474aaaad1c9181958', u'htype': u'bsr_m-1.0', u'pulse_id': 721827}\n",
        "[-0.89935019491321366, 0.23604424956802203] [1429623878476, 1429623878480] {u'global_timestamp': None, u'hash': u'5e1a48ce6835204474aaaad1c9181958', u'htype': u'bsr_m-1.0', u'pulse_id': 721828}\n",
        "[-0.47028140486204928, -0.62144940152669625]"
       ]
      },
      {
       "output_type": "stream",
       "stream": "stderr",
       "text": [
        "\u001b[2J\u001b[H\u001b[2J\u001b[H\u001b[2J\u001b[H\u001b[2J\u001b[H\u001b[2J\u001b[H\u001b[2J\u001b[H"
       ]
      },
      {
       "output_type": "stream",
       "stream": "stdout",
       "text": [
        " [1429623878486, 1429623878490] {u'global_timestamp': None, u'hash': u'5e1a48ce6835204474aaaad1c9181958', u'htype': u'bsr_m-1.0', u'pulse_id': 721829}\n",
        "[0.48310147883183885, -0.72370626116577674] [1429623878496, 1429623878500] {u'global_timestamp': None, u'hash': u'5e1a48ce6835204474aaaad1c9181958', u'htype': u'bsr_m-1.0', u'pulse_id': 721830}\n",
        "[1.0842626296507232, 0.02328815582128177] [1429623878506, 1429623878511] {u'global_timestamp': None, u'hash': u'5e1a48ce6835204474aaaad1c9181958', u'htype': u'bsr_m-1.0', u'pulse_id': 721831}\n",
        "[0.78049725792841007, 0.93275062739783099] [1429623878515, 1429623878521] {u'global_timestamp': None, u'hash': u'5e1a48ce6835204474aaaad1c9181958', u'htype': u'bsr_m-1.0', u'pulse_id': 721832}\n",
        "[-0.14891415445939066, 1.1685255513974666] [1429623878526, 1429623878531] {u'global_timestamp': None, u'hash': u'5e1a48ce6835204474aaaad1c9181958', u'htype': u'bsr_m-1.0', u'pulse_id': 721833}\n",
        "[-0.84947504116366424, 0.51384255002669432]"
       ]
      },
      {
       "output_type": "stream",
       "stream": "stderr",
       "text": [
        "\u001b[2J\u001b[H\u001b[2J\u001b[H\u001b[2J\u001b[H\u001b[2J\u001b[H\u001b[2J\u001b[H\u001b[2J\u001b[H\u001b[2J\u001b[H"
       ]
      },
      {
       "output_type": "stream",
       "stream": "stdout",
       "text": [
        " [1429623878536, 1429623878540] {u'global_timestamp': None, u'hash': u'5e1a48ce6835204474aaaad1c9181958', u'htype': u'bsr_m-1.0', u'pulse_id': 721834}\n",
        "[-0.67709295375055867, -0.4293858444795467] [1429623878546, 1429623878551] {u'global_timestamp': None, u'hash': u'5e1a48ce6835204474aaaad1c9181958', u'htype': u'bsr_m-1.0', u'pulse_id': 721835}\n",
        "[0.20974481159304326, -0.7939597961328253] [1429623878555, 1429623878561] {u'global_timestamp': None, u'hash': u'5e1a48ce6835204474aaaad1c9181958', u'htype': u'bsr_m-1.0', u'pulse_id': 721836}\n",
        "[0.99568370327213029, -0.24469169510203637] [1429623878566, 1429623878571] {u'global_timestamp': None, u'hash': u'5e1a48ce6835204474aaaad1c9181958', u'htype': u'bsr_m-1.0', u'pulse_id': 721837}\n",
        "[0.95813512881984997, 0.71342389960474129] [1429623878576, 1429623878581] {u'global_timestamp': None, u'hash': u'5e1a48ce6835204474aaaad1c9181958', u'htype': u'bsr_m-1.0', u'pulse_id': 721838}\n",
        "[0.13162107442350587, 1.1994999287905443] [1429623878585, 1429623878591] {u'global_timestamp': None, u'hash': u'5e1a48ce6835204474aaaad1c9181958', u'htype': u'bsr_m-1.0', u'pulse_id': 721839}\n",
        "[-0.72396524996975353, 0.76664033287640376]"
       ]
      },
      {
       "output_type": "stream",
       "stream": "stderr",
       "text": [
        "\u001b[2J\u001b[H\u001b[2J\u001b[H\u001b[2J\u001b[H\u001b[2J\u001b[H\u001b[2J\u001b[H\u001b[2J\u001b[H"
       ]
      },
      {
       "output_type": "stream",
       "stream": "stdout",
       "text": [
        " [1429623878595, 1429623878601] {u'global_timestamp': None, u'hash': u'5e1a48ce6835204474aaaad1c9181958', u'htype': u'bsr_m-1.0', u'pulse_id': 721840}\n",
        "[-0.82200172345125777, -0.18718577188852181] [1429623878605, 1429623878611] {u'global_timestamp': None, u'hash': u'5e1a48ce6835204474aaaad1c9181958', u'htype': u'bsr_m-1.0', u'pulse_id': 721841}\n",
        "[-0.072354064420473402, -0.78503506357781161] [1429623878615, 1429623878620] {u'global_timestamp': None, u'hash': u'5e1a48ce6835204474aaaad1c9181958', u'htype': u'bsr_m-1.0', u'pulse_id': 721842}\n",
        "[0.83575512658700235, -0.47724766053560058] [1429623878625, 1429623878630] {u'global_timestamp': None, u'hash': u'5e1a48ce6835204474aaaad1c9181958', u'htype': u'bsr_m-1.0', u'pulse_id': 721843}\n",
        "[1.0674144473189984, 0.45319811831543533] [1429623878636, 1429623878640] {u'global_timestamp': None, u'hash': u'5e1a48ce6835204474aaaad1c9181958', u'htype': u'bsr_m-1.0', u'pulse_id': 721844}\n",
        "[0.40963738664621108, 1.1508547148702082]"
       ]
      },
      {
       "output_type": "stream",
       "stream": "stderr",
       "text": [
        "\u001b[2J\u001b[H\u001b[2J\u001b[H\u001b[2J\u001b[H\u001b[2J\u001b[H\u001b[2J\u001b[H\u001b[2J\u001b[H\u001b[2J\u001b[H"
       ]
      },
      {
       "output_type": "stream",
       "stream": "stdout",
       "text": [
        " [1429623878646, 1429623878651] {u'global_timestamp': None, u'hash': u'5e1a48ce6835204474aaaad1c9181958', u'htype': u'bsr_m-1.0', u'pulse_id': 721845}\n",
        "[-0.53281885934313311, 0.97429987166449661] [1429623878655, 1429623878660] {u'global_timestamp': None, u'hash': u'5e1a48ce6835204474aaaad1c9181958', u'htype': u'bsr_m-1.0', u'pulse_id': 721846}\n",
        "[-0.89346436444609267, 0.085857297317256248] [1429623878665, 1429623878671] {u'global_timestamp': None, u'hash': u'5e1a48ce6835204474aaaad1c9181958', u'htype': u'bsr_m-1.0', u'pulse_id': 721847}\n",
        "[-0.34072331447296644, -0.69764300257951262] [1429623878675, 1429623878680] {u'global_timestamp': None, u'hash': u'5e1a48ce6835204474aaaad1c9181958', u'htype': u'bsr_m-1.0', u'pulse_id': 721848}\n",
        "[0.6172167183269065, -0.65585446559747851] [1429623878686, 1429623878690] {u'global_timestamp': None, u'hash': u'5e1a48ce6835204474aaaad1c9181958', u'htype': u'bsr_m-1.0', u'pulse_id': 721849}\n",
        "[1.0996300855641259, 0.17280272007978842] [1429623878696, 1429623878700] {u'global_timestamp': None, u'hash': u'5e1a48ce6835204474aaaad1c9181958', u'htype': u'bsr_m-1.0', u'pulse_id': 721850}\n",
        "[0.66298816216401946, 1.0264649594890154]"
       ]
      },
      {
       "output_type": "stream",
       "stream": "stdout",
       "text": [
        " [1429623878706, 1429623878711] {u'global_timestamp': None, u'hash': u'5e1a48ce6835204474aaaad1c9181958', u'htype': u'bsr_m-1.0', u'pulse_id': 721851}\n",
        "[-0.29126248117675402, 1.120279126582479] [1429623878715, 1429623878721] {u'global_timestamp': None, u'hash': u'5e1a48ce6835204474aaaad1c9181958', u'htype': u'bsr_m-1.0', u'pulse_id': 721852}\n",
        "[-0.88578820372299916, 0.36799290878064667] [1429623878725, 1429623878732] {u'global_timestamp': None, u'hash': u'5e1a48ce6835204474aaaad1c9181958', u'htype': u'bsr_m-1.0', u'pulse_id': 721853}\n",
        "[-0.57398479796154178, -0.53874521461511993] [1429623878736, 1429623878740] {u'global_timestamp': None, u'hash': u'5e1a48ce6835204474aaaad1c9181958', u'htype': u'bsr_m-1.0', u'pulse_id': 721854}\n",
        "[0.35747712280561261, -0.76628439459185271] [1429623878746, 1429623878751] {u'global_timestamp': None, u'hash': u'5e1a48ce6835204474aaaad1c9181958', u'htype': u'bsr_m-1.0', u'pulse_id': 721855}\n",
        "[1.0522157642818752, -0.10542615842963493] [1429623878755, 1429623878761] {u'global_timestamp': None, u'hash': u'5e1a48ce6835204474aaaad1c9181958', u'htype': u'bsr_m-1.0', u'pulse_id': 721856}\n",
        "[0.87149162344536757, 0.83623947924789377]"
       ]
      },
      {
       "output_type": "stream",
       "stream": "stderr",
       "text": [
        "\u001b[2J\u001b[H\u001b[2J\u001b[H\u001b[2J\u001b[H\u001b[2J\u001b[H\u001b[2J\u001b[H\u001b[2J\u001b[H\u001b[2J\u001b[H"
       ]
      },
      {
       "output_type": "stream",
       "stream": "stdout",
       "text": [
        " [1429623878765, 1429623878771] {u'global_timestamp': None, u'hash': u'5e1a48ce6835204474aaaad1c9181958', u'htype': u'bsr_m-1.0', u'pulse_id': 721857}\n",
        "[-0.018538358070901692, 1.1929494738735977] [1429623878775, 1429623878781] {u'global_timestamp': None, u'hash': u'5e1a48ce6835204474aaaad1c9181958', u'htype': u'bsr_m-1.0', u'pulse_id': 721858}\n",
        "[-0.79958471984443047, 0.6367463014410284] [1429623878785, 1429623878792] {u'global_timestamp': None, u'hash': u'5e1a48ce6835204474aaaad1c9181958', u'htype': u'bsr_m-1.0', u'pulse_id': 721859}\n",
        "[-0.75355703884047875, -0.32099940637765928] [1429623878795, 1429623878801] {u'global_timestamp': None, u'hash': u'5e1a48ce6835204474aaaad1c9181958', u'htype': u'bsr_m-1.0', u'pulse_id': 721860}\n",
        "[0.07722704729344651, -0.79974066268459088] [1429623878806, 1429623878810] {u'global_timestamp': None, u'hash': u'5e1a48ce6835204474aaaad1c9181958', u'htype': u'bsr_m-1.0', u'pulse_id': 721861}\n",
        "[0.92894848112292483, -0.35932496425959376]"
       ]
      },
      {
       "output_type": "stream",
       "stream": "stderr",
       "text": [
        "\u001b[2J\u001b[H\u001b[2J\u001b[H\u001b[2J\u001b[H\u001b[2J\u001b[H\u001b[2J\u001b[H\u001b[2J\u001b[H"
       ]
      },
      {
       "output_type": "stream",
       "stream": "stdout",
       "text": [
        " [1429623878816, 1429623878821] {u'global_timestamp': None, u'hash': u'5e1a48ce6835204474aaaad1c9181958', u'htype': u'bsr_m-1.0', u'pulse_id': 721862}\n",
        "[1.0185385042997703, 0.5953315268464443] [1429623878825, 1429623878830] {u'global_timestamp': None, u'hash': u'5e1a48ce6835204474aaaad1c9181958', u'htype': u'bsr_m-1.0', u'pulse_id': 721863}\n",
        "[0.26362846268075124, 1.1865220353346062] [1429623878835, 1429623878841] {u'global_timestamp': None, u'hash': u'5e1a48ce6835204474aaaad1c9181958', u'htype': u'bsr_m-1.0', u'pulse_id': 721864}\n",
        "[-0.64172083291563287, 0.87070873411559213] [1429623878845, 1429623878850] {u'global_timestamp': None, u'hash': u'5e1a48ce6835204474aaaad1c9181958', u'htype': u'bsr_m-1.0', u'pulse_id': 721865}\n",
        "[-0.86513541535025851, -0.061751084117495358] [1429623878856, 1429623878860] {u'global_timestamp': None, u'hash': u'5e1a48ce6835204474aaaad1c9181958', u'htype': u'bsr_m-1.0', u'pulse_id': 721866}\n",
        "[-0.20120894786186597, -0.75355816273992837]"
       ]
      },
      {
       "output_type": "stream",
       "stream": "stderr",
       "text": [
        "\u001b[2J\u001b[H\u001b[2J\u001b[H\u001b[2J\u001b[H\u001b[2J\u001b[H\u001b[2J\u001b[H\u001b[2J\u001b[H\u001b[2J\u001b[H"
       ]
      },
      {
       "output_type": "stream",
       "stream": "stdout",
       "text": [
        " [1429623878866, 1429623878871] {u'global_timestamp': None, u'hash': u'5e1a48ce6835204474aaaad1c9181958', u'htype': u'bsr_m-1.0', u'pulse_id': 721867}\n",
        "[0.73964763719449345, -0.56866826409804494] [1429623878875, 1429623878880] {u'global_timestamp': None, u'hash': u'5e1a48ce6835204474aaaad1c9181958', u'htype': u'bsr_m-1.0', u'pulse_id': 721868}\n",
        "[1.0924151345004502, 0.3229316916602607] [1429623878886, 1429623878891] {u'global_timestamp': None, u'hash': u'5e1a48ce6835204474aaaad1c9181958', u'htype': u'bsr_m-1.0', u'pulse_id': 721869}\n",
        "[0.53276073390357304, 1.101508817034665] [1429623878895, 1429623878900] {u'global_timestamp': None, u'hash': u'5e1a48ce6835204474aaaad1c9181958', u'htype': u'bsr_m-1.0', u'pulse_id': 721870}\n",
        "[-0.42477188966587232, 1.051242893548316] [1429623878906, 1429623878911] {u'global_timestamp': None, u'hash': u'5e1a48ce6835204474aaaad1c9181958', u'htype': u'bsr_m-1.0', u'pulse_id': 721871}\n",
        "[-0.89983165798607667, 0.2183481794413801] [1429623878915, 1429623878921] {u'global_timestamp': None, u'hash': u'5e1a48ce6835204474aaaad1c9181958', u'htype': u'bsr_m-1.0', u'pulse_id': 721872}\n",
        "[-0.45565081091381254, -0.63141576622699569]"
       ]
      },
      {
       "output_type": "stream",
       "stream": "stderr",
       "text": [
        "\u001b[2J\u001b[H\u001b[2J\u001b[H\u001b[2J\u001b[H\u001b[2J\u001b[H\u001b[2J\u001b[H\u001b[2J\u001b[H"
       ]
      },
      {
       "output_type": "stream",
       "stream": "stdout",
       "text": [
        " [1429623878926, 1429623878931] {u'global_timestamp': None, u'hash': u'5e1a48ce6835204474aaaad1c9181958', u'htype': u'bsr_m-1.0', u'pulse_id': 721873}\n",
        "[0.49939282919760741, -0.71677989069652415] [1429623878935, 1429623878940] {u'global_timestamp': None, u'hash': u'5e1a48ce6835204474aaaad1c9181958', u'htype': u'bsr_m-1.0', u'pulse_id': 721874}\n",
        "[1.0872365440391474, 0.040739188393249637] [1429623878946, 1429623878951] {u'global_timestamp': None, u'hash': u'5e1a48ce6835204474aaaad1c9181958', u'htype': u'bsr_m-1.0', u'pulse_id': 721875}\n",
        "[0.76741953316568157, 0.94468192320540689] [1429623878955, 1429623878960] {u'global_timestamp': None, u'hash': u'5e1a48ce6835204474aaaad1c9181958', u'htype': u'bsr_m-1.0', u'pulse_id': 721876}\n",
        "[-0.16601991853743694, 1.1639675320991549] [1429623878965, 1429623878971] {u'global_timestamp': None, u'hash': u'5e1a48ce6835204474aaaad1c9181958', u'htype': u'bsr_m-1.0', u'pulse_id': 721877}\n",
        "[-0.85488188395094544, 0.49698583754497994]"
       ]
      },
      {
       "output_type": "stream",
       "stream": "stderr",
       "text": [
        "\u001b[2J\u001b[H\u001b[2J\u001b[H\u001b[2J\u001b[H\u001b[2J\u001b[H\u001b[2J\u001b[H\u001b[2J\u001b[H"
       ]
      },
      {
       "output_type": "stream",
       "stream": "stdout",
       "text": [
        " [1429623878976, 1429623878981] {u'global_timestamp': None, u'hash': u'5e1a48ce6835204474aaaad1c9181958', u'htype': u'bsr_m-1.0', u'pulse_id': 721878}\n",
        "[-0.66582984892338148, -0.44304326642768815] [1429623878985, 1429623878991] {u'global_timestamp': None, u'hash': u'5e1a48ce6835204474aaaad1c9181958', u'htype': u'bsr_m-1.0', u'pulse_id': 721879}\n",
        "[0.22732261739904128, -0.79186135679270087] [1429623878995, 1429623879001] {u'global_timestamp': None, u'hash': u'5e1a48ce6835204474aaaad1c9181958', u'htype': u'bsr_m-1.0', u'pulse_id': 721880}\n",
        "[1.0034152564631194, -0.22876668992550758] [1429623879006, 1429623879010] {u'global_timestamp': None, u'hash': u'5e1a48ce6835204474aaaad1c9181958', u'htype': u'bsr_m-1.0', u'pulse_id': 721881}\n",
        "[0.94891207504791908, 0.72853409430029803] [1429623879016, 1429623879020] {u'global_timestamp': None, u'hash': u'5e1a48ce6835204474aaaad1c9181958', u'htype': u'bsr_m-1.0', u'pulse_id': 721882}\n",
        "[0.11392304679227659, 1.1999030696862671]"
       ]
      },
      {
       "output_type": "stream",
       "stream": "stderr",
       "text": [
        "\u001b[2J\u001b[H\u001b[2J\u001b[H\u001b[2J\u001b[H\u001b[2J\u001b[H\u001b[2J\u001b[H\u001b[2J\u001b[H"
       ]
      },
      {
       "output_type": "stream",
       "stream": "stdout",
       "text": [
        " [1429623879025, 1429623879031] {u'global_timestamp': None, u'hash': u'5e1a48ce6835204474aaaad1c9181958', u'htype': u'bsr_m-1.0', u'pulse_id': 721883}\n",
        "[-0.73386676647476501, 0.75196577409194476] [1429623879035, 1429623879040] {u'global_timestamp': None, u'hash': u'5e1a48ce6835204474aaaad1c9181958', u'htype': u'bsr_m-1.0', u'pulse_id': 721884}\n",
        "[-0.81500332021852684, -0.20344630868192626] [1429623879045, 1429623879050] {u'global_timestamp': None, u'hash': u'5e1a48ce6835204474aaaad1c9181958', u'htype': u'bsr_m-1.0', u'pulse_id': 721885}\n",
        "[-0.054890041107382714, -0.78793171584161281] [1429623879055, 1429623879060] {u'global_timestamp': None, u'hash': u'5e1a48ce6835204474aaaad1c9181958', u'htype': u'bsr_m-1.0', u'pulse_id': 721886}\n",
        "[0.84762842748586709, -0.46411725953705613] [1429623879066, 1429623879071] {u'global_timestamp': None, u'hash': u'5e1a48ce6835204474aaaad1c9181958', u'htype': u'bsr_m-1.0', u'pulse_id': 721887}\n",
        "[1.0627807677137533, 0.47028354245221043] [1429623879075, 1429623879081] {u'global_timestamp': None, u'hash': u'5e1a48ce6835204474aaaad1c9181958', u'htype': u'bsr_m-1.0', u'pulse_id': 721888}\n",
        "[0.3927569101966103, 1.1561869019873332]"
       ]
      },
      {
       "output_type": "stream",
       "stream": "stdout",
       "text": [
        " [1429623879086, 1429623879091] {u'global_timestamp': None, u'hash': u'5e1a48ce6835204474aaaad1c9181958', u'htype': u'bsr_m-1.0', u'pulse_id': 721889}\n",
        "[-0.54642630043763241, 0.96297643351712758] [1429623879095, 1429623879101] {u'global_timestamp': None, u'hash': u'5e1a48ce6835204474aaaad1c9181958', u'htype': u'bsr_m-1.0', u'pulse_id': 721890}\n",
        "[-0.89128815159713759, 0.068288950717373759] [1429623879105, 1429623879110] {u'global_timestamp': None, u'hash': u'5e1a48ce6835204474aaaad1c9181958', u'htype': u'bsr_m-1.0', u'pulse_id': 721891}\n",
        "[-0.32476424773776658, -0.70530400078855782] [1429623879116, 1429623879121] {u'global_timestamp': None, u'hash': u'5e1a48ce6835204474aaaad1c9181958', u'htype': u'bsr_m-1.0', u'pulse_id': 721892}\n",
        "[0.63228594659101545, -0.64656462899279377] [1429623879125, 1429623879131] {u'global_timestamp': None, u'hash': u'5e1a48ce6835204474aaaad1c9181958', u'htype': u'bsr_m-1.0', u'pulse_id': 721893}\n",
        "[1.099954896386429, 0.19050235856613257]"
       ]
      },
      {
       "output_type": "stream",
       "stream": "stderr",
       "text": [
        "\u001b[2J\u001b[H\u001b[2J\u001b[H\u001b[2J\u001b[H\u001b[2J\u001b[H\u001b[2J\u001b[H\u001b[2J\u001b[H\u001b[2J\u001b[H"
       ]
      },
      {
       "output_type": "stream",
       "stream": "stdout",
       "text": [
        " [1429623879135, 1429623879141] {u'global_timestamp': None, u'hash': u'5e1a48ce6835204474aaaad1c9181958', u'htype': u'bsr_m-1.0', u'pulse_id': 721894}\n",
        "[0.64826992597243294, 1.0363014338587391] [1429623879146, 1429623879151] {u'global_timestamp': None, u'hash': u'5e1a48ce6835204474aaaad1c9181958', u'htype': u'bsr_m-1.0', u'pulse_id': 721895}\n",
        "[-0.3074918859043092, 1.1132088276632839] [1429623879155, 1429623879161] {u'global_timestamp': None, u'hash': u'5e1a48ce6835204474aaaad1c9181958', u'htype': u'bsr_m-1.0', u'pulse_id': 721896}\n",
        "[-0.88860753712574336, 0.35051623679248678] [1429623879165, 1429623879171] {u'global_timestamp': None, u'hash': u'5e1a48ce6835204474aaaad1c9181958', u'htype': u'bsr_m-1.0', u'pulse_id': 721897}\n",
        "[-0.56080197791101416, -0.55056028804413293] [1429623879175, 1429623879180] {u'global_timestamp': None, u'hash': u'5e1a48ce6835204474aaaad1c9181958', u'htype': u'bsr_m-1.0', u'pulse_id': 721898}\n",
        "[0.37454187235064651, -0.76157514543908711] [1429623879185, 1429623879190] {u'global_timestamp': None, u'hash': u'5e1a48ce6835204474aaaad1c9181958', u'htype': u'bsr_m-1.0', u'pulse_id': 721899}\n",
        "[1.0574731912878357, -0.088522248648328195]"
       ]
      },
      {
       "output_type": "stream",
       "stream": "stderr",
       "text": [
        "\u001b[2J\u001b[H\u001b[2J\u001b[H\u001b[2J\u001b[H\u001b[2J\u001b[H\u001b[2J\u001b[H\u001b[2J\u001b[H"
       ]
      },
      {
       "output_type": "stream",
       "stream": "stdout",
       "text": [
        " [1429623879195, 1429623879201] {u'global_timestamp': None, u'hash': u'5e1a48ce6835204474aaaad1c9181958', u'htype': u'bsr_m-1.0', u'pulse_id': 721900}\n",
        "[0.86010807376884157, 0.84979667296118211] [1429623879206, 1429623879211] {u'global_timestamp': None, u'hash': u'5e1a48ce6835204474aaaad1c9181958', u'htype': u'bsr_m-1.0', u'pulse_id': 721901}\n",
        "[-0.036096901355245348, 1.1906955301410724] [1429623879216, 1429623879221] {u'global_timestamp': None, u'hash': u'5e1a48ce6835204474aaaad1c9181958', u'htype': u'bsr_m-1.0', u'pulse_id': 721902}\n",
        "[-0.80717501301633721, 0.62075348573577904] [1429623879225, 1429623879230] {u'global_timestamp': None, u'hash': u'5e1a48ce6835204474aaaad1c9181958', u'htype': u'bsr_m-1.0', u'pulse_id': 721903}\n",
        "[-0.74420060136212796, -0.33602737305087466] [1429623879236, 1429623879241] {u'global_timestamp': None, u'hash': u'5e1a48ce6835204474aaaad1c9181958', u'htype': u'bsr_m-1.0', u'pulse_id': 721904}\n",
        "[0.094927949953881319, -0.79998713707143732]"
       ]
      },
      {
       "output_type": "stream",
       "stream": "stderr",
       "text": [
        "\u001b[2J\u001b[H\u001b[2J\u001b[H\u001b[2J\u001b[H\u001b[2J\u001b[H\u001b[2J\u001b[H\u001b[2J\u001b[H\u001b[2J\u001b[H"
       ]
      },
      {
       "output_type": "stream",
       "stream": "stdout",
       "text": [
        " [1429623879245, 1429623879250] {u'global_timestamp': None, u'hash': u'5e1a48ce6835204474aaaad1c9181958', u'htype': u'bsr_m-1.0', u'pulse_id': 721905}\n",
        "[0.9387197206913348, -0.34456333894547958] [1429623879255, 1429623879260] {u'global_timestamp': None, u'hash': u'5e1a48ce6835204474aaaad1c9181958', u'htype': u'bsr_m-1.0', u'pulse_id': 721906}\n",
        "[1.0113964481793394, 0.61152948162444554] [1429623879265, 1429623879271] {u'global_timestamp': None, u'hash': u'5e1a48ce6835204474aaaad1c9181958', u'htype': u'bsr_m-1.0', u'pulse_id': 721907}\n",
        "[0.24613948433132424, 1.1892639946542958] [1429623879275, 1429623879280] {u'global_timestamp': None, u'hash': u'5e1a48ce6835204474aaaad1c9181958', u'htype': u'bsr_m-1.0', u'pulse_id': 721908}\n",
        "[-0.6534774474541486, 0.85747375322364072] [1429623879285, 1429623879290] {u'global_timestamp': None, u'hash': u'5e1a48ce6835204474aaaad1c9181958', u'htype': u'bsr_m-1.0', u'pulse_id': 721909}\n",
        "[-0.86035068888955746, -0.078794824825269227] [1429623879296, 1429623879301] {u'global_timestamp': None, u'hash': u'5e1a48ce6835204474aaaad1c9181958', u'htype': u'bsr_m-1.0', u'pulse_id': 721910}\n",
        "[-0.18428193584402, -0.75874072665803483]"
       ]
      },
      {
       "output_type": "stream",
       "stream": "stderr",
       "text": [
        "\u001b[2J\u001b[H\u001b[2J\u001b[H\u001b[2J\u001b[H\u001b[2J\u001b[H\u001b[2J\u001b[H\u001b[2J\u001b[H"
       ]
      },
      {
       "output_type": "stream",
       "stream": "stdout",
       "text": [
        " [1429623879305, 1429623879311] {u'global_timestamp': None, u'hash': u'5e1a48ce6835204474aaaad1c9181958', u'htype': u'bsr_m-1.0', u'pulse_id': 721911}\n",
        "[0.75315431798319221, -0.5572248258607948] [1429623879315, 1429623879320] {u'global_timestamp': None, u'hash': u'5e1a48ce6835204474aaaad1c9181958', u'htype': u'bsr_m-1.0', u'pulse_id': 721912}\n",
        "[1.090083504032122, 0.34048008771165877] [1429623879325, 1429623879331] {u'global_timestamp': None, u'hash': u'5e1a48ce6835204474aaaad1c9181958', u'htype': u'bsr_m-1.0', u'pulse_id': 721913}\n",
        "[0.51673448247793385, 1.1090282564991303] [1429623879336, 1429623879340] {u'global_timestamp': None, u'hash': u'5e1a48ce6835204474aaaad1c9181958', u'htype': u'bsr_m-1.0', u'pulse_id': 721914}\n",
        "[-0.43975830039693475, 1.041820038459891] [1429623879346, 1429623879350] {u'global_timestamp': None, u'hash': u'5e1a48ce6835204474aaaad1c9181958', u'htype': u'bsr_m-1.0', u'pulse_id': 721915}\n",
        "[-0.89999979110979766, 0.20064635931264002]"
       ]
      },
      {
       "output_type": "stream",
       "stream": "stderr",
       "text": [
        "\u001b[2J\u001b[H\u001b[2J\u001b[H\u001b[2J\u001b[H\u001b[2J\u001b[H\u001b[2J\u001b[H\u001b[2J\u001b[H"
       ]
      },
      {
       "output_type": "stream",
       "stream": "stdout",
       "text": [
        " [1429623879356, 1429623879361] {u'global_timestamp': None, u'hash': u'5e1a48ce6835204474aaaad1c9181958', u'htype': u'bsr_m-1.0', u'pulse_id': 721916}\n",
        "[-0.44084608561162864, -0.6411215796058134] [1429623879365, 1429623879372] {u'global_timestamp': None, u'hash': u'5e1a48ce6835204474aaaad1c9181958', u'htype': u'bsr_m-1.0', u'pulse_id': 721917}\n",
        "[0.51555901675835714, -0.70956621726558611] [1429623879376, 1429623879380] {u'global_timestamp': None, u'hash': u'5e1a48ce6835204474aaaad1c9181958', u'htype': u'bsr_m-1.0', u'pulse_id': 721918}\n",
        "[1.0899010755693033, 0.058240130549098407] [1429623879386, 1429623879390] {u'global_timestamp': None, u'hash': u'5e1a48ce6835204474aaaad1c9181958', u'htype': u'bsr_m-1.0', u'pulse_id': 721919}\n",
        "[0.75413265066453516, 0.956379848577809] [1429623879396, 1429623879401] {u'global_timestamp': None, u'hash': u'5e1a48ce6835204474aaaad1c9181958', u'htype': u'bsr_m-1.0', u'pulse_id': 721920}\n",
        "[-0.18304231657392986, 1.1591074220484707]"
       ]
      },
      {
       "output_type": "stream",
       "stream": "stdout",
       "text": [
        " [1429623879406, 1429623879411] {u'global_timestamp': None, u'hash': u'5e1a48ce6835204474aaaad1c9181958', u'htype': u'bsr_m-1.0', u'pulse_id': 721921}\n",
        "[-0.85998948327084379, 0.48003605483826262] [1429623879416, 1429623879421] {u'global_timestamp': None, u'hash': u'5e1a48ce6835204474aaaad1c9181958', u'htype': u'bsr_m-1.0', u'pulse_id': 721922}\n",
        "[-0.65432674626687182, -0.45649916973781041] [1429623879425, 1429623879431] {u'global_timestamp': None, u'hash': u'5e1a48ce6835204474aaaad1c9181958', u'htype': u'bsr_m-1.0', u'pulse_id': 721923}\n",
        "[0.24486052249883983, -0.78945208525797916] [1429623879436, 1429623879440] {u'global_timestamp': None, u'hash': u'5e1a48ce6835204474aaaad1c9181958', u'htype': u'bsr_m-1.0', u'pulse_id': 721924}\n",
        "[1.0108636949376453, -0.21270731668404008] [1429623879445, 1429623879451] {u'global_timestamp': None, u'hash': u'5e1a48ce6835204474aaaad1c9181958', u'htype': u'bsr_m-1.0', u'pulse_id': 721925}\n",
        "[0.93942298691392701, 0.74347865555190018] [1429623879456, 1429623879461] {u'global_timestamp': None, u'hash': u'5e1a48ce6835204474aaaad1c9181958', u'htype': u'bsr_m-1.0', u'pulse_id': 721926}\n",
        "[0.096220655918987014, 1.1999928582536563]"
       ]
      },
      {
       "output_type": "stream",
       "stream": "stderr",
       "text": [
        "\u001b[2J\u001b[H\u001b[2J\u001b[H\u001b[2J\u001b[H\u001b[2J\u001b[H\u001b[2J\u001b[H\u001b[2J\u001b[H\u001b[2J\u001b[H"
       ]
      },
      {
       "output_type": "stream",
       "stream": "stdout",
       "text": [
        " [1429623879465, 1429623879471] {u'global_timestamp': None, u'hash': u'5e1a48ce6835204474aaaad1c9181958', u'htype': u'bsr_m-1.0', u'pulse_id': 721927}\n",
        "[-0.74350696355720791, 0.73711823878034455] [1429623879476, 1429623879481] {u'global_timestamp': None, u'hash': u'5e1a48ce6835204474aaaad1c9181958', u'htype': u'bsr_m-1.0', u'pulse_id': 721928}\n",
        "[-0.80771817077057173, -0.21958041237994802] [1429623879486, 1429623879491] {u'global_timestamp': None, u'hash': u'5e1a48ce6835204474aaaad1c9181958', u'htype': u'bsr_m-1.0', u'pulse_id': 721929}\n",
        "[-0.03737747793429147, -0.79051876739232618] [1429623879495, 1429623879501] {u'global_timestamp': None, u'hash': u'5e1a48ce6835204474aaaad1c9181958', u'htype': u'bsr_m-1.0', u'pulse_id': 721930}\n",
        "[0.85926743456607735, -0.45077873567553467] [1429623879505, 1429623879511] {u'global_timestamp': None, u'hash': u'5e1a48ce6835204474aaaad1c9181958', u'htype': u'bsr_m-1.0', u'pulse_id': 721931}\n",
        "[1.0578453692675684, 0.48728426440143824] [1429623879516, 1429623879521] {u'global_timestamp': None, u'hash': u'5e1a48ce6835204474aaaad1c9181958', u'htype': u'bsr_m-1.0', u'pulse_id': 721932}\n",
        "[0.37578468879469662, 1.1612194366669935]"
       ]
      },
      {
       "output_type": "stream",
       "stream": "stderr",
       "text": [
        "\u001b[2J\u001b[H\u001b[2J\u001b[H\u001b[2J\u001b[H\u001b[2J\u001b[H\u001b[2J\u001b[H\u001b[2J\u001b[H"
       ]
      },
      {
       "output_type": "stream",
       "stream": "stdout",
       "text": [
        " [1429623879526, 1429623879531] {u'global_timestamp': None, u'hash': u'5e1a48ce6835204474aaaad1c9181958', u'htype': u'bsr_m-1.0', u'pulse_id': 721933}\n",
        "[-0.55983116270976463, 0.95141389175146363] [1429623879536, 1429623879540] {u'global_timestamp': None, u'hash': u'5e1a48ce6835204474aaaad1c9181958', u'htype': u'bsr_m-1.0', u'pulse_id': 721934}\n",
        "[-0.88880128618617971, 0.050761880082343475] [1429623879545, 1429623879551] {u'global_timestamp': None, u'hash': u'5e1a48ce6835204474aaaad1c9181958', u'htype': u'bsr_m-1.0', u'pulse_id': 721935}\n",
        "[-0.30867206723378582, -0.71268129238133504] [1429623879555, 1429623879560] {u'global_timestamp': None, u'hash': u'5e1a48ce6835204474aaaad1c9181958', u'htype': u'bsr_m-1.0', u'pulse_id': 721936}\n",
        "[0.64718836564555182, -0.63700949367504167] [1429623879565, 1429623879571] {u'global_timestamp': None, u'hash': u'5e1a48ce6835204474aaaad1c9181958', u'htype': u'bsr_m-1.0', u'pulse_id': 721937}\n",
        "[1.0999663386388068, 0.20820497344903674]"
       ]
      },
      {
       "output_type": "stream",
       "stream": "stderr",
       "text": [
        "\u001b[2J\u001b[H\u001b[2J\u001b[H\u001b[2J\u001b[H\u001b[2J\u001b[H\u001b[2J\u001b[H\u001b[2J\u001b[H\u001b[2J\u001b[H"
       ]
      },
      {
       "output_type": "stream",
       "stream": "stdout",
       "text": [
        " [1429623879576, 1429623879580] {u'global_timestamp': None, u'hash': u'5e1a48ce6835204474aaaad1c9181958', u'htype': u'bsr_m-1.0', u'pulse_id': 721938}\n",
        "[0.63337987146858465, 1.0458758258232446] [1429623879586, 1429623879591] {u'global_timestamp': None, u'hash': u'5e1a48ce6835204474aaaad1c9181958', u'htype': u'bsr_m-1.0', u'pulse_id': 721939}\n",
        "[-0.32359358972255003, 1.1058523448917952] [1429623879595, 1429623879600] {u'global_timestamp': None, u'hash': u'5e1a48ce6835204474aaaad1c9181958', u'htype': u'bsr_m-1.0', u'pulse_id': 721940}\n",
        "[-0.89111705802469776, 0.33299239561895211] [1429623879606, 1429623879610] {u'global_timestamp': None, u'hash': u'5e1a48ce6835204474aaaad1c9181958', u'htype': u'bsr_m-1.0', u'pulse_id': 721941}\n",
        "[-0.54741207394943203, -0.56214014886009989] [1429623879616, 1429623879620] {u'global_timestamp': None, u'hash': u'5e1a48ce6835204474aaaad1c9181958', u'htype': u'bsr_m-1.0', u'pulse_id': 721942}\n",
        "[0.39152058522119237, -0.75656455526655053]"
       ]
      },
      {
       "output_type": "stream",
       "stream": "stderr",
       "text": [
        "\u001b[2J\u001b[H\u001b[2J\u001b[H\u001b[2J\u001b[H\u001b[2J\u001b[H\u001b[2J\u001b[H\u001b[2J\u001b[H"
       ]
      },
      {
       "output_type": "stream",
       "stream": "stdout",
       "text": [
        " [1429623879625, 1429623879631] {u'global_timestamp': None, u'hash': u'5e1a48ce6835204474aaaad1c9181958', u'htype': u'bsr_m-1.0', u'pulse_id': 721943}\n",
        "[1.0624305627555115, -0.071527920984397753] [1429623879636, 1429623879640] {u'global_timestamp': None, u'hash': u'5e1a48ce6835204474aaaad1c9181958', u'htype': u'bsr_m-1.0', u'pulse_id': 721944}\n",
        "[0.84848631936835606, 0.8631502316356463] [1429623879645, 1429623879650] {u'global_timestamp': None, u'hash': u'5e1a48ce6835204474aaaad1c9181958', u'htype': u'bsr_m-1.0', u'pulse_id': 721945}\n",
        "[-0.053612794224552229, 1.1881311195638591] [1429623879655, 1429623879661] {u'global_timestamp': None, u'hash': u'5e1a48ce6835204474aaaad1c9181958', u'htype': u'bsr_m-1.0', u'pulse_id': 721946}\n",
        "[-0.81448101322910338, 0.60462881316519279] [1429623879665, 1429623879670] {u'global_timestamp': None, u'hash': u'5e1a48ce6835204474aaaad1c9181958', u'htype': u'bsr_m-1.0', u'pulse_id': 721947}\n",
        "[-0.73457960601608241, -0.35088735801617427] [1429623879675, 1429623879680] {u'global_timestamp': None, u'hash': u'5e1a48ce6835204474aaaad1c9181958', u'htype': u'bsr_m-1.0', u'pulse_id': 721948}\n",
        "[0.11263044210707755, -0.79992023278468549] [1429623879686, 1429623879691] {u'global_timestamp': None, u'hash': u'5e1a48ce6835204474aaaad1c9181958', u'htype': u'bsr_m-1.0', u'pulse_id': 721949}\n",
        "[0.94822812000525847, -0.32963105689937094]"
       ]
      },
      {
       "output_type": "stream",
       "stream": "stderr",
       "text": [
        "\u001b[2J\u001b[H\u001b[2J\u001b[H\u001b[2J\u001b[H\u001b[2J\u001b[H\u001b[2J\u001b[H\u001b[2J\u001b[H\u001b[2J\u001b[H"
       ]
      },
      {
       "output_type": "stream",
       "stream": "stdout",
       "text": [
        " [1429623879695, 1429623879700] {u'global_timestamp': None, u'hash': u'5e1a48ce6835204474aaaad1c9181958', u'htype': u'bsr_m-1.0', u'pulse_id': 721950}\n",
        "[1.0039687761749991, 0.62759847018046555] [1429623879706, 1429623879711] {u'global_timestamp': None, u'hash': u'5e1a48ce6835204474aaaad1c9181958', u'htype': u'bsr_m-1.0', u'pulse_id': 721951}\n",
        "[0.22860470839504604, 1.1916959357477599] [1429623879715, 1429623879720] {u'global_timestamp': None, u'hash': u'5e1a48ce6835204474aaaad1c9181958', u'htype': u'bsr_m-1.0', u'pulse_id': 721952}\n",
        "[-0.66499793519231298, 0.84403273142868906] [1429623879725, 1429623879731] {u'global_timestamp': None, u'hash': u'5e1a48ce6835204474aaaad1c9181958', u'htype': u'bsr_m-1.0', u'pulse_id': 721953}\n",
        "[-0.85526500513259085, -0.095751196056805932] [1429623879736, 1429623879740] {u'global_timestamp': None, u'hash': u'5e1a48ce6835204474aaaad1c9181958', u'htype': u'bsr_m-1.0', u'pulse_id': 721954}\n",
        "[-0.16726583478424537, -0.76362283781419404]"
       ]
      },
      {
       "output_type": "stream",
       "stream": "stderr",
       "text": [
        "\u001b[2J\u001b[H\u001b[2J\u001b[H\u001b[2J\u001b[H\u001b[2J\u001b[H\u001b[2J\u001b[H\u001b[2J\u001b[H\u001b[2J\u001b[H"
       ]
      },
      {
       "output_type": "stream",
       "stream": "stdout",
       "text": [
        " [1429623879745, 1429623879751] {u'global_timestamp': None, u'hash': u'5e1a48ce6835204474aaaad1c9181958', u'htype': u'bsr_m-1.0', u'pulse_id': 721955}\n",
        "[0.76645631150518878, -0.54554408645961305] [1429623879755, 1429623879761] {u'global_timestamp': None, u'hash': u'5e1a48ce6835204474aaaad1c9181958', u'htype': u'bsr_m-1.0', u'pulse_id': 721956}\n",
        "[1.0874415985175028, 0.35798445973322485] [1429623879765, 1429623879770] {u'global_timestamp': None, u'hash': u'5e1a48ce6835204474aaaad1c9181958', u'htype': u'bsr_m-1.0', u'pulse_id': 721957}\n",
        "[0.5005776336730684, 1.1162628222300002] [1429623879775, 1429623879781] {u'global_timestamp': None, u'hash': u'5e1a48ce6835204474aaaad1c9181958', u'htype': u'bsr_m-1.0', u'pulse_id': 721958}\n",
        "[-0.45457556021197909, 1.0321333715310121] [1429623879786, 1429623879791] {u'global_timestamp': None, u'hash': u'5e1a48ce6835204474aaaad1c9181958', u'htype': u'bsr_m-1.0', u'pulse_id': 721959}\n",
        "[-0.89985454159436373, 0.18294433662607038] [1429623879795, 1429623879801] {u'global_timestamp': None, u'hash': u'5e1a48ce6835204474aaaad1c9181958', u'htype': u'bsr_m-1.0', u'pulse_id': 721960}\n",
        "[-0.42587186850035397, -0.65056380002910208]"
       ]
      },
      {
       "output_type": "stream",
       "stream": "stdout",
       "text": [
        " [1429623879805, 1429623879811] {u'global_timestamp': None, u'hash': u'5e1a48ce6835204474aaaad1c9181958', u'htype': u'bsr_m-1.0', u'pulse_id': 721961}\n",
        "[0.53159497531050692, -0.70206750151345276] [1429623879816, 1429623879820] {u'global_timestamp': None, u'hash': u'5e1a48ce6835204474aaaad1c9181958', u'htype': u'bsr_m-1.0', u'pulse_id': 721962}\n",
        "[1.0922553892230935, 0.075785497796241941] [1429623879825, 1429623879832] {u'global_timestamp': None, u'hash': u'5e1a48ce6835204474aaaad1c9181958', u'htype': u'bsr_m-1.0', u'pulse_id': 721963}\n",
        "[0.74064077430414477, 0.96784073758754552] [1429623879836, 1429623879841] {u'global_timestamp': None, u'hash': u'5e1a48ce6835204474aaaad1c9181958', u'htype': u'bsr_m-1.0', u'pulse_id': 721964}\n",
        "[-0.19997601404373358, 1.1539467443198461] [1429623879846, 1429623879851] {u'global_timestamp': None, u'hash': u'5e1a48ce6835204474aaaad1c9181958', u'htype': u'bsr_m-1.0', u'pulse_id': 721965}\n",
        "[-0.86479623849007026, 0.46299851367528966] [1429623879856, 1429623879860] {u'global_timestamp': None, u'hash': u'5e1a48ce6835204474aaaad1c9181958', u'htype': u'bsr_m-1.0', u'pulse_id': 721966}\n",
        "[-0.64258725065445155, -0.46974933756254117]"
       ]
      },
      {
       "output_type": "stream",
       "stream": "stderr",
       "text": [
        "\u001b[2J\u001b[H\u001b[2J\u001b[H\u001b[2J\u001b[H\u001b[2J\u001b[H\u001b[2J\u001b[H\u001b[2J\u001b[H\u001b[2J\u001b[H"
       ]
      },
      {
       "output_type": "stream",
       "stream": "stdout",
       "text": [
        " [1429623879866, 1429623879871] {u'global_timestamp': None, u'hash': u'5e1a48ce6835204474aaaad1c9181958', u'htype': u'bsr_m-1.0', u'pulse_id': 721967}\n",
        "[0.26235303081630534, -0.78673273655268972] [1429623879875, 1429623879881] {u'global_timestamp': None, u'hash': u'5e1a48ce6835204474aaaad1c9181958', u'htype': u'bsr_m-1.0', u'pulse_id': 721968}\n",
        "[1.0180266844839134, -0.19651860810745464] [1429623879886, 1429623879891] {u'global_timestamp': None, u'hash': u'5e1a48ce6835204474aaaad1c9181958', u'htype': u'bsr_m-1.0', u'pulse_id': 721969}\n",
        "[0.92967083813397788, 0.75825289999252377] [1429623879895, 1429623879901] {u'global_timestamp': None, u'hash': u'5e1a48ce6835204474aaaad1c9181958', u'htype': u'bsr_m-1.0', u'pulse_id': 721970}\n",
        "[0.078519449426767224, 1.1997692663545279] [1429623879905, 1429623879910] {u'global_timestamp': None, u'hash': u'5e1a48ce6835204474aaaad1c9181958', u'htype': u'bsr_m-1.0', u'pulse_id': 721971}\n",
        "[-0.75288282014604757, 0.7221023799023758]"
       ]
      },
      {
       "output_type": "stream",
       "stream": "stderr",
       "text": [
        "\u001b[2J\u001b[H\u001b[2J\u001b[H\u001b[2J\u001b[H\u001b[2J\u001b[H\u001b[2J\u001b[H\u001b[2J\u001b[H\u001b[2J\u001b[H"
       ]
      },
      {
       "output_type": "stream",
       "stream": "stdout",
       "text": [
        " [1429623879916, 1429623879921] {u'global_timestamp': None, u'hash': u'5e1a48ce6835204474aaaad1c9181958', u'htype': u'bsr_m-1.0', u'pulse_id': 721972}\n",
        "[-0.80014855814723007, -0.2355830268335336] [1429623879926, 1429623879931] {u'global_timestamp': None, u'hash': u'5e1a48ce6835204474aaaad1c9181958', u'htype': u'bsr_m-1.0', u'pulse_id': 721973}\n",
        "[-0.019821863035611648, -0.79279540749273969] [1429623879936, 1429623879940] {u'global_timestamp': None, u'hash': u'5e1a48ce6835204474aaaad1c9181958', u'htype': u'bsr_m-1.0', u'pulse_id': 721974}\n",
        "[0.87066850036411514, -0.43723626901371965] [1429623879945, 1429623879951] {u'global_timestamp': None, u'hash': u'5e1a48ce6835204474aaaad1c9181958', u'htype': u'bsr_m-1.0', u'pulse_id': 721975}\n",
        "[1.0526097986489571, 0.50419495643089385] [1429623879955, 1429623879961] {u'global_timestamp': None, u'hash': u'5e1a48ce6835204474aaaad1c9181958', u'htype': u'bsr_m-1.0', u'pulse_id': 721976}\n",
        "[0.3587260412411164, 1.1659507417998602] [1429623879965, 1429623879971] {u'global_timestamp': None, u'hash': u'5e1a48ce6835204474aaaad1c9181958', u'htype': u'bsr_m-1.0', u'pulse_id': 721977}\n",
        "[-0.57302924530753596, 0.93961586986811518]"
       ]
      },
      {
       "output_type": "stream",
       "stream": "stderr",
       "text": [
        "\u001b[2J\u001b[H\u001b[2J\u001b[H\u001b[2J\u001b[H\u001b[2J\u001b[H\u001b[2J\u001b[H\u001b[2J\u001b[H"
       ]
      },
      {
       "output_type": "stream",
       "stream": "stdout",
       "text": [
        " [1429623879976, 1429623879981] {u'global_timestamp': None, u'hash': u'5e1a48ce6835204474aaaad1c9181958', u'htype': u'bsr_m-1.0', u'pulse_id': 721978}\n",
        "[-0.8860045475538274, 0.033281578092965003] [1429623879986, 1429623879991] {u'global_timestamp': None, u'hash': u'5e1a48ce6835204474aaaad1c9181958', u'htype': u'bsr_m-1.0', u'pulse_id': 721979}\n",
        "[-0.29245181597207359, -0.71977256544225199] [1429623879995, 1429623880001] {u'global_timestamp': None, u'hash': u'5e1a48ce6835204474aaaad1c9181958', u'htype': u'bsr_m-1.0', u'pulse_id': 721980}\n",
        "[0.66191930533012699, -0.62719205405837131] [1429623880005, 1429623880011] {u'global_timestamp': None, u'hash': u'5e1a48ce6835204474aaaad1c9181958', u'htype': u'bsr_m-1.0', u'pulse_id': 721981}\n",
        "[1.0996644087354555, 0.22590501703517013] [1429623880016, 1429623880020] {u'global_timestamp': None, u'hash': u'5e1a48ce6835204474aaaad1c9181958', u'htype': u'bsr_m-1.0', u'pulse_id': 721982}\n",
        "[0.61832266493802712, 1.0551851349336832] [1429623880026, 1429623880030] {u'global_timestamp': None, u'hash': u'5e1a48ce6835204474aaaad1c9181958', u'htype': u'bsr_m-1.0', u'pulse_id': 721983}\n",
        "[-0.33956254663598495, 1.0982119836624802]"
       ]
      },
      {
       "output_type": "stream",
       "stream": "stderr",
       "text": [
        "\u001b[2J\u001b[H\u001b[2J\u001b[H\u001b[2J\u001b[H\u001b[2J\u001b[H\u001b[2J\u001b[H\u001b[2J\u001b[H\u001b[2J\u001b[H"
       ]
      },
      {
       "output_type": "stream",
       "stream": "stdout",
       "text": [
        " [1429623880036, 1429623880041] {u'global_timestamp': None, u'hash': u'5e1a48ce6835204474aaaad1c9181958', u'htype': u'bsr_m-1.0', u'pulse_id': 721984}\n",
        "[-0.89331597997941581, 0.31542687692878474] [1429623880046, 1429623880051] {u'global_timestamp': None, u'hash': u'5e1a48ce6835204474aaaad1c9181958', u'htype': u'bsr_m-1.0', u'pulse_id': 721985}\n",
        "[-0.53381928224111364, -0.57348116813491945] [1429623880056, 1429623880061] {u'global_timestamp': None, u'hash': u'5e1a48ce6835204474aaaad1c9181958', u'htype': u'bsr_m-1.0', u'pulse_id': 721986}\n",
        "[0.40840794058228991, -0.75125419430654317] [1429623880066, 1429623880071] {u'global_timestamp': None, u'hash': u'5e1a48ce6835204474aaaad1c9181958', u'htype': u'bsr_m-1.0', u'pulse_id': 721987}\n",
        "[1.0670863251304246, -0.054448501166209973] [1429623880076, 1429623880081] {u'global_timestamp': None, u'hash': u'5e1a48ce6835204474aaaad1c9181958', u'htype': u'bsr_m-1.0', u'pulse_id': 721988}\n",
        "[0.83663000230073781, 0.87629597049695263] [1429623880086, 1429623880091] {u'global_timestamp': None, u'hash': u'5e1a48ce6835204474aaaad1c9181958', u'htype': u'bsr_m-1.0', u'pulse_id': 721989}\n",
        "[-0.071080547500941144, 1.1852570457838798]"
       ]
      },
      {
       "output_type": "stream",
       "stream": "stderr",
       "text": [
        "\u001b[2J\u001b[H\u001b[2J\u001b[H\u001b[2J\u001b[H\u001b[2J\u001b[H\u001b[2J\u001b[H\u001b[2J\u001b[H"
       ]
      },
      {
       "output_type": "stream",
       "stream": "stdout",
       "text": [
        " [1429623880095, 1429623880101] {u'global_timestamp': None, u'hash': u'5e1a48ce6835204474aaaad1c9181958', u'htype': u'bsr_m-1.0', u'pulse_id': 721990}\n",
        "[-0.82150043090862246, 0.5883773369227705] [1429623880106, 1429623880111] {u'global_timestamp': None, u'hash': u'5e1a48ce6835204474aaaad1c9181958', u'htype': u'bsr_m-1.0', u'pulse_id': 721991}\n",
        "[-0.72469706785588495, -0.36557470441127921] [1429623880115, 1429623880121] {u'global_timestamp': None, u'hash': u'5e1a48ce6835204474aaaad1c9181958', u'htype': u'bsr_m-1.0', u'pulse_id': 721992}\n",
        "[0.13032897609816574, -0.79953997079098182] [1429623880125, 1429623880132] {u'global_timestamp': None, u'hash': u'5e1a48ce6835204474aaaad1c9181958', u'htype': u'bsr_m-1.0', u'pulse_id': 721993}\n",
        "[0.95747069929680229, -0.31453279764020187] [1429623880135, 1429623880141] {u'global_timestamp': None, u'hash': u'5e1a48ce6835204474aaaad1c9181958', u'htype': u'bsr_m-1.0', u'pulse_id': 721994}\n",
        "[0.9962578159906913, 0.64353345677140994] [1429623880146, 1429623880151] {u'global_timestamp': None, u'hash': u'5e1a48ce6835204474aaaad1c9181958', u'htype': u'bsr_m-1.0', u'pulse_id': 721995}\n",
        "[0.21102962996742447, 1.1938170964867212]"
       ]
      },
      {
       "output_type": "stream",
       "stream": "stderr",
       "text": [
        "\u001b[2J\u001b[H\u001b[2J\u001b[H\u001b[2J\u001b[H\u001b[2J\u001b[H\u001b[2J\u001b[H\u001b[2J\u001b[H"
       ]
      },
      {
       "output_type": "stream",
       "stream": "stdout",
       "text": [
        " [1429623880156, 1429623880161] {u'global_timestamp': None, u'hash': u'5e1a48ce6835204474aaaad1c9181958', u'htype': u'bsr_m-1.0', u'pulse_id': 721996}\n",
        "[-0.6762786858085198, 0.83038988091449983] [1429623880165, 1429623880171] {u'global_timestamp': None, u'hash': u'5e1a48ce6835204474aaaad1c9181958', u'htype': u'bsr_m-1.0', u'pulse_id': 721997}\n",
        "[-0.84987995784468928, -0.11261488397862851] [1429623880175, 1429623880182] {u'global_timestamp': None, u'hash': u'5e1a48ce6835204474aaaad1c9181958', u'htype': u'bsr_m-1.0', u'pulse_id': 721998}\n",
        "[-0.1501659772343141, -0.76820296623920781] [1429623880186, 1429623880191] {u'global_timestamp': None, u'hash': u'5e1a48ce6835204474aaaad1c9181958', u'htype': u'bsr_m-1.0', u'pulse_id': 721999}\n",
        "[0.77954944914577629, -0.53362970643620478] [1429623880196, 1429623880201] {u'global_timestamp': None, u'hash': u'5e1a48ce6835204474aaaad1c9181958', u'htype': u'bsr_m-1.0', u'pulse_id': 722000}\n",
        "[1.0844902458840884, 0.37543932215751219]"
       ]
      },
      {
       "output_type": "stream",
       "stream": "stderr",
       "text": [
        "\u001b[2J\u001b[H\u001b[2J\u001b[H\u001b[2J\u001b[H\u001b[2J\u001b[H\u001b[2J\u001b[H\u001b[2J\u001b[H\u001b[2J\u001b[H"
       ]
      },
      {
       "output_type": "stream",
       "stream": "stdout",
       "text": [
        " [1429623880205, 1429623880211] {u'global_timestamp': None, u'hash': u'5e1a48ce6835204474aaaad1c9181958', u'htype': u'bsr_m-1.0', u'pulse_id': 722001}\n",
        "[0.48429525076595314, 1.1232102470394991] [1429623880216, 1429623880220] {u'global_timestamp': None, u'hash': u'5e1a48ce6835204474aaaad1c9181958', u'htype': u'bsr_m-1.0', u'pulse_id': 722002}\n",
        "[-0.4692190256380494, 1.0221859283955606] [1429623880226, 1429623880231] {u'global_timestamp': None, u'hash': u'5e1a48ce6835204474aaaad1c9181958', u'htype': u'bsr_m-1.0', u'pulse_id': 722003}\n",
        "[-0.89939595495846081, 0.16524765888941789] [1429623880235, 1429623880240] {u'global_timestamp': None, u'hash': u'5e1a48ce6835204474aaaad1c9181958', u'htype': u'bsr_m-1.0', u'pulse_id': 722004}\n",
        "[-0.41073285224064637, -0.65973946846828779] [1429623880245, 1429623880251] {u'global_timestamp': None, u'hash': u'5e1a48ce6835204474aaaad1c9181958', u'htype': u'bsr_m-1.0', u'pulse_id': 722005}\n",
        "[0.54749567946199451, -0.69428609340794734] [1429623880256, 1429623880261] {u'global_timestamp': None, u'hash': u'5e1a48ce6835204474aaaad1c9181958', u'htype': u'bsr_m-1.0', u'pulse_id': 722006}\n",
        "[1.0942987471993375, 0.0933697917200388]"
       ]
      },
      {
       "output_type": "stream",
       "stream": "stdout",
       "text": [
        " [1429623880266, 1429623880271] {u'global_timestamp': None, u'hash': u'5e1a48ce6835204474aaaad1c9181958', u'htype': u'bsr_m-1.0', u'pulse_id': 722007}\n",
        "[0.72694813220521459, 0.97906099859022122] [1429623880275, 1429623880280] {u'global_timestamp': None, u'hash': u'5e1a48ce6835204474aaaad1c9181958', u'htype': u'bsr_m-1.0', u'pulse_id': 722008}\n",
        "[-0.21681570421893595, 1.1484871161804253] [1429623880286, 1429623880291] {u'global_timestamp': None, u'hash': u'5e1a48ce6835204474aaaad1c9181958', u'htype': u'bsr_m-1.0', u'pulse_id': 722009}\n",
        "[-0.86930064325467393, 0.44587855332679072] [1429623880296, 1429623880301] {u'global_timestamp': None, u'hash': u'5e1a48ce6835204474aaaad1c9181958', u'htype': u'bsr_m-1.0', u'pulse_id': 722010}\n",
        "[-0.63061504104100685, -0.48278961752845068] [1429623880305, 1429623880312] {u'global_timestamp': None, u'hash': u'5e1a48ce6835204474aaaad1c9181958', u'htype': u'bsr_m-1.0', u'pulse_id': 722011}\n",
        "[0.27979466050187085, -0.78370416287368472] [1429623880316, 1429623880321] {u'global_timestamp': None, u'hash': u'5e1a48ce6835204474aaaad1c9181958', u'htype': u'bsr_m-1.0', u'pulse_id': 722012}\n",
        "[1.0249019803448871, -0.18020563745702933]"
       ]
      },
      {
       "output_type": "stream",
       "stream": "stderr",
       "text": [
        "\u001b[2J\u001b[H\u001b[2J\u001b[H\u001b[2J\u001b[H\u001b[2J\u001b[H\u001b[2J\u001b[H\u001b[2J\u001b[H\u001b[2J\u001b[H"
       ]
      },
      {
       "output_type": "stream",
       "stream": "stdout",
       "text": [
        " [1429623880326, 1429623880331] {u'global_timestamp': None, u'hash': u'5e1a48ce6835204474aaaad1c9181958', u'htype': u'bsr_m-1.0', u'pulse_id': 722013}\n",
        "[0.91965868486283187, 0.77285219762948709] [1429623880335, 1429623880341] {u'global_timestamp': None, u'hash': u'5e1a48ce6835204474aaaad1c9181958', u'htype': u'bsr_m-1.0', u'pulse_id': 722014}\n",
        "[0.060824974567582749, 1.1992323640587155] [1429623880346, 1429623880351] {u'global_timestamp': None, u'hash': u'5e1a48ce6835204474aaaad1c9181958', u'htype': u'bsr_m-1.0', u'pulse_id': 722015}\n",
        "[-0.76199139800998805, 0.70692290316850603] [1429623880355, 1429623880362] {u'global_timestamp': None, u'hash': u'5e1a48ce6835204474aaaad1c9181958', u'htype': u'bsr_m-1.0', u'pulse_id': 722016}\n",
        "[-0.79229685453417853, -0.2514491371000846] [1429623880366, 1429623880371] {u'global_timestamp': None, u'hash': u'5e1a48ce6835204474aaaad1c9181958', u'htype': u'bsr_m-1.0', u'pulse_id': 722017}\n",
        "[-0.0022286980374214144, -0.79476092268322129]"
       ]
      },
      {
       "output_type": "stream",
       "stream": "stderr",
       "text": [
        "\u001b[2J\u001b[H\u001b[2J\u001b[H\u001b[2J\u001b[H\u001b[2J\u001b[H\u001b[2J\u001b[H\u001b[2J\u001b[H\u001b[2J\u001b[H"
       ]
      },
      {
       "output_type": "stream",
       "stream": "stdout",
       "text": [
        " [1429623880376, 1429623880381] {u'global_timestamp': None, u'hash': u'5e1a48ce6835204474aaaad1c9181958', u'htype': u'bsr_m-1.0', u'pulse_id': 722018}\n",
        "[0.8818280519831454, -0.42349410352644073] [1429623880386, 1429623880391] {u'global_timestamp': None, u'hash': u'5e1a48ce6835204474aaaad1c9181958', u'htype': u'bsr_m-1.0', u'pulse_id': 722019}\n",
        "[1.0470756965951999, 0.52101031902217221] [1429623880395, 1429623880401] {u'global_timestamp': None, u'hash': u'5e1a48ce6835204474aaaad1c9181958', u'htype': u'bsr_m-1.0', u'pulse_id': 722020}\n",
        "[0.34158631342097701, 1.1703793346767344] [1429623880406, 1429623880410] {u'global_timestamp': None, u'hash': u'5e1a48ce6835204474aaaad1c9181958', u'htype': u'bsr_m-1.0', u'pulse_id': 722021}\n",
        "[-0.58601641218012601, 0.92758606516308939] [1429623880416, 1429623880420] {u'global_timestamp': None, u'hash': u'5e1a48ce6835204474aaaad1c9181958', u'htype': u'bsr_m-1.0', u'pulse_id': 722022}\n",
        "[-0.88289881214959753, 0.015853522773553369] [1429623880425, 1429623880431] {u'global_timestamp': None, u'hash': u'5e1a48ce6835204474aaaad1c9181958', u'htype': u'bsr_m-1.0', u'pulse_id': 722023}\n",
        "[-0.27610857709884007, -0.72657559768897739]"
       ]
      },
      {
       "output_type": "stream",
       "stream": "stderr",
       "text": [
        "\u001b[2J\u001b[H\u001b[2J\u001b[H\u001b[2J\u001b[H\u001b[2J\u001b[H\u001b[2J\u001b[H\u001b[2J\u001b[H\u001b[2J\u001b[H"
       ]
      },
      {
       "output_type": "stream",
       "stream": "stdout",
       "text": [
        " [1429623880435, 1429623880441] {u'global_timestamp': None, u'hash': u'5e1a48ce6835204474aaaad1c9181958', u'htype': u'bsr_m-1.0', u'pulse_id': 722024}\n",
        "[0.67647414922302085, -0.61711538675856192] [1429623880445, 1429623880451] {u'global_timestamp': None, u'hash': u'5e1a48ce6835204474aaaad1c9181958', u'htype': u'bsr_m-1.0', u'pulse_id': 722025}\n",
        "[1.0990492012959847, 0.24359694243700189] [1429623880456, 1429623880461] {u'global_timestamp': None, u'hash': u'5e1a48ce6835204474aaaad1c9181958', u'htype': u'bsr_m-1.0', u'pulse_id': 722026}\n",
        "[0.60310302504886659, 1.0642264438135873] [1429623880466, 1429623880470] {u'global_timestamp': None, u'hash': u'5e1a48ce6835204474aaaad1c9181958', u'htype': u'bsr_m-1.0', u'pulse_id': 722027}\n",
        "[-0.35539375224970637, 1.0902901383324051] [1429623880476, 1429623880481] {u'global_timestamp': None, u'hash': u'5e1a48ce6835204474aaaad1c9181958', u'htype': u'bsr_m-1.0', u'pulse_id': 722028}\n",
        "[-0.89520361388578806, 0.29782518545173986] [1429623880485, 1429623880491] {u'global_timestamp': None, u'hash': u'5e1a48ce6835204474aaaad1c9181958', u'htype': u'bsr_m-1.0', u'pulse_id': 722029}\n",
        "[-0.52002786253188771, -0.58457979178929831]"
       ]
      },
      {
       "output_type": "stream",
       "stream": "stderr",
       "text": [
        "\u001b[2J\u001b[H\u001b[2J\u001b[H\u001b[2J\u001b[H\u001b[2J\u001b[H\u001b[2J\u001b[H\u001b[2J\u001b[H"
       ]
      },
      {
       "output_type": "stream",
       "stream": "stdout",
       "text": [
        " [1429623880496, 1429623880501] {u'global_timestamp': None, u'hash': u'5e1a48ce6835204474aaaad1c9181958', u'htype': u'bsr_m-1.0', u'pulse_id': 722030}\n",
        "[0.42519864622884229, -0.74564572673434548] [1429623880506, 1429623880510] {u'global_timestamp': None, u'hash': u'5e1a48ce6835204474aaaad1c9181958', u'htype': u'bsr_m-1.0', u'pulse_id': 722031}\n",
        "[1.0714390193771695, -0.037289341588540914] [1429623880515, 1429623880521] {u'global_timestamp': None, u'hash': u'5e1a48ce6835204474aaaad1c9181958', u'htype': u'bsr_m-1.0', u'pulse_id': 722032}\n",
        "[0.82454283813069595, 0.88922976989790281] [1429623880525, 1429623880531] {u'global_timestamp': None, u'hash': u'5e1a48ce6835204474aaaad1c9181958', u'htype': u'bsr_m-1.0', u'pulse_id': 722033}\n",
        "[-0.088494687092646768, 1.1820742094861494] [1429623880536, 1429623880540] {u'global_timestamp': None, u'hash': u'5e1a48ce6835204474aaaad1c9181958', u'htype': u'bsr_m-1.0', u'pulse_id': 722034}\n",
        "[-0.82823106629079712, 0.57200414994009119]"
       ]
      },
      {
       "output_type": "stream",
       "stream": "stderr",
       "text": [
        "\u001b[2J\u001b[H\u001b[2J\u001b[H\u001b[2J\u001b[H\u001b[2J\u001b[H\u001b[2J\u001b[H\u001b[2J\u001b[H\u001b[2J\u001b[H"
       ]
      },
      {
       "output_type": "stream",
       "stream": "stdout",
       "text": [
        " [1429623880546, 1429623880551] {u'global_timestamp': None, u'hash': u'5e1a48ce6835204474aaaad1c9181958', u'htype': u'bsr_m-1.0', u'pulse_id': 722035}\n",
        "[-0.71455608389807268, -0.38008480947585238] [1429623880555, 1429623880560] {u'global_timestamp': None, u'hash': u'5e1a48ce6835204474aaaad1c9181958', u'htype': u'bsr_m-1.0', u'pulse_id': 722036}\n",
        "[0.14801800551269603, -0.79884647025785838] [1429623880565, 1429623880571] {u'global_timestamp': None, u'hash': u'5e1a48ce6835204474aaaad1c9181958', u'htype': u'bsr_m-1.0', u'pulse_id': 722037}\n",
        "[0.96644456210147001, -0.29927329270129377] [1429623880575, 1429623880581] {u'global_timestamp': None, u'hash': u'5e1a48ce6835204474aaaad1c9181958', u'htype': u'bsr_m-1.0', u'pulse_id': 722038}\n",
        "[0.98826598410797373, 0.65932944764808299] [1429623880586, 1429623880590] {u'global_timestamp': None, u'hash': u'5e1a48ce6835204474aaaad1c9181958', u'htype': u'bsr_m-1.0', u'pulse_id': 722039}\n",
        "[0.19341975677407103, 1.1956268121360902] [1429623880596, 1429623880601] {u'global_timestamp': None, u'hash': u'5e1a48ce6835204474aaaad1c9181958', u'htype': u'bsr_m-1.0', u'pulse_id': 722040}\n",
        "[-0.68731616411063112, 0.81654947711446635]"
       ]
      },
      {
       "output_type": "stream",
       "stream": "stdout",
       "text": [
        " [1429623880605, 1429623880611] {u'global_timestamp': None, u'hash': u'5e1a48ce6835204474aaaad1c9181958', u'htype': u'bsr_m-1.0', u'pulse_id': 722041}\n",
        "[-0.8441972346065364, -0.12938060380260613] [1429623880616, 1429623880620] {u'global_timestamp': None, u'hash': u'5e1a48ce6835204474aaaad1c9181958', u'htype': u'bsr_m-1.0', u'pulse_id': 722042}\n",
        "[-0.13298772199383388, -0.7724796766000428] [1429623880626, 1429623880631] {u'global_timestamp': None, u'hash': u'5e1a48ce6835204474aaaad1c9181958', u'htype': u'bsr_m-1.0', u'pulse_id': 722043}\n",
        "[0.79242962774206926, -0.52148541955120575] [1429623880635, 1429623880640] {u'global_timestamp': None, u'hash': u'5e1a48ce6835204474aaaad1c9181958', u'htype': u'bsr_m-1.0', u'pulse_id': 722044}\n",
        "[1.0812303710347491, 0.3928392049325255] [1429623880646, 1429623880651] {u'global_timestamp': None, u'hash': u'5e1a48ce6835204474aaaad1c9181958', u'htype': u'bsr_m-1.0', u'pulse_id': 722045}\n",
        "[0.46789243637378131, 1.1298683537248504] [1429623880656, 1429623880661] {u'global_timestamp': None, u'hash': u'5e1a48ce6835204474aaaad1c9181958', u'htype': u'bsr_m-1.0', u'pulse_id': 722046}\n",
        "[-0.4836841076663454, 1.0119808264101697]"
       ]
      },
      {
       "output_type": "stream",
       "stream": "stderr",
       "text": [
        "\u001b[2J\u001b[H\u001b[2J\u001b[H\u001b[2J\u001b[H\u001b[2J\u001b[H\u001b[2J\u001b[H\u001b[2J\u001b[H\u001b[2J\u001b[H"
       ]
      },
      {
       "output_type": "stream",
       "stream": "stdout",
       "text": [
        " [1429623880666, 1429623880670] {u'global_timestamp': None, u'hash': u'5e1a48ce6835204474aaaad1c9181958', u'htype': u'bsr_m-1.0', u'pulse_id': 722047}\n",
        "[-0.89862417491520907, 0.14756187193541448] [1429623880676, 1429623880680] {u'global_timestamp': None, u'hash': u'5e1a48ce6835204474aaaad1c9181958', u'htype': u'bsr_m-1.0', u'pulse_id': 722048}\n",
        "[-0.39543378113836658, -0.66864570942757839] [1429623880685, 1429623880691] {u'global_timestamp': None, u'hash': u'5e1a48ce6835204474aaaad1c9181958', u'htype': u'bsr_m-1.0', u'pulse_id': 722049}\n",
        "[0.5632561462071477, -0.68622443150778789] [1429623880696, 1429623880701] {u'global_timestamp': None, u'hash': u'5e1a48ce6835204474aaaad1c9181958', u'htype': u'bsr_m-1.0', u'pulse_id': 722050}\n",
        "[1.0960305091449865, 0.11098750170690037] [1429623880705, 1429623880710] {u'global_timestamp': None, u'hash': u'5e1a48ce6835204474aaaad1c9181958', u'htype': u'bsr_m-1.0', u'pulse_id': 722051}\n",
        "[0.71305901540495908, 0.99003711535009664]"
       ]
      },
      {
       "output_type": "stream",
       "stream": "stderr",
       "text": [
        "\u001b[2J\u001b[H\u001b[2J\u001b[H\u001b[2J\u001b[H\u001b[2J\u001b[H\u001b[2J\u001b[H\u001b[2J\u001b[H\u001b[2J\u001b[H"
       ]
      },
      {
       "output_type": "stream",
       "stream": "stdout",
       "text": [
        " [1429623880716, 1429623880720] {u'global_timestamp': None, u'hash': u'5e1a48ce6835204474aaaad1c9181958', u'htype': u'bsr_m-1.0', u'pulse_id': 722052}\n",
        "[-0.23355610983188482, 1.1427302485832411] [1429623880726, 1429623880731] {u'global_timestamp': None, u'hash': u'5e1a48ce6835204474aaaad1c9181958', u'htype': u'bsr_m-1.0', u'pulse_id': 722053}\n",
        "[-0.87350128596210685, 0.42868153889224275] [1429623880736, 1429623880741] {u'global_timestamp': None, u'hash': u'5e1a48ce6835204474aaaad1c9181958', u'htype': u'bsr_m-1.0', u'pulse_id': 722054}\n",
        "[-0.61841386930996634, -0.49561592303733421] [1429623880745, 1429623880751] {u'global_timestamp': None, u'hash': u'5e1a48ce6835204474aaaad1c9181958', u'htype': u'bsr_m-1.0', u'pulse_id': 722055}\n",
        "[0.29717994565045242, -0.7803673133235749] [1429623880756, 1429623880760] {u'global_timestamp': None, u'hash': u'5e1a48ce6835204474aaaad1c9181958', u'htype': u'bsr_m-1.0', u'pulse_id': 722056}\n",
        "[1.0314874279217543, -0.16377351693562686] [1429623880766, 1429623880770] {u'global_timestamp': None, u'hash': u'5e1a48ce6835204474aaaad1c9181958', u'htype': u'bsr_m-1.0', u'pulse_id': 722057}\n",
        "[0.90938966473616034, 0.78727197329541099]"
       ]
      },
      {
       "output_type": "stream",
       "stream": "stderr",
       "text": [
        "\u001b[2J\u001b[H\u001b[2J\u001b[H\u001b[2J\u001b[H\u001b[2J\u001b[H\u001b[2J\u001b[H\u001b[2J\u001b[H"
       ]
      },
      {
       "output_type": "stream",
       "stream": "stdout",
       "text": [
        " [1429623880776, 1429623880781] {u'global_timestamp': None, u'hash': u'5e1a48ce6835204474aaaad1c9181958', u'htype': u'bsr_m-1.0', u'pulse_id': 722058}\n",
        "[0.043142776483821754, 1.1983823196221133] [1429623880786, 1429623880791] {u'global_timestamp': None, u'hash': u'5e1a48ce6835204474aaaad1c9181958', u'htype': u'bsr_m-1.0', u'pulse_id': 722059}\n",
        "[-0.77082984267826304, 0.69158456556420855] [1429623880795, 1429623880802] {u'global_timestamp': None, u'hash': u'5e1a48ce6835204474aaaad1c9181958', u'htype': u'bsr_m-1.0', u'pulse_id': 722060}\n",
        "[-0.78416552051953148, -0.26717377101505391] [1429623880806, 1429623880811] {u'global_timestamp': None, u'hash': u'5e1a48ce6835204474aaaad1c9181958', u'htype': u'bsr_m-1.0', u'pulse_id': 722061}\n",
        "[0.015396503666649325, -0.79641469700530454] [1429623880816, 1429623880821] {u'global_timestamp': None, u'hash': u'5e1a48ce6835204474aaaad1c9181958', u'htype': u'bsr_m-1.0', u'pulse_id': 722062}\n",
        "[0.89274259221269925, -0.40955654577068562] [1429623880826, 1429623880830] {u'global_timestamp': None, u'hash': u'5e1a48ce6835204474aaaad1c9181958', u'htype': u'bsr_m-1.0', u'pulse_id': 722063}\n",
        "[1.0412447973981662, 0.53772508253146512]"
       ]
      },
      {
       "output_type": "stream",
       "stream": "stderr",
       "text": [
        "\u001b[2J\u001b[H\u001b[2J\u001b[H\u001b[2J\u001b[H\u001b[2J\u001b[H\u001b[2J\u001b[H\u001b[2J\u001b[H\u001b[2J\u001b[H"
       ]
      },
      {
       "output_type": "stream",
       "stream": "stdout",
       "text": [
        " [1429623880836, 1429623880841] {u'global_timestamp': None, u'hash': u'5e1a48ce6835204474aaaad1c9181958', u'htype': u'bsr_m-1.0', u'pulse_id': 722064}\n",
        "[0.3243708766285392, 1.1745038274532025] [1429623880846, 1429623880851] {u'global_timestamp': None, u'hash': u'5e1a48ce6835204474aaaad1c9181958', u'htype': u'bsr_m-1.0', u'pulse_id': 722065}\n",
        "[-0.5987885933740551, 0.9153282475691209] [1429623880855, 1429623880862] {u'global_timestamp': None, u'hash': u'5e1a48ce6835204474aaaad1c9181958', u'htype': u'bsr_m-1.0', u'pulse_id': 722066}\n",
        "[-0.87948505325725079, -0.0015168242247792785] [1429623880866, 1429623880871] {u'global_timestamp': None, u'hash': u'5e1a48ce6835204474aaaad1c9181958', u'htype': u'bsr_m-1.0', u'pulse_id': 722067}\n",
        "[-0.25964747230248542, -0.73308825716886661] [1429623880876, 1429623880881] {u'global_timestamp': None, u'hash': u'5e1a48ce6835204474aaaad1c9181958', u'htype': u'bsr_m-1.0', u'pulse_id': 722068}\n",
        "[0.6908483360878892, -0.60678264962886552]"
       ]
      },
      {
       "output_type": "stream",
       "stream": "stderr",
       "text": [
        "\u001b[2J\u001b[H\u001b[2J\u001b[H\u001b[2J\u001b[H\u001b[2J\u001b[H\u001b[2J\u001b[H\u001b[2J\u001b[H\u001b[2J\u001b[H"
       ]
      },
      {
       "output_type": "stream",
       "stream": "stdout",
       "text": [
        " [1429623880886, 1429623880890] {u'global_timestamp': None, u'hash': u'5e1a48ce6835204474aaaad1c9181958', u'htype': u'bsr_m-1.0', u'pulse_id': 722069}\n",
        "[1.0981209091157658, 0.26127520531109966] [1429623880896, 1429623880900] {u'global_timestamp': None, u'hash': u'5e1a48ce6835204474aaaad1c9181958', u'htype': u'bsr_m-1.0', u'pulse_id': 722070}\n",
        "[0.58772572137301504, 1.0729969190731272] [1429623880906, 1429623880910] {u'global_timestamp': None, u'hash': u'5e1a48ce6835204474aaaad1c9181958', u'htype': u'bsr_m-1.0', u'pulse_id': 722071}\n",
        "[-0.37108224533768197, 1.0820892914708851] [1429623880916, 1429623880921] {u'global_timestamp': None, u'hash': u'5e1a48ce6835204474aaaad1c9181958', u'htype': u'bsr_m-1.0', u'pulse_id': 722072}\n",
        "[-0.89677936819199566, 0.28019283725349842] [1429623880926, 1429623880931] {u'global_timestamp': None, u'hash': u'5e1a48ce6835204474aaaad1c9181958', u'htype': u'bsr_m-1.0', u'pulse_id': 722073}\n",
        "[-0.50604213681416332, -0.59543254170653781] [1429623880936, 1429623880941] {u'global_timestamp': None, u'hash': u'5e1a48ce6835204474aaaad1c9181958', u'htype': u'bsr_m-1.0', u'pulse_id': 722074}\n",
        "[0.44188744024410143, -0.73974091014669363]"
       ]
      },
      {
       "output_type": "stream",
       "stream": "stdout",
       "text": [
        " [1429623880946, 1429623880951] {u'global_timestamp': None, u'hash': u'5e1a48ce6835204474aaaad1c9181958', u'htype': u'bsr_m-1.0', u'pulse_id': 722075}\n",
        "[1.0754872814366512, -0.020055819635227873] [1429623880956, 1429623880961] {u'global_timestamp': None, u'hash': u'5e1a48ce6835204474aaaad1c9181958', u'htype': u'bsr_m-1.0', u'pulse_id': 722076}\n",
        "[0.8122286147664296, 0.90194757660945934] [1429623880966, 1429623880971] {u'global_timestamp': None, u'hash': u'5e1a48ce6835204474aaaad1c9181958', u'htype': u'bsr_m-1.0', u'pulse_id': 722077}\n",
        "[-0.10584975570950528, 1.1785836081165151] [1429623880976, 1429623880981] {u'global_timestamp': None, u'hash': u'5e1a48ce6835204474aaaad1c9181958', u'htype': u'bsr_m-1.0', u'pulse_id': 722078}\n",
        "[-0.83467081011090749, 0.55551438329077474] [1429623880986, 1429623880991] {u'global_timestamp': None, u'hash': u'5e1a48ce6835204474aaaad1c9181958', u'htype': u'bsr_m-1.0', u'pulse_id': 722079}\n",
        "[-0.7041598321516257, -0.39441312599392447]"
       ]
      },
      {
       "output_type": "stream",
       "stream": "stderr",
       "text": [
        "\u001b[2J\u001b[H\u001b[2J\u001b[H\u001b[2J\u001b[H\u001b[2J\u001b[H\u001b[2J\u001b[H\u001b[2J\u001b[H"
       ]
      },
      {
       "output_type": "stream",
       "stream": "stdout",
       "text": [
        " [1429623880996, 1429623881001] {u'global_timestamp': None, u'hash': u'5e1a48ce6835204474aaaad1c9181958', u'htype': u'bsr_m-1.0', u'pulse_id': 722080}\n",
        "[0.1656919869147884, -0.79783994851638762] [1429623881005, 1429623881012] {u'global_timestamp': None, u'hash': u'5e1a48ce6835204474aaaad1c9181958', u'htype': u'bsr_m-1.0', u'pulse_id': 722081}\n",
        "[0.97514689616586536, -0.28385732414757564] [1429623881016, 1429623881020] {u'global_timestamp': None, u'hash': u'5e1a48ce6835204474aaaad1c9181958', u'htype': u'bsr_m-1.0', u'pulse_id': 722082}\n",
        "[0.97999578502873652, 0.67498149262014162] [1429623881025, 1429623881031] {u'global_timestamp': None, u'hash': u'5e1a48ce6835204474aaaad1c9181958', u'htype': u'bsr_m-1.0', u'pulse_id': 722083}\n",
        "[0.175780607444675, 1.1971245155622823] [1429623881035, 1429623881041] {u'global_timestamp': None, u'hash': u'5e1a48ce6835204474aaaad1c9181958', u'htype': u'bsr_m-1.0', u'pulse_id': 722084}\n",
        "[-0.69810691114384416, 0.80251585737176412] [1429623881045, 1429623881051] {u'global_timestamp': None, u'hash': u'5e1a48ce6835204474aaaad1c9181958', u'htype': u'bsr_m-1.0', u'pulse_id': 722085}\n",
        "[-0.83821861628531003, -0.14604310144211552]"
       ]
      },
      {
       "output_type": "stream",
       "stream": "stderr",
       "text": [
        "\u001b[2J\u001b[H\u001b[2J\u001b[H\u001b[2J\u001b[H\u001b[2J\u001b[H\u001b[2J\u001b[H\u001b[2J\u001b[H"
       ]
      },
      {
       "output_type": "stream",
       "stream": "stdout",
       "text": [
        " [1429623881056, 1429623881061] {u'global_timestamp': None, u'hash': u'5e1a48ce6835204474aaaad1c9181958', u'htype': u'bsr_m-1.0', u'pulse_id': 722086}\n",
        "[-0.11573645243089256, -0.77645162864963946] [1429623881066, 1429623881070] {u'global_timestamp': None, u'hash': u'5e1a48ce6835204474aaaad1c9181958', u'htype': u'bsr_m-1.0', u'pulse_id': 722087}\n",
        "[0.80509281086886297, -0.50911503161408578] [1429623881076, 1429623881081] {u'global_timestamp': None, u'hash': u'5e1a48ce6835204474aaaad1c9181958', u'htype': u'bsr_m-1.0', u'pulse_id': 722088}\n",
        "[1.0776629955578823, 0.41017865523594077] [1429623881085, 1429623881090] {u'global_timestamp': None, u'hash': u'5e1a48ce6835204474aaaad1c9181958', u'htype': u'bsr_m-1.0', u'pulse_id': 722089}\n",
        "[0.4513743308548902, 1.1362350557505729] [1429623881097, 1429623881101] {u'global_timestamp': None, u'hash': u'5e1a48ce6835204474aaaad1c9181958', u'htype': u'bsr_m-1.0', u'pulse_id': 722090}\n",
        "[-0.49796627319033859, 1.001521263677301]"
       ]
      },
      {
       "output_type": "stream",
       "stream": "stderr",
       "text": [
        "\u001b[2J\u001b[H\u001b[2J\u001b[H\u001b[2J\u001b[H\u001b[2J\u001b[H\u001b[2J\u001b[H\u001b[2J\u001b[H\u001b[2J\u001b[H"
       ]
      },
      {
       "output_type": "stream",
       "stream": "stdout",
       "text": [
        " [1429623881106, 1429623881111] {u'global_timestamp': None, u'hash': u'5e1a48ce6835204474aaaad1c9181958', u'htype': u'bsr_m-1.0', u'pulse_id': 722091}\n",
        "[-0.89753944332712599, 0.12989251818380898] [1429623881116, 1429623881120] {u'global_timestamp': None, u'hash': u'5e1a48ce6835204474aaaad1c9181958', u'htype': u'bsr_m-1.0', u'pulse_id': 722092}\n",
        "[-0.37997944965779473, -0.67727973184509427] [1429623881125, 1429623881131] {u'global_timestamp': None, u'hash': u'5e1a48ce6835204474aaaad1c9181958', u'htype': u'bsr_m-1.0', u'pulse_id': 722093}\n",
        "[0.57887143648827166, -0.67788504219838441] [1429623881136, 1429623881141] {u'global_timestamp': None, u'hash': u'5e1a48ce6835204474aaaad1c9181958', u'htype': u'bsr_m-1.0', u'pulse_id': 722094}\n",
        "[1.0974501323557979, 0.1286331066712218] [1429623881146, 1429623881151] {u'global_timestamp': None, u'hash': u'5e1a48ce6835204474aaaad1c9181958', u'htype': u'bsr_m-1.0', u'pulse_id': 722095}\n",
        "[0.69897777651236581, 1.0007656481420155] [1429623881155, 1429623881161] {u'global_timestamp': None, u'hash': u'5e1a48ce6835204474aaaad1c9181958', u'htype': u'bsr_m-1.0', u'pulse_id': 722096}\n",
        "[-0.25019198472899284, 1.1366779456310312]"
       ]
      },
      {
       "output_type": "stream",
       "stream": "stderr",
       "text": [
        "\u001b[2J\u001b[H\u001b[2J\u001b[H\u001b[2J\u001b[H\u001b[2J\u001b[H\u001b[2J\u001b[H\u001b[2J\u001b[H\u001b[2J\u001b[H"
       ]
      },
      {
       "output_type": "stream",
       "stream": "stdout",
       "text": [
        " [1429623881166, 1429623881171] {u'global_timestamp': None, u'hash': u'5e1a48ce6835204474aaaad1c9181958', u'htype': u'bsr_m-1.0', u'pulse_id': 722097}\n",
        "[-0.87739685020359626, 0.41141285961854068] [1429623881175, 1429623881182] {u'global_timestamp': None, u'hash': u'5e1a48ce6835204474aaaad1c9181958', u'htype': u'bsr_m-1.0', u'pulse_id': 722098}\n",
        "[-0.60598755909752677, -0.50822423454688148] [1429623881186, 1429623881190] {u'global_timestamp': None, u'hash': u'5e1a48ce6835204474aaaad1c9181958', u'htype': u'bsr_m-1.0', u'pulse_id': 722099}\n",
        "[0.31450343801436975, -0.7767232336132972] [1429623881195, 1429623881202] {u'global_timestamp': None, u'hash': u'5e1a48ce6835204474aaaad1c9181958', u'htype': u'bsr_m-1.0', u'pulse_id': 722100}\n",
        "[1.0377809634491419, -0.14722739608561886] [1429623881206, 1429623881211] {u'global_timestamp': None, u'hash': u'5e1a48ce6835204474aaaad1c9181958', u'htype': u'bsr_m-1.0', u'pulse_id': 722101}\n",
        "[0.89886699588726426, 0.80150770808199767] [1429623881215, 1429623881221] {u'global_timestamp': None, u'hash': u'5e1a48ce6835204474aaaad1c9181958', u'htype': u'bsr_m-1.0', u'pulse_id': 722102}\n",
        "[0.025478396470543299, 1.1972193994339453]"
       ]
      },
      {
       "output_type": "stream",
       "stream": "stderr",
       "text": [
        "\u001b[2J\u001b[H\u001b[2J\u001b[H\u001b[2J\u001b[H\u001b[2J\u001b[H\u001b[2J\u001b[H\u001b[2J\u001b[H"
       ]
      },
      {
       "output_type": "stream",
       "stream": "stdout",
       "text": [
        " [1429623881225, 1429623881231] {u'global_timestamp': None, u'hash': u'5e1a48ce6835204474aaaad1c9181958', u'htype': u'bsr_m-1.0', u'pulse_id': 722103}\n",
        "[-0.77939538433517785, 0.6760921738592065] [1429623881236, 1429623881241] {u'global_timestamp': None, u'hash': u'5e1a48ce6835204474aaaad1c9181958', u'htype': u'bsr_m-1.0', u'pulse_id': 722104}\n",
        "[-0.77575710432273437, -0.28275200075013612] [1429623881245, 1429623881252] {u'global_timestamp': None, u'hash': u'5e1a48ce6835204474aaaad1c9181958', u'htype': u'bsr_m-1.0', u'pulse_id': 722105}\n",
        "[0.033048218643221119, -0.79775621219471948] [1429623881256, 1429623881261] {u'global_timestamp': None, u'hash': u'5e1a48ce6835204474aaaad1c9181958', u'htype': u'bsr_m-1.0', u'pulse_id': 722106}\n",
        "[0.90340870062463996, -0.39542796353599957] [1429623881265, 1429623881271] {u'global_timestamp': None, u'hash': u'5e1a48ce6835204474aaaad1c9181958', u'htype': u'bsr_m-1.0', u'pulse_id': 722107}\n",
        "[1.0351189283608169, 0.55433400884097717]"
       ]
      },
      {
       "output_type": "stream",
       "stream": "stderr",
       "text": [
        "\u001b[2J\u001b[H\u001b[2J\u001b[H\u001b[2J\u001b[H\u001b[2J\u001b[H\u001b[2J\u001b[H\u001b[2J\u001b[H\u001b[2J\u001b[H"
       ]
      },
      {
       "output_type": "stream",
       "stream": "stdout",
       "text": [
        " [1429623881276, 1429623881281] {u'global_timestamp': None, u'hash': u'5e1a48ce6835204474aaaad1c9181958', u'htype': u'bsr_m-1.0', u'pulse_id': 722108}\n",
        "[0.3070851258839461, 1.178322927584563] [1429623881286, 1429623881290] {u'global_timestamp': None, u'hash': u'5e1a48ce6835204474aaaad1c9181958', u'htype': u'bsr_m-1.0', u'pulse_id': 722109}\n",
        "[-0.61134178630863667, 0.90284625847423983] [1429623881296, 1429623881301] {u'global_timestamp': None, u'hash': u'5e1a48ce6835204474aaaad1c9181958', u'htype': u'bsr_m-1.0', u'pulse_id': 722110}\n",
        "[-0.87576434068978182, -0.018824019335710401] [1429623881306, 1429623881311] {u'global_timestamp': None, u'hash': u'5e1a48ce6835204474aaaad1c9181958', u'htype': u'bsr_m-1.0', u'pulse_id': 722111}\n",
        "[-0.24307366020855173, -0.73930850292707717] [1429623881315, 1429623881321] {u'global_timestamp': None, u'hash': u'5e1a48ce6835204474aaaad1c9181958', u'htype': u'bsr_m-1.0', u'pulse_id': 722112}\n",
        "[0.70503736130317551, -0.5961970807703898] [1429623881326, 1429623881331] {u'global_timestamp': None, u'hash': u'5e1a48ce6835204474aaaad1c9181958', u'htype': u'bsr_m-1.0', u'pulse_id': 722113}\n",
        "[1.0968798231055128, 0.27893426559563106]"
       ]
      },
      {
       "output_type": "stream",
       "stream": "stdout",
       "text": [
        " [1429623881336, 1429623881341] {u'global_timestamp': None, u'hash': u'5e1a48ce6835204474aaaad1c9181958', u'htype': u'bsr_m-1.0', u'pulse_id': 722114}\n",
        "[0.57219557289148804, 1.0814938121970452] [1429623881346, 1429623881351] {u'global_timestamp': None, u'hash': u'5e1a48ce6835204474aaaad1c9181958', u'htype': u'bsr_m-1.0', u'pulse_id': 722115}\n",
        "[-0.38662310939751632, 1.0736120130814897] [1429623881356, 1429623881360] {u'global_timestamp': None, u'hash': u'5e1a48ce6835204474aaaad1c9181958', u'htype': u'bsr_m-1.0', u'pulse_id': 722116}\n",
        "[-0.89804274908389214, 0.26253535800702754] [1429623881365, 1429623881370] {u'global_timestamp': None, u'hash': u'5e1a48ce6835204474aaaad1c9181958', u'htype': u'bsr_m-1.0', u'pulse_id': 722117}\n",
        "[-0.49186648797249199, -0.60603601682251651] [1429623881375, 1429623881382] {u'global_timestamp': None, u'hash': u'5e1a48ce6835204474aaaad1c9181958', u'htype': u'bsr_m-1.0', u'pulse_id': 722118}\n",
        "[0.4584690926486622, -0.73354159501098004] [1429623881386, 1429623881391] {u'global_timestamp': None, u'hash': u'5e1a48ce6835204474aaaad1c9181958', u'htype': u'bsr_m-1.0', u'pulse_id': 722119}\n",
        "[1.079229842653556, -0.0027533359939907187]"
       ]
      },
      {
       "output_type": "stream",
       "stream": "stderr",
       "text": [
        "\u001b[2J\u001b[H\u001b[2J\u001b[H\u001b[2J\u001b[H\u001b[2J\u001b[H\u001b[2J\u001b[H\u001b[2J\u001b[H\u001b[2J\u001b[H"
       ]
      },
      {
       "output_type": "stream",
       "stream": "stdout",
       "text": [
        " [1429623881396, 1429623881401] {u'global_timestamp': None, u'hash': u'5e1a48ce6835204474aaaad1c9181958', u'htype': u'bsr_m-1.0', u'pulse_id': 722120}\n",
        "[0.79969119127256161, 0.91444540509095829] [1429623881405, 1429623881411] {u'global_timestamp': None, u'hash': u'5e1a48ce6835204474aaaad1c9181958', u'htype': u'bsr_m-1.0', u'pulse_id': 722121}\n",
        "[-0.12314031457317465, 1.1747863355690746] [1429623881416, 1429623881421] {u'global_timestamp': None, u'hash': u'5e1a48ce6835204474aaaad1c9181958', u'htype': u'bsr_m-1.0', u'pulse_id': 722122}\n",
        "[-0.84081764426461825, 0.53891320458249226] [1429623881426, 1429623881432] {u'global_timestamp': None, u'hash': u'5e1a48ce6835204474aaaad1c9181958', u'htype': u'bsr_m-1.0', u'pulse_id': 722123}\n",
        "[-0.69351157062203428, -0.40855516371891248] [1429623881436, 1429623881441] {u'global_timestamp': None, u'hash': u'5e1a48ce6835204474aaaad1c9181958', u'htype': u'bsr_m-1.0', u'pulse_id': 722124}\n",
        "[0.18334538158434971, -0.79652072099307558]"
       ]
      },
      {
       "output_type": "stream",
       "stream": "stderr",
       "text": [
        "\u001b[2J\u001b[H\u001b[2J\u001b[H\u001b[2J\u001b[H\u001b[2J\u001b[H\u001b[2J\u001b[H\u001b[2J\u001b[H"
       ]
      },
      {
       "output_type": "stream",
       "stream": "stdout",
       "text": [
        " [1429623881446, 1429623881451] {u'global_timestamp': None, u'hash': u'5e1a48ce6835204474aaaad1c9181958', u'htype': u'bsr_m-1.0', u'pulse_id': 722125}\n",
        "[0.98357497432900243, -0.26828972307696713] [1429623881455, 1429623881461] {u'global_timestamp': None, u'hash': u'5e1a48ce6835204474aaaad1c9181958', u'htype': u'bsr_m-1.0', u'pulse_id': 722126}\n",
        "[0.97144981049033508, 0.6904846866073997] [1429623881465, 1429623881471] {u'global_timestamp': None, u'hash': u'5e1a48ce6835204474aaaad1c9181958', u'htype': u'bsr_m-1.0', u'pulse_id': 722127}\n",
        "[0.15811770978356038, 1.198309737410947] [1429623881476, 1429623881481] {u'global_timestamp': None, u'hash': u'5e1a48ce6835204474aaaad1c9181958', u'htype': u'bsr_m-1.0', u'pulse_id': 722128}\n",
        "[-0.70864754527466911, 0.78829341958010368] [1429623881486, 1429623881491] {u'global_timestamp': None, u'hash': u'5e1a48ce6835204474aaaad1c9181958', u'htype': u'bsr_m-1.0', u'pulse_id': 722129}\n",
        "[-0.83194597647658963, -0.16259715515858075]"
       ]
      },
      {
       "output_type": "stream",
       "stream": "stderr",
       "text": [
        "\u001b[2J\u001b[H\u001b[2J\u001b[H\u001b[2J\u001b[H\u001b[2J\u001b[H\u001b[2J\u001b[H\u001b[2J\u001b[H\u001b[2J\u001b[H"
       ]
      },
      {
       "output_type": "stream",
       "stream": "stdout",
       "text": [
        " [1429623881496, 1429623881501] {u'global_timestamp': None, u'hash': u'5e1a48ce6835204474aaaad1c9181958', u'htype': u'bsr_m-1.0', u'pulse_id': 722130}\n",
        "[-0.09841757479500382, -0.78011757764692136] [1429623881506, 1429623881511] {u'global_timestamp': None, u'hash': u'5e1a48ce6835204474aaaad1c9181958', u'htype': u'bsr_m-1.0', u'pulse_id': 722131}\n",
        "[0.81753503010358031, -0.49652241929047342] [1429623881516, 1429623881520] {u'global_timestamp': None, u'hash': u'5e1a48ce6835204474aaaad1c9181958', u'htype': u'bsr_m-1.0', u'pulse_id': 722132}\n",
        "[1.0737892374072628, 0.42745223918392533] [1429623881526, 1429623881531] {u'global_timestamp': None, u'hash': u'5e1a48ce6835204474aaaad1c9181958', u'htype': u'bsr_m-1.0', u'pulse_id': 722133}\n",
        "[0.43474611069786251, 1.1423083579023665] [1429623881536, 1429623881541] {u'global_timestamp': None, u'hash': u'5e1a48ce6835204474aaaad1c9181958', u'htype': u'bsr_m-1.0', u'pulse_id': 722134}\n",
        "[-0.5120610464263694, 0.99081051804301246] [1429623881546, 1429623881551] {u'global_timestamp': None, u'hash': u'5e1a48ce6835204474aaaad1c9181958', u'htype': u'bsr_m-1.0', u'pulse_id': 722135}\n",
        "[-0.89614210013033035, 0.112245134904469]"
       ]
      },
      {
       "output_type": "stream",
       "stream": "stderr",
       "text": [
        "\u001b[2J\u001b[H\u001b[2J\u001b[H\u001b[2J\u001b[H\u001b[2J\u001b[H\u001b[2J\u001b[H\u001b[2J\u001b[H"
       ]
      },
      {
       "output_type": "stream",
       "stream": "stdout",
       "text": [
        " [1429623881556, 1429623881561] {u'global_timestamp': None, u'hash': u'5e1a48ce6835204474aaaad1c9181958', u'htype': u'bsr_m-1.0', u'pulse_id': 722136}\n",
        "[-0.36437470091912827, -0.68563882996753822] [1429623881566, 1429623881571] {u'global_timestamp': None, u'hash': u'5e1a48ce6835204474aaaad1c9181958', u'htype': u'bsr_m-1.0', u'pulse_id': 722137}\n",
        "[0.59433665674346492, -0.66927053890011345] [1429623881576, 1429623881581] {u'global_timestamp': None, u'hash': u'5e1a48ce6835204474aaaad1c9181958', u'htype': u'bsr_m-1.0', u'pulse_id': 722138}\n",
        "[1.0985571719464107, 0.14630107678559476] [1429623881586, 1429623881591] {u'global_timestamp': None, u'hash': u'5e1a48ce6835204474aaaad1c9181958', u'htype': u'bsr_m-1.0', u'pulse_id': 722139}\n",
        "[0.68470882834416325, 1.0112432348293547] [1429623881596, 1429623881601] {u'global_timestamp': None, u'hash': u'5e1a48ce6835204474aaaad1c9181958', u'htype': u'bsr_m-1.0', u'pulse_id': 722140}\n",
        "[-0.26671811551479108, 1.1303321040108636]"
       ]
      },
      {
       "output_type": "stream",
       "stream": "stderr",
       "text": [
        "\u001b[2J\u001b[H\u001b[2J\u001b[H\u001b[2J\u001b[H\u001b[2J\u001b[H\u001b[2J\u001b[H\u001b[2J\u001b[H\u001b[2J\u001b[H"
       ]
      },
      {
       "output_type": "stream",
       "stream": "stdout",
       "text": [
        " [1429623881605, 1429623881611] {u'global_timestamp': None, u'hash': u'5e1a48ce6835204474aaaad1c9181958', u'htype': u'bsr_m-1.0', u'pulse_id': 722141}\n",
        "[-0.88098611517668424, 0.39407792721110035] [1429623881616, 1429623881621] {u'global_timestamp': None, u'hash': u'5e1a48ce6835204474aaaad1c9181958', u'htype': u'bsr_m-1.0', u'pulse_id': 722142}\n",
        "[-0.59334000459439085, -0.52061060083033062] [1429623881626, 1429623881631] {u'global_timestamp': None, u'hash': u'5e1a48ce6835204474aaaad1c9181958', u'htype': u'bsr_m-1.0', u'pulse_id': 722143}\n",
        "[0.33175970871073235, -0.77277306573440674] [1429623881635, 1429623881641] {u'global_timestamp': None, u'hash': u'5e1a48ce6835204474aaaad1c9181958', u'htype': u'bsr_m-1.0', u'pulse_id': 722144}\n",
        "[1.0437806146418651, -0.13057246017510826] [1429623881646, 1429623881651] {u'global_timestamp': None, u'hash': u'5e1a48ce6835204474aaaad1c9181958', u'htype': u'bsr_m-1.0', u'pulse_id': 722145}\n",
        "[0.88809397593856731, 0.81555494075617729] [1429623881655, 1429623881662] {u'global_timestamp': None, u'hash': u'5e1a48ce6835204474aaaad1c9181958', u'htype': u'bsr_m-1.0', u'pulse_id': 722146}\n",
        "[0.0078373702389313432, 1.1957439679332857]"
       ]
      },
      {
       "output_type": "stream",
       "stream": "stdout",
       "text": [
        " [1429623881666, 1429623881671] {u'global_timestamp': None, u'hash': u'5e1a48ce6835204474aaaad1c9181958', u'htype': u'bsr_m-1.0', u'pulse_id': 722147}\n",
        "[-0.78768533868812141, 0.66045058310111315] [1429623881676, 1429623881681] {u'global_timestamp': None, u'hash': u'5e1a48ce6835204474aaaad1c9181958', u'htype': u'bsr_m-1.0', u'pulse_id': 722148}\n",
        "[-0.76707424099599653, -0.2981789443575637] [1429623881686, 1429623881691] {u'global_timestamp': None, u'hash': u'5e1a48ce6835204474aaaad1c9181958', u'htype': u'bsr_m-1.0', u'pulse_id': 722149}\n",
        "[0.050720915150113455, -0.79878504784380788] [1429623881696, 1429623881701] {u'global_timestamp': None, u'hash': u'5e1a48ce6835204474aaaad1c9181958', u'htype': u'bsr_m-1.0', u'pulse_id': 722150}\n",
        "[0.91382303464506565, -0.38111278447569558] [1429623881706, 1429623881712] {u'global_timestamp': None, u'hash': u'5e1a48ce6835204474aaaad1c9181958', u'htype': u'bsr_m-1.0', u'pulse_id': 722151}\n",
        "[1.0287000092245584, 0.57083189300046067] [1429623881716, 1429623881721] {u'global_timestamp': None, u'hash': u'5e1a48ce6835204474aaaad1c9181958', u'htype': u'bsr_m-1.0', u'pulse_id': 722152}\n",
        "[0.28973447824251741, 1.181835438230888]"
       ]
      },
      {
       "output_type": "stream",
       "stream": "stderr",
       "text": [
        "\u001b[2J\u001b[H\u001b[2J\u001b[H\u001b[2J\u001b[H\u001b[2J\u001b[H\u001b[2J\u001b[H\u001b[2J\u001b[H\u001b[2J\u001b[H"
       ]
      },
      {
       "output_type": "stream",
       "stream": "stdout",
       "text": [
        " [1429623881726, 1429623881731] {u'global_timestamp': None, u'hash': u'5e1a48ce6835204474aaaad1c9181958', u'htype': u'bsr_m-1.0', u'pulse_id': 722153}\n",
        "[-0.62367205703031736, 0.89014400951794781] [1429623881736, 1429623881741] {u'global_timestamp': None, u'hash': u'5e1a48ce6835204474aaaad1c9181958', u'htype': u'bsr_m-1.0', u'pulse_id': 722154}\n",
        "[-0.87173784045415814, -0.036062638783626838] [1429623881746, 1429623881751] {u'global_timestamp': None, u'hash': u'5e1a48ce6835204474aaaad1c9181958', u'htype': u'bsr_m-1.0', u'pulse_id': 722155}\n",
        "[-0.22639233476309886, -0.74523438564617028] [1429623881755, 1429623881761] {u'global_timestamp': None, u'hash': u'5e1a48ce6835204474aaaad1c9181958', u'htype': u'bsr_m-1.0', u'pulse_id': 722156}\n",
        "[0.71903677827378187, -0.58536199751733364] [1429623881766, 1429623881771] {u'global_timestamp': None, u'hash': u'5e1a48ce6835204474aaaad1c9181958', u'htype': u'bsr_m-1.0', u'pulse_id': 722157}\n",
        "[1.0953263322001163, 0.29656858924652313] [1429623881776, 1429623881781] {u'global_timestamp': None, u'hash': u'5e1a48ce6835204474aaaad1c9181958', u'htype': u'bsr_m-1.0', u'pulse_id': 722158}\n",
        "[0.55651744648421986, 1.0897144604059932]"
       ]
      },
      {
       "output_type": "stream",
       "stream": "stderr",
       "text": [
        "\u001b[2J\u001b[H\u001b[2J\u001b[H\u001b[2J\u001b[H\u001b[2J\u001b[H\u001b[2J\u001b[H\u001b[2J\u001b[H\u001b[2J\u001b[H"
       ]
      },
      {
       "output_type": "stream",
       "stream": "stdout",
       "text": [
        " [1429623881786, 1429623881791] {u'global_timestamp': None, u'hash': u'5e1a48ce6835204474aaaad1c9181958', u'htype': u'bsr_m-1.0', u'pulse_id': 722159}\n",
        "[-0.4020114741911982, 1.0648609597966485] [1429623881796, 1429623881801] {u'global_timestamp': None, u'hash': u'5e1a48ce6835204474aaaad1c9181958', u'htype': u'bsr_m-1.0', u'pulse_id': 722160}\n",
        "[-0.89899336063975688, 0.24485828126093015] [1429623881806, 1429623881811] {u'global_timestamp': None, u'hash': u'5e1a48ce6835204474aaaad1c9181958', u'htype': u'bsr_m-1.0', u'pulse_id': 722161}\n",
        "[-0.47750535841004726, -0.61638689419152426] [1429623881816, 1429623881821] {u'global_timestamp': None, u'hash': u'5e1a48ce6835204474aaaad1c9181958', u'htype': u'bsr_m-1.0', u'pulse_id': 722162}\n",
        "[0.4749384070394469, -0.72704972408534907] [1429623881826, 1429623881831] {u'global_timestamp': None, u'hash': u'5e1a48ce6835204474aaaad1c9181958', u'htype': u'bsr_m-1.0', u'pulse_id': 722163}\n",
        "[1.0826655301739279, 0.014612687036050453] [1429623881836, 1429623881840] {u'global_timestamp': None, u'hash': u'5e1a48ce6835204474aaaad1c9181958', u'htype': u'bsr_m-1.0', u'pulse_id': 722164}\n",
        "[0.78693449666077553, 0.92671933873910839]"
       ]
      },
      {
       "output_type": "stream",
       "stream": "stderr",
       "text": [
        "\u001b[2J\u001b[H\u001b[2J\u001b[H\u001b[2J\u001b[H\u001b[2J\u001b[H\u001b[2J\u001b[H\u001b[2J\u001b[H\u001b[2J\u001b[H"
       ]
      },
      {
       "output_type": "stream",
       "stream": "stdout",
       "text": [
        " [1429623881846, 1429623881851] {u'global_timestamp': None, u'hash': u'5e1a48ce6835204474aaaad1c9181958', u'htype': u'bsr_m-1.0', u'pulse_id': 722165}\n",
        "[-0.14036094512155389, 1.1706835818433694] [1429623881855, 1429623881861] {u'global_timestamp': None, u'hash': u'5e1a48ce6835204474aaaad1c9181958', u'htype': u'bsr_m-1.0', u'pulse_id': 722166}\n",
        "[-0.84666964244041754, 0.52220581633752694] [1429623881866, 1429623881871] {u'global_timestamp': None, u'hash': u'5e1a48ce6835204474aaaad1c9181958', u'htype': u'bsr_m-1.0', u'pulse_id': 722167}\n",
        "[-0.68261463629029595, -0.42250649078078523] [1429623881876, 1429623881881] {u'global_timestamp': None, u'hash': u'5e1a48ce6835204474aaaad1c9181958', u'htype': u'bsr_m-1.0', u'pulse_id': 722168}\n",
        "[0.20097265725281271, -0.79488920111101113] [1429623881886, 1429623881890] {u'global_timestamp': None, u'hash': u'5e1a48ce6835204474aaaad1c9181958', u'htype': u'bsr_m-1.0', u'pulse_id': 722169}\n",
        "[0.99172615537695197, -0.25257536810639619]"
       ]
      },
      {
       "output_type": "stream",
       "stream": "stderr",
       "text": [
        "\u001b[2J\u001b[H\u001b[2J\u001b[H\u001b[2J\u001b[H\u001b[2J\u001b[H\u001b[2J\u001b[H\u001b[2J\u001b[H"
       ]
      },
      {
       "output_type": "stream",
       "stream": "stdout",
       "text": [
        " [1429623881895, 1429623881900] {u'global_timestamp': None, u'hash': u'5e1a48ce6835204474aaaad1c9181958', u'htype': u'bsr_m-1.0', u'pulse_id': 722170}\n",
        "[0.96263073865338367, 0.7058341711769951] [1429623881906, 1429623881911] {u'global_timestamp': None, u'hash': u'5e1a48ce6835204474aaaad1c9181958', u'htype': u'bsr_m-1.0', u'pulse_id': 722171}\n",
        "[0.14043659903736763, 1.1991821062540557] [1429623881916, 1429623881921] {u'global_timestamp': None, u'hash': u'5e1a48ce6835204474aaaad1c9181958', u'htype': u'bsr_m-1.0', u'pulse_id': 722172}\n",
        "[-0.71893476325067351, 0.77388662080550663] [1429623881926, 1429623881931] {u'global_timestamp': None, u'hash': u'5e1a48ce6835204474aaaad1c9181958', u'htype': u'bsr_m-1.0', u'pulse_id': 722173}\n",
        "[-0.82538128091720353, -0.17903757719787577] [1429623881936, 1429623881941] {u'global_timestamp': None, u'hash': u'5e1a48ce6835204474aaaad1c9181958', u'htype': u'bsr_m-1.0', u'pulse_id': 722174}\n",
        "[-0.081036516522882185, -0.78347637474687737] [1429623881946, 1429623881951] {u'global_timestamp': None, u'hash': u'5e1a48ce6835204474aaaad1c9181958', u'htype': u'bsr_m-1.0', u'pulse_id': 722175}\n",
        "[0.82975238626990588, -0.48371152888727725]"
       ]
      },
      {
       "output_type": "stream",
       "stream": "stderr",
       "text": [
        "\u001b[2J\u001b[H\u001b[2J\u001b[H\u001b[2J\u001b[H\u001b[2J\u001b[H\u001b[2J\u001b[H\u001b[2J\u001b[H"
       ]
      },
      {
       "output_type": "stream",
       "stream": "stdout",
       "text": [
        " [1429623881955, 1429623881961] {u'global_timestamp': None, u'hash': u'5e1a48ce6835204474aaaad1c9181958', u'htype': u'bsr_m-1.0', u'pulse_id': 722176}\n",
        "[1.0696103105516972, 0.44465454353402312] [1429623881966, 1429623881971] {u'global_timestamp': None, u'hash': u'5e1a48ce6835204474aaaad1c9181958', u'htype': u'bsr_m-1.0', u'pulse_id': 722177}\n",
        "[0.41801298689930422, 1.1480863569123769] [1429623881976, 1429623881981] {u'global_timestamp': None, u'hash': u'5e1a48ce6835204474aaaad1c9181958', u'htype': u'bsr_m-1.0', u'pulse_id': 722178}\n",
        "[-0.52596401031628004, 0.97985194606973969] [1429623881985, 1429623881991] {u'global_timestamp': None, u'hash': u'5e1a48ce6835204474aaaad1c9181958', u'htype': u'bsr_m-1.0', u'pulse_id': 722179}\n",
        "[-0.89443258322801256, 0.094625252482095981] [1429623881996, 1429623882000] {u'global_timestamp': None, u'hash': u'5e1a48ce6835204474aaaad1c9181958', u'htype': u'bsr_m-1.0', u'pulse_id': 722180}\n",
        "[-0.34862442518073178, -0.69372038419813276]"
       ]
      },
      {
       "output_type": "stream",
       "stream": "stderr",
       "text": [
        "\u001b[2J\u001b[H\u001b[2J\u001b[H\u001b[2J\u001b[H\u001b[2J\u001b[H\u001b[2J\u001b[H\u001b[2J\u001b[H\u001b[2J\u001b[H"
       ]
      },
      {
       "output_type": "stream",
       "stream": "stdout",
       "text": [
        " [1429623882006, 1429623882011] {u'global_timestamp': None, u'hash': u'5e1a48ce6835204474aaaad1c9181958', u'htype': u'bsr_m-1.0', u'pulse_id': 722181}\n",
        "[0.6096469604401763, -0.66038362124931771] [1429623882015, 1429623882020] {u'global_timestamp': None, u'hash': u'5e1a48ce6835204474aaaad1c9181958', u'htype': u'bsr_m-1.0', u'pulse_id': 722182}\n",
        "[1.0993512809897634, 0.16398587521375971] [1429623882026, 1429623882031] {u'global_timestamp': None, u'hash': u'5e1a48ce6835204474aaaad1c9181958', u'htype': u'bsr_m-1.0', u'pulse_id': 722183}\n",
        "[0.67025664254192052, 1.0214665919176606] [1429623882036, 1429623882041] {u'global_timestamp': None, u'hash': u'5e1a48ce6835204474aaaad1c9181958', u'htype': u'bsr_m-1.0', u'pulse_id': 722184}\n",
        "[-0.28312932318571715, 1.1236947123997487] [1429623882046, 1429623882051] {u'global_timestamp': None, u'hash': u'5e1a48ce6835204474aaaad1c9181958', u'htype': u'bsr_m-1.0', u'pulse_id': 722185}\n",
        "[-0.88426795606780595, 0.3766821741379241] [1429623882055, 1429623882062] {u'global_timestamp': None, u'hash': u'5e1a48ce6835204474aaaad1c9181958', u'htype': u'bsr_m-1.0', u'pulse_id': 722186}\n",
        "[-0.58047516932539567, -0.5327711402147155]"
       ]
      },
      {
       "output_type": "stream",
       "stream": "stdout",
       "text": [
        " [1429623882066, 1429623882071] {u'global_timestamp': None, u'hash': u'5e1a48ce6835204474aaaad1c9181958', u'htype': u'bsr_m-1.0', u'pulse_id': 722187}\n",
        "[0.34894334992275777, -0.76851804760119746] [1429623882076, 1429623882081] {u'global_timestamp': None, u'hash': u'5e1a48ce6835204474aaaad1c9181958', u'htype': u'bsr_m-1.0', u'pulse_id': 722188}\n",
        "[1.0494845013130061, -0.11381392857295591] [1429623882086, 1429623882091] {u'global_timestamp': None, u'hash': u'5e1a48ce6835204474aaaad1c9181958', u'htype': u'bsr_m-1.0', u'pulse_id': 722189}\n",
        "[0.877073980968198, 0.82940926915818181] [1429623882096, 1429623882101] {u'global_timestamp': None, u'hash': u'5e1a48ce6835204474aaaad1c9181958', u'htype': u'bsr_m-1.0', u'pulse_id': 722190}\n",
        "[-0.0097747738185014338, 1.1939564874948485] [1429623882105, 1429623882111] {u'global_timestamp': None, u'hash': u'5e1a48ce6835204474aaaad1c9181958', u'htype': u'bsr_m-1.0', u'pulse_id': 722191}\n",
        "[-0.79569710780877767, 0.64466469509394497] [1429623882116, 1429623882120] {u'global_timestamp': None, u'hash': u'5e1a48ce6835204474aaaad1c9181958', u'htype': u'bsr_m-1.0', u'pulse_id': 722192}\n",
        "[-0.75811965159851114, -0.313449767300025]"
       ]
      },
      {
       "output_type": "stream",
       "stream": "stderr",
       "text": [
        "\u001b[2J\u001b[H\u001b[2J\u001b[H\u001b[2J\u001b[H\u001b[2J\u001b[H\u001b[2J\u001b[H\u001b[2J\u001b[H\u001b[2J\u001b[H"
       ]
      },
      {
       "output_type": "stream",
       "stream": "stdout",
       "text": [
        " [1429623882126, 1429623882131] {u'global_timestamp': None, u'hash': u'5e1a48ce6835204474aaaad1c9181958', u'htype': u'bsr_m-1.0', u'pulse_id': 722193}\n",
        "[0.068409054869897123, -0.79950088153327159] [1429623882135, 1429623882141] {u'global_timestamp': None, u'hash': u'5e1a48ce6835204474aaaad1c9181958', u'htype': u'bsr_m-1.0', u'pulse_id': 722194}\n",
        "[0.92398233060181423, -0.36661549471930482] [1429623882146, 1429623882151] {u'global_timestamp': None, u'hash': u'5e1a48ce6835204474aaaad1c9181958', u'htype': u'bsr_m-1.0', u'pulse_id': 722195}\n",
        "[1.021990051567631, 0.58721356485835718] [1429623882155, 1429623882161] {u'global_timestamp': None, u'hash': u'5e1a48ce6835204474aaaad1c9181958', u'htype': u'bsr_m-1.0', u'pulse_id': 722196}\n",
        "[0.27232437109713792, 1.1850402586320905] [1429623882166, 1429623882171] {u'global_timestamp': None, u'hash': u'5e1a48ce6835204474aaaad1c9181958', u'htype': u'bsr_m-1.0', u'pulse_id': 722197}\n",
        "[-0.63577554144550974, 0.87722548136537726]"
       ]
      },
      {
       "output_type": "stream",
       "stream": "stderr",
       "text": [
        "\u001b[2J\u001b[H\u001b[2J\u001b[H\u001b[2J\u001b[H\u001b[2J\u001b[H\u001b[2J\u001b[H\u001b[2J\u001b[H\u001b[2J\u001b[H"
       ]
      },
      {
       "output_type": "stream",
       "stream": "stdout",
       "text": [
        " [1429623882175, 1429623882182] {u'global_timestamp': None, u'hash': u'5e1a48ce6835204474aaaad1c9181958', u'htype': u'bsr_m-1.0', u'pulse_id': 722198}\n",
        "[-0.86740681438591372, -0.05322728028334206] [1429623882186, 1429623882191] {u'global_timestamp': None, u'hash': u'5e1a48ce6835204474aaaad1c9181958', u'htype': u'bsr_m-1.0', u'pulse_id': 722199}\n",
        "[-0.20960872360501151, -0.75086404825699216] [1429623882196, 1429623882201] {u'global_timestamp': None, u'hash': u'5e1a48ce6835204474aaaad1c9181958', u'htype': u'bsr_m-1.0', u'pulse_id': 722200}\n",
        "[0.73284219982455512, -0.57428079539739185] [1429623882205, 1429623882212] {u'global_timestamp': None, u'hash': u'5e1a48ce6835204474aaaad1c9181958', u'htype': u'bsr_m-1.0', u'pulse_id': 722201}\n",
        "[1.093460923236758, 0.314172649971736] [1429623882216, 1429623882221] {u'global_timestamp': None, u'hash': u'5e1a48ce6835204474aaaad1c9181958', u'htype': u'bsr_m-1.0', u'pulse_id': 722202}\n",
        "[0.54069625540486732, 1.0976562874910016] [1429623882226, 1429623882230] {u'global_timestamp': None, u'hash': u'5e1a48ce6835204474aaaad1c9181958', u'htype': u'bsr_m-1.0', u'pulse_id': 722203}\n",
        "[-0.41724251727134909, 1.0558388740451079]"
       ]
      },
      {
       "output_type": "stream",
       "stream": "stderr",
       "text": [
        "\u001b[2J\u001b[H\u001b[2J\u001b[H\u001b[2J\u001b[H\u001b[2J\u001b[H\u001b[2J\u001b[H\u001b[2J\u001b[H\u001b[2J\u001b[H"
       ]
      },
      {
       "output_type": "stream",
       "stream": "stdout",
       "text": [
        " [1429623882236, 1429623882241] {u'global_timestamp': None, u'hash': u'5e1a48ce6835204474aaaad1c9181958', u'htype': u'bsr_m-1.0', u'pulse_id': 722204}\n",
        "[-0.89963090495436926, 0.22716714670532673] [1429623882246, 1429623882251] {u'global_timestamp': None, u'hash': u'5e1a48ce6835204474aaaad1c9181958', u'htype': u'bsr_m-1.0', u'pulse_id': 722205}\n",
        "[-0.46296324865645289, -0.62648193002761587] [1429623882256, 1429623882261] {u'global_timestamp': None, u'hash': u'5e1a48ce6835204474aaaad1c9181958', u'htype': u'bsr_m-1.0', u'pulse_id': 722206}\n",
        "[0.49129022221816854, -0.72026733180986935] [1429623882266, 1429623882271] {u'global_timestamp': None, u'hash': u'5e1a48ce6835204474aaaad1c9181958', u'htype': u'bsr_m-1.0', u'pulse_id': 722207}\n",
        "[1.0857932673127193, 0.032036807243630089] [1429623882275, 1429623882282] {u'global_timestamp': None, u'hash': u'5e1a48ce6835204474aaaad1c9181958', u'htype': u'bsr_m-1.0', u'pulse_id': 722208}\n",
        "[0.77396252865853088, 0.93876553111538641] [1429623882286, 1429623882291] {u'global_timestamp': None, u'hash': u'5e1a48ce6835204474aaaad1c9181958', u'htype': u'bsr_m-1.0', u'pulse_id': 722209}\n",
        "[-0.1575062507068665, 1.1662766326714584]"
       ]
      },
      {
       "output_type": "stream",
       "stream": "stderr",
       "text": [
        "\u001b[2J\u001b[H\u001b[2J\u001b[H\u001b[2J\u001b[H\u001b[2J\u001b[H\u001b[2J\u001b[H\u001b[2J\u001b[H"
       ]
      },
      {
       "output_type": "stream",
       "stream": "stdout",
       "text": [
        " [1429623882295, 1429623882302] {u'global_timestamp': None, u'hash': u'5e1a48ce6835204474aaaad1c9181958', u'htype': u'bsr_m-1.0', u'pulse_id': 722210}\n",
        "[-0.8522249707232894, 0.50539745436239425] [1429623882305, 1429623882311] {u'global_timestamp': None, u'hash': u'5e1a48ce6835204474aaaad1c9181958', u'htype': u'bsr_m-1.0', u'pulse_id': 722211}\n",
        "[-0.67147244406716367, -0.43626273507493513] [1429623882316, 1429623882321] {u'global_timestamp': None, u'hash': u'5e1a48ce6835204474aaaad1c9181958', u'htype': u'bsr_m-1.0', u'pulse_id': 722212}\n",
        "[0.21856828983685345, -0.79294590016030786] [1429623882325, 1429623882330] {u'global_timestamp': None, u'hash': u'5e1a48ce6835204474aaaad1c9181958', u'htype': u'bsr_m-1.0', u'pulse_id': 722213}\n",
        "[0.99959788487055123, -0.23671918384292479] [1429623882336, 1429623882341] {u'global_timestamp': None, u'hash': u'5e1a48ce6835204474aaaad1c9181958', u'htype': u'bsr_m-1.0', u'pulse_id': 722214}\n",
        "[0.95354133326246682, 0.72102513606593921]"
       ]
      },
      {
       "output_type": "stream",
       "stream": "stderr",
       "text": [
        "\u001b[2J\u001b[H\u001b[2J\u001b[H\u001b[2J\u001b[H\u001b[2J\u001b[H\u001b[2J\u001b[H\u001b[2J\u001b[H\u001b[2J\u001b[H"
       ]
      },
      {
       "output_type": "stream",
       "stream": "stdout",
       "text": [
        " [1429623882346, 1429623882351] {u'global_timestamp': None, u'hash': u'5e1a48ce6835204474aaaad1c9181958', u'htype': u'bsr_m-1.0', u'pulse_id': 722215}\n",
        "[0.122742816160403, 1.1997413487063011] [1429623882356, 1429623882361] {u'global_timestamp': None, u'hash': u'5e1a48ce6835204474aaaad1c9181958', u'htype': u'bsr_m-1.0', u'pulse_id': 722216}\n",
        "[-0.72896534123566503, 0.75929997588953779] [1429623882365, 1429623882371] {u'global_timestamp': None, u'hash': u'5e1a48ce6835204474aaaad1c9181958', u'htype': u'bsr_m-1.0', u'pulse_id': 722217}\n",
        "[-0.81852658686920121, -0.19535921541607681] [1429623882375, 1429623882382] {u'global_timestamp': None, u'hash': u'5e1a48ce6835204474aaaad1c9181958', u'htype': u'bsr_m-1.0', u'pulse_id': 722218}\n",
        "[-0.063598724537578061, -0.78652696736058747] [1429623882386, 1429623882391] {u'global_timestamp': None, u'hash': u'5e1a48ce6835204474aaaad1c9181958', u'htype': u'bsr_m-1.0', u'pulse_id': 722219}\n",
        "[0.84174105065972105, -0.47068637511598005] [1429623882396, 1429623882401] {u'global_timestamp': None, u'hash': u'5e1a48ce6835204474aaaad1c9181958', u'htype': u'bsr_m-1.0', u'pulse_id': 722220}\n",
        "[1.0651275245945859, 0.46178017738157123]"
       ]
      },
      {
       "output_type": "stream",
       "stream": "stdout",
       "text": [
        " [1429623882406, 1429623882411] {u'global_timestamp': None, u'hash': u'5e1a48ce6835204474aaaad1c9181958', u'htype': u'bsr_m-1.0', u'pulse_id': 722221}\n",
        "[0.40118020333080795, 1.1535672420556471] [1429623882416, 1429623882421] {u'global_timestamp': None, u'hash': u'5e1a48ce6835204474aaaad1c9181958', u'htype': u'bsr_m-1.0', u'pulse_id': 722222}\n",
        "[-0.53967080791164457, 0.96864898198440619] [1429623882426, 1429623882431] {u'global_timestamp': None, u'hash': u'5e1a48ce6835204474aaaad1c9181958', u'htype': u'bsr_m-1.0', u'pulse_id': 722223}\n",
        "[-0.89241142835320275, 0.077038392683098533] [1429623882435, 1429623882441] {u'global_timestamp': None, u'hash': u'5e1a48ce6835204474aaaad1c9181958', u'htype': u'bsr_m-1.0', u'pulse_id': 722224}\n",
        "[-0.33273355830661466, -0.70152186191755539] [1429623882446, 1429623882451] {u'global_timestamp': None, u'hash': u'5e1a48ce6835204474aaaad1c9181958', u'htype': u'bsr_m-1.0', u'pulse_id': 722225}\n",
        "[0.62479754959402478, -0.6512270742522861] [1429623882455, 1429623882462] {u'global_timestamp': None, u'hash': u'5e1a48ce6835204474aaaad1c9181958', u'htype': u'bsr_m-1.0', u'pulse_id': 722226}\n",
        "[1.0998322106258167, 0.18168195984575458]"
       ]
      },
      {
       "output_type": "stream",
       "stream": "stderr",
       "text": [
        "\u001b[2J\u001b[H\u001b[2J\u001b[H\u001b[2J\u001b[H\u001b[2J\u001b[H\u001b[2J\u001b[H\u001b[2J\u001b[H\u001b[2J\u001b[H"
       ]
      },
      {
       "output_type": "stream",
       "stream": "stdout",
       "text": [
        " [1429623882466, 1429623882470] {u'global_timestamp': None, u'hash': u'5e1a48ce6835204474aaaad1c9181958', u'htype': u'bsr_m-1.0', u'pulse_id': 722227}\n",
        "[0.65562574817071173, 1.0314325155836381] [1429623882476, 1429623882481] {u'global_timestamp': None, u'hash': u'5e1a48ce6835204474aaaad1c9181958', u'htype': u'bsr_m-1.0', u'pulse_id': 722228}\n",
        "[-0.29942046475312489, 1.1167678508414209] [1429623882485, 1429623882491] {u'global_timestamp': None, u'hash': u'5e1a48ce6835204474aaaad1c9181958', u'htype': u'bsr_m-1.0', u'pulse_id': 722229}\n",
        "[-0.88724134440478664, 0.35923105192715876] [1429623882496, 1429623882501] {u'global_timestamp': None, u'hash': u'5e1a48ce6835204474aaaad1c9181958', u'htype': u'bsr_m-1.0', u'pulse_id': 722230}\n",
        "[-0.56739708490741203, -0.54470204179731407] [1429623882505, 1429623882510] {u'global_timestamp': None, u'hash': u'5e1a48ce6835204474aaaad1c9181958', u'htype': u'bsr_m-1.0', u'pulse_id': 722231}\n",
        "[0.36604897659448787, -0.76395951266275985] [1429623882516, 1429623882521] {u'global_timestamp': None, u'hash': u'5e1a48ce6835204474aaaad1c9181958', u'htype': u'bsr_m-1.0', u'pulse_id': 722232}\n",
        "[1.0548908359631333, -0.096957053113120695]"
       ]
      },
      {
       "output_type": "stream",
       "stream": "stderr",
       "text": [
        "\u001b[2J\u001b[H\u001b[2J\u001b[H\u001b[2J\u001b[H\u001b[2J\u001b[H\u001b[2J\u001b[H\u001b[2J\u001b[H\u001b[2J\u001b[H"
       ]
      },
      {
       "output_type": "stream",
       "stream": "stdout",
       "text": [
        " [1429623882526, 1429623882530] {u'global_timestamp': None, u'hash': u'5e1a48ce6835204474aaaad1c9181958', u'htype': u'bsr_m-1.0', u'pulse_id': 722233}\n",
        "[0.86581046445198484, 0.84306635158110654] [1429623882535, 1429623882541] {u'global_timestamp': None, u'hash': u'5e1a48ce6835204474aaaad1c9181958', u'htype': u'bsr_m-1.0', u'pulse_id': 722234}\n",
        "[-0.027352516360416163, 1.191857518284088] [1429623882546, 1429623882551] {u'global_timestamp': None, u'hash': u'5e1a48ce6835204474aaaad1c9181958', u'htype': u'bsr_m-1.0', u'pulse_id': 722235}\n",
        "[-0.80342818094727064, 0.62873945686198018] [1429623882556, 1429623882561] {u'global_timestamp': None, u'hash': u'5e1a48ce6835204474aaaad1c9181958', u'htype': u'bsr_m-1.0', u'pulse_id': 722236}\n",
        "[-0.74889614234372237, -0.3285596839657246] [1429623882565, 1429623882570] {u'global_timestamp': None, u'hash': u'5e1a48ce6835204474aaaad1c9181958', u'htype': u'bsr_m-1.0', u'pulse_id': 722237}\n",
        "[0.086107094645507087, -0.79990348893321261]"
       ]
      },
      {
       "output_type": "stream",
       "stream": "stderr",
       "text": [
        "\u001b[2J\u001b[H\u001b[2J\u001b[H\u001b[2J\u001b[H\u001b[2J\u001b[H\u001b[2J\u001b[H\u001b[2J\u001b[H"
       ]
      },
      {
       "output_type": "stream",
       "stream": "stdout",
       "text": [
        " [1429623882575, 1429623882580] {u'global_timestamp': None, u'hash': u'5e1a48ce6835204474aaaad1c9181958', u'htype': u'bsr_m-1.0', u'pulse_id': 722238}\n",
        "[0.93388340474724163, -0.35194063746670073] [1429623882586, 1429623882591] {u'global_timestamp': None, u'hash': u'5e1a48ce6835204474aaaad1c9181958', u'htype': u'bsr_m-1.0', u'pulse_id': 722239}\n",
        "[1.0149911581747129, 0.60347389068203383] [1429623882596, 1429623882600] {u'global_timestamp': None, u'hash': u'5e1a48ce6835204474aaaad1c9181958', u'htype': u'bsr_m-1.0', u'pulse_id': 722240}\n",
        "[0.25486026047427246, 1.1879363844528861] [1429623882606, 1429623882611] {u'global_timestamp': None, u'hash': u'5e1a48ce6835204474aaaad1c9181958', u'htype': u'bsr_m-1.0', u'pulse_id': 722241}\n",
        "[-0.64764844653153253, 0.86409472245982077] [1429623882615, 1429623882621] {u'global_timestamp': None, u'hash': u'5e1a48ce6835204474aaaad1c9181958', u'htype': u'bsr_m-1.0', u'pulse_id': 722242}\n",
        "[-0.86277261975371156, -0.070312564733079175] [1429623882626, 1429623882631] {u'global_timestamp': None, u'hash': u'5e1a48ce6835204474aaaad1c9181958', u'htype': u'bsr_m-1.0', u'pulse_id': 722243}\n",
        "[-0.19272808642774761, -0.75619572652064759]"
       ]
      },
      {
       "output_type": "stream",
       "stream": "stderr",
       "text": [
        "\u001b[2J\u001b[H\u001b[2J\u001b[H\u001b[2J\u001b[H\u001b[2J\u001b[H\u001b[2J\u001b[H\u001b[2J\u001b[H"
       ]
      },
      {
       "output_type": "stream",
       "stream": "stdout",
       "text": [
        " [1429623882636, 1429623882641] {u'global_timestamp': None, u'hash': u'5e1a48ce6835204474aaaad1c9181958', u'htype': u'bsr_m-1.0', u'pulse_id': 722244}\n",
        "[0.74644929957515127, -0.56295694706765476] [1429623882646, 1429623882651] {u'global_timestamp': None, u'hash': u'5e1a48ce6835204474aaaad1c9181958', u'htype': u'bsr_m-1.0', u'pulse_id': 722245}\n",
        "[1.0912841808023439, 0.33174093096310736] [1429623882656, 1429623882661] {u'global_timestamp': None, u'hash': u'5e1a48ce6835204474aaaad1c9181958', u'htype': u'bsr_m-1.0', u'pulse_id': 722246}\n",
        "[0.5247369577410812, 1.1053168046208195] [1429623882666, 1429623882670] {u'global_timestamp': None, u'hash': u'5e1a48ce6835204474aaaad1c9181958', u'htype': u'bsr_m-1.0', u'pulse_id': 722247}\n",
        "[-0.43231146549249422, 1.0465485831925023] [1429623882676, 1429623882680] {u'global_timestamp': None, u'hash': u'5e1a48ce6835204474aaaad1c9181958', u'htype': u'bsr_m-1.0', u'pulse_id': 722248}\n",
        "[-0.89995518223236781, 0.20946749843581208]"
       ]
      },
      {
       "output_type": "stream",
       "stream": "stderr",
       "text": [
        "\u001b[2J\u001b[H\u001b[2J\u001b[H\u001b[2J\u001b[H\u001b[2J\u001b[H\u001b[2J\u001b[H\u001b[2J\u001b[H"
       ]
      },
      {
       "output_type": "stream",
       "stream": "stdout",
       "text": [
        " [1429623882686, 1429623882690] {u'global_timestamp': None, u'hash': u'5e1a48ce6835204474aaaad1c9181958', u'htype': u'bsr_m-1.0', u'pulse_id': 722249}\n",
        "[-0.44824471595739424, -0.63631796072115798] [1429623882696, 1429623882701] {u'global_timestamp': None, u'hash': u'5e1a48ce6835204474aaaad1c9181958', u'htype': u'bsr_m-1.0', u'pulse_id': 722250}\n",
        "[0.50751941380876109, -0.71319654366897578] [1429623882705, 1429623882710] {u'global_timestamp': None, u'hash': u'5e1a48ce6835204474aaaad1c9181958', u'htype': u'bsr_m-1.0', u'pulse_id': 722251}\n",
        "[1.0886120738912066, 0.04951356421083189] [1429623882716, 1429623882721] {u'global_timestamp': None, u'hash': u'5e1a48ce6835204474aaaad1c9181958', u'htype': u'bsr_m-1.0', u'pulse_id': 722252}\n",
        "[0.76077935245624428, 0.95058020715144531] [1429623882725, 1429623882732] {u'global_timestamp': None, u'hash': u'5e1a48ce6835204474aaaad1c9181958', u'htype': u'bsr_m-1.0', u'pulse_id': 722253}\n",
        "[-0.17457085828687666, 1.1615668691149919]"
       ]
      },
      {
       "output_type": "stream",
       "stream": "stderr",
       "text": [
        "\u001b[2J\u001b[H\u001b[2J\u001b[H\u001b[2J\u001b[H\u001b[2J\u001b[H\u001b[2J\u001b[H\u001b[2J\u001b[H\u001b[2J\u001b[H"
       ]
      },
      {
       "output_type": "stream",
       "stream": "stdout",
       "text": [
        " [1429623882736, 1429623882741] {u'global_timestamp': None, u'hash': u'5e1a48ce6835204474aaaad1c9181958', u'htype': u'bsr_m-1.0', u'pulse_id': 722254}\n",
        "[-0.85748188816943161, 0.4884933861070303] [1429623882746, 1429623882750] {u'global_timestamp': None, u'hash': u'5e1a48ce6835204474aaaad1c9181958', u'htype': u'bsr_m-1.0', u'pulse_id': 722255}\n",
        "[-0.66008848572297174, -0.44981958563231977] [1429623882755, 1429623882760] {u'global_timestamp': None, u'hash': u'5e1a48ce6835204474aaaad1c9181958', u'htype': u'bsr_m-1.0', u'pulse_id': 722256}\n",
        "[0.2361267651695432, -0.79069142713787333] [1429623882765, 1429623882771] {u'global_timestamp': None, u'hash': u'5e1a48ce6835204474aaaad1c9181958', u'htype': u'bsr_m-1.0', u'pulse_id': 722257}\n",
        "[1.0071876959459216, -0.22072613934046226] [1429623882776, 1429623882781] {u'global_timestamp': None, u'hash': u'5e1a48ce6835204474aaaad1c9181958', u'htype': u'bsr_m-1.0', u'pulse_id': 722258}\n",
        "[0.94418444278002933, 0.73605282068856925] [1429623882786, 1429623882790] {u'global_timestamp': None, u'hash': u'5e1a48ce6835204474aaaad1c9181958', u'htype': u'bsr_m-1.0', u'pulse_id': 722259}\n",
        "[0.10504190607819942, 1.199987289510771]"
       ]
      },
      {
       "output_type": "stream",
       "stream": "stdout",
       "text": [
        " [1429623882796, 1429623882801] {u'global_timestamp': None, u'hash': u'5e1a48ce6835204474aaaad1c9181958', u'htype': u'bsr_m-1.0', u'pulse_id': 722260}\n",
        "[-0.73873613581998587, 0.74453805603443191] [1429623882805, 1429623882811] {u'global_timestamp': None, u'hash': u'5e1a48ce6835204474aaaad1c9181958', u'htype': u'bsr_m-1.0', u'pulse_id': 722261}\n",
        "[-0.81138404247514262, -0.21155695489405529] [1429623882816, 1429623882822] {u'global_timestamp': None, u'hash': u'5e1a48ce6835204474aaaad1c9181958', u'htype': u'bsr_m-1.0', u'pulse_id': 722262}\n",
        "[-0.04610966354150639, -0.78926839948508798] [1429623882826, 1429623882831] {u'global_timestamp': None, u'hash': u'5e1a48ce6835204474aaaad1c9181958', u'htype': u'bsr_m-1.0', u'pulse_id': 722263}\n",
        "[0.85349726623295463, -0.45745103983449892] [1429623882836, 1429623882841] {u'global_timestamp': None, u'hash': u'5e1a48ce6835204474aaaad1c9181958', u'htype': u'bsr_m-1.0', u'pulse_id': 722264}\n",
        "[1.0603422843635164, 0.47882377384911623] [1429623882845, 1429623882852] {u'global_timestamp': None, u'hash': u'5e1a48ce6835204474aaaad1c9181958', u'htype': u'bsr_m-1.0', u'pulse_id': 722265}\n",
        "[0.38425303509561459, 1.1587492957175674]"
       ]
      },
      {
       "output_type": "stream",
       "stream": "stderr",
       "text": [
        "\u001b[2J\u001b[H\u001b[2J\u001b[H\u001b[2J\u001b[H\u001b[2J\u001b[H\u001b[2J\u001b[H\u001b[2J\u001b[H\u001b[2J\u001b[H"
       ]
      },
      {
       "output_type": "stream",
       "stream": "stdout",
       "text": [
        " [1429623882856, 1429623882861] {u'global_timestamp': None, u'hash': u'5e1a48ce6835204474aaaad1c9181958', u'htype': u'bsr_m-1.0', u'pulse_id': 722266}\n",
        "[-0.55317714373916083, 0.95720513660219697] [1429623882866, 1429623882870] {u'global_timestamp': None, u'hash': u'5e1a48ce6835204474aaaad1c9181958', u'htype': u'bsr_m-1.0', u'pulse_id': 722267}\n",
        "[-0.8900792689008824, 0.059490066925166174] [1429623882875, 1429623882880] {u'global_timestamp': None, u'hash': u'5e1a48ce6835204474aaaad1c9181958', u'htype': u'bsr_m-1.0', u'pulse_id': 722268}\n",
        "[-0.31670708021961658, -0.70904081827761845] [1429623882886, 1429623882890] {u'global_timestamp': None, u'hash': u'5e1a48ce6835204474aaaad1c9181958', u'htype': u'bsr_m-1.0', u'pulse_id': 722269}\n",
        "[0.63978367627240484, -0.64180376741248168] [1429623882896, 1429623882901] {u'global_timestamp': None, u'hash': u'5e1a48ce6835204474aaaad1c9181958', u'htype': u'bsr_m-1.0', u'pulse_id': 722270}\n",
        "[1.0999998101395403, 0.19938378503471632]"
       ]
      },
      {
       "output_type": "stream",
       "stream": "stderr",
       "text": [
        "\u001b[2J\u001b[H\u001b[2J\u001b[H\u001b[2J\u001b[H\u001b[2J\u001b[H\u001b[2J\u001b[H\u001b[2J\u001b[H"
       ]
      },
      {
       "output_type": "stream",
       "stream": "stdout",
       "text": [
        " [1429623882905, 1429623882910] {u'global_timestamp': None, u'hash': u'5e1a48ce6835204474aaaad1c9181958', u'htype': u'bsr_m-1.0', u'pulse_id': 722271}\n",
        "[0.64082073029978615, 1.0411378826791753] [1429623882915, 1429623882921] {u'global_timestamp': None, u'hash': u'5e1a48ce6835204474aaaad1c9181958', u'htype': u'bsr_m-1.0', u'pulse_id': 722272}\n",
        "[-0.3155864348550087, 1.10955369009449] [1429623882925, 1429623882931] {u'global_timestamp': None, u'hash': u'5e1a48ce6835204474aaaad1c9181958', u'htype': u'bsr_m-1.0', u'pulse_id': 722273}\n",
        "[-0.88990534837914748, 0.34173002945868136] [1429623882936, 1429623882941] {u'global_timestamp': None, u'hash': u'5e1a48ce6835204474aaaad1c9181958', u'htype': u'bsr_m-1.0', u'pulse_id': 722274}\n",
        "[-0.55410984978590638, -0.55639956663992018] [1429623882946, 1429623882951] {u'global_timestamp': None, u'hash': u'5e1a48ce6835204474aaaad1c9181958', u'htype': u'bsr_m-1.0', u'pulse_id': 722275}\n",
        "[0.38307122811837213, -0.75909888948510229] [1429623882956, 1429623882961] {u'global_timestamp': None, u'hash': u'5e1a48ce6835204474aaaad1c9181958', u'htype': u'bsr_m-1.0', u'pulse_id': 722276}\n",
        "[1.0599979243404716, -0.080007116448825633]"
       ]
      },
      {
       "output_type": "stream",
       "stream": "stderr",
       "text": [
        "\u001b[2J\u001b[H\u001b[2J\u001b[H\u001b[2J\u001b[H\u001b[2J\u001b[H\u001b[2J\u001b[H\u001b[2J\u001b[H\u001b[2J\u001b[H"
       ]
      },
      {
       "output_type": "stream",
       "stream": "stdout",
       "text": [
        " [1429623882965, 1429623882971] {u'global_timestamp': None, u'hash': u'5e1a48ce6835204474aaaad1c9181958', u'htype': u'bsr_m-1.0', u'pulse_id': 722277}\n",
        "[0.85430695618119734, 0.85652190813152385] [1429623882976, 1429623882981] {u'global_timestamp': None, u'hash': u'5e1a48ce6835204474aaaad1c9181958', u'htype': u'bsr_m-1.0', u'pulse_id': 722278}\n",
        "[-0.044890348826314042, 1.1894477180816523] [1429623882985, 1429623882992] {u'global_timestamp': None, u'hash': u'5e1a48ce6835204474aaaad1c9181958', u'htype': u'bsr_m-1.0', u'pulse_id': 722279}\n",
        "[-0.81087613531899061, 0.61267985909944778] [1429623882996, 1429623883001] {u'global_timestamp': None, u'hash': u'5e1a48ce6835204474aaaad1c9181958', u'htype': u'bsr_m-1.0', u'pulse_id': 722280}\n",
        "[-0.73940660371990652, -0.34350395916811122] [1429623883005, 1429623883011] {u'global_timestamp': None, u'hash': u'5e1a48ce6835204474aaaad1c9181958', u'htype': u'bsr_m-1.0', u'pulse_id': 722281}\n",
        "[0.10380948821737206, -0.79999274387343511]"
       ]
      },
      {
       "output_type": "stream",
       "stream": "stderr",
       "text": [
        "\u001b[2J\u001b[H\u001b[2J\u001b[H\u001b[2J\u001b[H\u001b[2J\u001b[H\u001b[2J\u001b[H\u001b[2J\u001b[H\u001b[2J\u001b[H"
       ]
      },
      {
       "output_type": "stream",
       "stream": "stdout",
       "text": [
        " [1429623883015, 1429623883022] {u'global_timestamp': None, u'hash': u'5e1a48ce6835204474aaaad1c9181958', u'htype': u'bsr_m-1.0', u'pulse_id': 722282}\n",
        "[0.94352315425595368, -0.33709281156433896] [1429623883026, 1429623883030] {u'global_timestamp': None, u'hash': u'5e1a48ce6835204474aaaad1c9181958', u'htype': u'bsr_m-1.0', u'pulse_id': 722283}\n",
        "[1.0077055223779445, 0.619607774766606] [1429623883036, 1429623883041] {u'global_timestamp': None, u'hash': u'5e1a48ce6835204474aaaad1c9181958', u'htype': u'bsr_m-1.0', u'pulse_id': 722284}\n",
        "[0.23734761932414178, 1.1905229080975315] [1429623883046, 1429623883051] {u'global_timestamp': None, u'hash': u'5e1a48ce6835204474aaaad1c9181958', u'htype': u'bsr_m-1.0', u'pulse_id': 722285}\n",
        "[-0.65928705152527811, 0.85075584775401736] [1429623883055, 1429623883061] {u'global_timestamp': None, u'hash': u'5e1a48ce6835204474aaaad1c9181958', u'htype': u'bsr_m-1.0', u'pulse_id': 722286}\n",
        "[-0.85783670883399932, -0.087313137900188131] [1429623883066, 1429623883071] {u'global_timestamp': None, u'hash': u'5e1a48ce6835204474aaaad1c9181958', u'htype': u'bsr_m-1.0', u'pulse_id': 722287}\n",
        "[-0.17575571333104142, -0.76122774958138217]"
       ]
      },
      {
       "output_type": "stream",
       "stream": "stderr",
       "text": [
        "\u001b[2J\u001b[H\u001b[2J\u001b[H\u001b[2J\u001b[H\u001b[2J\u001b[H\u001b[2J\u001b[H\u001b[2J\u001b[H"
       ]
      },
      {
       "output_type": "stream",
       "stream": "stdout",
       "text": [
        " [1429623883075, 1429623883081] {u'global_timestamp': None, u'hash': u'5e1a48ce6835204474aaaad1c9181958', u'htype': u'bsr_m-1.0', u'pulse_id': 722288}\n",
        "[0.75985381329584845, -0.55139400122633897] [1429623883085, 1429623883091] {u'global_timestamp': None, u'hash': u'5e1a48ce6835204474aaaad1c9181958', u'htype': u'bsr_m-1.0', u'pulse_id': 722289}\n",
        "[1.0887967870503052, 0.34926792662522466] [1429623883095, 1429623883101] {u'global_timestamp': None, u'hash': u'5e1a48ce6835204474aaaad1c9181958', u'htype': u'bsr_m-1.0', u'pulse_id': 722290}\n",
        "[0.50864455486072713, 1.1126936111218695] [1429623883106, 1429623883111] {u'global_timestamp': None, u'hash': u'5e1a48ce6835204474aaaad1c9181958', u'htype': u'bsr_m-1.0', u'pulse_id': 722291}\n",
        "[-0.44721359650688441, 1.0369929986553059] [1429623883116, 1429623883121] {u'global_timestamp': None, u'hash': u'5e1a48ce6835204474aaaad1c9181958', u'htype': u'bsr_m-1.0', u'pulse_id': 722292}\n",
        "[-0.89996609085086199, 0.19176488321603163]"
       ]
      },
      {
       "output_type": "stream",
       "stream": "stdout",
       "text": [
        " [1429623883125, 1429623883131] {u'global_timestamp': None, u'hash': u'5e1a48ce6835204474aaaad1c9181958', u'htype': u'bsr_m-1.0', u'pulse_id': 722293}\n",
        "[-0.4333543728464565, -0.64589190383024886] [1429623883136, 1429623883141] {u'global_timestamp': None, u'hash': u'5e1a48ce6835204474aaaad1c9181958', u'htype': u'bsr_m-1.0', u'pulse_id': 722294}\n",
        "[0.5236208958632701, -0.7058395755253799] [1429623883146, 1429623883151] {u'global_timestamp': None, u'hash': u'5e1a48ce6835204474aaaad1c9181958', u'htype': u'bsr_m-1.0', u'pulse_id': 722295}\n",
        "[1.0911210665441604, 0.067037481024289552] [1429623883156, 1429623883161] {u'global_timestamp': None, u'hash': u'5e1a48ce6835204474aaaad1c9181958', u'htype': u'bsr_m-1.0', u'pulse_id': 722296}\n"
       ]
      },
      {
       "output_type": "stream",
       "stream": "stderr",
       "text": [
        "\u001b[2J\u001b[H\u001b[2J\u001b[H\u001b[2J\u001b[H"
       ]
      },
      {
       "ename": "KeyboardInterrupt",
       "evalue": "",
       "output_type": "pyerr",
       "traceback": [
        "\u001b[0;31m---------------------------------------------------------------------------\u001b[0m\n\u001b[0;31mKeyboardInterrupt\u001b[0m                         Traceback (most recent call last)",
        "\u001b[0;32m<ipython-input-8-86c243e45257>\u001b[0m in \u001b[0;36m<module>\u001b[0;34m()\u001b[0m\n\u001b[1;32m      1\u001b[0m \u001b[0msource_\u001b[0m \u001b[0;34m=\u001b[0m \u001b[0;34m'tcp://pineapple.psi.ch:51227'\u001b[0m  \u001b[0;31m# 'tcp://gfa-lc6-64:9999'\u001b[0m\u001b[0;34m\u001b[0m\u001b[0m\n\u001b[0;32m----> 2\u001b[0;31m \u001b[0mreceive\u001b[0m\u001b[0;34m(\u001b[0m\u001b[0msource_\u001b[0m\u001b[0;34m)\u001b[0m\u001b[0;34m\u001b[0m\u001b[0m\n\u001b[0m",
        "\u001b[0;32m<ipython-input-7-b5152fd0d0b6>\u001b[0m in \u001b[0;36mreceive\u001b[0;34m(source)\u001b[0m\n\u001b[1;32m      9\u001b[0m \u001b[0;34m\u001b[0m\u001b[0m\n\u001b[1;32m     10\u001b[0m     \u001b[0;32mwhile\u001b[0m \u001b[0mTrue\u001b[0m\u001b[0;34m:\u001b[0m\u001b[0;34m\u001b[0m\u001b[0m\n\u001b[0;32m---> 11\u001b[0;31m         \u001b[0mmessage_data\u001b[0m \u001b[0;34m=\u001b[0m \u001b[0mreceiver\u001b[0m\u001b[0;34m.\u001b[0m\u001b[0mreceive\u001b[0m\u001b[0;34m(\u001b[0m\u001b[0;34m)\u001b[0m\u001b[0;34m\u001b[0m\u001b[0m\n\u001b[0m\u001b[1;32m     12\u001b[0m         \u001b[0msys\u001b[0m\u001b[0;34m.\u001b[0m\u001b[0mstderr\u001b[0m\u001b[0;34m.\u001b[0m\u001b[0mwrite\u001b[0m\u001b[0;34m(\u001b[0m\u001b[0;34m\"\\x1b[2J\\x1b[H\"\u001b[0m\u001b[0;34m)\u001b[0m\u001b[0;34m\u001b[0m\u001b[0m\n\u001b[1;32m     13\u001b[0m         \u001b[0;32mif\u001b[0m \u001b[0;34m\"data_header\"\u001b[0m \u001b[0;32min\u001b[0m \u001b[0mmessage_data\u001b[0m\u001b[0;34m:\u001b[0m\u001b[0;34m\u001b[0m\u001b[0m\n",
        "\u001b[0;32m/Users/ebner/Git/bsread_python/bsread.pyc\u001b[0m in \u001b[0;36mreceive\u001b[0;34m(self)\u001b[0m\n\u001b[1;32m     74\u001b[0m         \"\"\"\n\u001b[1;32m     75\u001b[0m \u001b[0;34m\u001b[0m\u001b[0m\n\u001b[0;32m---> 76\u001b[0;31m         \u001b[0mheader\u001b[0m \u001b[0;34m=\u001b[0m \u001b[0mself\u001b[0m\u001b[0;34m.\u001b[0m\u001b[0msocket\u001b[0m\u001b[0;34m.\u001b[0m\u001b[0mrecv_json\u001b[0m\u001b[0;34m(\u001b[0m\u001b[0;34m)\u001b[0m\u001b[0;34m\u001b[0m\u001b[0m\n\u001b[0m\u001b[1;32m     77\u001b[0m \u001b[0;34m\u001b[0m\u001b[0m\n\u001b[1;32m     78\u001b[0m         \u001b[0;32mif\u001b[0m \u001b[0;32mnot\u001b[0m \u001b[0mself\u001b[0m\u001b[0;34m.\u001b[0m\u001b[0mreceive_handler\u001b[0m\u001b[0;34m:\u001b[0m\u001b[0;34m\u001b[0m\u001b[0m\n",
        "\u001b[0;32m/Users/ebner/anaconda/lib/python2.7/site-packages/zmq/sugar/socket.pyc\u001b[0m in \u001b[0;36mrecv_json\u001b[0;34m(self, flags, **kwargs)\u001b[0m\n\u001b[1;32m    397\u001b[0m             \u001b[0mThe\u001b[0m \u001b[0mPython\u001b[0m \u001b[0mobject\u001b[0m \u001b[0mthat\u001b[0m \u001b[0marrives\u001b[0m \u001b[0;32mas\u001b[0m \u001b[0ma\u001b[0m \u001b[0mmessage\u001b[0m\u001b[0;34m.\u001b[0m\u001b[0;34m\u001b[0m\u001b[0m\n\u001b[1;32m    398\u001b[0m         \"\"\"\n\u001b[0;32m--> 399\u001b[0;31m         \u001b[0mmsg\u001b[0m \u001b[0;34m=\u001b[0m \u001b[0mself\u001b[0m\u001b[0;34m.\u001b[0m\u001b[0mrecv\u001b[0m\u001b[0;34m(\u001b[0m\u001b[0mflags\u001b[0m\u001b[0;34m)\u001b[0m\u001b[0;34m\u001b[0m\u001b[0m\n\u001b[0m\u001b[1;32m    400\u001b[0m         \u001b[0;32mreturn\u001b[0m \u001b[0mjsonapi\u001b[0m\u001b[0;34m.\u001b[0m\u001b[0mloads\u001b[0m\u001b[0;34m(\u001b[0m\u001b[0mmsg\u001b[0m\u001b[0;34m,\u001b[0m \u001b[0;34m**\u001b[0m\u001b[0mkwargs\u001b[0m\u001b[0;34m)\u001b[0m\u001b[0;34m\u001b[0m\u001b[0m\n\u001b[1;32m    401\u001b[0m \u001b[0;34m\u001b[0m\u001b[0m\n",
        "\u001b[0;32m/Users/ebner/anaconda/lib/python2.7/site-packages/zmq/backend/cython/socket.so\u001b[0m in \u001b[0;36mzmq.backend.cython.socket.Socket.recv (zmq/backend/cython/socket.c:5616)\u001b[0;34m()\u001b[0m\n",
        "\u001b[0;32m/Users/ebner/anaconda/lib/python2.7/site-packages/zmq/backend/cython/socket.so\u001b[0m in \u001b[0;36mzmq.backend.cython.socket.Socket.recv (zmq/backend/cython/socket.c:5436)\u001b[0;34m()\u001b[0m\n",
        "\u001b[0;32m/Users/ebner/anaconda/lib/python2.7/site-packages/zmq/backend/cython/socket.so\u001b[0m in \u001b[0;36mzmq.backend.cython.socket._recv_copy (zmq/backend/cython/socket.c:1771)\u001b[0;34m()\u001b[0m\n",
        "\u001b[0;32m/Users/ebner/anaconda/lib/python2.7/site-packages/zmq/backend/cython/socket.so\u001b[0m in \u001b[0;36mzmq.backend.cython.checkrc._check_rc (zmq/backend/cython/socket.c:5863)\u001b[0;34m()\u001b[0m\n",
        "\u001b[0;31mKeyboardInterrupt\u001b[0m: "
       ]
      }
     ],
     "prompt_number": 8
    },
    {
     "cell_type": "code",
     "collapsed": false,
     "input": [],
     "language": "python",
     "metadata": {},
     "outputs": []
    }
   ],
   "metadata": {}
  }
 ]
}
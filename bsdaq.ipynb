{
 "worksheets": [
  {
   "cells": [
    {
     "cell_type": "code",
     "metadata": {},
     "outputs": [],
     "input": [
      "# [1] Start Sources\n",
      "# [2] Start Node Manager\n",
      "# [3] Start Cluster Manager"
     ],
     "language": "python",
     "prompt_number": 41
    },
    {
     "cell_type": "code",
     "metadata": {},
     "outputs": [],
     "input": [
      "base_url = 'http://localhost:8080'"
     ],
     "language": "python",
     "prompt_number": 42
    },
    {
     "cell_type": "code",
     "metadata": {},
     "outputs": [],
     "input": [
      "import requests\n",
      "import json"
     ],
     "language": "python",
     "prompt_number": 43
    },
    {
     "cell_type": "code",
     "metadata": {},
     "outputs": [],
     "input": [
      "# Configure receivers\n",
      "config = [{\"name\": \"group_1\", \"sources\": [{\"stream\": \"tcp://localhost:9001\"}, {\"stream\": \"tcp://localhost:9002\"}]}]\n",
      "headers = {'content-type': 'application/json'}\n",
      "response = requests.post(base_url+'/config', data=json.dumps(config), headers=headers)"
     ],
     "language": "python",
     "prompt_number": 44
    },
    {
     "cell_type": "code",
     "metadata": {},
     "outputs": [
      {
       "output_type": "stream",
       "stream": "stdout",
       "text": [
        "<Response [200]>\n"
       ]
      }
     ],
     "input": [
      "# Check response\n",
      "print response"
     ],
     "language": "python",
     "prompt_number": 45
    },
    {
     "cell_type": "code",
     "metadata": {},
     "outputs": [
      {
       "output_type": "stream",
       "stream": "stdout",
       "text": [
        "{\"339dea5e-5910-4f80-87be-bbe5a144bdd5\":[\"tcp://localhost:9001\",\"tcp://localhost:9002\"]}\n"
       ]
      }
     ],
     "input": [
      "# Get currently configured receivers\n",
      "response = requests.get(base_url+'/configuration')\n",
      "print response.text"
     ],
     "language": "python",
     "prompt_number": 46
    },
    {
     "cell_type": "code",
     "metadata": {},
     "outputs": [],
     "input": [
      "# Request stream\n",
      "config = {\"channels\": [{\"name\": \"TESTSOURCE_1_COS\"}, {\"name\": \"TESTSOURCE_2_SIN\"}]}\n",
      "headers = {'content-type': 'application/json'}\n",
      "response = requests.put(base_url+'/streams/test', data=json.dumps(config), headers=headers)"
     ],
     "language": "python",
     "prompt_number": 47
    },
    {
     "cell_type": "code",
     "metadata": {},
     "outputs": [
      {
       "output_type": "stream",
       "stream": "stdout",
       "text": [
        "<Response [200]>\n"
       ]
      }
     ],
     "input": [
      "# Check response\n",
      "print response"
     ],
     "language": "python",
     "prompt_number": 48
    },
    {
     "cell_type": "code",
     "metadata": {},
     "outputs": [
      {
       "output_type": "stream",
       "stream": "stdout",
       "text": [
        "{\"test\":{\"url\":\"tcp://pineapple.psi.ch:54663\",\"configuration\":{\"channels\":[{\"name\":\"TESTSOURCE_1_COS\",\"offset\":0,\"frequency\":100},{\"name\":\"TESTSOURCE_2_SIN\",\"offset\":0,\"frequency\":100}]}}}\n"
       ]
      }
     ],
     "input": [
      "# Get streams currently requested\n",
      "response = requests.get(base_url+'/streams')\n",
      "print response.text"
     ],
     "language": "python",
     "prompt_number": 49
    },
    {
     "cell_type": "code",
     "metadata": {},
     "outputs": [],
     "input": [
      "# Receiver Stream\n",
      "import bsread\n",
      "import zmq\n",
      "import sys\n",
      "\n",
      "def receive(source):\n",
      "    receiver = bsread.Bsread(mode=zmq.PULL)\n",
      "    receiver.connect(address=source, conn_type=\"connect\", )\n",
      "\n",
      "    while True:\n",
      "        message_data = receiver.receive()\n",
      "        if message_data['header']['pulse_id'] % 10 == 0:\n",
      "            sys.stderr.write(\"\\x1b[2J\\x1b[H\")\n",
      "        if \"data_header\" in message_data:\n",
      "            print \"Data Header: \", message_data['data_header']\n",
      "        print message_data['data'],  message_data['timestamp'], message_data['header']"
     ],
     "language": "python",
     "prompt_number": 50
    },
    {
     "cell_type": "code",
     "metadata": {},
     "outputs": [
      {
       "output_type": "stream",
       "stream": "stdout",
       "text": [
        "Using endianness: >\n",
        "Data Header:  {u'channels': [{u'name': u'TESTSOURCE_1_COS'}, {u'name': u'TESTSOURCE_2_SIN'}], u'htype': u'bsr_d-1.0', u'encoding': u'big'}\n",
        "[-0.60667839369784504, 0.90753490930174863] [1429867470865, 1429867470797] {u'global_timestamp': {u'epoch': 1429867470865, u'ns': 0}, u'hash': u'f52d3c1f5d96f0b1f026324e2cbca97', u'htype': u'bsr_m-1.0', u'pulse_id': 1429858142992}\n",
        "[-0.87719006253824683, -0.012366620909448151] [1429867470877, 1429867470805] {u'global_timestamp': {u'epoch': 1429867470877, u'ns': 0}, u'hash': u'f52d3c1f5d96f0b1f026324e2cbca97', u'htype': u'bsr_m-1.0', u'pulse_id': 1429858142993}\n",
        "[-0.24927769442384781, -0.73701925923534839] [1429867470885, 1429867470815] {u'global_timestamp': {u'epoch': 1429867470885, u'ns': 0}, u'hash': u'f52d3c1f5d96f0b1f026324e2cbca97', u'htype': u'bsr_m-1.0', u'pulse_id': 1429858142994}\n",
        "[0.69975897516722185, -0.60018071190598166] [1429867470897, 1429867470826] {u'global_timestamp': {u'epoch': 1429867470897, u'ns': 0}, u'hash': u'f52d3c1f5d96f0b1f026324e2cbca97', u'htype': u'bsr_m-1.0', u'pulse_id': 1429858142995}\n",
        "[1.0973800089197725, 0.27234029172732543] [1429867470905, 1429867470836] {u'global_timestamp': {u'epoch': 1429867470905, u'ns': 0}, u'hash': u'f52d3c1f5d96f0b1f026324e2cbca97', u'htype': u'bsr_m-1.0', u'pulse_id': 1429858142996}\n",
        "[0.57801446212505581, 1.0783519647608775] [1429867470915, 1429867470845] {u'global_timestamp': {u'epoch': 1429867470915, u'ns': 0}, u'hash': u'f52d3c1f5d96f0b1f026324e2cbca97', u'htype': u'bsr_m-1.0', u'pulse_id': 1429858142997}\n",
        "[-0.38083537667080014, 1.0768108921209008]"
       ]
      },
      {
       "output_type": "stream",
       "stream": "stdout",
       "text": [
        " [1429867470927, 1429867470856] {u'global_timestamp': {u'epoch': 1429867470927, u'ns': 0}, u'hash': u'f52d3c1f5d96f0b1f026324e2cbca97', u'htype': u'bsr_m-1.0', u'pulse_id': 1429858142998}\n",
        "[-0.89760738764147341, 0.26913392888556931] [1429867470935, 1429867470865] {u'global_timestamp': {u'epoch': 1429867470935, u'ns': 0}, u'hash': u'f52d3c1f5d96f0b1f026324e2cbca97', u'htype': u'bsr_m-1.0', u'pulse_id': 1429858142999}\n",
        "[-0.49718376711675838, -0.60210444973970656] [1429867470945, 1429867470877] {u'global_timestamp': {u'epoch': 1429867470945, u'ns': 0}, u'hash': u'f52d3c1f5d96f0b1f026324e2cbca97', u'htype': u'bsr_m-1.0', u'pulse_id': 1429858143000}\n",
        "[0.45228785484106016, -0.73589169636848695] [1429867470955, 1429867470886] {u'global_timestamp': {u'epoch': 1429867470955, u'ns': 0}, u'hash': u'f52d3c1f5d96f0b1f026324e2cbca97', u'htype': u'bsr_m-1.0', u'pulse_id': 1429858143001}\n",
        "[1.0778676477166889, -0.0092244334417702356] [1429867470965, 1429867470897] {u'global_timestamp': {u'epoch': 1429867470965, u'ns': 0}, u'hash': u'f52d3c1f5d96f0b1f026324e2cbca97', u'htype': u'bsr_m-1.0', u'pulse_id': 1429858143002}\n",
        "[0.80440043494930125, 0.9098028087033998]"
       ]
      },
      {
       "output_type": "stream",
       "stream": "stdout",
       "text": [
        " [1429867470975, 1429867470905] {u'global_timestamp': {u'epoch': 1429867470975, u'ns': 0}, u'hash': u'f52d3c1f5d96f0b1f026324e2cbca97', u'htype': u'bsr_m-1.0', u'pulse_id': 1429858143003}\n",
        "[-0.11668928920143273, 1.1762406219500281] [1429867470985, 1429867470915] {u'global_timestamp': {u'epoch': 1429867470985, u'ns': 0}, u'hash': u'f52d3c1f5d96f0b1f026324e2cbca97', u'htype': u'bsr_m-1.0', u'pulse_id': 1429858143004}\n",
        "[-0.83855588017422589, 0.54512730954009436] [1429867470997, 1429867470927] {u'global_timestamp': {u'epoch': 1429867470997, u'ns': 0}, u'hash': u'f52d3c1f5d96f0b1f026324e2cbca97', u'htype': u'bsr_m-1.0', u'pulse_id': 1429858143005}\n",
        "[-0.69751852328703867, -0.40329445962486771] [1429867471006, 1429867470935] {u'global_timestamp': {u'epoch': 1429867471006, u'ns': 0}, u'hash': u'f52d3c1f5d96f0b1f026324e2cbca97', u'htype': u'bsr_m-1.0', u'pulse_id': 1429858143006}\n",
        "[0.17675368596514457, -0.79705008484567319] [1429867471016, 1429867470945] {u'global_timestamp': {u'epoch': 1429867471016, u'ns': 0}, u'hash': u'f52d3c1f5d96f0b1f026324e2cbca97', u'htype': u'bsr_m-1.0', u'pulse_id': 1429858143007}\n",
        "[0.980458910308732, -0.27412246019141528]"
       ]
      },
      {
       "output_type": "stream",
       "stream": "stderr",
       "text": [
        "\u001b[2J\u001b[H\u001b[2J\u001b[H"
       ]
      },
      {
       "output_type": "stream",
       "stream": "stdout",
       "text": [
        " [1429867471025, 1429867470956] {u'global_timestamp': {u'epoch': 1429867471025, u'ns': 0}, u'hash': u'f52d3c1f5d96f0b1f026324e2cbca97', u'htype': u'bsr_m-1.0', u'pulse_id': 1429858143008}\n",
        "[0.9746742729587704, 0.68471116783507924] [1429867471035, 1429867470966] {u'global_timestamp': {u'epoch': 1429867471035, u'ns': 0}, u'hash': u'f52d3c1f5d96f0b1f026324e2cbca97', u'htype': u'bsr_m-1.0', u'pulse_id': 1429858143009}\n",
        "[0.16471814281759264, 1.1979035835140797] [1429867471045, 1429867470975] {u'global_timestamp': {u'epoch': 1429867471045, u'ns': 0}, u'hash': u'f52d3c1f5d96f0b1f026324e2cbca97', u'htype': u'bsr_m-1.0', u'pulse_id': 1429858143010}\n",
        "[-0.70473954936707273, 0.7936280465783947] [1429867471055, 1429867470986] {u'global_timestamp': {u'epoch': 1429867471055, u'ns': 0}, u'hash': u'f52d3c1f5d96f0b1f026324e2cbca97', u'htype': u'bsr_m-1.0', u'pulse_id': 1429858143011}\n",
        "[-0.83432341111022668, -0.15642637872546739] [1429867471065, 1429867470997] {u'global_timestamp': {u'epoch': 1429867471065, u'ns': 0}, u'hash': u'f52d3c1f5d96f0b1f026324e2cbca97', u'htype': u'bsr_m-1.0', u'pulse_id': 1429858143012}\n",
        "[-0.10489463753181003, -0.7787840351735964] [1429867471075, 1429867471006] {u'global_timestamp': {u'epoch': 1429867471075, u'ns': 0}, u'hash': u'f52d3c1f5d96f0b1f026324e2cbca97', u'htype': u'bsr_m-1.0', u'pulse_id': 1429858143013}\n",
        "[0.81291332087331936, -0.50125216357696578]"
       ]
      },
      {
       "output_type": "stream",
       "stream": "stdout",
       "text": [
        " [1429867471086, 1429867471016] {u'global_timestamp': {u'epoch': 1429867471085, u'ns': 0}, u'hash': u'f52d3c1f5d96f0b1f026324e2cbca97', u'htype': u'bsr_m-1.0', u'pulse_id': 1429858143014}\n",
        "[1.075272059835745, 0.42100771322228353] [1429867471095, 1429867471025] {u'global_timestamp': {u'epoch': 1429867471095, u'ns': 0}, u'hash': u'f52d3c1f5d96f0b1f026324e2cbca97', u'htype': u'bsr_m-1.0', u'pulse_id': 1429858143015}\n",
        "[0.44097016468272721, 1.1400741177142544] [1429867471105, 1429867471036] {u'global_timestamp': {u'epoch': 1429867471105, u'ns': 0}, u'hash': u'f52d3c1f5d96f0b1f026324e2cbca97', u'htype': u'bsr_m-1.0', u'pulse_id': 1429858143016}\n",
        "[-0.50681812741511123, 0.9948407137536539] [1429867471116, 1429867471045] {u'global_timestamp': {u'epoch': 1429867471116, u'ns': 0}, u'hash': u'f52d3c1f5d96f0b1f026324e2cbca97', u'htype': u'bsr_m-1.0', u'pulse_id': 1429858143017}\n",
        "[-0.89670063165266967, 0.1188344231636999] [1429867471125, 1429867471055] {u'global_timestamp': {u'epoch': 1429867471125, u'ns': 0}, u'hash': u'f52d3c1f5d96f0b1f026324e2cbca97', u'htype': u'bsr_m-1.0', u'pulse_id': 1429858143018}\n",
        "[-0.3702211716692263, -0.68254861039719494]"
       ]
      },
      {
       "output_type": "stream",
       "stream": "stdout",
       "text": [
        " [1429867471135, 1429867471066] {u'global_timestamp': {u'epoch': 1429867471135, u'ns': 0}, u'hash': u'f52d3c1f5d96f0b1f026324e2cbca97', u'htype': u'bsr_m-1.0', u'pulse_id': 1429858143019}\n",
        "[0.58857746501086694, -0.67252052164035381] [1429867471145, 1429867471075] {u'global_timestamp': {u'epoch': 1429867471145, u'ns': 0}, u'hash': u'f52d3c1f5d96f0b1f026324e2cbca97', u'htype': u'bsr_m-1.0', u'pulse_id': 1429858143020}\n",
        "[1.0981802335503899, 0.13969891087808456] [1429867471156, 1429867471086] {u'global_timestamp': {u'epoch': 1429867471156, u'ns': 0}, u'hash': u'f52d3c1f5d96f0b1f026324e2cbca97', u'htype': u'bsr_m-1.0', u'pulse_id': 1429858143021}\n",
        "[0.69006069870768072, 1.0073588866424916] [1429867471165, 1429867471095] {u'global_timestamp': {u'epoch': 1429867471165, u'ns': 0}, u'hash': u'f52d3c1f5d96f0b1f026324e2cbca97', u'htype': u'bsr_m-1.0', u'pulse_id': 1429858143022}\n",
        "[-0.26055792132253863, 1.13273682535406] [1429867471176, 1429867471105] {u'global_timestamp': {u'epoch': 1429867471176, u'ns': 0}, u'hash': u'f52d3c1f5d96f0b1f026324e2cbca97', u'htype': u'bsr_m-1.0', u'pulse_id': 1429858143023}\n",
        "[-0.8796812512868627, 0.4005608283713622] [1429867471187, 1429867471116] {u'global_timestamp': {u'epoch': 1429867471187, u'ns': 0}, u'hash': u'f52d3c1f5d96f0b1f026324e2cbca97', u'htype': u'bsr_m-1.0', u'pulse_id': 1429858143024}\n",
        "[-0.59809015684961397, -0.5160098692823174]"
       ]
      },
      {
       "output_type": "stream",
       "stream": "stderr",
       "text": [
        "\u001b[2J\u001b[H\u001b[2J\u001b[H"
       ]
      },
      {
       "output_type": "stream",
       "stream": "stdout",
       "text": [
        " [1429867471195, 1429867471125] {u'global_timestamp': {u'epoch': 1429867471195, u'ns': 0}, u'hash': u'f52d3c1f5d96f0b1f026324e2cbca97', u'htype': u'bsr_m-1.0', u'pulse_id': 1429858143025}\n",
        "[0.32532180838746716, -0.77428439516652503] [1429867471205, 1429867471136] {u'global_timestamp': {u'epoch': 1429867471205, u'ns': 0}, u'hash': u'f52d3c1f5d96f0b1f026324e2cbca97', u'htype': u'bsr_m-1.0', u'pulse_id': 1429858143026}\n",
        "[1.0415739421178694, -0.13680634127732116] [1429867471215, 1429867471146] {u'global_timestamp': {u'epoch': 1429867471215, u'ns': 0}, u'hash': u'f52d3c1f5d96f0b1f026324e2cbca97', u'htype': u'bsr_m-1.0', u'pulse_id': 1429858143027}\n",
        "[0.89214733575581096, 0.81032990952022854] [1429867471225, 1429867471156] {u'global_timestamp': {u'epoch': 1429867471225, u'ns': 0}, u'hash': u'f52d3c1f5d96f0b1f026324e2cbca97', u'htype': u'bsr_m-1.0', u'pulse_id': 1429858143028}\n",
        "[0.014424122074467083, 1.1963316561854664] [1429867471236, 1429867471165] {u'global_timestamp': {u'epoch': 1429867471236, u'ns': 0}, u'hash': u'f52d3c1f5d96f0b1f026324e2cbca97', u'htype': u'bsr_m-1.0', u'pulse_id': 1429858143029}\n",
        "[-0.78462102409552281, 0.66631067297263158]"
       ]
      },
      {
       "output_type": "stream",
       "stream": "stdout",
       "text": [
        " [1429867471246, 1429867471176] {u'global_timestamp': {u'epoch': 1429867471246, u'ns': 0}, u'hash': u'f52d3c1f5d96f0b1f026324e2cbca97', u'htype': u'bsr_m-1.0', u'pulse_id': 1429858143030}\n",
        "[-0.77034968035095941, -0.29243419246939267] [1429867471255, 1429867471187] {u'global_timestamp': {u'epoch': 1429867471255, u'ns': 0}, u'hash': u'f52d3c1f5d96f0b1f026324e2cbca97', u'htype': u'bsr_m-1.0', u'pulse_id': 1429858143031}\n",
        "[0.04411714568507942, -0.79843733233168779] [1429867471265, 1429867471195] {u'global_timestamp': {u'epoch': 1429867471265, u'ns': 0}, u'hash': u'f52d3c1f5d96f0b1f026324e2cbca97', u'htype': u'bsr_m-1.0', u'pulse_id': 1429858143032}\n",
        "[0.90996241026126956, -0.38648179337789751] [1429867471275, 1429867471206] {u'global_timestamp': {u'epoch': 1429867471275, u'ns': 0}, u'hash': u'f52d3c1f5d96f0b1f026324e2cbca97', u'htype': u'bsr_m-1.0', u'pulse_id': 1429858143033}\n",
        "[1.0311319701762809, 0.56468240170816808] [1429867471286, 1429867471215] {u'global_timestamp': {u'epoch': 1429867471285, u'ns': 0}, u'hash': u'f52d3c1f5d96f0b1f026324e2cbca97', u'htype': u'bsr_m-1.0', u'pulse_id': 1429858143034}\n",
        "[0.29622309084630732, 1.1805592784828063] [1429867471297, 1429867471225] {u'global_timestamp': {u'epoch': 1429867471297, u'ns': 0}, u'hash': u'f52d3c1f5d96f0b1f026324e2cbca97', u'htype': u'bsr_m-1.0', u'pulse_id': 1429858143035}\n",
        "[-0.61909239327861421, 0.89491447670115121]"
       ]
      },
      {
       "output_type": "stream",
       "stream": "stdout",
       "text": [
        " [1429867471306, 1429867471236] {u'global_timestamp': {u'epoch': 1429867471306, u'ns': 0}, u'hash': u'f52d3c1f5d96f0b1f026324e2cbca97', u'htype': u'bsr_m-1.0', u'pulse_id': 1429858143036}\n",
        "[-0.87327764728765622, -0.029631490197239041] [1429867471315, 1429867471246] {u'global_timestamp': {u'epoch': 1429867471315, u'ns': 0}, u'hash': u'f52d3c1f5d96f0b1f026324e2cbca97', u'htype': u'bsr_m-1.0', u'pulse_id': 1429858143037}\n",
        "[-0.23263592088026305, -0.74305532400816188] [1429867471325, 1429867471255] {u'global_timestamp': {u'epoch': 1429867471325, u'ns': 0}, u'hash': u'f52d3c1f5d96f0b1f026324e2cbca97', u'htype': u'bsr_m-1.0', u'pulse_id': 1429858143038}\n",
        "[0.71382973715529974, -0.58943844204843199] [1429867471335, 1429867471265] {u'global_timestamp': {u'epoch': 1429867471335, u'ns': 0}, u'hash': u'f52d3c1f5d96f0b1f026324e2cbca97', u'htype': u'bsr_m-1.0', u'pulse_id': 1429858143039}\n",
        "[1.0959431656711482, 0.28998450284872279] [1429867471347, 1429867471276] {u'global_timestamp': {u'epoch': 1429867471347, u'ns': 0}, u'hash': u'f52d3c1f5d96f0b1f026324e2cbca97', u'htype': u'bsr_m-1.0', u'pulse_id': 1429858143040}\n",
        "[0.56239104069617241, 1.0866761108115581] [1429867471356, 1429867471286] {u'global_timestamp': {u'epoch': 1429867471356, u'ns': 0}, u'hash': u'f52d3c1f5d96f0b1f026324e2cbca97', u'htype': u'bsr_m-1.0', u'pulse_id': 1429858143041}\n",
        "[-0.39628127466932672, 1.0681617916106354]"
       ]
      },
      {
       "output_type": "stream",
       "stream": "stdout",
       "text": [
        " [1429867471366, 1429867471297] {u'global_timestamp': {u'epoch': 1429867471366, u'ns': 0}, u'hash': u'f52d3c1f5d96f0b1f026324e2cbca97', u'htype': u'bsr_m-1.0', u'pulse_id': 1429858143042}\n",
        "[-0.89867487482220598, 0.25146352493612517] [1429867471375, 1429867471306] {u'global_timestamp': {u'epoch': 1429867471375, u'ns': 0}, u'hash': u'f52d3c1f5d96f0b1f026324e2cbca97', u'htype': u'bsr_m-1.0', u'pulse_id': 1429858143043}\n",
        "[-0.48289140068870073, -0.61255006922845356] [1429867471386, 1429867471315] {u'global_timestamp': {u'epoch': 1429867471385, u'ns': 0}, u'hash': u'f52d3c1f5d96f0b1f026324e2cbca97', u'htype': u'bsr_m-1.0', u'pulse_id': 1429858143044}\n",
        "[0.46879973909657657, -0.72950887701102518] [1429867471397, 1429867471326] {u'global_timestamp': {u'epoch': 1429867471397, u'ns': 0}, u'hash': u'f52d3c1f5d96f0b1f026324e2cbca97', u'htype': u'bsr_m-1.0', u'pulse_id': 1429858143045}\n",
        "[1.081418099563598, 0.008118490080529589]"
       ]
      },
      {
       "output_type": "stream",
       "stream": "stderr",
       "text": [
        "\u001b[2J\u001b[H\u001b[2J\u001b[H"
       ]
      },
      {
       "output_type": "stream",
       "stream": "stdout",
       "text": [
        " [1429867471406, 1429867471336] {u'global_timestamp': {u'epoch': 1429867471406, u'ns': 0}, u'hash': u'f52d3c1f5d96f0b1f026324e2cbca97', u'htype': u'bsr_m-1.0', u'pulse_id': 1429858143046}\n",
        "[0.79172518533330238, 0.9221608324851247] [1429867471415, 1429867471347] {u'global_timestamp': {u'epoch': 1429867471415, u'ns': 0}, u'hash': u'f52d3c1f5d96f0b1f026324e2cbca97', u'htype': u'bsr_m-1.0', u'pulse_id': 1429858143047}\n",
        "[-0.13393667423829872, 1.172251835918207] [1429867471425, 1429867471356] {u'global_timestamp': {u'epoch': 1429867471425, u'ns': 0}, u'hash': u'f52d3c1f5d96f0b1f026324e2cbca97', u'htype': u'bsr_m-1.0', u'pulse_id': 1429858143048}\n",
        "[-0.84451823436945572, 0.52845898517715417] [1429867471436, 1429867471366] {u'global_timestamp': {u'epoch': 1429867471436, u'ns': 0}, u'hash': u'f52d3c1f5d96f0b1f026324e2cbca97', u'htype': u'bsr_m-1.0', u'pulse_id': 1429858143049}\n",
        "[-0.68671408569034309, -0.41731754176955599] [1429867471446, 1429867471376] {u'global_timestamp': {u'epoch': 1429867471446, u'ns': 0}, u'hash': u'f52d3c1f5d96f0b1f026324e2cbca97', u'htype': u'bsr_m-1.0', u'pulse_id': 1429858143050}\n",
        "[0.19439136525458039, -0.79553516771903965] [1429867471455, 1429867471386] {u'global_timestamp': {u'epoch': 1429867471455, u'ns': 0}, u'hash': u'f52d3c1f5d96f0b1f026324e2cbca97', u'htype': u'bsr_m-1.0', u'pulse_id': 1429858143051}\n",
        "[0.98871383029252624, -0.25846235161328873]"
       ]
      },
      {
       "output_type": "stream",
       "stream": "stdout",
       "text": [
        " [1429867471466, 1429867471397] {u'global_timestamp': {u'epoch': 1429867471466, u'ns': 0}, u'hash': u'f52d3c1f5d96f0b1f026324e2cbca97', u'htype': u'bsr_m-1.0', u'pulse_id': 1429858143052}\n",
        "[0.96595689827333675, 0.7001186362582601] [1429867471477, 1429867471406] {u'global_timestamp': {u'epoch': 1429867471477, u'ns': 0}, u'hash': u'f52d3c1f5d96f0b1f026324e2cbca97', u'htype': u'bsr_m-1.0', u'pulse_id': 1429858143053}\n",
        "[0.14704318754648557, 1.1988928563692236] [1429867471485, 1429867471416] {u'global_timestamp': {u'epoch': 1429867471485, u'ns': 0}, u'hash': u'f52d3c1f5d96f0b1f026324e2cbca97', u'htype': u'bsr_m-1.0', u'pulse_id': 1429858143054}\n",
        "[-0.71512181285982979, 0.7792895909647477] [1429867471496, 1429867471425] {u'global_timestamp': {u'epoch': 1429867471496, u'ns': 0}, u'hash': u'f52d3c1f5d96f0b1f026324e2cbca97', u'htype': u'bsr_m-1.0', u'pulse_id': 1429858143055}\n",
        "[-0.82786757764965413, -0.17290985284189414] [1429867471506, 1429867471436] {u'global_timestamp': {u'epoch': 1429867471506, u'ns': 0}, u'hash': u'f52d3c1f5d96f0b1f026324e2cbca97', u'htype': u'bsr_m-1.0', u'pulse_id': 1429858143056}\n",
        "[-0.087536170628956855, -0.7822576977075959] [1429867471515, 1429867471446] {u'global_timestamp': {u'epoch': 1429867471515, u'ns': 0}, u'hash': u'f52d3c1f5d96f0b1f026324e2cbca97', u'htype': u'bsr_m-1.0', u'pulse_id': 1429858143057}\n",
        "[0.82521512680064146, -0.48852234521439425]"
       ]
      },
      {
       "output_type": "stream",
       "stream": "stdout",
       "text": [
        " [1429867471526, 1429867471455] {u'global_timestamp': {u'epoch': 1429867471526, u'ns': 0}, u'hash': u'f52d3c1f5d96f0b1f026324e2cbca97', u'htype': u'bsr_m-1.0', u'pulse_id': 1429858143058}\n",
        "[1.0712069811506408, 0.43823727618544284] [1429867471537, 1429867471466] {u'global_timestamp': {u'epoch': 1429867471537, u'ns': 0}, u'hash': u'f52d3c1f5d96f0b1f026324e2cbca97', u'htype': u'bsr_m-1.0', u'pulse_id': 1429858143059}\n",
        "[0.42427561598121066, 1.1459626445478734] [1429867471546, 1429867471477] {u'global_timestamp': {u'epoch': 1429867471546, u'ns': 0}, u'hash': u'f52d3c1f5d96f0b1f026324e2cbca97', u'htype': u'bsr_m-1.0', u'pulse_id': 1429858143060}\n",
        "[-0.52079325504772178, 0.98397432004323604] [1429867471557, 1429867471486] {u'global_timestamp': {u'epoch': 1429867471557, u'ns': 0}, u'hash': u'f52d3c1f5d96f0b1f026324e2cbca97', u'htype': u'bsr_m-1.0', u'pulse_id': 1429858143061}\n",
        "[-0.89510767032055516, 0.10120362117366133] [1429867471565, 1429867471496] {u'global_timestamp': {u'epoch': 1429867471565, u'ns': 0}, u'hash': u'f52d3c1f5d96f0b1f026324e2cbca97', u'htype': u'bsr_m-1.0', u'pulse_id': 1429858143062}\n",
        "[-0.35452468267481529, -0.69073414262582222] [1429867471576, 1429867471506] {u'global_timestamp': {u'epoch': 1429867471576, u'ns': 0}, u'hash': u'f52d3c1f5d96f0b1f026324e2cbca97', u'htype': u'bsr_m-1.0', u'pulse_id': 1429858143063}\n",
        "[0.6039462020741807, -0.66373504352608559]"
       ]
      },
      {
       "output_type": "stream",
       "stream": "stdout",
       "text": [
        " [1429867471585, 1429867471515] {u'global_timestamp': {u'epoch': 1429867471585, u'ns': 0}, u'hash': u'f52d3c1f5d96f0b1f026324e2cbca97', u'htype': u'bsr_m-1.0', u'pulse_id': 1429858143064}\n",
        "[1.0990912727031581, 0.157378071273298] [1429867471597, 1429867471526] {u'global_timestamp': {u'epoch': 1429867471597, u'ns': 0}, u'hash': u'f52d3c1f5d96f0b1f026324e2cbca97', u'htype': u'bsr_m-1.0', u'pulse_id': 1429858143065}\n",
        "[0.67567643475432049, 1.0176775907829165] [1429867471606, 1429867471537] {u'global_timestamp': {u'epoch': 1429867471606, u'ns': 0}, u'hash': u'f52d3c1f5d96f0b1f026324e2cbca97', u'htype': u'bsr_m-1.0', u'pulse_id': 1429858143066}\n",
        "[-0.27701266243973977, 1.1262081042401317] [1429867471615, 1429867471546] {u'global_timestamp': {u'epoch': 1429867471615, u'ns': 0}, u'hash': u'f52d3c1f5d96f0b1f026324e2cbca97', u'htype': u'bsr_m-1.0', u'pulse_id': 1429858143067}\n",
        "[-0.88307805646967652, 0.38318715808648662] [1429867471626, 1429867471557] {u'global_timestamp': {u'epoch': 1429867471626, u'ns': 0}, u'hash': u'f52d3c1f5d96f0b1f026324e2cbca97', u'htype': u'bsr_m-1.0', u'pulse_id': 1429858143068}\n",
        "[-0.58530601907813129, -0.52825521640101147]"
       ]
      },
      {
       "output_type": "stream",
       "stream": "stderr",
       "text": [
        "\u001b[2J\u001b[H\u001b[2J\u001b[H"
       ]
      },
      {
       "output_type": "stream",
       "stream": "stdout",
       "text": [
        " [1429867471636, 1429867471565] {u'global_timestamp': {u'epoch': 1429867471636, u'ns': 0}, u'hash': u'f52d3c1f5d96f0b1f026324e2cbca97', u'htype': u'bsr_m-1.0', u'pulse_id': 1429858143069}\n",
        "[0.34253321180321727, -0.77014310345042181] [1429867471647, 1429867471576] {u'global_timestamp': {u'epoch': 1429867471647, u'ns': 0}, u'hash': u'f52d3c1f5d96f0b1f026324e2cbca97', u'htype': u'bsr_m-1.0', u'pulse_id': 1429858143070}\n",
        "[1.0473885262518996, -0.12008589523166074] [1429867471656, 1429867471585] {u'global_timestamp': {u'epoch': 1429867471656, u'ns': 0}, u'hash': u'f52d3c1f5d96f0b1f026324e2cbca97', u'htype': u'bsr_m-1.0', u'pulse_id': 1429858143071}\n",
        "[0.88121919877062271, 0.82425680891135356] [1429867471665, 1429867471597] {u'global_timestamp': {u'epoch': 1429867471665, u'ns': 0}, u'hash': u'f52d3c1f5d96f0b1f026324e2cbca97', u'htype': u'bsr_m-1.0', u'pulse_id': 1429858143072}\n",
        "[-0.0031994572834435492, 1.1946606818490428] [1429867471675, 1429867471606] {u'global_timestamp': {u'epoch': 1429867471675, u'ns': 0}, u'hash': u'f52d3c1f5d96f0b1f026324e2cbca97', u'htype': u'bsr_m-1.0', u'pulse_id': 1429858143073}\n",
        "[-0.79273700823979298, 0.6505781110074742] [1429867471686, 1429867471615] {u'global_timestamp': {u'epoch': 1429867471686, u'ns': 0}, u'hash': u'f52d3c1f5d96f0b1f026324e2cbca97', u'htype': u'bsr_m-1.0', u'pulse_id': 1429858143074}\n",
        "[-0.76149627088812566, -0.30776389714694491]"
       ]
      },
      {
       "output_type": "stream",
       "stream": "stdout",
       "text": [
        " [1429867471697, 1429867471626] {u'global_timestamp': {u'epoch': 1429867471697, u'ns': 0}, u'hash': u'f52d3c1f5d96f0b1f026324e2cbca97', u'htype': u'bsr_m-1.0', u'pulse_id': 1429858143075}\n",
        "[0.061800164924477367, -0.79927011993764863] [1429867471705, 1429867471636] {u'global_timestamp': {u'epoch': 1429867471705, u'ns': 0}, u'hash': u'f52d3c1f5d96f0b1f026324e2cbca97', u'htype': u'bsr_m-1.0', u'pulse_id': 1429858143076}\n",
        "[0.92021735293795059, -0.37205200282794343] [1429867471715, 1429867471647] {u'global_timestamp': {u'epoch': 1429867471715, u'ns': 0}, u'hash': u'f52d3c1f5d96f0b1f026324e2cbca97', u'htype': u'bsr_m-1.0', u'pulse_id': 1429858143077}\n",
        "[1.0245304892863956, 0.58110808752879795] [1429867471725, 1429867471657] {u'global_timestamp': {u'epoch': 1429867471725, u'ns': 0}, u'hash': u'f52d3c1f5d96f0b1f026324e2cbca97', u'htype': u'bsr_m-1.0', u'pulse_id': 1429858143078}\n",
        "[0.27883455747572738, 1.1838791597815561] [1429867471735, 1429867471665] {u'global_timestamp': {u'epoch': 1429867471735, u'ns': 0}, u'hash': u'f52d3c1f5d96f0b1f026324e2cbca97', u'htype': u'bsr_m-1.0', u'pulse_id': 1429858143079}\n",
        "[-0.63128104174030786, 0.88207626992236743] [1429867471747, 1429867471675] {u'global_timestamp': {u'epoch': 1429867471747, u'ns': 0}, u'hash': u'f52d3c1f5d96f0b1f026324e2cbca97', u'htype': u'bsr_m-1.0', u'pulse_id': 1429858143080}\n"
       ]
      },
      {
       "output_type": "stream",
       "stream": "stdout",
       "text": [
        "[-0.86906022365561475, -0.046824396947566599] [1429867471756, 1429867471686] {u'global_timestamp': {u'epoch': 1429867471756, u'ns': 0}, u'hash': u'f52d3c1f5d96f0b1f026324e2cbca97', u'htype': u'bsr_m-1.0', u'pulse_id': 1429858143081}\n",
        "[-0.21588990499213981, -0.74879585155293382] [1429867471765, 1429867471697] {u'global_timestamp': {u'epoch': 1429867471765, u'ns': 0}, u'hash': u'f52d3c1f5d96f0b1f026324e2cbca97', u'htype': u'bsr_m-1.0', u'pulse_id': 1429858143082}\n",
        "[0.72770813552017333, -0.578448775836784] [1429867471776, 1429867471706] {u'global_timestamp': {u'epoch': 1429867471776, u'ns': 0}, u'hash': u'f52d3c1f5d96f0b1f026324e2cbca97', u'htype': u'bsr_m-1.0', u'pulse_id': 1429858143083}\n",
        "[1.0941942110596206, 0.30760051438324376] [1429867471785, 1429867471715] {u'global_timestamp': {u'epoch': 1429867471785, u'ns': 0}, u'hash': u'f52d3c1f5d96f0b1f026324e2cbca97', u'htype': u'bsr_m-1.0', u'pulse_id': 1429858143084}\n",
        "[0.54662271391236461, 1.0947223879045132] [1429867471797, 1429867471725] {u'global_timestamp': {u'epoch': 1429867471797, u'ns': 0}, u'hash': u'f52d3c1f5d96f0b1f026324e2cbca97', u'htype': u'bsr_m-1.0', u'pulse_id': 1429858143085}\n",
        "[-0.41157164669974644, 1.0592406242100696] [1429867471805, 1429867471736] {u'global_timestamp': {u'epoch': 1429867471805, u'ns': 0}, u'hash': u'f52d3c1f5d96f0b1f026324e2cbca97', u'htype': u'bsr_m-1.0', u'pulse_id': 1429858143086}\n",
        "[-0.89942939456963322, 0.2337769932080474]"
       ]
      },
      {
       "output_type": "stream",
       "stream": "stderr",
       "text": [
        "\u001b[2J\u001b[H\u001b[2J\u001b[H"
       ]
      },
      {
       "output_type": "stream",
       "stream": "stdout",
       "text": [
        " [1429867471815, 1429867471747] {u'global_timestamp': {u'epoch': 1429867471815, u'ns': 0}, u'hash': u'f52d3c1f5d96f0b1f026324e2cbca97', u'htype': u'bsr_m-1.0', u'pulse_id': 1429858143087}\n",
        "[-0.46841636617699689, -0.62274104957886856] [1429867471825, 1429867471756] {u'global_timestamp': {u'epoch': 1429867471825, u'ns': 0}, u'hash': u'f52d3c1f5d96f0b1f026324e2cbca97', u'htype': u'bsr_m-1.0', u'pulse_id': 1429858143088}\n",
        "[0.48519604789239257, -0.72283476564771965] [1429867471836, 1429867471765] {u'global_timestamp': {u'epoch': 1429867471835, u'ns': 0}, u'hash': u'f52d3c1f5d96f0b1f026324e2cbca97', u'htype': u'bsr_m-1.0', u'pulse_id': 1429858143089}\n",
        "[1.0846609919521051, 0.025521545949374058] [1429867471845, 1429867471776] {u'global_timestamp': {u'epoch': 1429867471845, u'ns': 0}, u'hash': u'f52d3c1f5d96f0b1f026324e2cbca97', u'htype': u'bsr_m-1.0', u'pulse_id': 1429858143090}\n",
        "[0.7788331610078717, 0.93429254355199665] [1429867471857, 1429867471785] {u'global_timestamp': {u'epoch': 1429867471857, u'ns': 0}, u'hash': u'f52d3c1f5d96f0b1f026324e2cbca97', u'htype': u'bsr_m-1.0', u'pulse_id': 1429858143091}\n",
        "[-0.15111074756748263, 1.1679583629764765] [1429867471865, 1429867471797] {u'global_timestamp': {u'epoch': 1429867471865, u'ns': 0}, u'hash': u'f52d3c1f5d96f0b1f026324e2cbca97', u'htype': u'bsr_m-1.0', u'pulse_id': 1429858143092}\n",
        "[-0.85018459288583814, 0.5116877274490832]"
       ]
      },
      {
       "output_type": "stream",
       "stream": "stdout",
       "text": [
        " [1429867471877, 1429867471805] {u'global_timestamp': {u'epoch': 1429867471877, u'ns': 0}, u'hash': u'f52d3c1f5d96f0b1f026324e2cbca97', u'htype': u'bsr_m-1.0', u'pulse_id': 1429858143093}\n",
        "[-0.67566310550571329, -0.43114716727339647] [1429867471885, 1429867471815] {u'global_timestamp': {u'epoch': 1429867471885, u'ns': 0}, u'hash': u'f52d3c1f5d96f0b1f026324e2cbca97', u'htype': u'bsr_m-1.0', u'pulse_id': 1429858143094}\n",
        "[0.21199946392268015, -0.79370826708900455] [1429867471897, 1429867471825] {u'global_timestamp': {u'epoch': 1429867471897, u'ns': 0}, u'hash': u'f52d3c1f5d96f0b1f026324e2cbca97', u'htype': u'bsr_m-1.0', u'pulse_id': 1429858143095}\n",
        "[0.99669024273255247, -0.24265856886344822] [1429867471906, 1429867471836] {u'global_timestamp': {u'epoch': 1429867471906, u'ns': 0}, u'hash': u'f52d3c1f5d96f0b1f026324e2cbca97', u'htype': u'bsr_m-1.0', u'pulse_id': 1429858143096}\n",
        "[0.95696814767303984, 0.71536937615058083] [1429867471916, 1429867471845] {u'global_timestamp': {u'epoch': 1429867471916, u'ns': 0}, u'hash': u'f52d3c1f5d96f0b1f026324e2cbca97', u'htype': u'bsr_m-1.0', u'pulse_id': 1429858143097}\n",
        "[0.12935348975403138, 1.1995690934794152]"
       ]
      },
      {
       "output_type": "stream",
       "stream": "stdout",
       "text": [
        " [1429867471926, 1429867471857] {u'global_timestamp': {u'epoch': 1429867471926, u'ns': 0}, u'hash': u'f52d3c1f5d96f0b1f026324e2cbca97', u'htype': u'bsr_m-1.0', u'pulse_id': 1429858143098}\n",
        "[-0.72524863127427996, 0.76476959601232752] [1429867471935, 1429867471866] {u'global_timestamp': {u'epoch': 1429867471935, u'ns': 0}, u'hash': u'f52d3c1f5d96f0b1f026324e2cbca97', u'htype': u'bsr_m-1.0', u'pulse_id': 1429858143099}\n",
        "[-0.82112096653807065, -0.18927646346005877] [1429867471947, 1429867471877] {u'global_timestamp': {u'epoch': 1429867471947, u'ns': 0}, u'hash': u'f52d3c1f5d96f0b1f026324e2cbca97', u'htype': u'bsr_m-1.0', u'pulse_id': 1429858143100}\n",
        "[-0.070118933133738348, -0.78542353766765616] [1429867471955, 1429867471885] {u'global_timestamp': {u'epoch': 1429867471955, u'ns': 0}, u'hash': u'f52d3c1f5d96f0b1f026324e2cbca97', u'htype': u'bsr_m-1.0', u'pulse_id': 1429858143101}\n",
        "[0.8372896628500972, -0.47557675585708975] [1429867471965, 1429867471897] {u'global_timestamp': {u'epoch': 1429867471965, u'ns': 0}, u'hash': u'f52d3c1f5d96f0b1f026324e2cbca97', u'htype': u'bsr_m-1.0', u'pulse_id': 1429858143102}\n",
        "[1.0668375429950401, 0.45539217970665047] [1429867471977, 1429867471906] {u'global_timestamp': {u'epoch': 1429867471977, u'ns': 0}, u'hash': u'f52d3c1f5d96f0b1f026324e2cbca97', u'htype': u'bsr_m-1.0', u'pulse_id': 1429858143103}\n",
        "[0.40747944491011645, 1.1515547230494769]"
       ]
      },
      {
       "output_type": "stream",
       "stream": "stderr",
       "text": [
        "\u001b[2J\u001b[H\u001b[2J\u001b[H"
       ]
      },
      {
       "output_type": "stream",
       "stream": "stdout",
       "text": [
        " [1429867471985, 1429867471916] {u'global_timestamp': {u'epoch': 1429867471985, u'ns': 0}, u'hash': u'f52d3c1f5d96f0b1f026324e2cbca97', u'htype': u'bsr_m-1.0', u'pulse_id': 1429858143104}\n",
        "[-0.53457383681105708, 0.97286224234005236] [1429867471997, 1429867471926] {u'global_timestamp': {u'epoch': 1429867471997, u'ns': 0}, u'hash': u'f52d3c1f5d96f0b1f026324e2cbca97', u'htype': u'bsr_m-1.0', u'pulse_id': 1429858143105}\n",
        "[-0.89320285945532985, 0.083603780260025781] [1429867472005, 1429867471935] {u'global_timestamp': {u'epoch': 1429867472005, u'ns': 0}, u'hash': u'f52d3c1f5d96f0b1f026324e2cbca97', u'htype': u'bsr_m-1.0', u'pulse_id': 1429858143106}\n",
        "[-0.33868575350603214, -0.69864053417973793] [1429867472015, 1429867471947] {u'global_timestamp': {u'epoch': 1429867472015, u'ns': 0}, u'hash': u'f52d3c1f5d96f0b1f026324e2cbca97', u'htype': u'bsr_m-1.0', u'pulse_id': 1429858143107}\n",
        "[0.61915701111370669, -0.65467888578780431] [1429867472026, 1429867471955] {u'global_timestamp': {u'epoch': 1429867472025, u'ns': 0}, u'hash': u'f52d3c1f5d96f0b1f026324e2cbca97', u'htype': u'bsr_m-1.0', u'pulse_id': 1429858143108}\n",
        "[1.0996892139307266, 0.17507058864381184] [1429867472035, 1429867471966] {u'global_timestamp': {u'epoch': 1429867472035, u'ns': 0}, u'hash': u'f52d3c1f5d96f0b1f026324e2cbca97', u'htype': u'bsr_m-1.0', u'pulse_id': 1429858143109}\n",
        "[0.66111176376285241, 1.0277400489084365]"
       ]
      },
      {
       "output_type": "stream",
       "stream": "stdout",
       "text": [
        " [1429867472047, 1429867471977] {u'global_timestamp': {u'epoch': 1429867472047, u'ns': 0}, u'hash': u'f52d3c1f5d96f0b1f026324e2cbca97', u'htype': u'bsr_m-1.0', u'pulse_id': 1429858143110}\n",
        "[-0.29334925430911052, 1.1193891255254582] [1429867472056, 1429867471985] {u'global_timestamp': {u'epoch': 1429867472056, u'ns': 0}, u'hash': u'f52d3c1f5d96f0b1f026324e2cbca97', u'htype': u'bsr_m-1.0', u'pulse_id': 1429858143111}\n",
        "[-0.88616678199230381, 0.36575608011455873] [1429867472066, 1429867471997] {u'global_timestamp': {u'epoch': 1429867472066, u'ns': 0}, u'hash': u'f52d3c1f5d96f0b1f026324e2cbca97', u'htype': u'bsr_m-1.0', u'pulse_id': 1429858143112}\n",
        "[-0.57230711825289904, -0.54027234093033782] [1429867472076, 1429867472006] {u'global_timestamp': {u'epoch': 1429867472076, u'ns': 0}, u'hash': u'f52d3c1f5d96f0b1f026324e2cbca97', u'htype': u'bsr_m-1.0', u'pulse_id': 1429858143113}\n",
        "[0.35966860950509283, -0.76569778566469315] [1429867472086, 1429867472015] {u'global_timestamp': {u'epoch': 1429867472086, u'ns': 0}, u'hash': u'f52d3c1f5d96f0b1f026324e2cbca97', u'htype': u'bsr_m-1.0', u'pulse_id': 1429858143114}\n",
        "[1.0529062152072495, -0.10326513980244262] [1429867472095, 1429867472026] {u'global_timestamp': {u'epoch': 1429867472095, u'ns': 0}, u'hash': u'f52d3c1f5d96f0b1f026324e2cbca97', u'htype': u'bsr_m-1.0', u'pulse_id': 1429858143115}\n",
        "[0.87004624120002449, 0.83798807701532607]"
       ]
      },
      {
       "output_type": "stream",
       "stream": "stdout",
       "text": [
        " [1429867472106, 1429867472035] {u'global_timestamp': {u'epoch': 1429867472105, u'ns': 0}, u'hash': u'f52d3c1f5d96f0b1f026324e2cbca97', u'htype': u'bsr_m-1.0', u'pulse_id': 1429858143116}\n",
        "[-0.02079069571631563, 1.1926779980579647] [1429867472116, 1429867472047] {u'global_timestamp': {u'epoch': 1429867472116, u'ns': 0}, u'hash': u'f52d3c1f5d96f0b1f026324e2cbca97', u'htype': u'bsr_m-1.0', u'pulse_id': 1429858143117}\n",
        "[-0.80057322404590892, 0.63470434565524791] [1429867472125, 1429867472056] {u'global_timestamp': {u'epoch': 1429867472125, u'ns': 0}, u'hash': u'f52d3c1f5d96f0b1f026324e2cbca97', u'htype': u'bsr_m-1.0', u'pulse_id': 1429858143118}\n",
        "[-0.75237288339390307, -0.32293447740110198] [1429867472136, 1429867472066] {u'global_timestamp': {u'epoch': 1429867472136, u'ns': 0}, u'hash': u'f52d3c1f5d96f0b1f026324e2cbca97', u'htype': u'bsr_m-1.0', u'pulse_id': 1429858143119}\n",
        "[0.079495155331507222, -0.79978975357078008] [1429867472147, 1429867472076] {u'global_timestamp': {u'epoch': 1429867472147, u'ns': 0}, u'hash': u'f52d3c1f5d96f0b1f026324e2cbca97', u'htype': u'bsr_m-1.0', u'pulse_id': 1429858143120}\n",
        "[0.93021525368219371, -0.35744294107416114] [1429867472156, 1429867472086] {u'global_timestamp': {u'epoch': 1429867472156, u'ns': 0}, u'hash': u'f52d3c1f5d96f0b1f026324e2cbca97', u'htype': u'bsr_m-1.0', u'pulse_id': 1429858143121}\n",
        "[1.0176392765312765, 0.59741434066620636]"
       ]
      },
      {
       "output_type": "stream",
       "stream": "stdout",
       "text": [
        " [1429867472165, 1429867472095] {u'global_timestamp': {u'epoch': 1429867472165, u'ns': 0}, u'hash': u'f52d3c1f5d96f0b1f026324e2cbca97', u'htype': u'bsr_m-1.0', u'pulse_id': 1429858143122}\n",
        "[0.26138998044784667, 1.1868907103681965] [1429867472175, 1429867472106] {u'global_timestamp': {u'epoch': 1429867472175, u'ns': 0}, u'hash': u'f52d3c1f5d96f0b1f026324e2cbca97', u'htype': u'bsr_m-1.0', u'pulse_id': 1429858143123}\n",
        "[-0.64324051937130544, 0.86902431223735976] [1429867472186, 1429867472116] {u'global_timestamp': {u'epoch': 1429867472186, u'ns': 0}, u'hash': u'f52d3c1f5d96f0b1f026324e2cbca97', u'htype': u'bsr_m-1.0', u'pulse_id': 1429858143124}\n",
        "[-0.86453911330974686, -0.063939953200813082] [1429867472197, 1429867472126] {u'global_timestamp': {u'epoch': 1429867472197, u'ns': 0}, u'hash': u'f52d3c1f5d96f0b1f026324e2cbca97', u'htype': u'bsr_m-1.0', u'pulse_id': 1429858143125}\n",
        "[-0.19904489467122874, -0.75423904288761623] [1429867472205, 1429867472136] {u'global_timestamp': {u'epoch': 1429867472205, u'ns': 0}, u'hash': u'f52d3c1f5d96f0b1f026324e2cbca97', u'htype': u'bsr_m-1.0', u'pulse_id': 1429858143126}\n",
        "[0.74138982101182704, -0.56721515724235827]"
       ]
      },
      {
       "output_type": "stream",
       "stream": "stderr",
       "text": [
        "\u001b[2J\u001b[H\u001b[2J\u001b[H"
       ]
      },
      {
       "output_type": "stream",
       "stream": "stdout",
       "text": [
        " [1429867472216, 1429867472147] {u'global_timestamp': {u'epoch': 1429867472216, u'ns': 0}, u'hash': u'f52d3c1f5d96f0b1f026324e2cbca97', u'htype': u'bsr_m-1.0', u'pulse_id': 1429858143127}\n",
        "[1.092133693177316, 0.3251828057775491] [1429867472225, 1429867472156] {u'global_timestamp': {u'epoch': 1429867472225, u'ns': 0}, u'hash': u'f52d3c1f5d96f0b1f026324e2cbca97', u'htype': u'bsr_m-1.0', u'pulse_id': 1429858143128}\n",
        "[0.53071442329452734, 1.1024882744756648] [1429867472235, 1429867472165] {u'global_timestamp': {u'epoch': 1429867472235, u'ns': 0}, u'hash': u'f52d3c1f5d96f0b1f026324e2cbca97', u'htype': u'bsr_m-1.0', u'pulse_id': 1429858143129}\n",
        "[-0.42670170102391769, 1.0500501856587714] [1429867472247, 1429867472176] {u'global_timestamp': {u'epoch': 1429867472247, u'ns': 0}, u'hash': u'f52d3c1f5d96f0b1f026324e2cbca97', u'htype': u'bsr_m-1.0', u'pulse_id': 1429858143130}\n",
        "[-0.89987071043031586, 0.21607987635448422] [1429867472255, 1429867472186] {u'global_timestamp': {u'epoch': 1429867472255, u'ns': 0}, u'hash': u'f52d3c1f5d96f0b1f026324e2cbca97', u'htype': u'bsr_m-1.0', u'pulse_id': 1429858143131}\n",
        "[-0.45376319980711166, -0.63267419711396666] [1429867472267, 1429867472197] {u'global_timestamp': {u'epoch': 1429867472267, u'ns': 0}, u'hash': u'f52d3c1f5d96f0b1f026324e2cbca97', u'htype': u'bsr_m-1.0', u'pulse_id': 1429858143132}\n",
        "[0.50147164290891222, -0.71587145382964024]"
       ]
      },
      {
       "output_type": "stream",
       "stream": "stdout",
       "text": [
        " [1429867472275, 1429867472206] {u'global_timestamp': {u'epoch': 1429867472275, u'ns': 0}, u'hash': u'f52d3c1f5d96f0b1f026324e2cbca97', u'htype': u'bsr_m-1.0', u'pulse_id': 1429858143133}\n",
        "[1.087595308615823, 0.042979280348046406] [1429867472286, 1429867472216] {u'global_timestamp': {u'epoch': 1429867472286, u'ns': 0}, u'hash': u'f52d3c1f5d96f0b1f026324e2cbca97', u'htype': u'bsr_m-1.0', u'pulse_id': 1429858143134}\n",
        "[0.76572840211046023, 0.94619414003558977] [1429867472295, 1429867472225] {u'global_timestamp': {u'epoch': 1429867472295, u'ns': 0}, u'hash': u'f52d3c1f5d96f0b1f026324e2cbca97', u'htype': u'bsr_m-1.0', u'pulse_id': 1429858143135}\n",
        "[-0.16820612713143532, 1.1633615486249991] [1429867472306, 1429867472235] {u'global_timestamp': {u'epoch': 1429867472306, u'ns': 0}, u'hash': u'f52d3c1f5d96f0b1f026324e2cbca97', u'htype': u'bsr_m-1.0', u'pulse_id': 1429858143136}\n",
        "[-0.85555317998461622, 0.49481879217798819] [1429867472316, 1429867472247] {u'global_timestamp': {u'epoch': 1429867472316, u'ns': 0}, u'hash': u'f52d3c1f5d96f0b1f026324e2cbca97', u'htype': u'bsr_m-1.0', u'pulse_id': 1429858143137}\n",
        "[-0.66436904591920798, -0.44477900217094518]"
       ]
      },
      {
       "output_type": "stream",
       "stream": "stdout",
       "text": [
        " [1429867472325, 1429867472255] {u'global_timestamp': {u'epoch': 1429867472325, u'ns': 0}, u'hash': u'f52d3c1f5d96f0b1f026324e2cbca97', u'htype': u'bsr_m-1.0', u'pulse_id': 1429858143138}\n",
        "[0.22957246389586011, -0.79156995547462805] [1429867472335, 1429867472267] {u'global_timestamp': {u'epoch': 1429867472335, u'ns': 0}, u'hash': u'f52d3c1f5d96f0b1f026324e2cbca97', u'htype': u'bsr_m-1.0', u'pulse_id': 1429858143139}\n",
        "[1.0043856479591069, -0.22671606457407517] [1429867472347, 1429867472275] {u'global_timestamp': {u'epoch': 1429867472347, u'ns': 0}, u'hash': u'f52d3c1f5d96f0b1f026324e2cbca97', u'htype': u'bsr_m-1.0', u'pulse_id': 1429858143140}\n",
        "[0.94771083807685408, 0.73045860819392638] [1429867472355, 1429867472286] {u'global_timestamp': {u'epoch': 1429867472355, u'ns': 0}, u'hash': u'f52d3c1f5d96f0b1f026324e2cbca97', u'htype': u'bsr_m-1.0', u'pulse_id': 1429858143141}\n",
        "[0.11165459308556808, 1.1999320829236404] [1429867472365, 1429867472295] {u'global_timestamp': {u'epoch': 1429867472365, u'ns': 0}, u'hash': u'f52d3c1f5d96f0b1f026324e2cbca97', u'htype': u'bsr_m-1.0', u'pulse_id': 1429858143142}\n",
        "[-0.7351168310406796, 0.75007261203642295] [1429867472376, 1429867472306] {u'global_timestamp': {u'epoch': 1429867472376, u'ns': 0}, u'hash': u'f52d3c1f5d96f0b1f026324e2cbca97', u'htype': u'bsr_m-1.0', u'pulse_id': 1429858143143}\n"
       ]
      },
      {
       "output_type": "stream",
       "stream": "stderr",
       "text": [
        "\u001b[2J\u001b[H"
       ]
      },
      {
       "ename": "KeyboardInterrupt",
       "evalue": "",
       "output_type": "pyerr",
       "traceback": [
        "\u001b[0;31m---------------------------------------------------------------------------\u001b[0m\n\u001b[0;31mKeyboardInterrupt\u001b[0m                         Traceback (most recent call last)",
        "\u001b[0;32m<ipython-input-52-edd99c2a5bea>\u001b[0m in \u001b[0;36m<module>\u001b[0;34m()\u001b[0m\n\u001b[1;32m      1\u001b[0m \u001b[0msource_\u001b[0m \u001b[0;34m=\u001b[0m \u001b[0mjson\u001b[0m\u001b[0;34m.\u001b[0m\u001b[0mloads\u001b[0m\u001b[0;34m(\u001b[0m\u001b[0mresponse\u001b[0m\u001b[0;34m.\u001b[0m\u001b[0mtext\u001b[0m\u001b[0;34m)\u001b[0m\u001b[0;34m[\u001b[0m\u001b[0;34m'test'\u001b[0m\u001b[0;34m]\u001b[0m\u001b[0;34m[\u001b[0m\u001b[0;34m'url'\u001b[0m\u001b[0;34m]\u001b[0m  \u001b[0;31m# 'tcp://gfa-lc6-64:9999'\u001b[0m\u001b[0;34m\u001b[0m\u001b[0m\n\u001b[0;32m----> 2\u001b[0;31m \u001b[0mreceive\u001b[0m\u001b[0;34m(\u001b[0m\u001b[0msource_\u001b[0m\u001b[0;34m)\u001b[0m\u001b[0;34m\u001b[0m\u001b[0m\n\u001b[0m",
        "\u001b[0;32m<ipython-input-50-538e15b72935>\u001b[0m in \u001b[0;36mreceive\u001b[0;34m(source)\u001b[0m\n\u001b[1;32m      9\u001b[0m \u001b[0;34m\u001b[0m\u001b[0m\n\u001b[1;32m     10\u001b[0m     \u001b[0;32mwhile\u001b[0m \u001b[0mTrue\u001b[0m\u001b[0;34m:\u001b[0m\u001b[0;34m\u001b[0m\u001b[0m\n\u001b[0;32m---> 11\u001b[0;31m         \u001b[0mmessage_data\u001b[0m \u001b[0;34m=\u001b[0m \u001b[0mreceiver\u001b[0m\u001b[0;34m.\u001b[0m\u001b[0mreceive\u001b[0m\u001b[0;34m(\u001b[0m\u001b[0;34m)\u001b[0m\u001b[0;34m\u001b[0m\u001b[0m\n\u001b[0m\u001b[1;32m     12\u001b[0m         \u001b[0;32mif\u001b[0m \u001b[0mmessage_data\u001b[0m\u001b[0;34m[\u001b[0m\u001b[0;34m'header'\u001b[0m\u001b[0;34m]\u001b[0m\u001b[0;34m[\u001b[0m\u001b[0;34m'pulse_id'\u001b[0m\u001b[0;34m]\u001b[0m \u001b[0;34m%\u001b[0m \u001b[0;36m10\u001b[0m \u001b[0;34m==\u001b[0m \u001b[0;36m0\u001b[0m\u001b[0;34m:\u001b[0m\u001b[0;34m\u001b[0m\u001b[0m\n\u001b[1;32m     13\u001b[0m             \u001b[0msys\u001b[0m\u001b[0;34m.\u001b[0m\u001b[0mstderr\u001b[0m\u001b[0;34m.\u001b[0m\u001b[0mwrite\u001b[0m\u001b[0;34m(\u001b[0m\u001b[0;34m\"\\x1b[2J\\x1b[H\"\u001b[0m\u001b[0;34m)\u001b[0m\u001b[0;34m\u001b[0m\u001b[0m\n",
        "\u001b[0;32m/Users/ebner/Git/bsread_python/bsread.pyc\u001b[0m in \u001b[0;36mreceive\u001b[0;34m(self)\u001b[0m\n\u001b[1;32m     74\u001b[0m         \"\"\"\n\u001b[1;32m     75\u001b[0m \u001b[0;34m\u001b[0m\u001b[0m\n\u001b[0;32m---> 76\u001b[0;31m         \u001b[0mheader\u001b[0m \u001b[0;34m=\u001b[0m \u001b[0mself\u001b[0m\u001b[0;34m.\u001b[0m\u001b[0msocket\u001b[0m\u001b[0;34m.\u001b[0m\u001b[0mrecv_json\u001b[0m\u001b[0;34m(\u001b[0m\u001b[0;34m)\u001b[0m\u001b[0;34m\u001b[0m\u001b[0m\n\u001b[0m\u001b[1;32m     77\u001b[0m \u001b[0;34m\u001b[0m\u001b[0m\n\u001b[1;32m     78\u001b[0m         \u001b[0;32mif\u001b[0m \u001b[0;32mnot\u001b[0m \u001b[0mself\u001b[0m\u001b[0;34m.\u001b[0m\u001b[0mreceive_handler\u001b[0m\u001b[0;34m:\u001b[0m\u001b[0;34m\u001b[0m\u001b[0m\n",
        "\u001b[0;32m/Users/ebner/anaconda/lib/python2.7/site-packages/zmq/sugar/socket.pyc\u001b[0m in \u001b[0;36mrecv_json\u001b[0;34m(self, flags, **kwargs)\u001b[0m\n\u001b[1;32m    397\u001b[0m             \u001b[0mThe\u001b[0m \u001b[0mPython\u001b[0m \u001b[0mobject\u001b[0m \u001b[0mthat\u001b[0m \u001b[0marrives\u001b[0m \u001b[0;32mas\u001b[0m \u001b[0ma\u001b[0m \u001b[0mmessage\u001b[0m\u001b[0;34m.\u001b[0m\u001b[0;34m\u001b[0m\u001b[0m\n\u001b[1;32m    398\u001b[0m         \"\"\"\n\u001b[0;32m--> 399\u001b[0;31m         \u001b[0mmsg\u001b[0m \u001b[0;34m=\u001b[0m \u001b[0mself\u001b[0m\u001b[0;34m.\u001b[0m\u001b[0mrecv\u001b[0m\u001b[0;34m(\u001b[0m\u001b[0mflags\u001b[0m\u001b[0;34m)\u001b[0m\u001b[0;34m\u001b[0m\u001b[0m\n\u001b[0m\u001b[1;32m    400\u001b[0m         \u001b[0;32mreturn\u001b[0m \u001b[0mjsonapi\u001b[0m\u001b[0;34m.\u001b[0m\u001b[0mloads\u001b[0m\u001b[0;34m(\u001b[0m\u001b[0mmsg\u001b[0m\u001b[0;34m,\u001b[0m \u001b[0;34m**\u001b[0m\u001b[0mkwargs\u001b[0m\u001b[0;34m)\u001b[0m\u001b[0;34m\u001b[0m\u001b[0m\n\u001b[1;32m    401\u001b[0m \u001b[0;34m\u001b[0m\u001b[0m\n",
        "\u001b[0;32m/Users/ebner/anaconda/lib/python2.7/site-packages/zmq/backend/cython/socket.so\u001b[0m in \u001b[0;36mzmq.backend.cython.socket.Socket.recv (zmq/backend/cython/socket.c:5616)\u001b[0;34m()\u001b[0m\n",
        "\u001b[0;32m/Users/ebner/anaconda/lib/python2.7/site-packages/zmq/backend/cython/socket.so\u001b[0m in \u001b[0;36mzmq.backend.cython.socket.Socket.recv (zmq/backend/cython/socket.c:5436)\u001b[0;34m()\u001b[0m\n",
        "\u001b[0;32m/Users/ebner/anaconda/lib/python2.7/site-packages/zmq/backend/cython/socket.so\u001b[0m in \u001b[0;36mzmq.backend.cython.socket._recv_copy (zmq/backend/cython/socket.c:1771)\u001b[0;34m()\u001b[0m\n",
        "\u001b[0;32m/Users/ebner/anaconda/lib/python2.7/site-packages/zmq/backend/cython/socket.so\u001b[0m in \u001b[0;36mzmq.backend.cython.checkrc._check_rc (zmq/backend/cython/socket.c:5863)\u001b[0;34m()\u001b[0m\n",
        "\u001b[0;31mKeyboardInterrupt\u001b[0m: "
       ]
      }
     ],
     "input": [
      "source_ = json.loads(response.text)['test']['url']  # 'tcp://gfa-lc6-64:9999'\n",
      "receive(source_)"
     ],
     "language": "python",
     "prompt_number": 52
    },
    {
     "cell_type": "code",
     "metadata": {},
     "outputs": [
      {
       "output_type": "pyout",
       "prompt_number": 193,
       "text": [
        "<Response [200]>"
       ],
       "metadata": {}
      }
     ],
     "input": [
      "requests.delete('http://localhost:8080/streams/test')"
     ],
     "language": "python",
     "prompt_number": 193
    },
    {
     "cell_type": "code",
     "metadata": {},
     "outputs": [],
     "input": [
      ""
     ],
     "language": "python"
    }
   ]
  }
 ],
 "cells": [],
 "metadata": {
  "name": "",
  "signature": "sha256:38dcfb6814497c1ecb6e50a0506f8524c1ca51d57fd588936ef280054fffb6df"
 },
 "nbformat": 3,
 "nbformat_minor": 0
}